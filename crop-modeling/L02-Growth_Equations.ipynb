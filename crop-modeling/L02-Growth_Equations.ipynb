{
 "cells": [
  {
   "cell_type": "markdown",
   "metadata": {},
   "source": [
    "# Lab 02"
   ]
  },
  {
   "cell_type": "markdown",
   "metadata": {},
   "source": [
    "<div class=\"alert alert-warning\">\n",
    "혹시 수식이나 표가 제대로 보이지 않는다면 상단의 View - Actiavte Command Palette 메뉴에서 \"Trust Notebook\" 명령을 찾아서 실행하기 바랍니다.\n",
    "</div>"
   ]
  },
  {
   "cell_type": "markdown",
   "metadata": {},
   "source": [
    "<div class=\"alert alert-info\">\n",
    "일부 코드가 `#= .. =#`와 같은 형태로 비워져 있는 부분이 있다면 실습 시간 혹은 이후에 해당 부분을 채워넣은 다음 LMS의 레포트 제출 게시판을 통해 정해진 기간 내에 제출하기 바랍니다.\n",
    "</div>"
   ]
  },
  {
   "cell_type": "markdown",
   "metadata": {},
   "source": [
    "Plant Growth Functions"
   ]
  },
  {
   "cell_type": "code",
   "execution_count": 1,
   "metadata": {
    "tags": []
   },
   "outputs": [],
   "source": [
    "using Cropbox"
   ]
  },
  {
   "cell_type": "code",
   "execution_count": 2,
   "metadata": {
    "tags": []
   },
   "outputs": [
    {
     "data": {
      "application/vnd.webio.node+json": {
       "children": [],
       "instanceArgs": {
        "namespace": "html",
        "tag": "div"
       },
       "nodeType": "DOM",
       "props": {},
       "type": "node"
      },
      "text/html": [
       "<div style=\"padding: 1em; background-color: #f8d6da; border: 1px solid #f5c6cb; font-weight: bold;\">\n",
       "<p>The WebIO Jupyter extension was not detected. See the\n",
       "<a href=\"https://juliagizmos.github.io/WebIO.jl/latest/providers/ijulia/\" target=\"_blank\">\n",
       "    WebIO Jupyter integration documentation\n",
       "</a>\n",
       "for more information.\n",
       "</div>\n"
      ],
      "text/plain": [
       "WebIO._IJuliaInit()"
      ]
     },
     "metadata": {
      "@webio": {
       "kernelId": "d709139d-588b-4fee-8d6d-f916525c81c4"
      }
     },
     "output_type": "display_data"
    }
   ],
   "source": [
    "Cropbox.Interact.WebIO.setup(:ijulia)"
   ]
  },
  {
   "cell_type": "markdown",
   "metadata": {},
   "source": [
    "## 1. Growth Equations"
   ]
  },
  {
   "cell_type": "markdown",
   "metadata": {},
   "source": [
    "### 1.1. Exponential Growth Equation\n",
    "\n",
    "- Eq\n",
    "\n",
    "$$\n",
    "\\frac{dW}{dt} = \\mu W\n",
    "$$\n",
    "\n",
    "- Table\n",
    "\n",
    "| Symbol | Value | Units | Description |\n",
    "| :- | :- | :- | :- |\n",
    "| $t$ | - | - | Time unit used in the model |\n",
    "| $\\mu$ | 0.3 | - | Specific growth rate |\n",
    "| $W_0$ | 1 | - | Dry mass at time $t = 0$ |\n",
    "| $W$ | - | - | Current dry mass |"
   ]
  },
  {
   "cell_type": "code",
   "execution_count": 3,
   "metadata": {
    "tags": []
   },
   "outputs": [
    {
     "data": {
      "text/plain": [
       "Expo"
      ]
     },
     "execution_count": 3,
     "metadata": {},
     "output_type": "execute_result"
    }
   ],
   "source": [
    "@system Expo(Controller) begin\n",
    "    μ       => 0.3 ~ preserve(parameter)\n",
    "    W0      => 1   ~ preserve(parameter)\n",
    "    W(μ, W) => μ*W ~ accumulate(init = W0)\n",
    "\n",
    "    t(context.clock.tick) ~ track\n",
    "end"
   ]
  },
  {
   "cell_type": "code",
   "execution_count": 4,
   "metadata": {
    "tags": []
   },
   "outputs": [
    {
     "data": {
      "text/html": [
       "<div><div style = \"float: left;\"><span>11×5 DataFrame</span></div><div style = \"clear: both;\"></div></div><div class = \"data-frame\" style = \"overflow-x: scroll;\"><table class = \"data-frame\" style = \"margin-bottom: 6px;\"><thead><tr class = \"header\"><th class = \"rowNumber\" style = \"font-weight: bold; text-align: right;\">Row</th><th style = \"text-align: left;\">time</th><th style = \"text-align: left;\">μ</th><th style = \"text-align: left;\">W0</th><th style = \"text-align: left;\">W</th><th style = \"text-align: left;\">t</th></tr><tr class = \"subheader headerLastRow\"><th class = \"rowNumber\" style = \"font-weight: bold; text-align: right;\"></th><th title = \"Unitful.Quantity{Float64, 𝐓, Unitful.FreeUnits{(hr,), 𝐓, nothing}}\" style = \"text-align: left;\">Quantity…</th><th title = \"Float64\" style = \"text-align: left;\">Float64</th><th title = \"Float64\" style = \"text-align: left;\">Float64</th><th title = \"Float64\" style = \"text-align: left;\">Float64</th><th title = \"Float64\" style = \"text-align: left;\">Float64</th></tr></thead><tbody><tr><td class = \"rowNumber\" style = \"font-weight: bold; text-align: right;\">1</td><td style = \"text-align: right;\">0.0 hr</td><td style = \"text-align: right;\">0.3</td><td style = \"text-align: right;\">1.0</td><td style = \"text-align: right;\">1.0</td><td style = \"text-align: right;\">0.0</td></tr><tr><td class = \"rowNumber\" style = \"font-weight: bold; text-align: right;\">2</td><td style = \"text-align: right;\">1.0 hr</td><td style = \"text-align: right;\">0.3</td><td style = \"text-align: right;\">1.0</td><td style = \"text-align: right;\">1.3</td><td style = \"text-align: right;\">1.0</td></tr><tr><td class = \"rowNumber\" style = \"font-weight: bold; text-align: right;\">3</td><td style = \"text-align: right;\">2.0 hr</td><td style = \"text-align: right;\">0.3</td><td style = \"text-align: right;\">1.0</td><td style = \"text-align: right;\">1.69</td><td style = \"text-align: right;\">2.0</td></tr><tr><td class = \"rowNumber\" style = \"font-weight: bold; text-align: right;\">4</td><td style = \"text-align: right;\">3.0 hr</td><td style = \"text-align: right;\">0.3</td><td style = \"text-align: right;\">1.0</td><td style = \"text-align: right;\">2.197</td><td style = \"text-align: right;\">3.0</td></tr><tr><td class = \"rowNumber\" style = \"font-weight: bold; text-align: right;\">5</td><td style = \"text-align: right;\">4.0 hr</td><td style = \"text-align: right;\">0.3</td><td style = \"text-align: right;\">1.0</td><td style = \"text-align: right;\">2.8561</td><td style = \"text-align: right;\">4.0</td></tr><tr><td class = \"rowNumber\" style = \"font-weight: bold; text-align: right;\">6</td><td style = \"text-align: right;\">5.0 hr</td><td style = \"text-align: right;\">0.3</td><td style = \"text-align: right;\">1.0</td><td style = \"text-align: right;\">3.71293</td><td style = \"text-align: right;\">5.0</td></tr><tr><td class = \"rowNumber\" style = \"font-weight: bold; text-align: right;\">7</td><td style = \"text-align: right;\">6.0 hr</td><td style = \"text-align: right;\">0.3</td><td style = \"text-align: right;\">1.0</td><td style = \"text-align: right;\">4.82681</td><td style = \"text-align: right;\">6.0</td></tr><tr><td class = \"rowNumber\" style = \"font-weight: bold; text-align: right;\">8</td><td style = \"text-align: right;\">7.0 hr</td><td style = \"text-align: right;\">0.3</td><td style = \"text-align: right;\">1.0</td><td style = \"text-align: right;\">6.27485</td><td style = \"text-align: right;\">7.0</td></tr><tr><td class = \"rowNumber\" style = \"font-weight: bold; text-align: right;\">9</td><td style = \"text-align: right;\">8.0 hr</td><td style = \"text-align: right;\">0.3</td><td style = \"text-align: right;\">1.0</td><td style = \"text-align: right;\">8.15731</td><td style = \"text-align: right;\">8.0</td></tr><tr><td class = \"rowNumber\" style = \"font-weight: bold; text-align: right;\">10</td><td style = \"text-align: right;\">9.0 hr</td><td style = \"text-align: right;\">0.3</td><td style = \"text-align: right;\">1.0</td><td style = \"text-align: right;\">10.6045</td><td style = \"text-align: right;\">9.0</td></tr><tr><td class = \"rowNumber\" style = \"font-weight: bold; text-align: right;\">11</td><td style = \"text-align: right;\">10.0 hr</td><td style = \"text-align: right;\">0.3</td><td style = \"text-align: right;\">1.0</td><td style = \"text-align: right;\">13.7858</td><td style = \"text-align: right;\">10.0</td></tr></tbody></table></div>"
      ],
      "text/latex": [
       "\\begin{tabular}{r|ccccc}\n",
       "\t& time & μ & W0 & W & t\\\\\n",
       "\t\\hline\n",
       "\t& Quantity… & Float64 & Float64 & Float64 & Float64\\\\\n",
       "\t\\hline\n",
       "\t1 & 0.0 hr & 0.3 & 1.0 & 1.0 & 0.0 \\\\\n",
       "\t2 & 1.0 hr & 0.3 & 1.0 & 1.3 & 1.0 \\\\\n",
       "\t3 & 2.0 hr & 0.3 & 1.0 & 1.69 & 2.0 \\\\\n",
       "\t4 & 3.0 hr & 0.3 & 1.0 & 2.197 & 3.0 \\\\\n",
       "\t5 & 4.0 hr & 0.3 & 1.0 & 2.8561 & 4.0 \\\\\n",
       "\t6 & 5.0 hr & 0.3 & 1.0 & 3.71293 & 5.0 \\\\\n",
       "\t7 & 6.0 hr & 0.3 & 1.0 & 4.82681 & 6.0 \\\\\n",
       "\t8 & 7.0 hr & 0.3 & 1.0 & 6.27485 & 7.0 \\\\\n",
       "\t9 & 8.0 hr & 0.3 & 1.0 & 8.15731 & 8.0 \\\\\n",
       "\t10 & 9.0 hr & 0.3 & 1.0 & 10.6045 & 9.0 \\\\\n",
       "\t11 & 10.0 hr & 0.3 & 1.0 & 13.7858 & 10.0 \\\\\n",
       "\\end{tabular}\n"
      ],
      "text/plain": [
       "\u001B[1m11×5 DataFrame\n",
       "\u001B[1m Row │\u001B[1m time      \u001B[1m μ       \u001B[1m W0      \u001B[1m W        \u001B[1m t\n",
       "     │\u001B[90m Quantity… \u001B[90m Float64 \u001B[90m Float64 \u001B[90m Float64  \u001B[90m Float64\n",
       "─────┼────────────────────────────────────────────────\n",
       "   1 │    0.0 hr      0.3      1.0   1.0          0.0\n",
       "   2 │    1.0 hr      0.3      1.0   1.3          1.0\n",
       "   3 │    2.0 hr      0.3      1.0   1.69         2.0\n",
       "   4 │    3.0 hr      0.3      1.0   2.197        3.0\n",
       "   5 │    4.0 hr      0.3      1.0   2.8561       4.0\n",
       "   6 │    5.0 hr      0.3      1.0   3.71293      5.0\n",
       "   7 │    6.0 hr      0.3      1.0   4.82681      6.0\n",
       "   8 │    7.0 hr      0.3      1.0   6.27485      7.0\n",
       "   9 │    8.0 hr      0.3      1.0   8.15731      8.0\n",
       "  10 │    9.0 hr      0.3      1.0  10.6045       9.0\n",
       "  11 │   10.0 hr      0.3      1.0  13.7858      10.0"
      ]
     },
     "execution_count": 4,
     "metadata": {},
     "output_type": "execute_result"
    }
   ],
   "source": [
    "r11 = simulate(Expo, stop = 10)"
   ]
  },
  {
   "cell_type": "code",
   "execution_count": 5,
   "metadata": {
    "tags": []
   },
   "outputs": [
    {
     "data": {
      "image/svg+xml": [
       "<?xml version=\"1.0\" encoding=\"UTF-8\"?>\n",
       "<svg xmlns=\"http://www.w3.org/2000/svg\"\n",
       "     xmlns:xlink=\"http://www.w3.org/1999/xlink\"\n",
       "     xmlns:gadfly=\"http://www.gadflyjl.org/ns\"\n",
       "     version=\"1.2\"\n",
       "     width=\"141.42mm\" height=\"100mm\" viewBox=\"0 0 141.42 100\"\n",
       "     stroke=\"none\"\n",
       "     fill=\"#000000\"\n",
       "     stroke-width=\"0.3\"\n",
       "     font-size=\"3.88\"\n",
       ">\n",
       "<defs>\n",
       "  <marker id=\"arrow\" markerWidth=\"15\" markerHeight=\"7\" refX=\"5\" refY=\"3.5\" orient=\"auto\" markerUnits=\"strokeWidth\">\n",
       "    <path d=\"M0,0 L15,3.5 L0,7 z\" stroke=\"context-stroke\" fill=\"context-stroke\"/>\n",
       "  </marker>\n",
       "</defs>\n",
       "<g stroke=\"#000000\" stroke-opacity=\"0.000\" fill=\"#FFFFFF\" id=\"img-44a88e72-1\">\n",
       "  <g transform=\"translate(70.71,50)\">\n",
       "    <path d=\"M-70.71,-50 L70.71,-50 70.71,50 -70.71,50  z\" class=\"primitive\"/>\n",
       "  </g>\n",
       "</g>\n",
       "<g class=\"plotroot xscalable yscalable\" id=\"img-44a88e72-2\">\n",
       "  <g font-size=\"3.53\" font-family=\"'PT Sans','Helvetica Neue','Helvetica',sans-serif\" fill=\"#564A55\" stroke=\"#000000\" stroke-opacity=\"0.000\" id=\"img-44a88e72-3\">\n",
       "    <g transform=\"translate(69.9,93.72)\">\n",
       "      <g class=\"primitive\">\n",
       "        <text text-anchor=\"middle\" dy=\"0.6em\">t</text>\n",
       "      </g>\n",
       "    </g>\n",
       "  </g>\n",
       "  <g class=\"guide xlabels\" font-size=\"2.82\" font-family=\"'PT Sans Caption','Helvetica Neue','Helvetica',sans-serif\" fill=\"#6C606B\" id=\"img-44a88e72-4\">\n",
       "    <g transform=\"translate(12.35,87.04)\">\n",
       "      <g class=\"primitive\">\n",
       "        <text text-anchor=\"middle\" dy=\"0.6em\">0</text>\n",
       "      </g>\n",
       "    </g>\n",
       "    <g transform=\"translate(69.9,87.04)\">\n",
       "      <g class=\"primitive\">\n",
       "        <text text-anchor=\"middle\" dy=\"0.6em\">5</text>\n",
       "      </g>\n",
       "    </g>\n",
       "    <g transform=\"translate(127.46,87.04)\">\n",
       "      <g class=\"primitive\">\n",
       "        <text text-anchor=\"middle\" dy=\"0.6em\">10</text>\n",
       "      </g>\n",
       "    </g>\n",
       "  </g>\n",
       "  <g class=\"guide colorkey\" id=\"img-44a88e72-5\">\n",
       "    <g fill=\"#4C404B\" font-size=\"2.82\" font-family=\"'PT Sans','Helvetica Neue','Helvetica',sans-serif\" id=\"img-44a88e72-6\">\n",
       "      <g transform=\"translate(134.09,47.75)\" id=\"img-44a88e72-7\">\n",
       "        <g class=\"primitive\">\n",
       "          <text dy=\"0.35em\">W</text>\n",
       "        </g>\n",
       "      </g>\n",
       "    </g>\n",
       "    <g stroke-width=\"0.3\" id=\"img-44a88e72-8\">\n",
       "      <g stroke=\"#FFFFFF\" stroke-opacity=\"0.000\" fill-opacity=\"1\" fill=\"#00BFFF\" id=\"img-44a88e72-9\">\n",
       "        <g transform=\"translate(131.27,47.75)\" id=\"img-44a88e72-10\">\n",
       "          <circle cx=\"0\" cy=\"0\" r=\"0.7\" class=\"primitive\"/>\n",
       "        </g>\n",
       "      </g>\n",
       "    </g>\n",
       "    <g fill=\"#362A35\" font-size=\"3.18\" font-family=\"'PT Sans','Helvetica Neue','Helvetica',sans-serif\" stroke=\"#000000\" stroke-opacity=\"0.000\" id=\"img-44a88e72-11\">\n",
       "      <g transform=\"translate(130.46,44.44)\" id=\"img-44a88e72-12\">\n",
       "        <g class=\"primitive\">\n",
       "          <text dy=\"-0em\"></text>\n",
       "        </g>\n",
       "      </g>\n",
       "    </g>\n",
       "  </g>\n",
       "  <g clip-path=\"url(#img-44a88e72-13)\">\n",
       "    <g id=\"img-44a88e72-14\">\n",
       "      <g pointer-events=\"visible\" stroke-width=\"0.3\" fill=\"#000000\" fill-opacity=\"0.000\" stroke=\"#000000\" stroke-opacity=\"0.000\" class=\"guide background\" id=\"img-44a88e72-15\">\n",
       "        <g transform=\"translate(69.9,45.52)\" id=\"img-44a88e72-16\">\n",
       "          <path d=\"M-59.56,-40.52 L59.56,-40.52 59.56,40.52 -59.56,40.52  z\" class=\"primitive\"/>\n",
       "        </g>\n",
       "      </g>\n",
       "      <g class=\"guide ygridlines xfixed\" stroke-dasharray=\"0.5,0.5\" stroke-width=\"0.2\" stroke=\"#D0D0E0\" id=\"img-44a88e72-17\">\n",
       "        <g transform=\"translate(69.9,60.34)\" id=\"img-44a88e72-18\">\n",
       "          <path fill=\"none\" d=\"M-59.56,0 L59.56,0 \" class=\"primitive\"/>\n",
       "        </g>\n",
       "        <g transform=\"translate(69.9,30.71)\" id=\"img-44a88e72-19\">\n",
       "          <path fill=\"none\" d=\"M-59.56,0 L59.56,0 \" class=\"primitive\"/>\n",
       "        </g>\n",
       "      </g>\n",
       "      <g class=\"guide xgridlines yfixed\" stroke-dasharray=\"0.5,0.5\" stroke-width=\"0.2\" stroke=\"#D0D0E0\" id=\"img-44a88e72-20\">\n",
       "        <g transform=\"translate(12.35,45.52)\" id=\"img-44a88e72-21\">\n",
       "          <path fill=\"none\" d=\"M0,-40.52 L0,40.52 \" class=\"primitive\"/>\n",
       "        </g>\n",
       "        <g transform=\"translate(69.9,45.52)\" id=\"img-44a88e72-22\">\n",
       "          <path fill=\"none\" d=\"M0,-40.52 L0,40.52 \" class=\"primitive\"/>\n",
       "        </g>\n",
       "        <g transform=\"translate(127.46,45.52)\" id=\"img-44a88e72-23\">\n",
       "          <path fill=\"none\" d=\"M0,-40.52 L0,40.52 \" class=\"primitive\"/>\n",
       "        </g>\n",
       "      </g>\n",
       "      <g class=\"plotpanel\" id=\"img-44a88e72-24\">\n",
       "        <metadata>\n",
       "          <boundingbox value=\"10.346666666666664mm 5.0mm 119.11468957064285mm 81.04333333333334mm\"/>\n",
       "          <unitbox value=\"-0.1737397726962251 14.337472418119672 10.347479545392451 -13.674944836239346\"/>\n",
       "        </metadata>\n",
       "        <g stroke-width=\"0.3\" fill=\"#000000\" fill-opacity=\"0.000\" class=\"geometry\" id=\"img-44a88e72-25\">\n",
       "          <g class=\"color_LCHab{Float32}(70.0f0,60.0f0,240.0f0)\" stroke-dasharray=\"none\" stroke-opacity=\"1\" stroke=\"#00BFFF\" id=\"img-44a88e72-26\">\n",
       "            <g transform=\"translate(69.9,59.58)\" id=\"img-44a88e72-27\">\n",
       "              <path fill=\"none\" d=\"M-57.56,24.46 L-46.05,22.68 -34.53,20.37 -23.02,17.37 -11.51,13.46 0,8.38 11.51,1.78 23.02,-6.8 34.53,-17.95 46.05,-32.46 57.56,-51.31 \" class=\"primitive\"/>\n",
       "            </g>\n",
       "          </g>\n",
       "        </g>\n",
       "      </g>\n",
       "    </g>\n",
       "  </g>\n",
       "  <g class=\"guide ylabels\" font-size=\"2.82\" font-family=\"'PT Sans Caption','Helvetica Neue','Helvetica',sans-serif\" fill=\"#6C606B\" id=\"img-44a88e72-28\">\n",
       "    <g transform=\"translate(9.35,60.34)\" id=\"img-44a88e72-29\">\n",
       "      <g class=\"primitive\">\n",
       "        <text text-anchor=\"end\" dy=\"0.35em\">5</text>\n",
       "      </g>\n",
       "    </g>\n",
       "    <g transform=\"translate(9.35,30.71)\" id=\"img-44a88e72-30\">\n",
       "      <g class=\"primitive\">\n",
       "        <text text-anchor=\"end\" dy=\"0.35em\">10</text>\n",
       "      </g>\n",
       "    </g>\n",
       "  </g>\n",
       "</g>\n",
       "<defs>\n",
       "  <clipPath id=\"img-44a88e72-13\">\n",
       "    <path d=\"M10.35,5 L129.46,5 129.46,86.04 10.35,86.04 \" />\n",
       "  </clipPath>\n",
       "</defs>\n",
       "</svg>\n"
      ],
      "text/html": [
       "<?xml version=\"1.0\" encoding=\"UTF-8\"?>\n",
       "<svg xmlns=\"http://www.w3.org/2000/svg\"\n",
       "     xmlns:xlink=\"http://www.w3.org/1999/xlink\"\n",
       "     xmlns:gadfly=\"http://www.gadflyjl.org/ns\"\n",
       "     version=\"1.2\"\n",
       "     width=\"141.42mm\" height=\"100mm\" viewBox=\"0 0 141.42 100\"\n",
       "     stroke=\"none\"\n",
       "     fill=\"#000000\"\n",
       "     stroke-width=\"0.3\"\n",
       "     font-size=\"3.88\"\n",
       ">\n",
       "<defs>\n",
       "  <marker id=\"arrow\" markerWidth=\"15\" markerHeight=\"7\" refX=\"5\" refY=\"3.5\" orient=\"auto\" markerUnits=\"strokeWidth\">\n",
       "    <path d=\"M0,0 L15,3.5 L0,7 z\" stroke=\"context-stroke\" fill=\"context-stroke\"/>\n",
       "  </marker>\n",
       "</defs>\n",
       "<g stroke=\"#000000\" stroke-opacity=\"0.000\" fill=\"#FFFFFF\" id=\"img-b30d3c72-1\">\n",
       "  <g transform=\"translate(70.71,50)\">\n",
       "    <path d=\"M-70.71,-50 L70.71,-50 70.71,50 -70.71,50  z\" class=\"primitive\"/>\n",
       "  </g>\n",
       "</g>\n",
       "<g class=\"plotroot xscalable yscalable\" id=\"img-b30d3c72-2\">\n",
       "  <g font-size=\"3.53\" font-family=\"'PT Sans','Helvetica Neue','Helvetica',sans-serif\" fill=\"#564A55\" stroke=\"#000000\" stroke-opacity=\"0.000\" id=\"img-b30d3c72-3\">\n",
       "    <g transform=\"translate(69.9,93.72)\">\n",
       "      <g class=\"primitive\">\n",
       "        <text text-anchor=\"middle\" dy=\"0.6em\">t</text>\n",
       "      </g>\n",
       "    </g>\n",
       "  </g>\n",
       "  <g class=\"guide xlabels\" font-size=\"2.82\" font-family=\"'PT Sans Caption','Helvetica Neue','Helvetica',sans-serif\" fill=\"#6C606B\" id=\"img-b30d3c72-4\">\n",
       "    <g transform=\"translate(12.35,87.04)\">\n",
       "      <g class=\"primitive\">\n",
       "        <text text-anchor=\"middle\" dy=\"0.6em\">0</text>\n",
       "      </g>\n",
       "    </g>\n",
       "    <g transform=\"translate(69.9,87.04)\">\n",
       "      <g class=\"primitive\">\n",
       "        <text text-anchor=\"middle\" dy=\"0.6em\">5</text>\n",
       "      </g>\n",
       "    </g>\n",
       "    <g transform=\"translate(127.46,87.04)\">\n",
       "      <g class=\"primitive\">\n",
       "        <text text-anchor=\"middle\" dy=\"0.6em\">10</text>\n",
       "      </g>\n",
       "    </g>\n",
       "  </g>\n",
       "  <g class=\"guide colorkey\" id=\"img-b30d3c72-5\">\n",
       "    <g fill=\"#4C404B\" font-size=\"2.82\" font-family=\"'PT Sans','Helvetica Neue','Helvetica',sans-serif\" id=\"img-b30d3c72-6\">\n",
       "      <g transform=\"translate(134.09,47.75)\" id=\"img-b30d3c72-7\">\n",
       "        <g class=\"primitive\">\n",
       "          <text dy=\"0.35em\">W</text>\n",
       "        </g>\n",
       "      </g>\n",
       "    </g>\n",
       "    <g stroke-width=\"0.3\" id=\"img-b30d3c72-8\">\n",
       "      <g stroke=\"#FFFFFF\" stroke-opacity=\"0.000\" fill-opacity=\"1\" fill=\"#00BFFF\" id=\"img-b30d3c72-9\">\n",
       "        <g transform=\"translate(131.27,47.75)\" id=\"img-b30d3c72-10\">\n",
       "          <circle cx=\"0\" cy=\"0\" r=\"0.7\" class=\"primitive\"/>\n",
       "        </g>\n",
       "      </g>\n",
       "    </g>\n",
       "    <g fill=\"#362A35\" font-size=\"3.18\" font-family=\"'PT Sans','Helvetica Neue','Helvetica',sans-serif\" stroke=\"#000000\" stroke-opacity=\"0.000\" id=\"img-b30d3c72-11\">\n",
       "      <g transform=\"translate(130.46,44.44)\" id=\"img-b30d3c72-12\">\n",
       "        <g class=\"primitive\">\n",
       "          <text dy=\"-0em\"></text>\n",
       "        </g>\n",
       "      </g>\n",
       "    </g>\n",
       "  </g>\n",
       "  <g clip-path=\"url(#img-b30d3c72-13)\">\n",
       "    <g id=\"img-b30d3c72-14\">\n",
       "      <g pointer-events=\"visible\" stroke-width=\"0.3\" fill=\"#000000\" fill-opacity=\"0.000\" stroke=\"#000000\" stroke-opacity=\"0.000\" class=\"guide background\" id=\"img-b30d3c72-15\">\n",
       "        <g transform=\"translate(69.9,45.52)\" id=\"img-b30d3c72-16\">\n",
       "          <path d=\"M-59.56,-40.52 L59.56,-40.52 59.56,40.52 -59.56,40.52  z\" class=\"primitive\"/>\n",
       "        </g>\n",
       "      </g>\n",
       "      <g class=\"guide ygridlines xfixed\" stroke-dasharray=\"0.5,0.5\" stroke-width=\"0.2\" stroke=\"#D0D0E0\" id=\"img-b30d3c72-17\">\n",
       "        <g transform=\"translate(69.9,60.34)\" id=\"img-b30d3c72-18\">\n",
       "          <path fill=\"none\" d=\"M-59.56,0 L59.56,0 \" class=\"primitive\"/>\n",
       "        </g>\n",
       "        <g transform=\"translate(69.9,30.71)\" id=\"img-b30d3c72-19\">\n",
       "          <path fill=\"none\" d=\"M-59.56,0 L59.56,0 \" class=\"primitive\"/>\n",
       "        </g>\n",
       "      </g>\n",
       "      <g class=\"guide xgridlines yfixed\" stroke-dasharray=\"0.5,0.5\" stroke-width=\"0.2\" stroke=\"#D0D0E0\" id=\"img-b30d3c72-20\">\n",
       "        <g transform=\"translate(12.35,45.52)\" id=\"img-b30d3c72-21\">\n",
       "          <path fill=\"none\" d=\"M0,-40.52 L0,40.52 \" class=\"primitive\"/>\n",
       "        </g>\n",
       "        <g transform=\"translate(69.9,45.52)\" id=\"img-b30d3c72-22\">\n",
       "          <path fill=\"none\" d=\"M0,-40.52 L0,40.52 \" class=\"primitive\"/>\n",
       "        </g>\n",
       "        <g transform=\"translate(127.46,45.52)\" id=\"img-b30d3c72-23\">\n",
       "          <path fill=\"none\" d=\"M0,-40.52 L0,40.52 \" class=\"primitive\"/>\n",
       "        </g>\n",
       "      </g>\n",
       "      <g class=\"plotpanel\" id=\"img-b30d3c72-24\">\n",
       "        <metadata>\n",
       "          <boundingbox value=\"10.346666666666664mm 5.0mm 119.11468957064285mm 81.04333333333334mm\"/>\n",
       "          <unitbox value=\"-0.1737397726962251 14.337472418119672 10.347479545392451 -13.674944836239346\"/>\n",
       "        </metadata>\n",
       "        <g stroke-width=\"0.3\" fill=\"#000000\" fill-opacity=\"0.000\" class=\"geometry\" id=\"img-b30d3c72-25\">\n",
       "          <g class=\"color_LCHab{Float32}(70.0f0,60.0f0,240.0f0)\" stroke-dasharray=\"none\" stroke-opacity=\"1\" stroke=\"#00BFFF\" id=\"img-b30d3c72-26\">\n",
       "            <g transform=\"translate(69.9,59.58)\" id=\"img-b30d3c72-27\">\n",
       "              <path fill=\"none\" d=\"M-57.56,24.46 L-46.05,22.68 -34.53,20.37 -23.02,17.37 -11.51,13.46 0,8.38 11.51,1.78 23.02,-6.8 34.53,-17.95 46.05,-32.46 57.56,-51.31 \" class=\"primitive\"/>\n",
       "            </g>\n",
       "          </g>\n",
       "        </g>\n",
       "      </g>\n",
       "    </g>\n",
       "  </g>\n",
       "  <g class=\"guide ylabels\" font-size=\"2.82\" font-family=\"'PT Sans Caption','Helvetica Neue','Helvetica',sans-serif\" fill=\"#6C606B\" id=\"img-b30d3c72-28\">\n",
       "    <g transform=\"translate(9.35,60.34)\" id=\"img-b30d3c72-29\">\n",
       "      <g class=\"primitive\">\n",
       "        <text text-anchor=\"end\" dy=\"0.35em\">5</text>\n",
       "      </g>\n",
       "    </g>\n",
       "    <g transform=\"translate(9.35,30.71)\" id=\"img-b30d3c72-30\">\n",
       "      <g class=\"primitive\">\n",
       "        <text text-anchor=\"end\" dy=\"0.35em\">10</text>\n",
       "      </g>\n",
       "    </g>\n",
       "  </g>\n",
       "</g>\n",
       "<defs>\n",
       "  <clipPath id=\"img-b30d3c72-13\">\n",
       "    <path d=\"M10.35,5 L129.46,5 129.46,86.04 10.35,86.04 \" />\n",
       "  </clipPath>\n",
       "</defs>\n",
       "</svg>\n"
      ],
      "text/plain": [
       "\"<Cropbox.Plot{Gadfly.Plot}>\""
      ]
     },
     "execution_count": 5,
     "metadata": {},
     "output_type": "execute_result"
    }
   ],
   "source": [
    "visualize(r11, :t, :W, kind = :line)"
   ]
  },
  {
   "cell_type": "code",
   "execution_count": 6,
   "metadata": {
    "tags": []
   },
   "outputs": [
    {
     "data": {
      "text/html": [
       "<p style=\"font-family: monospace\">Config for 1 system:</p>\n",
       "<table style=\"font-family: monospace\">\n",
       "<tr style=\"background-color: transparent\">\n",
       "<td colspan=\"3\" style=\"text-align: left; padding: 2px; padding-left: 20px; color: rebeccapurple\">Expo</th>\n",
       "</tr>\n",
       "<tr style=\"background-color: transparent\"><td style=\"text-align: left; padding: 2px; padding-left: 40px; color: royalblue\">μ</td><td style=\"text-align: center; padding: 2px 10px 2px 10px; color: gray\">=</td><td style=\"text-align: left; padding: 2px;\">0.5</td></tr>\n",
       "<tr style=\"background-color: transparent\"><td style=\"text-align: left; padding: 2px; padding-left: 40px; color: royalblue\">W0</td><td style=\"text-align: center; padding: 2px 10px 2px 10px; color: gray\">=</td><td style=\"text-align: left; padding: 2px;\">0.1</td></tr>\n",
       "</table>\n"
      ],
      "text/plain": [
       "Config for 1 system:\n",
       "  \u001B[95mExpo\u001B[39m\n",
       "    \u001B[94mμ \u001B[39m\u001B[90m = \u001B[39m0.5\n",
       "    \u001B[94mW0\u001B[39m\u001B[90m = \u001B[39m0.1"
      ]
     },
     "execution_count": 6,
     "metadata": {},
     "output_type": "execute_result"
    }
   ],
   "source": [
    "c11 = @config Expo => (\n",
    "    :μ  => 0.5,\n",
    "    :W0 => 0.1,\n",
    ")"
   ]
  },
  {
   "cell_type": "code",
   "execution_count": 7,
   "metadata": {
    "tags": []
   },
   "outputs": [
    {
     "data": {
      "image/svg+xml": [
       "<?xml version=\"1.0\" encoding=\"UTF-8\"?>\n",
       "<svg xmlns=\"http://www.w3.org/2000/svg\"\n",
       "     xmlns:xlink=\"http://www.w3.org/1999/xlink\"\n",
       "     xmlns:gadfly=\"http://www.gadflyjl.org/ns\"\n",
       "     version=\"1.2\"\n",
       "     width=\"141.42mm\" height=\"100mm\" viewBox=\"0 0 141.42 100\"\n",
       "     stroke=\"none\"\n",
       "     fill=\"#000000\"\n",
       "     stroke-width=\"0.3\"\n",
       "     font-size=\"3.88\"\n",
       ">\n",
       "<defs>\n",
       "  <marker id=\"arrow\" markerWidth=\"15\" markerHeight=\"7\" refX=\"5\" refY=\"3.5\" orient=\"auto\" markerUnits=\"strokeWidth\">\n",
       "    <path d=\"M0,0 L15,3.5 L0,7 z\" stroke=\"context-stroke\" fill=\"context-stroke\"/>\n",
       "  </marker>\n",
       "</defs>\n",
       "<g stroke=\"#000000\" stroke-opacity=\"0.000\" fill=\"#FFFFFF\" id=\"img-e6068241-1\">\n",
       "  <g transform=\"translate(70.71,50)\">\n",
       "    <path d=\"M-70.71,-50 L70.71,-50 70.71,50 -70.71,50  z\" class=\"primitive\"/>\n",
       "  </g>\n",
       "</g>\n",
       "<g class=\"plotroot xscalable yscalable\" id=\"img-e6068241-2\">\n",
       "  <g font-size=\"3.53\" font-family=\"'PT Sans','Helvetica Neue','Helvetica',sans-serif\" fill=\"#564A55\" stroke=\"#000000\" stroke-opacity=\"0.000\" id=\"img-e6068241-3\">\n",
       "    <g transform=\"translate(76.01,93.72)\">\n",
       "      <g class=\"primitive\">\n",
       "        <text text-anchor=\"middle\" dy=\"0.6em\">t</text>\n",
       "      </g>\n",
       "    </g>\n",
       "  </g>\n",
       "  <g class=\"guide xlabels\" font-size=\"2.82\" font-family=\"'PT Sans Caption','Helvetica Neue','Helvetica',sans-serif\" fill=\"#6C606B\" id=\"img-e6068241-4\">\n",
       "    <g transform=\"translate(17.59,87.04)\">\n",
       "      <g class=\"primitive\">\n",
       "        <text text-anchor=\"middle\" dy=\"0.6em\">0</text>\n",
       "      </g>\n",
       "    </g>\n",
       "    <g transform=\"translate(76.01,87.04)\">\n",
       "      <g class=\"primitive\">\n",
       "        <text text-anchor=\"middle\" dy=\"0.6em\">5</text>\n",
       "      </g>\n",
       "    </g>\n",
       "    <g transform=\"translate(134.42,87.04)\">\n",
       "      <g class=\"primitive\">\n",
       "        <text text-anchor=\"middle\" dy=\"0.6em\">10</text>\n",
       "      </g>\n",
       "    </g>\n",
       "  </g>\n",
       "  <g clip-path=\"url(#img-e6068241-5)\">\n",
       "    <g id=\"img-e6068241-6\">\n",
       "      <g pointer-events=\"visible\" stroke-width=\"0.3\" fill=\"#000000\" fill-opacity=\"0.000\" stroke=\"#000000\" stroke-opacity=\"0.000\" class=\"guide background\" id=\"img-e6068241-7\">\n",
       "        <g transform=\"translate(76.01,45.52)\" id=\"img-e6068241-8\">\n",
       "          <path d=\"M-60.42,-40.52 L60.42,-40.52 60.42,40.52 -60.42,40.52  z\" class=\"primitive\"/>\n",
       "        </g>\n",
       "      </g>\n",
       "      <g class=\"guide ygridlines xfixed\" stroke-dasharray=\"0.5,0.5\" stroke-width=\"0.2\" stroke=\"#D0D0E0\" id=\"img-e6068241-9\">\n",
       "        <g transform=\"translate(76.01,84.04)\" id=\"img-e6068241-10\">\n",
       "          <path fill=\"none\" d=\"M-60.42,0 L60.42,0 \" class=\"primitive\"/>\n",
       "        </g>\n",
       "        <g transform=\"translate(76.01,71.2)\" id=\"img-e6068241-11\">\n",
       "          <path fill=\"none\" d=\"M-60.42,0 L60.42,0 \" class=\"primitive\"/>\n",
       "        </g>\n",
       "        <g transform=\"translate(76.01,58.36)\" id=\"img-e6068241-12\">\n",
       "          <path fill=\"none\" d=\"M-60.42,0 L60.42,0 \" class=\"primitive\"/>\n",
       "        </g>\n",
       "        <g transform=\"translate(76.01,45.52)\" id=\"img-e6068241-13\">\n",
       "          <path fill=\"none\" d=\"M-60.42,0 L60.42,0 \" class=\"primitive\"/>\n",
       "        </g>\n",
       "        <g transform=\"translate(76.01,32.68)\" id=\"img-e6068241-14\">\n",
       "          <path fill=\"none\" d=\"M-60.42,0 L60.42,0 \" class=\"primitive\"/>\n",
       "        </g>\n",
       "        <g transform=\"translate(76.01,19.84)\" id=\"img-e6068241-15\">\n",
       "          <path fill=\"none\" d=\"M-60.42,0 L60.42,0 \" class=\"primitive\"/>\n",
       "        </g>\n",
       "        <g transform=\"translate(76.01,7)\" id=\"img-e6068241-16\">\n",
       "          <path fill=\"none\" d=\"M-60.42,0 L60.42,0 \" class=\"primitive\"/>\n",
       "        </g>\n",
       "      </g>\n",
       "      <g class=\"guide xgridlines yfixed\" stroke-dasharray=\"0.5,0.5\" stroke-width=\"0.2\" stroke=\"#D0D0E0\" id=\"img-e6068241-17\">\n",
       "        <g transform=\"translate(17.59,45.52)\" id=\"img-e6068241-18\">\n",
       "          <path fill=\"none\" d=\"M0,-40.52 L0,40.52 \" class=\"primitive\"/>\n",
       "        </g>\n",
       "        <g transform=\"translate(76.01,45.52)\" id=\"img-e6068241-19\">\n",
       "          <path fill=\"none\" d=\"M0,-40.52 L0,40.52 \" class=\"primitive\"/>\n",
       "        </g>\n",
       "        <g transform=\"translate(134.42,45.52)\" id=\"img-e6068241-20\">\n",
       "          <path fill=\"none\" d=\"M0,-40.52 L0,40.52 \" class=\"primitive\"/>\n",
       "        </g>\n",
       "      </g>\n",
       "      <g class=\"plotpanel\" id=\"img-e6068241-21\">\n",
       "        <metadata>\n",
       "          <boundingbox value=\"15.58999999999999mm 5.0mm 120.83135623730952mm 81.04333333333334mm\"/>\n",
       "          <unitbox value=\"-0.17118691971165442 6.155756500670618 10.34237383942331 -6.311513001341236\"/>\n",
       "        </metadata>\n",
       "        <g stroke-width=\"0.3\" fill=\"#000000\" fill-opacity=\"0.000\" class=\"geometry\" id=\"img-e6068241-22\">\n",
       "          <g class=\"color_LCHab{Float32}(70.0f0,60.0f0,240.0f0)\" stroke-dasharray=\"none\" stroke-opacity=\"1\" stroke=\"#00BFFF\" id=\"img-e6068241-23\">\n",
       "            <g transform=\"translate(76.01,64.08)\" id=\"img-e6068241-24\">\n",
       "              <path fill=\"none\" d=\"M-58.42,18.68 L-46.73,18.03 -35.05,17.07 -23.37,15.63 -11.68,13.46 0,10.21 11.68,5.33 23.37,-1.98 35.05,-12.95 46.73,-29.4 58.42,-54.08 \" class=\"primitive\"/>\n",
       "            </g>\n",
       "          </g>\n",
       "        </g>\n",
       "      </g>\n",
       "    </g>\n",
       "  </g>\n",
       "  <g class=\"guide ylabels\" font-size=\"2.82\" font-family=\"'PT Sans Caption','Helvetica Neue','Helvetica',sans-serif\" fill=\"#6C606B\" id=\"img-e6068241-25\">\n",
       "    <g transform=\"translate(14.59,84.04)\" id=\"img-e6068241-26\">\n",
       "      <g class=\"primitive\">\n",
       "        <text text-anchor=\"end\" dy=\"0.35em\">0</text>\n",
       "      </g>\n",
       "    </g>\n",
       "    <g transform=\"translate(14.59,71.2)\" id=\"img-e6068241-27\">\n",
       "      <g class=\"primitive\">\n",
       "        <text text-anchor=\"end\" dy=\"0.35em\">1</text>\n",
       "      </g>\n",
       "    </g>\n",
       "    <g transform=\"translate(14.59,58.36)\" id=\"img-e6068241-28\">\n",
       "      <g class=\"primitive\">\n",
       "        <text text-anchor=\"end\" dy=\"0.35em\">2</text>\n",
       "      </g>\n",
       "    </g>\n",
       "    <g transform=\"translate(14.59,45.52)\" id=\"img-e6068241-29\">\n",
       "      <g class=\"primitive\">\n",
       "        <text text-anchor=\"end\" dy=\"0.35em\">3</text>\n",
       "      </g>\n",
       "    </g>\n",
       "    <g transform=\"translate(14.59,32.68)\" id=\"img-e6068241-30\">\n",
       "      <g class=\"primitive\">\n",
       "        <text text-anchor=\"end\" dy=\"0.35em\">4</text>\n",
       "      </g>\n",
       "    </g>\n",
       "    <g transform=\"translate(14.59,19.84)\" id=\"img-e6068241-31\">\n",
       "      <g class=\"primitive\">\n",
       "        <text text-anchor=\"end\" dy=\"0.35em\">5</text>\n",
       "      </g>\n",
       "    </g>\n",
       "    <g transform=\"translate(14.59,7)\" id=\"img-e6068241-32\">\n",
       "      <g class=\"primitive\">\n",
       "        <text text-anchor=\"end\" dy=\"0.35em\">6</text>\n",
       "      </g>\n",
       "    </g>\n",
       "  </g>\n",
       "  <g font-size=\"3.53\" font-family=\"'PT Sans','Helvetica Neue','Helvetica',sans-serif\" fill=\"#564A55\" stroke=\"#000000\" stroke-opacity=\"0.000\" id=\"img-e6068241-33\">\n",
       "    <g transform=\"translate(9.92,45.52)\" id=\"img-e6068241-34\">\n",
       "      <g class=\"primitive\">\n",
       "        <text text-anchor=\"end\" dy=\"0.35em\">W</text>\n",
       "      </g>\n",
       "    </g>\n",
       "  </g>\n",
       "</g>\n",
       "<defs>\n",
       "  <clipPath id=\"img-e6068241-5\">\n",
       "    <path d=\"M15.59,5 L136.42,5 136.42,86.04 15.59,86.04 \" />\n",
       "  </clipPath>\n",
       "</defs>\n",
       "</svg>\n"
      ],
      "text/html": [
       "<?xml version=\"1.0\" encoding=\"UTF-8\"?>\n",
       "<svg xmlns=\"http://www.w3.org/2000/svg\"\n",
       "     xmlns:xlink=\"http://www.w3.org/1999/xlink\"\n",
       "     xmlns:gadfly=\"http://www.gadflyjl.org/ns\"\n",
       "     version=\"1.2\"\n",
       "     width=\"141.42mm\" height=\"100mm\" viewBox=\"0 0 141.42 100\"\n",
       "     stroke=\"none\"\n",
       "     fill=\"#000000\"\n",
       "     stroke-width=\"0.3\"\n",
       "     font-size=\"3.88\"\n",
       ">\n",
       "<defs>\n",
       "  <marker id=\"arrow\" markerWidth=\"15\" markerHeight=\"7\" refX=\"5\" refY=\"3.5\" orient=\"auto\" markerUnits=\"strokeWidth\">\n",
       "    <path d=\"M0,0 L15,3.5 L0,7 z\" stroke=\"context-stroke\" fill=\"context-stroke\"/>\n",
       "  </marker>\n",
       "</defs>\n",
       "<g stroke=\"#000000\" stroke-opacity=\"0.000\" fill=\"#FFFFFF\" id=\"img-1e24f112-1\">\n",
       "  <g transform=\"translate(70.71,50)\">\n",
       "    <path d=\"M-70.71,-50 L70.71,-50 70.71,50 -70.71,50  z\" class=\"primitive\"/>\n",
       "  </g>\n",
       "</g>\n",
       "<g class=\"plotroot xscalable yscalable\" id=\"img-1e24f112-2\">\n",
       "  <g font-size=\"3.53\" font-family=\"'PT Sans','Helvetica Neue','Helvetica',sans-serif\" fill=\"#564A55\" stroke=\"#000000\" stroke-opacity=\"0.000\" id=\"img-1e24f112-3\">\n",
       "    <g transform=\"translate(76.01,93.72)\">\n",
       "      <g class=\"primitive\">\n",
       "        <text text-anchor=\"middle\" dy=\"0.6em\">t</text>\n",
       "      </g>\n",
       "    </g>\n",
       "  </g>\n",
       "  <g class=\"guide xlabels\" font-size=\"2.82\" font-family=\"'PT Sans Caption','Helvetica Neue','Helvetica',sans-serif\" fill=\"#6C606B\" id=\"img-1e24f112-4\">\n",
       "    <g transform=\"translate(17.59,87.04)\">\n",
       "      <g class=\"primitive\">\n",
       "        <text text-anchor=\"middle\" dy=\"0.6em\">0</text>\n",
       "      </g>\n",
       "    </g>\n",
       "    <g transform=\"translate(76.01,87.04)\">\n",
       "      <g class=\"primitive\">\n",
       "        <text text-anchor=\"middle\" dy=\"0.6em\">5</text>\n",
       "      </g>\n",
       "    </g>\n",
       "    <g transform=\"translate(134.42,87.04)\">\n",
       "      <g class=\"primitive\">\n",
       "        <text text-anchor=\"middle\" dy=\"0.6em\">10</text>\n",
       "      </g>\n",
       "    </g>\n",
       "  </g>\n",
       "  <g clip-path=\"url(#img-1e24f112-5)\">\n",
       "    <g id=\"img-1e24f112-6\">\n",
       "      <g pointer-events=\"visible\" stroke-width=\"0.3\" fill=\"#000000\" fill-opacity=\"0.000\" stroke=\"#000000\" stroke-opacity=\"0.000\" class=\"guide background\" id=\"img-1e24f112-7\">\n",
       "        <g transform=\"translate(76.01,45.52)\" id=\"img-1e24f112-8\">\n",
       "          <path d=\"M-60.42,-40.52 L60.42,-40.52 60.42,40.52 -60.42,40.52  z\" class=\"primitive\"/>\n",
       "        </g>\n",
       "      </g>\n",
       "      <g class=\"guide ygridlines xfixed\" stroke-dasharray=\"0.5,0.5\" stroke-width=\"0.2\" stroke=\"#D0D0E0\" id=\"img-1e24f112-9\">\n",
       "        <g transform=\"translate(76.01,84.04)\" id=\"img-1e24f112-10\">\n",
       "          <path fill=\"none\" d=\"M-60.42,0 L60.42,0 \" class=\"primitive\"/>\n",
       "        </g>\n",
       "        <g transform=\"translate(76.01,71.2)\" id=\"img-1e24f112-11\">\n",
       "          <path fill=\"none\" d=\"M-60.42,0 L60.42,0 \" class=\"primitive\"/>\n",
       "        </g>\n",
       "        <g transform=\"translate(76.01,58.36)\" id=\"img-1e24f112-12\">\n",
       "          <path fill=\"none\" d=\"M-60.42,0 L60.42,0 \" class=\"primitive\"/>\n",
       "        </g>\n",
       "        <g transform=\"translate(76.01,45.52)\" id=\"img-1e24f112-13\">\n",
       "          <path fill=\"none\" d=\"M-60.42,0 L60.42,0 \" class=\"primitive\"/>\n",
       "        </g>\n",
       "        <g transform=\"translate(76.01,32.68)\" id=\"img-1e24f112-14\">\n",
       "          <path fill=\"none\" d=\"M-60.42,0 L60.42,0 \" class=\"primitive\"/>\n",
       "        </g>\n",
       "        <g transform=\"translate(76.01,19.84)\" id=\"img-1e24f112-15\">\n",
       "          <path fill=\"none\" d=\"M-60.42,0 L60.42,0 \" class=\"primitive\"/>\n",
       "        </g>\n",
       "        <g transform=\"translate(76.01,7)\" id=\"img-1e24f112-16\">\n",
       "          <path fill=\"none\" d=\"M-60.42,0 L60.42,0 \" class=\"primitive\"/>\n",
       "        </g>\n",
       "      </g>\n",
       "      <g class=\"guide xgridlines yfixed\" stroke-dasharray=\"0.5,0.5\" stroke-width=\"0.2\" stroke=\"#D0D0E0\" id=\"img-1e24f112-17\">\n",
       "        <g transform=\"translate(17.59,45.52)\" id=\"img-1e24f112-18\">\n",
       "          <path fill=\"none\" d=\"M0,-40.52 L0,40.52 \" class=\"primitive\"/>\n",
       "        </g>\n",
       "        <g transform=\"translate(76.01,45.52)\" id=\"img-1e24f112-19\">\n",
       "          <path fill=\"none\" d=\"M0,-40.52 L0,40.52 \" class=\"primitive\"/>\n",
       "        </g>\n",
       "        <g transform=\"translate(134.42,45.52)\" id=\"img-1e24f112-20\">\n",
       "          <path fill=\"none\" d=\"M0,-40.52 L0,40.52 \" class=\"primitive\"/>\n",
       "        </g>\n",
       "      </g>\n",
       "      <g class=\"plotpanel\" id=\"img-1e24f112-21\">\n",
       "        <metadata>\n",
       "          <boundingbox value=\"15.58999999999999mm 5.0mm 120.83135623730952mm 81.04333333333334mm\"/>\n",
       "          <unitbox value=\"-0.17118691971165442 6.155756500670618 10.34237383942331 -6.311513001341236\"/>\n",
       "        </metadata>\n",
       "        <g stroke-width=\"0.3\" fill=\"#000000\" fill-opacity=\"0.000\" class=\"geometry\" id=\"img-1e24f112-22\">\n",
       "          <g class=\"color_LCHab{Float32}(70.0f0,60.0f0,240.0f0)\" stroke-dasharray=\"none\" stroke-opacity=\"1\" stroke=\"#00BFFF\" id=\"img-1e24f112-23\">\n",
       "            <g transform=\"translate(76.01,64.08)\" id=\"img-1e24f112-24\">\n",
       "              <path fill=\"none\" d=\"M-58.42,18.68 L-46.73,18.03 -35.05,17.07 -23.37,15.63 -11.68,13.46 0,10.21 11.68,5.33 23.37,-1.98 35.05,-12.95 46.73,-29.4 58.42,-54.08 \" class=\"primitive\"/>\n",
       "            </g>\n",
       "          </g>\n",
       "        </g>\n",
       "      </g>\n",
       "    </g>\n",
       "  </g>\n",
       "  <g class=\"guide ylabels\" font-size=\"2.82\" font-family=\"'PT Sans Caption','Helvetica Neue','Helvetica',sans-serif\" fill=\"#6C606B\" id=\"img-1e24f112-25\">\n",
       "    <g transform=\"translate(14.59,84.04)\" id=\"img-1e24f112-26\">\n",
       "      <g class=\"primitive\">\n",
       "        <text text-anchor=\"end\" dy=\"0.35em\">0</text>\n",
       "      </g>\n",
       "    </g>\n",
       "    <g transform=\"translate(14.59,71.2)\" id=\"img-1e24f112-27\">\n",
       "      <g class=\"primitive\">\n",
       "        <text text-anchor=\"end\" dy=\"0.35em\">1</text>\n",
       "      </g>\n",
       "    </g>\n",
       "    <g transform=\"translate(14.59,58.36)\" id=\"img-1e24f112-28\">\n",
       "      <g class=\"primitive\">\n",
       "        <text text-anchor=\"end\" dy=\"0.35em\">2</text>\n",
       "      </g>\n",
       "    </g>\n",
       "    <g transform=\"translate(14.59,45.52)\" id=\"img-1e24f112-29\">\n",
       "      <g class=\"primitive\">\n",
       "        <text text-anchor=\"end\" dy=\"0.35em\">3</text>\n",
       "      </g>\n",
       "    </g>\n",
       "    <g transform=\"translate(14.59,32.68)\" id=\"img-1e24f112-30\">\n",
       "      <g class=\"primitive\">\n",
       "        <text text-anchor=\"end\" dy=\"0.35em\">4</text>\n",
       "      </g>\n",
       "    </g>\n",
       "    <g transform=\"translate(14.59,19.84)\" id=\"img-1e24f112-31\">\n",
       "      <g class=\"primitive\">\n",
       "        <text text-anchor=\"end\" dy=\"0.35em\">5</text>\n",
       "      </g>\n",
       "    </g>\n",
       "    <g transform=\"translate(14.59,7)\" id=\"img-1e24f112-32\">\n",
       "      <g class=\"primitive\">\n",
       "        <text text-anchor=\"end\" dy=\"0.35em\">6</text>\n",
       "      </g>\n",
       "    </g>\n",
       "  </g>\n",
       "  <g font-size=\"3.53\" font-family=\"'PT Sans','Helvetica Neue','Helvetica',sans-serif\" fill=\"#564A55\" stroke=\"#000000\" stroke-opacity=\"0.000\" id=\"img-1e24f112-33\">\n",
       "    <g transform=\"translate(9.92,45.52)\" id=\"img-1e24f112-34\">\n",
       "      <g class=\"primitive\">\n",
       "        <text text-anchor=\"end\" dy=\"0.35em\">W</text>\n",
       "      </g>\n",
       "    </g>\n",
       "  </g>\n",
       "</g>\n",
       "<defs>\n",
       "  <clipPath id=\"img-1e24f112-5\">\n",
       "    <path d=\"M15.59,5 L136.42,5 136.42,86.04 15.59,86.04 \" />\n",
       "  </clipPath>\n",
       "</defs>\n",
       "</svg>\n"
      ],
      "text/plain": [
       "\"<Cropbox.Plot{Gadfly.Plot}>\""
      ]
     },
     "execution_count": 7,
     "metadata": {},
     "output_type": "execute_result"
    }
   ],
   "source": [
    "visualize(Expo, :t, :W, config = c11, stop = 10, kind = :line)"
   ]
  },
  {
   "cell_type": "code",
   "execution_count": 8,
   "metadata": {
    "tags": []
   },
   "outputs": [
    {
     "data": {
      "application/vnd.webio.node+json": {
       "children": [
        {
         "children": [
          "Expo"
         ],
         "instanceArgs": {
          "namespace": "html",
          "tag": "div"
         },
         "nodeType": "DOM",
         "props": {
          "style": {
           "color": "rebeccapurple",
           "font-family": "monospace"
          }
         },
         "type": "node"
        },
        {
         "children": [
          {
           "children": [
            {
             "children": [
              {
               "children": [
                {
                 "children": [
                  "μ"
                 ],
                 "instanceArgs": {
                  "namespace": "html",
                  "tag": "label"
                 },
                 "nodeType": "DOM",
                 "props": {
                  "className": "interact ",
                  "style": {
                   "color": "royalblue",
                   "padding": "5px 10px 0px 10px",
                   "white-space": "nowrap"
                  }
                 },
                 "type": "node"
                }
               ],
               "instanceArgs": {
                "namespace": "html",
                "tag": "div"
               },
               "nodeType": "DOM",
               "props": {
                "className": "interact-flex-row-left"
               },
               "type": "node"
              },
              {
               "children": [
                {
                 "children": [],
                 "instanceArgs": {
                  "namespace": "html",
                  "tag": "input"
                 },
                 "nodeType": "DOM",
                 "props": {
                  "attributes": {
                   "data-bind": "numericValue: index, valueUpdate: 'input', event: {change: function (){this.changes(this.changes()+1)}}",
                   "orient": "horizontal",
                   "type": "range"
                  },
                  "className": "slider slider is-fullwidth",
                  "max": 11,
                  "min": 1,
                  "step": 1,
                  "style": {}
                 },
                 "type": "node"
                }
               ],
               "instanceArgs": {
                "namespace": "html",
                "tag": "div"
               },
               "nodeType": "DOM",
               "props": {
                "className": "interact-flex-row-center"
               },
               "type": "node"
              },
              {
               "children": [
                {
                 "children": [],
                 "instanceArgs": {
                  "namespace": "html",
                  "tag": "p"
                 },
                 "nodeType": "DOM",
                 "props": {
                  "attributes": {
                   "data-bind": "text: formatted_val"
                  }
                 },
                 "type": "node"
                }
               ],
               "instanceArgs": {
                "namespace": "html",
                "tag": "div"
               },
               "nodeType": "DOM",
               "props": {
                "className": "interact-flex-row-right"
               },
               "type": "node"
              }
             ],
             "instanceArgs": {
              "namespace": "html",
              "tag": "div"
             },
             "nodeType": "DOM",
             "props": {
              "className": "interact-flex-row interact-widget",
              "style": {
               "font-family": "monospace",
               "width": "80%"
              }
             },
             "type": "node"
            }
           ],
           "instanceArgs": {
            "handlers": {
             "changes": [
              "(function (val){return (val!=this.model[\"changes\"]()) ? (this.valueFromJulia[\"changes\"]=true, this.model[\"changes\"](val)) : undefined})"
             ],
             "index": [
              "(function (val){return (val!=this.model[\"index\"]()) ? (this.valueFromJulia[\"index\"]=true, this.model[\"index\"](val)) : undefined})"
             ]
            },
            "id": "11058857817621171106",
            "imports": {
             "data": [
              {
               "name": "knockout",
               "type": "js",
               "url": "/assetserver/d749de49a15576291e39755d819be2408bf7f995-knockout.js"
              },
              {
               "name": "knockout_punches",
               "type": "js",
               "url": "/assetserver/9f5c86158cf79faf331cfb32636cb08a9b1f0dc2-knockout_punches.js"
              },
              {
               "name": null,
               "type": "js",
               "url": "/assetserver/96a65e6078e018eef9bba5cd6ed02b2635164c53-all.js"
              },
              {
               "name": null,
               "type": "css",
               "url": "/assetserver/98c9b8e9cfeaa0be2a6f3aa79abc5da0680c3037-style.css"
              },
              {
               "name": null,
               "type": "css",
               "url": "/assetserver/c5a1211d10b2f10049d85486a98c5e9063cad849-bulma_confined.min.css"
              }
             ],
             "type": "async_block"
            },
            "mount_callbacks": [
             "function () {\n    var handler = (function (ko, koPunches) {\n    ko.punches.enableAll();\n    ko.bindingHandlers.numericValue = {\n        init: function(element, valueAccessor, allBindings, data, context) {\n            var stringified = ko.observable(ko.unwrap(valueAccessor()));\n            stringified.subscribe(function(value) {\n                var val = parseFloat(value);\n                if (!isNaN(val)) {\n                    valueAccessor()(val);\n                }\n            });\n            valueAccessor().subscribe(function(value) {\n                var str = JSON.stringify(value);\n                if ((str == \"0\") && ([\"-0\", \"-0.\"].indexOf(stringified()) >= 0))\n                     return;\n                 if ([\"null\", \"\"].indexOf(str) >= 0)\n                     return;\n                stringified(str);\n            });\n            ko.applyBindingsToNode(\n                element,\n                {\n                    value: stringified,\n                    valueUpdate: allBindings.get('valueUpdate'),\n                },\n                context,\n            );\n        }\n    };\n    var json_data = {\"formatted_vals\":[\"0.0\",\"0.01\",\"0.02\",\"0.03\",\"0.04\",\"0.05\",\"0.06\",\"0.07\",\"0.08\",\"0.09\",\"0.1\"],\"changes\":WebIO.getval({\"name\":\"changes\",\"scope\":\"11058857817621171106\",\"id\":\"14097544696111474689\",\"type\":\"observable\"}),\"index\":WebIO.getval({\"name\":\"index\",\"scope\":\"11058857817621171106\",\"id\":\"14276643292871497984\",\"type\":\"observable\"})};\n    var self = this;\n    function AppViewModel() {\n        for (var key in json_data) {\n            var el = json_data[key];\n            this[key] = Array.isArray(el) ? ko.observableArray(el) : ko.observable(el);\n        }\n        \n        [this[\"formatted_val\"]=ko.computed(    function(){\n        return this.formatted_vals()[parseInt(this.index())-(1)];\n    }\n,this)]\n        [this[\"changes\"].subscribe((function (val){!(this.valueFromJulia[\"changes\"]) ? (WebIO.setval({\"name\":\"changes\",\"scope\":\"11058857817621171106\",\"id\":\"14097544696111474689\",\"type\":\"observable\"},val)) : undefined; return this.valueFromJulia[\"changes\"]=false}),self),this[\"index\"].subscribe((function (val){!(this.valueFromJulia[\"index\"]) ? (WebIO.setval({\"name\":\"index\",\"scope\":\"11058857817621171106\",\"id\":\"14276643292871497984\",\"type\":\"observable\"},val)) : undefined; return this.valueFromJulia[\"index\"]=false}),self)]\n        \n    }\n    self.model = new AppViewModel();\n    self.valueFromJulia = {};\n    for (var key in json_data) {\n        self.valueFromJulia[key] = false;\n    }\n    ko.applyBindings(self.model, self.dom);\n}\n);\n    (WebIO.importBlock({\"data\":[{\"name\":\"knockout\",\"type\":\"js\",\"url\":\"/assetserver/d749de49a15576291e39755d819be2408bf7f995-knockout.js\"},{\"name\":\"knockout_punches\",\"type\":\"js\",\"url\":\"/assetserver/9f5c86158cf79faf331cfb32636cb08a9b1f0dc2-knockout_punches.js\"}],\"type\":\"async_block\"})).then((imports) => handler.apply(this, imports));\n}\n"
            ],
            "observables": {
             "changes": {
              "id": "14097544696111474689",
              "sync": true,
              "value": 0
             },
             "index": {
              "id": "14276643292871497984",
              "sync": true,
              "value": 6
             }
            },
            "systemjs_options": null
           },
           "nodeType": "Scope",
           "props": {},
           "type": "node"
          }
         ],
         "instanceArgs": {
          "namespace": "html",
          "tag": "div"
         },
         "nodeType": "DOM",
         "props": {
          "className": "field interact-widget"
         },
         "type": "node"
        },
        {
         "children": [
          {
           "children": [
            {
             "children": [
              {
               "children": [
                {
                 "children": [
                  "W0"
                 ],
                 "instanceArgs": {
                  "namespace": "html",
                  "tag": "label"
                 },
                 "nodeType": "DOM",
                 "props": {
                  "className": "interact ",
                  "style": {
                   "color": "royalblue",
                   "padding": "5px 10px 0px 10px",
                   "white-space": "nowrap"
                  }
                 },
                 "type": "node"
                }
               ],
               "instanceArgs": {
                "namespace": "html",
                "tag": "div"
               },
               "nodeType": "DOM",
               "props": {
                "className": "interact-flex-row-left"
               },
               "type": "node"
              },
              {
               "children": [
                {
                 "children": [],
                 "instanceArgs": {
                  "namespace": "html",
                  "tag": "input"
                 },
                 "nodeType": "DOM",
                 "props": {
                  "attributes": {
                   "data-bind": "numericValue: index, valueUpdate: 'input', event: {change: function (){this.changes(this.changes()+1)}}",
                   "orient": "horizontal",
                   "type": "range"
                  },
                  "className": "slider slider is-fullwidth",
                  "max": 101,
                  "min": 1,
                  "step": 1,
                  "style": {}
                 },
                 "type": "node"
                }
               ],
               "instanceArgs": {
                "namespace": "html",
                "tag": "div"
               },
               "nodeType": "DOM",
               "props": {
                "className": "interact-flex-row-center"
               },
               "type": "node"
              },
              {
               "children": [
                {
                 "children": [],
                 "instanceArgs": {
                  "namespace": "html",
                  "tag": "p"
                 },
                 "nodeType": "DOM",
                 "props": {
                  "attributes": {
                   "data-bind": "text: formatted_val"
                  }
                 },
                 "type": "node"
                }
               ],
               "instanceArgs": {
                "namespace": "html",
                "tag": "div"
               },
               "nodeType": "DOM",
               "props": {
                "className": "interact-flex-row-right"
               },
               "type": "node"
              }
             ],
             "instanceArgs": {
              "namespace": "html",
              "tag": "div"
             },
             "nodeType": "DOM",
             "props": {
              "className": "interact-flex-row interact-widget",
              "style": {
               "font-family": "monospace",
               "width": "80%"
              }
             },
             "type": "node"
            }
           ],
           "instanceArgs": {
            "handlers": {
             "changes": [
              "(function (val){return (val!=this.model[\"changes\"]()) ? (this.valueFromJulia[\"changes\"]=true, this.model[\"changes\"](val)) : undefined})"
             ],
             "index": [
              "(function (val){return (val!=this.model[\"index\"]()) ? (this.valueFromJulia[\"index\"]=true, this.model[\"index\"](val)) : undefined})"
             ]
            },
            "id": "12428400260891374227",
            "imports": {
             "data": [
              {
               "name": "knockout",
               "type": "js",
               "url": "/assetserver/d749de49a15576291e39755d819be2408bf7f995-knockout.js"
              },
              {
               "name": "knockout_punches",
               "type": "js",
               "url": "/assetserver/9f5c86158cf79faf331cfb32636cb08a9b1f0dc2-knockout_punches.js"
              },
              {
               "name": null,
               "type": "js",
               "url": "/assetserver/96a65e6078e018eef9bba5cd6ed02b2635164c53-all.js"
              },
              {
               "name": null,
               "type": "css",
               "url": "/assetserver/98c9b8e9cfeaa0be2a6f3aa79abc5da0680c3037-style.css"
              },
              {
               "name": null,
               "type": "css",
               "url": "/assetserver/c5a1211d10b2f10049d85486a98c5e9063cad849-bulma_confined.min.css"
              }
             ],
             "type": "async_block"
            },
            "mount_callbacks": [
             "function () {\n    var handler = (function (ko, koPunches) {\n    ko.punches.enableAll();\n    ko.bindingHandlers.numericValue = {\n        init: function(element, valueAccessor, allBindings, data, context) {\n            var stringified = ko.observable(ko.unwrap(valueAccessor()));\n            stringified.subscribe(function(value) {\n                var val = parseFloat(value);\n                if (!isNaN(val)) {\n                    valueAccessor()(val);\n                }\n            });\n            valueAccessor().subscribe(function(value) {\n                var str = JSON.stringify(value);\n                if ((str == \"0\") && ([\"-0\", \"-0.\"].indexOf(stringified()) >= 0))\n                     return;\n                 if ([\"null\", \"\"].indexOf(str) >= 0)\n                     return;\n                stringified(str);\n            });\n            ko.applyBindingsToNode(\n                element,\n                {\n                    value: stringified,\n                    valueUpdate: allBindings.get('valueUpdate'),\n                },\n                context,\n            );\n        }\n    };\n    var json_data = {\"formatted_vals\":[\"0.0\",\"0.1\",\"0.2\",\"0.3\",\"0.4\",\"0.5\",\"0.6\",\"0.7\",\"0.8\",\"0.9\",\"1.0\",\"1.1\",\"1.2\",\"1.3\",\"1.4\",\"1.5\",\"1.6\",\"1.7\",\"1.8\",\"1.9\",\"2.0\",\"2.1\",\"2.2\",\"2.3\",\"2.4\",\"2.5\",\"2.6\",\"2.7\",\"2.8\",\"2.9\",\"3.0\",\"3.1\",\"3.2\",\"3.3\",\"3.4\",\"3.5\",\"3.6\",\"3.7\",\"3.8\",\"3.9\",\"4.0\",\"4.1\",\"4.2\",\"4.3\",\"4.4\",\"4.5\",\"4.6\",\"4.7\",\"4.8\",\"4.9\",\"5.0\",\"5.1\",\"5.2\",\"5.3\",\"5.4\",\"5.5\",\"5.6\",\"5.7\",\"5.8\",\"5.9\",\"6.0\",\"6.1\",\"6.2\",\"6.3\",\"6.4\",\"6.5\",\"6.6\",\"6.7\",\"6.8\",\"6.9\",\"7.0\",\"7.1\",\"7.2\",\"7.3\",\"7.4\",\"7.5\",\"7.6\",\"7.7\",\"7.8\",\"7.9\",\"8.0\",\"8.1\",\"8.2\",\"8.3\",\"8.4\",\"8.5\",\"8.6\",\"8.7\",\"8.8\",\"8.9\",\"9.0\",\"9.1\",\"9.2\",\"9.3\",\"9.4\",\"9.5\",\"9.6\",\"9.7\",\"9.8\",\"9.9\",\"10.0\"],\"changes\":WebIO.getval({\"name\":\"changes\",\"scope\":\"12428400260891374227\",\"id\":\"9461018336082373611\",\"type\":\"observable\"}),\"index\":WebIO.getval({\"name\":\"index\",\"scope\":\"12428400260891374227\",\"id\":\"9315871273456132375\",\"type\":\"observable\"})};\n    var self = this;\n    function AppViewModel() {\n        for (var key in json_data) {\n            var el = json_data[key];\n            this[key] = Array.isArray(el) ? ko.observableArray(el) : ko.observable(el);\n        }\n        \n        [this[\"formatted_val\"]=ko.computed(    function(){\n        return this.formatted_vals()[parseInt(this.index())-(1)];\n    }\n,this)]\n        [this[\"changes\"].subscribe((function (val){!(this.valueFromJulia[\"changes\"]) ? (WebIO.setval({\"name\":\"changes\",\"scope\":\"12428400260891374227\",\"id\":\"9461018336082373611\",\"type\":\"observable\"},val)) : undefined; return this.valueFromJulia[\"changes\"]=false}),self),this[\"index\"].subscribe((function (val){!(this.valueFromJulia[\"index\"]) ? (WebIO.setval({\"name\":\"index\",\"scope\":\"12428400260891374227\",\"id\":\"9315871273456132375\",\"type\":\"observable\"},val)) : undefined; return this.valueFromJulia[\"index\"]=false}),self)]\n        \n    }\n    self.model = new AppViewModel();\n    self.valueFromJulia = {};\n    for (var key in json_data) {\n        self.valueFromJulia[key] = false;\n    }\n    ko.applyBindings(self.model, self.dom);\n}\n);\n    (WebIO.importBlock({\"data\":[{\"name\":\"knockout\",\"type\":\"js\",\"url\":\"/assetserver/d749de49a15576291e39755d819be2408bf7f995-knockout.js\"},{\"name\":\"knockout_punches\",\"type\":\"js\",\"url\":\"/assetserver/9f5c86158cf79faf331cfb32636cb08a9b1f0dc2-knockout_punches.js\"}],\"type\":\"async_block\"})).then((imports) => handler.apply(this, imports));\n}\n"
            ],
            "observables": {
             "changes": {
              "id": "9461018336082373611",
              "sync": true,
              "value": 0
             },
             "index": {
              "id": "9315871273456132375",
              "sync": true,
              "value": 51
             }
            },
            "systemjs_options": null
           },
           "nodeType": "Scope",
           "props": {},
           "type": "node"
          }
         ],
         "instanceArgs": {
          "namespace": "html",
          "tag": "div"
         },
         "nodeType": "DOM",
         "props": {
          "className": "field interact-widget"
         },
         "type": "node"
        },
        {
         "children": [
          {
           "children": [],
           "instanceArgs": {
            "namespace": "html",
            "tag": "div"
           },
           "nodeType": "DOM",
           "props": {
            "className": "webio-observable",
            "setInnerHtml": "<?xml version=\"1.0\" encoding=\"UTF-8\"?>\n<svg xmlns=\"http://www.w3.org/2000/svg\"\n     xmlns:xlink=\"http://www.w3.org/1999/xlink\"\n     xmlns:gadfly=\"http://www.gadflyjl.org/ns\"\n     version=\"1.2\"\n     width=\"141.42mm\" height=\"100mm\" viewBox=\"0 0 141.42 100\"\n     stroke=\"none\"\n     fill=\"#000000\"\n     stroke-width=\"0.3\"\n     font-size=\"3.88\"\n>\n<defs>\n  <marker id=\"arrow\" markerWidth=\"15\" markerHeight=\"7\" refX=\"5\" refY=\"3.5\" orient=\"auto\" markerUnits=\"strokeWidth\">\n    <path d=\"M0,0 L15,3.5 L0,7 z\" stroke=\"context-stroke\" fill=\"context-stroke\"/>\n  </marker>\n</defs>\n<g stroke=\"#000000\" stroke-opacity=\"0.000\" fill=\"#FFFFFF\" id=\"img-013c2331-1\">\n  <g transform=\"translate(70.71,50)\">\n    <path d=\"M-70.71,-50 L70.71,-50 70.71,50 -70.71,50  z\" class=\"primitive\"/>\n  </g>\n</g>\n<g class=\"plotroot xscalable yscalable\" id=\"img-013c2331-2\">\n  <g font-size=\"3.53\" font-family=\"'PT Sans','Helvetica Neue','Helvetica',sans-serif\" fill=\"#564A55\" stroke=\"#000000\" stroke-opacity=\"0.000\" id=\"img-013c2331-3\">\n    <g transform=\"translate(77.68,93.72)\">\n      <g class=\"primitive\">\n        <text text-anchor=\"middle\" dy=\"0.6em\">t</text>\n      </g>\n    </g>\n  </g>\n  <g class=\"guide xlabels\" font-size=\"2.82\" font-family=\"'PT Sans Caption','Helvetica Neue','Helvetica',sans-serif\" fill=\"#6C606B\" id=\"img-013c2331-4\">\n    <g transform=\"translate(20.94,87.04)\">\n      <g class=\"primitive\">\n        <text text-anchor=\"middle\" dy=\"0.6em\">0</text>\n      </g>\n    </g>\n    <g transform=\"translate(77.68,87.04)\">\n      <g class=\"primitive\">\n        <text text-anchor=\"middle\" dy=\"0.6em\">50</text>\n      </g>\n    </g>\n    <g transform=\"translate(134.42,87.04)\">\n      <g class=\"primitive\">\n        <text text-anchor=\"middle\" dy=\"0.6em\">100</text>\n      </g>\n    </g>\n  </g>\n  <g clip-path=\"url(#img-013c2331-5)\">\n    <g id=\"img-013c2331-6\">\n      <g pointer-events=\"visible\" stroke-width=\"0.3\" fill=\"#000000\" fill-opacity=\"0.000\" stroke=\"#000000\" stroke-opacity=\"0.000\" class=\"guide background\" id=\"img-013c2331-7\">\n        <g transform=\"translate(77.68,45.52)\" id=\"img-013c2331-8\">\n          <path d=\"M-58.74,-40.52 L58.74,-40.52 58.74,40.52 -58.74,40.52  z\" class=\"primitive\"/>\n        </g>\n      </g>\n      <g class=\"guide ygridlines xfixed\" stroke-dasharray=\"0.5,0.5\" stroke-width=\"0.2\" stroke=\"#D0D0E0\" id=\"img-013c2331-9\">\n        <g transform=\"translate(77.68,84.04)\" id=\"img-013c2331-10\">\n          <path fill=\"none\" d=\"M-58.74,0 L58.74,0 \" class=\"primitive\"/>\n        </g>\n        <g transform=\"translate(77.68,45.52)\" id=\"img-013c2331-11\">\n          <path fill=\"none\" d=\"M-58.74,0 L58.74,0 \" class=\"primitive\"/>\n        </g>\n        <g transform=\"translate(77.68,7)\" id=\"img-013c2331-12\">\n          <path fill=\"none\" d=\"M-58.74,0 L58.74,0 \" class=\"primitive\"/>\n        </g>\n      </g>\n      <g class=\"guide xgridlines yfixed\" stroke-dasharray=\"0.5,0.5\" stroke-width=\"0.2\" stroke=\"#D0D0E0\" id=\"img-013c2331-13\">\n        <g transform=\"translate(20.94,45.52)\" id=\"img-013c2331-14\">\n          <path fill=\"none\" d=\"M0,-40.52 L0,40.52 \" class=\"primitive\"/>\n        </g>\n        <g transform=\"translate(77.68,45.52)\" id=\"img-013c2331-15\">\n          <path fill=\"none\" d=\"M0,-40.52 L0,40.52 \" class=\"primitive\"/>\n        </g>\n        <g transform=\"translate(134.42,45.52)\" id=\"img-013c2331-16\">\n          <path fill=\"none\" d=\"M0,-40.52 L0,40.52 \" class=\"primitive\"/>\n        </g>\n      </g>\n      <g class=\"plotpanel\" id=\"img-013c2331-17\">\n        <metadata>\n          <boundingbox value=\"18.936666666666667mm 5.0mm 117.48468957064284mm 81.04333333333334mm\"/>\n          <unitbox value=\"-1.762352267576169 102.59594167784364 103.52470453515235 -105.19188335568728\"/>\n        </metadata>\n        <g stroke-width=\"0.3\" fill=\"#000000\" fill-opacity=\"0.000\" class=\"geometry\" id=\"img-013c2331-18\">\n          <g class=\"color_LCHab{Float32}(70.0f0,60.0f0,240.0f0)\" stroke-dasharray=\"none\" stroke-opacity=\"1\" stroke=\"#00BFFF\" id=\"img-013c2331-19\">\n            <g transform=\"translate(77.68,-20.52)\" id=\"img-013c2331-20\">\n              <path fill=\"none\" d=\"M-56.74,100.71 L-55.61,100.52 -54.47,100.32 -53.34,100.1 -52.2,99.88 -51.07,99.65 -49.93,99.4 -48.8,99.14 -47.66,98.87 -46.53,98.59 -45.39,98.29 -44.26,97.97 -43.12,97.64 -41.99,97.3 -40.85,96.94 -39.72,96.55 -38.58,96.15 -37.45,95.73 -36.32,95.29 -35.18,94.83 -34.05,94.34 -32.91,93.83 -31.78,93.29 -30.64,92.73 -29.51,92.14 -28.37,91.52 -27.24,90.87 -26.1,90.18 -24.97,89.46 -23.83,88.71 -22.7,87.91 -21.56,87.08 -20.43,86.21 -19.29,85.29 -18.16,84.33 -17.02,83.31 -15.89,82.25 -14.75,81.14 -13.62,79.96 -12.48,78.73 -11.35,77.44 -10.21,76.09 -9.08,74.66 -7.94,73.17 -6.81,71.6 -5.67,69.95 -4.54,68.22 -3.4,66.4 -2.27,64.5 -1.13,62.49 0,60.39 1.13,58.18 2.27,55.86 3.4,53.43 4.54,50.87 5.67,48.18 6.81,45.36 7.94,42.4 9.08,39.3 10.21,36.03 11.35,32.61 12.48,29.01 13.62,25.23 14.75,21.27 15.89,17.1 17.02,12.73 18.16,8.14 19.29,3.31 20.43,-1.75 21.56,-7.06 22.7,-12.65 23.83,-18.51 24.97,-24.66 26.1,-31.12 27.24,-37.9 28.37,-45.03 29.51,-52.51 30.64,-60.36 31.78,-68.61 32.91,-77.27 34.05,-86.36 35.18,-95.9 36.32,-105.93 37.45,-116.45 38.58,-127.5 39.72,-139.1 40.85,-151.29 41.99,-164.08 43.12,-177.51 44.26,-191.62 45.39,-206.42 46.53,-221.97 47.66,-238.3 48.8,-255.44 49.93,-273.44 51.07,-292.34 52.2,-312.19 53.34,-333.03 54.47,-354.91 55.61,-377.88 56.74,-402 \" class=\"primitive\"/>\n            </g>\n          </g>\n        </g>\n      </g>\n    </g>\n  </g>\n  <g class=\"guide ylabels\" font-size=\"2.82\" font-family=\"'PT Sans Caption','Helvetica Neue','Helvetica',sans-serif\" fill=\"#6C606B\" id=\"img-013c2331-21\">\n    <g transform=\"translate(17.94,84.04)\" id=\"img-013c2331-22\">\n      <g class=\"primitive\">\n        <text text-anchor=\"end\" dy=\"0.35em\">0</text>\n      </g>\n    </g>\n    <g transform=\"translate(17.94,45.52)\" id=\"img-013c2331-23\">\n      <g class=\"primitive\">\n        <text text-anchor=\"end\" dy=\"0.35em\">50</text>\n      </g>\n    </g>\n    <g transform=\"translate(17.94,7)\" id=\"img-013c2331-24\">\n      <g class=\"primitive\">\n        <text text-anchor=\"end\" dy=\"0.35em\">100</text>\n      </g>\n    </g>\n  </g>\n  <g font-size=\"3.53\" font-family=\"'PT Sans','Helvetica Neue','Helvetica',sans-serif\" fill=\"#564A55\" stroke=\"#000000\" stroke-opacity=\"0.000\" id=\"img-013c2331-25\">\n    <g transform=\"translate(9.92,45.52)\" id=\"img-013c2331-26\">\n      <g class=\"primitive\">\n        <text text-anchor=\"end\" dy=\"0.35em\">W</text>\n      </g>\n    </g>\n  </g>\n</g>\n<defs>\n  <clipPath id=\"img-013c2331-5\">\n    <path d=\"M18.94,5 L136.42,5 136.42,86.04 18.94,86.04 \" />\n  </clipPath>\n</defs>\n</svg>\n"
           },
           "type": "node"
          }
         ],
         "instanceArgs": {
          "handlers": {
           "obs-output": [
            "function (value, scope) {\n    scope.setInnerHTML(value);\n}\n"
           ]
          },
          "id": "12879006564107743290",
          "imports": {
           "data": [],
           "type": "async_block"
          },
          "mount_callbacks": [],
          "observables": {
           "obs-output": {
            "id": "7258056472930302564",
            "sync": false,
            "value": "<?xml version=\"1.0\" encoding=\"UTF-8\"?>\n<svg xmlns=\"http://www.w3.org/2000/svg\"\n     xmlns:xlink=\"http://www.w3.org/1999/xlink\"\n     xmlns:gadfly=\"http://www.gadflyjl.org/ns\"\n     version=\"1.2\"\n     width=\"141.42mm\" height=\"100mm\" viewBox=\"0 0 141.42 100\"\n     stroke=\"none\"\n     fill=\"#000000\"\n     stroke-width=\"0.3\"\n     font-size=\"3.88\"\n>\n<defs>\n  <marker id=\"arrow\" markerWidth=\"15\" markerHeight=\"7\" refX=\"5\" refY=\"3.5\" orient=\"auto\" markerUnits=\"strokeWidth\">\n    <path d=\"M0,0 L15,3.5 L0,7 z\" stroke=\"context-stroke\" fill=\"context-stroke\"/>\n  </marker>\n</defs>\n<g stroke=\"#000000\" stroke-opacity=\"0.000\" fill=\"#FFFFFF\" id=\"img-013c2331-1\">\n  <g transform=\"translate(70.71,50)\">\n    <path d=\"M-70.71,-50 L70.71,-50 70.71,50 -70.71,50  z\" class=\"primitive\"/>\n  </g>\n</g>\n<g class=\"plotroot xscalable yscalable\" id=\"img-013c2331-2\">\n  <g font-size=\"3.53\" font-family=\"'PT Sans','Helvetica Neue','Helvetica',sans-serif\" fill=\"#564A55\" stroke=\"#000000\" stroke-opacity=\"0.000\" id=\"img-013c2331-3\">\n    <g transform=\"translate(77.68,93.72)\">\n      <g class=\"primitive\">\n        <text text-anchor=\"middle\" dy=\"0.6em\">t</text>\n      </g>\n    </g>\n  </g>\n  <g class=\"guide xlabels\" font-size=\"2.82\" font-family=\"'PT Sans Caption','Helvetica Neue','Helvetica',sans-serif\" fill=\"#6C606B\" id=\"img-013c2331-4\">\n    <g transform=\"translate(20.94,87.04)\">\n      <g class=\"primitive\">\n        <text text-anchor=\"middle\" dy=\"0.6em\">0</text>\n      </g>\n    </g>\n    <g transform=\"translate(77.68,87.04)\">\n      <g class=\"primitive\">\n        <text text-anchor=\"middle\" dy=\"0.6em\">50</text>\n      </g>\n    </g>\n    <g transform=\"translate(134.42,87.04)\">\n      <g class=\"primitive\">\n        <text text-anchor=\"middle\" dy=\"0.6em\">100</text>\n      </g>\n    </g>\n  </g>\n  <g clip-path=\"url(#img-013c2331-5)\">\n    <g id=\"img-013c2331-6\">\n      <g pointer-events=\"visible\" stroke-width=\"0.3\" fill=\"#000000\" fill-opacity=\"0.000\" stroke=\"#000000\" stroke-opacity=\"0.000\" class=\"guide background\" id=\"img-013c2331-7\">\n        <g transform=\"translate(77.68,45.52)\" id=\"img-013c2331-8\">\n          <path d=\"M-58.74,-40.52 L58.74,-40.52 58.74,40.52 -58.74,40.52  z\" class=\"primitive\"/>\n        </g>\n      </g>\n      <g class=\"guide ygridlines xfixed\" stroke-dasharray=\"0.5,0.5\" stroke-width=\"0.2\" stroke=\"#D0D0E0\" id=\"img-013c2331-9\">\n        <g transform=\"translate(77.68,84.04)\" id=\"img-013c2331-10\">\n          <path fill=\"none\" d=\"M-58.74,0 L58.74,0 \" class=\"primitive\"/>\n        </g>\n        <g transform=\"translate(77.68,45.52)\" id=\"img-013c2331-11\">\n          <path fill=\"none\" d=\"M-58.74,0 L58.74,0 \" class=\"primitive\"/>\n        </g>\n        <g transform=\"translate(77.68,7)\" id=\"img-013c2331-12\">\n          <path fill=\"none\" d=\"M-58.74,0 L58.74,0 \" class=\"primitive\"/>\n        </g>\n      </g>\n      <g class=\"guide xgridlines yfixed\" stroke-dasharray=\"0.5,0.5\" stroke-width=\"0.2\" stroke=\"#D0D0E0\" id=\"img-013c2331-13\">\n        <g transform=\"translate(20.94,45.52)\" id=\"img-013c2331-14\">\n          <path fill=\"none\" d=\"M0,-40.52 L0,40.52 \" class=\"primitive\"/>\n        </g>\n        <g transform=\"translate(77.68,45.52)\" id=\"img-013c2331-15\">\n          <path fill=\"none\" d=\"M0,-40.52 L0,40.52 \" class=\"primitive\"/>\n        </g>\n        <g transform=\"translate(134.42,45.52)\" id=\"img-013c2331-16\">\n          <path fill=\"none\" d=\"M0,-40.52 L0,40.52 \" class=\"primitive\"/>\n        </g>\n      </g>\n      <g class=\"plotpanel\" id=\"img-013c2331-17\">\n        <metadata>\n          <boundingbox value=\"18.936666666666667mm 5.0mm 117.48468957064284mm 81.04333333333334mm\"/>\n          <unitbox value=\"-1.762352267576169 102.59594167784364 103.52470453515235 -105.19188335568728\"/>\n        </metadata>\n        <g stroke-width=\"0.3\" fill=\"#000000\" fill-opacity=\"0.000\" class=\"geometry\" id=\"img-013c2331-18\">\n          <g class=\"color_LCHab{Float32}(70.0f0,60.0f0,240.0f0)\" stroke-dasharray=\"none\" stroke-opacity=\"1\" stroke=\"#00BFFF\" id=\"img-013c2331-19\">\n            <g transform=\"translate(77.68,-20.52)\" id=\"img-013c2331-20\">\n              <path fill=\"none\" d=\"M-56.74,100.71 L-55.61,100.52 -54.47,100.32 -53.34,100.1 -52.2,99.88 -51.07,99.65 -49.93,99.4 -48.8,99.14 -47.66,98.87 -46.53,98.59 -45.39,98.29 -44.26,97.97 -43.12,97.64 -41.99,97.3 -40.85,96.94 -39.72,96.55 -38.58,96.15 -37.45,95.73 -36.32,95.29 -35.18,94.83 -34.05,94.34 -32.91,93.83 -31.78,93.29 -30.64,92.73 -29.51,92.14 -28.37,91.52 -27.24,90.87 -26.1,90.18 -24.97,89.46 -23.83,88.71 -22.7,87.91 -21.56,87.08 -20.43,86.21 -19.29,85.29 -18.16,84.33 -17.02,83.31 -15.89,82.25 -14.75,81.14 -13.62,79.96 -12.48,78.73 -11.35,77.44 -10.21,76.09 -9.08,74.66 -7.94,73.17 -6.81,71.6 -5.67,69.95 -4.54,68.22 -3.4,66.4 -2.27,64.5 -1.13,62.49 0,60.39 1.13,58.18 2.27,55.86 3.4,53.43 4.54,50.87 5.67,48.18 6.81,45.36 7.94,42.4 9.08,39.3 10.21,36.03 11.35,32.61 12.48,29.01 13.62,25.23 14.75,21.27 15.89,17.1 17.02,12.73 18.16,8.14 19.29,3.31 20.43,-1.75 21.56,-7.06 22.7,-12.65 23.83,-18.51 24.97,-24.66 26.1,-31.12 27.24,-37.9 28.37,-45.03 29.51,-52.51 30.64,-60.36 31.78,-68.61 32.91,-77.27 34.05,-86.36 35.18,-95.9 36.32,-105.93 37.45,-116.45 38.58,-127.5 39.72,-139.1 40.85,-151.29 41.99,-164.08 43.12,-177.51 44.26,-191.62 45.39,-206.42 46.53,-221.97 47.66,-238.3 48.8,-255.44 49.93,-273.44 51.07,-292.34 52.2,-312.19 53.34,-333.03 54.47,-354.91 55.61,-377.88 56.74,-402 \" class=\"primitive\"/>\n            </g>\n          </g>\n        </g>\n      </g>\n    </g>\n  </g>\n  <g class=\"guide ylabels\" font-size=\"2.82\" font-family=\"'PT Sans Caption','Helvetica Neue','Helvetica',sans-serif\" fill=\"#6C606B\" id=\"img-013c2331-21\">\n    <g transform=\"translate(17.94,84.04)\" id=\"img-013c2331-22\">\n      <g class=\"primitive\">\n        <text text-anchor=\"end\" dy=\"0.35em\">0</text>\n      </g>\n    </g>\n    <g transform=\"translate(17.94,45.52)\" id=\"img-013c2331-23\">\n      <g class=\"primitive\">\n        <text text-anchor=\"end\" dy=\"0.35em\">50</text>\n      </g>\n    </g>\n    <g transform=\"translate(17.94,7)\" id=\"img-013c2331-24\">\n      <g class=\"primitive\">\n        <text text-anchor=\"end\" dy=\"0.35em\">100</text>\n      </g>\n    </g>\n  </g>\n  <g font-size=\"3.53\" font-family=\"'PT Sans','Helvetica Neue','Helvetica',sans-serif\" fill=\"#564A55\" stroke=\"#000000\" stroke-opacity=\"0.000\" id=\"img-013c2331-25\">\n    <g transform=\"translate(9.92,45.52)\" id=\"img-013c2331-26\">\n      <g class=\"primitive\">\n        <text text-anchor=\"end\" dy=\"0.35em\">W</text>\n      </g>\n    </g>\n  </g>\n</g>\n<defs>\n  <clipPath id=\"img-013c2331-5\">\n    <path d=\"M18.94,5 L136.42,5 136.42,86.04 18.94,86.04 \" />\n  </clipPath>\n</defs>\n</svg>\n"
           }
          },
          "systemjs_options": null
         },
         "nodeType": "Scope",
         "props": {},
         "type": "node"
        }
       ],
       "instanceArgs": {
        "namespace": "html",
        "tag": "div"
       },
       "nodeType": "DOM",
       "props": {
        "style": {
         "display": "flex",
         "flex-direction": "column"
        }
       },
       "type": "node"
      },
      "text/html": [
       "<div\n",
       "    class=\"webio-mountpoint\"\n",
       "    data-webio-mountpoint=\"9291634108641838438\"\n",
       ">\n",
       "    <script>\n",
       "    (function(){\n",
       "    // Some integrations (namely, IJulia/Jupyter) use an alternate render pathway than\n",
       "    // just putting the html on the page. If WebIO isn't defined, then it's pretty likely\n",
       "    // that we're in one of those situations and the integration just isn't installed\n",
       "    // correctly.\n",
       "    if (typeof window.WebIO === \"undefined\") {\n",
       "        document\n",
       "            .querySelector('[data-webio-mountpoint=\"9291634108641838438\"]')\n",
       "            .innerHTML = (\n",
       "                '<div style=\"padding: 1em; background-color: #f8d6da; border: 1px solid #f5c6cb; font-weight: bold;\">' +\n",
       "                '<p><strong>WebIO not detected.</strong></p>' +\n",
       "                '<p>Please read ' +\n",
       "                '<a href=\"https://juliagizmos.github.io/WebIO.jl/latest/troubleshooting/not-detected/\" target=\"_blank\">the troubleshooting guide</a> ' +\n",
       "                'for more information on how to resolve this issue.</p>' +\n",
       "                '<p><a href=\"https://juliagizmos.github.io/WebIO.jl/latest/troubleshooting/not-detected/\" target=\"_blank\">https://juliagizmos.github.io/WebIO.jl/latest/troubleshooting/not-detected/</a></p>' +\n",
       "                '</div>'\n",
       "            );\n",
       "        return;\n",
       "    }\n",
       "    WebIO.mount(\n",
       "        document.querySelector('[data-webio-mountpoint=\"9291634108641838438\"]'),\n",
       "        {\"props\":{\"style\":{\"display\":\"flex\",\"flex-direction\":\"column\"}},\"nodeType\":\"DOM\",\"type\":\"node\",\"instanceArgs\":{\"namespace\":\"html\",\"tag\":\"div\"},\"children\":[{\"props\":{\"style\":{\"color\":\"rebeccapurple\",\"font-family\":\"monospace\"}},\"nodeType\":\"DOM\",\"type\":\"node\",\"instanceArgs\":{\"namespace\":\"html\",\"tag\":\"div\"},\"children\":[\"Expo\"]},{\"props\":{\"className\":\"field interact-widget\"},\"nodeType\":\"DOM\",\"type\":\"node\",\"instanceArgs\":{\"namespace\":\"html\",\"tag\":\"div\"},\"children\":[{\"props\":{},\"nodeType\":\"Scope\",\"type\":\"node\",\"instanceArgs\":{\"imports\":{\"data\":[{\"name\":\"knockout\",\"type\":\"js\",\"url\":\"\\/assetserver\\/d749de49a15576291e39755d819be2408bf7f995-knockout.js\"},{\"name\":\"knockout_punches\",\"type\":\"js\",\"url\":\"\\/assetserver\\/9f5c86158cf79faf331cfb32636cb08a9b1f0dc2-knockout_punches.js\"},{\"name\":null,\"type\":\"js\",\"url\":\"\\/assetserver\\/96a65e6078e018eef9bba5cd6ed02b2635164c53-all.js\"},{\"name\":null,\"type\":\"css\",\"url\":\"\\/assetserver\\/98c9b8e9cfeaa0be2a6f3aa79abc5da0680c3037-style.css\"},{\"name\":null,\"type\":\"css\",\"url\":\"\\/assetserver\\/c5a1211d10b2f10049d85486a98c5e9063cad849-bulma_confined.min.css\"}],\"type\":\"async_block\"},\"id\":\"11058857817621171106\",\"handlers\":{\"changes\":[\"(function (val){return (val!=this.model[\\\"changes\\\"]()) ? (this.valueFromJulia[\\\"changes\\\"]=true, this.model[\\\"changes\\\"](val)) : undefined})\"],\"index\":[\"(function (val){return (val!=this.model[\\\"index\\\"]()) ? (this.valueFromJulia[\\\"index\\\"]=true, this.model[\\\"index\\\"](val)) : undefined})\"]},\"systemjs_options\":null,\"mount_callbacks\":[\"function () {\\n    var handler = (function (ko, koPunches) {\\n    ko.punches.enableAll();\\n    ko.bindingHandlers.numericValue = {\\n        init: function(element, valueAccessor, allBindings, data, context) {\\n            var stringified = ko.observable(ko.unwrap(valueAccessor()));\\n            stringified.subscribe(function(value) {\\n                var val = parseFloat(value);\\n                if (!isNaN(val)) {\\n                    valueAccessor()(val);\\n                }\\n            });\\n            valueAccessor().subscribe(function(value) {\\n                var str = JSON.stringify(value);\\n                if ((str == \\\"0\\\") && ([\\\"-0\\\", \\\"-0.\\\"].indexOf(stringified()) >= 0))\\n                     return;\\n                 if ([\\\"null\\\", \\\"\\\"].indexOf(str) >= 0)\\n                     return;\\n                stringified(str);\\n            });\\n            ko.applyBindingsToNode(\\n                element,\\n                {\\n                    value: stringified,\\n                    valueUpdate: allBindings.get('valueUpdate'),\\n                },\\n                context,\\n            );\\n        }\\n    };\\n    var json_data = {\\\"formatted_vals\\\":[\\\"0.0\\\",\\\"0.01\\\",\\\"0.02\\\",\\\"0.03\\\",\\\"0.04\\\",\\\"0.05\\\",\\\"0.06\\\",\\\"0.07\\\",\\\"0.08\\\",\\\"0.09\\\",\\\"0.1\\\"],\\\"changes\\\":WebIO.getval({\\\"name\\\":\\\"changes\\\",\\\"scope\\\":\\\"11058857817621171106\\\",\\\"id\\\":\\\"14097544696111474689\\\",\\\"type\\\":\\\"observable\\\"}),\\\"index\\\":WebIO.getval({\\\"name\\\":\\\"index\\\",\\\"scope\\\":\\\"11058857817621171106\\\",\\\"id\\\":\\\"14276643292871497984\\\",\\\"type\\\":\\\"observable\\\"})};\\n    var self = this;\\n    function AppViewModel() {\\n        for (var key in json_data) {\\n            var el = json_data[key];\\n            this[key] = Array.isArray(el) ? ko.observableArray(el) : ko.observable(el);\\n        }\\n        \\n        [this[\\\"formatted_val\\\"]=ko.computed(    function(){\\n        return this.formatted_vals()[parseInt(this.index())-(1)];\\n    }\\n,this)]\\n        [this[\\\"changes\\\"].subscribe((function (val){!(this.valueFromJulia[\\\"changes\\\"]) ? (WebIO.setval({\\\"name\\\":\\\"changes\\\",\\\"scope\\\":\\\"11058857817621171106\\\",\\\"id\\\":\\\"14097544696111474689\\\",\\\"type\\\":\\\"observable\\\"},val)) : undefined; return this.valueFromJulia[\\\"changes\\\"]=false}),self),this[\\\"index\\\"].subscribe((function (val){!(this.valueFromJulia[\\\"index\\\"]) ? (WebIO.setval({\\\"name\\\":\\\"index\\\",\\\"scope\\\":\\\"11058857817621171106\\\",\\\"id\\\":\\\"14276643292871497984\\\",\\\"type\\\":\\\"observable\\\"},val)) : undefined; return this.valueFromJulia[\\\"index\\\"]=false}),self)]\\n        \\n    }\\n    self.model = new AppViewModel();\\n    self.valueFromJulia = {};\\n    for (var key in json_data) {\\n        self.valueFromJulia[key] = false;\\n    }\\n    ko.applyBindings(self.model, self.dom);\\n}\\n);\\n    (WebIO.importBlock({\\\"data\\\":[{\\\"name\\\":\\\"knockout\\\",\\\"type\\\":\\\"js\\\",\\\"url\\\":\\\"\\/assetserver\\/d749de49a15576291e39755d819be2408bf7f995-knockout.js\\\"},{\\\"name\\\":\\\"knockout_punches\\\",\\\"type\\\":\\\"js\\\",\\\"url\\\":\\\"\\/assetserver\\/9f5c86158cf79faf331cfb32636cb08a9b1f0dc2-knockout_punches.js\\\"}],\\\"type\\\":\\\"async_block\\\"})).then((imports) => handler.apply(this, imports));\\n}\\n\"],\"observables\":{\"changes\":{\"sync\":true,\"id\":\"14097544696111474689\",\"value\":0},\"index\":{\"sync\":true,\"id\":\"14276643292871497984\",\"value\":6}}},\"children\":[{\"props\":{\"className\":\"interact-flex-row interact-widget\",\"style\":{\"font-family\":\"monospace\",\"width\":\"80%\"}},\"nodeType\":\"DOM\",\"type\":\"node\",\"instanceArgs\":{\"namespace\":\"html\",\"tag\":\"div\"},\"children\":[{\"props\":{\"className\":\"interact-flex-row-left\"},\"nodeType\":\"DOM\",\"type\":\"node\",\"instanceArgs\":{\"namespace\":\"html\",\"tag\":\"div\"},\"children\":[{\"props\":{\"className\":\"interact \",\"style\":{\"padding\":\"5px 10px 0px 10px\",\"white-space\":\"nowrap\",\"color\":\"royalblue\"}},\"nodeType\":\"DOM\",\"type\":\"node\",\"instanceArgs\":{\"namespace\":\"html\",\"tag\":\"label\"},\"children\":[\"μ\"]}]},{\"props\":{\"className\":\"interact-flex-row-center\"},\"nodeType\":\"DOM\",\"type\":\"node\",\"instanceArgs\":{\"namespace\":\"html\",\"tag\":\"div\"},\"children\":[{\"props\":{\"max\":11,\"min\":1,\"attributes\":{\"type\":\"range\",\"data-bind\":\"numericValue: index, valueUpdate: 'input', event: {change: function (){this.changes(this.changes()+1)}}\",\"orient\":\"horizontal\"},\"step\":1,\"className\":\"slider slider is-fullwidth\",\"style\":{}},\"nodeType\":\"DOM\",\"type\":\"node\",\"instanceArgs\":{\"namespace\":\"html\",\"tag\":\"input\"},\"children\":[]}]},{\"props\":{\"className\":\"interact-flex-row-right\"},\"nodeType\":\"DOM\",\"type\":\"node\",\"instanceArgs\":{\"namespace\":\"html\",\"tag\":\"div\"},\"children\":[{\"props\":{\"attributes\":{\"data-bind\":\"text: formatted_val\"}},\"nodeType\":\"DOM\",\"type\":\"node\",\"instanceArgs\":{\"namespace\":\"html\",\"tag\":\"p\"},\"children\":[]}]}]}]}]},{\"props\":{\"className\":\"field interact-widget\"},\"nodeType\":\"DOM\",\"type\":\"node\",\"instanceArgs\":{\"namespace\":\"html\",\"tag\":\"div\"},\"children\":[{\"props\":{},\"nodeType\":\"Scope\",\"type\":\"node\",\"instanceArgs\":{\"imports\":{\"data\":[{\"name\":\"knockout\",\"type\":\"js\",\"url\":\"\\/assetserver\\/d749de49a15576291e39755d819be2408bf7f995-knockout.js\"},{\"name\":\"knockout_punches\",\"type\":\"js\",\"url\":\"\\/assetserver\\/9f5c86158cf79faf331cfb32636cb08a9b1f0dc2-knockout_punches.js\"},{\"name\":null,\"type\":\"js\",\"url\":\"\\/assetserver\\/96a65e6078e018eef9bba5cd6ed02b2635164c53-all.js\"},{\"name\":null,\"type\":\"css\",\"url\":\"\\/assetserver\\/98c9b8e9cfeaa0be2a6f3aa79abc5da0680c3037-style.css\"},{\"name\":null,\"type\":\"css\",\"url\":\"\\/assetserver\\/c5a1211d10b2f10049d85486a98c5e9063cad849-bulma_confined.min.css\"}],\"type\":\"async_block\"},\"id\":\"12428400260891374227\",\"handlers\":{\"changes\":[\"(function (val){return (val!=this.model[\\\"changes\\\"]()) ? (this.valueFromJulia[\\\"changes\\\"]=true, this.model[\\\"changes\\\"](val)) : undefined})\"],\"index\":[\"(function (val){return (val!=this.model[\\\"index\\\"]()) ? (this.valueFromJulia[\\\"index\\\"]=true, this.model[\\\"index\\\"](val)) : undefined})\"]},\"systemjs_options\":null,\"mount_callbacks\":[\"function () {\\n    var handler = (function (ko, koPunches) {\\n    ko.punches.enableAll();\\n    ko.bindingHandlers.numericValue = {\\n        init: function(element, valueAccessor, allBindings, data, context) {\\n            var stringified = ko.observable(ko.unwrap(valueAccessor()));\\n            stringified.subscribe(function(value) {\\n                var val = parseFloat(value);\\n                if (!isNaN(val)) {\\n                    valueAccessor()(val);\\n                }\\n            });\\n            valueAccessor().subscribe(function(value) {\\n                var str = JSON.stringify(value);\\n                if ((str == \\\"0\\\") && ([\\\"-0\\\", \\\"-0.\\\"].indexOf(stringified()) >= 0))\\n                     return;\\n                 if ([\\\"null\\\", \\\"\\\"].indexOf(str) >= 0)\\n                     return;\\n                stringified(str);\\n            });\\n            ko.applyBindingsToNode(\\n                element,\\n                {\\n                    value: stringified,\\n                    valueUpdate: allBindings.get('valueUpdate'),\\n                },\\n                context,\\n            );\\n        }\\n    };\\n    var json_data = {\\\"formatted_vals\\\":[\\\"0.0\\\",\\\"0.1\\\",\\\"0.2\\\",\\\"0.3\\\",\\\"0.4\\\",\\\"0.5\\\",\\\"0.6\\\",\\\"0.7\\\",\\\"0.8\\\",\\\"0.9\\\",\\\"1.0\\\",\\\"1.1\\\",\\\"1.2\\\",\\\"1.3\\\",\\\"1.4\\\",\\\"1.5\\\",\\\"1.6\\\",\\\"1.7\\\",\\\"1.8\\\",\\\"1.9\\\",\\\"2.0\\\",\\\"2.1\\\",\\\"2.2\\\",\\\"2.3\\\",\\\"2.4\\\",\\\"2.5\\\",\\\"2.6\\\",\\\"2.7\\\",\\\"2.8\\\",\\\"2.9\\\",\\\"3.0\\\",\\\"3.1\\\",\\\"3.2\\\",\\\"3.3\\\",\\\"3.4\\\",\\\"3.5\\\",\\\"3.6\\\",\\\"3.7\\\",\\\"3.8\\\",\\\"3.9\\\",\\\"4.0\\\",\\\"4.1\\\",\\\"4.2\\\",\\\"4.3\\\",\\\"4.4\\\",\\\"4.5\\\",\\\"4.6\\\",\\\"4.7\\\",\\\"4.8\\\",\\\"4.9\\\",\\\"5.0\\\",\\\"5.1\\\",\\\"5.2\\\",\\\"5.3\\\",\\\"5.4\\\",\\\"5.5\\\",\\\"5.6\\\",\\\"5.7\\\",\\\"5.8\\\",\\\"5.9\\\",\\\"6.0\\\",\\\"6.1\\\",\\\"6.2\\\",\\\"6.3\\\",\\\"6.4\\\",\\\"6.5\\\",\\\"6.6\\\",\\\"6.7\\\",\\\"6.8\\\",\\\"6.9\\\",\\\"7.0\\\",\\\"7.1\\\",\\\"7.2\\\",\\\"7.3\\\",\\\"7.4\\\",\\\"7.5\\\",\\\"7.6\\\",\\\"7.7\\\",\\\"7.8\\\",\\\"7.9\\\",\\\"8.0\\\",\\\"8.1\\\",\\\"8.2\\\",\\\"8.3\\\",\\\"8.4\\\",\\\"8.5\\\",\\\"8.6\\\",\\\"8.7\\\",\\\"8.8\\\",\\\"8.9\\\",\\\"9.0\\\",\\\"9.1\\\",\\\"9.2\\\",\\\"9.3\\\",\\\"9.4\\\",\\\"9.5\\\",\\\"9.6\\\",\\\"9.7\\\",\\\"9.8\\\",\\\"9.9\\\",\\\"10.0\\\"],\\\"changes\\\":WebIO.getval({\\\"name\\\":\\\"changes\\\",\\\"scope\\\":\\\"12428400260891374227\\\",\\\"id\\\":\\\"9461018336082373611\\\",\\\"type\\\":\\\"observable\\\"}),\\\"index\\\":WebIO.getval({\\\"name\\\":\\\"index\\\",\\\"scope\\\":\\\"12428400260891374227\\\",\\\"id\\\":\\\"9315871273456132375\\\",\\\"type\\\":\\\"observable\\\"})};\\n    var self = this;\\n    function AppViewModel() {\\n        for (var key in json_data) {\\n            var el = json_data[key];\\n            this[key] = Array.isArray(el) ? ko.observableArray(el) : ko.observable(el);\\n        }\\n        \\n        [this[\\\"formatted_val\\\"]=ko.computed(    function(){\\n        return this.formatted_vals()[parseInt(this.index())-(1)];\\n    }\\n,this)]\\n        [this[\\\"changes\\\"].subscribe((function (val){!(this.valueFromJulia[\\\"changes\\\"]) ? (WebIO.setval({\\\"name\\\":\\\"changes\\\",\\\"scope\\\":\\\"12428400260891374227\\\",\\\"id\\\":\\\"9461018336082373611\\\",\\\"type\\\":\\\"observable\\\"},val)) : undefined; return this.valueFromJulia[\\\"changes\\\"]=false}),self),this[\\\"index\\\"].subscribe((function (val){!(this.valueFromJulia[\\\"index\\\"]) ? (WebIO.setval({\\\"name\\\":\\\"index\\\",\\\"scope\\\":\\\"12428400260891374227\\\",\\\"id\\\":\\\"9315871273456132375\\\",\\\"type\\\":\\\"observable\\\"},val)) : undefined; return this.valueFromJulia[\\\"index\\\"]=false}),self)]\\n        \\n    }\\n    self.model = new AppViewModel();\\n    self.valueFromJulia = {};\\n    for (var key in json_data) {\\n        self.valueFromJulia[key] = false;\\n    }\\n    ko.applyBindings(self.model, self.dom);\\n}\\n);\\n    (WebIO.importBlock({\\\"data\\\":[{\\\"name\\\":\\\"knockout\\\",\\\"type\\\":\\\"js\\\",\\\"url\\\":\\\"\\/assetserver\\/d749de49a15576291e39755d819be2408bf7f995-knockout.js\\\"},{\\\"name\\\":\\\"knockout_punches\\\",\\\"type\\\":\\\"js\\\",\\\"url\\\":\\\"\\/assetserver\\/9f5c86158cf79faf331cfb32636cb08a9b1f0dc2-knockout_punches.js\\\"}],\\\"type\\\":\\\"async_block\\\"})).then((imports) => handler.apply(this, imports));\\n}\\n\"],\"observables\":{\"changes\":{\"sync\":true,\"id\":\"9461018336082373611\",\"value\":0},\"index\":{\"sync\":true,\"id\":\"9315871273456132375\",\"value\":51}}},\"children\":[{\"props\":{\"className\":\"interact-flex-row interact-widget\",\"style\":{\"font-family\":\"monospace\",\"width\":\"80%\"}},\"nodeType\":\"DOM\",\"type\":\"node\",\"instanceArgs\":{\"namespace\":\"html\",\"tag\":\"div\"},\"children\":[{\"props\":{\"className\":\"interact-flex-row-left\"},\"nodeType\":\"DOM\",\"type\":\"node\",\"instanceArgs\":{\"namespace\":\"html\",\"tag\":\"div\"},\"children\":[{\"props\":{\"className\":\"interact \",\"style\":{\"padding\":\"5px 10px 0px 10px\",\"white-space\":\"nowrap\",\"color\":\"royalblue\"}},\"nodeType\":\"DOM\",\"type\":\"node\",\"instanceArgs\":{\"namespace\":\"html\",\"tag\":\"label\"},\"children\":[\"W0\"]}]},{\"props\":{\"className\":\"interact-flex-row-center\"},\"nodeType\":\"DOM\",\"type\":\"node\",\"instanceArgs\":{\"namespace\":\"html\",\"tag\":\"div\"},\"children\":[{\"props\":{\"max\":101,\"min\":1,\"attributes\":{\"type\":\"range\",\"data-bind\":\"numericValue: index, valueUpdate: 'input', event: {change: function (){this.changes(this.changes()+1)}}\",\"orient\":\"horizontal\"},\"step\":1,\"className\":\"slider slider is-fullwidth\",\"style\":{}},\"nodeType\":\"DOM\",\"type\":\"node\",\"instanceArgs\":{\"namespace\":\"html\",\"tag\":\"input\"},\"children\":[]}]},{\"props\":{\"className\":\"interact-flex-row-right\"},\"nodeType\":\"DOM\",\"type\":\"node\",\"instanceArgs\":{\"namespace\":\"html\",\"tag\":\"div\"},\"children\":[{\"props\":{\"attributes\":{\"data-bind\":\"text: formatted_val\"}},\"nodeType\":\"DOM\",\"type\":\"node\",\"instanceArgs\":{\"namespace\":\"html\",\"tag\":\"p\"},\"children\":[]}]}]}]}]},{\"props\":{},\"nodeType\":\"Scope\",\"type\":\"node\",\"instanceArgs\":{\"imports\":{\"data\":[],\"type\":\"async_block\"},\"id\":\"2125591539507904741\",\"handlers\":{\"obs-output\":[\"function (value, scope) {\\n    scope.setInnerHTML(value);\\n}\\n\"]},\"systemjs_options\":null,\"mount_callbacks\":[],\"observables\":{\"obs-output\":{\"sync\":false,\"id\":\"12924469157957172752\",\"value\":\"<?xml version=\\\"1.0\\\" encoding=\\\"UTF-8\\\"?>\\n<svg xmlns=\\\"http:\\/\\/www.w3.org\\/2000\\/svg\\\"\\n     xmlns:xlink=\\\"http:\\/\\/www.w3.org\\/1999\\/xlink\\\"\\n     xmlns:gadfly=\\\"http:\\/\\/www.gadflyjl.org\\/ns\\\"\\n     version=\\\"1.2\\\"\\n     width=\\\"141.42mm\\\" height=\\\"100mm\\\" viewBox=\\\"0 0 141.42 100\\\"\\n     stroke=\\\"none\\\"\\n     fill=\\\"#000000\\\"\\n     stroke-width=\\\"0.3\\\"\\n     font-size=\\\"3.88\\\"\\n>\\n<defs>\\n  <marker id=\\\"arrow\\\" markerWidth=\\\"15\\\" markerHeight=\\\"7\\\" refX=\\\"5\\\" refY=\\\"3.5\\\" orient=\\\"auto\\\" markerUnits=\\\"strokeWidth\\\">\\n    <path d=\\\"M0,0 L15,3.5 L0,7 z\\\" stroke=\\\"context-stroke\\\" fill=\\\"context-stroke\\\"\\/>\\n  <\\/marker>\\n<\\/defs>\\n<g stroke=\\\"#000000\\\" stroke-opacity=\\\"0.000\\\" fill=\\\"#FFFFFF\\\" id=\\\"img-a2419ffa-1\\\">\\n  <g transform=\\\"translate(70.71,50)\\\">\\n    <path d=\\\"M-70.71,-50 L70.71,-50 70.71,50 -70.71,50  z\\\" class=\\\"primitive\\\"\\/>\\n  <\\/g>\\n<\\/g>\\n<g class=\\\"plotroot xscalable yscalable\\\" id=\\\"img-a2419ffa-2\\\">\\n  <g font-size=\\\"3.53\\\" font-family=\\\"'PT Sans','Helvetica Neue','Helvetica',sans-serif\\\" fill=\\\"#564A55\\\" stroke=\\\"#000000\\\" stroke-opacity=\\\"0.000\\\" id=\\\"img-a2419ffa-3\\\">\\n    <g transform=\\\"translate(77.68,93.72)\\\">\\n      <g class=\\\"primitive\\\">\\n        <text text-anchor=\\\"middle\\\" dy=\\\"0.6em\\\">t<\\/text>\\n      <\\/g>\\n    <\\/g>\\n  <\\/g>\\n  <g class=\\\"guide xlabels\\\" font-size=\\\"2.82\\\" font-family=\\\"'PT Sans Caption','Helvetica Neue','Helvetica',sans-serif\\\" fill=\\\"#6C606B\\\" id=\\\"img-a2419ffa-4\\\">\\n    <g transform=\\\"translate(20.94,87.04)\\\">\\n      <g class=\\\"primitive\\\">\\n        <text text-anchor=\\\"middle\\\" dy=\\\"0.6em\\\">0<\\/text>\\n      <\\/g>\\n    <\\/g>\\n    <g transform=\\\"translate(77.68,87.04)\\\">\\n      <g class=\\\"primitive\\\">\\n        <text text-anchor=\\\"middle\\\" dy=\\\"0.6em\\\">50<\\/text>\\n      <\\/g>\\n    <\\/g>\\n    <g transform=\\\"translate(134.42,87.04)\\\">\\n      <g class=\\\"primitive\\\">\\n        <text text-anchor=\\\"middle\\\" dy=\\\"0.6em\\\">100<\\/text>\\n      <\\/g>\\n    <\\/g>\\n  <\\/g>\\n  <g clip-path=\\\"url(#img-a2419ffa-5)\\\">\\n    <g id=\\\"img-a2419ffa-6\\\">\\n      <g pointer-events=\\\"visible\\\" stroke-width=\\\"0.3\\\" fill=\\\"#000000\\\" fill-opacity=\\\"0.000\\\" stroke=\\\"#000000\\\" stroke-opacity=\\\"0.000\\\" class=\\\"guide background\\\" id=\\\"img-a2419ffa-7\\\">\\n        <g transform=\\\"translate(77.68,45.52)\\\" id=\\\"img-a2419ffa-8\\\">\\n          <path d=\\\"M-58.74,-40.52 L58.74,-40.52 58.74,40.52 -58.74,40.52  z\\\" class=\\\"primitive\\\"\\/>\\n        <\\/g>\\n      <\\/g>\\n      <g class=\\\"guide ygridlines xfixed\\\" stroke-dasharray=\\\"0.5,0.5\\\" stroke-width=\\\"0.2\\\" stroke=\\\"#D0D0E0\\\" id=\\\"img-a2419ffa-9\\\">\\n        <g transform=\\\"translate(77.68,84.04)\\\" id=\\\"img-a2419ffa-10\\\">\\n          <path fill=\\\"none\\\" d=\\\"M-58.74,0 L58.74,0 \\\" class=\\\"primitive\\\"\\/>\\n        <\\/g>\\n        <g transform=\\\"translate(77.68,45.52)\\\" id=\\\"img-a2419ffa-11\\\">\\n          <path fill=\\\"none\\\" d=\\\"M-58.74,0 L58.74,0 \\\" class=\\\"primitive\\\"\\/>\\n        <\\/g>\\n        <g transform=\\\"translate(77.68,7)\\\" id=\\\"img-a2419ffa-12\\\">\\n          <path fill=\\\"none\\\" d=\\\"M-58.74,0 L58.74,0 \\\" class=\\\"primitive\\\"\\/>\\n        <\\/g>\\n      <\\/g>\\n      <g class=\\\"guide xgridlines yfixed\\\" stroke-dasharray=\\\"0.5,0.5\\\" stroke-width=\\\"0.2\\\" stroke=\\\"#D0D0E0\\\" id=\\\"img-a2419ffa-13\\\">\\n        <g transform=\\\"translate(20.94,45.52)\\\" id=\\\"img-a2419ffa-14\\\">\\n          <path fill=\\\"none\\\" d=\\\"M0,-40.52 L0,40.52 \\\" class=\\\"primitive\\\"\\/>\\n        <\\/g>\\n        <g transform=\\\"translate(77.68,45.52)\\\" id=\\\"img-a2419ffa-15\\\">\\n          <path fill=\\\"none\\\" d=\\\"M0,-40.52 L0,40.52 \\\" class=\\\"primitive\\\"\\/>\\n        <\\/g>\\n        <g transform=\\\"translate(134.42,45.52)\\\" id=\\\"img-a2419ffa-16\\\">\\n          <path fill=\\\"none\\\" d=\\\"M0,-40.52 L0,40.52 \\\" class=\\\"primitive\\\"\\/>\\n        <\\/g>\\n      <\\/g>\\n      <g class=\\\"plotpanel\\\" id=\\\"img-a2419ffa-17\\\">\\n        <metadata>\\n          <boundingbox value=\\\"18.936666666666667mm 5.0mm 117.48468957064284mm 81.04333333333334mm\\\"\\/>\\n          <unitbox value=\\\"-1.762352267576169 102.59594167784364 103.52470453515235 -105.19188335568728\\\"\\/>\\n        <\\/metadata>\\n        <g stroke-width=\\\"0.3\\\" fill=\\\"#000000\\\" fill-opacity=\\\"0.000\\\" class=\\\"geometry\\\" id=\\\"img-a2419ffa-18\\\">\\n          <g class=\\\"color_LCHab{Float32}(70.0f0,60.0f0,240.0f0)\\\" stroke-dasharray=\\\"none\\\" stroke-opacity=\\\"1\\\" stroke=\\\"#00BFFF\\\" id=\\\"img-a2419ffa-19\\\">\\n            <g transform=\\\"translate(77.68,-20.52)\\\" id=\\\"img-a2419ffa-20\\\">\\n              <path fill=\\\"none\\\" d=\\\"M-56.74,100.71 L-55.61,100.52 -54.47,100.32 -53.34,100.1 -52.2,99.88 -51.07,99.65 -49.93,99.4 -48.8,99.14 -47.66,98.87 -46.53,98.59 -45.39,98.29 -44.26,97.97 -43.12,97.64 -41.99,97.3 -40.85,96.94 -39.72,96.55 -38.58,96.15 -37.45,95.73 -36.32,95.29 -35.18,94.83 -34.05,94.34 -32.91,93.83 -31.78,93.29 -30.64,92.73 -29.51,92.14 -28.37,91.52 -27.24,90.87 -26.1,90.18 -24.97,89.46 -23.83,88.71 -22.7,87.91 -21.56,87.08 -20.43,86.21 -19.29,85.29 -18.16,84.33 -17.02,83.31 -15.89,82.25 -14.75,81.14 -13.62,79.96 -12.48,78.73 -11.35,77.44 -10.21,76.09 -9.08,74.66 -7.94,73.17 -6.81,71.6 -5.67,69.95 -4.54,68.22 -3.4,66.4 -2.27,64.5 -1.13,62.49 0,60.39 1.13,58.18 2.27,55.86 3.4,53.43 4.54,50.87 5.67,48.18 6.81,45.36 7.94,42.4 9.08,39.3 10.21,36.03 11.35,32.61 12.48,29.01 13.62,25.23 14.75,21.27 15.89,17.1 17.02,12.73 18.16,8.14 19.29,3.31 20.43,-1.75 21.56,-7.06 22.7,-12.65 23.83,-18.51 24.97,-24.66 26.1,-31.12 27.24,-37.9 28.37,-45.03 29.51,-52.51 30.64,-60.36 31.78,-68.61 32.91,-77.27 34.05,-86.36 35.18,-95.9 36.32,-105.93 37.45,-116.45 38.58,-127.5 39.72,-139.1 40.85,-151.29 41.99,-164.08 43.12,-177.51 44.26,-191.62 45.39,-206.42 46.53,-221.97 47.66,-238.3 48.8,-255.44 49.93,-273.44 51.07,-292.34 52.2,-312.19 53.34,-333.03 54.47,-354.91 55.61,-377.88 56.74,-402 \\\" class=\\\"primitive\\\"\\/>\\n            <\\/g>\\n          <\\/g>\\n        <\\/g>\\n      <\\/g>\\n    <\\/g>\\n  <\\/g>\\n  <g class=\\\"guide ylabels\\\" font-size=\\\"2.82\\\" font-family=\\\"'PT Sans Caption','Helvetica Neue','Helvetica',sans-serif\\\" fill=\\\"#6C606B\\\" id=\\\"img-a2419ffa-21\\\">\\n    <g transform=\\\"translate(17.94,84.04)\\\" id=\\\"img-a2419ffa-22\\\">\\n      <g class=\\\"primitive\\\">\\n        <text text-anchor=\\\"end\\\" dy=\\\"0.35em\\\">0<\\/text>\\n      <\\/g>\\n    <\\/g>\\n    <g transform=\\\"translate(17.94,45.52)\\\" id=\\\"img-a2419ffa-23\\\">\\n      <g class=\\\"primitive\\\">\\n        <text text-anchor=\\\"end\\\" dy=\\\"0.35em\\\">50<\\/text>\\n      <\\/g>\\n    <\\/g>\\n    <g transform=\\\"translate(17.94,7)\\\" id=\\\"img-a2419ffa-24\\\">\\n      <g class=\\\"primitive\\\">\\n        <text text-anchor=\\\"end\\\" dy=\\\"0.35em\\\">100<\\/text>\\n      <\\/g>\\n    <\\/g>\\n  <\\/g>\\n  <g font-size=\\\"3.53\\\" font-family=\\\"'PT Sans','Helvetica Neue','Helvetica',sans-serif\\\" fill=\\\"#564A55\\\" stroke=\\\"#000000\\\" stroke-opacity=\\\"0.000\\\" id=\\\"img-a2419ffa-25\\\">\\n    <g transform=\\\"translate(9.92,45.52)\\\" id=\\\"img-a2419ffa-26\\\">\\n      <g class=\\\"primitive\\\">\\n        <text text-anchor=\\\"end\\\" dy=\\\"0.35em\\\">W<\\/text>\\n      <\\/g>\\n    <\\/g>\\n  <\\/g>\\n<\\/g>\\n<defs>\\n  <clipPath id=\\\"img-a2419ffa-5\\\">\\n    <path d=\\\"M18.94,5 L136.42,5 136.42,86.04 18.94,86.04 \\\" \\/>\\n  <\\/clipPath>\\n<\\/defs>\\n<\\/svg>\\n\"}}},\"children\":[{\"props\":{\"className\":\"webio-observable\",\"setInnerHtml\":\"<?xml version=\\\"1.0\\\" encoding=\\\"UTF-8\\\"?>\\n<svg xmlns=\\\"http:\\/\\/www.w3.org\\/2000\\/svg\\\"\\n     xmlns:xlink=\\\"http:\\/\\/www.w3.org\\/1999\\/xlink\\\"\\n     xmlns:gadfly=\\\"http:\\/\\/www.gadflyjl.org\\/ns\\\"\\n     version=\\\"1.2\\\"\\n     width=\\\"141.42mm\\\" height=\\\"100mm\\\" viewBox=\\\"0 0 141.42 100\\\"\\n     stroke=\\\"none\\\"\\n     fill=\\\"#000000\\\"\\n     stroke-width=\\\"0.3\\\"\\n     font-size=\\\"3.88\\\"\\n>\\n<defs>\\n  <marker id=\\\"arrow\\\" markerWidth=\\\"15\\\" markerHeight=\\\"7\\\" refX=\\\"5\\\" refY=\\\"3.5\\\" orient=\\\"auto\\\" markerUnits=\\\"strokeWidth\\\">\\n    <path d=\\\"M0,0 L15,3.5 L0,7 z\\\" stroke=\\\"context-stroke\\\" fill=\\\"context-stroke\\\"\\/>\\n  <\\/marker>\\n<\\/defs>\\n<g stroke=\\\"#000000\\\" stroke-opacity=\\\"0.000\\\" fill=\\\"#FFFFFF\\\" id=\\\"img-a2419ffa-1\\\">\\n  <g transform=\\\"translate(70.71,50)\\\">\\n    <path d=\\\"M-70.71,-50 L70.71,-50 70.71,50 -70.71,50  z\\\" class=\\\"primitive\\\"\\/>\\n  <\\/g>\\n<\\/g>\\n<g class=\\\"plotroot xscalable yscalable\\\" id=\\\"img-a2419ffa-2\\\">\\n  <g font-size=\\\"3.53\\\" font-family=\\\"'PT Sans','Helvetica Neue','Helvetica',sans-serif\\\" fill=\\\"#564A55\\\" stroke=\\\"#000000\\\" stroke-opacity=\\\"0.000\\\" id=\\\"img-a2419ffa-3\\\">\\n    <g transform=\\\"translate(77.68,93.72)\\\">\\n      <g class=\\\"primitive\\\">\\n        <text text-anchor=\\\"middle\\\" dy=\\\"0.6em\\\">t<\\/text>\\n      <\\/g>\\n    <\\/g>\\n  <\\/g>\\n  <g class=\\\"guide xlabels\\\" font-size=\\\"2.82\\\" font-family=\\\"'PT Sans Caption','Helvetica Neue','Helvetica',sans-serif\\\" fill=\\\"#6C606B\\\" id=\\\"img-a2419ffa-4\\\">\\n    <g transform=\\\"translate(20.94,87.04)\\\">\\n      <g class=\\\"primitive\\\">\\n        <text text-anchor=\\\"middle\\\" dy=\\\"0.6em\\\">0<\\/text>\\n      <\\/g>\\n    <\\/g>\\n    <g transform=\\\"translate(77.68,87.04)\\\">\\n      <g class=\\\"primitive\\\">\\n        <text text-anchor=\\\"middle\\\" dy=\\\"0.6em\\\">50<\\/text>\\n      <\\/g>\\n    <\\/g>\\n    <g transform=\\\"translate(134.42,87.04)\\\">\\n      <g class=\\\"primitive\\\">\\n        <text text-anchor=\\\"middle\\\" dy=\\\"0.6em\\\">100<\\/text>\\n      <\\/g>\\n    <\\/g>\\n  <\\/g>\\n  <g clip-path=\\\"url(#img-a2419ffa-5)\\\">\\n    <g id=\\\"img-a2419ffa-6\\\">\\n      <g pointer-events=\\\"visible\\\" stroke-width=\\\"0.3\\\" fill=\\\"#000000\\\" fill-opacity=\\\"0.000\\\" stroke=\\\"#000000\\\" stroke-opacity=\\\"0.000\\\" class=\\\"guide background\\\" id=\\\"img-a2419ffa-7\\\">\\n        <g transform=\\\"translate(77.68,45.52)\\\" id=\\\"img-a2419ffa-8\\\">\\n          <path d=\\\"M-58.74,-40.52 L58.74,-40.52 58.74,40.52 -58.74,40.52  z\\\" class=\\\"primitive\\\"\\/>\\n        <\\/g>\\n      <\\/g>\\n      <g class=\\\"guide ygridlines xfixed\\\" stroke-dasharray=\\\"0.5,0.5\\\" stroke-width=\\\"0.2\\\" stroke=\\\"#D0D0E0\\\" id=\\\"img-a2419ffa-9\\\">\\n        <g transform=\\\"translate(77.68,84.04)\\\" id=\\\"img-a2419ffa-10\\\">\\n          <path fill=\\\"none\\\" d=\\\"M-58.74,0 L58.74,0 \\\" class=\\\"primitive\\\"\\/>\\n        <\\/g>\\n        <g transform=\\\"translate(77.68,45.52)\\\" id=\\\"img-a2419ffa-11\\\">\\n          <path fill=\\\"none\\\" d=\\\"M-58.74,0 L58.74,0 \\\" class=\\\"primitive\\\"\\/>\\n        <\\/g>\\n        <g transform=\\\"translate(77.68,7)\\\" id=\\\"img-a2419ffa-12\\\">\\n          <path fill=\\\"none\\\" d=\\\"M-58.74,0 L58.74,0 \\\" class=\\\"primitive\\\"\\/>\\n        <\\/g>\\n      <\\/g>\\n      <g class=\\\"guide xgridlines yfixed\\\" stroke-dasharray=\\\"0.5,0.5\\\" stroke-width=\\\"0.2\\\" stroke=\\\"#D0D0E0\\\" id=\\\"img-a2419ffa-13\\\">\\n        <g transform=\\\"translate(20.94,45.52)\\\" id=\\\"img-a2419ffa-14\\\">\\n          <path fill=\\\"none\\\" d=\\\"M0,-40.52 L0,40.52 \\\" class=\\\"primitive\\\"\\/>\\n        <\\/g>\\n        <g transform=\\\"translate(77.68,45.52)\\\" id=\\\"img-a2419ffa-15\\\">\\n          <path fill=\\\"none\\\" d=\\\"M0,-40.52 L0,40.52 \\\" class=\\\"primitive\\\"\\/>\\n        <\\/g>\\n        <g transform=\\\"translate(134.42,45.52)\\\" id=\\\"img-a2419ffa-16\\\">\\n          <path fill=\\\"none\\\" d=\\\"M0,-40.52 L0,40.52 \\\" class=\\\"primitive\\\"\\/>\\n        <\\/g>\\n      <\\/g>\\n      <g class=\\\"plotpanel\\\" id=\\\"img-a2419ffa-17\\\">\\n        <metadata>\\n          <boundingbox value=\\\"18.936666666666667mm 5.0mm 117.48468957064284mm 81.04333333333334mm\\\"\\/>\\n          <unitbox value=\\\"-1.762352267576169 102.59594167784364 103.52470453515235 -105.19188335568728\\\"\\/>\\n        <\\/metadata>\\n        <g stroke-width=\\\"0.3\\\" fill=\\\"#000000\\\" fill-opacity=\\\"0.000\\\" class=\\\"geometry\\\" id=\\\"img-a2419ffa-18\\\">\\n          <g class=\\\"color_LCHab{Float32}(70.0f0,60.0f0,240.0f0)\\\" stroke-dasharray=\\\"none\\\" stroke-opacity=\\\"1\\\" stroke=\\\"#00BFFF\\\" id=\\\"img-a2419ffa-19\\\">\\n            <g transform=\\\"translate(77.68,-20.52)\\\" id=\\\"img-a2419ffa-20\\\">\\n              <path fill=\\\"none\\\" d=\\\"M-56.74,100.71 L-55.61,100.52 -54.47,100.32 -53.34,100.1 -52.2,99.88 -51.07,99.65 -49.93,99.4 -48.8,99.14 -47.66,98.87 -46.53,98.59 -45.39,98.29 -44.26,97.97 -43.12,97.64 -41.99,97.3 -40.85,96.94 -39.72,96.55 -38.58,96.15 -37.45,95.73 -36.32,95.29 -35.18,94.83 -34.05,94.34 -32.91,93.83 -31.78,93.29 -30.64,92.73 -29.51,92.14 -28.37,91.52 -27.24,90.87 -26.1,90.18 -24.97,89.46 -23.83,88.71 -22.7,87.91 -21.56,87.08 -20.43,86.21 -19.29,85.29 -18.16,84.33 -17.02,83.31 -15.89,82.25 -14.75,81.14 -13.62,79.96 -12.48,78.73 -11.35,77.44 -10.21,76.09 -9.08,74.66 -7.94,73.17 -6.81,71.6 -5.67,69.95 -4.54,68.22 -3.4,66.4 -2.27,64.5 -1.13,62.49 0,60.39 1.13,58.18 2.27,55.86 3.4,53.43 4.54,50.87 5.67,48.18 6.81,45.36 7.94,42.4 9.08,39.3 10.21,36.03 11.35,32.61 12.48,29.01 13.62,25.23 14.75,21.27 15.89,17.1 17.02,12.73 18.16,8.14 19.29,3.31 20.43,-1.75 21.56,-7.06 22.7,-12.65 23.83,-18.51 24.97,-24.66 26.1,-31.12 27.24,-37.9 28.37,-45.03 29.51,-52.51 30.64,-60.36 31.78,-68.61 32.91,-77.27 34.05,-86.36 35.18,-95.9 36.32,-105.93 37.45,-116.45 38.58,-127.5 39.72,-139.1 40.85,-151.29 41.99,-164.08 43.12,-177.51 44.26,-191.62 45.39,-206.42 46.53,-221.97 47.66,-238.3 48.8,-255.44 49.93,-273.44 51.07,-292.34 52.2,-312.19 53.34,-333.03 54.47,-354.91 55.61,-377.88 56.74,-402 \\\" class=\\\"primitive\\\"\\/>\\n            <\\/g>\\n          <\\/g>\\n        <\\/g>\\n      <\\/g>\\n    <\\/g>\\n  <\\/g>\\n  <g class=\\\"guide ylabels\\\" font-size=\\\"2.82\\\" font-family=\\\"'PT Sans Caption','Helvetica Neue','Helvetica',sans-serif\\\" fill=\\\"#6C606B\\\" id=\\\"img-a2419ffa-21\\\">\\n    <g transform=\\\"translate(17.94,84.04)\\\" id=\\\"img-a2419ffa-22\\\">\\n      <g class=\\\"primitive\\\">\\n        <text text-anchor=\\\"end\\\" dy=\\\"0.35em\\\">0<\\/text>\\n      <\\/g>\\n    <\\/g>\\n    <g transform=\\\"translate(17.94,45.52)\\\" id=\\\"img-a2419ffa-23\\\">\\n      <g class=\\\"primitive\\\">\\n        <text text-anchor=\\\"end\\\" dy=\\\"0.35em\\\">50<\\/text>\\n      <\\/g>\\n    <\\/g>\\n    <g transform=\\\"translate(17.94,7)\\\" id=\\\"img-a2419ffa-24\\\">\\n      <g class=\\\"primitive\\\">\\n        <text text-anchor=\\\"end\\\" dy=\\\"0.35em\\\">100<\\/text>\\n      <\\/g>\\n    <\\/g>\\n  <\\/g>\\n  <g font-size=\\\"3.53\\\" font-family=\\\"'PT Sans','Helvetica Neue','Helvetica',sans-serif\\\" fill=\\\"#564A55\\\" stroke=\\\"#000000\\\" stroke-opacity=\\\"0.000\\\" id=\\\"img-a2419ffa-25\\\">\\n    <g transform=\\\"translate(9.92,45.52)\\\" id=\\\"img-a2419ffa-26\\\">\\n      <g class=\\\"primitive\\\">\\n        <text text-anchor=\\\"end\\\" dy=\\\"0.35em\\\">W<\\/text>\\n      <\\/g>\\n    <\\/g>\\n  <\\/g>\\n<\\/g>\\n<defs>\\n  <clipPath id=\\\"img-a2419ffa-5\\\">\\n    <path d=\\\"M18.94,5 L136.42,5 136.42,86.04 18.94,86.04 \\\" \\/>\\n  <\\/clipPath>\\n<\\/defs>\\n<\\/svg>\\n\"},\"nodeType\":\"DOM\",\"type\":\"node\",\"instanceArgs\":{\"namespace\":\"html\",\"tag\":\"div\"},\"children\":[]}]}]},\n",
       "        window,\n",
       "    );\n",
       "    })()\n",
       "    </script>\n",
       "</div>\n"
      ],
      "text/plain": [
       "WebIO.Node{WebIO.DOM}(WebIO.DOM(:html, :div), Any[WebIO.Node{WebIO.DOM}(WebIO.DOM(:html, :div), Any[\"Expo\"], Dict{Symbol, Any}(:style => Dict{String, Any}(\"color\" => :rebeccapurple, \"font-family\" => \"monospace\"))), WebIO.Node{WebIO.DOM}(WebIO.DOM(:html, :div), Any[WebIO.Scope(WebIO.Node{WebIO.DOM}(WebIO.DOM(:html, :div), Any[WebIO.Node{WebIO.DOM}(WebIO.DOM(:html, :div), Any[WebIO.Node{WebIO.DOM}(WebIO.DOM(:html, :label), Any[\"μ\"], Dict{Symbol, Any}(:className => \"interact \", :style => Dict{Any, Any}(:padding => \"5px 10px 0px 10px\", \"white-space\" => :nowrap, \"color\" => :royalblue)))], Dict{Symbol, Any}(:className => \"interact-flex-row-left\")), WebIO.Node{WebIO.DOM}(WebIO.DOM(:html, :div), Any[WebIO.Node{WebIO.DOM}(WebIO.DOM(:html, :input), Any[], Dict{Symbol, Any}(:max => 11, :min => 1, :attributes => Dict{Any, Any}(:type => \"range\", Symbol(\"data-bind\") => \"numericValue: index, valueUpdate: 'input', event: {change: function (){this.changes(this.changes()+1)}}\", \"orient\" => \"horizontal\"), :step => 1, :className => \"slider slider is-fullwidth\", :style => Dict{Any, Any}()))], Dict{Symbol, Any}(:className => \"interact-flex-row-center\")), WebIO.Node{WebIO.DOM}(WebIO.DOM(:html, :div), Any[WebIO.Node{WebIO.DOM}(WebIO.DOM(:html, :p), Any[], Dict{Symbol, Any}(:attributes => Dict(\"data-bind\" => \"text: formatted_val\")))], Dict{Symbol, Any}(:className => \"interact-flex-row-right\"))], Dict{Symbol, Any}(:className => \"interact-flex-row interact-widget\", :style => Dict(\"font-family\" => \"monospace\", \"width\" => \"80%\"))), Dict{String, Tuple{Observables.AbstractObservable, Union{Nothing, Bool}}}(\"changes\" => (Observable(0), nothing), \"index\" => (Observable{Any}(6), nothing)), Set{String}(), nothing, WebIO.Asset[WebIO.Asset(\"js\", \"knockout\", \"/opt/julia/packages/Knockout/HReiN/src/../assets/knockout.js\"), WebIO.Asset(\"js\", \"knockout_punches\", \"/opt/julia/packages/Knockout/HReiN/src/../assets/knockout_punches.js\"), WebIO.Asset(\"js\", nothing, \"/opt/julia/packages/InteractBase/LJXv3/src/../assets/all.js\"), WebIO.Asset(\"css\", nothing, \"/opt/julia/packages/InteractBase/LJXv3/src/../assets/style.css\"), WebIO.Asset(\"css\", nothing, \"/opt/julia/packages/Interact/PENUy/src/../assets/bulma_confined.min.css\")], Dict{Any, Any}(\"changes\" => Any[WebIO.JSString(\"(function (val){return (val!=this.model[\\\"changes\\\"]()) ? (this.valueFromJulia[\\\"changes\\\"]=true, this.model[\\\"changes\\\"](val)) : undefined})\")], \"index\" => Any[WebIO.JSString(\"(function (val){return (val!=this.model[\\\"index\\\"]()) ? (this.valueFromJulia[\\\"index\\\"]=true, this.model[\\\"index\\\"](val)) : undefined})\")]), WebIO.ConnectionPool(Channel{Any}(32), Set{WebIO.AbstractConnection}(), Base.GenericCondition{ReentrantLock}(Base.IntrusiveLinkedList{Task}(Task (runnable) @0x0000ffff61b4d370, Task (runnable) @0x0000ffff61b4d370), ReentrantLock(nothing, 0x00000000, 0x00, Base.GenericCondition{Base.Threads.SpinLock}(Base.IntrusiveLinkedList{Task}(nothing, nothing), Base.Threads.SpinLock(0)), (0, 0, 141733920768)))), WebIO.JSString[WebIO.JSString(\"function () {\\n    var handler = (function (ko, koPunches) {\\n    ko.punches.enableAll();\\n    ko.bindingHandlers.numericValue = {\\n        init: function(element, valueAccessor, allBindings, data, context) {\\n            var stringified = ko.observable(ko.unwrap(valueAccessor()));\\n            stringified.subscribe(function(value) {\\n                var val = parseFloat(value);\\n                if (!isNaN(val)) {\\n                    valueAccessor()(val);\\n                }\\n            });\\n            valueAccessor().subscribe(function(value) {\\n                var str = JSON.stringify(value);\\n                if ((str == \\\"0\\\") && ([\\\"-0\\\", \\\"-0.\\\"].indexOf(stringified()) >= 0))\\n                     return;\\n                 if ([\\\"null\\\", \\\"\\\"].indexOf(str) >= 0)\\n                     return;\\n                stringified(str);\\n            });\\n            ko.applyBindingsToNode(\\n                element,\\n                {\\n                    value: stringified,\\n                    valueUpdate: allBindings.get('valueUpdate'),\\n                },\\n                context,\\n            );\\n        }\\n    };\\n    var json_data = {\\\"formatted_vals\\\":[\\\"0.0\\\",\\\"0.01\\\",\\\"0.02\\\",\\\"0.03\\\",\\\"0.04\\\",\\\"0.05\\\",\\\"0.06\\\",\\\"0.07\\\",\\\"0.08\\\",\\\"0.09\\\",\\\"0.1\\\"],\\\"changes\\\":WebIO.getval({\\\"name\\\":\\\"changes\\\",\\\"scope\\\":\\\"11058857817621171106\\\",\\\"id\\\":\\\"14097544696111474689\\\",\\\"type\\\":\\\"observable\\\"}),\\\"index\\\":WebIO.getval({\\\"name\\\":\\\"index\\\",\\\"scope\\\":\\\"11058857817621171106\\\",\\\"id\\\":\\\"14276643292871497984\\\",\\\"type\\\":\\\"observable\\\"})};\\n    var self = this;\\n    function AppViewModel() {\\n        for (var key in json_data) {\\n            var el = json_data[key];\\n            this[key] = Array.isArray(el) ? ko.observableArray(el) : ko.observable(el);\\n        }\\n        \\n        [this[\\\"formatted_val\\\"]=ko.computed(    function(){\\n        return this.formatted_vals()[parseInt(this.index())-(1)];\\n    }\\n,this)]\\n        [this[\\\"changes\\\"].subscribe((function (val){!(this.valueFromJulia[\\\"changes\\\"]) ? (WebIO.setval({\\\"name\\\":\\\"changes\\\",\\\"scope\\\":\\\"11058857817621171106\\\",\\\"id\\\":\\\"14097544696111474689\\\",\\\"type\\\":\\\"observable\\\"},val)) : undefined; return this.valueFromJulia[\\\"changes\\\"]=false}),self),this[\\\"index\\\"].subscribe((function (val){!(this.valueFromJulia[\\\"index\\\"]) ? (WebIO.setval({\\\"name\\\":\\\"index\\\",\\\"scope\\\":\\\"11058857817621171106\\\",\\\"id\\\":\\\"14276643292871497984\\\",\\\"type\\\":\\\"observable\\\"},val)) : undefined; return this.valueFromJulia[\\\"index\\\"]=false}),self)]\\n        \\n    }\\n    self.model = new AppViewModel();\\n    self.valueFromJulia = {};\\n    for (var key in json_data) {\\n        self.valueFromJulia[key] = false;\\n    }\\n    ko.applyBindings(self.model, self.dom);\\n}\\n);\\n    (WebIO.importBlock({\\\"data\\\":[{\\\"name\\\":\\\"knockout\\\",\\\"type\\\":\\\"js\\\",\\\"url\\\":\\\"/assetserver/d749de49a15576291e39755d819be2408bf7f995-knockout.js\\\"},{\\\"name\\\":\\\"knockout_punches\\\",\\\"type\\\":\\\"js\\\",\\\"url\\\":\\\"/assetserver/9f5c86158cf79faf331cfb32636cb08a9b1f0dc2-knockout_punches.js\\\"}],\\\"type\\\":\\\"async_block\\\"})).then((imports) => handler.apply(this, imports));\\n}\\n\")])], Dict{Symbol, Any}(:className => \"field interact-widget\")), WebIO.Node{WebIO.DOM}(WebIO.DOM(:html, :div), Any[WebIO.Scope(WebIO.Node{WebIO.DOM}(WebIO.DOM(:html, :div), Any[WebIO.Node{WebIO.DOM}(WebIO.DOM(:html, :div), Any[WebIO.Node{WebIO.DOM}(WebIO.DOM(:html, :label), Any[\"W0\"], Dict{Symbol, Any}(:className => \"interact \", :style => Dict{Any, Any}(:padding => \"5px 10px 0px 10px\", \"white-space\" => :nowrap, \"color\" => :royalblue)))], Dict{Symbol, Any}(:className => \"interact-flex-row-left\")), WebIO.Node{WebIO.DOM}(WebIO.DOM(:html, :div), Any[WebIO.Node{WebIO.DOM}(WebIO.DOM(:html, :input), Any[], Dict{Symbol, Any}(:max => 101, :min => 1, :attributes => Dict{Any, Any}(:type => \"range\", Symbol(\"data-bind\") => \"numericValue: index, valueUpdate: 'input', event: {change: function (){this.changes(this.changes()+1)}}\", \"orient\" => \"horizontal\"), :step => 1, :className => \"slider slider is-fullwidth\", :style => Dict{Any, Any}()))], Dict{Symbol, Any}(:className => \"interact-flex-row-center\")), WebIO.Node{WebIO.DOM}(WebIO.DOM(:html, :div), Any[WebIO.Node{WebIO.DOM}(WebIO.DOM(:html, :p), Any[], Dict{Symbol, Any}(:attributes => Dict(\"data-bind\" => \"text: formatted_val\")))], Dict{Symbol, Any}(:className => \"interact-flex-row-right\"))], Dict{Symbol, Any}(:className => \"interact-flex-row interact-widget\", :style => Dict(\"font-family\" => \"monospace\", \"width\" => \"80%\"))), Dict{String, Tuple{Observables.AbstractObservable, Union{Nothing, Bool}}}(\"changes\" => (Observable(0), nothing), \"index\" => (Observable{Any}(51), nothing)), Set{String}(), nothing, WebIO.Asset[WebIO.Asset(\"js\", \"knockout\", \"/opt/julia/packages/Knockout/HReiN/src/../assets/knockout.js\"), WebIO.Asset(\"js\", \"knockout_punches\", \"/opt/julia/packages/Knockout/HReiN/src/../assets/knockout_punches.js\"), WebIO.Asset(\"js\", nothing, \"/opt/julia/packages/InteractBase/LJXv3/src/../assets/all.js\"), WebIO.Asset(\"css\", nothing, \"/opt/julia/packages/InteractBase/LJXv3/src/../assets/style.css\"), WebIO.Asset(\"css\", nothing, \"/opt/julia/packages/Interact/PENUy/src/../assets/bulma_confined.min.css\")], Dict{Any, Any}(\"changes\" => Any[WebIO.JSString(\"(function (val){return (val!=this.model[\\\"changes\\\"]()) ? (this.valueFromJulia[\\\"changes\\\"]=true, this.model[\\\"changes\\\"](val)) : undefined})\")], \"index\" => Any[WebIO.JSString(\"(function (val){return (val!=this.model[\\\"index\\\"]()) ? (this.valueFromJulia[\\\"index\\\"]=true, this.model[\\\"index\\\"](val)) : undefined})\")]), WebIO.ConnectionPool(Channel{Any}(32), Set{WebIO.AbstractConnection}(), Base.GenericCondition{ReentrantLock}(Base.IntrusiveLinkedList{Task}(Task (runnable) @0x0000ffff9c3fe8c0, Task (runnable) @0x0000ffff9c3fe8c0), ReentrantLock(nothing, 0x00000000, 0x00, Base.GenericCondition{Base.Threads.SpinLock}(Base.IntrusiveLinkedList{Task}(nothing, nothing), Base.Threads.SpinLock(0)), (8, 0, 2)))), WebIO.JSString[WebIO.JSString(\"function () {\\n    var handler = (function (ko, koPunches) {\\n    ko.punches.enableAll();\\n    ko.bindingHandlers.numericValue = {\\n        init: function(element, valueAccessor, allBindings, data, context) {\\n            var stringified = ko.observable(ko.unwrap(valueAccessor()));\\n            stringified.subscribe(function(value) {\\n                var val = parseFloat(value);\\n                if (!isNaN(val)) {\\n                    valueAccessor()(val);\\n                }\\n            });\\n            valueAccessor().subscribe(function(value) {\\n                var str = JSON.stringify(value);\\n                if ((str == \\\"0\\\") && ([\\\"-0\\\", \\\"-0.\\\"].indexOf(stringified()) >= 0))\\n                     return;\\n                 if ([\\\"null\\\", \\\"\\\"].indexOf(str) >= 0)\\n                     return;\\n                stringified(str);\\n            });\\n            ko.applyBindingsToNode(\\n                element,\\n                {\\n                    value: stringified,\\n                    valueUpdate: allBindings.get('valueUpdate'),\\n                },\\n                context,\\n            );\\n        }\\n    };\\n    var json_data = {\\\"formatted_vals\\\":[\\\"0.0\\\",\\\"0.1\\\",\\\"0.2\\\",\\\"0.3\\\",\\\"0.4\\\",\\\"0.5\\\",\\\"0.6\\\",\\\"0.7\\\",\\\"0.8\\\",\\\"0.9\\\",\\\"1.0\\\",\\\"1.1\\\",\\\"1.2\\\",\\\"1.3\\\",\\\"1.4\\\",\\\"1.5\\\",\\\"1.6\\\",\\\"1.7\\\",\\\"1.8\\\",\\\"1.9\\\",\\\"2.0\\\",\\\"2.1\\\",\\\"2.2\\\",\\\"2.3\\\",\\\"2.4\\\",\\\"2.5\\\",\\\"2.6\\\",\\\"2.7\\\",\\\"2.8\\\",\\\"2.9\\\",\\\"3.0\\\",\\\"3.1\\\",\\\"3.2\\\",\\\"3.3\\\",\\\"3.4\\\",\\\"3.5\\\",\\\"3.6\\\",\\\"3.7\\\",\\\"3.8\\\",\\\"3.9\\\",\\\"4.0\\\",\\\"4.1\\\",\\\"4.2\\\",\\\"4.3\\\",\\\"4.4\\\",\\\"4.5\\\",\\\"4.6\\\",\\\"4.7\\\",\\\"4.8\\\",\\\"4.9\\\",\\\"5.0\\\",\\\"5.1\\\",\\\"5.2\\\",\\\"5.3\\\",\\\"5.4\\\",\\\"5.5\\\",\\\"5.6\\\",\\\"5.7\\\",\\\"5.8\\\",\\\"5.9\\\",\\\"6.0\\\",\\\"6.1\\\",\\\"6.2\\\",\\\"6.3\\\",\\\"6.4\\\",\\\"6.5\\\",\\\"6.6\\\",\\\"6.7\\\",\\\"6.8\\\",\\\"6.9\\\",\\\"7.0\\\",\\\"7.1\\\",\\\"7.2\\\",\\\"7.3\\\",\\\"7.4\\\",\\\"7.5\\\",\\\"7.6\\\",\\\"7.7\\\",\\\"7.8\\\",\\\"7.9\\\",\\\"8.0\\\",\\\"8.1\\\",\\\"8.2\\\",\\\"8.3\\\",\\\"8.4\\\",\\\"8.5\\\",\\\"8.6\\\",\\\"8.7\\\",\\\"8.8\\\",\\\"8.9\\\",\\\"9.0\\\",\\\"9.1\\\",\\\"9.2\\\",\\\"9.3\\\",\\\"9.4\\\",\\\"9.5\\\",\\\"9.6\\\",\\\"9.7\\\",\\\"9.8\\\",\\\"9.9\\\",\\\"10.0\\\"],\\\"changes\\\":WebIO.getval({\\\"name\\\":\\\"changes\\\",\\\"scope\\\":\\\"12428400260891374227\\\",\\\"id\\\":\\\"9461018336082373611\\\",\\\"type\\\":\\\"observable\\\"}),\\\"index\\\":WebIO.getval({\\\"name\\\":\\\"index\\\",\\\"scope\\\":\\\"12428400260891374227\\\",\\\"id\\\":\\\"9315871273456132375\\\",\\\"type\\\":\\\"observable\\\"})};\\n    var self = this;\\n    function AppViewModel() {\\n        for (var key in json_data) {\\n            var el = json_data[key];\\n            this[key] = Array.isArray(el) ? ko.observableArray(el) : ko.observable(el);\\n        }\\n        \\n        [this[\\\"formatted_val\\\"]=ko.computed(    function(){\\n        return this.formatted_vals()[parseInt(this.index())-(1)];\\n    }\\n,this)]\\n        [this[\\\"changes\\\"].subscribe((function (val){!(this.valueFromJulia[\\\"changes\\\"]) ? (WebIO.setval({\\\"name\\\":\\\"changes\\\",\\\"scope\\\":\\\"12428400260891374227\\\",\\\"id\\\":\\\"9461018336082373611\\\",\\\"type\\\":\\\"observable\\\"},val)) : undefined; return this.valueFromJulia[\\\"changes\\\"]=false}),self),this[\\\"index\\\"].subscribe((function (val){!(this.valueFromJulia[\\\"index\\\"]) ? (WebIO.setval({\\\"name\\\":\\\"index\\\",\\\"scope\\\":\\\"12428400260891374227\\\",\\\"id\\\":\\\"9315871273456132375\\\",\\\"type\\\":\\\"observable\\\"},val)) : undefined; return this.valueFromJulia[\\\"index\\\"]=false}),self)]\\n        \\n    }\\n    self.model = new AppViewModel();\\n    self.valueFromJulia = {};\\n    for (var key in json_data) {\\n        self.valueFromJulia[key] = false;\\n    }\\n    ko.applyBindings(self.model, self.dom);\\n}\\n);\\n    (WebIO.importBlock({\\\"data\\\":[{\\\"name\\\":\\\"knockout\\\",\\\"type\\\":\\\"js\\\",\\\"url\\\":\\\"/assetserver/d749de49a15576291e39755d819be2408bf7f995-knockout.js\\\"},{\\\"name\\\":\\\"knockout_punches\\\",\\\"type\\\":\\\"js\\\",\\\"url\\\":\\\"/assetserver/9f5c86158cf79faf331cfb32636cb08a9b1f0dc2-knockout_punches.js\\\"}],\\\"type\\\":\\\"async_block\\\"})).then((imports) => handler.apply(this, imports));\\n}\\n\")])], Dict{Symbol, Any}(:className => \"field interact-widget\")), Observable(Gadfly.Plot(Gadfly.Layer[Gadfly.Layer(nothing, Dict{Symbol, Any}(:y => [5.0, 5.25, 5.5125, 5.788125, 6.07753125, 6.3814078125, 6.700478203125, 7.03550211328125, 7.387277218945313, 7.756641079892578  …  423.83441650791406, 445.02613733330975, 467.2774441999752, 490.64131640997397, 515.1733822304727, 540.9320513419964, 567.9786539090962, 596.3775866045511, 626.1964659347786, 657.5062892315176], :x => [0.0, 1.0, 2.0, 3.0, 4.0, 5.0, 6.0, 7.0, 8.0, 9.0  …  91.0, 92.0, 93.0, 94.0, 95.0, 96.0, 97.0, 98.0, 99.0, 100.0]), Gadfly.StatisticElement[], Gadfly.Geom.LineGeometry(Gadfly.Stat.Identity(), false, 2, Symbol(\"\")), Gadfly.Theme(LCHab{Float32}(70.0f0,60.0f0,240.0f0), 0.7mm, 0.45mm, 1.8mm, Gadfly.Scale.default_discrete_sizes, Gadfly.Scale.default_continuous_sizes, Gadfly.Scale.default_discrete_colors, Function[Compose.circle, Gadfly.Shape.square, Gadfly.Shape.diamond, Gadfly.Shape.cross, Gadfly.Shape.xcross, Gadfly.Shape.utriangle, Gadfly.Shape.dtriangle, Gadfly.Shape.star1, Gadfly.Shape.star2, Gadfly.Shape.hexagon, Gadfly.Shape.octagon, Gadfly.Shape.hline, Gadfly.Shape.vline, Gadfly.Shape.ltriangle, Gadfly.Shape.rtriangle], 0.3mm, [:solid, :dash, :dot, :dashdot, :dashdotdot, :ldash, :ldashdash, :ldashdot, :ldashdashdot], [1.0, 0.9, 0.8, 0.7, 0.6, 0.5, 0.4, 0.3, 0.2, 0.1, 0.0], nothing, nothing, 0.3mm, 0.0, RGB{N0f8}(1.0,1.0,1.0), Measures.AbsoluteLength[5.0mm, 5.0mm, 5.0mm, 0.0mm], RGB{N0f8}(0.816,0.816,0.878), Measures.AbsoluteLength[0.5mm, 0.5mm], RGB{N0f8}(0.627,0.627,0.627), 0.2mm, 0, \"'PT Sans Caption','Helvetica Neue','Helvetica',sans-serif\", 2.822222222222222mm, RGB{N0f8}(0.424,0.376,0.42), \"'PT Sans','Helvetica Neue','Helvetica',sans-serif\", 3.5277777777777777mm, RGB{N0f8}(0.337,0.29,0.333), \"'PT Sans Caption','Helvetica Neue','Helvetica',sans-serif\", 2.822222222222222mm, RGB{N0f8}(0.298,0.251,0.294), \"'PT Sans','Helvetica Neue','Helvetica',sans-serif\", 3.175mm, RGB{N0f8}(0.212,0.165,0.208), \"'PT Sans','Helvetica Neue','Helvetica',sans-serif\", 2.822222222222222mm, RGB{N0f8}(0.298,0.251,0.294), 40, -0.05mm, 1.0mm, 3.0mm, Gadfly.default_stroke_color, 0.3mm, Cropbox.var\"#603#612\"(), Gadfly.default_continuous_highlight_color, Gadfly.default_lowlight_color, Gadfly.default_middle_color, 0.6mm, :left, :square, nothing, nothing, nothing, :right, nothing, 2.0mm, 1000, 10.0, 0.5, 0.2, 1.0mm, 4, Gadfly.Scale.DiscreteColorScale(Gadfly.Scale.default_discrete_colors, nothing, nothing, true), Gadfly.Scale.ContinuousColorScale(Gadfly.Scale.var\"#73#77\"{Int64, Int64, Int64, Int64, Float64, Int64}(100, 40, 260, 10, 1.5, 70), Gadfly.Scale.ContinuousScaleTransform(identity, identity, Gadfly.Scale.identity_formatter), nothing, nothing)), 1)], nothing, Data(\n",
       "  titles=Dict{Symbol, AbstractString}()\n",
       ")\n",
       ", Gadfly.ScaleElement[], Gadfly.StatisticElement[], Gadfly.Coord.Cartesian([:x, :xmin, :xmax, :xintercept], [:y, :ymin, :ymax, :yintercept, :middle, :lower_hinge, :upper_hinge, :lower_fence, :upper_fence, :outliers], 0.0, 100.0, 0, 100, false, false, false, nothing, false), Gadfly.GuideElement[Gadfly.Guide.Title(\"\"), Gadfly.Guide.XLabel(\"t\", :auto), Gadfly.Guide.YLabel(\"W\", :auto)], Gadfly.Theme(LCHab{Float32}(70.0f0,60.0f0,240.0f0), 0.7mm, 0.45mm, 1.8mm, Gadfly.Scale.default_discrete_sizes, Gadfly.Scale.default_continuous_sizes, Gadfly.Scale.default_discrete_colors, Function[Compose.circle, Gadfly.Shape.square, Gadfly.Shape.diamond, Gadfly.Shape.cross, Gadfly.Shape.xcross, Gadfly.Shape.utriangle, Gadfly.Shape.dtriangle, Gadfly.Shape.star1, Gadfly.Shape.star2, Gadfly.Shape.hexagon, Gadfly.Shape.octagon, Gadfly.Shape.hline, Gadfly.Shape.vline, Gadfly.Shape.ltriangle, Gadfly.Shape.rtriangle], 0.3mm, [:solid, :dash, :dot, :dashdot, :dashdotdot, :ldash, :ldashdash, :ldashdot, :ldashdashdot], [1.0, 0.9, 0.8, 0.7, 0.6, 0.5, 0.4, 0.3, 0.2, 0.1, 0.0], nothing, nothing, 0.3mm, 0.0, RGB{N0f8}(1.0,1.0,1.0), Measures.AbsoluteLength[5.0mm, 5.0mm, 5.0mm, 0.0mm], RGB{N0f8}(0.816,0.816,0.878), Measures.AbsoluteLength[0.5mm, 0.5mm], RGB{N0f8}(0.627,0.627,0.627), 0.2mm, 0, \"'PT Sans Caption','Helvetica Neue','Helvetica',sans-serif\", 2.822222222222222mm, RGB{N0f8}(0.424,0.376,0.42), \"'PT Sans','Helvetica Neue','Helvetica',sans-serif\", 3.5277777777777777mm, RGB{N0f8}(0.337,0.29,0.333), \"'PT Sans Caption','Helvetica Neue','Helvetica',sans-serif\", 2.822222222222222mm, RGB{N0f8}(0.298,0.251,0.294), \"'PT Sans','Helvetica Neue','Helvetica',sans-serif\", 3.175mm, RGB{N0f8}(0.212,0.165,0.208), \"'PT Sans','Helvetica Neue','Helvetica',sans-serif\", 2.822222222222222mm, RGB{N0f8}(0.298,0.251,0.294), 40, -0.05mm, 1.0mm, 3.0mm, Gadfly.default_stroke_color, 0.3mm, Cropbox.var\"#603#612\"(), Gadfly.default_continuous_highlight_color, Gadfly.default_lowlight_color, Gadfly.default_middle_color, 0.6mm, :left, :square, nothing, nothing, nothing, :right, nothing, 2.0mm, 1000, 10.0, 0.5, 0.2, 1.0mm, 4, Gadfly.Scale.DiscreteColorScale(Gadfly.Scale.default_discrete_colors, nothing, nothing, true), Gadfly.Scale.ContinuousColorScale(Gadfly.Scale.var\"#73#77\"{Int64, Int64, Int64, Int64, Float64, Int64}(100, 40, 260, 10, 1.5, 70), Gadfly.Scale.ContinuousScaleTransform(identity, identity, Gadfly.Scale.identity_formatter), nothing, nothing)), Dict{Symbol, Any}()))], Dict{Symbol, Any}(:style => Dict(\"display\" => \"flex\", \"flex-direction\" => \"column\")))"
      ]
     },
     "execution_count": 8,
     "metadata": {
      "@webio": {
       "kernelId": "d709139d-588b-4fee-8d6d-f916525c81c4"
      }
     },
     "output_type": "execute_result"
    }
   ],
   "source": [
    "manipulate(Expo, :t, :W;\n",
    "    parameters = Expo => (;\n",
    "        :μ  => 0:0.01:0.1,\n",
    "        :W0 => 0:0.1:10,\n",
    "    ),\n",
    "    stop = 100,\n",
    "    kind = :line,\n",
    "    ylim = (0, 100),\n",
    ")"
   ]
  },
  {
   "cell_type": "markdown",
   "metadata": {},
   "source": [
    "## 1.2. Monomolecular Equation\n",
    "\n",
    "- Eq\n",
    "\n",
    "$$\n",
    "\\begin{align}\n",
    "\\frac{dW}{dt} &= k S \\\\\n",
    "S &= W_f - W\n",
    "\\end{align}\n",
    "$$\n",
    "\n",
    "- Table\n",
    "\n",
    "| Symbol | Value | Units | Description |\n",
    "| :- | :- | :- | :- |\n",
    "| $t$ | - | - | Time unit used in the model |\n",
    "| $k$ | 0.2 | - | Proportion of substrate ($S$) utilized per unit time |\n",
    "| $W_0$ | 1 | - | Dry mass at time $t = 0$ |\n",
    "| $W_f$ | 100 | - | Final value of $W$ as $t$ approaches $\\infty$ |\n",
    "| $W$ | - | - | Current dry mass |"
   ]
  },
  {
   "cell_type": "code",
   "execution_count": 9,
   "metadata": {
    "tags": []
   },
   "outputs": [
    {
     "data": {
      "text/plain": [
       "Mono"
      ]
     },
     "execution_count": 9,
     "metadata": {},
     "output_type": "execute_result"
    }
   ],
   "source": [
    "@system Mono(Controller) begin\n",
    "    t(context.clock.tick) ~ track\n",
    "\n",
    "    k        => 0.2  ~ preserve(parameter)\n",
    "    W0       => 1    ~ preserve(parameter)\n",
    "    Wf       => 100  ~ preserve(parameter)\n",
    "\n",
    "    W(k, S)  => k*S    ~ accumulate(init = W0)\n",
    "    S(Wf, W) => Wf - W ~ track\n",
    "end"
   ]
  },
  {
   "cell_type": "code",
   "execution_count": 10,
   "metadata": {
    "tags": []
   },
   "outputs": [
    {
     "data": {
      "text/html": [
       "<div><div style = \"float: left;\"><span>21×7 DataFrame</span></div><div style = \"clear: both;\"></div></div><div class = \"data-frame\" style = \"overflow-x: scroll;\"><table class = \"data-frame\" style = \"margin-bottom: 6px;\"><thead><tr class = \"header\"><th class = \"rowNumber\" style = \"font-weight: bold; text-align: right;\">Row</th><th style = \"text-align: left;\">time</th><th style = \"text-align: left;\">t</th><th style = \"text-align: left;\">k</th><th style = \"text-align: left;\">W0</th><th style = \"text-align: left;\">Wf</th><th style = \"text-align: left;\">W</th><th style = \"text-align: left;\">S</th></tr><tr class = \"subheader headerLastRow\"><th class = \"rowNumber\" style = \"font-weight: bold; text-align: right;\"></th><th title = \"Unitful.Quantity{Float64, 𝐓, Unitful.FreeUnits{(hr,), 𝐓, nothing}}\" style = \"text-align: left;\">Quantity…</th><th title = \"Float64\" style = \"text-align: left;\">Float64</th><th title = \"Float64\" style = \"text-align: left;\">Float64</th><th title = \"Float64\" style = \"text-align: left;\">Float64</th><th title = \"Float64\" style = \"text-align: left;\">Float64</th><th title = \"Float64\" style = \"text-align: left;\">Float64</th><th title = \"Float64\" style = \"text-align: left;\">Float64</th></tr></thead><tbody><tr><td class = \"rowNumber\" style = \"font-weight: bold; text-align: right;\">1</td><td style = \"text-align: right;\">0.0 hr</td><td style = \"text-align: right;\">0.0</td><td style = \"text-align: right;\">0.2</td><td style = \"text-align: right;\">1.0</td><td style = \"text-align: right;\">100.0</td><td style = \"text-align: right;\">1.0</td><td style = \"text-align: right;\">99.0</td></tr><tr><td class = \"rowNumber\" style = \"font-weight: bold; text-align: right;\">2</td><td style = \"text-align: right;\">1.0 hr</td><td style = \"text-align: right;\">1.0</td><td style = \"text-align: right;\">0.2</td><td style = \"text-align: right;\">1.0</td><td style = \"text-align: right;\">100.0</td><td style = \"text-align: right;\">20.8</td><td style = \"text-align: right;\">79.2</td></tr><tr><td class = \"rowNumber\" style = \"font-weight: bold; text-align: right;\">3</td><td style = \"text-align: right;\">2.0 hr</td><td style = \"text-align: right;\">2.0</td><td style = \"text-align: right;\">0.2</td><td style = \"text-align: right;\">1.0</td><td style = \"text-align: right;\">100.0</td><td style = \"text-align: right;\">36.64</td><td style = \"text-align: right;\">63.36</td></tr><tr><td class = \"rowNumber\" style = \"font-weight: bold; text-align: right;\">4</td><td style = \"text-align: right;\">3.0 hr</td><td style = \"text-align: right;\">3.0</td><td style = \"text-align: right;\">0.2</td><td style = \"text-align: right;\">1.0</td><td style = \"text-align: right;\">100.0</td><td style = \"text-align: right;\">49.312</td><td style = \"text-align: right;\">50.688</td></tr><tr><td class = \"rowNumber\" style = \"font-weight: bold; text-align: right;\">5</td><td style = \"text-align: right;\">4.0 hr</td><td style = \"text-align: right;\">4.0</td><td style = \"text-align: right;\">0.2</td><td style = \"text-align: right;\">1.0</td><td style = \"text-align: right;\">100.0</td><td style = \"text-align: right;\">59.4496</td><td style = \"text-align: right;\">40.5504</td></tr><tr><td class = \"rowNumber\" style = \"font-weight: bold; text-align: right;\">6</td><td style = \"text-align: right;\">5.0 hr</td><td style = \"text-align: right;\">5.0</td><td style = \"text-align: right;\">0.2</td><td style = \"text-align: right;\">1.0</td><td style = \"text-align: right;\">100.0</td><td style = \"text-align: right;\">67.5597</td><td style = \"text-align: right;\">32.4403</td></tr><tr><td class = \"rowNumber\" style = \"font-weight: bold; text-align: right;\">7</td><td style = \"text-align: right;\">6.0 hr</td><td style = \"text-align: right;\">6.0</td><td style = \"text-align: right;\">0.2</td><td style = \"text-align: right;\">1.0</td><td style = \"text-align: right;\">100.0</td><td style = \"text-align: right;\">74.0477</td><td style = \"text-align: right;\">25.9523</td></tr><tr><td class = \"rowNumber\" style = \"font-weight: bold; text-align: right;\">8</td><td style = \"text-align: right;\">7.0 hr</td><td style = \"text-align: right;\">7.0</td><td style = \"text-align: right;\">0.2</td><td style = \"text-align: right;\">1.0</td><td style = \"text-align: right;\">100.0</td><td style = \"text-align: right;\">79.2382</td><td style = \"text-align: right;\">20.7618</td></tr><tr><td class = \"rowNumber\" style = \"font-weight: bold; text-align: right;\">9</td><td style = \"text-align: right;\">8.0 hr</td><td style = \"text-align: right;\">8.0</td><td style = \"text-align: right;\">0.2</td><td style = \"text-align: right;\">1.0</td><td style = \"text-align: right;\">100.0</td><td style = \"text-align: right;\">83.3906</td><td style = \"text-align: right;\">16.6094</td></tr><tr><td class = \"rowNumber\" style = \"font-weight: bold; text-align: right;\">10</td><td style = \"text-align: right;\">9.0 hr</td><td style = \"text-align: right;\">9.0</td><td style = \"text-align: right;\">0.2</td><td style = \"text-align: right;\">1.0</td><td style = \"text-align: right;\">100.0</td><td style = \"text-align: right;\">86.7124</td><td style = \"text-align: right;\">13.2876</td></tr><tr><td class = \"rowNumber\" style = \"font-weight: bold; text-align: right;\">11</td><td style = \"text-align: right;\">10.0 hr</td><td style = \"text-align: right;\">10.0</td><td style = \"text-align: right;\">0.2</td><td style = \"text-align: right;\">1.0</td><td style = \"text-align: right;\">100.0</td><td style = \"text-align: right;\">89.37</td><td style = \"text-align: right;\">10.63</td></tr><tr><td class = \"rowNumber\" style = \"font-weight: bold; text-align: right;\">12</td><td style = \"text-align: right;\">11.0 hr</td><td style = \"text-align: right;\">11.0</td><td style = \"text-align: right;\">0.2</td><td style = \"text-align: right;\">1.0</td><td style = \"text-align: right;\">100.0</td><td style = \"text-align: right;\">91.496</td><td style = \"text-align: right;\">8.50404</td></tr><tr><td class = \"rowNumber\" style = \"font-weight: bold; text-align: right;\">13</td><td style = \"text-align: right;\">12.0 hr</td><td style = \"text-align: right;\">12.0</td><td style = \"text-align: right;\">0.2</td><td style = \"text-align: right;\">1.0</td><td style = \"text-align: right;\">100.0</td><td style = \"text-align: right;\">93.1968</td><td style = \"text-align: right;\">6.80323</td></tr><tr><td class = \"rowNumber\" style = \"font-weight: bold; text-align: right;\">14</td><td style = \"text-align: right;\">13.0 hr</td><td style = \"text-align: right;\">13.0</td><td style = \"text-align: right;\">0.2</td><td style = \"text-align: right;\">1.0</td><td style = \"text-align: right;\">100.0</td><td style = \"text-align: right;\">94.5574</td><td style = \"text-align: right;\">5.44258</td></tr><tr><td class = \"rowNumber\" style = \"font-weight: bold; text-align: right;\">15</td><td style = \"text-align: right;\">14.0 hr</td><td style = \"text-align: right;\">14.0</td><td style = \"text-align: right;\">0.2</td><td style = \"text-align: right;\">1.0</td><td style = \"text-align: right;\">100.0</td><td style = \"text-align: right;\">95.6459</td><td style = \"text-align: right;\">4.35407</td></tr><tr><td class = \"rowNumber\" style = \"font-weight: bold; text-align: right;\">16</td><td style = \"text-align: right;\">15.0 hr</td><td style = \"text-align: right;\">15.0</td><td style = \"text-align: right;\">0.2</td><td style = \"text-align: right;\">1.0</td><td style = \"text-align: right;\">100.0</td><td style = \"text-align: right;\">96.5167</td><td style = \"text-align: right;\">3.48325</td></tr><tr><td class = \"rowNumber\" style = \"font-weight: bold; text-align: right;\">17</td><td style = \"text-align: right;\">16.0 hr</td><td style = \"text-align: right;\">16.0</td><td style = \"text-align: right;\">0.2</td><td style = \"text-align: right;\">1.0</td><td style = \"text-align: right;\">100.0</td><td style = \"text-align: right;\">97.2134</td><td style = \"text-align: right;\">2.7866</td></tr><tr><td class = \"rowNumber\" style = \"font-weight: bold; text-align: right;\">18</td><td style = \"text-align: right;\">17.0 hr</td><td style = \"text-align: right;\">17.0</td><td style = \"text-align: right;\">0.2</td><td style = \"text-align: right;\">1.0</td><td style = \"text-align: right;\">100.0</td><td style = \"text-align: right;\">97.7707</td><td style = \"text-align: right;\">2.22928</td></tr><tr><td class = \"rowNumber\" style = \"font-weight: bold; text-align: right;\">19</td><td style = \"text-align: right;\">18.0 hr</td><td style = \"text-align: right;\">18.0</td><td style = \"text-align: right;\">0.2</td><td style = \"text-align: right;\">1.0</td><td style = \"text-align: right;\">100.0</td><td style = \"text-align: right;\">98.2166</td><td style = \"text-align: right;\">1.78343</td></tr><tr><td class = \"rowNumber\" style = \"font-weight: bold; text-align: right;\">20</td><td style = \"text-align: right;\">19.0 hr</td><td style = \"text-align: right;\">19.0</td><td style = \"text-align: right;\">0.2</td><td style = \"text-align: right;\">1.0</td><td style = \"text-align: right;\">100.0</td><td style = \"text-align: right;\">98.5733</td><td style = \"text-align: right;\">1.42674</td></tr><tr><td class = \"rowNumber\" style = \"font-weight: bold; text-align: right;\">21</td><td style = \"text-align: right;\">20.0 hr</td><td style = \"text-align: right;\">20.0</td><td style = \"text-align: right;\">0.2</td><td style = \"text-align: right;\">1.0</td><td style = \"text-align: right;\">100.0</td><td style = \"text-align: right;\">98.8586</td><td style = \"text-align: right;\">1.14139</td></tr></tbody></table></div>"
      ],
      "text/latex": [
       "\\begin{tabular}{r|ccccccc}\n",
       "\t& time & t & k & W0 & Wf & W & S\\\\\n",
       "\t\\hline\n",
       "\t& Quantity… & Float64 & Float64 & Float64 & Float64 & Float64 & Float64\\\\\n",
       "\t\\hline\n",
       "\t1 & 0.0 hr & 0.0 & 0.2 & 1.0 & 100.0 & 1.0 & 99.0 \\\\\n",
       "\t2 & 1.0 hr & 1.0 & 0.2 & 1.0 & 100.0 & 20.8 & 79.2 \\\\\n",
       "\t3 & 2.0 hr & 2.0 & 0.2 & 1.0 & 100.0 & 36.64 & 63.36 \\\\\n",
       "\t4 & 3.0 hr & 3.0 & 0.2 & 1.0 & 100.0 & 49.312 & 50.688 \\\\\n",
       "\t5 & 4.0 hr & 4.0 & 0.2 & 1.0 & 100.0 & 59.4496 & 40.5504 \\\\\n",
       "\t6 & 5.0 hr & 5.0 & 0.2 & 1.0 & 100.0 & 67.5597 & 32.4403 \\\\\n",
       "\t7 & 6.0 hr & 6.0 & 0.2 & 1.0 & 100.0 & 74.0477 & 25.9523 \\\\\n",
       "\t8 & 7.0 hr & 7.0 & 0.2 & 1.0 & 100.0 & 79.2382 & 20.7618 \\\\\n",
       "\t9 & 8.0 hr & 8.0 & 0.2 & 1.0 & 100.0 & 83.3906 & 16.6094 \\\\\n",
       "\t10 & 9.0 hr & 9.0 & 0.2 & 1.0 & 100.0 & 86.7124 & 13.2876 \\\\\n",
       "\t11 & 10.0 hr & 10.0 & 0.2 & 1.0 & 100.0 & 89.37 & 10.63 \\\\\n",
       "\t12 & 11.0 hr & 11.0 & 0.2 & 1.0 & 100.0 & 91.496 & 8.50404 \\\\\n",
       "\t13 & 12.0 hr & 12.0 & 0.2 & 1.0 & 100.0 & 93.1968 & 6.80323 \\\\\n",
       "\t14 & 13.0 hr & 13.0 & 0.2 & 1.0 & 100.0 & 94.5574 & 5.44258 \\\\\n",
       "\t15 & 14.0 hr & 14.0 & 0.2 & 1.0 & 100.0 & 95.6459 & 4.35407 \\\\\n",
       "\t16 & 15.0 hr & 15.0 & 0.2 & 1.0 & 100.0 & 96.5167 & 3.48325 \\\\\n",
       "\t17 & 16.0 hr & 16.0 & 0.2 & 1.0 & 100.0 & 97.2134 & 2.7866 \\\\\n",
       "\t18 & 17.0 hr & 17.0 & 0.2 & 1.0 & 100.0 & 97.7707 & 2.22928 \\\\\n",
       "\t19 & 18.0 hr & 18.0 & 0.2 & 1.0 & 100.0 & 98.2166 & 1.78343 \\\\\n",
       "\t20 & 19.0 hr & 19.0 & 0.2 & 1.0 & 100.0 & 98.5733 & 1.42674 \\\\\n",
       "\t21 & 20.0 hr & 20.0 & 0.2 & 1.0 & 100.0 & 98.8586 & 1.14139 \\\\\n",
       "\\end{tabular}\n"
      ],
      "text/plain": [
       "\u001B[1m21×7 DataFrame\n",
       "\u001B[1m Row │\u001B[1m time      \u001B[1m t       \u001B[1m k       \u001B[1m W0      \u001B[1m Wf      \u001B[1m W       \u001B[1m S\n",
       "     │\u001B[90m Quantity… \u001B[90m Float64 \u001B[90m Float64 \u001B[90m Float64 \u001B[90m Float64 \u001B[90m Float64 \u001B[90m Float64\n",
       "─────┼──────────────────────────────────────────────────────────────────\n",
       "   1 │    0.0 hr      0.0      0.2      1.0    100.0   1.0     99.0\n",
       "   2 │    1.0 hr      1.0      0.2      1.0    100.0  20.8     79.2\n",
       "   3 │    2.0 hr      2.0      0.2      1.0    100.0  36.64    63.36\n",
       "   4 │    3.0 hr      3.0      0.2      1.0    100.0  49.312   50.688\n",
       "   5 │    4.0 hr      4.0      0.2      1.0    100.0  59.4496  40.5504\n",
       "   6 │    5.0 hr      5.0      0.2      1.0    100.0  67.5597  32.4403\n",
       "   7 │    6.0 hr      6.0      0.2      1.0    100.0  74.0477  25.9523\n",
       "   8 │    7.0 hr      7.0      0.2      1.0    100.0  79.2382  20.7618\n",
       "   9 │    8.0 hr      8.0      0.2      1.0    100.0  83.3906  16.6094\n",
       "  10 │    9.0 hr      9.0      0.2      1.0    100.0  86.7124  13.2876\n",
       "  11 │   10.0 hr     10.0      0.2      1.0    100.0  89.37    10.63\n",
       "  12 │   11.0 hr     11.0      0.2      1.0    100.0  91.496    8.50404\n",
       "  13 │   12.0 hr     12.0      0.2      1.0    100.0  93.1968   6.80323\n",
       "  14 │   13.0 hr     13.0      0.2      1.0    100.0  94.5574   5.44258\n",
       "  15 │   14.0 hr     14.0      0.2      1.0    100.0  95.6459   4.35407\n",
       "  16 │   15.0 hr     15.0      0.2      1.0    100.0  96.5167   3.48325\n",
       "  17 │   16.0 hr     16.0      0.2      1.0    100.0  97.2134   2.7866\n",
       "  18 │   17.0 hr     17.0      0.2      1.0    100.0  97.7707   2.22928\n",
       "  19 │   18.0 hr     18.0      0.2      1.0    100.0  98.2166   1.78343\n",
       "  20 │   19.0 hr     19.0      0.2      1.0    100.0  98.5733   1.42674\n",
       "  21 │   20.0 hr     20.0      0.2      1.0    100.0  98.8586   1.14139"
      ]
     },
     "execution_count": 10,
     "metadata": {},
     "output_type": "execute_result"
    }
   ],
   "source": [
    "r12 = simulate(Mono, stop = 20)"
   ]
  },
  {
   "cell_type": "code",
   "execution_count": 11,
   "metadata": {
    "tags": []
   },
   "outputs": [
    {
     "data": {
      "image/svg+xml": [
       "<?xml version=\"1.0\" encoding=\"UTF-8\"?>\n",
       "<svg xmlns=\"http://www.w3.org/2000/svg\"\n",
       "     xmlns:xlink=\"http://www.w3.org/1999/xlink\"\n",
       "     xmlns:gadfly=\"http://www.gadflyjl.org/ns\"\n",
       "     version=\"1.2\"\n",
       "     width=\"141.42mm\" height=\"100mm\" viewBox=\"0 0 141.42 100\"\n",
       "     stroke=\"none\"\n",
       "     fill=\"#000000\"\n",
       "     stroke-width=\"0.3\"\n",
       "     font-size=\"3.88\"\n",
       ">\n",
       "<defs>\n",
       "  <marker id=\"arrow\" markerWidth=\"15\" markerHeight=\"7\" refX=\"5\" refY=\"3.5\" orient=\"auto\" markerUnits=\"strokeWidth\">\n",
       "    <path d=\"M0,0 L15,3.5 L0,7 z\" stroke=\"context-stroke\" fill=\"context-stroke\"/>\n",
       "  </marker>\n",
       "</defs>\n",
       "<g stroke=\"#000000\" stroke-opacity=\"0.000\" fill=\"#FFFFFF\" id=\"img-0f5125c4-1\">\n",
       "  <g transform=\"translate(70.71,50)\">\n",
       "    <path d=\"M-70.71,-50 L70.71,-50 70.71,50 -70.71,50  z\" class=\"primitive\"/>\n",
       "  </g>\n",
       "</g>\n",
       "<g class=\"plotroot xscalable yscalable\" id=\"img-0f5125c4-2\">\n",
       "  <g font-size=\"3.53\" font-family=\"'PT Sans','Helvetica Neue','Helvetica',sans-serif\" fill=\"#564A55\" stroke=\"#000000\" stroke-opacity=\"0.000\" id=\"img-0f5125c4-3\">\n",
       "    <g transform=\"translate(69.9,93.72)\">\n",
       "      <g class=\"primitive\">\n",
       "        <text text-anchor=\"middle\" dy=\"0.6em\">t</text>\n",
       "      </g>\n",
       "    </g>\n",
       "  </g>\n",
       "  <g class=\"guide xlabels\" font-size=\"2.82\" font-family=\"'PT Sans Caption','Helvetica Neue','Helvetica',sans-serif\" fill=\"#6C606B\" id=\"img-0f5125c4-4\">\n",
       "    <g transform=\"translate(12.35,87.04)\">\n",
       "      <g class=\"primitive\">\n",
       "        <text text-anchor=\"middle\" dy=\"0.6em\">0</text>\n",
       "      </g>\n",
       "    </g>\n",
       "    <g transform=\"translate(41.13,87.04)\">\n",
       "      <g class=\"primitive\">\n",
       "        <text text-anchor=\"middle\" dy=\"0.6em\">5</text>\n",
       "      </g>\n",
       "    </g>\n",
       "    <g transform=\"translate(69.9,87.04)\">\n",
       "      <g class=\"primitive\">\n",
       "        <text text-anchor=\"middle\" dy=\"0.6em\">10</text>\n",
       "      </g>\n",
       "    </g>\n",
       "    <g transform=\"translate(98.68,87.04)\">\n",
       "      <g class=\"primitive\">\n",
       "        <text text-anchor=\"middle\" dy=\"0.6em\">15</text>\n",
       "      </g>\n",
       "    </g>\n",
       "    <g transform=\"translate(127.46,87.04)\">\n",
       "      <g class=\"primitive\">\n",
       "        <text text-anchor=\"middle\" dy=\"0.6em\">20</text>\n",
       "      </g>\n",
       "    </g>\n",
       "  </g>\n",
       "  <g class=\"guide colorkey\" id=\"img-0f5125c4-5\">\n",
       "    <g fill=\"#4C404B\" font-size=\"2.82\" font-family=\"'PT Sans','Helvetica Neue','Helvetica',sans-serif\" id=\"img-0f5125c4-6\">\n",
       "      <g transform=\"translate(134.09,47.75)\" id=\"img-0f5125c4-7\">\n",
       "        <g class=\"primitive\">\n",
       "          <text dy=\"0.35em\">W</text>\n",
       "        </g>\n",
       "      </g>\n",
       "    </g>\n",
       "    <g stroke-width=\"0.3\" id=\"img-0f5125c4-8\">\n",
       "      <g stroke=\"#FFFFFF\" stroke-opacity=\"0.000\" fill-opacity=\"1\" fill=\"#00BFFF\" id=\"img-0f5125c4-9\">\n",
       "        <g transform=\"translate(131.27,47.75)\" id=\"img-0f5125c4-10\">\n",
       "          <circle cx=\"0\" cy=\"0\" r=\"0.7\" class=\"primitive\"/>\n",
       "        </g>\n",
       "      </g>\n",
       "    </g>\n",
       "    <g fill=\"#362A35\" font-size=\"3.18\" font-family=\"'PT Sans','Helvetica Neue','Helvetica',sans-serif\" stroke=\"#000000\" stroke-opacity=\"0.000\" id=\"img-0f5125c4-11\">\n",
       "      <g transform=\"translate(130.46,44.44)\" id=\"img-0f5125c4-12\">\n",
       "        <g class=\"primitive\">\n",
       "          <text dy=\"-0em\"></text>\n",
       "        </g>\n",
       "      </g>\n",
       "    </g>\n",
       "  </g>\n",
       "  <g clip-path=\"url(#img-0f5125c4-13)\">\n",
       "    <g id=\"img-0f5125c4-14\">\n",
       "      <g pointer-events=\"visible\" stroke-width=\"0.3\" fill=\"#000000\" fill-opacity=\"0.000\" stroke=\"#000000\" stroke-opacity=\"0.000\" class=\"guide background\" id=\"img-0f5125c4-15\">\n",
       "        <g transform=\"translate(69.9,45.52)\" id=\"img-0f5125c4-16\">\n",
       "          <path d=\"M-59.56,-40.52 L59.56,-40.52 59.56,40.52 -59.56,40.52  z\" class=\"primitive\"/>\n",
       "        </g>\n",
       "      </g>\n",
       "      <g class=\"guide ygridlines xfixed\" stroke-dasharray=\"0.5,0.5\" stroke-width=\"0.2\" stroke=\"#D0D0E0\" id=\"img-0f5125c4-17\">\n",
       "        <g transform=\"translate(69.9,45.52)\" id=\"img-0f5125c4-18\">\n",
       "          <path fill=\"none\" d=\"M-59.56,0 L59.56,0 \" class=\"primitive\"/>\n",
       "        </g>\n",
       "      </g>\n",
       "      <g class=\"guide xgridlines yfixed\" stroke-dasharray=\"0.5,0.5\" stroke-width=\"0.2\" stroke=\"#D0D0E0\" id=\"img-0f5125c4-19\">\n",
       "        <g transform=\"translate(12.35,45.52)\" id=\"img-0f5125c4-20\">\n",
       "          <path fill=\"none\" d=\"M0,-40.52 L0,40.52 \" class=\"primitive\"/>\n",
       "        </g>\n",
       "        <g transform=\"translate(41.13,45.52)\" id=\"img-0f5125c4-21\">\n",
       "          <path fill=\"none\" d=\"M0,-40.52 L0,40.52 \" class=\"primitive\"/>\n",
       "        </g>\n",
       "        <g transform=\"translate(69.9,45.52)\" id=\"img-0f5125c4-22\">\n",
       "          <path fill=\"none\" d=\"M0,-40.52 L0,40.52 \" class=\"primitive\"/>\n",
       "        </g>\n",
       "        <g transform=\"translate(98.68,45.52)\" id=\"img-0f5125c4-23\">\n",
       "          <path fill=\"none\" d=\"M0,-40.52 L0,40.52 \" class=\"primitive\"/>\n",
       "        </g>\n",
       "        <g transform=\"translate(127.46,45.52)\" id=\"img-0f5125c4-24\">\n",
       "          <path fill=\"none\" d=\"M0,-40.52 L0,40.52 \" class=\"primitive\"/>\n",
       "        </g>\n",
       "      </g>\n",
       "      <g class=\"plotpanel\" id=\"img-0f5125c4-25\">\n",
       "        <metadata>\n",
       "          <boundingbox value=\"10.346666666666664mm 5.0mm 119.11468957064285mm 81.04333333333334mm\"/>\n",
       "          <unitbox value=\"-0.3474795453924502 101.54402284428676 20.694959090784902 -103.08804568857353\"/>\n",
       "        </metadata>\n",
       "        <g stroke-width=\"0.3\" fill=\"#000000\" fill-opacity=\"0.000\" class=\"geometry\" id=\"img-0f5125c4-26\">\n",
       "          <g class=\"color_LCHab{Float32}(70.0f0,60.0f0,240.0f0)\" stroke-dasharray=\"none\" stroke-opacity=\"1\" stroke=\"#00BFFF\" id=\"img-0f5125c4-27\">\n",
       "            <g transform=\"translate(69.9,24.57)\" id=\"img-0f5125c4-28\">\n",
       "              <path fill=\"none\" d=\"M-57.56,59.47 L-51.8,43.9 -46.05,31.45 -40.29,21.49 -34.53,13.52 -28.78,7.14 -23.02,2.04 -17.27,-2.04 -11.51,-5.3 -5.76,-7.91 0,-10 5.76,-11.67 11.51,-13.01 17.27,-14.08 23.02,-14.94 28.78,-15.62 34.53,-16.17 40.29,-16.61 46.05,-16.96 51.8,-17.24 57.56,-17.46 \" class=\"primitive\"/>\n",
       "            </g>\n",
       "          </g>\n",
       "        </g>\n",
       "      </g>\n",
       "    </g>\n",
       "  </g>\n",
       "  <g class=\"guide ylabels\" font-size=\"2.82\" font-family=\"'PT Sans Caption','Helvetica Neue','Helvetica',sans-serif\" fill=\"#6C606B\" id=\"img-0f5125c4-29\">\n",
       "    <g transform=\"translate(9.35,45.52)\" id=\"img-0f5125c4-30\">\n",
       "      <g class=\"primitive\">\n",
       "        <text text-anchor=\"end\" dy=\"0.35em\">50</text>\n",
       "      </g>\n",
       "    </g>\n",
       "  </g>\n",
       "</g>\n",
       "<defs>\n",
       "  <clipPath id=\"img-0f5125c4-13\">\n",
       "    <path d=\"M10.35,5 L129.46,5 129.46,86.04 10.35,86.04 \" />\n",
       "  </clipPath>\n",
       "</defs>\n",
       "</svg>\n"
      ],
      "text/html": [
       "<?xml version=\"1.0\" encoding=\"UTF-8\"?>\n",
       "<svg xmlns=\"http://www.w3.org/2000/svg\"\n",
       "     xmlns:xlink=\"http://www.w3.org/1999/xlink\"\n",
       "     xmlns:gadfly=\"http://www.gadflyjl.org/ns\"\n",
       "     version=\"1.2\"\n",
       "     width=\"141.42mm\" height=\"100mm\" viewBox=\"0 0 141.42 100\"\n",
       "     stroke=\"none\"\n",
       "     fill=\"#000000\"\n",
       "     stroke-width=\"0.3\"\n",
       "     font-size=\"3.88\"\n",
       ">\n",
       "<defs>\n",
       "  <marker id=\"arrow\" markerWidth=\"15\" markerHeight=\"7\" refX=\"5\" refY=\"3.5\" orient=\"auto\" markerUnits=\"strokeWidth\">\n",
       "    <path d=\"M0,0 L15,3.5 L0,7 z\" stroke=\"context-stroke\" fill=\"context-stroke\"/>\n",
       "  </marker>\n",
       "</defs>\n",
       "<g stroke=\"#000000\" stroke-opacity=\"0.000\" fill=\"#FFFFFF\" id=\"img-2f842662-1\">\n",
       "  <g transform=\"translate(70.71,50)\">\n",
       "    <path d=\"M-70.71,-50 L70.71,-50 70.71,50 -70.71,50  z\" class=\"primitive\"/>\n",
       "  </g>\n",
       "</g>\n",
       "<g class=\"plotroot xscalable yscalable\" id=\"img-2f842662-2\">\n",
       "  <g font-size=\"3.53\" font-family=\"'PT Sans','Helvetica Neue','Helvetica',sans-serif\" fill=\"#564A55\" stroke=\"#000000\" stroke-opacity=\"0.000\" id=\"img-2f842662-3\">\n",
       "    <g transform=\"translate(69.9,93.72)\">\n",
       "      <g class=\"primitive\">\n",
       "        <text text-anchor=\"middle\" dy=\"0.6em\">t</text>\n",
       "      </g>\n",
       "    </g>\n",
       "  </g>\n",
       "  <g class=\"guide xlabels\" font-size=\"2.82\" font-family=\"'PT Sans Caption','Helvetica Neue','Helvetica',sans-serif\" fill=\"#6C606B\" id=\"img-2f842662-4\">\n",
       "    <g transform=\"translate(12.35,87.04)\">\n",
       "      <g class=\"primitive\">\n",
       "        <text text-anchor=\"middle\" dy=\"0.6em\">0</text>\n",
       "      </g>\n",
       "    </g>\n",
       "    <g transform=\"translate(41.13,87.04)\">\n",
       "      <g class=\"primitive\">\n",
       "        <text text-anchor=\"middle\" dy=\"0.6em\">5</text>\n",
       "      </g>\n",
       "    </g>\n",
       "    <g transform=\"translate(69.9,87.04)\">\n",
       "      <g class=\"primitive\">\n",
       "        <text text-anchor=\"middle\" dy=\"0.6em\">10</text>\n",
       "      </g>\n",
       "    </g>\n",
       "    <g transform=\"translate(98.68,87.04)\">\n",
       "      <g class=\"primitive\">\n",
       "        <text text-anchor=\"middle\" dy=\"0.6em\">15</text>\n",
       "      </g>\n",
       "    </g>\n",
       "    <g transform=\"translate(127.46,87.04)\">\n",
       "      <g class=\"primitive\">\n",
       "        <text text-anchor=\"middle\" dy=\"0.6em\">20</text>\n",
       "      </g>\n",
       "    </g>\n",
       "  </g>\n",
       "  <g class=\"guide colorkey\" id=\"img-2f842662-5\">\n",
       "    <g fill=\"#4C404B\" font-size=\"2.82\" font-family=\"'PT Sans','Helvetica Neue','Helvetica',sans-serif\" id=\"img-2f842662-6\">\n",
       "      <g transform=\"translate(134.09,47.75)\" id=\"img-2f842662-7\">\n",
       "        <g class=\"primitive\">\n",
       "          <text dy=\"0.35em\">W</text>\n",
       "        </g>\n",
       "      </g>\n",
       "    </g>\n",
       "    <g stroke-width=\"0.3\" id=\"img-2f842662-8\">\n",
       "      <g stroke=\"#FFFFFF\" stroke-opacity=\"0.000\" fill-opacity=\"1\" fill=\"#00BFFF\" id=\"img-2f842662-9\">\n",
       "        <g transform=\"translate(131.27,47.75)\" id=\"img-2f842662-10\">\n",
       "          <circle cx=\"0\" cy=\"0\" r=\"0.7\" class=\"primitive\"/>\n",
       "        </g>\n",
       "      </g>\n",
       "    </g>\n",
       "    <g fill=\"#362A35\" font-size=\"3.18\" font-family=\"'PT Sans','Helvetica Neue','Helvetica',sans-serif\" stroke=\"#000000\" stroke-opacity=\"0.000\" id=\"img-2f842662-11\">\n",
       "      <g transform=\"translate(130.46,44.44)\" id=\"img-2f842662-12\">\n",
       "        <g class=\"primitive\">\n",
       "          <text dy=\"-0em\"></text>\n",
       "        </g>\n",
       "      </g>\n",
       "    </g>\n",
       "  </g>\n",
       "  <g clip-path=\"url(#img-2f842662-13)\">\n",
       "    <g id=\"img-2f842662-14\">\n",
       "      <g pointer-events=\"visible\" stroke-width=\"0.3\" fill=\"#000000\" fill-opacity=\"0.000\" stroke=\"#000000\" stroke-opacity=\"0.000\" class=\"guide background\" id=\"img-2f842662-15\">\n",
       "        <g transform=\"translate(69.9,45.52)\" id=\"img-2f842662-16\">\n",
       "          <path d=\"M-59.56,-40.52 L59.56,-40.52 59.56,40.52 -59.56,40.52  z\" class=\"primitive\"/>\n",
       "        </g>\n",
       "      </g>\n",
       "      <g class=\"guide ygridlines xfixed\" stroke-dasharray=\"0.5,0.5\" stroke-width=\"0.2\" stroke=\"#D0D0E0\" id=\"img-2f842662-17\">\n",
       "        <g transform=\"translate(69.9,45.52)\" id=\"img-2f842662-18\">\n",
       "          <path fill=\"none\" d=\"M-59.56,0 L59.56,0 \" class=\"primitive\"/>\n",
       "        </g>\n",
       "      </g>\n",
       "      <g class=\"guide xgridlines yfixed\" stroke-dasharray=\"0.5,0.5\" stroke-width=\"0.2\" stroke=\"#D0D0E0\" id=\"img-2f842662-19\">\n",
       "        <g transform=\"translate(12.35,45.52)\" id=\"img-2f842662-20\">\n",
       "          <path fill=\"none\" d=\"M0,-40.52 L0,40.52 \" class=\"primitive\"/>\n",
       "        </g>\n",
       "        <g transform=\"translate(41.13,45.52)\" id=\"img-2f842662-21\">\n",
       "          <path fill=\"none\" d=\"M0,-40.52 L0,40.52 \" class=\"primitive\"/>\n",
       "        </g>\n",
       "        <g transform=\"translate(69.9,45.52)\" id=\"img-2f842662-22\">\n",
       "          <path fill=\"none\" d=\"M0,-40.52 L0,40.52 \" class=\"primitive\"/>\n",
       "        </g>\n",
       "        <g transform=\"translate(98.68,45.52)\" id=\"img-2f842662-23\">\n",
       "          <path fill=\"none\" d=\"M0,-40.52 L0,40.52 \" class=\"primitive\"/>\n",
       "        </g>\n",
       "        <g transform=\"translate(127.46,45.52)\" id=\"img-2f842662-24\">\n",
       "          <path fill=\"none\" d=\"M0,-40.52 L0,40.52 \" class=\"primitive\"/>\n",
       "        </g>\n",
       "      </g>\n",
       "      <g class=\"plotpanel\" id=\"img-2f842662-25\">\n",
       "        <metadata>\n",
       "          <boundingbox value=\"10.346666666666664mm 5.0mm 119.11468957064285mm 81.04333333333334mm\"/>\n",
       "          <unitbox value=\"-0.3474795453924502 101.54402284428676 20.694959090784902 -103.08804568857353\"/>\n",
       "        </metadata>\n",
       "        <g stroke-width=\"0.3\" fill=\"#000000\" fill-opacity=\"0.000\" class=\"geometry\" id=\"img-2f842662-26\">\n",
       "          <g class=\"color_LCHab{Float32}(70.0f0,60.0f0,240.0f0)\" stroke-dasharray=\"none\" stroke-opacity=\"1\" stroke=\"#00BFFF\" id=\"img-2f842662-27\">\n",
       "            <g transform=\"translate(69.9,24.57)\" id=\"img-2f842662-28\">\n",
       "              <path fill=\"none\" d=\"M-57.56,59.47 L-51.8,43.9 -46.05,31.45 -40.29,21.49 -34.53,13.52 -28.78,7.14 -23.02,2.04 -17.27,-2.04 -11.51,-5.3 -5.76,-7.91 0,-10 5.76,-11.67 11.51,-13.01 17.27,-14.08 23.02,-14.94 28.78,-15.62 34.53,-16.17 40.29,-16.61 46.05,-16.96 51.8,-17.24 57.56,-17.46 \" class=\"primitive\"/>\n",
       "            </g>\n",
       "          </g>\n",
       "        </g>\n",
       "      </g>\n",
       "    </g>\n",
       "  </g>\n",
       "  <g class=\"guide ylabels\" font-size=\"2.82\" font-family=\"'PT Sans Caption','Helvetica Neue','Helvetica',sans-serif\" fill=\"#6C606B\" id=\"img-2f842662-29\">\n",
       "    <g transform=\"translate(9.35,45.52)\" id=\"img-2f842662-30\">\n",
       "      <g class=\"primitive\">\n",
       "        <text text-anchor=\"end\" dy=\"0.35em\">50</text>\n",
       "      </g>\n",
       "    </g>\n",
       "  </g>\n",
       "</g>\n",
       "<defs>\n",
       "  <clipPath id=\"img-2f842662-13\">\n",
       "    <path d=\"M10.35,5 L129.46,5 129.46,86.04 10.35,86.04 \" />\n",
       "  </clipPath>\n",
       "</defs>\n",
       "</svg>\n"
      ],
      "text/plain": [
       "\"<Cropbox.Plot{Gadfly.Plot}>\""
      ]
     },
     "execution_count": 11,
     "metadata": {},
     "output_type": "execute_result"
    }
   ],
   "source": [
    "visualize(r12, :t, :W, kind = :line)"
   ]
  },
  {
   "cell_type": "code",
   "execution_count": 12,
   "metadata": {
    "tags": []
   },
   "outputs": [
    {
     "data": {
      "application/vnd.webio.node+json": {
       "children": [
        {
         "children": [
          "Mono"
         ],
         "instanceArgs": {
          "namespace": "html",
          "tag": "div"
         },
         "nodeType": "DOM",
         "props": {
          "style": {
           "color": "rebeccapurple",
           "font-family": "monospace"
          }
         },
         "type": "node"
        },
        {
         "children": [
          {
           "children": [
            {
             "children": [
              {
               "children": [
                {
                 "children": [
                  "k"
                 ],
                 "instanceArgs": {
                  "namespace": "html",
                  "tag": "label"
                 },
                 "nodeType": "DOM",
                 "props": {
                  "className": "interact ",
                  "style": {
                   "color": "royalblue",
                   "padding": "5px 10px 0px 10px",
                   "white-space": "nowrap"
                  }
                 },
                 "type": "node"
                }
               ],
               "instanceArgs": {
                "namespace": "html",
                "tag": "div"
               },
               "nodeType": "DOM",
               "props": {
                "className": "interact-flex-row-left"
               },
               "type": "node"
              },
              {
               "children": [
                {
                 "children": [],
                 "instanceArgs": {
                  "namespace": "html",
                  "tag": "input"
                 },
                 "nodeType": "DOM",
                 "props": {
                  "attributes": {
                   "data-bind": "numericValue: index, valueUpdate: 'input', event: {change: function (){this.changes(this.changes()+1)}}",
                   "orient": "horizontal",
                   "type": "range"
                  },
                  "className": "slider slider is-fullwidth",
                  "max": 51,
                  "min": 1,
                  "step": 1,
                  "style": {}
                 },
                 "type": "node"
                }
               ],
               "instanceArgs": {
                "namespace": "html",
                "tag": "div"
               },
               "nodeType": "DOM",
               "props": {
                "className": "interact-flex-row-center"
               },
               "type": "node"
              },
              {
               "children": [
                {
                 "children": [],
                 "instanceArgs": {
                  "namespace": "html",
                  "tag": "p"
                 },
                 "nodeType": "DOM",
                 "props": {
                  "attributes": {
                   "data-bind": "text: formatted_val"
                  }
                 },
                 "type": "node"
                }
               ],
               "instanceArgs": {
                "namespace": "html",
                "tag": "div"
               },
               "nodeType": "DOM",
               "props": {
                "className": "interact-flex-row-right"
               },
               "type": "node"
              }
             ],
             "instanceArgs": {
              "namespace": "html",
              "tag": "div"
             },
             "nodeType": "DOM",
             "props": {
              "className": "interact-flex-row interact-widget",
              "style": {
               "font-family": "monospace",
               "width": "80%"
              }
             },
             "type": "node"
            }
           ],
           "instanceArgs": {
            "handlers": {
             "changes": [
              "(function (val){return (val!=this.model[\"changes\"]()) ? (this.valueFromJulia[\"changes\"]=true, this.model[\"changes\"](val)) : undefined})"
             ],
             "index": [
              "(function (val){return (val!=this.model[\"index\"]()) ? (this.valueFromJulia[\"index\"]=true, this.model[\"index\"](val)) : undefined})"
             ]
            },
            "id": "11752266298916387184",
            "imports": {
             "data": [
              {
               "name": "knockout",
               "type": "js",
               "url": "/assetserver/d749de49a15576291e39755d819be2408bf7f995-knockout.js"
              },
              {
               "name": "knockout_punches",
               "type": "js",
               "url": "/assetserver/9f5c86158cf79faf331cfb32636cb08a9b1f0dc2-knockout_punches.js"
              },
              {
               "name": null,
               "type": "js",
               "url": "/assetserver/96a65e6078e018eef9bba5cd6ed02b2635164c53-all.js"
              },
              {
               "name": null,
               "type": "css",
               "url": "/assetserver/98c9b8e9cfeaa0be2a6f3aa79abc5da0680c3037-style.css"
              },
              {
               "name": null,
               "type": "css",
               "url": "/assetserver/c5a1211d10b2f10049d85486a98c5e9063cad849-bulma_confined.min.css"
              }
             ],
             "type": "async_block"
            },
            "mount_callbacks": [
             "function () {\n    var handler = (function (ko, koPunches) {\n    ko.punches.enableAll();\n    ko.bindingHandlers.numericValue = {\n        init: function(element, valueAccessor, allBindings, data, context) {\n            var stringified = ko.observable(ko.unwrap(valueAccessor()));\n            stringified.subscribe(function(value) {\n                var val = parseFloat(value);\n                if (!isNaN(val)) {\n                    valueAccessor()(val);\n                }\n            });\n            valueAccessor().subscribe(function(value) {\n                var str = JSON.stringify(value);\n                if ((str == \"0\") && ([\"-0\", \"-0.\"].indexOf(stringified()) >= 0))\n                     return;\n                 if ([\"null\", \"\"].indexOf(str) >= 0)\n                     return;\n                stringified(str);\n            });\n            ko.applyBindingsToNode(\n                element,\n                {\n                    value: stringified,\n                    valueUpdate: allBindings.get('valueUpdate'),\n                },\n                context,\n            );\n        }\n    };\n    var json_data = {\"formatted_vals\":[\"0.0\",\"0.01\",\"0.02\",\"0.03\",\"0.04\",\"0.05\",\"0.06\",\"0.07\",\"0.08\",\"0.09\",\"0.1\",\"0.11\",\"0.12\",\"0.13\",\"0.14\",\"0.15\",\"0.16\",\"0.17\",\"0.18\",\"0.19\",\"0.2\",\"0.21\",\"0.22\",\"0.23\",\"0.24\",\"0.25\",\"0.26\",\"0.27\",\"0.28\",\"0.29\",\"0.3\",\"0.31\",\"0.32\",\"0.33\",\"0.34\",\"0.35\",\"0.36\",\"0.37\",\"0.38\",\"0.39\",\"0.4\",\"0.41\",\"0.42\",\"0.43\",\"0.44\",\"0.45\",\"0.46\",\"0.47\",\"0.48\",\"0.49\",\"0.5\"],\"changes\":WebIO.getval({\"name\":\"changes\",\"scope\":\"11752266298916387184\",\"id\":\"17128388560694403516\",\"type\":\"observable\"}),\"index\":WebIO.getval({\"name\":\"index\",\"scope\":\"11752266298916387184\",\"id\":\"11457453773528672600\",\"type\":\"observable\"})};\n    var self = this;\n    function AppViewModel() {\n        for (var key in json_data) {\n            var el = json_data[key];\n            this[key] = Array.isArray(el) ? ko.observableArray(el) : ko.observable(el);\n        }\n        \n        [this[\"formatted_val\"]=ko.computed(    function(){\n        return this.formatted_vals()[parseInt(this.index())-(1)];\n    }\n,this)]\n        [this[\"changes\"].subscribe((function (val){!(this.valueFromJulia[\"changes\"]) ? (WebIO.setval({\"name\":\"changes\",\"scope\":\"11752266298916387184\",\"id\":\"17128388560694403516\",\"type\":\"observable\"},val)) : undefined; return this.valueFromJulia[\"changes\"]=false}),self),this[\"index\"].subscribe((function (val){!(this.valueFromJulia[\"index\"]) ? (WebIO.setval({\"name\":\"index\",\"scope\":\"11752266298916387184\",\"id\":\"11457453773528672600\",\"type\":\"observable\"},val)) : undefined; return this.valueFromJulia[\"index\"]=false}),self)]\n        \n    }\n    self.model = new AppViewModel();\n    self.valueFromJulia = {};\n    for (var key in json_data) {\n        self.valueFromJulia[key] = false;\n    }\n    ko.applyBindings(self.model, self.dom);\n}\n);\n    (WebIO.importBlock({\"data\":[{\"name\":\"knockout\",\"type\":\"js\",\"url\":\"/assetserver/d749de49a15576291e39755d819be2408bf7f995-knockout.js\"},{\"name\":\"knockout_punches\",\"type\":\"js\",\"url\":\"/assetserver/9f5c86158cf79faf331cfb32636cb08a9b1f0dc2-knockout_punches.js\"}],\"type\":\"async_block\"})).then((imports) => handler.apply(this, imports));\n}\n"
            ],
            "observables": {
             "changes": {
              "id": "17128388560694403516",
              "sync": true,
              "value": 0
             },
             "index": {
              "id": "11457453773528672600",
              "sync": true,
              "value": 26
             }
            },
            "systemjs_options": null
           },
           "nodeType": "Scope",
           "props": {},
           "type": "node"
          }
         ],
         "instanceArgs": {
          "namespace": "html",
          "tag": "div"
         },
         "nodeType": "DOM",
         "props": {
          "className": "field interact-widget"
         },
         "type": "node"
        },
        {
         "children": [
          {
           "children": [
            {
             "children": [
              {
               "children": [
                {
                 "children": [
                  "W0"
                 ],
                 "instanceArgs": {
                  "namespace": "html",
                  "tag": "label"
                 },
                 "nodeType": "DOM",
                 "props": {
                  "className": "interact ",
                  "style": {
                   "color": "royalblue",
                   "padding": "5px 10px 0px 10px",
                   "white-space": "nowrap"
                  }
                 },
                 "type": "node"
                }
               ],
               "instanceArgs": {
                "namespace": "html",
                "tag": "div"
               },
               "nodeType": "DOM",
               "props": {
                "className": "interact-flex-row-left"
               },
               "type": "node"
              },
              {
               "children": [
                {
                 "children": [],
                 "instanceArgs": {
                  "namespace": "html",
                  "tag": "input"
                 },
                 "nodeType": "DOM",
                 "props": {
                  "attributes": {
                   "data-bind": "numericValue: index, valueUpdate: 'input', event: {change: function (){this.changes(this.changes()+1)}}",
                   "orient": "horizontal",
                   "type": "range"
                  },
                  "className": "slider slider is-fullwidth",
                  "max": 101,
                  "min": 1,
                  "step": 1,
                  "style": {}
                 },
                 "type": "node"
                }
               ],
               "instanceArgs": {
                "namespace": "html",
                "tag": "div"
               },
               "nodeType": "DOM",
               "props": {
                "className": "interact-flex-row-center"
               },
               "type": "node"
              },
              {
               "children": [
                {
                 "children": [],
                 "instanceArgs": {
                  "namespace": "html",
                  "tag": "p"
                 },
                 "nodeType": "DOM",
                 "props": {
                  "attributes": {
                   "data-bind": "text: formatted_val"
                  }
                 },
                 "type": "node"
                }
               ],
               "instanceArgs": {
                "namespace": "html",
                "tag": "div"
               },
               "nodeType": "DOM",
               "props": {
                "className": "interact-flex-row-right"
               },
               "type": "node"
              }
             ],
             "instanceArgs": {
              "namespace": "html",
              "tag": "div"
             },
             "nodeType": "DOM",
             "props": {
              "className": "interact-flex-row interact-widget",
              "style": {
               "font-family": "monospace",
               "width": "80%"
              }
             },
             "type": "node"
            }
           ],
           "instanceArgs": {
            "handlers": {
             "changes": [
              "(function (val){return (val!=this.model[\"changes\"]()) ? (this.valueFromJulia[\"changes\"]=true, this.model[\"changes\"](val)) : undefined})"
             ],
             "index": [
              "(function (val){return (val!=this.model[\"index\"]()) ? (this.valueFromJulia[\"index\"]=true, this.model[\"index\"](val)) : undefined})"
             ]
            },
            "id": "17609223930158254825",
            "imports": {
             "data": [
              {
               "name": "knockout",
               "type": "js",
               "url": "/assetserver/d749de49a15576291e39755d819be2408bf7f995-knockout.js"
              },
              {
               "name": "knockout_punches",
               "type": "js",
               "url": "/assetserver/9f5c86158cf79faf331cfb32636cb08a9b1f0dc2-knockout_punches.js"
              },
              {
               "name": null,
               "type": "js",
               "url": "/assetserver/96a65e6078e018eef9bba5cd6ed02b2635164c53-all.js"
              },
              {
               "name": null,
               "type": "css",
               "url": "/assetserver/98c9b8e9cfeaa0be2a6f3aa79abc5da0680c3037-style.css"
              },
              {
               "name": null,
               "type": "css",
               "url": "/assetserver/c5a1211d10b2f10049d85486a98c5e9063cad849-bulma_confined.min.css"
              }
             ],
             "type": "async_block"
            },
            "mount_callbacks": [
             "function () {\n    var handler = (function (ko, koPunches) {\n    ko.punches.enableAll();\n    ko.bindingHandlers.numericValue = {\n        init: function(element, valueAccessor, allBindings, data, context) {\n            var stringified = ko.observable(ko.unwrap(valueAccessor()));\n            stringified.subscribe(function(value) {\n                var val = parseFloat(value);\n                if (!isNaN(val)) {\n                    valueAccessor()(val);\n                }\n            });\n            valueAccessor().subscribe(function(value) {\n                var str = JSON.stringify(value);\n                if ((str == \"0\") && ([\"-0\", \"-0.\"].indexOf(stringified()) >= 0))\n                     return;\n                 if ([\"null\", \"\"].indexOf(str) >= 0)\n                     return;\n                stringified(str);\n            });\n            ko.applyBindingsToNode(\n                element,\n                {\n                    value: stringified,\n                    valueUpdate: allBindings.get('valueUpdate'),\n                },\n                context,\n            );\n        }\n    };\n    var json_data = {\"formatted_vals\":[\"0.0\",\"0.1\",\"0.2\",\"0.3\",\"0.4\",\"0.5\",\"0.6\",\"0.7\",\"0.8\",\"0.9\",\"1.0\",\"1.1\",\"1.2\",\"1.3\",\"1.4\",\"1.5\",\"1.6\",\"1.7\",\"1.8\",\"1.9\",\"2.0\",\"2.1\",\"2.2\",\"2.3\",\"2.4\",\"2.5\",\"2.6\",\"2.7\",\"2.8\",\"2.9\",\"3.0\",\"3.1\",\"3.2\",\"3.3\",\"3.4\",\"3.5\",\"3.6\",\"3.7\",\"3.8\",\"3.9\",\"4.0\",\"4.1\",\"4.2\",\"4.3\",\"4.4\",\"4.5\",\"4.6\",\"4.7\",\"4.8\",\"4.9\",\"5.0\",\"5.1\",\"5.2\",\"5.3\",\"5.4\",\"5.5\",\"5.6\",\"5.7\",\"5.8\",\"5.9\",\"6.0\",\"6.1\",\"6.2\",\"6.3\",\"6.4\",\"6.5\",\"6.6\",\"6.7\",\"6.8\",\"6.9\",\"7.0\",\"7.1\",\"7.2\",\"7.3\",\"7.4\",\"7.5\",\"7.6\",\"7.7\",\"7.8\",\"7.9\",\"8.0\",\"8.1\",\"8.2\",\"8.3\",\"8.4\",\"8.5\",\"8.6\",\"8.7\",\"8.8\",\"8.9\",\"9.0\",\"9.1\",\"9.2\",\"9.3\",\"9.4\",\"9.5\",\"9.6\",\"9.7\",\"9.8\",\"9.9\",\"10.0\"],\"changes\":WebIO.getval({\"name\":\"changes\",\"scope\":\"17609223930158254825\",\"id\":\"17909073270199380853\",\"type\":\"observable\"}),\"index\":WebIO.getval({\"name\":\"index\",\"scope\":\"17609223930158254825\",\"id\":\"1158914545672000012\",\"type\":\"observable\"})};\n    var self = this;\n    function AppViewModel() {\n        for (var key in json_data) {\n            var el = json_data[key];\n            this[key] = Array.isArray(el) ? ko.observableArray(el) : ko.observable(el);\n        }\n        \n        [this[\"formatted_val\"]=ko.computed(    function(){\n        return this.formatted_vals()[parseInt(this.index())-(1)];\n    }\n,this)]\n        [this[\"changes\"].subscribe((function (val){!(this.valueFromJulia[\"changes\"]) ? (WebIO.setval({\"name\":\"changes\",\"scope\":\"17609223930158254825\",\"id\":\"17909073270199380853\",\"type\":\"observable\"},val)) : undefined; return this.valueFromJulia[\"changes\"]=false}),self),this[\"index\"].subscribe((function (val){!(this.valueFromJulia[\"index\"]) ? (WebIO.setval({\"name\":\"index\",\"scope\":\"17609223930158254825\",\"id\":\"1158914545672000012\",\"type\":\"observable\"},val)) : undefined; return this.valueFromJulia[\"index\"]=false}),self)]\n        \n    }\n    self.model = new AppViewModel();\n    self.valueFromJulia = {};\n    for (var key in json_data) {\n        self.valueFromJulia[key] = false;\n    }\n    ko.applyBindings(self.model, self.dom);\n}\n);\n    (WebIO.importBlock({\"data\":[{\"name\":\"knockout\",\"type\":\"js\",\"url\":\"/assetserver/d749de49a15576291e39755d819be2408bf7f995-knockout.js\"},{\"name\":\"knockout_punches\",\"type\":\"js\",\"url\":\"/assetserver/9f5c86158cf79faf331cfb32636cb08a9b1f0dc2-knockout_punches.js\"}],\"type\":\"async_block\"})).then((imports) => handler.apply(this, imports));\n}\n"
            ],
            "observables": {
             "changes": {
              "id": "17909073270199380853",
              "sync": true,
              "value": 0
             },
             "index": {
              "id": "1158914545672000012",
              "sync": true,
              "value": 51
             }
            },
            "systemjs_options": null
           },
           "nodeType": "Scope",
           "props": {},
           "type": "node"
          }
         ],
         "instanceArgs": {
          "namespace": "html",
          "tag": "div"
         },
         "nodeType": "DOM",
         "props": {
          "className": "field interact-widget"
         },
         "type": "node"
        },
        {
         "children": [
          {
           "children": [
            {
             "children": [
              {
               "children": [
                {
                 "children": [
                  "Wf"
                 ],
                 "instanceArgs": {
                  "namespace": "html",
                  "tag": "label"
                 },
                 "nodeType": "DOM",
                 "props": {
                  "className": "interact ",
                  "style": {
                   "color": "royalblue",
                   "padding": "5px 10px 0px 10px",
                   "white-space": "nowrap"
                  }
                 },
                 "type": "node"
                }
               ],
               "instanceArgs": {
                "namespace": "html",
                "tag": "div"
               },
               "nodeType": "DOM",
               "props": {
                "className": "interact-flex-row-left"
               },
               "type": "node"
              },
              {
               "children": [
                {
                 "children": [],
                 "instanceArgs": {
                  "namespace": "html",
                  "tag": "input"
                 },
                 "nodeType": "DOM",
                 "props": {
                  "attributes": {
                   "data-bind": "numericValue: index, valueUpdate: 'input', event: {change: function (){this.changes(this.changes()+1)}}",
                   "orient": "horizontal",
                   "type": "range"
                  },
                  "className": "slider slider is-fullwidth",
                  "max": 20,
                  "min": 1,
                  "step": 1,
                  "style": {}
                 },
                 "type": "node"
                }
               ],
               "instanceArgs": {
                "namespace": "html",
                "tag": "div"
               },
               "nodeType": "DOM",
               "props": {
                "className": "interact-flex-row-center"
               },
               "type": "node"
              },
              {
               "children": [
                {
                 "children": [],
                 "instanceArgs": {
                  "namespace": "html",
                  "tag": "p"
                 },
                 "nodeType": "DOM",
                 "props": {
                  "attributes": {
                   "data-bind": "text: formatted_val"
                  }
                 },
                 "type": "node"
                }
               ],
               "instanceArgs": {
                "namespace": "html",
                "tag": "div"
               },
               "nodeType": "DOM",
               "props": {
                "className": "interact-flex-row-right"
               },
               "type": "node"
              }
             ],
             "instanceArgs": {
              "namespace": "html",
              "tag": "div"
             },
             "nodeType": "DOM",
             "props": {
              "className": "interact-flex-row interact-widget",
              "style": {
               "font-family": "monospace",
               "width": "80%"
              }
             },
             "type": "node"
            }
           ],
           "instanceArgs": {
            "handlers": {
             "changes": [
              "(function (val){return (val!=this.model[\"changes\"]()) ? (this.valueFromJulia[\"changes\"]=true, this.model[\"changes\"](val)) : undefined})"
             ],
             "index": [
              "(function (val){return (val!=this.model[\"index\"]()) ? (this.valueFromJulia[\"index\"]=true, this.model[\"index\"](val)) : undefined})"
             ]
            },
            "id": "5865641639130917560",
            "imports": {
             "data": [
              {
               "name": "knockout",
               "type": "js",
               "url": "/assetserver/d749de49a15576291e39755d819be2408bf7f995-knockout.js"
              },
              {
               "name": "knockout_punches",
               "type": "js",
               "url": "/assetserver/9f5c86158cf79faf331cfb32636cb08a9b1f0dc2-knockout_punches.js"
              },
              {
               "name": null,
               "type": "js",
               "url": "/assetserver/96a65e6078e018eef9bba5cd6ed02b2635164c53-all.js"
              },
              {
               "name": null,
               "type": "css",
               "url": "/assetserver/98c9b8e9cfeaa0be2a6f3aa79abc5da0680c3037-style.css"
              },
              {
               "name": null,
               "type": "css",
               "url": "/assetserver/c5a1211d10b2f10049d85486a98c5e9063cad849-bulma_confined.min.css"
              }
             ],
             "type": "async_block"
            },
            "mount_callbacks": [
             "function () {\n    var handler = (function (ko, koPunches) {\n    ko.punches.enableAll();\n    ko.bindingHandlers.numericValue = {\n        init: function(element, valueAccessor, allBindings, data, context) {\n            var stringified = ko.observable(ko.unwrap(valueAccessor()));\n            stringified.subscribe(function(value) {\n                var val = parseFloat(value);\n                if (!isNaN(val)) {\n                    valueAccessor()(val);\n                }\n            });\n            valueAccessor().subscribe(function(value) {\n                var str = JSON.stringify(value);\n                if ((str == \"0\") && ([\"-0\", \"-0.\"].indexOf(stringified()) >= 0))\n                     return;\n                 if ([\"null\", \"\"].indexOf(str) >= 0)\n                     return;\n                stringified(str);\n            });\n            ko.applyBindingsToNode(\n                element,\n                {\n                    value: stringified,\n                    valueUpdate: allBindings.get('valueUpdate'),\n                },\n                context,\n            );\n        }\n    };\n    var json_data = {\"formatted_vals\":[\"10\",\"20\",\"30\",\"40\",\"50\",\"60\",\"70\",\"80\",\"90\",\"100\",\"110\",\"120\",\"130\",\"140\",\"150\",\"160\",\"170\",\"180\",\"190\",\"200\"],\"changes\":WebIO.getval({\"name\":\"changes\",\"scope\":\"5865641639130917560\",\"id\":\"4629023784124520850\",\"type\":\"observable\"}),\"index\":WebIO.getval({\"name\":\"index\",\"scope\":\"5865641639130917560\",\"id\":\"13669731239752496204\",\"type\":\"observable\"})};\n    var self = this;\n    function AppViewModel() {\n        for (var key in json_data) {\n            var el = json_data[key];\n            this[key] = Array.isArray(el) ? ko.observableArray(el) : ko.observable(el);\n        }\n        \n        [this[\"formatted_val\"]=ko.computed(    function(){\n        return this.formatted_vals()[parseInt(this.index())-(1)];\n    }\n,this)]\n        [this[\"changes\"].subscribe((function (val){!(this.valueFromJulia[\"changes\"]) ? (WebIO.setval({\"name\":\"changes\",\"scope\":\"5865641639130917560\",\"id\":\"4629023784124520850\",\"type\":\"observable\"},val)) : undefined; return this.valueFromJulia[\"changes\"]=false}),self),this[\"index\"].subscribe((function (val){!(this.valueFromJulia[\"index\"]) ? (WebIO.setval({\"name\":\"index\",\"scope\":\"5865641639130917560\",\"id\":\"13669731239752496204\",\"type\":\"observable\"},val)) : undefined; return this.valueFromJulia[\"index\"]=false}),self)]\n        \n    }\n    self.model = new AppViewModel();\n    self.valueFromJulia = {};\n    for (var key in json_data) {\n        self.valueFromJulia[key] = false;\n    }\n    ko.applyBindings(self.model, self.dom);\n}\n);\n    (WebIO.importBlock({\"data\":[{\"name\":\"knockout\",\"type\":\"js\",\"url\":\"/assetserver/d749de49a15576291e39755d819be2408bf7f995-knockout.js\"},{\"name\":\"knockout_punches\",\"type\":\"js\",\"url\":\"/assetserver/9f5c86158cf79faf331cfb32636cb08a9b1f0dc2-knockout_punches.js\"}],\"type\":\"async_block\"})).then((imports) => handler.apply(this, imports));\n}\n"
            ],
            "observables": {
             "changes": {
              "id": "4629023784124520850",
              "sync": true,
              "value": 0
             },
             "index": {
              "id": "13669731239752496204",
              "sync": true,
              "value": 10
             }
            },
            "systemjs_options": null
           },
           "nodeType": "Scope",
           "props": {},
           "type": "node"
          }
         ],
         "instanceArgs": {
          "namespace": "html",
          "tag": "div"
         },
         "nodeType": "DOM",
         "props": {
          "className": "field interact-widget"
         },
         "type": "node"
        },
        {
         "children": [
          {
           "children": [],
           "instanceArgs": {
            "namespace": "html",
            "tag": "div"
           },
           "nodeType": "DOM",
           "props": {
            "className": "webio-observable",
            "setInnerHtml": "<?xml version=\"1.0\" encoding=\"UTF-8\"?>\n<svg xmlns=\"http://www.w3.org/2000/svg\"\n     xmlns:xlink=\"http://www.w3.org/1999/xlink\"\n     xmlns:gadfly=\"http://www.gadflyjl.org/ns\"\n     version=\"1.2\"\n     width=\"141.42mm\" height=\"100mm\" viewBox=\"0 0 141.42 100\"\n     stroke=\"none\"\n     fill=\"#000000\"\n     stroke-width=\"0.3\"\n     font-size=\"3.88\"\n>\n<defs>\n  <marker id=\"arrow\" markerWidth=\"15\" markerHeight=\"7\" refX=\"5\" refY=\"3.5\" orient=\"auto\" markerUnits=\"strokeWidth\">\n    <path d=\"M0,0 L15,3.5 L0,7 z\" stroke=\"context-stroke\" fill=\"context-stroke\"/>\n  </marker>\n</defs>\n<g stroke=\"#000000\" stroke-opacity=\"0.000\" fill=\"#FFFFFF\" id=\"img-bcbb40a6-1\">\n  <g transform=\"translate(70.71,50)\">\n    <path d=\"M-70.71,-50 L70.71,-50 70.71,50 -70.71,50  z\" class=\"primitive\"/>\n  </g>\n</g>\n<g class=\"plotroot xscalable yscalable\" id=\"img-bcbb40a6-2\">\n  <g font-size=\"3.53\" font-family=\"'PT Sans','Helvetica Neue','Helvetica',sans-serif\" fill=\"#564A55\" stroke=\"#000000\" stroke-opacity=\"0.000\" id=\"img-bcbb40a6-3\">\n    <g transform=\"translate(77.68,93.72)\">\n      <g class=\"primitive\">\n        <text text-anchor=\"middle\" dy=\"0.6em\">t</text>\n      </g>\n    </g>\n  </g>\n  <g class=\"guide xlabels\" font-size=\"2.82\" font-family=\"'PT Sans Caption','Helvetica Neue','Helvetica',sans-serif\" fill=\"#6C606B\" id=\"img-bcbb40a6-4\">\n    <g transform=\"translate(20.94,87.04)\">\n      <g class=\"primitive\">\n        <text text-anchor=\"middle\" dy=\"0.6em\">0</text>\n      </g>\n    </g>\n    <g transform=\"translate(77.68,87.04)\">\n      <g class=\"primitive\">\n        <text text-anchor=\"middle\" dy=\"0.6em\">50</text>\n      </g>\n    </g>\n    <g transform=\"translate(134.42,87.04)\">\n      <g class=\"primitive\">\n        <text text-anchor=\"middle\" dy=\"0.6em\">100</text>\n      </g>\n    </g>\n  </g>\n  <g clip-path=\"url(#img-bcbb40a6-5)\">\n    <g id=\"img-bcbb40a6-6\">\n      <g pointer-events=\"visible\" stroke-width=\"0.3\" fill=\"#000000\" fill-opacity=\"0.000\" stroke=\"#000000\" stroke-opacity=\"0.000\" class=\"guide background\" id=\"img-bcbb40a6-7\">\n        <g transform=\"translate(77.68,45.52)\" id=\"img-bcbb40a6-8\">\n          <path d=\"M-58.74,-40.52 L58.74,-40.52 58.74,40.52 -58.74,40.52  z\" class=\"primitive\"/>\n        </g>\n      </g>\n      <g class=\"guide ygridlines xfixed\" stroke-dasharray=\"0.5,0.5\" stroke-width=\"0.2\" stroke=\"#D0D0E0\" id=\"img-bcbb40a6-9\">\n        <g transform=\"translate(77.68,84.04)\" id=\"img-bcbb40a6-10\">\n          <path fill=\"none\" d=\"M-58.74,0 L58.74,0 \" class=\"primitive\"/>\n        </g>\n        <g transform=\"translate(77.68,64.78)\" id=\"img-bcbb40a6-11\">\n          <path fill=\"none\" d=\"M-58.74,0 L58.74,0 \" class=\"primitive\"/>\n        </g>\n        <g transform=\"translate(77.68,45.52)\" id=\"img-bcbb40a6-12\">\n          <path fill=\"none\" d=\"M-58.74,0 L58.74,0 \" class=\"primitive\"/>\n        </g>\n        <g transform=\"translate(77.68,26.26)\" id=\"img-bcbb40a6-13\">\n          <path fill=\"none\" d=\"M-58.74,0 L58.74,0 \" class=\"primitive\"/>\n        </g>\n        <g transform=\"translate(77.68,7)\" id=\"img-bcbb40a6-14\">\n          <path fill=\"none\" d=\"M-58.74,0 L58.74,0 \" class=\"primitive\"/>\n        </g>\n      </g>\n      <g class=\"guide xgridlines yfixed\" stroke-dasharray=\"0.5,0.5\" stroke-width=\"0.2\" stroke=\"#D0D0E0\" id=\"img-bcbb40a6-15\">\n        <g transform=\"translate(20.94,45.52)\" id=\"img-bcbb40a6-16\">\n          <path fill=\"none\" d=\"M0,-40.52 L0,40.52 \" class=\"primitive\"/>\n        </g>\n        <g transform=\"translate(77.68,45.52)\" id=\"img-bcbb40a6-17\">\n          <path fill=\"none\" d=\"M0,-40.52 L0,40.52 \" class=\"primitive\"/>\n        </g>\n        <g transform=\"translate(134.42,45.52)\" id=\"img-bcbb40a6-18\">\n          <path fill=\"none\" d=\"M0,-40.52 L0,40.52 \" class=\"primitive\"/>\n        </g>\n      </g>\n      <g class=\"plotpanel\" id=\"img-bcbb40a6-19\">\n        <metadata>\n          <boundingbox value=\"18.936666666666667mm 5.0mm 117.48468957064284mm 81.04333333333335mm\"/>\n          <unitbox value=\"-1.762352267576169 205.19188335568728 103.52470453515235 -210.38376671137456\"/>\n        </metadata>\n        <g stroke-width=\"0.3\" fill=\"#000000\" fill-opacity=\"0.000\" class=\"geometry\" id=\"img-bcbb40a6-20\">\n          <g class=\"color_LCHab{Float32}(70.0f0,60.0f0,240.0f0)\" stroke-dasharray=\"none\" stroke-opacity=\"1\" stroke=\"#00BFFF\" id=\"img-bcbb40a6-21\">\n            <g transform=\"translate(77.68,46.97)\" id=\"img-bcbb40a6-22\">\n              <path fill=\"none\" d=\"M-56.74,35.15 L-55.61,26 -54.47,19.14 -53.34,13.99 -52.2,10.13 -51.07,7.23 -49.93,5.06 -48.8,3.44 -47.66,2.21 -46.53,1.3 -45.39,0.61 -44.26,0.1 -43.12,-0.29 -41.99,-0.58 -40.85,-0.8 -39.72,-0.96 -38.58,-1.08 -37.45,-1.17 -36.32,-1.24 -35.18,-1.29 -34.05,-1.33 -32.91,-1.36 -31.78,-1.38 -30.64,-1.4 -29.51,-1.41 -28.37,-1.42 -27.24,-1.43 -26.1,-1.43 -24.97,-1.44 -23.83,-1.44 -22.7,-1.44 -21.56,-1.44 -20.43,-1.45 -19.29,-1.45 -18.16,-1.45 -17.02,-1.45 -15.89,-1.45 -14.75,-1.45 -13.62,-1.45 -12.48,-1.45 -11.35,-1.45 -10.21,-1.45 -9.08,-1.45 -7.94,-1.45 -6.81,-1.45 -5.67,-1.45 -4.54,-1.45 -3.4,-1.45 -2.27,-1.45 -1.13,-1.45 0,-1.45 1.13,-1.45 2.27,-1.45 3.4,-1.45 4.54,-1.45 5.67,-1.45 6.81,-1.45 7.94,-1.45 9.08,-1.45 10.21,-1.45 11.35,-1.45 12.48,-1.45 13.62,-1.45 14.75,-1.45 15.89,-1.45 17.02,-1.45 18.16,-1.45 19.29,-1.45 20.43,-1.45 21.56,-1.45 22.7,-1.45 23.83,-1.45 24.97,-1.45 26.1,-1.45 27.24,-1.45 28.37,-1.45 29.51,-1.45 30.64,-1.45 31.78,-1.45 32.91,-1.45 34.05,-1.45 35.18,-1.45 36.32,-1.45 37.45,-1.45 38.58,-1.45 39.72,-1.45 40.85,-1.45 41.99,-1.45 43.12,-1.45 44.26,-1.45 45.39,-1.45 46.53,-1.45 47.66,-1.45 48.8,-1.45 49.93,-1.45 51.07,-1.45 52.2,-1.45 53.34,-1.45 54.47,-1.45 55.61,-1.45 56.74,-1.45 \" class=\"primitive\"/>\n            </g>\n          </g>\n        </g>\n      </g>\n    </g>\n  </g>\n  <g class=\"guide ylabels\" font-size=\"2.82\" font-family=\"'PT Sans Caption','Helvetica Neue','Helvetica',sans-serif\" fill=\"#6C606B\" id=\"img-bcbb40a6-23\">\n    <g transform=\"translate(17.94,84.04)\" id=\"img-bcbb40a6-24\">\n      <g class=\"primitive\">\n        <text text-anchor=\"end\" dy=\"0.35em\">0</text>\n      </g>\n    </g>\n    <g transform=\"translate(17.94,64.78)\" id=\"img-bcbb40a6-25\">\n      <g class=\"primitive\">\n        <text text-anchor=\"end\" dy=\"0.35em\">50</text>\n      </g>\n    </g>\n    <g transform=\"translate(17.94,45.52)\" id=\"img-bcbb40a6-26\">\n      <g class=\"primitive\">\n        <text text-anchor=\"end\" dy=\"0.35em\">100</text>\n      </g>\n    </g>\n    <g transform=\"translate(17.94,26.26)\" id=\"img-bcbb40a6-27\">\n      <g class=\"primitive\">\n        <text text-anchor=\"end\" dy=\"0.35em\">150</text>\n      </g>\n    </g>\n    <g transform=\"translate(17.94,7)\" id=\"img-bcbb40a6-28\">\n      <g class=\"primitive\">\n        <text text-anchor=\"end\" dy=\"0.35em\">200</text>\n      </g>\n    </g>\n  </g>\n  <g font-size=\"3.53\" font-family=\"'PT Sans','Helvetica Neue','Helvetica',sans-serif\" fill=\"#564A55\" stroke=\"#000000\" stroke-opacity=\"0.000\" id=\"img-bcbb40a6-29\">\n    <g transform=\"translate(9.92,45.52)\" id=\"img-bcbb40a6-30\">\n      <g class=\"primitive\">\n        <text text-anchor=\"end\" dy=\"0.35em\">W</text>\n      </g>\n    </g>\n  </g>\n</g>\n<defs>\n  <clipPath id=\"img-bcbb40a6-5\">\n    <path d=\"M18.94,5 L136.42,5 136.42,86.04 18.94,86.04 \" />\n  </clipPath>\n</defs>\n</svg>\n"
           },
           "type": "node"
          }
         ],
         "instanceArgs": {
          "handlers": {
           "obs-output": [
            "function (value, scope) {\n    scope.setInnerHTML(value);\n}\n"
           ]
          },
          "id": "2734943053239298255",
          "imports": {
           "data": [],
           "type": "async_block"
          },
          "mount_callbacks": [],
          "observables": {
           "obs-output": {
            "id": "917967679807042992",
            "sync": false,
            "value": "<?xml version=\"1.0\" encoding=\"UTF-8\"?>\n<svg xmlns=\"http://www.w3.org/2000/svg\"\n     xmlns:xlink=\"http://www.w3.org/1999/xlink\"\n     xmlns:gadfly=\"http://www.gadflyjl.org/ns\"\n     version=\"1.2\"\n     width=\"141.42mm\" height=\"100mm\" viewBox=\"0 0 141.42 100\"\n     stroke=\"none\"\n     fill=\"#000000\"\n     stroke-width=\"0.3\"\n     font-size=\"3.88\"\n>\n<defs>\n  <marker id=\"arrow\" markerWidth=\"15\" markerHeight=\"7\" refX=\"5\" refY=\"3.5\" orient=\"auto\" markerUnits=\"strokeWidth\">\n    <path d=\"M0,0 L15,3.5 L0,7 z\" stroke=\"context-stroke\" fill=\"context-stroke\"/>\n  </marker>\n</defs>\n<g stroke=\"#000000\" stroke-opacity=\"0.000\" fill=\"#FFFFFF\" id=\"img-bcbb40a6-1\">\n  <g transform=\"translate(70.71,50)\">\n    <path d=\"M-70.71,-50 L70.71,-50 70.71,50 -70.71,50  z\" class=\"primitive\"/>\n  </g>\n</g>\n<g class=\"plotroot xscalable yscalable\" id=\"img-bcbb40a6-2\">\n  <g font-size=\"3.53\" font-family=\"'PT Sans','Helvetica Neue','Helvetica',sans-serif\" fill=\"#564A55\" stroke=\"#000000\" stroke-opacity=\"0.000\" id=\"img-bcbb40a6-3\">\n    <g transform=\"translate(77.68,93.72)\">\n      <g class=\"primitive\">\n        <text text-anchor=\"middle\" dy=\"0.6em\">t</text>\n      </g>\n    </g>\n  </g>\n  <g class=\"guide xlabels\" font-size=\"2.82\" font-family=\"'PT Sans Caption','Helvetica Neue','Helvetica',sans-serif\" fill=\"#6C606B\" id=\"img-bcbb40a6-4\">\n    <g transform=\"translate(20.94,87.04)\">\n      <g class=\"primitive\">\n        <text text-anchor=\"middle\" dy=\"0.6em\">0</text>\n      </g>\n    </g>\n    <g transform=\"translate(77.68,87.04)\">\n      <g class=\"primitive\">\n        <text text-anchor=\"middle\" dy=\"0.6em\">50</text>\n      </g>\n    </g>\n    <g transform=\"translate(134.42,87.04)\">\n      <g class=\"primitive\">\n        <text text-anchor=\"middle\" dy=\"0.6em\">100</text>\n      </g>\n    </g>\n  </g>\n  <g clip-path=\"url(#img-bcbb40a6-5)\">\n    <g id=\"img-bcbb40a6-6\">\n      <g pointer-events=\"visible\" stroke-width=\"0.3\" fill=\"#000000\" fill-opacity=\"0.000\" stroke=\"#000000\" stroke-opacity=\"0.000\" class=\"guide background\" id=\"img-bcbb40a6-7\">\n        <g transform=\"translate(77.68,45.52)\" id=\"img-bcbb40a6-8\">\n          <path d=\"M-58.74,-40.52 L58.74,-40.52 58.74,40.52 -58.74,40.52  z\" class=\"primitive\"/>\n        </g>\n      </g>\n      <g class=\"guide ygridlines xfixed\" stroke-dasharray=\"0.5,0.5\" stroke-width=\"0.2\" stroke=\"#D0D0E0\" id=\"img-bcbb40a6-9\">\n        <g transform=\"translate(77.68,84.04)\" id=\"img-bcbb40a6-10\">\n          <path fill=\"none\" d=\"M-58.74,0 L58.74,0 \" class=\"primitive\"/>\n        </g>\n        <g transform=\"translate(77.68,64.78)\" id=\"img-bcbb40a6-11\">\n          <path fill=\"none\" d=\"M-58.74,0 L58.74,0 \" class=\"primitive\"/>\n        </g>\n        <g transform=\"translate(77.68,45.52)\" id=\"img-bcbb40a6-12\">\n          <path fill=\"none\" d=\"M-58.74,0 L58.74,0 \" class=\"primitive\"/>\n        </g>\n        <g transform=\"translate(77.68,26.26)\" id=\"img-bcbb40a6-13\">\n          <path fill=\"none\" d=\"M-58.74,0 L58.74,0 \" class=\"primitive\"/>\n        </g>\n        <g transform=\"translate(77.68,7)\" id=\"img-bcbb40a6-14\">\n          <path fill=\"none\" d=\"M-58.74,0 L58.74,0 \" class=\"primitive\"/>\n        </g>\n      </g>\n      <g class=\"guide xgridlines yfixed\" stroke-dasharray=\"0.5,0.5\" stroke-width=\"0.2\" stroke=\"#D0D0E0\" id=\"img-bcbb40a6-15\">\n        <g transform=\"translate(20.94,45.52)\" id=\"img-bcbb40a6-16\">\n          <path fill=\"none\" d=\"M0,-40.52 L0,40.52 \" class=\"primitive\"/>\n        </g>\n        <g transform=\"translate(77.68,45.52)\" id=\"img-bcbb40a6-17\">\n          <path fill=\"none\" d=\"M0,-40.52 L0,40.52 \" class=\"primitive\"/>\n        </g>\n        <g transform=\"translate(134.42,45.52)\" id=\"img-bcbb40a6-18\">\n          <path fill=\"none\" d=\"M0,-40.52 L0,40.52 \" class=\"primitive\"/>\n        </g>\n      </g>\n      <g class=\"plotpanel\" id=\"img-bcbb40a6-19\">\n        <metadata>\n          <boundingbox value=\"18.936666666666667mm 5.0mm 117.48468957064284mm 81.04333333333335mm\"/>\n          <unitbox value=\"-1.762352267576169 205.19188335568728 103.52470453515235 -210.38376671137456\"/>\n        </metadata>\n        <g stroke-width=\"0.3\" fill=\"#000000\" fill-opacity=\"0.000\" class=\"geometry\" id=\"img-bcbb40a6-20\">\n          <g class=\"color_LCHab{Float32}(70.0f0,60.0f0,240.0f0)\" stroke-dasharray=\"none\" stroke-opacity=\"1\" stroke=\"#00BFFF\" id=\"img-bcbb40a6-21\">\n            <g transform=\"translate(77.68,46.97)\" id=\"img-bcbb40a6-22\">\n              <path fill=\"none\" d=\"M-56.74,35.15 L-55.61,26 -54.47,19.14 -53.34,13.99 -52.2,10.13 -51.07,7.23 -49.93,5.06 -48.8,3.44 -47.66,2.21 -46.53,1.3 -45.39,0.61 -44.26,0.1 -43.12,-0.29 -41.99,-0.58 -40.85,-0.8 -39.72,-0.96 -38.58,-1.08 -37.45,-1.17 -36.32,-1.24 -35.18,-1.29 -34.05,-1.33 -32.91,-1.36 -31.78,-1.38 -30.64,-1.4 -29.51,-1.41 -28.37,-1.42 -27.24,-1.43 -26.1,-1.43 -24.97,-1.44 -23.83,-1.44 -22.7,-1.44 -21.56,-1.44 -20.43,-1.45 -19.29,-1.45 -18.16,-1.45 -17.02,-1.45 -15.89,-1.45 -14.75,-1.45 -13.62,-1.45 -12.48,-1.45 -11.35,-1.45 -10.21,-1.45 -9.08,-1.45 -7.94,-1.45 -6.81,-1.45 -5.67,-1.45 -4.54,-1.45 -3.4,-1.45 -2.27,-1.45 -1.13,-1.45 0,-1.45 1.13,-1.45 2.27,-1.45 3.4,-1.45 4.54,-1.45 5.67,-1.45 6.81,-1.45 7.94,-1.45 9.08,-1.45 10.21,-1.45 11.35,-1.45 12.48,-1.45 13.62,-1.45 14.75,-1.45 15.89,-1.45 17.02,-1.45 18.16,-1.45 19.29,-1.45 20.43,-1.45 21.56,-1.45 22.7,-1.45 23.83,-1.45 24.97,-1.45 26.1,-1.45 27.24,-1.45 28.37,-1.45 29.51,-1.45 30.64,-1.45 31.78,-1.45 32.91,-1.45 34.05,-1.45 35.18,-1.45 36.32,-1.45 37.45,-1.45 38.58,-1.45 39.72,-1.45 40.85,-1.45 41.99,-1.45 43.12,-1.45 44.26,-1.45 45.39,-1.45 46.53,-1.45 47.66,-1.45 48.8,-1.45 49.93,-1.45 51.07,-1.45 52.2,-1.45 53.34,-1.45 54.47,-1.45 55.61,-1.45 56.74,-1.45 \" class=\"primitive\"/>\n            </g>\n          </g>\n        </g>\n      </g>\n    </g>\n  </g>\n  <g class=\"guide ylabels\" font-size=\"2.82\" font-family=\"'PT Sans Caption','Helvetica Neue','Helvetica',sans-serif\" fill=\"#6C606B\" id=\"img-bcbb40a6-23\">\n    <g transform=\"translate(17.94,84.04)\" id=\"img-bcbb40a6-24\">\n      <g class=\"primitive\">\n        <text text-anchor=\"end\" dy=\"0.35em\">0</text>\n      </g>\n    </g>\n    <g transform=\"translate(17.94,64.78)\" id=\"img-bcbb40a6-25\">\n      <g class=\"primitive\">\n        <text text-anchor=\"end\" dy=\"0.35em\">50</text>\n      </g>\n    </g>\n    <g transform=\"translate(17.94,45.52)\" id=\"img-bcbb40a6-26\">\n      <g class=\"primitive\">\n        <text text-anchor=\"end\" dy=\"0.35em\">100</text>\n      </g>\n    </g>\n    <g transform=\"translate(17.94,26.26)\" id=\"img-bcbb40a6-27\">\n      <g class=\"primitive\">\n        <text text-anchor=\"end\" dy=\"0.35em\">150</text>\n      </g>\n    </g>\n    <g transform=\"translate(17.94,7)\" id=\"img-bcbb40a6-28\">\n      <g class=\"primitive\">\n        <text text-anchor=\"end\" dy=\"0.35em\">200</text>\n      </g>\n    </g>\n  </g>\n  <g font-size=\"3.53\" font-family=\"'PT Sans','Helvetica Neue','Helvetica',sans-serif\" fill=\"#564A55\" stroke=\"#000000\" stroke-opacity=\"0.000\" id=\"img-bcbb40a6-29\">\n    <g transform=\"translate(9.92,45.52)\" id=\"img-bcbb40a6-30\">\n      <g class=\"primitive\">\n        <text text-anchor=\"end\" dy=\"0.35em\">W</text>\n      </g>\n    </g>\n  </g>\n</g>\n<defs>\n  <clipPath id=\"img-bcbb40a6-5\">\n    <path d=\"M18.94,5 L136.42,5 136.42,86.04 18.94,86.04 \" />\n  </clipPath>\n</defs>\n</svg>\n"
           }
          },
          "systemjs_options": null
         },
         "nodeType": "Scope",
         "props": {},
         "type": "node"
        }
       ],
       "instanceArgs": {
        "namespace": "html",
        "tag": "div"
       },
       "nodeType": "DOM",
       "props": {
        "style": {
         "display": "flex",
         "flex-direction": "column"
        }
       },
       "type": "node"
      },
      "text/html": [
       "<div\n",
       "    class=\"webio-mountpoint\"\n",
       "    data-webio-mountpoint=\"10206639430052894347\"\n",
       ">\n",
       "    <script>\n",
       "    (function(){\n",
       "    // Some integrations (namely, IJulia/Jupyter) use an alternate render pathway than\n",
       "    // just putting the html on the page. If WebIO isn't defined, then it's pretty likely\n",
       "    // that we're in one of those situations and the integration just isn't installed\n",
       "    // correctly.\n",
       "    if (typeof window.WebIO === \"undefined\") {\n",
       "        document\n",
       "            .querySelector('[data-webio-mountpoint=\"10206639430052894347\"]')\n",
       "            .innerHTML = (\n",
       "                '<div style=\"padding: 1em; background-color: #f8d6da; border: 1px solid #f5c6cb; font-weight: bold;\">' +\n",
       "                '<p><strong>WebIO not detected.</strong></p>' +\n",
       "                '<p>Please read ' +\n",
       "                '<a href=\"https://juliagizmos.github.io/WebIO.jl/latest/troubleshooting/not-detected/\" target=\"_blank\">the troubleshooting guide</a> ' +\n",
       "                'for more information on how to resolve this issue.</p>' +\n",
       "                '<p><a href=\"https://juliagizmos.github.io/WebIO.jl/latest/troubleshooting/not-detected/\" target=\"_blank\">https://juliagizmos.github.io/WebIO.jl/latest/troubleshooting/not-detected/</a></p>' +\n",
       "                '</div>'\n",
       "            );\n",
       "        return;\n",
       "    }\n",
       "    WebIO.mount(\n",
       "        document.querySelector('[data-webio-mountpoint=\"10206639430052894347\"]'),\n",
       "        {\"props\":{\"style\":{\"display\":\"flex\",\"flex-direction\":\"column\"}},\"nodeType\":\"DOM\",\"type\":\"node\",\"instanceArgs\":{\"namespace\":\"html\",\"tag\":\"div\"},\"children\":[{\"props\":{\"style\":{\"color\":\"rebeccapurple\",\"font-family\":\"monospace\"}},\"nodeType\":\"DOM\",\"type\":\"node\",\"instanceArgs\":{\"namespace\":\"html\",\"tag\":\"div\"},\"children\":[\"Mono\"]},{\"props\":{\"className\":\"field interact-widget\"},\"nodeType\":\"DOM\",\"type\":\"node\",\"instanceArgs\":{\"namespace\":\"html\",\"tag\":\"div\"},\"children\":[{\"props\":{},\"nodeType\":\"Scope\",\"type\":\"node\",\"instanceArgs\":{\"imports\":{\"data\":[{\"name\":\"knockout\",\"type\":\"js\",\"url\":\"\\/assetserver\\/d749de49a15576291e39755d819be2408bf7f995-knockout.js\"},{\"name\":\"knockout_punches\",\"type\":\"js\",\"url\":\"\\/assetserver\\/9f5c86158cf79faf331cfb32636cb08a9b1f0dc2-knockout_punches.js\"},{\"name\":null,\"type\":\"js\",\"url\":\"\\/assetserver\\/96a65e6078e018eef9bba5cd6ed02b2635164c53-all.js\"},{\"name\":null,\"type\":\"css\",\"url\":\"\\/assetserver\\/98c9b8e9cfeaa0be2a6f3aa79abc5da0680c3037-style.css\"},{\"name\":null,\"type\":\"css\",\"url\":\"\\/assetserver\\/c5a1211d10b2f10049d85486a98c5e9063cad849-bulma_confined.min.css\"}],\"type\":\"async_block\"},\"id\":\"11752266298916387184\",\"handlers\":{\"changes\":[\"(function (val){return (val!=this.model[\\\"changes\\\"]()) ? (this.valueFromJulia[\\\"changes\\\"]=true, this.model[\\\"changes\\\"](val)) : undefined})\"],\"index\":[\"(function (val){return (val!=this.model[\\\"index\\\"]()) ? (this.valueFromJulia[\\\"index\\\"]=true, this.model[\\\"index\\\"](val)) : undefined})\"]},\"systemjs_options\":null,\"mount_callbacks\":[\"function () {\\n    var handler = (function (ko, koPunches) {\\n    ko.punches.enableAll();\\n    ko.bindingHandlers.numericValue = {\\n        init: function(element, valueAccessor, allBindings, data, context) {\\n            var stringified = ko.observable(ko.unwrap(valueAccessor()));\\n            stringified.subscribe(function(value) {\\n                var val = parseFloat(value);\\n                if (!isNaN(val)) {\\n                    valueAccessor()(val);\\n                }\\n            });\\n            valueAccessor().subscribe(function(value) {\\n                var str = JSON.stringify(value);\\n                if ((str == \\\"0\\\") && ([\\\"-0\\\", \\\"-0.\\\"].indexOf(stringified()) >= 0))\\n                     return;\\n                 if ([\\\"null\\\", \\\"\\\"].indexOf(str) >= 0)\\n                     return;\\n                stringified(str);\\n            });\\n            ko.applyBindingsToNode(\\n                element,\\n                {\\n                    value: stringified,\\n                    valueUpdate: allBindings.get('valueUpdate'),\\n                },\\n                context,\\n            );\\n        }\\n    };\\n    var json_data = {\\\"formatted_vals\\\":[\\\"0.0\\\",\\\"0.01\\\",\\\"0.02\\\",\\\"0.03\\\",\\\"0.04\\\",\\\"0.05\\\",\\\"0.06\\\",\\\"0.07\\\",\\\"0.08\\\",\\\"0.09\\\",\\\"0.1\\\",\\\"0.11\\\",\\\"0.12\\\",\\\"0.13\\\",\\\"0.14\\\",\\\"0.15\\\",\\\"0.16\\\",\\\"0.17\\\",\\\"0.18\\\",\\\"0.19\\\",\\\"0.2\\\",\\\"0.21\\\",\\\"0.22\\\",\\\"0.23\\\",\\\"0.24\\\",\\\"0.25\\\",\\\"0.26\\\",\\\"0.27\\\",\\\"0.28\\\",\\\"0.29\\\",\\\"0.3\\\",\\\"0.31\\\",\\\"0.32\\\",\\\"0.33\\\",\\\"0.34\\\",\\\"0.35\\\",\\\"0.36\\\",\\\"0.37\\\",\\\"0.38\\\",\\\"0.39\\\",\\\"0.4\\\",\\\"0.41\\\",\\\"0.42\\\",\\\"0.43\\\",\\\"0.44\\\",\\\"0.45\\\",\\\"0.46\\\",\\\"0.47\\\",\\\"0.48\\\",\\\"0.49\\\",\\\"0.5\\\"],\\\"changes\\\":WebIO.getval({\\\"name\\\":\\\"changes\\\",\\\"scope\\\":\\\"11752266298916387184\\\",\\\"id\\\":\\\"17128388560694403516\\\",\\\"type\\\":\\\"observable\\\"}),\\\"index\\\":WebIO.getval({\\\"name\\\":\\\"index\\\",\\\"scope\\\":\\\"11752266298916387184\\\",\\\"id\\\":\\\"11457453773528672600\\\",\\\"type\\\":\\\"observable\\\"})};\\n    var self = this;\\n    function AppViewModel() {\\n        for (var key in json_data) {\\n            var el = json_data[key];\\n            this[key] = Array.isArray(el) ? ko.observableArray(el) : ko.observable(el);\\n        }\\n        \\n        [this[\\\"formatted_val\\\"]=ko.computed(    function(){\\n        return this.formatted_vals()[parseInt(this.index())-(1)];\\n    }\\n,this)]\\n        [this[\\\"changes\\\"].subscribe((function (val){!(this.valueFromJulia[\\\"changes\\\"]) ? (WebIO.setval({\\\"name\\\":\\\"changes\\\",\\\"scope\\\":\\\"11752266298916387184\\\",\\\"id\\\":\\\"17128388560694403516\\\",\\\"type\\\":\\\"observable\\\"},val)) : undefined; return this.valueFromJulia[\\\"changes\\\"]=false}),self),this[\\\"index\\\"].subscribe((function (val){!(this.valueFromJulia[\\\"index\\\"]) ? (WebIO.setval({\\\"name\\\":\\\"index\\\",\\\"scope\\\":\\\"11752266298916387184\\\",\\\"id\\\":\\\"11457453773528672600\\\",\\\"type\\\":\\\"observable\\\"},val)) : undefined; return this.valueFromJulia[\\\"index\\\"]=false}),self)]\\n        \\n    }\\n    self.model = new AppViewModel();\\n    self.valueFromJulia = {};\\n    for (var key in json_data) {\\n        self.valueFromJulia[key] = false;\\n    }\\n    ko.applyBindings(self.model, self.dom);\\n}\\n);\\n    (WebIO.importBlock({\\\"data\\\":[{\\\"name\\\":\\\"knockout\\\",\\\"type\\\":\\\"js\\\",\\\"url\\\":\\\"\\/assetserver\\/d749de49a15576291e39755d819be2408bf7f995-knockout.js\\\"},{\\\"name\\\":\\\"knockout_punches\\\",\\\"type\\\":\\\"js\\\",\\\"url\\\":\\\"\\/assetserver\\/9f5c86158cf79faf331cfb32636cb08a9b1f0dc2-knockout_punches.js\\\"}],\\\"type\\\":\\\"async_block\\\"})).then((imports) => handler.apply(this, imports));\\n}\\n\"],\"observables\":{\"changes\":{\"sync\":true,\"id\":\"17128388560694403516\",\"value\":0},\"index\":{\"sync\":true,\"id\":\"11457453773528672600\",\"value\":26}}},\"children\":[{\"props\":{\"className\":\"interact-flex-row interact-widget\",\"style\":{\"font-family\":\"monospace\",\"width\":\"80%\"}},\"nodeType\":\"DOM\",\"type\":\"node\",\"instanceArgs\":{\"namespace\":\"html\",\"tag\":\"div\"},\"children\":[{\"props\":{\"className\":\"interact-flex-row-left\"},\"nodeType\":\"DOM\",\"type\":\"node\",\"instanceArgs\":{\"namespace\":\"html\",\"tag\":\"div\"},\"children\":[{\"props\":{\"className\":\"interact \",\"style\":{\"padding\":\"5px 10px 0px 10px\",\"white-space\":\"nowrap\",\"color\":\"royalblue\"}},\"nodeType\":\"DOM\",\"type\":\"node\",\"instanceArgs\":{\"namespace\":\"html\",\"tag\":\"label\"},\"children\":[\"k\"]}]},{\"props\":{\"className\":\"interact-flex-row-center\"},\"nodeType\":\"DOM\",\"type\":\"node\",\"instanceArgs\":{\"namespace\":\"html\",\"tag\":\"div\"},\"children\":[{\"props\":{\"max\":51,\"min\":1,\"attributes\":{\"type\":\"range\",\"data-bind\":\"numericValue: index, valueUpdate: 'input', event: {change: function (){this.changes(this.changes()+1)}}\",\"orient\":\"horizontal\"},\"step\":1,\"className\":\"slider slider is-fullwidth\",\"style\":{}},\"nodeType\":\"DOM\",\"type\":\"node\",\"instanceArgs\":{\"namespace\":\"html\",\"tag\":\"input\"},\"children\":[]}]},{\"props\":{\"className\":\"interact-flex-row-right\"},\"nodeType\":\"DOM\",\"type\":\"node\",\"instanceArgs\":{\"namespace\":\"html\",\"tag\":\"div\"},\"children\":[{\"props\":{\"attributes\":{\"data-bind\":\"text: formatted_val\"}},\"nodeType\":\"DOM\",\"type\":\"node\",\"instanceArgs\":{\"namespace\":\"html\",\"tag\":\"p\"},\"children\":[]}]}]}]}]},{\"props\":{\"className\":\"field interact-widget\"},\"nodeType\":\"DOM\",\"type\":\"node\",\"instanceArgs\":{\"namespace\":\"html\",\"tag\":\"div\"},\"children\":[{\"props\":{},\"nodeType\":\"Scope\",\"type\":\"node\",\"instanceArgs\":{\"imports\":{\"data\":[{\"name\":\"knockout\",\"type\":\"js\",\"url\":\"\\/assetserver\\/d749de49a15576291e39755d819be2408bf7f995-knockout.js\"},{\"name\":\"knockout_punches\",\"type\":\"js\",\"url\":\"\\/assetserver\\/9f5c86158cf79faf331cfb32636cb08a9b1f0dc2-knockout_punches.js\"},{\"name\":null,\"type\":\"js\",\"url\":\"\\/assetserver\\/96a65e6078e018eef9bba5cd6ed02b2635164c53-all.js\"},{\"name\":null,\"type\":\"css\",\"url\":\"\\/assetserver\\/98c9b8e9cfeaa0be2a6f3aa79abc5da0680c3037-style.css\"},{\"name\":null,\"type\":\"css\",\"url\":\"\\/assetserver\\/c5a1211d10b2f10049d85486a98c5e9063cad849-bulma_confined.min.css\"}],\"type\":\"async_block\"},\"id\":\"17609223930158254825\",\"handlers\":{\"changes\":[\"(function (val){return (val!=this.model[\\\"changes\\\"]()) ? (this.valueFromJulia[\\\"changes\\\"]=true, this.model[\\\"changes\\\"](val)) : undefined})\"],\"index\":[\"(function (val){return (val!=this.model[\\\"index\\\"]()) ? (this.valueFromJulia[\\\"index\\\"]=true, this.model[\\\"index\\\"](val)) : undefined})\"]},\"systemjs_options\":null,\"mount_callbacks\":[\"function () {\\n    var handler = (function (ko, koPunches) {\\n    ko.punches.enableAll();\\n    ko.bindingHandlers.numericValue = {\\n        init: function(element, valueAccessor, allBindings, data, context) {\\n            var stringified = ko.observable(ko.unwrap(valueAccessor()));\\n            stringified.subscribe(function(value) {\\n                var val = parseFloat(value);\\n                if (!isNaN(val)) {\\n                    valueAccessor()(val);\\n                }\\n            });\\n            valueAccessor().subscribe(function(value) {\\n                var str = JSON.stringify(value);\\n                if ((str == \\\"0\\\") && ([\\\"-0\\\", \\\"-0.\\\"].indexOf(stringified()) >= 0))\\n                     return;\\n                 if ([\\\"null\\\", \\\"\\\"].indexOf(str) >= 0)\\n                     return;\\n                stringified(str);\\n            });\\n            ko.applyBindingsToNode(\\n                element,\\n                {\\n                    value: stringified,\\n                    valueUpdate: allBindings.get('valueUpdate'),\\n                },\\n                context,\\n            );\\n        }\\n    };\\n    var json_data = {\\\"formatted_vals\\\":[\\\"0.0\\\",\\\"0.1\\\",\\\"0.2\\\",\\\"0.3\\\",\\\"0.4\\\",\\\"0.5\\\",\\\"0.6\\\",\\\"0.7\\\",\\\"0.8\\\",\\\"0.9\\\",\\\"1.0\\\",\\\"1.1\\\",\\\"1.2\\\",\\\"1.3\\\",\\\"1.4\\\",\\\"1.5\\\",\\\"1.6\\\",\\\"1.7\\\",\\\"1.8\\\",\\\"1.9\\\",\\\"2.0\\\",\\\"2.1\\\",\\\"2.2\\\",\\\"2.3\\\",\\\"2.4\\\",\\\"2.5\\\",\\\"2.6\\\",\\\"2.7\\\",\\\"2.8\\\",\\\"2.9\\\",\\\"3.0\\\",\\\"3.1\\\",\\\"3.2\\\",\\\"3.3\\\",\\\"3.4\\\",\\\"3.5\\\",\\\"3.6\\\",\\\"3.7\\\",\\\"3.8\\\",\\\"3.9\\\",\\\"4.0\\\",\\\"4.1\\\",\\\"4.2\\\",\\\"4.3\\\",\\\"4.4\\\",\\\"4.5\\\",\\\"4.6\\\",\\\"4.7\\\",\\\"4.8\\\",\\\"4.9\\\",\\\"5.0\\\",\\\"5.1\\\",\\\"5.2\\\",\\\"5.3\\\",\\\"5.4\\\",\\\"5.5\\\",\\\"5.6\\\",\\\"5.7\\\",\\\"5.8\\\",\\\"5.9\\\",\\\"6.0\\\",\\\"6.1\\\",\\\"6.2\\\",\\\"6.3\\\",\\\"6.4\\\",\\\"6.5\\\",\\\"6.6\\\",\\\"6.7\\\",\\\"6.8\\\",\\\"6.9\\\",\\\"7.0\\\",\\\"7.1\\\",\\\"7.2\\\",\\\"7.3\\\",\\\"7.4\\\",\\\"7.5\\\",\\\"7.6\\\",\\\"7.7\\\",\\\"7.8\\\",\\\"7.9\\\",\\\"8.0\\\",\\\"8.1\\\",\\\"8.2\\\",\\\"8.3\\\",\\\"8.4\\\",\\\"8.5\\\",\\\"8.6\\\",\\\"8.7\\\",\\\"8.8\\\",\\\"8.9\\\",\\\"9.0\\\",\\\"9.1\\\",\\\"9.2\\\",\\\"9.3\\\",\\\"9.4\\\",\\\"9.5\\\",\\\"9.6\\\",\\\"9.7\\\",\\\"9.8\\\",\\\"9.9\\\",\\\"10.0\\\"],\\\"changes\\\":WebIO.getval({\\\"name\\\":\\\"changes\\\",\\\"scope\\\":\\\"17609223930158254825\\\",\\\"id\\\":\\\"17909073270199380853\\\",\\\"type\\\":\\\"observable\\\"}),\\\"index\\\":WebIO.getval({\\\"name\\\":\\\"index\\\",\\\"scope\\\":\\\"17609223930158254825\\\",\\\"id\\\":\\\"1158914545672000012\\\",\\\"type\\\":\\\"observable\\\"})};\\n    var self = this;\\n    function AppViewModel() {\\n        for (var key in json_data) {\\n            var el = json_data[key];\\n            this[key] = Array.isArray(el) ? ko.observableArray(el) : ko.observable(el);\\n        }\\n        \\n        [this[\\\"formatted_val\\\"]=ko.computed(    function(){\\n        return this.formatted_vals()[parseInt(this.index())-(1)];\\n    }\\n,this)]\\n        [this[\\\"changes\\\"].subscribe((function (val){!(this.valueFromJulia[\\\"changes\\\"]) ? (WebIO.setval({\\\"name\\\":\\\"changes\\\",\\\"scope\\\":\\\"17609223930158254825\\\",\\\"id\\\":\\\"17909073270199380853\\\",\\\"type\\\":\\\"observable\\\"},val)) : undefined; return this.valueFromJulia[\\\"changes\\\"]=false}),self),this[\\\"index\\\"].subscribe((function (val){!(this.valueFromJulia[\\\"index\\\"]) ? (WebIO.setval({\\\"name\\\":\\\"index\\\",\\\"scope\\\":\\\"17609223930158254825\\\",\\\"id\\\":\\\"1158914545672000012\\\",\\\"type\\\":\\\"observable\\\"},val)) : undefined; return this.valueFromJulia[\\\"index\\\"]=false}),self)]\\n        \\n    }\\n    self.model = new AppViewModel();\\n    self.valueFromJulia = {};\\n    for (var key in json_data) {\\n        self.valueFromJulia[key] = false;\\n    }\\n    ko.applyBindings(self.model, self.dom);\\n}\\n);\\n    (WebIO.importBlock({\\\"data\\\":[{\\\"name\\\":\\\"knockout\\\",\\\"type\\\":\\\"js\\\",\\\"url\\\":\\\"\\/assetserver\\/d749de49a15576291e39755d819be2408bf7f995-knockout.js\\\"},{\\\"name\\\":\\\"knockout_punches\\\",\\\"type\\\":\\\"js\\\",\\\"url\\\":\\\"\\/assetserver\\/9f5c86158cf79faf331cfb32636cb08a9b1f0dc2-knockout_punches.js\\\"}],\\\"type\\\":\\\"async_block\\\"})).then((imports) => handler.apply(this, imports));\\n}\\n\"],\"observables\":{\"changes\":{\"sync\":true,\"id\":\"17909073270199380853\",\"value\":0},\"index\":{\"sync\":true,\"id\":\"1158914545672000012\",\"value\":51}}},\"children\":[{\"props\":{\"className\":\"interact-flex-row interact-widget\",\"style\":{\"font-family\":\"monospace\",\"width\":\"80%\"}},\"nodeType\":\"DOM\",\"type\":\"node\",\"instanceArgs\":{\"namespace\":\"html\",\"tag\":\"div\"},\"children\":[{\"props\":{\"className\":\"interact-flex-row-left\"},\"nodeType\":\"DOM\",\"type\":\"node\",\"instanceArgs\":{\"namespace\":\"html\",\"tag\":\"div\"},\"children\":[{\"props\":{\"className\":\"interact \",\"style\":{\"padding\":\"5px 10px 0px 10px\",\"white-space\":\"nowrap\",\"color\":\"royalblue\"}},\"nodeType\":\"DOM\",\"type\":\"node\",\"instanceArgs\":{\"namespace\":\"html\",\"tag\":\"label\"},\"children\":[\"W0\"]}]},{\"props\":{\"className\":\"interact-flex-row-center\"},\"nodeType\":\"DOM\",\"type\":\"node\",\"instanceArgs\":{\"namespace\":\"html\",\"tag\":\"div\"},\"children\":[{\"props\":{\"max\":101,\"min\":1,\"attributes\":{\"type\":\"range\",\"data-bind\":\"numericValue: index, valueUpdate: 'input', event: {change: function (){this.changes(this.changes()+1)}}\",\"orient\":\"horizontal\"},\"step\":1,\"className\":\"slider slider is-fullwidth\",\"style\":{}},\"nodeType\":\"DOM\",\"type\":\"node\",\"instanceArgs\":{\"namespace\":\"html\",\"tag\":\"input\"},\"children\":[]}]},{\"props\":{\"className\":\"interact-flex-row-right\"},\"nodeType\":\"DOM\",\"type\":\"node\",\"instanceArgs\":{\"namespace\":\"html\",\"tag\":\"div\"},\"children\":[{\"props\":{\"attributes\":{\"data-bind\":\"text: formatted_val\"}},\"nodeType\":\"DOM\",\"type\":\"node\",\"instanceArgs\":{\"namespace\":\"html\",\"tag\":\"p\"},\"children\":[]}]}]}]}]},{\"props\":{\"className\":\"field interact-widget\"},\"nodeType\":\"DOM\",\"type\":\"node\",\"instanceArgs\":{\"namespace\":\"html\",\"tag\":\"div\"},\"children\":[{\"props\":{},\"nodeType\":\"Scope\",\"type\":\"node\",\"instanceArgs\":{\"imports\":{\"data\":[{\"name\":\"knockout\",\"type\":\"js\",\"url\":\"\\/assetserver\\/d749de49a15576291e39755d819be2408bf7f995-knockout.js\"},{\"name\":\"knockout_punches\",\"type\":\"js\",\"url\":\"\\/assetserver\\/9f5c86158cf79faf331cfb32636cb08a9b1f0dc2-knockout_punches.js\"},{\"name\":null,\"type\":\"js\",\"url\":\"\\/assetserver\\/96a65e6078e018eef9bba5cd6ed02b2635164c53-all.js\"},{\"name\":null,\"type\":\"css\",\"url\":\"\\/assetserver\\/98c9b8e9cfeaa0be2a6f3aa79abc5da0680c3037-style.css\"},{\"name\":null,\"type\":\"css\",\"url\":\"\\/assetserver\\/c5a1211d10b2f10049d85486a98c5e9063cad849-bulma_confined.min.css\"}],\"type\":\"async_block\"},\"id\":\"5865641639130917560\",\"handlers\":{\"changes\":[\"(function (val){return (val!=this.model[\\\"changes\\\"]()) ? (this.valueFromJulia[\\\"changes\\\"]=true, this.model[\\\"changes\\\"](val)) : undefined})\"],\"index\":[\"(function (val){return (val!=this.model[\\\"index\\\"]()) ? (this.valueFromJulia[\\\"index\\\"]=true, this.model[\\\"index\\\"](val)) : undefined})\"]},\"systemjs_options\":null,\"mount_callbacks\":[\"function () {\\n    var handler = (function (ko, koPunches) {\\n    ko.punches.enableAll();\\n    ko.bindingHandlers.numericValue = {\\n        init: function(element, valueAccessor, allBindings, data, context) {\\n            var stringified = ko.observable(ko.unwrap(valueAccessor()));\\n            stringified.subscribe(function(value) {\\n                var val = parseFloat(value);\\n                if (!isNaN(val)) {\\n                    valueAccessor()(val);\\n                }\\n            });\\n            valueAccessor().subscribe(function(value) {\\n                var str = JSON.stringify(value);\\n                if ((str == \\\"0\\\") && ([\\\"-0\\\", \\\"-0.\\\"].indexOf(stringified()) >= 0))\\n                     return;\\n                 if ([\\\"null\\\", \\\"\\\"].indexOf(str) >= 0)\\n                     return;\\n                stringified(str);\\n            });\\n            ko.applyBindingsToNode(\\n                element,\\n                {\\n                    value: stringified,\\n                    valueUpdate: allBindings.get('valueUpdate'),\\n                },\\n                context,\\n            );\\n        }\\n    };\\n    var json_data = {\\\"formatted_vals\\\":[\\\"10\\\",\\\"20\\\",\\\"30\\\",\\\"40\\\",\\\"50\\\",\\\"60\\\",\\\"70\\\",\\\"80\\\",\\\"90\\\",\\\"100\\\",\\\"110\\\",\\\"120\\\",\\\"130\\\",\\\"140\\\",\\\"150\\\",\\\"160\\\",\\\"170\\\",\\\"180\\\",\\\"190\\\",\\\"200\\\"],\\\"changes\\\":WebIO.getval({\\\"name\\\":\\\"changes\\\",\\\"scope\\\":\\\"5865641639130917560\\\",\\\"id\\\":\\\"4629023784124520850\\\",\\\"type\\\":\\\"observable\\\"}),\\\"index\\\":WebIO.getval({\\\"name\\\":\\\"index\\\",\\\"scope\\\":\\\"5865641639130917560\\\",\\\"id\\\":\\\"13669731239752496204\\\",\\\"type\\\":\\\"observable\\\"})};\\n    var self = this;\\n    function AppViewModel() {\\n        for (var key in json_data) {\\n            var el = json_data[key];\\n            this[key] = Array.isArray(el) ? ko.observableArray(el) : ko.observable(el);\\n        }\\n        \\n        [this[\\\"formatted_val\\\"]=ko.computed(    function(){\\n        return this.formatted_vals()[parseInt(this.index())-(1)];\\n    }\\n,this)]\\n        [this[\\\"changes\\\"].subscribe((function (val){!(this.valueFromJulia[\\\"changes\\\"]) ? (WebIO.setval({\\\"name\\\":\\\"changes\\\",\\\"scope\\\":\\\"5865641639130917560\\\",\\\"id\\\":\\\"4629023784124520850\\\",\\\"type\\\":\\\"observable\\\"},val)) : undefined; return this.valueFromJulia[\\\"changes\\\"]=false}),self),this[\\\"index\\\"].subscribe((function (val){!(this.valueFromJulia[\\\"index\\\"]) ? (WebIO.setval({\\\"name\\\":\\\"index\\\",\\\"scope\\\":\\\"5865641639130917560\\\",\\\"id\\\":\\\"13669731239752496204\\\",\\\"type\\\":\\\"observable\\\"},val)) : undefined; return this.valueFromJulia[\\\"index\\\"]=false}),self)]\\n        \\n    }\\n    self.model = new AppViewModel();\\n    self.valueFromJulia = {};\\n    for (var key in json_data) {\\n        self.valueFromJulia[key] = false;\\n    }\\n    ko.applyBindings(self.model, self.dom);\\n}\\n);\\n    (WebIO.importBlock({\\\"data\\\":[{\\\"name\\\":\\\"knockout\\\",\\\"type\\\":\\\"js\\\",\\\"url\\\":\\\"\\/assetserver\\/d749de49a15576291e39755d819be2408bf7f995-knockout.js\\\"},{\\\"name\\\":\\\"knockout_punches\\\",\\\"type\\\":\\\"js\\\",\\\"url\\\":\\\"\\/assetserver\\/9f5c86158cf79faf331cfb32636cb08a9b1f0dc2-knockout_punches.js\\\"}],\\\"type\\\":\\\"async_block\\\"})).then((imports) => handler.apply(this, imports));\\n}\\n\"],\"observables\":{\"changes\":{\"sync\":true,\"id\":\"4629023784124520850\",\"value\":0},\"index\":{\"sync\":true,\"id\":\"13669731239752496204\",\"value\":10}}},\"children\":[{\"props\":{\"className\":\"interact-flex-row interact-widget\",\"style\":{\"font-family\":\"monospace\",\"width\":\"80%\"}},\"nodeType\":\"DOM\",\"type\":\"node\",\"instanceArgs\":{\"namespace\":\"html\",\"tag\":\"div\"},\"children\":[{\"props\":{\"className\":\"interact-flex-row-left\"},\"nodeType\":\"DOM\",\"type\":\"node\",\"instanceArgs\":{\"namespace\":\"html\",\"tag\":\"div\"},\"children\":[{\"props\":{\"className\":\"interact \",\"style\":{\"padding\":\"5px 10px 0px 10px\",\"white-space\":\"nowrap\",\"color\":\"royalblue\"}},\"nodeType\":\"DOM\",\"type\":\"node\",\"instanceArgs\":{\"namespace\":\"html\",\"tag\":\"label\"},\"children\":[\"Wf\"]}]},{\"props\":{\"className\":\"interact-flex-row-center\"},\"nodeType\":\"DOM\",\"type\":\"node\",\"instanceArgs\":{\"namespace\":\"html\",\"tag\":\"div\"},\"children\":[{\"props\":{\"max\":20,\"min\":1,\"attributes\":{\"type\":\"range\",\"data-bind\":\"numericValue: index, valueUpdate: 'input', event: {change: function (){this.changes(this.changes()+1)}}\",\"orient\":\"horizontal\"},\"step\":1,\"className\":\"slider slider is-fullwidth\",\"style\":{}},\"nodeType\":\"DOM\",\"type\":\"node\",\"instanceArgs\":{\"namespace\":\"html\",\"tag\":\"input\"},\"children\":[]}]},{\"props\":{\"className\":\"interact-flex-row-right\"},\"nodeType\":\"DOM\",\"type\":\"node\",\"instanceArgs\":{\"namespace\":\"html\",\"tag\":\"div\"},\"children\":[{\"props\":{\"attributes\":{\"data-bind\":\"text: formatted_val\"}},\"nodeType\":\"DOM\",\"type\":\"node\",\"instanceArgs\":{\"namespace\":\"html\",\"tag\":\"p\"},\"children\":[]}]}]}]}]},{\"props\":{},\"nodeType\":\"Scope\",\"type\":\"node\",\"instanceArgs\":{\"imports\":{\"data\":[],\"type\":\"async_block\"},\"id\":\"3728149114171331820\",\"handlers\":{\"obs-output\":[\"function (value, scope) {\\n    scope.setInnerHTML(value);\\n}\\n\"]},\"systemjs_options\":null,\"mount_callbacks\":[],\"observables\":{\"obs-output\":{\"sync\":false,\"id\":\"16516219298858542776\",\"value\":\"<?xml version=\\\"1.0\\\" encoding=\\\"UTF-8\\\"?>\\n<svg xmlns=\\\"http:\\/\\/www.w3.org\\/2000\\/svg\\\"\\n     xmlns:xlink=\\\"http:\\/\\/www.w3.org\\/1999\\/xlink\\\"\\n     xmlns:gadfly=\\\"http:\\/\\/www.gadflyjl.org\\/ns\\\"\\n     version=\\\"1.2\\\"\\n     width=\\\"141.42mm\\\" height=\\\"100mm\\\" viewBox=\\\"0 0 141.42 100\\\"\\n     stroke=\\\"none\\\"\\n     fill=\\\"#000000\\\"\\n     stroke-width=\\\"0.3\\\"\\n     font-size=\\\"3.88\\\"\\n>\\n<defs>\\n  <marker id=\\\"arrow\\\" markerWidth=\\\"15\\\" markerHeight=\\\"7\\\" refX=\\\"5\\\" refY=\\\"3.5\\\" orient=\\\"auto\\\" markerUnits=\\\"strokeWidth\\\">\\n    <path d=\\\"M0,0 L15,3.5 L0,7 z\\\" stroke=\\\"context-stroke\\\" fill=\\\"context-stroke\\\"\\/>\\n  <\\/marker>\\n<\\/defs>\\n<g stroke=\\\"#000000\\\" stroke-opacity=\\\"0.000\\\" fill=\\\"#FFFFFF\\\" id=\\\"img-05091de3-1\\\">\\n  <g transform=\\\"translate(70.71,50)\\\">\\n    <path d=\\\"M-70.71,-50 L70.71,-50 70.71,50 -70.71,50  z\\\" class=\\\"primitive\\\"\\/>\\n  <\\/g>\\n<\\/g>\\n<g class=\\\"plotroot xscalable yscalable\\\" id=\\\"img-05091de3-2\\\">\\n  <g font-size=\\\"3.53\\\" font-family=\\\"'PT Sans','Helvetica Neue','Helvetica',sans-serif\\\" fill=\\\"#564A55\\\" stroke=\\\"#000000\\\" stroke-opacity=\\\"0.000\\\" id=\\\"img-05091de3-3\\\">\\n    <g transform=\\\"translate(77.68,93.72)\\\">\\n      <g class=\\\"primitive\\\">\\n        <text text-anchor=\\\"middle\\\" dy=\\\"0.6em\\\">t<\\/text>\\n      <\\/g>\\n    <\\/g>\\n  <\\/g>\\n  <g class=\\\"guide xlabels\\\" font-size=\\\"2.82\\\" font-family=\\\"'PT Sans Caption','Helvetica Neue','Helvetica',sans-serif\\\" fill=\\\"#6C606B\\\" id=\\\"img-05091de3-4\\\">\\n    <g transform=\\\"translate(20.94,87.04)\\\">\\n      <g class=\\\"primitive\\\">\\n        <text text-anchor=\\\"middle\\\" dy=\\\"0.6em\\\">0<\\/text>\\n      <\\/g>\\n    <\\/g>\\n    <g transform=\\\"translate(77.68,87.04)\\\">\\n      <g class=\\\"primitive\\\">\\n        <text text-anchor=\\\"middle\\\" dy=\\\"0.6em\\\">50<\\/text>\\n      <\\/g>\\n    <\\/g>\\n    <g transform=\\\"translate(134.42,87.04)\\\">\\n      <g class=\\\"primitive\\\">\\n        <text text-anchor=\\\"middle\\\" dy=\\\"0.6em\\\">100<\\/text>\\n      <\\/g>\\n    <\\/g>\\n  <\\/g>\\n  <g clip-path=\\\"url(#img-05091de3-5)\\\">\\n    <g id=\\\"img-05091de3-6\\\">\\n      <g pointer-events=\\\"visible\\\" stroke-width=\\\"0.3\\\" fill=\\\"#000000\\\" fill-opacity=\\\"0.000\\\" stroke=\\\"#000000\\\" stroke-opacity=\\\"0.000\\\" class=\\\"guide background\\\" id=\\\"img-05091de3-7\\\">\\n        <g transform=\\\"translate(77.68,45.52)\\\" id=\\\"img-05091de3-8\\\">\\n          <path d=\\\"M-58.74,-40.52 L58.74,-40.52 58.74,40.52 -58.74,40.52  z\\\" class=\\\"primitive\\\"\\/>\\n        <\\/g>\\n      <\\/g>\\n      <g class=\\\"guide ygridlines xfixed\\\" stroke-dasharray=\\\"0.5,0.5\\\" stroke-width=\\\"0.2\\\" stroke=\\\"#D0D0E0\\\" id=\\\"img-05091de3-9\\\">\\n        <g transform=\\\"translate(77.68,84.04)\\\" id=\\\"img-05091de3-10\\\">\\n          <path fill=\\\"none\\\" d=\\\"M-58.74,0 L58.74,0 \\\" class=\\\"primitive\\\"\\/>\\n        <\\/g>\\n        <g transform=\\\"translate(77.68,64.78)\\\" id=\\\"img-05091de3-11\\\">\\n          <path fill=\\\"none\\\" d=\\\"M-58.74,0 L58.74,0 \\\" class=\\\"primitive\\\"\\/>\\n        <\\/g>\\n        <g transform=\\\"translate(77.68,45.52)\\\" id=\\\"img-05091de3-12\\\">\\n          <path fill=\\\"none\\\" d=\\\"M-58.74,0 L58.74,0 \\\" class=\\\"primitive\\\"\\/>\\n        <\\/g>\\n        <g transform=\\\"translate(77.68,26.26)\\\" id=\\\"img-05091de3-13\\\">\\n          <path fill=\\\"none\\\" d=\\\"M-58.74,0 L58.74,0 \\\" class=\\\"primitive\\\"\\/>\\n        <\\/g>\\n        <g transform=\\\"translate(77.68,7)\\\" id=\\\"img-05091de3-14\\\">\\n          <path fill=\\\"none\\\" d=\\\"M-58.74,0 L58.74,0 \\\" class=\\\"primitive\\\"\\/>\\n        <\\/g>\\n      <\\/g>\\n      <g class=\\\"guide xgridlines yfixed\\\" stroke-dasharray=\\\"0.5,0.5\\\" stroke-width=\\\"0.2\\\" stroke=\\\"#D0D0E0\\\" id=\\\"img-05091de3-15\\\">\\n        <g transform=\\\"translate(20.94,45.52)\\\" id=\\\"img-05091de3-16\\\">\\n          <path fill=\\\"none\\\" d=\\\"M0,-40.52 L0,40.52 \\\" class=\\\"primitive\\\"\\/>\\n        <\\/g>\\n        <g transform=\\\"translate(77.68,45.52)\\\" id=\\\"img-05091de3-17\\\">\\n          <path fill=\\\"none\\\" d=\\\"M0,-40.52 L0,40.52 \\\" class=\\\"primitive\\\"\\/>\\n        <\\/g>\\n        <g transform=\\\"translate(134.42,45.52)\\\" id=\\\"img-05091de3-18\\\">\\n          <path fill=\\\"none\\\" d=\\\"M0,-40.52 L0,40.52 \\\" class=\\\"primitive\\\"\\/>\\n        <\\/g>\\n      <\\/g>\\n      <g class=\\\"plotpanel\\\" id=\\\"img-05091de3-19\\\">\\n        <metadata>\\n          <boundingbox value=\\\"18.936666666666667mm 5.0mm 117.48468957064284mm 81.04333333333335mm\\\"\\/>\\n          <unitbox value=\\\"-1.762352267576169 205.19188335568728 103.52470453515235 -210.38376671137456\\\"\\/>\\n        <\\/metadata>\\n        <g stroke-width=\\\"0.3\\\" fill=\\\"#000000\\\" fill-opacity=\\\"0.000\\\" class=\\\"geometry\\\" id=\\\"img-05091de3-20\\\">\\n          <g class=\\\"color_LCHab{Float32}(70.0f0,60.0f0,240.0f0)\\\" stroke-dasharray=\\\"none\\\" stroke-opacity=\\\"1\\\" stroke=\\\"#00BFFF\\\" id=\\\"img-05091de3-21\\\">\\n            <g transform=\\\"translate(77.68,46.97)\\\" id=\\\"img-05091de3-22\\\">\\n              <path fill=\\\"none\\\" d=\\\"M-56.74,35.15 L-55.61,26 -54.47,19.14 -53.34,13.99 -52.2,10.13 -51.07,7.23 -49.93,5.06 -48.8,3.44 -47.66,2.21 -46.53,1.3 -45.39,0.61 -44.26,0.1 -43.12,-0.29 -41.99,-0.58 -40.85,-0.8 -39.72,-0.96 -38.58,-1.08 -37.45,-1.17 -36.32,-1.24 -35.18,-1.29 -34.05,-1.33 -32.91,-1.36 -31.78,-1.38 -30.64,-1.4 -29.51,-1.41 -28.37,-1.42 -27.24,-1.43 -26.1,-1.43 -24.97,-1.44 -23.83,-1.44 -22.7,-1.44 -21.56,-1.44 -20.43,-1.45 -19.29,-1.45 -18.16,-1.45 -17.02,-1.45 -15.89,-1.45 -14.75,-1.45 -13.62,-1.45 -12.48,-1.45 -11.35,-1.45 -10.21,-1.45 -9.08,-1.45 -7.94,-1.45 -6.81,-1.45 -5.67,-1.45 -4.54,-1.45 -3.4,-1.45 -2.27,-1.45 -1.13,-1.45 0,-1.45 1.13,-1.45 2.27,-1.45 3.4,-1.45 4.54,-1.45 5.67,-1.45 6.81,-1.45 7.94,-1.45 9.08,-1.45 10.21,-1.45 11.35,-1.45 12.48,-1.45 13.62,-1.45 14.75,-1.45 15.89,-1.45 17.02,-1.45 18.16,-1.45 19.29,-1.45 20.43,-1.45 21.56,-1.45 22.7,-1.45 23.83,-1.45 24.97,-1.45 26.1,-1.45 27.24,-1.45 28.37,-1.45 29.51,-1.45 30.64,-1.45 31.78,-1.45 32.91,-1.45 34.05,-1.45 35.18,-1.45 36.32,-1.45 37.45,-1.45 38.58,-1.45 39.72,-1.45 40.85,-1.45 41.99,-1.45 43.12,-1.45 44.26,-1.45 45.39,-1.45 46.53,-1.45 47.66,-1.45 48.8,-1.45 49.93,-1.45 51.07,-1.45 52.2,-1.45 53.34,-1.45 54.47,-1.45 55.61,-1.45 56.74,-1.45 \\\" class=\\\"primitive\\\"\\/>\\n            <\\/g>\\n          <\\/g>\\n        <\\/g>\\n      <\\/g>\\n    <\\/g>\\n  <\\/g>\\n  <g class=\\\"guide ylabels\\\" font-size=\\\"2.82\\\" font-family=\\\"'PT Sans Caption','Helvetica Neue','Helvetica',sans-serif\\\" fill=\\\"#6C606B\\\" id=\\\"img-05091de3-23\\\">\\n    <g transform=\\\"translate(17.94,84.04)\\\" id=\\\"img-05091de3-24\\\">\\n      <g class=\\\"primitive\\\">\\n        <text text-anchor=\\\"end\\\" dy=\\\"0.35em\\\">0<\\/text>\\n      <\\/g>\\n    <\\/g>\\n    <g transform=\\\"translate(17.94,64.78)\\\" id=\\\"img-05091de3-25\\\">\\n      <g class=\\\"primitive\\\">\\n        <text text-anchor=\\\"end\\\" dy=\\\"0.35em\\\">50<\\/text>\\n      <\\/g>\\n    <\\/g>\\n    <g transform=\\\"translate(17.94,45.52)\\\" id=\\\"img-05091de3-26\\\">\\n      <g class=\\\"primitive\\\">\\n        <text text-anchor=\\\"end\\\" dy=\\\"0.35em\\\">100<\\/text>\\n      <\\/g>\\n    <\\/g>\\n    <g transform=\\\"translate(17.94,26.26)\\\" id=\\\"img-05091de3-27\\\">\\n      <g class=\\\"primitive\\\">\\n        <text text-anchor=\\\"end\\\" dy=\\\"0.35em\\\">150<\\/text>\\n      <\\/g>\\n    <\\/g>\\n    <g transform=\\\"translate(17.94,7)\\\" id=\\\"img-05091de3-28\\\">\\n      <g class=\\\"primitive\\\">\\n        <text text-anchor=\\\"end\\\" dy=\\\"0.35em\\\">200<\\/text>\\n      <\\/g>\\n    <\\/g>\\n  <\\/g>\\n  <g font-size=\\\"3.53\\\" font-family=\\\"'PT Sans','Helvetica Neue','Helvetica',sans-serif\\\" fill=\\\"#564A55\\\" stroke=\\\"#000000\\\" stroke-opacity=\\\"0.000\\\" id=\\\"img-05091de3-29\\\">\\n    <g transform=\\\"translate(9.92,45.52)\\\" id=\\\"img-05091de3-30\\\">\\n      <g class=\\\"primitive\\\">\\n        <text text-anchor=\\\"end\\\" dy=\\\"0.35em\\\">W<\\/text>\\n      <\\/g>\\n    <\\/g>\\n  <\\/g>\\n<\\/g>\\n<defs>\\n  <clipPath id=\\\"img-05091de3-5\\\">\\n    <path d=\\\"M18.94,5 L136.42,5 136.42,86.04 18.94,86.04 \\\" \\/>\\n  <\\/clipPath>\\n<\\/defs>\\n<\\/svg>\\n\"}}},\"children\":[{\"props\":{\"className\":\"webio-observable\",\"setInnerHtml\":\"<?xml version=\\\"1.0\\\" encoding=\\\"UTF-8\\\"?>\\n<svg xmlns=\\\"http:\\/\\/www.w3.org\\/2000\\/svg\\\"\\n     xmlns:xlink=\\\"http:\\/\\/www.w3.org\\/1999\\/xlink\\\"\\n     xmlns:gadfly=\\\"http:\\/\\/www.gadflyjl.org\\/ns\\\"\\n     version=\\\"1.2\\\"\\n     width=\\\"141.42mm\\\" height=\\\"100mm\\\" viewBox=\\\"0 0 141.42 100\\\"\\n     stroke=\\\"none\\\"\\n     fill=\\\"#000000\\\"\\n     stroke-width=\\\"0.3\\\"\\n     font-size=\\\"3.88\\\"\\n>\\n<defs>\\n  <marker id=\\\"arrow\\\" markerWidth=\\\"15\\\" markerHeight=\\\"7\\\" refX=\\\"5\\\" refY=\\\"3.5\\\" orient=\\\"auto\\\" markerUnits=\\\"strokeWidth\\\">\\n    <path d=\\\"M0,0 L15,3.5 L0,7 z\\\" stroke=\\\"context-stroke\\\" fill=\\\"context-stroke\\\"\\/>\\n  <\\/marker>\\n<\\/defs>\\n<g stroke=\\\"#000000\\\" stroke-opacity=\\\"0.000\\\" fill=\\\"#FFFFFF\\\" id=\\\"img-05091de3-1\\\">\\n  <g transform=\\\"translate(70.71,50)\\\">\\n    <path d=\\\"M-70.71,-50 L70.71,-50 70.71,50 -70.71,50  z\\\" class=\\\"primitive\\\"\\/>\\n  <\\/g>\\n<\\/g>\\n<g class=\\\"plotroot xscalable yscalable\\\" id=\\\"img-05091de3-2\\\">\\n  <g font-size=\\\"3.53\\\" font-family=\\\"'PT Sans','Helvetica Neue','Helvetica',sans-serif\\\" fill=\\\"#564A55\\\" stroke=\\\"#000000\\\" stroke-opacity=\\\"0.000\\\" id=\\\"img-05091de3-3\\\">\\n    <g transform=\\\"translate(77.68,93.72)\\\">\\n      <g class=\\\"primitive\\\">\\n        <text text-anchor=\\\"middle\\\" dy=\\\"0.6em\\\">t<\\/text>\\n      <\\/g>\\n    <\\/g>\\n  <\\/g>\\n  <g class=\\\"guide xlabels\\\" font-size=\\\"2.82\\\" font-family=\\\"'PT Sans Caption','Helvetica Neue','Helvetica',sans-serif\\\" fill=\\\"#6C606B\\\" id=\\\"img-05091de3-4\\\">\\n    <g transform=\\\"translate(20.94,87.04)\\\">\\n      <g class=\\\"primitive\\\">\\n        <text text-anchor=\\\"middle\\\" dy=\\\"0.6em\\\">0<\\/text>\\n      <\\/g>\\n    <\\/g>\\n    <g transform=\\\"translate(77.68,87.04)\\\">\\n      <g class=\\\"primitive\\\">\\n        <text text-anchor=\\\"middle\\\" dy=\\\"0.6em\\\">50<\\/text>\\n      <\\/g>\\n    <\\/g>\\n    <g transform=\\\"translate(134.42,87.04)\\\">\\n      <g class=\\\"primitive\\\">\\n        <text text-anchor=\\\"middle\\\" dy=\\\"0.6em\\\">100<\\/text>\\n      <\\/g>\\n    <\\/g>\\n  <\\/g>\\n  <g clip-path=\\\"url(#img-05091de3-5)\\\">\\n    <g id=\\\"img-05091de3-6\\\">\\n      <g pointer-events=\\\"visible\\\" stroke-width=\\\"0.3\\\" fill=\\\"#000000\\\" fill-opacity=\\\"0.000\\\" stroke=\\\"#000000\\\" stroke-opacity=\\\"0.000\\\" class=\\\"guide background\\\" id=\\\"img-05091de3-7\\\">\\n        <g transform=\\\"translate(77.68,45.52)\\\" id=\\\"img-05091de3-8\\\">\\n          <path d=\\\"M-58.74,-40.52 L58.74,-40.52 58.74,40.52 -58.74,40.52  z\\\" class=\\\"primitive\\\"\\/>\\n        <\\/g>\\n      <\\/g>\\n      <g class=\\\"guide ygridlines xfixed\\\" stroke-dasharray=\\\"0.5,0.5\\\" stroke-width=\\\"0.2\\\" stroke=\\\"#D0D0E0\\\" id=\\\"img-05091de3-9\\\">\\n        <g transform=\\\"translate(77.68,84.04)\\\" id=\\\"img-05091de3-10\\\">\\n          <path fill=\\\"none\\\" d=\\\"M-58.74,0 L58.74,0 \\\" class=\\\"primitive\\\"\\/>\\n        <\\/g>\\n        <g transform=\\\"translate(77.68,64.78)\\\" id=\\\"img-05091de3-11\\\">\\n          <path fill=\\\"none\\\" d=\\\"M-58.74,0 L58.74,0 \\\" class=\\\"primitive\\\"\\/>\\n        <\\/g>\\n        <g transform=\\\"translate(77.68,45.52)\\\" id=\\\"img-05091de3-12\\\">\\n          <path fill=\\\"none\\\" d=\\\"M-58.74,0 L58.74,0 \\\" class=\\\"primitive\\\"\\/>\\n        <\\/g>\\n        <g transform=\\\"translate(77.68,26.26)\\\" id=\\\"img-05091de3-13\\\">\\n          <path fill=\\\"none\\\" d=\\\"M-58.74,0 L58.74,0 \\\" class=\\\"primitive\\\"\\/>\\n        <\\/g>\\n        <g transform=\\\"translate(77.68,7)\\\" id=\\\"img-05091de3-14\\\">\\n          <path fill=\\\"none\\\" d=\\\"M-58.74,0 L58.74,0 \\\" class=\\\"primitive\\\"\\/>\\n        <\\/g>\\n      <\\/g>\\n      <g class=\\\"guide xgridlines yfixed\\\" stroke-dasharray=\\\"0.5,0.5\\\" stroke-width=\\\"0.2\\\" stroke=\\\"#D0D0E0\\\" id=\\\"img-05091de3-15\\\">\\n        <g transform=\\\"translate(20.94,45.52)\\\" id=\\\"img-05091de3-16\\\">\\n          <path fill=\\\"none\\\" d=\\\"M0,-40.52 L0,40.52 \\\" class=\\\"primitive\\\"\\/>\\n        <\\/g>\\n        <g transform=\\\"translate(77.68,45.52)\\\" id=\\\"img-05091de3-17\\\">\\n          <path fill=\\\"none\\\" d=\\\"M0,-40.52 L0,40.52 \\\" class=\\\"primitive\\\"\\/>\\n        <\\/g>\\n        <g transform=\\\"translate(134.42,45.52)\\\" id=\\\"img-05091de3-18\\\">\\n          <path fill=\\\"none\\\" d=\\\"M0,-40.52 L0,40.52 \\\" class=\\\"primitive\\\"\\/>\\n        <\\/g>\\n      <\\/g>\\n      <g class=\\\"plotpanel\\\" id=\\\"img-05091de3-19\\\">\\n        <metadata>\\n          <boundingbox value=\\\"18.936666666666667mm 5.0mm 117.48468957064284mm 81.04333333333335mm\\\"\\/>\\n          <unitbox value=\\\"-1.762352267576169 205.19188335568728 103.52470453515235 -210.38376671137456\\\"\\/>\\n        <\\/metadata>\\n        <g stroke-width=\\\"0.3\\\" fill=\\\"#000000\\\" fill-opacity=\\\"0.000\\\" class=\\\"geometry\\\" id=\\\"img-05091de3-20\\\">\\n          <g class=\\\"color_LCHab{Float32}(70.0f0,60.0f0,240.0f0)\\\" stroke-dasharray=\\\"none\\\" stroke-opacity=\\\"1\\\" stroke=\\\"#00BFFF\\\" id=\\\"img-05091de3-21\\\">\\n            <g transform=\\\"translate(77.68,46.97)\\\" id=\\\"img-05091de3-22\\\">\\n              <path fill=\\\"none\\\" d=\\\"M-56.74,35.15 L-55.61,26 -54.47,19.14 -53.34,13.99 -52.2,10.13 -51.07,7.23 -49.93,5.06 -48.8,3.44 -47.66,2.21 -46.53,1.3 -45.39,0.61 -44.26,0.1 -43.12,-0.29 -41.99,-0.58 -40.85,-0.8 -39.72,-0.96 -38.58,-1.08 -37.45,-1.17 -36.32,-1.24 -35.18,-1.29 -34.05,-1.33 -32.91,-1.36 -31.78,-1.38 -30.64,-1.4 -29.51,-1.41 -28.37,-1.42 -27.24,-1.43 -26.1,-1.43 -24.97,-1.44 -23.83,-1.44 -22.7,-1.44 -21.56,-1.44 -20.43,-1.45 -19.29,-1.45 -18.16,-1.45 -17.02,-1.45 -15.89,-1.45 -14.75,-1.45 -13.62,-1.45 -12.48,-1.45 -11.35,-1.45 -10.21,-1.45 -9.08,-1.45 -7.94,-1.45 -6.81,-1.45 -5.67,-1.45 -4.54,-1.45 -3.4,-1.45 -2.27,-1.45 -1.13,-1.45 0,-1.45 1.13,-1.45 2.27,-1.45 3.4,-1.45 4.54,-1.45 5.67,-1.45 6.81,-1.45 7.94,-1.45 9.08,-1.45 10.21,-1.45 11.35,-1.45 12.48,-1.45 13.62,-1.45 14.75,-1.45 15.89,-1.45 17.02,-1.45 18.16,-1.45 19.29,-1.45 20.43,-1.45 21.56,-1.45 22.7,-1.45 23.83,-1.45 24.97,-1.45 26.1,-1.45 27.24,-1.45 28.37,-1.45 29.51,-1.45 30.64,-1.45 31.78,-1.45 32.91,-1.45 34.05,-1.45 35.18,-1.45 36.32,-1.45 37.45,-1.45 38.58,-1.45 39.72,-1.45 40.85,-1.45 41.99,-1.45 43.12,-1.45 44.26,-1.45 45.39,-1.45 46.53,-1.45 47.66,-1.45 48.8,-1.45 49.93,-1.45 51.07,-1.45 52.2,-1.45 53.34,-1.45 54.47,-1.45 55.61,-1.45 56.74,-1.45 \\\" class=\\\"primitive\\\"\\/>\\n            <\\/g>\\n          <\\/g>\\n        <\\/g>\\n      <\\/g>\\n    <\\/g>\\n  <\\/g>\\n  <g class=\\\"guide ylabels\\\" font-size=\\\"2.82\\\" font-family=\\\"'PT Sans Caption','Helvetica Neue','Helvetica',sans-serif\\\" fill=\\\"#6C606B\\\" id=\\\"img-05091de3-23\\\">\\n    <g transform=\\\"translate(17.94,84.04)\\\" id=\\\"img-05091de3-24\\\">\\n      <g class=\\\"primitive\\\">\\n        <text text-anchor=\\\"end\\\" dy=\\\"0.35em\\\">0<\\/text>\\n      <\\/g>\\n    <\\/g>\\n    <g transform=\\\"translate(17.94,64.78)\\\" id=\\\"img-05091de3-25\\\">\\n      <g class=\\\"primitive\\\">\\n        <text text-anchor=\\\"end\\\" dy=\\\"0.35em\\\">50<\\/text>\\n      <\\/g>\\n    <\\/g>\\n    <g transform=\\\"translate(17.94,45.52)\\\" id=\\\"img-05091de3-26\\\">\\n      <g class=\\\"primitive\\\">\\n        <text text-anchor=\\\"end\\\" dy=\\\"0.35em\\\">100<\\/text>\\n      <\\/g>\\n    <\\/g>\\n    <g transform=\\\"translate(17.94,26.26)\\\" id=\\\"img-05091de3-27\\\">\\n      <g class=\\\"primitive\\\">\\n        <text text-anchor=\\\"end\\\" dy=\\\"0.35em\\\">150<\\/text>\\n      <\\/g>\\n    <\\/g>\\n    <g transform=\\\"translate(17.94,7)\\\" id=\\\"img-05091de3-28\\\">\\n      <g class=\\\"primitive\\\">\\n        <text text-anchor=\\\"end\\\" dy=\\\"0.35em\\\">200<\\/text>\\n      <\\/g>\\n    <\\/g>\\n  <\\/g>\\n  <g font-size=\\\"3.53\\\" font-family=\\\"'PT Sans','Helvetica Neue','Helvetica',sans-serif\\\" fill=\\\"#564A55\\\" stroke=\\\"#000000\\\" stroke-opacity=\\\"0.000\\\" id=\\\"img-05091de3-29\\\">\\n    <g transform=\\\"translate(9.92,45.52)\\\" id=\\\"img-05091de3-30\\\">\\n      <g class=\\\"primitive\\\">\\n        <text text-anchor=\\\"end\\\" dy=\\\"0.35em\\\">W<\\/text>\\n      <\\/g>\\n    <\\/g>\\n  <\\/g>\\n<\\/g>\\n<defs>\\n  <clipPath id=\\\"img-05091de3-5\\\">\\n    <path d=\\\"M18.94,5 L136.42,5 136.42,86.04 18.94,86.04 \\\" \\/>\\n  <\\/clipPath>\\n<\\/defs>\\n<\\/svg>\\n\"},\"nodeType\":\"DOM\",\"type\":\"node\",\"instanceArgs\":{\"namespace\":\"html\",\"tag\":\"div\"},\"children\":[]}]}]},\n",
       "        window,\n",
       "    );\n",
       "    })()\n",
       "    </script>\n",
       "</div>\n"
      ],
      "text/plain": [
       "WebIO.Node{WebIO.DOM}(WebIO.DOM(:html, :div), Any[WebIO.Node{WebIO.DOM}(WebIO.DOM(:html, :div), Any[\"Mono\"], Dict{Symbol, Any}(:style => Dict{String, Any}(\"color\" => :rebeccapurple, \"font-family\" => \"monospace\"))), WebIO.Node{WebIO.DOM}(WebIO.DOM(:html, :div), Any[WebIO.Scope(WebIO.Node{WebIO.DOM}(WebIO.DOM(:html, :div), Any[WebIO.Node{WebIO.DOM}(WebIO.DOM(:html, :div), Any[WebIO.Node{WebIO.DOM}(WebIO.DOM(:html, :label), Any[\"k\"], Dict{Symbol, Any}(:className => \"interact \", :style => Dict{Any, Any}(:padding => \"5px 10px 0px 10px\", \"white-space\" => :nowrap, \"color\" => :royalblue)))], Dict{Symbol, Any}(:className => \"interact-flex-row-left\")), WebIO.Node{WebIO.DOM}(WebIO.DOM(:html, :div), Any[WebIO.Node{WebIO.DOM}(WebIO.DOM(:html, :input), Any[], Dict{Symbol, Any}(:max => 51, :min => 1, :attributes => Dict{Any, Any}(:type => \"range\", Symbol(\"data-bind\") => \"numericValue: index, valueUpdate: 'input', event: {change: function (){this.changes(this.changes()+1)}}\", \"orient\" => \"horizontal\"), :step => 1, :className => \"slider slider is-fullwidth\", :style => Dict{Any, Any}()))], Dict{Symbol, Any}(:className => \"interact-flex-row-center\")), WebIO.Node{WebIO.DOM}(WebIO.DOM(:html, :div), Any[WebIO.Node{WebIO.DOM}(WebIO.DOM(:html, :p), Any[], Dict{Symbol, Any}(:attributes => Dict(\"data-bind\" => \"text: formatted_val\")))], Dict{Symbol, Any}(:className => \"interact-flex-row-right\"))], Dict{Symbol, Any}(:className => \"interact-flex-row interact-widget\", :style => Dict(\"font-family\" => \"monospace\", \"width\" => \"80%\"))), Dict{String, Tuple{Observables.AbstractObservable, Union{Nothing, Bool}}}(\"changes\" => (Observable(0), nothing), \"index\" => (Observable{Any}(26), nothing)), Set{String}(), nothing, WebIO.Asset[WebIO.Asset(\"js\", \"knockout\", \"/opt/julia/packages/Knockout/HReiN/src/../assets/knockout.js\"), WebIO.Asset(\"js\", \"knockout_punches\", \"/opt/julia/packages/Knockout/HReiN/src/../assets/knockout_punches.js\"), WebIO.Asset(\"js\", nothing, \"/opt/julia/packages/InteractBase/LJXv3/src/../assets/all.js\"), WebIO.Asset(\"css\", nothing, \"/opt/julia/packages/InteractBase/LJXv3/src/../assets/style.css\"), WebIO.Asset(\"css\", nothing, \"/opt/julia/packages/Interact/PENUy/src/../assets/bulma_confined.min.css\")], Dict{Any, Any}(\"changes\" => Any[WebIO.JSString(\"(function (val){return (val!=this.model[\\\"changes\\\"]()) ? (this.valueFromJulia[\\\"changes\\\"]=true, this.model[\\\"changes\\\"](val)) : undefined})\")], \"index\" => Any[WebIO.JSString(\"(function (val){return (val!=this.model[\\\"index\\\"]()) ? (this.valueFromJulia[\\\"index\\\"]=true, this.model[\\\"index\\\"](val)) : undefined})\")]), WebIO.ConnectionPool(Channel{Any}(32), Set{WebIO.AbstractConnection}(), Base.GenericCondition{ReentrantLock}(Base.IntrusiveLinkedList{Task}(Task (runnable) @0x0000ffff61b79560, Task (runnable) @0x0000ffff61b79560), ReentrantLock(nothing, 0x00000000, 0x00, Base.GenericCondition{Base.Threads.SpinLock}(Base.IntrusiveLinkedList{Task}(nothing, nothing), Base.Threads.SpinLock(0)), (0, 0, 280517199003648)))), WebIO.JSString[WebIO.JSString(\"function () {\\n    var handler = (function (ko, koPunches) {\\n    ko.punches.enableAll();\\n    ko.bindingHandlers.numericValue = {\\n        init: function(element, valueAccessor, allBindings, data, context) {\\n            var stringified = ko.observable(ko.unwrap(valueAccessor()));\\n            stringified.subscribe(function(value) {\\n                var val = parseFloat(value);\\n                if (!isNaN(val)) {\\n                    valueAccessor()(val);\\n                }\\n            });\\n            valueAccessor().subscribe(function(value) {\\n                var str = JSON.stringify(value);\\n                if ((str == \\\"0\\\") && ([\\\"-0\\\", \\\"-0.\\\"].indexOf(stringified()) >= 0))\\n                     return;\\n                 if ([\\\"null\\\", \\\"\\\"].indexOf(str) >= 0)\\n                     return;\\n                stringified(str);\\n            });\\n            ko.applyBindingsToNode(\\n                element,\\n                {\\n                    value: stringified,\\n                    valueUpdate: allBindings.get('valueUpdate'),\\n                },\\n                context,\\n            );\\n        }\\n    };\\n    var json_data = {\\\"formatted_vals\\\":[\\\"0.0\\\",\\\"0.01\\\",\\\"0.02\\\",\\\"0.03\\\",\\\"0.04\\\",\\\"0.05\\\",\\\"0.06\\\",\\\"0.07\\\",\\\"0.08\\\",\\\"0.09\\\",\\\"0.1\\\",\\\"0.11\\\",\\\"0.12\\\",\\\"0.13\\\",\\\"0.14\\\",\\\"0.15\\\",\\\"0.16\\\",\\\"0.17\\\",\\\"0.18\\\",\\\"0.19\\\",\\\"0.2\\\",\\\"0.21\\\",\\\"0.22\\\",\\\"0.23\\\",\\\"0.24\\\",\\\"0.25\\\",\\\"0.26\\\",\\\"0.27\\\",\\\"0.28\\\",\\\"0.29\\\",\\\"0.3\\\",\\\"0.31\\\",\\\"0.32\\\",\\\"0.33\\\",\\\"0.34\\\",\\\"0.35\\\",\\\"0.36\\\",\\\"0.37\\\",\\\"0.38\\\",\\\"0.39\\\",\\\"0.4\\\",\\\"0.41\\\",\\\"0.42\\\",\\\"0.43\\\",\\\"0.44\\\",\\\"0.45\\\",\\\"0.46\\\",\\\"0.47\\\",\\\"0.48\\\",\\\"0.49\\\",\\\"0.5\\\"],\\\"changes\\\":WebIO.getval({\\\"name\\\":\\\"changes\\\",\\\"scope\\\":\\\"11752266298916387184\\\",\\\"id\\\":\\\"17128388560694403516\\\",\\\"type\\\":\\\"observable\\\"}),\\\"index\\\":WebIO.getval({\\\"name\\\":\\\"index\\\",\\\"scope\\\":\\\"11752266298916387184\\\",\\\"id\\\":\\\"11457453773528672600\\\",\\\"type\\\":\\\"observable\\\"})};\\n    var self = this;\\n    function AppViewModel() {\\n        for (var key in json_data) {\\n            var el = json_data[key];\\n            this[key] = Array.isArray(el) ? ko.observableArray(el) : ko.observable(el);\\n        }\\n        \\n        [this[\\\"formatted_val\\\"]=ko.computed(    function(){\\n        return this.formatted_vals()[parseInt(this.index())-(1)];\\n    }\\n,this)]\\n        [this[\\\"changes\\\"].subscribe((function (val){!(this.valueFromJulia[\\\"changes\\\"]) ? (WebIO.setval({\\\"name\\\":\\\"changes\\\",\\\"scope\\\":\\\"11752266298916387184\\\",\\\"id\\\":\\\"17128388560694403516\\\",\\\"type\\\":\\\"observable\\\"},val)) : undefined; return this.valueFromJulia[\\\"changes\\\"]=false}),self),this[\\\"index\\\"].subscribe((function (val){!(this.valueFromJulia[\\\"index\\\"]) ? (WebIO.setval({\\\"name\\\":\\\"index\\\",\\\"scope\\\":\\\"11752266298916387184\\\",\\\"id\\\":\\\"11457453773528672600\\\",\\\"type\\\":\\\"observable\\\"},val)) : undefined; return this.valueFromJulia[\\\"index\\\"]=false}),self)]\\n        \\n    }\\n    self.model = new AppViewModel();\\n    self.valueFromJulia = {};\\n    for (var key in json_data) {\\n        self.valueFromJulia[key] = false;\\n    }\\n    ko.applyBindings(self.model, self.dom);\\n}\\n);\\n    (WebIO.importBlock({\\\"data\\\":[{\\\"name\\\":\\\"knockout\\\",\\\"type\\\":\\\"js\\\",\\\"url\\\":\\\"/assetserver/d749de49a15576291e39755d819be2408bf7f995-knockout.js\\\"},{\\\"name\\\":\\\"knockout_punches\\\",\\\"type\\\":\\\"js\\\",\\\"url\\\":\\\"/assetserver/9f5c86158cf79faf331cfb32636cb08a9b1f0dc2-knockout_punches.js\\\"}],\\\"type\\\":\\\"async_block\\\"})).then((imports) => handler.apply(this, imports));\\n}\\n\")])], Dict{Symbol, Any}(:className => \"field interact-widget\")), WebIO.Node{WebIO.DOM}(WebIO.DOM(:html, :div), Any[WebIO.Scope(WebIO.Node{WebIO.DOM}(WebIO.DOM(:html, :div), Any[WebIO.Node{WebIO.DOM}(WebIO.DOM(:html, :div), Any[WebIO.Node{WebIO.DOM}(WebIO.DOM(:html, :label), Any[\"W0\"], Dict{Symbol, Any}(:className => \"interact \", :style => Dict{Any, Any}(:padding => \"5px 10px 0px 10px\", \"white-space\" => :nowrap, \"color\" => :royalblue)))], Dict{Symbol, Any}(:className => \"interact-flex-row-left\")), WebIO.Node{WebIO.DOM}(WebIO.DOM(:html, :div), Any[WebIO.Node{WebIO.DOM}(WebIO.DOM(:html, :input), Any[], Dict{Symbol, Any}(:max => 101, :min => 1, :attributes => Dict{Any, Any}(:type => \"range\", Symbol(\"data-bind\") => \"numericValue: index, valueUpdate: 'input', event: {change: function (){this.changes(this.changes()+1)}}\", \"orient\" => \"horizontal\"), :step => 1, :className => \"slider slider is-fullwidth\", :style => Dict{Any, Any}()))], Dict{Symbol, Any}(:className => \"interact-flex-row-center\")), WebIO.Node{WebIO.DOM}(WebIO.DOM(:html, :div), Any[WebIO.Node{WebIO.DOM}(WebIO.DOM(:html, :p), Any[], Dict{Symbol, Any}(:attributes => Dict(\"data-bind\" => \"text: formatted_val\")))], Dict{Symbol, Any}(:className => \"interact-flex-row-right\"))], Dict{Symbol, Any}(:className => \"interact-flex-row interact-widget\", :style => Dict(\"font-family\" => \"monospace\", \"width\" => \"80%\"))), Dict{String, Tuple{Observables.AbstractObservable, Union{Nothing, Bool}}}(\"changes\" => (Observable(0), nothing), \"index\" => (Observable{Any}(51), nothing)), Set{String}(), nothing, WebIO.Asset[WebIO.Asset(\"js\", \"knockout\", \"/opt/julia/packages/Knockout/HReiN/src/../assets/knockout.js\"), WebIO.Asset(\"js\", \"knockout_punches\", \"/opt/julia/packages/Knockout/HReiN/src/../assets/knockout_punches.js\"), WebIO.Asset(\"js\", nothing, \"/opt/julia/packages/InteractBase/LJXv3/src/../assets/all.js\"), WebIO.Asset(\"css\", nothing, \"/opt/julia/packages/InteractBase/LJXv3/src/../assets/style.css\"), WebIO.Asset(\"css\", nothing, \"/opt/julia/packages/Interact/PENUy/src/../assets/bulma_confined.min.css\")], Dict{Any, Any}(\"changes\" => Any[WebIO.JSString(\"(function (val){return (val!=this.model[\\\"changes\\\"]()) ? (this.valueFromJulia[\\\"changes\\\"]=true, this.model[\\\"changes\\\"](val)) : undefined})\")], \"index\" => Any[WebIO.JSString(\"(function (val){return (val!=this.model[\\\"index\\\"]()) ? (this.valueFromJulia[\\\"index\\\"]=true, this.model[\\\"index\\\"](val)) : undefined})\")]), WebIO.ConnectionPool(Channel{Any}(32), Set{WebIO.AbstractConnection}(), Base.GenericCondition{ReentrantLock}(Base.IntrusiveLinkedList{Task}(Task (runnable) @0x0000ffff61b79750, Task (runnable) @0x0000ffff61b79750), ReentrantLock(nothing, 0x00000000, 0x00, Base.GenericCondition{Base.Threads.SpinLock}(Base.IntrusiveLinkedList{Task}(nothing, nothing), Base.Threads.SpinLock(0)), (0, 0, 141733920768)))), WebIO.JSString[WebIO.JSString(\"function () {\\n    var handler = (function (ko, koPunches) {\\n    ko.punches.enableAll();\\n    ko.bindingHandlers.numericValue = {\\n        init: function(element, valueAccessor, allBindings, data, context) {\\n            var stringified = ko.observable(ko.unwrap(valueAccessor()));\\n            stringified.subscribe(function(value) {\\n                var val = parseFloat(value);\\n                if (!isNaN(val)) {\\n                    valueAccessor()(val);\\n                }\\n            });\\n            valueAccessor().subscribe(function(value) {\\n                var str = JSON.stringify(value);\\n                if ((str == \\\"0\\\") && ([\\\"-0\\\", \\\"-0.\\\"].indexOf(stringified()) >= 0))\\n                     return;\\n                 if ([\\\"null\\\", \\\"\\\"].indexOf(str) >= 0)\\n                     return;\\n                stringified(str);\\n            });\\n            ko.applyBindingsToNode(\\n                element,\\n                {\\n                    value: stringified,\\n                    valueUpdate: allBindings.get('valueUpdate'),\\n                },\\n                context,\\n            );\\n        }\\n    };\\n    var json_data = {\\\"formatted_vals\\\":[\\\"0.0\\\",\\\"0.1\\\",\\\"0.2\\\",\\\"0.3\\\",\\\"0.4\\\",\\\"0.5\\\",\\\"0.6\\\",\\\"0.7\\\",\\\"0.8\\\",\\\"0.9\\\",\\\"1.0\\\",\\\"1.1\\\",\\\"1.2\\\",\\\"1.3\\\",\\\"1.4\\\",\\\"1.5\\\",\\\"1.6\\\",\\\"1.7\\\",\\\"1.8\\\",\\\"1.9\\\",\\\"2.0\\\",\\\"2.1\\\",\\\"2.2\\\",\\\"2.3\\\",\\\"2.4\\\",\\\"2.5\\\",\\\"2.6\\\",\\\"2.7\\\",\\\"2.8\\\",\\\"2.9\\\",\\\"3.0\\\",\\\"3.1\\\",\\\"3.2\\\",\\\"3.3\\\",\\\"3.4\\\",\\\"3.5\\\",\\\"3.6\\\",\\\"3.7\\\",\\\"3.8\\\",\\\"3.9\\\",\\\"4.0\\\",\\\"4.1\\\",\\\"4.2\\\",\\\"4.3\\\",\\\"4.4\\\",\\\"4.5\\\",\\\"4.6\\\",\\\"4.7\\\",\\\"4.8\\\",\\\"4.9\\\",\\\"5.0\\\",\\\"5.1\\\",\\\"5.2\\\",\\\"5.3\\\",\\\"5.4\\\",\\\"5.5\\\",\\\"5.6\\\",\\\"5.7\\\",\\\"5.8\\\",\\\"5.9\\\",\\\"6.0\\\",\\\"6.1\\\",\\\"6.2\\\",\\\"6.3\\\",\\\"6.4\\\",\\\"6.5\\\",\\\"6.6\\\",\\\"6.7\\\",\\\"6.8\\\",\\\"6.9\\\",\\\"7.0\\\",\\\"7.1\\\",\\\"7.2\\\",\\\"7.3\\\",\\\"7.4\\\",\\\"7.5\\\",\\\"7.6\\\",\\\"7.7\\\",\\\"7.8\\\",\\\"7.9\\\",\\\"8.0\\\",\\\"8.1\\\",\\\"8.2\\\",\\\"8.3\\\",\\\"8.4\\\",\\\"8.5\\\",\\\"8.6\\\",\\\"8.7\\\",\\\"8.8\\\",\\\"8.9\\\",\\\"9.0\\\",\\\"9.1\\\",\\\"9.2\\\",\\\"9.3\\\",\\\"9.4\\\",\\\"9.5\\\",\\\"9.6\\\",\\\"9.7\\\",\\\"9.8\\\",\\\"9.9\\\",\\\"10.0\\\"],\\\"changes\\\":WebIO.getval({\\\"name\\\":\\\"changes\\\",\\\"scope\\\":\\\"17609223930158254825\\\",\\\"id\\\":\\\"17909073270199380853\\\",\\\"type\\\":\\\"observable\\\"}),\\\"index\\\":WebIO.getval({\\\"name\\\":\\\"index\\\",\\\"scope\\\":\\\"17609223930158254825\\\",\\\"id\\\":\\\"1158914545672000012\\\",\\\"type\\\":\\\"observable\\\"})};\\n    var self = this;\\n    function AppViewModel() {\\n        for (var key in json_data) {\\n            var el = json_data[key];\\n            this[key] = Array.isArray(el) ? ko.observableArray(el) : ko.observable(el);\\n        }\\n        \\n        [this[\\\"formatted_val\\\"]=ko.computed(    function(){\\n        return this.formatted_vals()[parseInt(this.index())-(1)];\\n    }\\n,this)]\\n        [this[\\\"changes\\\"].subscribe((function (val){!(this.valueFromJulia[\\\"changes\\\"]) ? (WebIO.setval({\\\"name\\\":\\\"changes\\\",\\\"scope\\\":\\\"17609223930158254825\\\",\\\"id\\\":\\\"17909073270199380853\\\",\\\"type\\\":\\\"observable\\\"},val)) : undefined; return this.valueFromJulia[\\\"changes\\\"]=false}),self),this[\\\"index\\\"].subscribe((function (val){!(this.valueFromJulia[\\\"index\\\"]) ? (WebIO.setval({\\\"name\\\":\\\"index\\\",\\\"scope\\\":\\\"17609223930158254825\\\",\\\"id\\\":\\\"1158914545672000012\\\",\\\"type\\\":\\\"observable\\\"},val)) : undefined; return this.valueFromJulia[\\\"index\\\"]=false}),self)]\\n        \\n    }\\n    self.model = new AppViewModel();\\n    self.valueFromJulia = {};\\n    for (var key in json_data) {\\n        self.valueFromJulia[key] = false;\\n    }\\n    ko.applyBindings(self.model, self.dom);\\n}\\n);\\n    (WebIO.importBlock({\\\"data\\\":[{\\\"name\\\":\\\"knockout\\\",\\\"type\\\":\\\"js\\\",\\\"url\\\":\\\"/assetserver/d749de49a15576291e39755d819be2408bf7f995-knockout.js\\\"},{\\\"name\\\":\\\"knockout_punches\\\",\\\"type\\\":\\\"js\\\",\\\"url\\\":\\\"/assetserver/9f5c86158cf79faf331cfb32636cb08a9b1f0dc2-knockout_punches.js\\\"}],\\\"type\\\":\\\"async_block\\\"})).then((imports) => handler.apply(this, imports));\\n}\\n\")])], Dict{Symbol, Any}(:className => \"field interact-widget\")), WebIO.Node{WebIO.DOM}(WebIO.DOM(:html, :div), Any[WebIO.Scope(WebIO.Node{WebIO.DOM}(WebIO.DOM(:html, :div), Any[WebIO.Node{WebIO.DOM}(WebIO.DOM(:html, :div), Any[WebIO.Node{WebIO.DOM}(WebIO.DOM(:html, :label), Any[\"Wf\"], Dict{Symbol, Any}(:className => \"interact \", :style => Dict{Any, Any}(:padding => \"5px 10px 0px 10px\", \"white-space\" => :nowrap, \"color\" => :royalblue)))], Dict{Symbol, Any}(:className => \"interact-flex-row-left\")), WebIO.Node{WebIO.DOM}(WebIO.DOM(:html, :div), Any[WebIO.Node{WebIO.DOM}(WebIO.DOM(:html, :input), Any[], Dict{Symbol, Any}(:max => 20, :min => 1, :attributes => Dict{Any, Any}(:type => \"range\", Symbol(\"data-bind\") => \"numericValue: index, valueUpdate: 'input', event: {change: function (){this.changes(this.changes()+1)}}\", \"orient\" => \"horizontal\"), :step => 1, :className => \"slider slider is-fullwidth\", :style => Dict{Any, Any}()))], Dict{Symbol, Any}(:className => \"interact-flex-row-center\")), WebIO.Node{WebIO.DOM}(WebIO.DOM(:html, :div), Any[WebIO.Node{WebIO.DOM}(WebIO.DOM(:html, :p), Any[], Dict{Symbol, Any}(:attributes => Dict(\"data-bind\" => \"text: formatted_val\")))], Dict{Symbol, Any}(:className => \"interact-flex-row-right\"))], Dict{Symbol, Any}(:className => \"interact-flex-row interact-widget\", :style => Dict(\"font-family\" => \"monospace\", \"width\" => \"80%\"))), Dict{String, Tuple{Observables.AbstractObservable, Union{Nothing, Bool}}}(\"changes\" => (Observable(0), nothing), \"index\" => (Observable{Any}(10), nothing)), Set{String}(), nothing, WebIO.Asset[WebIO.Asset(\"js\", \"knockout\", \"/opt/julia/packages/Knockout/HReiN/src/../assets/knockout.js\"), WebIO.Asset(\"js\", \"knockout_punches\", \"/opt/julia/packages/Knockout/HReiN/src/../assets/knockout_punches.js\"), WebIO.Asset(\"js\", nothing, \"/opt/julia/packages/InteractBase/LJXv3/src/../assets/all.js\"), WebIO.Asset(\"css\", nothing, \"/opt/julia/packages/InteractBase/LJXv3/src/../assets/style.css\"), WebIO.Asset(\"css\", nothing, \"/opt/julia/packages/Interact/PENUy/src/../assets/bulma_confined.min.css\")], Dict{Any, Any}(\"changes\" => Any[WebIO.JSString(\"(function (val){return (val!=this.model[\\\"changes\\\"]()) ? (this.valueFromJulia[\\\"changes\\\"]=true, this.model[\\\"changes\\\"](val)) : undefined})\")], \"index\" => Any[WebIO.JSString(\"(function (val){return (val!=this.model[\\\"index\\\"]()) ? (this.valueFromJulia[\\\"index\\\"]=true, this.model[\\\"index\\\"](val)) : undefined})\")]), WebIO.ConnectionPool(Channel{Any}(32), Set{WebIO.AbstractConnection}(), Base.GenericCondition{ReentrantLock}(Base.IntrusiveLinkedList{Task}(Task (runnable) @0x0000ffff5c6f5940, Task (runnable) @0x0000ffff5c6f5940), ReentrantLock(nothing, 0x00000000, 0x00, Base.GenericCondition{Base.Threads.SpinLock}(Base.IntrusiveLinkedList{Task}(nothing, nothing), Base.Threads.SpinLock(0)), (0, 0, 280517199003648)))), WebIO.JSString[WebIO.JSString(\"function () {\\n    var handler = (function (ko, koPunches) {\\n    ko.punches.enableAll();\\n    ko.bindingHandlers.numericValue = {\\n        init: function(element, valueAccessor, allBindings, data, context) {\\n            var stringified = ko.observable(ko.unwrap(valueAccessor()));\\n            stringified.subscribe(function(value) {\\n                var val = parseFloat(value);\\n                if (!isNaN(val)) {\\n                    valueAccessor()(val);\\n                }\\n            });\\n            valueAccessor().subscribe(function(value) {\\n                var str = JSON.stringify(value);\\n                if ((str == \\\"0\\\") && ([\\\"-0\\\", \\\"-0.\\\"].indexOf(stringified()) >= 0))\\n                     return;\\n                 if ([\\\"null\\\", \\\"\\\"].indexOf(str) >= 0)\\n                     return;\\n                stringified(str);\\n            });\\n            ko.applyBindingsToNode(\\n                element,\\n                {\\n                    value: stringified,\\n                    valueUpdate: allBindings.get('valueUpdate'),\\n                },\\n                context,\\n            );\\n        }\\n    };\\n    var json_data = {\\\"formatted_vals\\\":[\\\"10\\\",\\\"20\\\",\\\"30\\\",\\\"40\\\",\\\"50\\\",\\\"60\\\",\\\"70\\\",\\\"80\\\",\\\"90\\\",\\\"100\\\",\\\"110\\\",\\\"120\\\",\\\"130\\\",\\\"140\\\",\\\"150\\\",\\\"160\\\",\\\"170\\\",\\\"180\\\",\\\"190\\\",\\\"200\\\"],\\\"changes\\\":WebIO.getval({\\\"name\\\":\\\"changes\\\",\\\"scope\\\":\\\"5865641639130917560\\\",\\\"id\\\":\\\"4629023784124520850\\\",\\\"type\\\":\\\"observable\\\"}),\\\"index\\\":WebIO.getval({\\\"name\\\":\\\"index\\\",\\\"scope\\\":\\\"5865641639130917560\\\",\\\"id\\\":\\\"13669731239752496204\\\",\\\"type\\\":\\\"observable\\\"})};\\n    var self = this;\\n    function AppViewModel() {\\n        for (var key in json_data) {\\n            var el = json_data[key];\\n            this[key] = Array.isArray(el) ? ko.observableArray(el) : ko.observable(el);\\n        }\\n        \\n        [this[\\\"formatted_val\\\"]=ko.computed(    function(){\\n        return this.formatted_vals()[parseInt(this.index())-(1)];\\n    }\\n,this)]\\n        [this[\\\"changes\\\"].subscribe((function (val){!(this.valueFromJulia[\\\"changes\\\"]) ? (WebIO.setval({\\\"name\\\":\\\"changes\\\",\\\"scope\\\":\\\"5865641639130917560\\\",\\\"id\\\":\\\"4629023784124520850\\\",\\\"type\\\":\\\"observable\\\"},val)) : undefined; return this.valueFromJulia[\\\"changes\\\"]=false}),self),this[\\\"index\\\"].subscribe((function (val){!(this.valueFromJulia[\\\"index\\\"]) ? (WebIO.setval({\\\"name\\\":\\\"index\\\",\\\"scope\\\":\\\"5865641639130917560\\\",\\\"id\\\":\\\"13669731239752496204\\\",\\\"type\\\":\\\"observable\\\"},val)) : undefined; return this.valueFromJulia[\\\"index\\\"]=false}),self)]\\n        \\n    }\\n    self.model = new AppViewModel();\\n    self.valueFromJulia = {};\\n    for (var key in json_data) {\\n        self.valueFromJulia[key] = false;\\n    }\\n    ko.applyBindings(self.model, self.dom);\\n}\\n);\\n    (WebIO.importBlock({\\\"data\\\":[{\\\"name\\\":\\\"knockout\\\",\\\"type\\\":\\\"js\\\",\\\"url\\\":\\\"/assetserver/d749de49a15576291e39755d819be2408bf7f995-knockout.js\\\"},{\\\"name\\\":\\\"knockout_punches\\\",\\\"type\\\":\\\"js\\\",\\\"url\\\":\\\"/assetserver/9f5c86158cf79faf331cfb32636cb08a9b1f0dc2-knockout_punches.js\\\"}],\\\"type\\\":\\\"async_block\\\"})).then((imports) => handler.apply(this, imports));\\n}\\n\")])], Dict{Symbol, Any}(:className => \"field interact-widget\")), Observable(Gadfly.Plot(Gadfly.Layer[Gadfly.Layer(nothing, Dict{Symbol, Any}(:y => [5.0, 28.75, 46.5625, 59.921875, 69.94140625, 77.4560546875, 83.092041015625, 87.31903076171875, 90.48927307128906, 92.8669548034668  …  99.99999999959421, 99.99999999969566, 99.99999999977175, 99.99999999982882, 99.99999999987162, 99.99999999990371, 99.99999999992778, 99.99999999994583, 99.99999999995937, 99.99999999996953], :x => [0.0, 1.0, 2.0, 3.0, 4.0, 5.0, 6.0, 7.0, 8.0, 9.0  …  91.0, 92.0, 93.0, 94.0, 95.0, 96.0, 97.0, 98.0, 99.0, 100.0]), Gadfly.StatisticElement[], Gadfly.Geom.LineGeometry(Gadfly.Stat.Identity(), false, 2, Symbol(\"\")), Gadfly.Theme(LCHab{Float32}(70.0f0,60.0f0,240.0f0), 0.7mm, 0.45mm, 1.8mm, Gadfly.Scale.default_discrete_sizes, Gadfly.Scale.default_continuous_sizes, Gadfly.Scale.default_discrete_colors, Function[Compose.circle, Gadfly.Shape.square, Gadfly.Shape.diamond, Gadfly.Shape.cross, Gadfly.Shape.xcross, Gadfly.Shape.utriangle, Gadfly.Shape.dtriangle, Gadfly.Shape.star1, Gadfly.Shape.star2, Gadfly.Shape.hexagon, Gadfly.Shape.octagon, Gadfly.Shape.hline, Gadfly.Shape.vline, Gadfly.Shape.ltriangle, Gadfly.Shape.rtriangle], 0.3mm, [:solid, :dash, :dot, :dashdot, :dashdotdot, :ldash, :ldashdash, :ldashdot, :ldashdashdot], [1.0, 0.9, 0.8, 0.7, 0.6, 0.5, 0.4, 0.3, 0.2, 0.1, 0.0], nothing, nothing, 0.3mm, 0.0, RGB{N0f8}(1.0,1.0,1.0), Measures.AbsoluteLength[5.0mm, 5.0mm, 5.0mm, 0.0mm], RGB{N0f8}(0.816,0.816,0.878), Measures.AbsoluteLength[0.5mm, 0.5mm], RGB{N0f8}(0.627,0.627,0.627), 0.2mm, 0, \"'PT Sans Caption','Helvetica Neue','Helvetica',sans-serif\", 2.822222222222222mm, RGB{N0f8}(0.424,0.376,0.42), \"'PT Sans','Helvetica Neue','Helvetica',sans-serif\", 3.5277777777777777mm, RGB{N0f8}(0.337,0.29,0.333), \"'PT Sans Caption','Helvetica Neue','Helvetica',sans-serif\", 2.822222222222222mm, RGB{N0f8}(0.298,0.251,0.294), \"'PT Sans','Helvetica Neue','Helvetica',sans-serif\", 3.175mm, RGB{N0f8}(0.212,0.165,0.208), \"'PT Sans','Helvetica Neue','Helvetica',sans-serif\", 2.822222222222222mm, RGB{N0f8}(0.298,0.251,0.294), 40, -0.05mm, 1.0mm, 3.0mm, Gadfly.default_stroke_color, 0.3mm, Cropbox.var\"#603#612\"(), Gadfly.default_continuous_highlight_color, Gadfly.default_lowlight_color, Gadfly.default_middle_color, 0.6mm, :left, :square, nothing, nothing, nothing, :right, nothing, 2.0mm, 1000, 10.0, 0.5, 0.2, 1.0mm, 4, Gadfly.Scale.DiscreteColorScale(Gadfly.Scale.default_discrete_colors, nothing, nothing, true), Gadfly.Scale.ContinuousColorScale(Gadfly.Scale.var\"#73#77\"{Int64, Int64, Int64, Int64, Float64, Int64}(100, 40, 260, 10, 1.5, 70), Gadfly.Scale.ContinuousScaleTransform(identity, identity, Gadfly.Scale.identity_formatter), nothing, nothing)), 1)], nothing, Data(\n",
       "  titles=Dict{Symbol, AbstractString}()\n",
       ")\n",
       ", Gadfly.ScaleElement[], Gadfly.StatisticElement[], Gadfly.Coord.Cartesian([:x, :xmin, :xmax, :xintercept], [:y, :ymin, :ymax, :yintercept, :middle, :lower_hinge, :upper_hinge, :lower_fence, :upper_fence, :outliers], 0.0, 100.0, 0, 200, false, false, false, nothing, false), Gadfly.GuideElement[Gadfly.Guide.Title(\"\"), Gadfly.Guide.XLabel(\"t\", :auto), Gadfly.Guide.YLabel(\"W\", :auto)], Gadfly.Theme(LCHab{Float32}(70.0f0,60.0f0,240.0f0), 0.7mm, 0.45mm, 1.8mm, Gadfly.Scale.default_discrete_sizes, Gadfly.Scale.default_continuous_sizes, Gadfly.Scale.default_discrete_colors, Function[Compose.circle, Gadfly.Shape.square, Gadfly.Shape.diamond, Gadfly.Shape.cross, Gadfly.Shape.xcross, Gadfly.Shape.utriangle, Gadfly.Shape.dtriangle, Gadfly.Shape.star1, Gadfly.Shape.star2, Gadfly.Shape.hexagon, Gadfly.Shape.octagon, Gadfly.Shape.hline, Gadfly.Shape.vline, Gadfly.Shape.ltriangle, Gadfly.Shape.rtriangle], 0.3mm, [:solid, :dash, :dot, :dashdot, :dashdotdot, :ldash, :ldashdash, :ldashdot, :ldashdashdot], [1.0, 0.9, 0.8, 0.7, 0.6, 0.5, 0.4, 0.3, 0.2, 0.1, 0.0], nothing, nothing, 0.3mm, 0.0, RGB{N0f8}(1.0,1.0,1.0), Measures.AbsoluteLength[5.0mm, 5.0mm, 5.0mm, 0.0mm], RGB{N0f8}(0.816,0.816,0.878), Measures.AbsoluteLength[0.5mm, 0.5mm], RGB{N0f8}(0.627,0.627,0.627), 0.2mm, 0, \"'PT Sans Caption','Helvetica Neue','Helvetica',sans-serif\", 2.822222222222222mm, RGB{N0f8}(0.424,0.376,0.42), \"'PT Sans','Helvetica Neue','Helvetica',sans-serif\", 3.5277777777777777mm, RGB{N0f8}(0.337,0.29,0.333), \"'PT Sans Caption','Helvetica Neue','Helvetica',sans-serif\", 2.822222222222222mm, RGB{N0f8}(0.298,0.251,0.294), \"'PT Sans','Helvetica Neue','Helvetica',sans-serif\", 3.175mm, RGB{N0f8}(0.212,0.165,0.208), \"'PT Sans','Helvetica Neue','Helvetica',sans-serif\", 2.822222222222222mm, RGB{N0f8}(0.298,0.251,0.294), 40, -0.05mm, 1.0mm, 3.0mm, Gadfly.default_stroke_color, 0.3mm, Cropbox.var\"#603#612\"(), Gadfly.default_continuous_highlight_color, Gadfly.default_lowlight_color, Gadfly.default_middle_color, 0.6mm, :left, :square, nothing, nothing, nothing, :right, nothing, 2.0mm, 1000, 10.0, 0.5, 0.2, 1.0mm, 4, Gadfly.Scale.DiscreteColorScale(Gadfly.Scale.default_discrete_colors, nothing, nothing, true), Gadfly.Scale.ContinuousColorScale(Gadfly.Scale.var\"#73#77\"{Int64, Int64, Int64, Int64, Float64, Int64}(100, 40, 260, 10, 1.5, 70), Gadfly.Scale.ContinuousScaleTransform(identity, identity, Gadfly.Scale.identity_formatter), nothing, nothing)), Dict{Symbol, Any}()))], Dict{Symbol, Any}(:style => Dict(\"display\" => \"flex\", \"flex-direction\" => \"column\")))"
      ]
     },
     "execution_count": 12,
     "metadata": {
      "@webio": {
       "kernelId": "d709139d-588b-4fee-8d6d-f916525c81c4"
      }
     },
     "output_type": "execute_result"
    }
   ],
   "source": [
    "manipulate(Mono, :t, :W;\n",
    "    parameters = Mono => (;\n",
    "        :k  => 0:0.01:0.5,\n",
    "        :W0 => 0:0.1:10,\n",
    "        :Wf => 10:10:200,\n",
    "    ),\n",
    "    stop = 100,\n",
    "    kind = :line,\n",
    "    ylim = (0, 200),\n",
    ")"
   ]
  },
  {
   "cell_type": "markdown",
   "metadata": {},
   "source": [
    "## 1.3. Logistic Growth Equation\n",
    "\n",
    "- Eq\n",
    "\n",
    "$$\n",
    "\\frac{dW}{dt} = \\mu W \\left( 1 - \\frac{W}{W_f} \\right)\n",
    "$$\n",
    "\n",
    "- Table\n",
    "\n",
    "| Symbol | Value | Units | Description |\n",
    "| :- | :- | :- | :- |\n",
    "| $t$ | - | - | Time unit used in the model |\n",
    "| $\\mu$ | 0.3 | - | Specific growth rate |\n",
    "| $W_0$ | 1 | - | Dry mass at time $t = 0$ |\n",
    "| $W_f$ | 100 | - | Final value of $W$ as $t$ approaches $\\infty$ |\n",
    "| $W$ | - | - | Current dry mass |"
   ]
  },
  {
   "cell_type": "code",
   "execution_count": 13,
   "metadata": {
    "tags": []
   },
   "outputs": [
    {
     "data": {
      "text/plain": [
       "Logi"
      ]
     },
     "execution_count": 13,
     "metadata": {},
     "output_type": "execute_result"
    }
   ],
   "source": [
    "@system Logi(Controller) begin\n",
    "    t(context.clock.tick) ~ track\n",
    "\n",
    "    μ        => 0.3  ~ preserve(parameter)\n",
    "    W0       => 1    ~ preserve(parameter)\n",
    "    Wf       => 100  ~ preserve(parameter)\n",
    "\n",
    "    W(μ, W, Wf) => μ*W * (1 - W/Wf) ~ accumulate(init = W0)\n",
    "end"
   ]
  },
  {
   "cell_type": "code",
   "execution_count": 14,
   "metadata": {
    "tags": []
   },
   "outputs": [
    {
     "data": {
      "text/html": [
       "<div><div style = \"float: left;\"><span>51×6 DataFrame</span></div><div style = \"float: right;\"><span style = \"font-style: italic;\">26 rows omitted</span></div><div style = \"clear: both;\"></div></div><div class = \"data-frame\" style = \"overflow-x: scroll;\"><table class = \"data-frame\" style = \"margin-bottom: 6px;\"><thead><tr class = \"header\"><th class = \"rowNumber\" style = \"font-weight: bold; text-align: right;\">Row</th><th style = \"text-align: left;\">time</th><th style = \"text-align: left;\">t</th><th style = \"text-align: left;\">μ</th><th style = \"text-align: left;\">W0</th><th style = \"text-align: left;\">Wf</th><th style = \"text-align: left;\">W</th></tr><tr class = \"subheader headerLastRow\"><th class = \"rowNumber\" style = \"font-weight: bold; text-align: right;\"></th><th title = \"Unitful.Quantity{Float64, 𝐓, Unitful.FreeUnits{(hr,), 𝐓, nothing}}\" style = \"text-align: left;\">Quantity…</th><th title = \"Float64\" style = \"text-align: left;\">Float64</th><th title = \"Float64\" style = \"text-align: left;\">Float64</th><th title = \"Float64\" style = \"text-align: left;\">Float64</th><th title = \"Float64\" style = \"text-align: left;\">Float64</th><th title = \"Float64\" style = \"text-align: left;\">Float64</th></tr></thead><tbody><tr><td class = \"rowNumber\" style = \"font-weight: bold; text-align: right;\">1</td><td style = \"text-align: right;\">0.0 hr</td><td style = \"text-align: right;\">0.0</td><td style = \"text-align: right;\">0.3</td><td style = \"text-align: right;\">1.0</td><td style = \"text-align: right;\">100.0</td><td style = \"text-align: right;\">1.0</td></tr><tr><td class = \"rowNumber\" style = \"font-weight: bold; text-align: right;\">2</td><td style = \"text-align: right;\">1.0 hr</td><td style = \"text-align: right;\">1.0</td><td style = \"text-align: right;\">0.3</td><td style = \"text-align: right;\">1.0</td><td style = \"text-align: right;\">100.0</td><td style = \"text-align: right;\">1.297</td></tr><tr><td class = \"rowNumber\" style = \"font-weight: bold; text-align: right;\">3</td><td style = \"text-align: right;\">2.0 hr</td><td style = \"text-align: right;\">2.0</td><td style = \"text-align: right;\">0.3</td><td style = \"text-align: right;\">1.0</td><td style = \"text-align: right;\">100.0</td><td style = \"text-align: right;\">1.68105</td></tr><tr><td class = \"rowNumber\" style = \"font-weight: bold; text-align: right;\">4</td><td style = \"text-align: right;\">3.0 hr</td><td style = \"text-align: right;\">3.0</td><td style = \"text-align: right;\">0.3</td><td style = \"text-align: right;\">1.0</td><td style = \"text-align: right;\">100.0</td><td style = \"text-align: right;\">2.17689</td></tr><tr><td class = \"rowNumber\" style = \"font-weight: bold; text-align: right;\">5</td><td style = \"text-align: right;\">4.0 hr</td><td style = \"text-align: right;\">4.0</td><td style = \"text-align: right;\">0.3</td><td style = \"text-align: right;\">1.0</td><td style = \"text-align: right;\">100.0</td><td style = \"text-align: right;\">2.81574</td></tr><tr><td class = \"rowNumber\" style = \"font-weight: bold; text-align: right;\">6</td><td style = \"text-align: right;\">5.0 hr</td><td style = \"text-align: right;\">5.0</td><td style = \"text-align: right;\">0.3</td><td style = \"text-align: right;\">1.0</td><td style = \"text-align: right;\">100.0</td><td style = \"text-align: right;\">3.63668</td></tr><tr><td class = \"rowNumber\" style = \"font-weight: bold; text-align: right;\">7</td><td style = \"text-align: right;\">6.0 hr</td><td style = \"text-align: right;\">6.0</td><td style = \"text-align: right;\">0.3</td><td style = \"text-align: right;\">1.0</td><td style = \"text-align: right;\">100.0</td><td style = \"text-align: right;\">4.68801</td></tr><tr><td class = \"rowNumber\" style = \"font-weight: bold; text-align: right;\">8</td><td style = \"text-align: right;\">7.0 hr</td><td style = \"text-align: right;\">7.0</td><td style = \"text-align: right;\">0.3</td><td style = \"text-align: right;\">1.0</td><td style = \"text-align: right;\">100.0</td><td style = \"text-align: right;\">6.02848</td></tr><tr><td class = \"rowNumber\" style = \"font-weight: bold; text-align: right;\">9</td><td style = \"text-align: right;\">8.0 hr</td><td style = \"text-align: right;\">8.0</td><td style = \"text-align: right;\">0.3</td><td style = \"text-align: right;\">1.0</td><td style = \"text-align: right;\">100.0</td><td style = \"text-align: right;\">7.72799</td></tr><tr><td class = \"rowNumber\" style = \"font-weight: bold; text-align: right;\">10</td><td style = \"text-align: right;\">9.0 hr</td><td style = \"text-align: right;\">9.0</td><td style = \"text-align: right;\">0.3</td><td style = \"text-align: right;\">1.0</td><td style = \"text-align: right;\">100.0</td><td style = \"text-align: right;\">9.86723</td></tr><tr><td class = \"rowNumber\" style = \"font-weight: bold; text-align: right;\">11</td><td style = \"text-align: right;\">10.0 hr</td><td style = \"text-align: right;\">10.0</td><td style = \"text-align: right;\">0.3</td><td style = \"text-align: right;\">1.0</td><td style = \"text-align: right;\">100.0</td><td style = \"text-align: right;\">12.5353</td></tr><tr><td class = \"rowNumber\" style = \"font-weight: bold; text-align: right;\">12</td><td style = \"text-align: right;\">11.0 hr</td><td style = \"text-align: right;\">11.0</td><td style = \"text-align: right;\">0.3</td><td style = \"text-align: right;\">1.0</td><td style = \"text-align: right;\">100.0</td><td style = \"text-align: right;\">15.8245</td></tr><tr><td class = \"rowNumber\" style = \"font-weight: bold; text-align: right;\">13</td><td style = \"text-align: right;\">12.0 hr</td><td style = \"text-align: right;\">12.0</td><td style = \"text-align: right;\">0.3</td><td style = \"text-align: right;\">1.0</td><td style = \"text-align: right;\">100.0</td><td style = \"text-align: right;\">19.8206</td></tr><tr><td style = \"text-align: right;\">&vellip;</td><td style = \"text-align: right;\">&vellip;</td><td style = \"text-align: right;\">&vellip;</td><td style = \"text-align: right;\">&vellip;</td><td style = \"text-align: right;\">&vellip;</td><td style = \"text-align: right;\">&vellip;</td><td style = \"text-align: right;\">&vellip;</td></tr><tr><td class = \"rowNumber\" style = \"font-weight: bold; text-align: right;\">40</td><td style = \"text-align: right;\">39.0 hr</td><td style = \"text-align: right;\">39.0</td><td style = \"text-align: right;\">0.3</td><td style = \"text-align: right;\">1.0</td><td style = \"text-align: right;\">100.0</td><td style = \"text-align: right;\">99.9502</td></tr><tr><td class = \"rowNumber\" style = \"font-weight: bold; text-align: right;\">41</td><td style = \"text-align: right;\">40.0 hr</td><td style = \"text-align: right;\">40.0</td><td style = \"text-align: right;\">0.3</td><td style = \"text-align: right;\">1.0</td><td style = \"text-align: right;\">100.0</td><td style = \"text-align: right;\">99.9652</td></tr><tr><td class = \"rowNumber\" style = \"font-weight: bold; text-align: right;\">42</td><td style = \"text-align: right;\">41.0 hr</td><td style = \"text-align: right;\">41.0</td><td style = \"text-align: right;\">0.3</td><td style = \"text-align: right;\">1.0</td><td style = \"text-align: right;\">100.0</td><td style = \"text-align: right;\">99.9756</td></tr><tr><td class = \"rowNumber\" style = \"font-weight: bold; text-align: right;\">43</td><td style = \"text-align: right;\">42.0 hr</td><td style = \"text-align: right;\">42.0</td><td style = \"text-align: right;\">0.3</td><td style = \"text-align: right;\">1.0</td><td style = \"text-align: right;\">100.0</td><td style = \"text-align: right;\">99.9829</td></tr><tr><td class = \"rowNumber\" style = \"font-weight: bold; text-align: right;\">44</td><td style = \"text-align: right;\">43.0 hr</td><td style = \"text-align: right;\">43.0</td><td style = \"text-align: right;\">0.3</td><td style = \"text-align: right;\">1.0</td><td style = \"text-align: right;\">100.0</td><td style = \"text-align: right;\">99.988</td></tr><tr><td class = \"rowNumber\" style = \"font-weight: bold; text-align: right;\">45</td><td style = \"text-align: right;\">44.0 hr</td><td style = \"text-align: right;\">44.0</td><td style = \"text-align: right;\">0.3</td><td style = \"text-align: right;\">1.0</td><td style = \"text-align: right;\">100.0</td><td style = \"text-align: right;\">99.9916</td></tr><tr><td class = \"rowNumber\" style = \"font-weight: bold; text-align: right;\">46</td><td style = \"text-align: right;\">45.0 hr</td><td style = \"text-align: right;\">45.0</td><td style = \"text-align: right;\">0.3</td><td style = \"text-align: right;\">1.0</td><td style = \"text-align: right;\">100.0</td><td style = \"text-align: right;\">99.9941</td></tr><tr><td class = \"rowNumber\" style = \"font-weight: bold; text-align: right;\">47</td><td style = \"text-align: right;\">46.0 hr</td><td style = \"text-align: right;\">46.0</td><td style = \"text-align: right;\">0.3</td><td style = \"text-align: right;\">1.0</td><td style = \"text-align: right;\">100.0</td><td style = \"text-align: right;\">99.9959</td></tr><tr><td class = \"rowNumber\" style = \"font-weight: bold; text-align: right;\">48</td><td style = \"text-align: right;\">47.0 hr</td><td style = \"text-align: right;\">47.0</td><td style = \"text-align: right;\">0.3</td><td style = \"text-align: right;\">1.0</td><td style = \"text-align: right;\">100.0</td><td style = \"text-align: right;\">99.9971</td></tr><tr><td class = \"rowNumber\" style = \"font-weight: bold; text-align: right;\">49</td><td style = \"text-align: right;\">48.0 hr</td><td style = \"text-align: right;\">48.0</td><td style = \"text-align: right;\">0.3</td><td style = \"text-align: right;\">1.0</td><td style = \"text-align: right;\">100.0</td><td style = \"text-align: right;\">99.998</td></tr><tr><td class = \"rowNumber\" style = \"font-weight: bold; text-align: right;\">50</td><td style = \"text-align: right;\">49.0 hr</td><td style = \"text-align: right;\">49.0</td><td style = \"text-align: right;\">0.3</td><td style = \"text-align: right;\">1.0</td><td style = \"text-align: right;\">100.0</td><td style = \"text-align: right;\">99.9986</td></tr><tr><td class = \"rowNumber\" style = \"font-weight: bold; text-align: right;\">51</td><td style = \"text-align: right;\">50.0 hr</td><td style = \"text-align: right;\">50.0</td><td style = \"text-align: right;\">0.3</td><td style = \"text-align: right;\">1.0</td><td style = \"text-align: right;\">100.0</td><td style = \"text-align: right;\">99.999</td></tr></tbody></table></div>"
      ],
      "text/latex": [
       "\\begin{tabular}{r|cccccc}\n",
       "\t& time & t & μ & W0 & Wf & W\\\\\n",
       "\t\\hline\n",
       "\t& Quantity… & Float64 & Float64 & Float64 & Float64 & Float64\\\\\n",
       "\t\\hline\n",
       "\t1 & 0.0 hr & 0.0 & 0.3 & 1.0 & 100.0 & 1.0 \\\\\n",
       "\t2 & 1.0 hr & 1.0 & 0.3 & 1.0 & 100.0 & 1.297 \\\\\n",
       "\t3 & 2.0 hr & 2.0 & 0.3 & 1.0 & 100.0 & 1.68105 \\\\\n",
       "\t4 & 3.0 hr & 3.0 & 0.3 & 1.0 & 100.0 & 2.17689 \\\\\n",
       "\t5 & 4.0 hr & 4.0 & 0.3 & 1.0 & 100.0 & 2.81574 \\\\\n",
       "\t6 & 5.0 hr & 5.0 & 0.3 & 1.0 & 100.0 & 3.63668 \\\\\n",
       "\t7 & 6.0 hr & 6.0 & 0.3 & 1.0 & 100.0 & 4.68801 \\\\\n",
       "\t8 & 7.0 hr & 7.0 & 0.3 & 1.0 & 100.0 & 6.02848 \\\\\n",
       "\t9 & 8.0 hr & 8.0 & 0.3 & 1.0 & 100.0 & 7.72799 \\\\\n",
       "\t10 & 9.0 hr & 9.0 & 0.3 & 1.0 & 100.0 & 9.86723 \\\\\n",
       "\t11 & 10.0 hr & 10.0 & 0.3 & 1.0 & 100.0 & 12.5353 \\\\\n",
       "\t12 & 11.0 hr & 11.0 & 0.3 & 1.0 & 100.0 & 15.8245 \\\\\n",
       "\t13 & 12.0 hr & 12.0 & 0.3 & 1.0 & 100.0 & 19.8206 \\\\\n",
       "\t14 & 13.0 hr & 13.0 & 0.3 & 1.0 & 100.0 & 24.5882 \\\\\n",
       "\t15 & 14.0 hr & 14.0 & 0.3 & 1.0 & 100.0 & 30.1509 \\\\\n",
       "\t16 & 15.0 hr & 15.0 & 0.3 & 1.0 & 100.0 & 36.469 \\\\\n",
       "\t17 & 16.0 hr & 16.0 & 0.3 & 1.0 & 100.0 & 43.4197 \\\\\n",
       "\t18 & 17.0 hr & 17.0 & 0.3 & 1.0 & 100.0 & 50.7898 \\\\\n",
       "\t19 & 18.0 hr & 18.0 & 0.3 & 1.0 & 100.0 & 58.2879 \\\\\n",
       "\t20 & 19.0 hr & 19.0 & 0.3 & 1.0 & 100.0 & 65.5819 \\\\\n",
       "\t21 & 20.0 hr & 20.0 & 0.3 & 1.0 & 100.0 & 72.3535 \\\\\n",
       "\t22 & 21.0 hr & 21.0 & 0.3 & 1.0 & 100.0 & 78.3545 \\\\\n",
       "\t23 & 22.0 hr & 22.0 & 0.3 & 1.0 & 100.0 & 83.4425 \\\\\n",
       "\t24 & 23.0 hr & 23.0 & 0.3 & 1.0 & 100.0 & 87.5873 \\\\\n",
       "\t25 & 24.0 hr & 24.0 & 0.3 & 1.0 & 100.0 & 90.8489 \\\\\n",
       "\t26 & 25.0 hr & 25.0 & 0.3 & 1.0 & 100.0 & 93.343 \\\\\n",
       "\t27 & 26.0 hr & 26.0 & 0.3 & 1.0 & 100.0 & 95.2072 \\\\\n",
       "\t28 & 27.0 hr & 27.0 & 0.3 & 1.0 & 100.0 & 96.5761 \\\\\n",
       "\t29 & 28.0 hr & 28.0 & 0.3 & 1.0 & 100.0 & 97.5681 \\\\\n",
       "\t30 & 29.0 hr & 29.0 & 0.3 & 1.0 & 100.0 & 98.2799 \\\\\n",
       "\t$\\dots$ & $\\dots$ & $\\dots$ & $\\dots$ & $\\dots$ & $\\dots$ & $\\dots$ \\\\\n",
       "\\end{tabular}\n"
      ],
      "text/plain": [
       "\u001B[1m51×6 DataFrame\n",
       "\u001B[1m Row │\u001B[1m time      \u001B[1m t       \u001B[1m μ       \u001B[1m W0      \u001B[1m Wf      \u001B[1m W\n",
       "     │\u001B[90m Quantity… \u001B[90m Float64 \u001B[90m Float64 \u001B[90m Float64 \u001B[90m Float64 \u001B[90m Float64\n",
       "─────┼─────────────────────────────────────────────────────────\n",
       "   1 │    0.0 hr      0.0      0.3      1.0    100.0   1.0\n",
       "   2 │    1.0 hr      1.0      0.3      1.0    100.0   1.297\n",
       "   3 │    2.0 hr      2.0      0.3      1.0    100.0   1.68105\n",
       "   4 │    3.0 hr      3.0      0.3      1.0    100.0   2.17689\n",
       "   5 │    4.0 hr      4.0      0.3      1.0    100.0   2.81574\n",
       "   6 │    5.0 hr      5.0      0.3      1.0    100.0   3.63668\n",
       "   7 │    6.0 hr      6.0      0.3      1.0    100.0   4.68801\n",
       "   8 │    7.0 hr      7.0      0.3      1.0    100.0   6.02848\n",
       "   9 │    8.0 hr      8.0      0.3      1.0    100.0   7.72799\n",
       "  10 │    9.0 hr      9.0      0.3      1.0    100.0   9.86723\n",
       "  11 │   10.0 hr     10.0      0.3      1.0    100.0  12.5353\n",
       "  ⋮  │     ⋮         ⋮        ⋮        ⋮        ⋮        ⋮\n",
       "  42 │   41.0 hr     41.0      0.3      1.0    100.0  99.9756\n",
       "  43 │   42.0 hr     42.0      0.3      1.0    100.0  99.9829\n",
       "  44 │   43.0 hr     43.0      0.3      1.0    100.0  99.988\n",
       "  45 │   44.0 hr     44.0      0.3      1.0    100.0  99.9916\n",
       "  46 │   45.0 hr     45.0      0.3      1.0    100.0  99.9941\n",
       "  47 │   46.0 hr     46.0      0.3      1.0    100.0  99.9959\n",
       "  48 │   47.0 hr     47.0      0.3      1.0    100.0  99.9971\n",
       "  49 │   48.0 hr     48.0      0.3      1.0    100.0  99.998\n",
       "  50 │   49.0 hr     49.0      0.3      1.0    100.0  99.9986\n",
       "  51 │   50.0 hr     50.0      0.3      1.0    100.0  99.999\n",
       "\u001B[36m                                                30 rows omitted"
      ]
     },
     "execution_count": 14,
     "metadata": {},
     "output_type": "execute_result"
    }
   ],
   "source": [
    "r13 = simulate(Logi, stop = 50)"
   ]
  },
  {
   "cell_type": "code",
   "execution_count": 15,
   "metadata": {
    "tags": []
   },
   "outputs": [
    {
     "data": {
      "image/svg+xml": [
       "<?xml version=\"1.0\" encoding=\"UTF-8\"?>\n",
       "<svg xmlns=\"http://www.w3.org/2000/svg\"\n",
       "     xmlns:xlink=\"http://www.w3.org/1999/xlink\"\n",
       "     xmlns:gadfly=\"http://www.gadflyjl.org/ns\"\n",
       "     version=\"1.2\"\n",
       "     width=\"141.42mm\" height=\"100mm\" viewBox=\"0 0 141.42 100\"\n",
       "     stroke=\"none\"\n",
       "     fill=\"#000000\"\n",
       "     stroke-width=\"0.3\"\n",
       "     font-size=\"3.88\"\n",
       ">\n",
       "<defs>\n",
       "  <marker id=\"arrow\" markerWidth=\"15\" markerHeight=\"7\" refX=\"5\" refY=\"3.5\" orient=\"auto\" markerUnits=\"strokeWidth\">\n",
       "    <path d=\"M0,0 L15,3.5 L0,7 z\" stroke=\"context-stroke\" fill=\"context-stroke\"/>\n",
       "  </marker>\n",
       "</defs>\n",
       "<g stroke=\"#000000\" stroke-opacity=\"0.000\" fill=\"#FFFFFF\" id=\"img-92cd9aa6-1\">\n",
       "  <g transform=\"translate(70.71,50)\">\n",
       "    <path d=\"M-70.71,-50 L70.71,-50 70.71,50 -70.71,50  z\" class=\"primitive\"/>\n",
       "  </g>\n",
       "</g>\n",
       "<g class=\"plotroot xscalable yscalable\" id=\"img-92cd9aa6-2\">\n",
       "  <g font-size=\"3.53\" font-family=\"'PT Sans','Helvetica Neue','Helvetica',sans-serif\" fill=\"#564A55\" stroke=\"#000000\" stroke-opacity=\"0.000\" id=\"img-92cd9aa6-3\">\n",
       "    <g transform=\"translate(70.74,93.72)\">\n",
       "      <g class=\"primitive\">\n",
       "        <text text-anchor=\"middle\" dy=\"0.6em\">t</text>\n",
       "      </g>\n",
       "    </g>\n",
       "  </g>\n",
       "  <g class=\"guide xlabels\" font-size=\"2.82\" font-family=\"'PT Sans Caption','Helvetica Neue','Helvetica',sans-serif\" fill=\"#6C606B\" id=\"img-92cd9aa6-4\">\n",
       "    <g transform=\"translate(14.02,87.04)\">\n",
       "      <g class=\"primitive\">\n",
       "        <text text-anchor=\"middle\" dy=\"0.6em\">0</text>\n",
       "      </g>\n",
       "    </g>\n",
       "    <g transform=\"translate(36.71,87.04)\">\n",
       "      <g class=\"primitive\">\n",
       "        <text text-anchor=\"middle\" dy=\"0.6em\">10</text>\n",
       "      </g>\n",
       "    </g>\n",
       "    <g transform=\"translate(59.4,87.04)\">\n",
       "      <g class=\"primitive\">\n",
       "        <text text-anchor=\"middle\" dy=\"0.6em\">20</text>\n",
       "      </g>\n",
       "    </g>\n",
       "    <g transform=\"translate(82.08,87.04)\">\n",
       "      <g class=\"primitive\">\n",
       "        <text text-anchor=\"middle\" dy=\"0.6em\">30</text>\n",
       "      </g>\n",
       "    </g>\n",
       "    <g transform=\"translate(104.77,87.04)\">\n",
       "      <g class=\"primitive\">\n",
       "        <text text-anchor=\"middle\" dy=\"0.6em\">40</text>\n",
       "      </g>\n",
       "    </g>\n",
       "    <g transform=\"translate(127.46,87.04)\">\n",
       "      <g class=\"primitive\">\n",
       "        <text text-anchor=\"middle\" dy=\"0.6em\">50</text>\n",
       "      </g>\n",
       "    </g>\n",
       "  </g>\n",
       "  <g class=\"guide colorkey\" id=\"img-92cd9aa6-5\">\n",
       "    <g fill=\"#4C404B\" font-size=\"2.82\" font-family=\"'PT Sans','Helvetica Neue','Helvetica',sans-serif\" id=\"img-92cd9aa6-6\">\n",
       "      <g transform=\"translate(134.09,47.75)\" id=\"img-92cd9aa6-7\">\n",
       "        <g class=\"primitive\">\n",
       "          <text dy=\"0.35em\">W</text>\n",
       "        </g>\n",
       "      </g>\n",
       "    </g>\n",
       "    <g stroke-width=\"0.3\" id=\"img-92cd9aa6-8\">\n",
       "      <g stroke=\"#FFFFFF\" stroke-opacity=\"0.000\" fill-opacity=\"1\" fill=\"#00BFFF\" id=\"img-92cd9aa6-9\">\n",
       "        <g transform=\"translate(131.27,47.75)\" id=\"img-92cd9aa6-10\">\n",
       "          <circle cx=\"0\" cy=\"0\" r=\"0.7\" class=\"primitive\"/>\n",
       "        </g>\n",
       "      </g>\n",
       "    </g>\n",
       "    <g fill=\"#362A35\" font-size=\"3.18\" font-family=\"'PT Sans','Helvetica Neue','Helvetica',sans-serif\" stroke=\"#000000\" stroke-opacity=\"0.000\" id=\"img-92cd9aa6-11\">\n",
       "      <g transform=\"translate(130.46,44.44)\" id=\"img-92cd9aa6-12\">\n",
       "        <g class=\"primitive\">\n",
       "          <text dy=\"-0em\"></text>\n",
       "        </g>\n",
       "      </g>\n",
       "    </g>\n",
       "  </g>\n",
       "  <g clip-path=\"url(#img-92cd9aa6-13)\">\n",
       "    <g id=\"img-92cd9aa6-14\">\n",
       "      <g pointer-events=\"visible\" stroke-width=\"0.3\" fill=\"#000000\" fill-opacity=\"0.000\" stroke=\"#000000\" stroke-opacity=\"0.000\" class=\"guide background\" id=\"img-92cd9aa6-15\">\n",
       "        <g transform=\"translate(70.74,45.52)\" id=\"img-92cd9aa6-16\">\n",
       "          <path d=\"M-58.72,-40.52 L58.72,-40.52 58.72,40.52 -58.72,40.52  z\" class=\"primitive\"/>\n",
       "        </g>\n",
       "      </g>\n",
       "      <g class=\"guide ygridlines xfixed\" stroke-dasharray=\"0.5,0.5\" stroke-width=\"0.2\" stroke=\"#D0D0E0\" id=\"img-92cd9aa6-17\">\n",
       "        <g transform=\"translate(70.74,45.91)\" id=\"img-92cd9aa6-18\">\n",
       "          <path fill=\"none\" d=\"M-58.72,0 L58.72,0 \" class=\"primitive\"/>\n",
       "        </g>\n",
       "        <g transform=\"translate(70.74,7)\" id=\"img-92cd9aa6-19\">\n",
       "          <path fill=\"none\" d=\"M-58.72,0 L58.72,0 \" class=\"primitive\"/>\n",
       "        </g>\n",
       "      </g>\n",
       "      <g class=\"guide xgridlines yfixed\" stroke-dasharray=\"0.5,0.5\" stroke-width=\"0.2\" stroke=\"#D0D0E0\" id=\"img-92cd9aa6-20\">\n",
       "        <g transform=\"translate(14.02,45.52)\" id=\"img-92cd9aa6-21\">\n",
       "          <path fill=\"none\" d=\"M0,-40.52 L0,40.52 \" class=\"primitive\"/>\n",
       "        </g>\n",
       "        <g transform=\"translate(36.71,45.52)\" id=\"img-92cd9aa6-22\">\n",
       "          <path fill=\"none\" d=\"M0,-40.52 L0,40.52 \" class=\"primitive\"/>\n",
       "        </g>\n",
       "        <g transform=\"translate(59.4,45.52)\" id=\"img-92cd9aa6-23\">\n",
       "          <path fill=\"none\" d=\"M0,-40.52 L0,40.52 \" class=\"primitive\"/>\n",
       "        </g>\n",
       "        <g transform=\"translate(82.08,45.52)\" id=\"img-92cd9aa6-24\">\n",
       "          <path fill=\"none\" d=\"M0,-40.52 L0,40.52 \" class=\"primitive\"/>\n",
       "        </g>\n",
       "        <g transform=\"translate(104.77,45.52)\" id=\"img-92cd9aa6-25\">\n",
       "          <path fill=\"none\" d=\"M0,-40.52 L0,40.52 \" class=\"primitive\"/>\n",
       "        </g>\n",
       "        <g transform=\"translate(127.46,45.52)\" id=\"img-92cd9aa6-26\">\n",
       "          <path fill=\"none\" d=\"M0,-40.52 L0,40.52 \" class=\"primitive\"/>\n",
       "        </g>\n",
       "      </g>\n",
       "      <g class=\"plotpanel\" id=\"img-92cd9aa6-27\">\n",
       "        <metadata>\n",
       "          <boundingbox value=\"12.019999999999996mm 5.0mm 117.4413562373095mm 81.04333333333334mm\"/>\n",
       "          <unitbox value=\"-0.8815127332470237 102.5699822610652 51.76302546649405 -104.1399645221304\"/>\n",
       "        </metadata>\n",
       "        <g stroke-width=\"0.3\" fill=\"#000000\" fill-opacity=\"0.000\" class=\"geometry\" id=\"img-92cd9aa6-28\">\n",
       "          <g class=\"color_LCHab{Float32}(70.0f0,60.0f0,240.0f0)\" stroke-dasharray=\"none\" stroke-opacity=\"1\" stroke=\"#00BFFF\" id=\"img-92cd9aa6-29\">\n",
       "            <g transform=\"translate(70.74,33.13)\" id=\"img-92cd9aa6-30\">\n",
       "              <path fill=\"none\" d=\"M-56.72,50.92 L-54.45,50.69 -52.18,50.39 -49.91,50 -47.65,49.5 -45.38,48.87 -43.11,48.05 -40.84,47 -38.57,45.68 -36.3,44.02 -34.03,41.94 -31.76,39.38 -29.49,36.27 -27.23,32.56 -24.96,28.23 -22.69,23.32 -20.42,17.91 -18.15,12.17 -15.88,6.34 -13.61,0.66 -11.34,-4.61 -9.08,-9.28 -6.81,-13.24 -4.54,-16.47 -2.27,-19 0,-20.94 2.27,-22.4 4.54,-23.46 6.81,-24.23 9.08,-24.79 11.34,-25.18 13.61,-25.46 15.88,-25.66 18.15,-25.8 20.42,-25.9 22.69,-25.96 24.96,-26.01 27.23,-26.05 29.49,-26.07 31.76,-26.09 34.03,-26.1 36.3,-26.11 38.57,-26.11 40.84,-26.12 43.11,-26.12 45.38,-26.12 47.65,-26.12 49.91,-26.12 52.18,-26.12 54.45,-26.12 56.72,-26.12 \" class=\"primitive\"/>\n",
       "            </g>\n",
       "          </g>\n",
       "        </g>\n",
       "      </g>\n",
       "    </g>\n",
       "  </g>\n",
       "  <g class=\"guide ylabels\" font-size=\"2.82\" font-family=\"'PT Sans Caption','Helvetica Neue','Helvetica',sans-serif\" fill=\"#6C606B\" id=\"img-92cd9aa6-31\">\n",
       "    <g transform=\"translate(11.02,45.91)\" id=\"img-92cd9aa6-32\">\n",
       "      <g class=\"primitive\">\n",
       "        <text text-anchor=\"end\" dy=\"0.35em\">50</text>\n",
       "      </g>\n",
       "    </g>\n",
       "    <g transform=\"translate(11.02,7)\" id=\"img-92cd9aa6-33\">\n",
       "      <g class=\"primitive\">\n",
       "        <text text-anchor=\"end\" dy=\"0.35em\">100</text>\n",
       "      </g>\n",
       "    </g>\n",
       "  </g>\n",
       "</g>\n",
       "<defs>\n",
       "  <clipPath id=\"img-92cd9aa6-13\">\n",
       "    <path d=\"M12.02,5 L129.46,5 129.46,86.04 12.02,86.04 \" />\n",
       "  </clipPath>\n",
       "</defs>\n",
       "</svg>\n"
      ],
      "text/html": [
       "<?xml version=\"1.0\" encoding=\"UTF-8\"?>\n",
       "<svg xmlns=\"http://www.w3.org/2000/svg\"\n",
       "     xmlns:xlink=\"http://www.w3.org/1999/xlink\"\n",
       "     xmlns:gadfly=\"http://www.gadflyjl.org/ns\"\n",
       "     version=\"1.2\"\n",
       "     width=\"141.42mm\" height=\"100mm\" viewBox=\"0 0 141.42 100\"\n",
       "     stroke=\"none\"\n",
       "     fill=\"#000000\"\n",
       "     stroke-width=\"0.3\"\n",
       "     font-size=\"3.88\"\n",
       ">\n",
       "<defs>\n",
       "  <marker id=\"arrow\" markerWidth=\"15\" markerHeight=\"7\" refX=\"5\" refY=\"3.5\" orient=\"auto\" markerUnits=\"strokeWidth\">\n",
       "    <path d=\"M0,0 L15,3.5 L0,7 z\" stroke=\"context-stroke\" fill=\"context-stroke\"/>\n",
       "  </marker>\n",
       "</defs>\n",
       "<g stroke=\"#000000\" stroke-opacity=\"0.000\" fill=\"#FFFFFF\" id=\"img-97f9f10a-1\">\n",
       "  <g transform=\"translate(70.71,50)\">\n",
       "    <path d=\"M-70.71,-50 L70.71,-50 70.71,50 -70.71,50  z\" class=\"primitive\"/>\n",
       "  </g>\n",
       "</g>\n",
       "<g class=\"plotroot xscalable yscalable\" id=\"img-97f9f10a-2\">\n",
       "  <g font-size=\"3.53\" font-family=\"'PT Sans','Helvetica Neue','Helvetica',sans-serif\" fill=\"#564A55\" stroke=\"#000000\" stroke-opacity=\"0.000\" id=\"img-97f9f10a-3\">\n",
       "    <g transform=\"translate(70.74,93.72)\">\n",
       "      <g class=\"primitive\">\n",
       "        <text text-anchor=\"middle\" dy=\"0.6em\">t</text>\n",
       "      </g>\n",
       "    </g>\n",
       "  </g>\n",
       "  <g class=\"guide xlabels\" font-size=\"2.82\" font-family=\"'PT Sans Caption','Helvetica Neue','Helvetica',sans-serif\" fill=\"#6C606B\" id=\"img-97f9f10a-4\">\n",
       "    <g transform=\"translate(14.02,87.04)\">\n",
       "      <g class=\"primitive\">\n",
       "        <text text-anchor=\"middle\" dy=\"0.6em\">0</text>\n",
       "      </g>\n",
       "    </g>\n",
       "    <g transform=\"translate(36.71,87.04)\">\n",
       "      <g class=\"primitive\">\n",
       "        <text text-anchor=\"middle\" dy=\"0.6em\">10</text>\n",
       "      </g>\n",
       "    </g>\n",
       "    <g transform=\"translate(59.4,87.04)\">\n",
       "      <g class=\"primitive\">\n",
       "        <text text-anchor=\"middle\" dy=\"0.6em\">20</text>\n",
       "      </g>\n",
       "    </g>\n",
       "    <g transform=\"translate(82.08,87.04)\">\n",
       "      <g class=\"primitive\">\n",
       "        <text text-anchor=\"middle\" dy=\"0.6em\">30</text>\n",
       "      </g>\n",
       "    </g>\n",
       "    <g transform=\"translate(104.77,87.04)\">\n",
       "      <g class=\"primitive\">\n",
       "        <text text-anchor=\"middle\" dy=\"0.6em\">40</text>\n",
       "      </g>\n",
       "    </g>\n",
       "    <g transform=\"translate(127.46,87.04)\">\n",
       "      <g class=\"primitive\">\n",
       "        <text text-anchor=\"middle\" dy=\"0.6em\">50</text>\n",
       "      </g>\n",
       "    </g>\n",
       "  </g>\n",
       "  <g class=\"guide colorkey\" id=\"img-97f9f10a-5\">\n",
       "    <g fill=\"#4C404B\" font-size=\"2.82\" font-family=\"'PT Sans','Helvetica Neue','Helvetica',sans-serif\" id=\"img-97f9f10a-6\">\n",
       "      <g transform=\"translate(134.09,47.75)\" id=\"img-97f9f10a-7\">\n",
       "        <g class=\"primitive\">\n",
       "          <text dy=\"0.35em\">W</text>\n",
       "        </g>\n",
       "      </g>\n",
       "    </g>\n",
       "    <g stroke-width=\"0.3\" id=\"img-97f9f10a-8\">\n",
       "      <g stroke=\"#FFFFFF\" stroke-opacity=\"0.000\" fill-opacity=\"1\" fill=\"#00BFFF\" id=\"img-97f9f10a-9\">\n",
       "        <g transform=\"translate(131.27,47.75)\" id=\"img-97f9f10a-10\">\n",
       "          <circle cx=\"0\" cy=\"0\" r=\"0.7\" class=\"primitive\"/>\n",
       "        </g>\n",
       "      </g>\n",
       "    </g>\n",
       "    <g fill=\"#362A35\" font-size=\"3.18\" font-family=\"'PT Sans','Helvetica Neue','Helvetica',sans-serif\" stroke=\"#000000\" stroke-opacity=\"0.000\" id=\"img-97f9f10a-11\">\n",
       "      <g transform=\"translate(130.46,44.44)\" id=\"img-97f9f10a-12\">\n",
       "        <g class=\"primitive\">\n",
       "          <text dy=\"-0em\"></text>\n",
       "        </g>\n",
       "      </g>\n",
       "    </g>\n",
       "  </g>\n",
       "  <g clip-path=\"url(#img-97f9f10a-13)\">\n",
       "    <g id=\"img-97f9f10a-14\">\n",
       "      <g pointer-events=\"visible\" stroke-width=\"0.3\" fill=\"#000000\" fill-opacity=\"0.000\" stroke=\"#000000\" stroke-opacity=\"0.000\" class=\"guide background\" id=\"img-97f9f10a-15\">\n",
       "        <g transform=\"translate(70.74,45.52)\" id=\"img-97f9f10a-16\">\n",
       "          <path d=\"M-58.72,-40.52 L58.72,-40.52 58.72,40.52 -58.72,40.52  z\" class=\"primitive\"/>\n",
       "        </g>\n",
       "      </g>\n",
       "      <g class=\"guide ygridlines xfixed\" stroke-dasharray=\"0.5,0.5\" stroke-width=\"0.2\" stroke=\"#D0D0E0\" id=\"img-97f9f10a-17\">\n",
       "        <g transform=\"translate(70.74,45.91)\" id=\"img-97f9f10a-18\">\n",
       "          <path fill=\"none\" d=\"M-58.72,0 L58.72,0 \" class=\"primitive\"/>\n",
       "        </g>\n",
       "        <g transform=\"translate(70.74,7)\" id=\"img-97f9f10a-19\">\n",
       "          <path fill=\"none\" d=\"M-58.72,0 L58.72,0 \" class=\"primitive\"/>\n",
       "        </g>\n",
       "      </g>\n",
       "      <g class=\"guide xgridlines yfixed\" stroke-dasharray=\"0.5,0.5\" stroke-width=\"0.2\" stroke=\"#D0D0E0\" id=\"img-97f9f10a-20\">\n",
       "        <g transform=\"translate(14.02,45.52)\" id=\"img-97f9f10a-21\">\n",
       "          <path fill=\"none\" d=\"M0,-40.52 L0,40.52 \" class=\"primitive\"/>\n",
       "        </g>\n",
       "        <g transform=\"translate(36.71,45.52)\" id=\"img-97f9f10a-22\">\n",
       "          <path fill=\"none\" d=\"M0,-40.52 L0,40.52 \" class=\"primitive\"/>\n",
       "        </g>\n",
       "        <g transform=\"translate(59.4,45.52)\" id=\"img-97f9f10a-23\">\n",
       "          <path fill=\"none\" d=\"M0,-40.52 L0,40.52 \" class=\"primitive\"/>\n",
       "        </g>\n",
       "        <g transform=\"translate(82.08,45.52)\" id=\"img-97f9f10a-24\">\n",
       "          <path fill=\"none\" d=\"M0,-40.52 L0,40.52 \" class=\"primitive\"/>\n",
       "        </g>\n",
       "        <g transform=\"translate(104.77,45.52)\" id=\"img-97f9f10a-25\">\n",
       "          <path fill=\"none\" d=\"M0,-40.52 L0,40.52 \" class=\"primitive\"/>\n",
       "        </g>\n",
       "        <g transform=\"translate(127.46,45.52)\" id=\"img-97f9f10a-26\">\n",
       "          <path fill=\"none\" d=\"M0,-40.52 L0,40.52 \" class=\"primitive\"/>\n",
       "        </g>\n",
       "      </g>\n",
       "      <g class=\"plotpanel\" id=\"img-97f9f10a-27\">\n",
       "        <metadata>\n",
       "          <boundingbox value=\"12.019999999999996mm 5.0mm 117.4413562373095mm 81.04333333333334mm\"/>\n",
       "          <unitbox value=\"-0.8815127332470237 102.5699822610652 51.76302546649405 -104.1399645221304\"/>\n",
       "        </metadata>\n",
       "        <g stroke-width=\"0.3\" fill=\"#000000\" fill-opacity=\"0.000\" class=\"geometry\" id=\"img-97f9f10a-28\">\n",
       "          <g class=\"color_LCHab{Float32}(70.0f0,60.0f0,240.0f0)\" stroke-dasharray=\"none\" stroke-opacity=\"1\" stroke=\"#00BFFF\" id=\"img-97f9f10a-29\">\n",
       "            <g transform=\"translate(70.74,33.13)\" id=\"img-97f9f10a-30\">\n",
       "              <path fill=\"none\" d=\"M-56.72,50.92 L-54.45,50.69 -52.18,50.39 -49.91,50 -47.65,49.5 -45.38,48.87 -43.11,48.05 -40.84,47 -38.57,45.68 -36.3,44.02 -34.03,41.94 -31.76,39.38 -29.49,36.27 -27.23,32.56 -24.96,28.23 -22.69,23.32 -20.42,17.91 -18.15,12.17 -15.88,6.34 -13.61,0.66 -11.34,-4.61 -9.08,-9.28 -6.81,-13.24 -4.54,-16.47 -2.27,-19 0,-20.94 2.27,-22.4 4.54,-23.46 6.81,-24.23 9.08,-24.79 11.34,-25.18 13.61,-25.46 15.88,-25.66 18.15,-25.8 20.42,-25.9 22.69,-25.96 24.96,-26.01 27.23,-26.05 29.49,-26.07 31.76,-26.09 34.03,-26.1 36.3,-26.11 38.57,-26.11 40.84,-26.12 43.11,-26.12 45.38,-26.12 47.65,-26.12 49.91,-26.12 52.18,-26.12 54.45,-26.12 56.72,-26.12 \" class=\"primitive\"/>\n",
       "            </g>\n",
       "          </g>\n",
       "        </g>\n",
       "      </g>\n",
       "    </g>\n",
       "  </g>\n",
       "  <g class=\"guide ylabels\" font-size=\"2.82\" font-family=\"'PT Sans Caption','Helvetica Neue','Helvetica',sans-serif\" fill=\"#6C606B\" id=\"img-97f9f10a-31\">\n",
       "    <g transform=\"translate(11.02,45.91)\" id=\"img-97f9f10a-32\">\n",
       "      <g class=\"primitive\">\n",
       "        <text text-anchor=\"end\" dy=\"0.35em\">50</text>\n",
       "      </g>\n",
       "    </g>\n",
       "    <g transform=\"translate(11.02,7)\" id=\"img-97f9f10a-33\">\n",
       "      <g class=\"primitive\">\n",
       "        <text text-anchor=\"end\" dy=\"0.35em\">100</text>\n",
       "      </g>\n",
       "    </g>\n",
       "  </g>\n",
       "</g>\n",
       "<defs>\n",
       "  <clipPath id=\"img-97f9f10a-13\">\n",
       "    <path d=\"M12.02,5 L129.46,5 129.46,86.04 12.02,86.04 \" />\n",
       "  </clipPath>\n",
       "</defs>\n",
       "</svg>\n"
      ],
      "text/plain": [
       "\"<Cropbox.Plot{Gadfly.Plot}>\""
      ]
     },
     "execution_count": 15,
     "metadata": {},
     "output_type": "execute_result"
    }
   ],
   "source": [
    "visualize(r13, :t, :W, kind = :line)"
   ]
  },
  {
   "cell_type": "code",
   "execution_count": 16,
   "metadata": {
    "tags": []
   },
   "outputs": [
    {
     "data": {
      "application/vnd.webio.node+json": {
       "children": [
        {
         "children": [
          "Logi"
         ],
         "instanceArgs": {
          "namespace": "html",
          "tag": "div"
         },
         "nodeType": "DOM",
         "props": {
          "style": {
           "color": "rebeccapurple",
           "font-family": "monospace"
          }
         },
         "type": "node"
        },
        {
         "children": [
          {
           "children": [
            {
             "children": [
              {
               "children": [
                {
                 "children": [
                  "μ"
                 ],
                 "instanceArgs": {
                  "namespace": "html",
                  "tag": "label"
                 },
                 "nodeType": "DOM",
                 "props": {
                  "className": "interact ",
                  "style": {
                   "color": "royalblue",
                   "padding": "5px 10px 0px 10px",
                   "white-space": "nowrap"
                  }
                 },
                 "type": "node"
                }
               ],
               "instanceArgs": {
                "namespace": "html",
                "tag": "div"
               },
               "nodeType": "DOM",
               "props": {
                "className": "interact-flex-row-left"
               },
               "type": "node"
              },
              {
               "children": [
                {
                 "children": [],
                 "instanceArgs": {
                  "namespace": "html",
                  "tag": "input"
                 },
                 "nodeType": "DOM",
                 "props": {
                  "attributes": {
                   "data-bind": "numericValue: index, valueUpdate: 'input', event: {change: function (){this.changes(this.changes()+1)}}",
                   "orient": "horizontal",
                   "type": "range"
                  },
                  "className": "slider slider is-fullwidth",
                  "max": 51,
                  "min": 1,
                  "step": 1,
                  "style": {}
                 },
                 "type": "node"
                }
               ],
               "instanceArgs": {
                "namespace": "html",
                "tag": "div"
               },
               "nodeType": "DOM",
               "props": {
                "className": "interact-flex-row-center"
               },
               "type": "node"
              },
              {
               "children": [
                {
                 "children": [],
                 "instanceArgs": {
                  "namespace": "html",
                  "tag": "p"
                 },
                 "nodeType": "DOM",
                 "props": {
                  "attributes": {
                   "data-bind": "text: formatted_val"
                  }
                 },
                 "type": "node"
                }
               ],
               "instanceArgs": {
                "namespace": "html",
                "tag": "div"
               },
               "nodeType": "DOM",
               "props": {
                "className": "interact-flex-row-right"
               },
               "type": "node"
              }
             ],
             "instanceArgs": {
              "namespace": "html",
              "tag": "div"
             },
             "nodeType": "DOM",
             "props": {
              "className": "interact-flex-row interact-widget",
              "style": {
               "font-family": "monospace",
               "width": "80%"
              }
             },
             "type": "node"
            }
           ],
           "instanceArgs": {
            "handlers": {
             "changes": [
              "(function (val){return (val!=this.model[\"changes\"]()) ? (this.valueFromJulia[\"changes\"]=true, this.model[\"changes\"](val)) : undefined})"
             ],
             "index": [
              "(function (val){return (val!=this.model[\"index\"]()) ? (this.valueFromJulia[\"index\"]=true, this.model[\"index\"](val)) : undefined})"
             ]
            },
            "id": "3966677962069238682",
            "imports": {
             "data": [
              {
               "name": "knockout",
               "type": "js",
               "url": "/assetserver/d749de49a15576291e39755d819be2408bf7f995-knockout.js"
              },
              {
               "name": "knockout_punches",
               "type": "js",
               "url": "/assetserver/9f5c86158cf79faf331cfb32636cb08a9b1f0dc2-knockout_punches.js"
              },
              {
               "name": null,
               "type": "js",
               "url": "/assetserver/96a65e6078e018eef9bba5cd6ed02b2635164c53-all.js"
              },
              {
               "name": null,
               "type": "css",
               "url": "/assetserver/98c9b8e9cfeaa0be2a6f3aa79abc5da0680c3037-style.css"
              },
              {
               "name": null,
               "type": "css",
               "url": "/assetserver/c5a1211d10b2f10049d85486a98c5e9063cad849-bulma_confined.min.css"
              }
             ],
             "type": "async_block"
            },
            "mount_callbacks": [
             "function () {\n    var handler = (function (ko, koPunches) {\n    ko.punches.enableAll();\n    ko.bindingHandlers.numericValue = {\n        init: function(element, valueAccessor, allBindings, data, context) {\n            var stringified = ko.observable(ko.unwrap(valueAccessor()));\n            stringified.subscribe(function(value) {\n                var val = parseFloat(value);\n                if (!isNaN(val)) {\n                    valueAccessor()(val);\n                }\n            });\n            valueAccessor().subscribe(function(value) {\n                var str = JSON.stringify(value);\n                if ((str == \"0\") && ([\"-0\", \"-0.\"].indexOf(stringified()) >= 0))\n                     return;\n                 if ([\"null\", \"\"].indexOf(str) >= 0)\n                     return;\n                stringified(str);\n            });\n            ko.applyBindingsToNode(\n                element,\n                {\n                    value: stringified,\n                    valueUpdate: allBindings.get('valueUpdate'),\n                },\n                context,\n            );\n        }\n    };\n    var json_data = {\"formatted_vals\":[\"0.0\",\"0.01\",\"0.02\",\"0.03\",\"0.04\",\"0.05\",\"0.06\",\"0.07\",\"0.08\",\"0.09\",\"0.1\",\"0.11\",\"0.12\",\"0.13\",\"0.14\",\"0.15\",\"0.16\",\"0.17\",\"0.18\",\"0.19\",\"0.2\",\"0.21\",\"0.22\",\"0.23\",\"0.24\",\"0.25\",\"0.26\",\"0.27\",\"0.28\",\"0.29\",\"0.3\",\"0.31\",\"0.32\",\"0.33\",\"0.34\",\"0.35\",\"0.36\",\"0.37\",\"0.38\",\"0.39\",\"0.4\",\"0.41\",\"0.42\",\"0.43\",\"0.44\",\"0.45\",\"0.46\",\"0.47\",\"0.48\",\"0.49\",\"0.5\"],\"changes\":WebIO.getval({\"name\":\"changes\",\"scope\":\"3966677962069238682\",\"id\":\"12723503513233104403\",\"type\":\"observable\"}),\"index\":WebIO.getval({\"name\":\"index\",\"scope\":\"3966677962069238682\",\"id\":\"2443612842257979954\",\"type\":\"observable\"})};\n    var self = this;\n    function AppViewModel() {\n        for (var key in json_data) {\n            var el = json_data[key];\n            this[key] = Array.isArray(el) ? ko.observableArray(el) : ko.observable(el);\n        }\n        \n        [this[\"formatted_val\"]=ko.computed(    function(){\n        return this.formatted_vals()[parseInt(this.index())-(1)];\n    }\n,this)]\n        [this[\"changes\"].subscribe((function (val){!(this.valueFromJulia[\"changes\"]) ? (WebIO.setval({\"name\":\"changes\",\"scope\":\"3966677962069238682\",\"id\":\"12723503513233104403\",\"type\":\"observable\"},val)) : undefined; return this.valueFromJulia[\"changes\"]=false}),self),this[\"index\"].subscribe((function (val){!(this.valueFromJulia[\"index\"]) ? (WebIO.setval({\"name\":\"index\",\"scope\":\"3966677962069238682\",\"id\":\"2443612842257979954\",\"type\":\"observable\"},val)) : undefined; return this.valueFromJulia[\"index\"]=false}),self)]\n        \n    }\n    self.model = new AppViewModel();\n    self.valueFromJulia = {};\n    for (var key in json_data) {\n        self.valueFromJulia[key] = false;\n    }\n    ko.applyBindings(self.model, self.dom);\n}\n);\n    (WebIO.importBlock({\"data\":[{\"name\":\"knockout\",\"type\":\"js\",\"url\":\"/assetserver/d749de49a15576291e39755d819be2408bf7f995-knockout.js\"},{\"name\":\"knockout_punches\",\"type\":\"js\",\"url\":\"/assetserver/9f5c86158cf79faf331cfb32636cb08a9b1f0dc2-knockout_punches.js\"}],\"type\":\"async_block\"})).then((imports) => handler.apply(this, imports));\n}\n"
            ],
            "observables": {
             "changes": {
              "id": "12723503513233104403",
              "sync": true,
              "value": 0
             },
             "index": {
              "id": "2443612842257979954",
              "sync": true,
              "value": 26
             }
            },
            "systemjs_options": null
           },
           "nodeType": "Scope",
           "props": {},
           "type": "node"
          }
         ],
         "instanceArgs": {
          "namespace": "html",
          "tag": "div"
         },
         "nodeType": "DOM",
         "props": {
          "className": "field interact-widget"
         },
         "type": "node"
        },
        {
         "children": [
          {
           "children": [
            {
             "children": [
              {
               "children": [
                {
                 "children": [
                  "W0"
                 ],
                 "instanceArgs": {
                  "namespace": "html",
                  "tag": "label"
                 },
                 "nodeType": "DOM",
                 "props": {
                  "className": "interact ",
                  "style": {
                   "color": "royalblue",
                   "padding": "5px 10px 0px 10px",
                   "white-space": "nowrap"
                  }
                 },
                 "type": "node"
                }
               ],
               "instanceArgs": {
                "namespace": "html",
                "tag": "div"
               },
               "nodeType": "DOM",
               "props": {
                "className": "interact-flex-row-left"
               },
               "type": "node"
              },
              {
               "children": [
                {
                 "children": [],
                 "instanceArgs": {
                  "namespace": "html",
                  "tag": "input"
                 },
                 "nodeType": "DOM",
                 "props": {
                  "attributes": {
                   "data-bind": "numericValue: index, valueUpdate: 'input', event: {change: function (){this.changes(this.changes()+1)}}",
                   "orient": "horizontal",
                   "type": "range"
                  },
                  "className": "slider slider is-fullwidth",
                  "max": 101,
                  "min": 1,
                  "step": 1,
                  "style": {}
                 },
                 "type": "node"
                }
               ],
               "instanceArgs": {
                "namespace": "html",
                "tag": "div"
               },
               "nodeType": "DOM",
               "props": {
                "className": "interact-flex-row-center"
               },
               "type": "node"
              },
              {
               "children": [
                {
                 "children": [],
                 "instanceArgs": {
                  "namespace": "html",
                  "tag": "p"
                 },
                 "nodeType": "DOM",
                 "props": {
                  "attributes": {
                   "data-bind": "text: formatted_val"
                  }
                 },
                 "type": "node"
                }
               ],
               "instanceArgs": {
                "namespace": "html",
                "tag": "div"
               },
               "nodeType": "DOM",
               "props": {
                "className": "interact-flex-row-right"
               },
               "type": "node"
              }
             ],
             "instanceArgs": {
              "namespace": "html",
              "tag": "div"
             },
             "nodeType": "DOM",
             "props": {
              "className": "interact-flex-row interact-widget",
              "style": {
               "font-family": "monospace",
               "width": "80%"
              }
             },
             "type": "node"
            }
           ],
           "instanceArgs": {
            "handlers": {
             "changes": [
              "(function (val){return (val!=this.model[\"changes\"]()) ? (this.valueFromJulia[\"changes\"]=true, this.model[\"changes\"](val)) : undefined})"
             ],
             "index": [
              "(function (val){return (val!=this.model[\"index\"]()) ? (this.valueFromJulia[\"index\"]=true, this.model[\"index\"](val)) : undefined})"
             ]
            },
            "id": "16020679144057788239",
            "imports": {
             "data": [
              {
               "name": "knockout",
               "type": "js",
               "url": "/assetserver/d749de49a15576291e39755d819be2408bf7f995-knockout.js"
              },
              {
               "name": "knockout_punches",
               "type": "js",
               "url": "/assetserver/9f5c86158cf79faf331cfb32636cb08a9b1f0dc2-knockout_punches.js"
              },
              {
               "name": null,
               "type": "js",
               "url": "/assetserver/96a65e6078e018eef9bba5cd6ed02b2635164c53-all.js"
              },
              {
               "name": null,
               "type": "css",
               "url": "/assetserver/98c9b8e9cfeaa0be2a6f3aa79abc5da0680c3037-style.css"
              },
              {
               "name": null,
               "type": "css",
               "url": "/assetserver/c5a1211d10b2f10049d85486a98c5e9063cad849-bulma_confined.min.css"
              }
             ],
             "type": "async_block"
            },
            "mount_callbacks": [
             "function () {\n    var handler = (function (ko, koPunches) {\n    ko.punches.enableAll();\n    ko.bindingHandlers.numericValue = {\n        init: function(element, valueAccessor, allBindings, data, context) {\n            var stringified = ko.observable(ko.unwrap(valueAccessor()));\n            stringified.subscribe(function(value) {\n                var val = parseFloat(value);\n                if (!isNaN(val)) {\n                    valueAccessor()(val);\n                }\n            });\n            valueAccessor().subscribe(function(value) {\n                var str = JSON.stringify(value);\n                if ((str == \"0\") && ([\"-0\", \"-0.\"].indexOf(stringified()) >= 0))\n                     return;\n                 if ([\"null\", \"\"].indexOf(str) >= 0)\n                     return;\n                stringified(str);\n            });\n            ko.applyBindingsToNode(\n                element,\n                {\n                    value: stringified,\n                    valueUpdate: allBindings.get('valueUpdate'),\n                },\n                context,\n            );\n        }\n    };\n    var json_data = {\"formatted_vals\":[\"0.0\",\"0.1\",\"0.2\",\"0.3\",\"0.4\",\"0.5\",\"0.6\",\"0.7\",\"0.8\",\"0.9\",\"1.0\",\"1.1\",\"1.2\",\"1.3\",\"1.4\",\"1.5\",\"1.6\",\"1.7\",\"1.8\",\"1.9\",\"2.0\",\"2.1\",\"2.2\",\"2.3\",\"2.4\",\"2.5\",\"2.6\",\"2.7\",\"2.8\",\"2.9\",\"3.0\",\"3.1\",\"3.2\",\"3.3\",\"3.4\",\"3.5\",\"3.6\",\"3.7\",\"3.8\",\"3.9\",\"4.0\",\"4.1\",\"4.2\",\"4.3\",\"4.4\",\"4.5\",\"4.6\",\"4.7\",\"4.8\",\"4.9\",\"5.0\",\"5.1\",\"5.2\",\"5.3\",\"5.4\",\"5.5\",\"5.6\",\"5.7\",\"5.8\",\"5.9\",\"6.0\",\"6.1\",\"6.2\",\"6.3\",\"6.4\",\"6.5\",\"6.6\",\"6.7\",\"6.8\",\"6.9\",\"7.0\",\"7.1\",\"7.2\",\"7.3\",\"7.4\",\"7.5\",\"7.6\",\"7.7\",\"7.8\",\"7.9\",\"8.0\",\"8.1\",\"8.2\",\"8.3\",\"8.4\",\"8.5\",\"8.6\",\"8.7\",\"8.8\",\"8.9\",\"9.0\",\"9.1\",\"9.2\",\"9.3\",\"9.4\",\"9.5\",\"9.6\",\"9.7\",\"9.8\",\"9.9\",\"10.0\"],\"changes\":WebIO.getval({\"name\":\"changes\",\"scope\":\"16020679144057788239\",\"id\":\"647806031206214739\",\"type\":\"observable\"}),\"index\":WebIO.getval({\"name\":\"index\",\"scope\":\"16020679144057788239\",\"id\":\"14042600754140583102\",\"type\":\"observable\"})};\n    var self = this;\n    function AppViewModel() {\n        for (var key in json_data) {\n            var el = json_data[key];\n            this[key] = Array.isArray(el) ? ko.observableArray(el) : ko.observable(el);\n        }\n        \n        [this[\"formatted_val\"]=ko.computed(    function(){\n        return this.formatted_vals()[parseInt(this.index())-(1)];\n    }\n,this)]\n        [this[\"changes\"].subscribe((function (val){!(this.valueFromJulia[\"changes\"]) ? (WebIO.setval({\"name\":\"changes\",\"scope\":\"16020679144057788239\",\"id\":\"647806031206214739\",\"type\":\"observable\"},val)) : undefined; return this.valueFromJulia[\"changes\"]=false}),self),this[\"index\"].subscribe((function (val){!(this.valueFromJulia[\"index\"]) ? (WebIO.setval({\"name\":\"index\",\"scope\":\"16020679144057788239\",\"id\":\"14042600754140583102\",\"type\":\"observable\"},val)) : undefined; return this.valueFromJulia[\"index\"]=false}),self)]\n        \n    }\n    self.model = new AppViewModel();\n    self.valueFromJulia = {};\n    for (var key in json_data) {\n        self.valueFromJulia[key] = false;\n    }\n    ko.applyBindings(self.model, self.dom);\n}\n);\n    (WebIO.importBlock({\"data\":[{\"name\":\"knockout\",\"type\":\"js\",\"url\":\"/assetserver/d749de49a15576291e39755d819be2408bf7f995-knockout.js\"},{\"name\":\"knockout_punches\",\"type\":\"js\",\"url\":\"/assetserver/9f5c86158cf79faf331cfb32636cb08a9b1f0dc2-knockout_punches.js\"}],\"type\":\"async_block\"})).then((imports) => handler.apply(this, imports));\n}\n"
            ],
            "observables": {
             "changes": {
              "id": "647806031206214739",
              "sync": true,
              "value": 0
             },
             "index": {
              "id": "14042600754140583102",
              "sync": true,
              "value": 51
             }
            },
            "systemjs_options": null
           },
           "nodeType": "Scope",
           "props": {},
           "type": "node"
          }
         ],
         "instanceArgs": {
          "namespace": "html",
          "tag": "div"
         },
         "nodeType": "DOM",
         "props": {
          "className": "field interact-widget"
         },
         "type": "node"
        },
        {
         "children": [
          {
           "children": [
            {
             "children": [
              {
               "children": [
                {
                 "children": [
                  "Wf"
                 ],
                 "instanceArgs": {
                  "namespace": "html",
                  "tag": "label"
                 },
                 "nodeType": "DOM",
                 "props": {
                  "className": "interact ",
                  "style": {
                   "color": "royalblue",
                   "padding": "5px 10px 0px 10px",
                   "white-space": "nowrap"
                  }
                 },
                 "type": "node"
                }
               ],
               "instanceArgs": {
                "namespace": "html",
                "tag": "div"
               },
               "nodeType": "DOM",
               "props": {
                "className": "interact-flex-row-left"
               },
               "type": "node"
              },
              {
               "children": [
                {
                 "children": [],
                 "instanceArgs": {
                  "namespace": "html",
                  "tag": "input"
                 },
                 "nodeType": "DOM",
                 "props": {
                  "attributes": {
                   "data-bind": "numericValue: index, valueUpdate: 'input', event: {change: function (){this.changes(this.changes()+1)}}",
                   "orient": "horizontal",
                   "type": "range"
                  },
                  "className": "slider slider is-fullwidth",
                  "max": 20,
                  "min": 1,
                  "step": 1,
                  "style": {}
                 },
                 "type": "node"
                }
               ],
               "instanceArgs": {
                "namespace": "html",
                "tag": "div"
               },
               "nodeType": "DOM",
               "props": {
                "className": "interact-flex-row-center"
               },
               "type": "node"
              },
              {
               "children": [
                {
                 "children": [],
                 "instanceArgs": {
                  "namespace": "html",
                  "tag": "p"
                 },
                 "nodeType": "DOM",
                 "props": {
                  "attributes": {
                   "data-bind": "text: formatted_val"
                  }
                 },
                 "type": "node"
                }
               ],
               "instanceArgs": {
                "namespace": "html",
                "tag": "div"
               },
               "nodeType": "DOM",
               "props": {
                "className": "interact-flex-row-right"
               },
               "type": "node"
              }
             ],
             "instanceArgs": {
              "namespace": "html",
              "tag": "div"
             },
             "nodeType": "DOM",
             "props": {
              "className": "interact-flex-row interact-widget",
              "style": {
               "font-family": "monospace",
               "width": "80%"
              }
             },
             "type": "node"
            }
           ],
           "instanceArgs": {
            "handlers": {
             "changes": [
              "(function (val){return (val!=this.model[\"changes\"]()) ? (this.valueFromJulia[\"changes\"]=true, this.model[\"changes\"](val)) : undefined})"
             ],
             "index": [
              "(function (val){return (val!=this.model[\"index\"]()) ? (this.valueFromJulia[\"index\"]=true, this.model[\"index\"](val)) : undefined})"
             ]
            },
            "id": "5962539331190476740",
            "imports": {
             "data": [
              {
               "name": "knockout",
               "type": "js",
               "url": "/assetserver/d749de49a15576291e39755d819be2408bf7f995-knockout.js"
              },
              {
               "name": "knockout_punches",
               "type": "js",
               "url": "/assetserver/9f5c86158cf79faf331cfb32636cb08a9b1f0dc2-knockout_punches.js"
              },
              {
               "name": null,
               "type": "js",
               "url": "/assetserver/96a65e6078e018eef9bba5cd6ed02b2635164c53-all.js"
              },
              {
               "name": null,
               "type": "css",
               "url": "/assetserver/98c9b8e9cfeaa0be2a6f3aa79abc5da0680c3037-style.css"
              },
              {
               "name": null,
               "type": "css",
               "url": "/assetserver/c5a1211d10b2f10049d85486a98c5e9063cad849-bulma_confined.min.css"
              }
             ],
             "type": "async_block"
            },
            "mount_callbacks": [
             "function () {\n    var handler = (function (ko, koPunches) {\n    ko.punches.enableAll();\n    ko.bindingHandlers.numericValue = {\n        init: function(element, valueAccessor, allBindings, data, context) {\n            var stringified = ko.observable(ko.unwrap(valueAccessor()));\n            stringified.subscribe(function(value) {\n                var val = parseFloat(value);\n                if (!isNaN(val)) {\n                    valueAccessor()(val);\n                }\n            });\n            valueAccessor().subscribe(function(value) {\n                var str = JSON.stringify(value);\n                if ((str == \"0\") && ([\"-0\", \"-0.\"].indexOf(stringified()) >= 0))\n                     return;\n                 if ([\"null\", \"\"].indexOf(str) >= 0)\n                     return;\n                stringified(str);\n            });\n            ko.applyBindingsToNode(\n                element,\n                {\n                    value: stringified,\n                    valueUpdate: allBindings.get('valueUpdate'),\n                },\n                context,\n            );\n        }\n    };\n    var json_data = {\"formatted_vals\":[\"10\",\"20\",\"30\",\"40\",\"50\",\"60\",\"70\",\"80\",\"90\",\"100\",\"110\",\"120\",\"130\",\"140\",\"150\",\"160\",\"170\",\"180\",\"190\",\"200\"],\"changes\":WebIO.getval({\"name\":\"changes\",\"scope\":\"5962539331190476740\",\"id\":\"7877352850598515692\",\"type\":\"observable\"}),\"index\":WebIO.getval({\"name\":\"index\",\"scope\":\"5962539331190476740\",\"id\":\"17359439045876514770\",\"type\":\"observable\"})};\n    var self = this;\n    function AppViewModel() {\n        for (var key in json_data) {\n            var el = json_data[key];\n            this[key] = Array.isArray(el) ? ko.observableArray(el) : ko.observable(el);\n        }\n        \n        [this[\"formatted_val\"]=ko.computed(    function(){\n        return this.formatted_vals()[parseInt(this.index())-(1)];\n    }\n,this)]\n        [this[\"changes\"].subscribe((function (val){!(this.valueFromJulia[\"changes\"]) ? (WebIO.setval({\"name\":\"changes\",\"scope\":\"5962539331190476740\",\"id\":\"7877352850598515692\",\"type\":\"observable\"},val)) : undefined; return this.valueFromJulia[\"changes\"]=false}),self),this[\"index\"].subscribe((function (val){!(this.valueFromJulia[\"index\"]) ? (WebIO.setval({\"name\":\"index\",\"scope\":\"5962539331190476740\",\"id\":\"17359439045876514770\",\"type\":\"observable\"},val)) : undefined; return this.valueFromJulia[\"index\"]=false}),self)]\n        \n    }\n    self.model = new AppViewModel();\n    self.valueFromJulia = {};\n    for (var key in json_data) {\n        self.valueFromJulia[key] = false;\n    }\n    ko.applyBindings(self.model, self.dom);\n}\n);\n    (WebIO.importBlock({\"data\":[{\"name\":\"knockout\",\"type\":\"js\",\"url\":\"/assetserver/d749de49a15576291e39755d819be2408bf7f995-knockout.js\"},{\"name\":\"knockout_punches\",\"type\":\"js\",\"url\":\"/assetserver/9f5c86158cf79faf331cfb32636cb08a9b1f0dc2-knockout_punches.js\"}],\"type\":\"async_block\"})).then((imports) => handler.apply(this, imports));\n}\n"
            ],
            "observables": {
             "changes": {
              "id": "7877352850598515692",
              "sync": true,
              "value": 0
             },
             "index": {
              "id": "17359439045876514770",
              "sync": true,
              "value": 10
             }
            },
            "systemjs_options": null
           },
           "nodeType": "Scope",
           "props": {},
           "type": "node"
          }
         ],
         "instanceArgs": {
          "namespace": "html",
          "tag": "div"
         },
         "nodeType": "DOM",
         "props": {
          "className": "field interact-widget"
         },
         "type": "node"
        },
        {
         "children": [
          {
           "children": [],
           "instanceArgs": {
            "namespace": "html",
            "tag": "div"
           },
           "nodeType": "DOM",
           "props": {
            "className": "webio-observable",
            "setInnerHtml": "<?xml version=\"1.0\" encoding=\"UTF-8\"?>\n<svg xmlns=\"http://www.w3.org/2000/svg\"\n     xmlns:xlink=\"http://www.w3.org/1999/xlink\"\n     xmlns:gadfly=\"http://www.gadflyjl.org/ns\"\n     version=\"1.2\"\n     width=\"141.42mm\" height=\"100mm\" viewBox=\"0 0 141.42 100\"\n     stroke=\"none\"\n     fill=\"#000000\"\n     stroke-width=\"0.3\"\n     font-size=\"3.88\"\n>\n<defs>\n  <marker id=\"arrow\" markerWidth=\"15\" markerHeight=\"7\" refX=\"5\" refY=\"3.5\" orient=\"auto\" markerUnits=\"strokeWidth\">\n    <path d=\"M0,0 L15,3.5 L0,7 z\" stroke=\"context-stroke\" fill=\"context-stroke\"/>\n  </marker>\n</defs>\n<g stroke=\"#000000\" stroke-opacity=\"0.000\" fill=\"#FFFFFF\" id=\"img-d6fe65d4-1\">\n  <g transform=\"translate(70.71,50)\">\n    <path d=\"M-70.71,-50 L70.71,-50 70.71,50 -70.71,50  z\" class=\"primitive\"/>\n  </g>\n</g>\n<g class=\"plotroot xscalable yscalable\" id=\"img-d6fe65d4-2\">\n  <g font-size=\"3.53\" font-family=\"'PT Sans','Helvetica Neue','Helvetica',sans-serif\" fill=\"#564A55\" stroke=\"#000000\" stroke-opacity=\"0.000\" id=\"img-d6fe65d4-3\">\n    <g transform=\"translate(77.68,93.72)\">\n      <g class=\"primitive\">\n        <text text-anchor=\"middle\" dy=\"0.6em\">t</text>\n      </g>\n    </g>\n  </g>\n  <g class=\"guide xlabels\" font-size=\"2.82\" font-family=\"'PT Sans Caption','Helvetica Neue','Helvetica',sans-serif\" fill=\"#6C606B\" id=\"img-d6fe65d4-4\">\n    <g transform=\"translate(20.94,87.04)\">\n      <g class=\"primitive\">\n        <text text-anchor=\"middle\" dy=\"0.6em\">0</text>\n      </g>\n    </g>\n    <g transform=\"translate(77.68,87.04)\">\n      <g class=\"primitive\">\n        <text text-anchor=\"middle\" dy=\"0.6em\">50</text>\n      </g>\n    </g>\n    <g transform=\"translate(134.42,87.04)\">\n      <g class=\"primitive\">\n        <text text-anchor=\"middle\" dy=\"0.6em\">100</text>\n      </g>\n    </g>\n  </g>\n  <g clip-path=\"url(#img-d6fe65d4-5)\">\n    <g id=\"img-d6fe65d4-6\">\n      <g pointer-events=\"visible\" stroke-width=\"0.3\" fill=\"#000000\" fill-opacity=\"0.000\" stroke=\"#000000\" stroke-opacity=\"0.000\" class=\"guide background\" id=\"img-d6fe65d4-7\">\n        <g transform=\"translate(77.68,45.52)\" id=\"img-d6fe65d4-8\">\n          <path d=\"M-58.74,-40.52 L58.74,-40.52 58.74,40.52 -58.74,40.52  z\" class=\"primitive\"/>\n        </g>\n      </g>\n      <g class=\"guide ygridlines xfixed\" stroke-dasharray=\"0.5,0.5\" stroke-width=\"0.2\" stroke=\"#D0D0E0\" id=\"img-d6fe65d4-9\">\n        <g transform=\"translate(77.68,84.04)\" id=\"img-d6fe65d4-10\">\n          <path fill=\"none\" d=\"M-58.74,0 L58.74,0 \" class=\"primitive\"/>\n        </g>\n        <g transform=\"translate(77.68,64.78)\" id=\"img-d6fe65d4-11\">\n          <path fill=\"none\" d=\"M-58.74,0 L58.74,0 \" class=\"primitive\"/>\n        </g>\n        <g transform=\"translate(77.68,45.52)\" id=\"img-d6fe65d4-12\">\n          <path fill=\"none\" d=\"M-58.74,0 L58.74,0 \" class=\"primitive\"/>\n        </g>\n        <g transform=\"translate(77.68,26.26)\" id=\"img-d6fe65d4-13\">\n          <path fill=\"none\" d=\"M-58.74,0 L58.74,0 \" class=\"primitive\"/>\n        </g>\n        <g transform=\"translate(77.68,7)\" id=\"img-d6fe65d4-14\">\n          <path fill=\"none\" d=\"M-58.74,0 L58.74,0 \" class=\"primitive\"/>\n        </g>\n      </g>\n      <g class=\"guide xgridlines yfixed\" stroke-dasharray=\"0.5,0.5\" stroke-width=\"0.2\" stroke=\"#D0D0E0\" id=\"img-d6fe65d4-15\">\n        <g transform=\"translate(20.94,45.52)\" id=\"img-d6fe65d4-16\">\n          <path fill=\"none\" d=\"M0,-40.52 L0,40.52 \" class=\"primitive\"/>\n        </g>\n        <g transform=\"translate(77.68,45.52)\" id=\"img-d6fe65d4-17\">\n          <path fill=\"none\" d=\"M0,-40.52 L0,40.52 \" class=\"primitive\"/>\n        </g>\n        <g transform=\"translate(134.42,45.52)\" id=\"img-d6fe65d4-18\">\n          <path fill=\"none\" d=\"M0,-40.52 L0,40.52 \" class=\"primitive\"/>\n        </g>\n      </g>\n      <g class=\"plotpanel\" id=\"img-d6fe65d4-19\">\n        <metadata>\n          <boundingbox value=\"18.936666666666667mm 5.0mm 117.48468957064284mm 81.04333333333335mm\"/>\n          <unitbox value=\"-1.762352267576169 205.19188335568728 103.52470453515235 -210.38376671137456\"/>\n        </metadata>\n        <g stroke-width=\"0.3\" fill=\"#000000\" fill-opacity=\"0.000\" class=\"geometry\" id=\"img-d6fe65d4-20\">\n          <g class=\"color_LCHab{Float32}(70.0f0,60.0f0,240.0f0)\" stroke-dasharray=\"none\" stroke-opacity=\"1\" stroke=\"#00BFFF\" id=\"img-d6fe65d4-21\">\n            <g transform=\"translate(77.68,50.48)\" id=\"img-d6fe65d4-22\">\n              <path fill=\"none\" d=\"M-56.74,31.64 L-55.61,31.18 -54.47,30.62 -53.34,29.94 -52.2,29.12 -51.07,28.14 -49.93,26.97 -48.8,25.61 -47.66,24.03 -46.53,22.24 -45.39,20.24 -44.26,18.06 -43.12,15.74 -41.99,13.35 -40.85,10.95 -39.72,8.61 -38.58,6.41 -37.45,4.41 -36.32,2.64 -35.18,1.11 -34.05,-0.17 -32.91,-1.21 -31.78,-2.06 -30.64,-2.73 -29.51,-3.25 -28.37,-3.66 -27.24,-3.98 -26.1,-4.21 -24.97,-4.4 -23.83,-4.54 -22.7,-4.64 -21.56,-4.72 -20.43,-4.78 -19.29,-4.82 -18.16,-4.86 -17.02,-4.88 -15.89,-4.9 -14.75,-4.92 -13.62,-4.93 -12.48,-4.93 -11.35,-4.94 -10.21,-4.95 -9.08,-4.95 -7.94,-4.95 -6.81,-4.95 -5.67,-4.95 -4.54,-4.96 -3.4,-4.96 -2.27,-4.96 -1.13,-4.96 0,-4.96 1.13,-4.96 2.27,-4.96 3.4,-4.96 4.54,-4.96 5.67,-4.96 6.81,-4.96 7.94,-4.96 9.08,-4.96 10.21,-4.96 11.35,-4.96 12.48,-4.96 13.62,-4.96 14.75,-4.96 15.89,-4.96 17.02,-4.96 18.16,-4.96 19.29,-4.96 20.43,-4.96 21.56,-4.96 22.7,-4.96 23.83,-4.96 24.97,-4.96 26.1,-4.96 27.24,-4.96 28.37,-4.96 29.51,-4.96 30.64,-4.96 31.78,-4.96 32.91,-4.96 34.05,-4.96 35.18,-4.96 36.32,-4.96 37.45,-4.96 38.58,-4.96 39.72,-4.96 40.85,-4.96 41.99,-4.96 43.12,-4.96 44.26,-4.96 45.39,-4.96 46.53,-4.96 47.66,-4.96 48.8,-4.96 49.93,-4.96 51.07,-4.96 52.2,-4.96 53.34,-4.96 54.47,-4.96 55.61,-4.96 56.74,-4.96 \" class=\"primitive\"/>\n            </g>\n          </g>\n        </g>\n      </g>\n    </g>\n  </g>\n  <g class=\"guide ylabels\" font-size=\"2.82\" font-family=\"'PT Sans Caption','Helvetica Neue','Helvetica',sans-serif\" fill=\"#6C606B\" id=\"img-d6fe65d4-23\">\n    <g transform=\"translate(17.94,84.04)\" id=\"img-d6fe65d4-24\">\n      <g class=\"primitive\">\n        <text text-anchor=\"end\" dy=\"0.35em\">0</text>\n      </g>\n    </g>\n    <g transform=\"translate(17.94,64.78)\" id=\"img-d6fe65d4-25\">\n      <g class=\"primitive\">\n        <text text-anchor=\"end\" dy=\"0.35em\">50</text>\n      </g>\n    </g>\n    <g transform=\"translate(17.94,45.52)\" id=\"img-d6fe65d4-26\">\n      <g class=\"primitive\">\n        <text text-anchor=\"end\" dy=\"0.35em\">100</text>\n      </g>\n    </g>\n    <g transform=\"translate(17.94,26.26)\" id=\"img-d6fe65d4-27\">\n      <g class=\"primitive\">\n        <text text-anchor=\"end\" dy=\"0.35em\">150</text>\n      </g>\n    </g>\n    <g transform=\"translate(17.94,7)\" id=\"img-d6fe65d4-28\">\n      <g class=\"primitive\">\n        <text text-anchor=\"end\" dy=\"0.35em\">200</text>\n      </g>\n    </g>\n  </g>\n  <g font-size=\"3.53\" font-family=\"'PT Sans','Helvetica Neue','Helvetica',sans-serif\" fill=\"#564A55\" stroke=\"#000000\" stroke-opacity=\"0.000\" id=\"img-d6fe65d4-29\">\n    <g transform=\"translate(9.92,45.52)\" id=\"img-d6fe65d4-30\">\n      <g class=\"primitive\">\n        <text text-anchor=\"end\" dy=\"0.35em\">W</text>\n      </g>\n    </g>\n  </g>\n</g>\n<defs>\n  <clipPath id=\"img-d6fe65d4-5\">\n    <path d=\"M18.94,5 L136.42,5 136.42,86.04 18.94,86.04 \" />\n  </clipPath>\n</defs>\n</svg>\n"
           },
           "type": "node"
          }
         ],
         "instanceArgs": {
          "handlers": {
           "obs-output": [
            "function (value, scope) {\n    scope.setInnerHTML(value);\n}\n"
           ]
          },
          "id": "8090750405361245404",
          "imports": {
           "data": [],
           "type": "async_block"
          },
          "mount_callbacks": [],
          "observables": {
           "obs-output": {
            "id": "12881747260463496486",
            "sync": false,
            "value": "<?xml version=\"1.0\" encoding=\"UTF-8\"?>\n<svg xmlns=\"http://www.w3.org/2000/svg\"\n     xmlns:xlink=\"http://www.w3.org/1999/xlink\"\n     xmlns:gadfly=\"http://www.gadflyjl.org/ns\"\n     version=\"1.2\"\n     width=\"141.42mm\" height=\"100mm\" viewBox=\"0 0 141.42 100\"\n     stroke=\"none\"\n     fill=\"#000000\"\n     stroke-width=\"0.3\"\n     font-size=\"3.88\"\n>\n<defs>\n  <marker id=\"arrow\" markerWidth=\"15\" markerHeight=\"7\" refX=\"5\" refY=\"3.5\" orient=\"auto\" markerUnits=\"strokeWidth\">\n    <path d=\"M0,0 L15,3.5 L0,7 z\" stroke=\"context-stroke\" fill=\"context-stroke\"/>\n  </marker>\n</defs>\n<g stroke=\"#000000\" stroke-opacity=\"0.000\" fill=\"#FFFFFF\" id=\"img-d6fe65d4-1\">\n  <g transform=\"translate(70.71,50)\">\n    <path d=\"M-70.71,-50 L70.71,-50 70.71,50 -70.71,50  z\" class=\"primitive\"/>\n  </g>\n</g>\n<g class=\"plotroot xscalable yscalable\" id=\"img-d6fe65d4-2\">\n  <g font-size=\"3.53\" font-family=\"'PT Sans','Helvetica Neue','Helvetica',sans-serif\" fill=\"#564A55\" stroke=\"#000000\" stroke-opacity=\"0.000\" id=\"img-d6fe65d4-3\">\n    <g transform=\"translate(77.68,93.72)\">\n      <g class=\"primitive\">\n        <text text-anchor=\"middle\" dy=\"0.6em\">t</text>\n      </g>\n    </g>\n  </g>\n  <g class=\"guide xlabels\" font-size=\"2.82\" font-family=\"'PT Sans Caption','Helvetica Neue','Helvetica',sans-serif\" fill=\"#6C606B\" id=\"img-d6fe65d4-4\">\n    <g transform=\"translate(20.94,87.04)\">\n      <g class=\"primitive\">\n        <text text-anchor=\"middle\" dy=\"0.6em\">0</text>\n      </g>\n    </g>\n    <g transform=\"translate(77.68,87.04)\">\n      <g class=\"primitive\">\n        <text text-anchor=\"middle\" dy=\"0.6em\">50</text>\n      </g>\n    </g>\n    <g transform=\"translate(134.42,87.04)\">\n      <g class=\"primitive\">\n        <text text-anchor=\"middle\" dy=\"0.6em\">100</text>\n      </g>\n    </g>\n  </g>\n  <g clip-path=\"url(#img-d6fe65d4-5)\">\n    <g id=\"img-d6fe65d4-6\">\n      <g pointer-events=\"visible\" stroke-width=\"0.3\" fill=\"#000000\" fill-opacity=\"0.000\" stroke=\"#000000\" stroke-opacity=\"0.000\" class=\"guide background\" id=\"img-d6fe65d4-7\">\n        <g transform=\"translate(77.68,45.52)\" id=\"img-d6fe65d4-8\">\n          <path d=\"M-58.74,-40.52 L58.74,-40.52 58.74,40.52 -58.74,40.52  z\" class=\"primitive\"/>\n        </g>\n      </g>\n      <g class=\"guide ygridlines xfixed\" stroke-dasharray=\"0.5,0.5\" stroke-width=\"0.2\" stroke=\"#D0D0E0\" id=\"img-d6fe65d4-9\">\n        <g transform=\"translate(77.68,84.04)\" id=\"img-d6fe65d4-10\">\n          <path fill=\"none\" d=\"M-58.74,0 L58.74,0 \" class=\"primitive\"/>\n        </g>\n        <g transform=\"translate(77.68,64.78)\" id=\"img-d6fe65d4-11\">\n          <path fill=\"none\" d=\"M-58.74,0 L58.74,0 \" class=\"primitive\"/>\n        </g>\n        <g transform=\"translate(77.68,45.52)\" id=\"img-d6fe65d4-12\">\n          <path fill=\"none\" d=\"M-58.74,0 L58.74,0 \" class=\"primitive\"/>\n        </g>\n        <g transform=\"translate(77.68,26.26)\" id=\"img-d6fe65d4-13\">\n          <path fill=\"none\" d=\"M-58.74,0 L58.74,0 \" class=\"primitive\"/>\n        </g>\n        <g transform=\"translate(77.68,7)\" id=\"img-d6fe65d4-14\">\n          <path fill=\"none\" d=\"M-58.74,0 L58.74,0 \" class=\"primitive\"/>\n        </g>\n      </g>\n      <g class=\"guide xgridlines yfixed\" stroke-dasharray=\"0.5,0.5\" stroke-width=\"0.2\" stroke=\"#D0D0E0\" id=\"img-d6fe65d4-15\">\n        <g transform=\"translate(20.94,45.52)\" id=\"img-d6fe65d4-16\">\n          <path fill=\"none\" d=\"M0,-40.52 L0,40.52 \" class=\"primitive\"/>\n        </g>\n        <g transform=\"translate(77.68,45.52)\" id=\"img-d6fe65d4-17\">\n          <path fill=\"none\" d=\"M0,-40.52 L0,40.52 \" class=\"primitive\"/>\n        </g>\n        <g transform=\"translate(134.42,45.52)\" id=\"img-d6fe65d4-18\">\n          <path fill=\"none\" d=\"M0,-40.52 L0,40.52 \" class=\"primitive\"/>\n        </g>\n      </g>\n      <g class=\"plotpanel\" id=\"img-d6fe65d4-19\">\n        <metadata>\n          <boundingbox value=\"18.936666666666667mm 5.0mm 117.48468957064284mm 81.04333333333335mm\"/>\n          <unitbox value=\"-1.762352267576169 205.19188335568728 103.52470453515235 -210.38376671137456\"/>\n        </metadata>\n        <g stroke-width=\"0.3\" fill=\"#000000\" fill-opacity=\"0.000\" class=\"geometry\" id=\"img-d6fe65d4-20\">\n          <g class=\"color_LCHab{Float32}(70.0f0,60.0f0,240.0f0)\" stroke-dasharray=\"none\" stroke-opacity=\"1\" stroke=\"#00BFFF\" id=\"img-d6fe65d4-21\">\n            <g transform=\"translate(77.68,50.48)\" id=\"img-d6fe65d4-22\">\n              <path fill=\"none\" d=\"M-56.74,31.64 L-55.61,31.18 -54.47,30.62 -53.34,29.94 -52.2,29.12 -51.07,28.14 -49.93,26.97 -48.8,25.61 -47.66,24.03 -46.53,22.24 -45.39,20.24 -44.26,18.06 -43.12,15.74 -41.99,13.35 -40.85,10.95 -39.72,8.61 -38.58,6.41 -37.45,4.41 -36.32,2.64 -35.18,1.11 -34.05,-0.17 -32.91,-1.21 -31.78,-2.06 -30.64,-2.73 -29.51,-3.25 -28.37,-3.66 -27.24,-3.98 -26.1,-4.21 -24.97,-4.4 -23.83,-4.54 -22.7,-4.64 -21.56,-4.72 -20.43,-4.78 -19.29,-4.82 -18.16,-4.86 -17.02,-4.88 -15.89,-4.9 -14.75,-4.92 -13.62,-4.93 -12.48,-4.93 -11.35,-4.94 -10.21,-4.95 -9.08,-4.95 -7.94,-4.95 -6.81,-4.95 -5.67,-4.95 -4.54,-4.96 -3.4,-4.96 -2.27,-4.96 -1.13,-4.96 0,-4.96 1.13,-4.96 2.27,-4.96 3.4,-4.96 4.54,-4.96 5.67,-4.96 6.81,-4.96 7.94,-4.96 9.08,-4.96 10.21,-4.96 11.35,-4.96 12.48,-4.96 13.62,-4.96 14.75,-4.96 15.89,-4.96 17.02,-4.96 18.16,-4.96 19.29,-4.96 20.43,-4.96 21.56,-4.96 22.7,-4.96 23.83,-4.96 24.97,-4.96 26.1,-4.96 27.24,-4.96 28.37,-4.96 29.51,-4.96 30.64,-4.96 31.78,-4.96 32.91,-4.96 34.05,-4.96 35.18,-4.96 36.32,-4.96 37.45,-4.96 38.58,-4.96 39.72,-4.96 40.85,-4.96 41.99,-4.96 43.12,-4.96 44.26,-4.96 45.39,-4.96 46.53,-4.96 47.66,-4.96 48.8,-4.96 49.93,-4.96 51.07,-4.96 52.2,-4.96 53.34,-4.96 54.47,-4.96 55.61,-4.96 56.74,-4.96 \" class=\"primitive\"/>\n            </g>\n          </g>\n        </g>\n      </g>\n    </g>\n  </g>\n  <g class=\"guide ylabels\" font-size=\"2.82\" font-family=\"'PT Sans Caption','Helvetica Neue','Helvetica',sans-serif\" fill=\"#6C606B\" id=\"img-d6fe65d4-23\">\n    <g transform=\"translate(17.94,84.04)\" id=\"img-d6fe65d4-24\">\n      <g class=\"primitive\">\n        <text text-anchor=\"end\" dy=\"0.35em\">0</text>\n      </g>\n    </g>\n    <g transform=\"translate(17.94,64.78)\" id=\"img-d6fe65d4-25\">\n      <g class=\"primitive\">\n        <text text-anchor=\"end\" dy=\"0.35em\">50</text>\n      </g>\n    </g>\n    <g transform=\"translate(17.94,45.52)\" id=\"img-d6fe65d4-26\">\n      <g class=\"primitive\">\n        <text text-anchor=\"end\" dy=\"0.35em\">100</text>\n      </g>\n    </g>\n    <g transform=\"translate(17.94,26.26)\" id=\"img-d6fe65d4-27\">\n      <g class=\"primitive\">\n        <text text-anchor=\"end\" dy=\"0.35em\">150</text>\n      </g>\n    </g>\n    <g transform=\"translate(17.94,7)\" id=\"img-d6fe65d4-28\">\n      <g class=\"primitive\">\n        <text text-anchor=\"end\" dy=\"0.35em\">200</text>\n      </g>\n    </g>\n  </g>\n  <g font-size=\"3.53\" font-family=\"'PT Sans','Helvetica Neue','Helvetica',sans-serif\" fill=\"#564A55\" stroke=\"#000000\" stroke-opacity=\"0.000\" id=\"img-d6fe65d4-29\">\n    <g transform=\"translate(9.92,45.52)\" id=\"img-d6fe65d4-30\">\n      <g class=\"primitive\">\n        <text text-anchor=\"end\" dy=\"0.35em\">W</text>\n      </g>\n    </g>\n  </g>\n</g>\n<defs>\n  <clipPath id=\"img-d6fe65d4-5\">\n    <path d=\"M18.94,5 L136.42,5 136.42,86.04 18.94,86.04 \" />\n  </clipPath>\n</defs>\n</svg>\n"
           }
          },
          "systemjs_options": null
         },
         "nodeType": "Scope",
         "props": {},
         "type": "node"
        }
       ],
       "instanceArgs": {
        "namespace": "html",
        "tag": "div"
       },
       "nodeType": "DOM",
       "props": {
        "style": {
         "display": "flex",
         "flex-direction": "column"
        }
       },
       "type": "node"
      },
      "text/html": [
       "<div\n",
       "    class=\"webio-mountpoint\"\n",
       "    data-webio-mountpoint=\"1256997357203822932\"\n",
       ">\n",
       "    <script>\n",
       "    (function(){\n",
       "    // Some integrations (namely, IJulia/Jupyter) use an alternate render pathway than\n",
       "    // just putting the html on the page. If WebIO isn't defined, then it's pretty likely\n",
       "    // that we're in one of those situations and the integration just isn't installed\n",
       "    // correctly.\n",
       "    if (typeof window.WebIO === \"undefined\") {\n",
       "        document\n",
       "            .querySelector('[data-webio-mountpoint=\"1256997357203822932\"]')\n",
       "            .innerHTML = (\n",
       "                '<div style=\"padding: 1em; background-color: #f8d6da; border: 1px solid #f5c6cb; font-weight: bold;\">' +\n",
       "                '<p><strong>WebIO not detected.</strong></p>' +\n",
       "                '<p>Please read ' +\n",
       "                '<a href=\"https://juliagizmos.github.io/WebIO.jl/latest/troubleshooting/not-detected/\" target=\"_blank\">the troubleshooting guide</a> ' +\n",
       "                'for more information on how to resolve this issue.</p>' +\n",
       "                '<p><a href=\"https://juliagizmos.github.io/WebIO.jl/latest/troubleshooting/not-detected/\" target=\"_blank\">https://juliagizmos.github.io/WebIO.jl/latest/troubleshooting/not-detected/</a></p>' +\n",
       "                '</div>'\n",
       "            );\n",
       "        return;\n",
       "    }\n",
       "    WebIO.mount(\n",
       "        document.querySelector('[data-webio-mountpoint=\"1256997357203822932\"]'),\n",
       "        {\"props\":{\"style\":{\"display\":\"flex\",\"flex-direction\":\"column\"}},\"nodeType\":\"DOM\",\"type\":\"node\",\"instanceArgs\":{\"namespace\":\"html\",\"tag\":\"div\"},\"children\":[{\"props\":{\"style\":{\"color\":\"rebeccapurple\",\"font-family\":\"monospace\"}},\"nodeType\":\"DOM\",\"type\":\"node\",\"instanceArgs\":{\"namespace\":\"html\",\"tag\":\"div\"},\"children\":[\"Logi\"]},{\"props\":{\"className\":\"field interact-widget\"},\"nodeType\":\"DOM\",\"type\":\"node\",\"instanceArgs\":{\"namespace\":\"html\",\"tag\":\"div\"},\"children\":[{\"props\":{},\"nodeType\":\"Scope\",\"type\":\"node\",\"instanceArgs\":{\"imports\":{\"data\":[{\"name\":\"knockout\",\"type\":\"js\",\"url\":\"\\/assetserver\\/d749de49a15576291e39755d819be2408bf7f995-knockout.js\"},{\"name\":\"knockout_punches\",\"type\":\"js\",\"url\":\"\\/assetserver\\/9f5c86158cf79faf331cfb32636cb08a9b1f0dc2-knockout_punches.js\"},{\"name\":null,\"type\":\"js\",\"url\":\"\\/assetserver\\/96a65e6078e018eef9bba5cd6ed02b2635164c53-all.js\"},{\"name\":null,\"type\":\"css\",\"url\":\"\\/assetserver\\/98c9b8e9cfeaa0be2a6f3aa79abc5da0680c3037-style.css\"},{\"name\":null,\"type\":\"css\",\"url\":\"\\/assetserver\\/c5a1211d10b2f10049d85486a98c5e9063cad849-bulma_confined.min.css\"}],\"type\":\"async_block\"},\"id\":\"3966677962069238682\",\"handlers\":{\"changes\":[\"(function (val){return (val!=this.model[\\\"changes\\\"]()) ? (this.valueFromJulia[\\\"changes\\\"]=true, this.model[\\\"changes\\\"](val)) : undefined})\"],\"index\":[\"(function (val){return (val!=this.model[\\\"index\\\"]()) ? (this.valueFromJulia[\\\"index\\\"]=true, this.model[\\\"index\\\"](val)) : undefined})\"]},\"systemjs_options\":null,\"mount_callbacks\":[\"function () {\\n    var handler = (function (ko, koPunches) {\\n    ko.punches.enableAll();\\n    ko.bindingHandlers.numericValue = {\\n        init: function(element, valueAccessor, allBindings, data, context) {\\n            var stringified = ko.observable(ko.unwrap(valueAccessor()));\\n            stringified.subscribe(function(value) {\\n                var val = parseFloat(value);\\n                if (!isNaN(val)) {\\n                    valueAccessor()(val);\\n                }\\n            });\\n            valueAccessor().subscribe(function(value) {\\n                var str = JSON.stringify(value);\\n                if ((str == \\\"0\\\") && ([\\\"-0\\\", \\\"-0.\\\"].indexOf(stringified()) >= 0))\\n                     return;\\n                 if ([\\\"null\\\", \\\"\\\"].indexOf(str) >= 0)\\n                     return;\\n                stringified(str);\\n            });\\n            ko.applyBindingsToNode(\\n                element,\\n                {\\n                    value: stringified,\\n                    valueUpdate: allBindings.get('valueUpdate'),\\n                },\\n                context,\\n            );\\n        }\\n    };\\n    var json_data = {\\\"formatted_vals\\\":[\\\"0.0\\\",\\\"0.01\\\",\\\"0.02\\\",\\\"0.03\\\",\\\"0.04\\\",\\\"0.05\\\",\\\"0.06\\\",\\\"0.07\\\",\\\"0.08\\\",\\\"0.09\\\",\\\"0.1\\\",\\\"0.11\\\",\\\"0.12\\\",\\\"0.13\\\",\\\"0.14\\\",\\\"0.15\\\",\\\"0.16\\\",\\\"0.17\\\",\\\"0.18\\\",\\\"0.19\\\",\\\"0.2\\\",\\\"0.21\\\",\\\"0.22\\\",\\\"0.23\\\",\\\"0.24\\\",\\\"0.25\\\",\\\"0.26\\\",\\\"0.27\\\",\\\"0.28\\\",\\\"0.29\\\",\\\"0.3\\\",\\\"0.31\\\",\\\"0.32\\\",\\\"0.33\\\",\\\"0.34\\\",\\\"0.35\\\",\\\"0.36\\\",\\\"0.37\\\",\\\"0.38\\\",\\\"0.39\\\",\\\"0.4\\\",\\\"0.41\\\",\\\"0.42\\\",\\\"0.43\\\",\\\"0.44\\\",\\\"0.45\\\",\\\"0.46\\\",\\\"0.47\\\",\\\"0.48\\\",\\\"0.49\\\",\\\"0.5\\\"],\\\"changes\\\":WebIO.getval({\\\"name\\\":\\\"changes\\\",\\\"scope\\\":\\\"3966677962069238682\\\",\\\"id\\\":\\\"12723503513233104403\\\",\\\"type\\\":\\\"observable\\\"}),\\\"index\\\":WebIO.getval({\\\"name\\\":\\\"index\\\",\\\"scope\\\":\\\"3966677962069238682\\\",\\\"id\\\":\\\"2443612842257979954\\\",\\\"type\\\":\\\"observable\\\"})};\\n    var self = this;\\n    function AppViewModel() {\\n        for (var key in json_data) {\\n            var el = json_data[key];\\n            this[key] = Array.isArray(el) ? ko.observableArray(el) : ko.observable(el);\\n        }\\n        \\n        [this[\\\"formatted_val\\\"]=ko.computed(    function(){\\n        return this.formatted_vals()[parseInt(this.index())-(1)];\\n    }\\n,this)]\\n        [this[\\\"changes\\\"].subscribe((function (val){!(this.valueFromJulia[\\\"changes\\\"]) ? (WebIO.setval({\\\"name\\\":\\\"changes\\\",\\\"scope\\\":\\\"3966677962069238682\\\",\\\"id\\\":\\\"12723503513233104403\\\",\\\"type\\\":\\\"observable\\\"},val)) : undefined; return this.valueFromJulia[\\\"changes\\\"]=false}),self),this[\\\"index\\\"].subscribe((function (val){!(this.valueFromJulia[\\\"index\\\"]) ? (WebIO.setval({\\\"name\\\":\\\"index\\\",\\\"scope\\\":\\\"3966677962069238682\\\",\\\"id\\\":\\\"2443612842257979954\\\",\\\"type\\\":\\\"observable\\\"},val)) : undefined; return this.valueFromJulia[\\\"index\\\"]=false}),self)]\\n        \\n    }\\n    self.model = new AppViewModel();\\n    self.valueFromJulia = {};\\n    for (var key in json_data) {\\n        self.valueFromJulia[key] = false;\\n    }\\n    ko.applyBindings(self.model, self.dom);\\n}\\n);\\n    (WebIO.importBlock({\\\"data\\\":[{\\\"name\\\":\\\"knockout\\\",\\\"type\\\":\\\"js\\\",\\\"url\\\":\\\"\\/assetserver\\/d749de49a15576291e39755d819be2408bf7f995-knockout.js\\\"},{\\\"name\\\":\\\"knockout_punches\\\",\\\"type\\\":\\\"js\\\",\\\"url\\\":\\\"\\/assetserver\\/9f5c86158cf79faf331cfb32636cb08a9b1f0dc2-knockout_punches.js\\\"}],\\\"type\\\":\\\"async_block\\\"})).then((imports) => handler.apply(this, imports));\\n}\\n\"],\"observables\":{\"changes\":{\"sync\":true,\"id\":\"12723503513233104403\",\"value\":0},\"index\":{\"sync\":true,\"id\":\"2443612842257979954\",\"value\":26}}},\"children\":[{\"props\":{\"className\":\"interact-flex-row interact-widget\",\"style\":{\"font-family\":\"monospace\",\"width\":\"80%\"}},\"nodeType\":\"DOM\",\"type\":\"node\",\"instanceArgs\":{\"namespace\":\"html\",\"tag\":\"div\"},\"children\":[{\"props\":{\"className\":\"interact-flex-row-left\"},\"nodeType\":\"DOM\",\"type\":\"node\",\"instanceArgs\":{\"namespace\":\"html\",\"tag\":\"div\"},\"children\":[{\"props\":{\"className\":\"interact \",\"style\":{\"padding\":\"5px 10px 0px 10px\",\"white-space\":\"nowrap\",\"color\":\"royalblue\"}},\"nodeType\":\"DOM\",\"type\":\"node\",\"instanceArgs\":{\"namespace\":\"html\",\"tag\":\"label\"},\"children\":[\"μ\"]}]},{\"props\":{\"className\":\"interact-flex-row-center\"},\"nodeType\":\"DOM\",\"type\":\"node\",\"instanceArgs\":{\"namespace\":\"html\",\"tag\":\"div\"},\"children\":[{\"props\":{\"max\":51,\"min\":1,\"attributes\":{\"type\":\"range\",\"data-bind\":\"numericValue: index, valueUpdate: 'input', event: {change: function (){this.changes(this.changes()+1)}}\",\"orient\":\"horizontal\"},\"step\":1,\"className\":\"slider slider is-fullwidth\",\"style\":{}},\"nodeType\":\"DOM\",\"type\":\"node\",\"instanceArgs\":{\"namespace\":\"html\",\"tag\":\"input\"},\"children\":[]}]},{\"props\":{\"className\":\"interact-flex-row-right\"},\"nodeType\":\"DOM\",\"type\":\"node\",\"instanceArgs\":{\"namespace\":\"html\",\"tag\":\"div\"},\"children\":[{\"props\":{\"attributes\":{\"data-bind\":\"text: formatted_val\"}},\"nodeType\":\"DOM\",\"type\":\"node\",\"instanceArgs\":{\"namespace\":\"html\",\"tag\":\"p\"},\"children\":[]}]}]}]}]},{\"props\":{\"className\":\"field interact-widget\"},\"nodeType\":\"DOM\",\"type\":\"node\",\"instanceArgs\":{\"namespace\":\"html\",\"tag\":\"div\"},\"children\":[{\"props\":{},\"nodeType\":\"Scope\",\"type\":\"node\",\"instanceArgs\":{\"imports\":{\"data\":[{\"name\":\"knockout\",\"type\":\"js\",\"url\":\"\\/assetserver\\/d749de49a15576291e39755d819be2408bf7f995-knockout.js\"},{\"name\":\"knockout_punches\",\"type\":\"js\",\"url\":\"\\/assetserver\\/9f5c86158cf79faf331cfb32636cb08a9b1f0dc2-knockout_punches.js\"},{\"name\":null,\"type\":\"js\",\"url\":\"\\/assetserver\\/96a65e6078e018eef9bba5cd6ed02b2635164c53-all.js\"},{\"name\":null,\"type\":\"css\",\"url\":\"\\/assetserver\\/98c9b8e9cfeaa0be2a6f3aa79abc5da0680c3037-style.css\"},{\"name\":null,\"type\":\"css\",\"url\":\"\\/assetserver\\/c5a1211d10b2f10049d85486a98c5e9063cad849-bulma_confined.min.css\"}],\"type\":\"async_block\"},\"id\":\"16020679144057788239\",\"handlers\":{\"changes\":[\"(function (val){return (val!=this.model[\\\"changes\\\"]()) ? (this.valueFromJulia[\\\"changes\\\"]=true, this.model[\\\"changes\\\"](val)) : undefined})\"],\"index\":[\"(function (val){return (val!=this.model[\\\"index\\\"]()) ? (this.valueFromJulia[\\\"index\\\"]=true, this.model[\\\"index\\\"](val)) : undefined})\"]},\"systemjs_options\":null,\"mount_callbacks\":[\"function () {\\n    var handler = (function (ko, koPunches) {\\n    ko.punches.enableAll();\\n    ko.bindingHandlers.numericValue = {\\n        init: function(element, valueAccessor, allBindings, data, context) {\\n            var stringified = ko.observable(ko.unwrap(valueAccessor()));\\n            stringified.subscribe(function(value) {\\n                var val = parseFloat(value);\\n                if (!isNaN(val)) {\\n                    valueAccessor()(val);\\n                }\\n            });\\n            valueAccessor().subscribe(function(value) {\\n                var str = JSON.stringify(value);\\n                if ((str == \\\"0\\\") && ([\\\"-0\\\", \\\"-0.\\\"].indexOf(stringified()) >= 0))\\n                     return;\\n                 if ([\\\"null\\\", \\\"\\\"].indexOf(str) >= 0)\\n                     return;\\n                stringified(str);\\n            });\\n            ko.applyBindingsToNode(\\n                element,\\n                {\\n                    value: stringified,\\n                    valueUpdate: allBindings.get('valueUpdate'),\\n                },\\n                context,\\n            );\\n        }\\n    };\\n    var json_data = {\\\"formatted_vals\\\":[\\\"0.0\\\",\\\"0.1\\\",\\\"0.2\\\",\\\"0.3\\\",\\\"0.4\\\",\\\"0.5\\\",\\\"0.6\\\",\\\"0.7\\\",\\\"0.8\\\",\\\"0.9\\\",\\\"1.0\\\",\\\"1.1\\\",\\\"1.2\\\",\\\"1.3\\\",\\\"1.4\\\",\\\"1.5\\\",\\\"1.6\\\",\\\"1.7\\\",\\\"1.8\\\",\\\"1.9\\\",\\\"2.0\\\",\\\"2.1\\\",\\\"2.2\\\",\\\"2.3\\\",\\\"2.4\\\",\\\"2.5\\\",\\\"2.6\\\",\\\"2.7\\\",\\\"2.8\\\",\\\"2.9\\\",\\\"3.0\\\",\\\"3.1\\\",\\\"3.2\\\",\\\"3.3\\\",\\\"3.4\\\",\\\"3.5\\\",\\\"3.6\\\",\\\"3.7\\\",\\\"3.8\\\",\\\"3.9\\\",\\\"4.0\\\",\\\"4.1\\\",\\\"4.2\\\",\\\"4.3\\\",\\\"4.4\\\",\\\"4.5\\\",\\\"4.6\\\",\\\"4.7\\\",\\\"4.8\\\",\\\"4.9\\\",\\\"5.0\\\",\\\"5.1\\\",\\\"5.2\\\",\\\"5.3\\\",\\\"5.4\\\",\\\"5.5\\\",\\\"5.6\\\",\\\"5.7\\\",\\\"5.8\\\",\\\"5.9\\\",\\\"6.0\\\",\\\"6.1\\\",\\\"6.2\\\",\\\"6.3\\\",\\\"6.4\\\",\\\"6.5\\\",\\\"6.6\\\",\\\"6.7\\\",\\\"6.8\\\",\\\"6.9\\\",\\\"7.0\\\",\\\"7.1\\\",\\\"7.2\\\",\\\"7.3\\\",\\\"7.4\\\",\\\"7.5\\\",\\\"7.6\\\",\\\"7.7\\\",\\\"7.8\\\",\\\"7.9\\\",\\\"8.0\\\",\\\"8.1\\\",\\\"8.2\\\",\\\"8.3\\\",\\\"8.4\\\",\\\"8.5\\\",\\\"8.6\\\",\\\"8.7\\\",\\\"8.8\\\",\\\"8.9\\\",\\\"9.0\\\",\\\"9.1\\\",\\\"9.2\\\",\\\"9.3\\\",\\\"9.4\\\",\\\"9.5\\\",\\\"9.6\\\",\\\"9.7\\\",\\\"9.8\\\",\\\"9.9\\\",\\\"10.0\\\"],\\\"changes\\\":WebIO.getval({\\\"name\\\":\\\"changes\\\",\\\"scope\\\":\\\"16020679144057788239\\\",\\\"id\\\":\\\"647806031206214739\\\",\\\"type\\\":\\\"observable\\\"}),\\\"index\\\":WebIO.getval({\\\"name\\\":\\\"index\\\",\\\"scope\\\":\\\"16020679144057788239\\\",\\\"id\\\":\\\"14042600754140583102\\\",\\\"type\\\":\\\"observable\\\"})};\\n    var self = this;\\n    function AppViewModel() {\\n        for (var key in json_data) {\\n            var el = json_data[key];\\n            this[key] = Array.isArray(el) ? ko.observableArray(el) : ko.observable(el);\\n        }\\n        \\n        [this[\\\"formatted_val\\\"]=ko.computed(    function(){\\n        return this.formatted_vals()[parseInt(this.index())-(1)];\\n    }\\n,this)]\\n        [this[\\\"changes\\\"].subscribe((function (val){!(this.valueFromJulia[\\\"changes\\\"]) ? (WebIO.setval({\\\"name\\\":\\\"changes\\\",\\\"scope\\\":\\\"16020679144057788239\\\",\\\"id\\\":\\\"647806031206214739\\\",\\\"type\\\":\\\"observable\\\"},val)) : undefined; return this.valueFromJulia[\\\"changes\\\"]=false}),self),this[\\\"index\\\"].subscribe((function (val){!(this.valueFromJulia[\\\"index\\\"]) ? (WebIO.setval({\\\"name\\\":\\\"index\\\",\\\"scope\\\":\\\"16020679144057788239\\\",\\\"id\\\":\\\"14042600754140583102\\\",\\\"type\\\":\\\"observable\\\"},val)) : undefined; return this.valueFromJulia[\\\"index\\\"]=false}),self)]\\n        \\n    }\\n    self.model = new AppViewModel();\\n    self.valueFromJulia = {};\\n    for (var key in json_data) {\\n        self.valueFromJulia[key] = false;\\n    }\\n    ko.applyBindings(self.model, self.dom);\\n}\\n);\\n    (WebIO.importBlock({\\\"data\\\":[{\\\"name\\\":\\\"knockout\\\",\\\"type\\\":\\\"js\\\",\\\"url\\\":\\\"\\/assetserver\\/d749de49a15576291e39755d819be2408bf7f995-knockout.js\\\"},{\\\"name\\\":\\\"knockout_punches\\\",\\\"type\\\":\\\"js\\\",\\\"url\\\":\\\"\\/assetserver\\/9f5c86158cf79faf331cfb32636cb08a9b1f0dc2-knockout_punches.js\\\"}],\\\"type\\\":\\\"async_block\\\"})).then((imports) => handler.apply(this, imports));\\n}\\n\"],\"observables\":{\"changes\":{\"sync\":true,\"id\":\"647806031206214739\",\"value\":0},\"index\":{\"sync\":true,\"id\":\"14042600754140583102\",\"value\":51}}},\"children\":[{\"props\":{\"className\":\"interact-flex-row interact-widget\",\"style\":{\"font-family\":\"monospace\",\"width\":\"80%\"}},\"nodeType\":\"DOM\",\"type\":\"node\",\"instanceArgs\":{\"namespace\":\"html\",\"tag\":\"div\"},\"children\":[{\"props\":{\"className\":\"interact-flex-row-left\"},\"nodeType\":\"DOM\",\"type\":\"node\",\"instanceArgs\":{\"namespace\":\"html\",\"tag\":\"div\"},\"children\":[{\"props\":{\"className\":\"interact \",\"style\":{\"padding\":\"5px 10px 0px 10px\",\"white-space\":\"nowrap\",\"color\":\"royalblue\"}},\"nodeType\":\"DOM\",\"type\":\"node\",\"instanceArgs\":{\"namespace\":\"html\",\"tag\":\"label\"},\"children\":[\"W0\"]}]},{\"props\":{\"className\":\"interact-flex-row-center\"},\"nodeType\":\"DOM\",\"type\":\"node\",\"instanceArgs\":{\"namespace\":\"html\",\"tag\":\"div\"},\"children\":[{\"props\":{\"max\":101,\"min\":1,\"attributes\":{\"type\":\"range\",\"data-bind\":\"numericValue: index, valueUpdate: 'input', event: {change: function (){this.changes(this.changes()+1)}}\",\"orient\":\"horizontal\"},\"step\":1,\"className\":\"slider slider is-fullwidth\",\"style\":{}},\"nodeType\":\"DOM\",\"type\":\"node\",\"instanceArgs\":{\"namespace\":\"html\",\"tag\":\"input\"},\"children\":[]}]},{\"props\":{\"className\":\"interact-flex-row-right\"},\"nodeType\":\"DOM\",\"type\":\"node\",\"instanceArgs\":{\"namespace\":\"html\",\"tag\":\"div\"},\"children\":[{\"props\":{\"attributes\":{\"data-bind\":\"text: formatted_val\"}},\"nodeType\":\"DOM\",\"type\":\"node\",\"instanceArgs\":{\"namespace\":\"html\",\"tag\":\"p\"},\"children\":[]}]}]}]}]},{\"props\":{\"className\":\"field interact-widget\"},\"nodeType\":\"DOM\",\"type\":\"node\",\"instanceArgs\":{\"namespace\":\"html\",\"tag\":\"div\"},\"children\":[{\"props\":{},\"nodeType\":\"Scope\",\"type\":\"node\",\"instanceArgs\":{\"imports\":{\"data\":[{\"name\":\"knockout\",\"type\":\"js\",\"url\":\"\\/assetserver\\/d749de49a15576291e39755d819be2408bf7f995-knockout.js\"},{\"name\":\"knockout_punches\",\"type\":\"js\",\"url\":\"\\/assetserver\\/9f5c86158cf79faf331cfb32636cb08a9b1f0dc2-knockout_punches.js\"},{\"name\":null,\"type\":\"js\",\"url\":\"\\/assetserver\\/96a65e6078e018eef9bba5cd6ed02b2635164c53-all.js\"},{\"name\":null,\"type\":\"css\",\"url\":\"\\/assetserver\\/98c9b8e9cfeaa0be2a6f3aa79abc5da0680c3037-style.css\"},{\"name\":null,\"type\":\"css\",\"url\":\"\\/assetserver\\/c5a1211d10b2f10049d85486a98c5e9063cad849-bulma_confined.min.css\"}],\"type\":\"async_block\"},\"id\":\"5962539331190476740\",\"handlers\":{\"changes\":[\"(function (val){return (val!=this.model[\\\"changes\\\"]()) ? (this.valueFromJulia[\\\"changes\\\"]=true, this.model[\\\"changes\\\"](val)) : undefined})\"],\"index\":[\"(function (val){return (val!=this.model[\\\"index\\\"]()) ? (this.valueFromJulia[\\\"index\\\"]=true, this.model[\\\"index\\\"](val)) : undefined})\"]},\"systemjs_options\":null,\"mount_callbacks\":[\"function () {\\n    var handler = (function (ko, koPunches) {\\n    ko.punches.enableAll();\\n    ko.bindingHandlers.numericValue = {\\n        init: function(element, valueAccessor, allBindings, data, context) {\\n            var stringified = ko.observable(ko.unwrap(valueAccessor()));\\n            stringified.subscribe(function(value) {\\n                var val = parseFloat(value);\\n                if (!isNaN(val)) {\\n                    valueAccessor()(val);\\n                }\\n            });\\n            valueAccessor().subscribe(function(value) {\\n                var str = JSON.stringify(value);\\n                if ((str == \\\"0\\\") && ([\\\"-0\\\", \\\"-0.\\\"].indexOf(stringified()) >= 0))\\n                     return;\\n                 if ([\\\"null\\\", \\\"\\\"].indexOf(str) >= 0)\\n                     return;\\n                stringified(str);\\n            });\\n            ko.applyBindingsToNode(\\n                element,\\n                {\\n                    value: stringified,\\n                    valueUpdate: allBindings.get('valueUpdate'),\\n                },\\n                context,\\n            );\\n        }\\n    };\\n    var json_data = {\\\"formatted_vals\\\":[\\\"10\\\",\\\"20\\\",\\\"30\\\",\\\"40\\\",\\\"50\\\",\\\"60\\\",\\\"70\\\",\\\"80\\\",\\\"90\\\",\\\"100\\\",\\\"110\\\",\\\"120\\\",\\\"130\\\",\\\"140\\\",\\\"150\\\",\\\"160\\\",\\\"170\\\",\\\"180\\\",\\\"190\\\",\\\"200\\\"],\\\"changes\\\":WebIO.getval({\\\"name\\\":\\\"changes\\\",\\\"scope\\\":\\\"5962539331190476740\\\",\\\"id\\\":\\\"7877352850598515692\\\",\\\"type\\\":\\\"observable\\\"}),\\\"index\\\":WebIO.getval({\\\"name\\\":\\\"index\\\",\\\"scope\\\":\\\"5962539331190476740\\\",\\\"id\\\":\\\"17359439045876514770\\\",\\\"type\\\":\\\"observable\\\"})};\\n    var self = this;\\n    function AppViewModel() {\\n        for (var key in json_data) {\\n            var el = json_data[key];\\n            this[key] = Array.isArray(el) ? ko.observableArray(el) : ko.observable(el);\\n        }\\n        \\n        [this[\\\"formatted_val\\\"]=ko.computed(    function(){\\n        return this.formatted_vals()[parseInt(this.index())-(1)];\\n    }\\n,this)]\\n        [this[\\\"changes\\\"].subscribe((function (val){!(this.valueFromJulia[\\\"changes\\\"]) ? (WebIO.setval({\\\"name\\\":\\\"changes\\\",\\\"scope\\\":\\\"5962539331190476740\\\",\\\"id\\\":\\\"7877352850598515692\\\",\\\"type\\\":\\\"observable\\\"},val)) : undefined; return this.valueFromJulia[\\\"changes\\\"]=false}),self),this[\\\"index\\\"].subscribe((function (val){!(this.valueFromJulia[\\\"index\\\"]) ? (WebIO.setval({\\\"name\\\":\\\"index\\\",\\\"scope\\\":\\\"5962539331190476740\\\",\\\"id\\\":\\\"17359439045876514770\\\",\\\"type\\\":\\\"observable\\\"},val)) : undefined; return this.valueFromJulia[\\\"index\\\"]=false}),self)]\\n        \\n    }\\n    self.model = new AppViewModel();\\n    self.valueFromJulia = {};\\n    for (var key in json_data) {\\n        self.valueFromJulia[key] = false;\\n    }\\n    ko.applyBindings(self.model, self.dom);\\n}\\n);\\n    (WebIO.importBlock({\\\"data\\\":[{\\\"name\\\":\\\"knockout\\\",\\\"type\\\":\\\"js\\\",\\\"url\\\":\\\"\\/assetserver\\/d749de49a15576291e39755d819be2408bf7f995-knockout.js\\\"},{\\\"name\\\":\\\"knockout_punches\\\",\\\"type\\\":\\\"js\\\",\\\"url\\\":\\\"\\/assetserver\\/9f5c86158cf79faf331cfb32636cb08a9b1f0dc2-knockout_punches.js\\\"}],\\\"type\\\":\\\"async_block\\\"})).then((imports) => handler.apply(this, imports));\\n}\\n\"],\"observables\":{\"changes\":{\"sync\":true,\"id\":\"7877352850598515692\",\"value\":0},\"index\":{\"sync\":true,\"id\":\"17359439045876514770\",\"value\":10}}},\"children\":[{\"props\":{\"className\":\"interact-flex-row interact-widget\",\"style\":{\"font-family\":\"monospace\",\"width\":\"80%\"}},\"nodeType\":\"DOM\",\"type\":\"node\",\"instanceArgs\":{\"namespace\":\"html\",\"tag\":\"div\"},\"children\":[{\"props\":{\"className\":\"interact-flex-row-left\"},\"nodeType\":\"DOM\",\"type\":\"node\",\"instanceArgs\":{\"namespace\":\"html\",\"tag\":\"div\"},\"children\":[{\"props\":{\"className\":\"interact \",\"style\":{\"padding\":\"5px 10px 0px 10px\",\"white-space\":\"nowrap\",\"color\":\"royalblue\"}},\"nodeType\":\"DOM\",\"type\":\"node\",\"instanceArgs\":{\"namespace\":\"html\",\"tag\":\"label\"},\"children\":[\"Wf\"]}]},{\"props\":{\"className\":\"interact-flex-row-center\"},\"nodeType\":\"DOM\",\"type\":\"node\",\"instanceArgs\":{\"namespace\":\"html\",\"tag\":\"div\"},\"children\":[{\"props\":{\"max\":20,\"min\":1,\"attributes\":{\"type\":\"range\",\"data-bind\":\"numericValue: index, valueUpdate: 'input', event: {change: function (){this.changes(this.changes()+1)}}\",\"orient\":\"horizontal\"},\"step\":1,\"className\":\"slider slider is-fullwidth\",\"style\":{}},\"nodeType\":\"DOM\",\"type\":\"node\",\"instanceArgs\":{\"namespace\":\"html\",\"tag\":\"input\"},\"children\":[]}]},{\"props\":{\"className\":\"interact-flex-row-right\"},\"nodeType\":\"DOM\",\"type\":\"node\",\"instanceArgs\":{\"namespace\":\"html\",\"tag\":\"div\"},\"children\":[{\"props\":{\"attributes\":{\"data-bind\":\"text: formatted_val\"}},\"nodeType\":\"DOM\",\"type\":\"node\",\"instanceArgs\":{\"namespace\":\"html\",\"tag\":\"p\"},\"children\":[]}]}]}]}]},{\"props\":{},\"nodeType\":\"Scope\",\"type\":\"node\",\"instanceArgs\":{\"imports\":{\"data\":[],\"type\":\"async_block\"},\"id\":\"2944444492127559941\",\"handlers\":{\"obs-output\":[\"function (value, scope) {\\n    scope.setInnerHTML(value);\\n}\\n\"]},\"systemjs_options\":null,\"mount_callbacks\":[],\"observables\":{\"obs-output\":{\"sync\":false,\"id\":\"4935110120394142278\",\"value\":\"<?xml version=\\\"1.0\\\" encoding=\\\"UTF-8\\\"?>\\n<svg xmlns=\\\"http:\\/\\/www.w3.org\\/2000\\/svg\\\"\\n     xmlns:xlink=\\\"http:\\/\\/www.w3.org\\/1999\\/xlink\\\"\\n     xmlns:gadfly=\\\"http:\\/\\/www.gadflyjl.org\\/ns\\\"\\n     version=\\\"1.2\\\"\\n     width=\\\"141.42mm\\\" height=\\\"100mm\\\" viewBox=\\\"0 0 141.42 100\\\"\\n     stroke=\\\"none\\\"\\n     fill=\\\"#000000\\\"\\n     stroke-width=\\\"0.3\\\"\\n     font-size=\\\"3.88\\\"\\n>\\n<defs>\\n  <marker id=\\\"arrow\\\" markerWidth=\\\"15\\\" markerHeight=\\\"7\\\" refX=\\\"5\\\" refY=\\\"3.5\\\" orient=\\\"auto\\\" markerUnits=\\\"strokeWidth\\\">\\n    <path d=\\\"M0,0 L15,3.5 L0,7 z\\\" stroke=\\\"context-stroke\\\" fill=\\\"context-stroke\\\"\\/>\\n  <\\/marker>\\n<\\/defs>\\n<g stroke=\\\"#000000\\\" stroke-opacity=\\\"0.000\\\" fill=\\\"#FFFFFF\\\" id=\\\"img-68b95f90-1\\\">\\n  <g transform=\\\"translate(70.71,50)\\\">\\n    <path d=\\\"M-70.71,-50 L70.71,-50 70.71,50 -70.71,50  z\\\" class=\\\"primitive\\\"\\/>\\n  <\\/g>\\n<\\/g>\\n<g class=\\\"plotroot xscalable yscalable\\\" id=\\\"img-68b95f90-2\\\">\\n  <g font-size=\\\"3.53\\\" font-family=\\\"'PT Sans','Helvetica Neue','Helvetica',sans-serif\\\" fill=\\\"#564A55\\\" stroke=\\\"#000000\\\" stroke-opacity=\\\"0.000\\\" id=\\\"img-68b95f90-3\\\">\\n    <g transform=\\\"translate(77.68,93.72)\\\">\\n      <g class=\\\"primitive\\\">\\n        <text text-anchor=\\\"middle\\\" dy=\\\"0.6em\\\">t<\\/text>\\n      <\\/g>\\n    <\\/g>\\n  <\\/g>\\n  <g class=\\\"guide xlabels\\\" font-size=\\\"2.82\\\" font-family=\\\"'PT Sans Caption','Helvetica Neue','Helvetica',sans-serif\\\" fill=\\\"#6C606B\\\" id=\\\"img-68b95f90-4\\\">\\n    <g transform=\\\"translate(20.94,87.04)\\\">\\n      <g class=\\\"primitive\\\">\\n        <text text-anchor=\\\"middle\\\" dy=\\\"0.6em\\\">0<\\/text>\\n      <\\/g>\\n    <\\/g>\\n    <g transform=\\\"translate(77.68,87.04)\\\">\\n      <g class=\\\"primitive\\\">\\n        <text text-anchor=\\\"middle\\\" dy=\\\"0.6em\\\">50<\\/text>\\n      <\\/g>\\n    <\\/g>\\n    <g transform=\\\"translate(134.42,87.04)\\\">\\n      <g class=\\\"primitive\\\">\\n        <text text-anchor=\\\"middle\\\" dy=\\\"0.6em\\\">100<\\/text>\\n      <\\/g>\\n    <\\/g>\\n  <\\/g>\\n  <g clip-path=\\\"url(#img-68b95f90-5)\\\">\\n    <g id=\\\"img-68b95f90-6\\\">\\n      <g pointer-events=\\\"visible\\\" stroke-width=\\\"0.3\\\" fill=\\\"#000000\\\" fill-opacity=\\\"0.000\\\" stroke=\\\"#000000\\\" stroke-opacity=\\\"0.000\\\" class=\\\"guide background\\\" id=\\\"img-68b95f90-7\\\">\\n        <g transform=\\\"translate(77.68,45.52)\\\" id=\\\"img-68b95f90-8\\\">\\n          <path d=\\\"M-58.74,-40.52 L58.74,-40.52 58.74,40.52 -58.74,40.52  z\\\" class=\\\"primitive\\\"\\/>\\n        <\\/g>\\n      <\\/g>\\n      <g class=\\\"guide ygridlines xfixed\\\" stroke-dasharray=\\\"0.5,0.5\\\" stroke-width=\\\"0.2\\\" stroke=\\\"#D0D0E0\\\" id=\\\"img-68b95f90-9\\\">\\n        <g transform=\\\"translate(77.68,84.04)\\\" id=\\\"img-68b95f90-10\\\">\\n          <path fill=\\\"none\\\" d=\\\"M-58.74,0 L58.74,0 \\\" class=\\\"primitive\\\"\\/>\\n        <\\/g>\\n        <g transform=\\\"translate(77.68,64.78)\\\" id=\\\"img-68b95f90-11\\\">\\n          <path fill=\\\"none\\\" d=\\\"M-58.74,0 L58.74,0 \\\" class=\\\"primitive\\\"\\/>\\n        <\\/g>\\n        <g transform=\\\"translate(77.68,45.52)\\\" id=\\\"img-68b95f90-12\\\">\\n          <path fill=\\\"none\\\" d=\\\"M-58.74,0 L58.74,0 \\\" class=\\\"primitive\\\"\\/>\\n        <\\/g>\\n        <g transform=\\\"translate(77.68,26.26)\\\" id=\\\"img-68b95f90-13\\\">\\n          <path fill=\\\"none\\\" d=\\\"M-58.74,0 L58.74,0 \\\" class=\\\"primitive\\\"\\/>\\n        <\\/g>\\n        <g transform=\\\"translate(77.68,7)\\\" id=\\\"img-68b95f90-14\\\">\\n          <path fill=\\\"none\\\" d=\\\"M-58.74,0 L58.74,0 \\\" class=\\\"primitive\\\"\\/>\\n        <\\/g>\\n      <\\/g>\\n      <g class=\\\"guide xgridlines yfixed\\\" stroke-dasharray=\\\"0.5,0.5\\\" stroke-width=\\\"0.2\\\" stroke=\\\"#D0D0E0\\\" id=\\\"img-68b95f90-15\\\">\\n        <g transform=\\\"translate(20.94,45.52)\\\" id=\\\"img-68b95f90-16\\\">\\n          <path fill=\\\"none\\\" d=\\\"M0,-40.52 L0,40.52 \\\" class=\\\"primitive\\\"\\/>\\n        <\\/g>\\n        <g transform=\\\"translate(77.68,45.52)\\\" id=\\\"img-68b95f90-17\\\">\\n          <path fill=\\\"none\\\" d=\\\"M0,-40.52 L0,40.52 \\\" class=\\\"primitive\\\"\\/>\\n        <\\/g>\\n        <g transform=\\\"translate(134.42,45.52)\\\" id=\\\"img-68b95f90-18\\\">\\n          <path fill=\\\"none\\\" d=\\\"M0,-40.52 L0,40.52 \\\" class=\\\"primitive\\\"\\/>\\n        <\\/g>\\n      <\\/g>\\n      <g class=\\\"plotpanel\\\" id=\\\"img-68b95f90-19\\\">\\n        <metadata>\\n          <boundingbox value=\\\"18.936666666666667mm 5.0mm 117.48468957064284mm 81.04333333333335mm\\\"\\/>\\n          <unitbox value=\\\"-1.762352267576169 205.19188335568728 103.52470453515235 -210.38376671137456\\\"\\/>\\n        <\\/metadata>\\n        <g stroke-width=\\\"0.3\\\" fill=\\\"#000000\\\" fill-opacity=\\\"0.000\\\" class=\\\"geometry\\\" id=\\\"img-68b95f90-20\\\">\\n          <g class=\\\"color_LCHab{Float32}(70.0f0,60.0f0,240.0f0)\\\" stroke-dasharray=\\\"none\\\" stroke-opacity=\\\"1\\\" stroke=\\\"#00BFFF\\\" id=\\\"img-68b95f90-21\\\">\\n            <g transform=\\\"translate(77.68,50.48)\\\" id=\\\"img-68b95f90-22\\\">\\n              <path fill=\\\"none\\\" d=\\\"M-56.74,31.64 L-55.61,31.18 -54.47,30.62 -53.34,29.94 -52.2,29.12 -51.07,28.14 -49.93,26.97 -48.8,25.61 -47.66,24.03 -46.53,22.24 -45.39,20.24 -44.26,18.06 -43.12,15.74 -41.99,13.35 -40.85,10.95 -39.72,8.61 -38.58,6.41 -37.45,4.41 -36.32,2.64 -35.18,1.11 -34.05,-0.17 -32.91,-1.21 -31.78,-2.06 -30.64,-2.73 -29.51,-3.25 -28.37,-3.66 -27.24,-3.98 -26.1,-4.21 -24.97,-4.4 -23.83,-4.54 -22.7,-4.64 -21.56,-4.72 -20.43,-4.78 -19.29,-4.82 -18.16,-4.86 -17.02,-4.88 -15.89,-4.9 -14.75,-4.92 -13.62,-4.93 -12.48,-4.93 -11.35,-4.94 -10.21,-4.95 -9.08,-4.95 -7.94,-4.95 -6.81,-4.95 -5.67,-4.95 -4.54,-4.96 -3.4,-4.96 -2.27,-4.96 -1.13,-4.96 0,-4.96 1.13,-4.96 2.27,-4.96 3.4,-4.96 4.54,-4.96 5.67,-4.96 6.81,-4.96 7.94,-4.96 9.08,-4.96 10.21,-4.96 11.35,-4.96 12.48,-4.96 13.62,-4.96 14.75,-4.96 15.89,-4.96 17.02,-4.96 18.16,-4.96 19.29,-4.96 20.43,-4.96 21.56,-4.96 22.7,-4.96 23.83,-4.96 24.97,-4.96 26.1,-4.96 27.24,-4.96 28.37,-4.96 29.51,-4.96 30.64,-4.96 31.78,-4.96 32.91,-4.96 34.05,-4.96 35.18,-4.96 36.32,-4.96 37.45,-4.96 38.58,-4.96 39.72,-4.96 40.85,-4.96 41.99,-4.96 43.12,-4.96 44.26,-4.96 45.39,-4.96 46.53,-4.96 47.66,-4.96 48.8,-4.96 49.93,-4.96 51.07,-4.96 52.2,-4.96 53.34,-4.96 54.47,-4.96 55.61,-4.96 56.74,-4.96 \\\" class=\\\"primitive\\\"\\/>\\n            <\\/g>\\n          <\\/g>\\n        <\\/g>\\n      <\\/g>\\n    <\\/g>\\n  <\\/g>\\n  <g class=\\\"guide ylabels\\\" font-size=\\\"2.82\\\" font-family=\\\"'PT Sans Caption','Helvetica Neue','Helvetica',sans-serif\\\" fill=\\\"#6C606B\\\" id=\\\"img-68b95f90-23\\\">\\n    <g transform=\\\"translate(17.94,84.04)\\\" id=\\\"img-68b95f90-24\\\">\\n      <g class=\\\"primitive\\\">\\n        <text text-anchor=\\\"end\\\" dy=\\\"0.35em\\\">0<\\/text>\\n      <\\/g>\\n    <\\/g>\\n    <g transform=\\\"translate(17.94,64.78)\\\" id=\\\"img-68b95f90-25\\\">\\n      <g class=\\\"primitive\\\">\\n        <text text-anchor=\\\"end\\\" dy=\\\"0.35em\\\">50<\\/text>\\n      <\\/g>\\n    <\\/g>\\n    <g transform=\\\"translate(17.94,45.52)\\\" id=\\\"img-68b95f90-26\\\">\\n      <g class=\\\"primitive\\\">\\n        <text text-anchor=\\\"end\\\" dy=\\\"0.35em\\\">100<\\/text>\\n      <\\/g>\\n    <\\/g>\\n    <g transform=\\\"translate(17.94,26.26)\\\" id=\\\"img-68b95f90-27\\\">\\n      <g class=\\\"primitive\\\">\\n        <text text-anchor=\\\"end\\\" dy=\\\"0.35em\\\">150<\\/text>\\n      <\\/g>\\n    <\\/g>\\n    <g transform=\\\"translate(17.94,7)\\\" id=\\\"img-68b95f90-28\\\">\\n      <g class=\\\"primitive\\\">\\n        <text text-anchor=\\\"end\\\" dy=\\\"0.35em\\\">200<\\/text>\\n      <\\/g>\\n    <\\/g>\\n  <\\/g>\\n  <g font-size=\\\"3.53\\\" font-family=\\\"'PT Sans','Helvetica Neue','Helvetica',sans-serif\\\" fill=\\\"#564A55\\\" stroke=\\\"#000000\\\" stroke-opacity=\\\"0.000\\\" id=\\\"img-68b95f90-29\\\">\\n    <g transform=\\\"translate(9.92,45.52)\\\" id=\\\"img-68b95f90-30\\\">\\n      <g class=\\\"primitive\\\">\\n        <text text-anchor=\\\"end\\\" dy=\\\"0.35em\\\">W<\\/text>\\n      <\\/g>\\n    <\\/g>\\n  <\\/g>\\n<\\/g>\\n<defs>\\n  <clipPath id=\\\"img-68b95f90-5\\\">\\n    <path d=\\\"M18.94,5 L136.42,5 136.42,86.04 18.94,86.04 \\\" \\/>\\n  <\\/clipPath>\\n<\\/defs>\\n<\\/svg>\\n\"}}},\"children\":[{\"props\":{\"className\":\"webio-observable\",\"setInnerHtml\":\"<?xml version=\\\"1.0\\\" encoding=\\\"UTF-8\\\"?>\\n<svg xmlns=\\\"http:\\/\\/www.w3.org\\/2000\\/svg\\\"\\n     xmlns:xlink=\\\"http:\\/\\/www.w3.org\\/1999\\/xlink\\\"\\n     xmlns:gadfly=\\\"http:\\/\\/www.gadflyjl.org\\/ns\\\"\\n     version=\\\"1.2\\\"\\n     width=\\\"141.42mm\\\" height=\\\"100mm\\\" viewBox=\\\"0 0 141.42 100\\\"\\n     stroke=\\\"none\\\"\\n     fill=\\\"#000000\\\"\\n     stroke-width=\\\"0.3\\\"\\n     font-size=\\\"3.88\\\"\\n>\\n<defs>\\n  <marker id=\\\"arrow\\\" markerWidth=\\\"15\\\" markerHeight=\\\"7\\\" refX=\\\"5\\\" refY=\\\"3.5\\\" orient=\\\"auto\\\" markerUnits=\\\"strokeWidth\\\">\\n    <path d=\\\"M0,0 L15,3.5 L0,7 z\\\" stroke=\\\"context-stroke\\\" fill=\\\"context-stroke\\\"\\/>\\n  <\\/marker>\\n<\\/defs>\\n<g stroke=\\\"#000000\\\" stroke-opacity=\\\"0.000\\\" fill=\\\"#FFFFFF\\\" id=\\\"img-68b95f90-1\\\">\\n  <g transform=\\\"translate(70.71,50)\\\">\\n    <path d=\\\"M-70.71,-50 L70.71,-50 70.71,50 -70.71,50  z\\\" class=\\\"primitive\\\"\\/>\\n  <\\/g>\\n<\\/g>\\n<g class=\\\"plotroot xscalable yscalable\\\" id=\\\"img-68b95f90-2\\\">\\n  <g font-size=\\\"3.53\\\" font-family=\\\"'PT Sans','Helvetica Neue','Helvetica',sans-serif\\\" fill=\\\"#564A55\\\" stroke=\\\"#000000\\\" stroke-opacity=\\\"0.000\\\" id=\\\"img-68b95f90-3\\\">\\n    <g transform=\\\"translate(77.68,93.72)\\\">\\n      <g class=\\\"primitive\\\">\\n        <text text-anchor=\\\"middle\\\" dy=\\\"0.6em\\\">t<\\/text>\\n      <\\/g>\\n    <\\/g>\\n  <\\/g>\\n  <g class=\\\"guide xlabels\\\" font-size=\\\"2.82\\\" font-family=\\\"'PT Sans Caption','Helvetica Neue','Helvetica',sans-serif\\\" fill=\\\"#6C606B\\\" id=\\\"img-68b95f90-4\\\">\\n    <g transform=\\\"translate(20.94,87.04)\\\">\\n      <g class=\\\"primitive\\\">\\n        <text text-anchor=\\\"middle\\\" dy=\\\"0.6em\\\">0<\\/text>\\n      <\\/g>\\n    <\\/g>\\n    <g transform=\\\"translate(77.68,87.04)\\\">\\n      <g class=\\\"primitive\\\">\\n        <text text-anchor=\\\"middle\\\" dy=\\\"0.6em\\\">50<\\/text>\\n      <\\/g>\\n    <\\/g>\\n    <g transform=\\\"translate(134.42,87.04)\\\">\\n      <g class=\\\"primitive\\\">\\n        <text text-anchor=\\\"middle\\\" dy=\\\"0.6em\\\">100<\\/text>\\n      <\\/g>\\n    <\\/g>\\n  <\\/g>\\n  <g clip-path=\\\"url(#img-68b95f90-5)\\\">\\n    <g id=\\\"img-68b95f90-6\\\">\\n      <g pointer-events=\\\"visible\\\" stroke-width=\\\"0.3\\\" fill=\\\"#000000\\\" fill-opacity=\\\"0.000\\\" stroke=\\\"#000000\\\" stroke-opacity=\\\"0.000\\\" class=\\\"guide background\\\" id=\\\"img-68b95f90-7\\\">\\n        <g transform=\\\"translate(77.68,45.52)\\\" id=\\\"img-68b95f90-8\\\">\\n          <path d=\\\"M-58.74,-40.52 L58.74,-40.52 58.74,40.52 -58.74,40.52  z\\\" class=\\\"primitive\\\"\\/>\\n        <\\/g>\\n      <\\/g>\\n      <g class=\\\"guide ygridlines xfixed\\\" stroke-dasharray=\\\"0.5,0.5\\\" stroke-width=\\\"0.2\\\" stroke=\\\"#D0D0E0\\\" id=\\\"img-68b95f90-9\\\">\\n        <g transform=\\\"translate(77.68,84.04)\\\" id=\\\"img-68b95f90-10\\\">\\n          <path fill=\\\"none\\\" d=\\\"M-58.74,0 L58.74,0 \\\" class=\\\"primitive\\\"\\/>\\n        <\\/g>\\n        <g transform=\\\"translate(77.68,64.78)\\\" id=\\\"img-68b95f90-11\\\">\\n          <path fill=\\\"none\\\" d=\\\"M-58.74,0 L58.74,0 \\\" class=\\\"primitive\\\"\\/>\\n        <\\/g>\\n        <g transform=\\\"translate(77.68,45.52)\\\" id=\\\"img-68b95f90-12\\\">\\n          <path fill=\\\"none\\\" d=\\\"M-58.74,0 L58.74,0 \\\" class=\\\"primitive\\\"\\/>\\n        <\\/g>\\n        <g transform=\\\"translate(77.68,26.26)\\\" id=\\\"img-68b95f90-13\\\">\\n          <path fill=\\\"none\\\" d=\\\"M-58.74,0 L58.74,0 \\\" class=\\\"primitive\\\"\\/>\\n        <\\/g>\\n        <g transform=\\\"translate(77.68,7)\\\" id=\\\"img-68b95f90-14\\\">\\n          <path fill=\\\"none\\\" d=\\\"M-58.74,0 L58.74,0 \\\" class=\\\"primitive\\\"\\/>\\n        <\\/g>\\n      <\\/g>\\n      <g class=\\\"guide xgridlines yfixed\\\" stroke-dasharray=\\\"0.5,0.5\\\" stroke-width=\\\"0.2\\\" stroke=\\\"#D0D0E0\\\" id=\\\"img-68b95f90-15\\\">\\n        <g transform=\\\"translate(20.94,45.52)\\\" id=\\\"img-68b95f90-16\\\">\\n          <path fill=\\\"none\\\" d=\\\"M0,-40.52 L0,40.52 \\\" class=\\\"primitive\\\"\\/>\\n        <\\/g>\\n        <g transform=\\\"translate(77.68,45.52)\\\" id=\\\"img-68b95f90-17\\\">\\n          <path fill=\\\"none\\\" d=\\\"M0,-40.52 L0,40.52 \\\" class=\\\"primitive\\\"\\/>\\n        <\\/g>\\n        <g transform=\\\"translate(134.42,45.52)\\\" id=\\\"img-68b95f90-18\\\">\\n          <path fill=\\\"none\\\" d=\\\"M0,-40.52 L0,40.52 \\\" class=\\\"primitive\\\"\\/>\\n        <\\/g>\\n      <\\/g>\\n      <g class=\\\"plotpanel\\\" id=\\\"img-68b95f90-19\\\">\\n        <metadata>\\n          <boundingbox value=\\\"18.936666666666667mm 5.0mm 117.48468957064284mm 81.04333333333335mm\\\"\\/>\\n          <unitbox value=\\\"-1.762352267576169 205.19188335568728 103.52470453515235 -210.38376671137456\\\"\\/>\\n        <\\/metadata>\\n        <g stroke-width=\\\"0.3\\\" fill=\\\"#000000\\\" fill-opacity=\\\"0.000\\\" class=\\\"geometry\\\" id=\\\"img-68b95f90-20\\\">\\n          <g class=\\\"color_LCHab{Float32}(70.0f0,60.0f0,240.0f0)\\\" stroke-dasharray=\\\"none\\\" stroke-opacity=\\\"1\\\" stroke=\\\"#00BFFF\\\" id=\\\"img-68b95f90-21\\\">\\n            <g transform=\\\"translate(77.68,50.48)\\\" id=\\\"img-68b95f90-22\\\">\\n              <path fill=\\\"none\\\" d=\\\"M-56.74,31.64 L-55.61,31.18 -54.47,30.62 -53.34,29.94 -52.2,29.12 -51.07,28.14 -49.93,26.97 -48.8,25.61 -47.66,24.03 -46.53,22.24 -45.39,20.24 -44.26,18.06 -43.12,15.74 -41.99,13.35 -40.85,10.95 -39.72,8.61 -38.58,6.41 -37.45,4.41 -36.32,2.64 -35.18,1.11 -34.05,-0.17 -32.91,-1.21 -31.78,-2.06 -30.64,-2.73 -29.51,-3.25 -28.37,-3.66 -27.24,-3.98 -26.1,-4.21 -24.97,-4.4 -23.83,-4.54 -22.7,-4.64 -21.56,-4.72 -20.43,-4.78 -19.29,-4.82 -18.16,-4.86 -17.02,-4.88 -15.89,-4.9 -14.75,-4.92 -13.62,-4.93 -12.48,-4.93 -11.35,-4.94 -10.21,-4.95 -9.08,-4.95 -7.94,-4.95 -6.81,-4.95 -5.67,-4.95 -4.54,-4.96 -3.4,-4.96 -2.27,-4.96 -1.13,-4.96 0,-4.96 1.13,-4.96 2.27,-4.96 3.4,-4.96 4.54,-4.96 5.67,-4.96 6.81,-4.96 7.94,-4.96 9.08,-4.96 10.21,-4.96 11.35,-4.96 12.48,-4.96 13.62,-4.96 14.75,-4.96 15.89,-4.96 17.02,-4.96 18.16,-4.96 19.29,-4.96 20.43,-4.96 21.56,-4.96 22.7,-4.96 23.83,-4.96 24.97,-4.96 26.1,-4.96 27.24,-4.96 28.37,-4.96 29.51,-4.96 30.64,-4.96 31.78,-4.96 32.91,-4.96 34.05,-4.96 35.18,-4.96 36.32,-4.96 37.45,-4.96 38.58,-4.96 39.72,-4.96 40.85,-4.96 41.99,-4.96 43.12,-4.96 44.26,-4.96 45.39,-4.96 46.53,-4.96 47.66,-4.96 48.8,-4.96 49.93,-4.96 51.07,-4.96 52.2,-4.96 53.34,-4.96 54.47,-4.96 55.61,-4.96 56.74,-4.96 \\\" class=\\\"primitive\\\"\\/>\\n            <\\/g>\\n          <\\/g>\\n        <\\/g>\\n      <\\/g>\\n    <\\/g>\\n  <\\/g>\\n  <g class=\\\"guide ylabels\\\" font-size=\\\"2.82\\\" font-family=\\\"'PT Sans Caption','Helvetica Neue','Helvetica',sans-serif\\\" fill=\\\"#6C606B\\\" id=\\\"img-68b95f90-23\\\">\\n    <g transform=\\\"translate(17.94,84.04)\\\" id=\\\"img-68b95f90-24\\\">\\n      <g class=\\\"primitive\\\">\\n        <text text-anchor=\\\"end\\\" dy=\\\"0.35em\\\">0<\\/text>\\n      <\\/g>\\n    <\\/g>\\n    <g transform=\\\"translate(17.94,64.78)\\\" id=\\\"img-68b95f90-25\\\">\\n      <g class=\\\"primitive\\\">\\n        <text text-anchor=\\\"end\\\" dy=\\\"0.35em\\\">50<\\/text>\\n      <\\/g>\\n    <\\/g>\\n    <g transform=\\\"translate(17.94,45.52)\\\" id=\\\"img-68b95f90-26\\\">\\n      <g class=\\\"primitive\\\">\\n        <text text-anchor=\\\"end\\\" dy=\\\"0.35em\\\">100<\\/text>\\n      <\\/g>\\n    <\\/g>\\n    <g transform=\\\"translate(17.94,26.26)\\\" id=\\\"img-68b95f90-27\\\">\\n      <g class=\\\"primitive\\\">\\n        <text text-anchor=\\\"end\\\" dy=\\\"0.35em\\\">150<\\/text>\\n      <\\/g>\\n    <\\/g>\\n    <g transform=\\\"translate(17.94,7)\\\" id=\\\"img-68b95f90-28\\\">\\n      <g class=\\\"primitive\\\">\\n        <text text-anchor=\\\"end\\\" dy=\\\"0.35em\\\">200<\\/text>\\n      <\\/g>\\n    <\\/g>\\n  <\\/g>\\n  <g font-size=\\\"3.53\\\" font-family=\\\"'PT Sans','Helvetica Neue','Helvetica',sans-serif\\\" fill=\\\"#564A55\\\" stroke=\\\"#000000\\\" stroke-opacity=\\\"0.000\\\" id=\\\"img-68b95f90-29\\\">\\n    <g transform=\\\"translate(9.92,45.52)\\\" id=\\\"img-68b95f90-30\\\">\\n      <g class=\\\"primitive\\\">\\n        <text text-anchor=\\\"end\\\" dy=\\\"0.35em\\\">W<\\/text>\\n      <\\/g>\\n    <\\/g>\\n  <\\/g>\\n<\\/g>\\n<defs>\\n  <clipPath id=\\\"img-68b95f90-5\\\">\\n    <path d=\\\"M18.94,5 L136.42,5 136.42,86.04 18.94,86.04 \\\" \\/>\\n  <\\/clipPath>\\n<\\/defs>\\n<\\/svg>\\n\"},\"nodeType\":\"DOM\",\"type\":\"node\",\"instanceArgs\":{\"namespace\":\"html\",\"tag\":\"div\"},\"children\":[]}]}]},\n",
       "        window,\n",
       "    );\n",
       "    })()\n",
       "    </script>\n",
       "</div>\n"
      ],
      "text/plain": [
       "WebIO.Node{WebIO.DOM}(WebIO.DOM(:html, :div), Any[WebIO.Node{WebIO.DOM}(WebIO.DOM(:html, :div), Any[\"Logi\"], Dict{Symbol, Any}(:style => Dict{String, Any}(\"color\" => :rebeccapurple, \"font-family\" => \"monospace\"))), WebIO.Node{WebIO.DOM}(WebIO.DOM(:html, :div), Any[WebIO.Scope(WebIO.Node{WebIO.DOM}(WebIO.DOM(:html, :div), Any[WebIO.Node{WebIO.DOM}(WebIO.DOM(:html, :div), Any[WebIO.Node{WebIO.DOM}(WebIO.DOM(:html, :label), Any[\"μ\"], Dict{Symbol, Any}(:className => \"interact \", :style => Dict{Any, Any}(:padding => \"5px 10px 0px 10px\", \"white-space\" => :nowrap, \"color\" => :royalblue)))], Dict{Symbol, Any}(:className => \"interact-flex-row-left\")), WebIO.Node{WebIO.DOM}(WebIO.DOM(:html, :div), Any[WebIO.Node{WebIO.DOM}(WebIO.DOM(:html, :input), Any[], Dict{Symbol, Any}(:max => 51, :min => 1, :attributes => Dict{Any, Any}(:type => \"range\", Symbol(\"data-bind\") => \"numericValue: index, valueUpdate: 'input', event: {change: function (){this.changes(this.changes()+1)}}\", \"orient\" => \"horizontal\"), :step => 1, :className => \"slider slider is-fullwidth\", :style => Dict{Any, Any}()))], Dict{Symbol, Any}(:className => \"interact-flex-row-center\")), WebIO.Node{WebIO.DOM}(WebIO.DOM(:html, :div), Any[WebIO.Node{WebIO.DOM}(WebIO.DOM(:html, :p), Any[], Dict{Symbol, Any}(:attributes => Dict(\"data-bind\" => \"text: formatted_val\")))], Dict{Symbol, Any}(:className => \"interact-flex-row-right\"))], Dict{Symbol, Any}(:className => \"interact-flex-row interact-widget\", :style => Dict(\"font-family\" => \"monospace\", \"width\" => \"80%\"))), Dict{String, Tuple{Observables.AbstractObservable, Union{Nothing, Bool}}}(\"changes\" => (Observable(0), nothing), \"index\" => (Observable{Any}(26), nothing)), Set{String}(), nothing, WebIO.Asset[WebIO.Asset(\"js\", \"knockout\", \"/opt/julia/packages/Knockout/HReiN/src/../assets/knockout.js\"), WebIO.Asset(\"js\", \"knockout_punches\", \"/opt/julia/packages/Knockout/HReiN/src/../assets/knockout_punches.js\"), WebIO.Asset(\"js\", nothing, \"/opt/julia/packages/InteractBase/LJXv3/src/../assets/all.js\"), WebIO.Asset(\"css\", nothing, \"/opt/julia/packages/InteractBase/LJXv3/src/../assets/style.css\"), WebIO.Asset(\"css\", nothing, \"/opt/julia/packages/Interact/PENUy/src/../assets/bulma_confined.min.css\")], Dict{Any, Any}(\"changes\" => Any[WebIO.JSString(\"(function (val){return (val!=this.model[\\\"changes\\\"]()) ? (this.valueFromJulia[\\\"changes\\\"]=true, this.model[\\\"changes\\\"](val)) : undefined})\")], \"index\" => Any[WebIO.JSString(\"(function (val){return (val!=this.model[\\\"index\\\"]()) ? (this.valueFromJulia[\\\"index\\\"]=true, this.model[\\\"index\\\"](val)) : undefined})\")]), WebIO.ConnectionPool(Channel{Any}(32), Set{WebIO.AbstractConnection}(), Base.GenericCondition{ReentrantLock}(Base.IntrusiveLinkedList{Task}(Task (runnable) @0x0000ffff5c6f68c0, Task (runnable) @0x0000ffff5c6f68c0), ReentrantLock(nothing, 0x00000000, 0x00, Base.GenericCondition{Base.Threads.SpinLock}(Base.IntrusiveLinkedList{Task}(nothing, nothing), Base.Threads.SpinLock(0)), (0, 0, 141733920768)))), WebIO.JSString[WebIO.JSString(\"function () {\\n    var handler = (function (ko, koPunches) {\\n    ko.punches.enableAll();\\n    ko.bindingHandlers.numericValue = {\\n        init: function(element, valueAccessor, allBindings, data, context) {\\n            var stringified = ko.observable(ko.unwrap(valueAccessor()));\\n            stringified.subscribe(function(value) {\\n                var val = parseFloat(value);\\n                if (!isNaN(val)) {\\n                    valueAccessor()(val);\\n                }\\n            });\\n            valueAccessor().subscribe(function(value) {\\n                var str = JSON.stringify(value);\\n                if ((str == \\\"0\\\") && ([\\\"-0\\\", \\\"-0.\\\"].indexOf(stringified()) >= 0))\\n                     return;\\n                 if ([\\\"null\\\", \\\"\\\"].indexOf(str) >= 0)\\n                     return;\\n                stringified(str);\\n            });\\n            ko.applyBindingsToNode(\\n                element,\\n                {\\n                    value: stringified,\\n                    valueUpdate: allBindings.get('valueUpdate'),\\n                },\\n                context,\\n            );\\n        }\\n    };\\n    var json_data = {\\\"formatted_vals\\\":[\\\"0.0\\\",\\\"0.01\\\",\\\"0.02\\\",\\\"0.03\\\",\\\"0.04\\\",\\\"0.05\\\",\\\"0.06\\\",\\\"0.07\\\",\\\"0.08\\\",\\\"0.09\\\",\\\"0.1\\\",\\\"0.11\\\",\\\"0.12\\\",\\\"0.13\\\",\\\"0.14\\\",\\\"0.15\\\",\\\"0.16\\\",\\\"0.17\\\",\\\"0.18\\\",\\\"0.19\\\",\\\"0.2\\\",\\\"0.21\\\",\\\"0.22\\\",\\\"0.23\\\",\\\"0.24\\\",\\\"0.25\\\",\\\"0.26\\\",\\\"0.27\\\",\\\"0.28\\\",\\\"0.29\\\",\\\"0.3\\\",\\\"0.31\\\",\\\"0.32\\\",\\\"0.33\\\",\\\"0.34\\\",\\\"0.35\\\",\\\"0.36\\\",\\\"0.37\\\",\\\"0.38\\\",\\\"0.39\\\",\\\"0.4\\\",\\\"0.41\\\",\\\"0.42\\\",\\\"0.43\\\",\\\"0.44\\\",\\\"0.45\\\",\\\"0.46\\\",\\\"0.47\\\",\\\"0.48\\\",\\\"0.49\\\",\\\"0.5\\\"],\\\"changes\\\":WebIO.getval({\\\"name\\\":\\\"changes\\\",\\\"scope\\\":\\\"3966677962069238682\\\",\\\"id\\\":\\\"12723503513233104403\\\",\\\"type\\\":\\\"observable\\\"}),\\\"index\\\":WebIO.getval({\\\"name\\\":\\\"index\\\",\\\"scope\\\":\\\"3966677962069238682\\\",\\\"id\\\":\\\"2443612842257979954\\\",\\\"type\\\":\\\"observable\\\"})};\\n    var self = this;\\n    function AppViewModel() {\\n        for (var key in json_data) {\\n            var el = json_data[key];\\n            this[key] = Array.isArray(el) ? ko.observableArray(el) : ko.observable(el);\\n        }\\n        \\n        [this[\\\"formatted_val\\\"]=ko.computed(    function(){\\n        return this.formatted_vals()[parseInt(this.index())-(1)];\\n    }\\n,this)]\\n        [this[\\\"changes\\\"].subscribe((function (val){!(this.valueFromJulia[\\\"changes\\\"]) ? (WebIO.setval({\\\"name\\\":\\\"changes\\\",\\\"scope\\\":\\\"3966677962069238682\\\",\\\"id\\\":\\\"12723503513233104403\\\",\\\"type\\\":\\\"observable\\\"},val)) : undefined; return this.valueFromJulia[\\\"changes\\\"]=false}),self),this[\\\"index\\\"].subscribe((function (val){!(this.valueFromJulia[\\\"index\\\"]) ? (WebIO.setval({\\\"name\\\":\\\"index\\\",\\\"scope\\\":\\\"3966677962069238682\\\",\\\"id\\\":\\\"2443612842257979954\\\",\\\"type\\\":\\\"observable\\\"},val)) : undefined; return this.valueFromJulia[\\\"index\\\"]=false}),self)]\\n        \\n    }\\n    self.model = new AppViewModel();\\n    self.valueFromJulia = {};\\n    for (var key in json_data) {\\n        self.valueFromJulia[key] = false;\\n    }\\n    ko.applyBindings(self.model, self.dom);\\n}\\n);\\n    (WebIO.importBlock({\\\"data\\\":[{\\\"name\\\":\\\"knockout\\\",\\\"type\\\":\\\"js\\\",\\\"url\\\":\\\"/assetserver/d749de49a15576291e39755d819be2408bf7f995-knockout.js\\\"},{\\\"name\\\":\\\"knockout_punches\\\",\\\"type\\\":\\\"js\\\",\\\"url\\\":\\\"/assetserver/9f5c86158cf79faf331cfb32636cb08a9b1f0dc2-knockout_punches.js\\\"}],\\\"type\\\":\\\"async_block\\\"})).then((imports) => handler.apply(this, imports));\\n}\\n\")])], Dict{Symbol, Any}(:className => \"field interact-widget\")), WebIO.Node{WebIO.DOM}(WebIO.DOM(:html, :div), Any[WebIO.Scope(WebIO.Node{WebIO.DOM}(WebIO.DOM(:html, :div), Any[WebIO.Node{WebIO.DOM}(WebIO.DOM(:html, :div), Any[WebIO.Node{WebIO.DOM}(WebIO.DOM(:html, :label), Any[\"W0\"], Dict{Symbol, Any}(:className => \"interact \", :style => Dict{Any, Any}(:padding => \"5px 10px 0px 10px\", \"white-space\" => :nowrap, \"color\" => :royalblue)))], Dict{Symbol, Any}(:className => \"interact-flex-row-left\")), WebIO.Node{WebIO.DOM}(WebIO.DOM(:html, :div), Any[WebIO.Node{WebIO.DOM}(WebIO.DOM(:html, :input), Any[], Dict{Symbol, Any}(:max => 101, :min => 1, :attributes => Dict{Any, Any}(:type => \"range\", Symbol(\"data-bind\") => \"numericValue: index, valueUpdate: 'input', event: {change: function (){this.changes(this.changes()+1)}}\", \"orient\" => \"horizontal\"), :step => 1, :className => \"slider slider is-fullwidth\", :style => Dict{Any, Any}()))], Dict{Symbol, Any}(:className => \"interact-flex-row-center\")), WebIO.Node{WebIO.DOM}(WebIO.DOM(:html, :div), Any[WebIO.Node{WebIO.DOM}(WebIO.DOM(:html, :p), Any[], Dict{Symbol, Any}(:attributes => Dict(\"data-bind\" => \"text: formatted_val\")))], Dict{Symbol, Any}(:className => \"interact-flex-row-right\"))], Dict{Symbol, Any}(:className => \"interact-flex-row interact-widget\", :style => Dict(\"font-family\" => \"monospace\", \"width\" => \"80%\"))), Dict{String, Tuple{Observables.AbstractObservable, Union{Nothing, Bool}}}(\"changes\" => (Observable(0), nothing), \"index\" => (Observable{Any}(51), nothing)), Set{String}(), nothing, WebIO.Asset[WebIO.Asset(\"js\", \"knockout\", \"/opt/julia/packages/Knockout/HReiN/src/../assets/knockout.js\"), WebIO.Asset(\"js\", \"knockout_punches\", \"/opt/julia/packages/Knockout/HReiN/src/../assets/knockout_punches.js\"), WebIO.Asset(\"js\", nothing, \"/opt/julia/packages/InteractBase/LJXv3/src/../assets/all.js\"), WebIO.Asset(\"css\", nothing, \"/opt/julia/packages/InteractBase/LJXv3/src/../assets/style.css\"), WebIO.Asset(\"css\", nothing, \"/opt/julia/packages/Interact/PENUy/src/../assets/bulma_confined.min.css\")], Dict{Any, Any}(\"changes\" => Any[WebIO.JSString(\"(function (val){return (val!=this.model[\\\"changes\\\"]()) ? (this.valueFromJulia[\\\"changes\\\"]=true, this.model[\\\"changes\\\"](val)) : undefined})\")], \"index\" => Any[WebIO.JSString(\"(function (val){return (val!=this.model[\\\"index\\\"]()) ? (this.valueFromJulia[\\\"index\\\"]=true, this.model[\\\"index\\\"](val)) : undefined})\")]), WebIO.ConnectionPool(Channel{Any}(32), Set{WebIO.AbstractConnection}(), Base.GenericCondition{ReentrantLock}(Base.IntrusiveLinkedList{Task}(Task (runnable) @0x0000ffff5c6f6e90, Task (runnable) @0x0000ffff5c6f6e90), ReentrantLock(nothing, 0x00000000, 0x00, Base.GenericCondition{Base.Threads.SpinLock}(Base.IntrusiveLinkedList{Task}(nothing, nothing), Base.Threads.SpinLock(0)), (0, 0, 141733920768)))), WebIO.JSString[WebIO.JSString(\"function () {\\n    var handler = (function (ko, koPunches) {\\n    ko.punches.enableAll();\\n    ko.bindingHandlers.numericValue = {\\n        init: function(element, valueAccessor, allBindings, data, context) {\\n            var stringified = ko.observable(ko.unwrap(valueAccessor()));\\n            stringified.subscribe(function(value) {\\n                var val = parseFloat(value);\\n                if (!isNaN(val)) {\\n                    valueAccessor()(val);\\n                }\\n            });\\n            valueAccessor().subscribe(function(value) {\\n                var str = JSON.stringify(value);\\n                if ((str == \\\"0\\\") && ([\\\"-0\\\", \\\"-0.\\\"].indexOf(stringified()) >= 0))\\n                     return;\\n                 if ([\\\"null\\\", \\\"\\\"].indexOf(str) >= 0)\\n                     return;\\n                stringified(str);\\n            });\\n            ko.applyBindingsToNode(\\n                element,\\n                {\\n                    value: stringified,\\n                    valueUpdate: allBindings.get('valueUpdate'),\\n                },\\n                context,\\n            );\\n        }\\n    };\\n    var json_data = {\\\"formatted_vals\\\":[\\\"0.0\\\",\\\"0.1\\\",\\\"0.2\\\",\\\"0.3\\\",\\\"0.4\\\",\\\"0.5\\\",\\\"0.6\\\",\\\"0.7\\\",\\\"0.8\\\",\\\"0.9\\\",\\\"1.0\\\",\\\"1.1\\\",\\\"1.2\\\",\\\"1.3\\\",\\\"1.4\\\",\\\"1.5\\\",\\\"1.6\\\",\\\"1.7\\\",\\\"1.8\\\",\\\"1.9\\\",\\\"2.0\\\",\\\"2.1\\\",\\\"2.2\\\",\\\"2.3\\\",\\\"2.4\\\",\\\"2.5\\\",\\\"2.6\\\",\\\"2.7\\\",\\\"2.8\\\",\\\"2.9\\\",\\\"3.0\\\",\\\"3.1\\\",\\\"3.2\\\",\\\"3.3\\\",\\\"3.4\\\",\\\"3.5\\\",\\\"3.6\\\",\\\"3.7\\\",\\\"3.8\\\",\\\"3.9\\\",\\\"4.0\\\",\\\"4.1\\\",\\\"4.2\\\",\\\"4.3\\\",\\\"4.4\\\",\\\"4.5\\\",\\\"4.6\\\",\\\"4.7\\\",\\\"4.8\\\",\\\"4.9\\\",\\\"5.0\\\",\\\"5.1\\\",\\\"5.2\\\",\\\"5.3\\\",\\\"5.4\\\",\\\"5.5\\\",\\\"5.6\\\",\\\"5.7\\\",\\\"5.8\\\",\\\"5.9\\\",\\\"6.0\\\",\\\"6.1\\\",\\\"6.2\\\",\\\"6.3\\\",\\\"6.4\\\",\\\"6.5\\\",\\\"6.6\\\",\\\"6.7\\\",\\\"6.8\\\",\\\"6.9\\\",\\\"7.0\\\",\\\"7.1\\\",\\\"7.2\\\",\\\"7.3\\\",\\\"7.4\\\",\\\"7.5\\\",\\\"7.6\\\",\\\"7.7\\\",\\\"7.8\\\",\\\"7.9\\\",\\\"8.0\\\",\\\"8.1\\\",\\\"8.2\\\",\\\"8.3\\\",\\\"8.4\\\",\\\"8.5\\\",\\\"8.6\\\",\\\"8.7\\\",\\\"8.8\\\",\\\"8.9\\\",\\\"9.0\\\",\\\"9.1\\\",\\\"9.2\\\",\\\"9.3\\\",\\\"9.4\\\",\\\"9.5\\\",\\\"9.6\\\",\\\"9.7\\\",\\\"9.8\\\",\\\"9.9\\\",\\\"10.0\\\"],\\\"changes\\\":WebIO.getval({\\\"name\\\":\\\"changes\\\",\\\"scope\\\":\\\"16020679144057788239\\\",\\\"id\\\":\\\"647806031206214739\\\",\\\"type\\\":\\\"observable\\\"}),\\\"index\\\":WebIO.getval({\\\"name\\\":\\\"index\\\",\\\"scope\\\":\\\"16020679144057788239\\\",\\\"id\\\":\\\"14042600754140583102\\\",\\\"type\\\":\\\"observable\\\"})};\\n    var self = this;\\n    function AppViewModel() {\\n        for (var key in json_data) {\\n            var el = json_data[key];\\n            this[key] = Array.isArray(el) ? ko.observableArray(el) : ko.observable(el);\\n        }\\n        \\n        [this[\\\"formatted_val\\\"]=ko.computed(    function(){\\n        return this.formatted_vals()[parseInt(this.index())-(1)];\\n    }\\n,this)]\\n        [this[\\\"changes\\\"].subscribe((function (val){!(this.valueFromJulia[\\\"changes\\\"]) ? (WebIO.setval({\\\"name\\\":\\\"changes\\\",\\\"scope\\\":\\\"16020679144057788239\\\",\\\"id\\\":\\\"647806031206214739\\\",\\\"type\\\":\\\"observable\\\"},val)) : undefined; return this.valueFromJulia[\\\"changes\\\"]=false}),self),this[\\\"index\\\"].subscribe((function (val){!(this.valueFromJulia[\\\"index\\\"]) ? (WebIO.setval({\\\"name\\\":\\\"index\\\",\\\"scope\\\":\\\"16020679144057788239\\\",\\\"id\\\":\\\"14042600754140583102\\\",\\\"type\\\":\\\"observable\\\"},val)) : undefined; return this.valueFromJulia[\\\"index\\\"]=false}),self)]\\n        \\n    }\\n    self.model = new AppViewModel();\\n    self.valueFromJulia = {};\\n    for (var key in json_data) {\\n        self.valueFromJulia[key] = false;\\n    }\\n    ko.applyBindings(self.model, self.dom);\\n}\\n);\\n    (WebIO.importBlock({\\\"data\\\":[{\\\"name\\\":\\\"knockout\\\",\\\"type\\\":\\\"js\\\",\\\"url\\\":\\\"/assetserver/d749de49a15576291e39755d819be2408bf7f995-knockout.js\\\"},{\\\"name\\\":\\\"knockout_punches\\\",\\\"type\\\":\\\"js\\\",\\\"url\\\":\\\"/assetserver/9f5c86158cf79faf331cfb32636cb08a9b1f0dc2-knockout_punches.js\\\"}],\\\"type\\\":\\\"async_block\\\"})).then((imports) => handler.apply(this, imports));\\n}\\n\")])], Dict{Symbol, Any}(:className => \"field interact-widget\")), WebIO.Node{WebIO.DOM}(WebIO.DOM(:html, :div), Any[WebIO.Scope(WebIO.Node{WebIO.DOM}(WebIO.DOM(:html, :div), Any[WebIO.Node{WebIO.DOM}(WebIO.DOM(:html, :div), Any[WebIO.Node{WebIO.DOM}(WebIO.DOM(:html, :label), Any[\"Wf\"], Dict{Symbol, Any}(:className => \"interact \", :style => Dict{Any, Any}(:padding => \"5px 10px 0px 10px\", \"white-space\" => :nowrap, \"color\" => :royalblue)))], Dict{Symbol, Any}(:className => \"interact-flex-row-left\")), WebIO.Node{WebIO.DOM}(WebIO.DOM(:html, :div), Any[WebIO.Node{WebIO.DOM}(WebIO.DOM(:html, :input), Any[], Dict{Symbol, Any}(:max => 20, :min => 1, :attributes => Dict{Any, Any}(:type => \"range\", Symbol(\"data-bind\") => \"numericValue: index, valueUpdate: 'input', event: {change: function (){this.changes(this.changes()+1)}}\", \"orient\" => \"horizontal\"), :step => 1, :className => \"slider slider is-fullwidth\", :style => Dict{Any, Any}()))], Dict{Symbol, Any}(:className => \"interact-flex-row-center\")), WebIO.Node{WebIO.DOM}(WebIO.DOM(:html, :div), Any[WebIO.Node{WebIO.DOM}(WebIO.DOM(:html, :p), Any[], Dict{Symbol, Any}(:attributes => Dict(\"data-bind\" => \"text: formatted_val\")))], Dict{Symbol, Any}(:className => \"interact-flex-row-right\"))], Dict{Symbol, Any}(:className => \"interact-flex-row interact-widget\", :style => Dict(\"font-family\" => \"monospace\", \"width\" => \"80%\"))), Dict{String, Tuple{Observables.AbstractObservable, Union{Nothing, Bool}}}(\"changes\" => (Observable(0), nothing), \"index\" => (Observable{Any}(10), nothing)), Set{String}(), nothing, WebIO.Asset[WebIO.Asset(\"js\", \"knockout\", \"/opt/julia/packages/Knockout/HReiN/src/../assets/knockout.js\"), WebIO.Asset(\"js\", \"knockout_punches\", \"/opt/julia/packages/Knockout/HReiN/src/../assets/knockout_punches.js\"), WebIO.Asset(\"js\", nothing, \"/opt/julia/packages/InteractBase/LJXv3/src/../assets/all.js\"), WebIO.Asset(\"css\", nothing, \"/opt/julia/packages/InteractBase/LJXv3/src/../assets/style.css\"), WebIO.Asset(\"css\", nothing, \"/opt/julia/packages/Interact/PENUy/src/../assets/bulma_confined.min.css\")], Dict{Any, Any}(\"changes\" => Any[WebIO.JSString(\"(function (val){return (val!=this.model[\\\"changes\\\"]()) ? (this.valueFromJulia[\\\"changes\\\"]=true, this.model[\\\"changes\\\"](val)) : undefined})\")], \"index\" => Any[WebIO.JSString(\"(function (val){return (val!=this.model[\\\"index\\\"]()) ? (this.valueFromJulia[\\\"index\\\"]=true, this.model[\\\"index\\\"](val)) : undefined})\")]), WebIO.ConnectionPool(Channel{Any}(32), Set{WebIO.AbstractConnection}(), Base.GenericCondition{ReentrantLock}(Base.IntrusiveLinkedList{Task}(Task (runnable) @0x0000ffff5c6f7080, Task (runnable) @0x0000ffff5c6f7080), ReentrantLock(nothing, 0x00000000, 0x00, Base.GenericCondition{Base.Threads.SpinLock}(Base.IntrusiveLinkedList{Task}(nothing, nothing), Base.Threads.SpinLock(0)), (0, 0, 141733920768)))), WebIO.JSString[WebIO.JSString(\"function () {\\n    var handler = (function (ko, koPunches) {\\n    ko.punches.enableAll();\\n    ko.bindingHandlers.numericValue = {\\n        init: function(element, valueAccessor, allBindings, data, context) {\\n            var stringified = ko.observable(ko.unwrap(valueAccessor()));\\n            stringified.subscribe(function(value) {\\n                var val = parseFloat(value);\\n                if (!isNaN(val)) {\\n                    valueAccessor()(val);\\n                }\\n            });\\n            valueAccessor().subscribe(function(value) {\\n                var str = JSON.stringify(value);\\n                if ((str == \\\"0\\\") && ([\\\"-0\\\", \\\"-0.\\\"].indexOf(stringified()) >= 0))\\n                     return;\\n                 if ([\\\"null\\\", \\\"\\\"].indexOf(str) >= 0)\\n                     return;\\n                stringified(str);\\n            });\\n            ko.applyBindingsToNode(\\n                element,\\n                {\\n                    value: stringified,\\n                    valueUpdate: allBindings.get('valueUpdate'),\\n                },\\n                context,\\n            );\\n        }\\n    };\\n    var json_data = {\\\"formatted_vals\\\":[\\\"10\\\",\\\"20\\\",\\\"30\\\",\\\"40\\\",\\\"50\\\",\\\"60\\\",\\\"70\\\",\\\"80\\\",\\\"90\\\",\\\"100\\\",\\\"110\\\",\\\"120\\\",\\\"130\\\",\\\"140\\\",\\\"150\\\",\\\"160\\\",\\\"170\\\",\\\"180\\\",\\\"190\\\",\\\"200\\\"],\\\"changes\\\":WebIO.getval({\\\"name\\\":\\\"changes\\\",\\\"scope\\\":\\\"5962539331190476740\\\",\\\"id\\\":\\\"7877352850598515692\\\",\\\"type\\\":\\\"observable\\\"}),\\\"index\\\":WebIO.getval({\\\"name\\\":\\\"index\\\",\\\"scope\\\":\\\"5962539331190476740\\\",\\\"id\\\":\\\"17359439045876514770\\\",\\\"type\\\":\\\"observable\\\"})};\\n    var self = this;\\n    function AppViewModel() {\\n        for (var key in json_data) {\\n            var el = json_data[key];\\n            this[key] = Array.isArray(el) ? ko.observableArray(el) : ko.observable(el);\\n        }\\n        \\n        [this[\\\"formatted_val\\\"]=ko.computed(    function(){\\n        return this.formatted_vals()[parseInt(this.index())-(1)];\\n    }\\n,this)]\\n        [this[\\\"changes\\\"].subscribe((function (val){!(this.valueFromJulia[\\\"changes\\\"]) ? (WebIO.setval({\\\"name\\\":\\\"changes\\\",\\\"scope\\\":\\\"5962539331190476740\\\",\\\"id\\\":\\\"7877352850598515692\\\",\\\"type\\\":\\\"observable\\\"},val)) : undefined; return this.valueFromJulia[\\\"changes\\\"]=false}),self),this[\\\"index\\\"].subscribe((function (val){!(this.valueFromJulia[\\\"index\\\"]) ? (WebIO.setval({\\\"name\\\":\\\"index\\\",\\\"scope\\\":\\\"5962539331190476740\\\",\\\"id\\\":\\\"17359439045876514770\\\",\\\"type\\\":\\\"observable\\\"},val)) : undefined; return this.valueFromJulia[\\\"index\\\"]=false}),self)]\\n        \\n    }\\n    self.model = new AppViewModel();\\n    self.valueFromJulia = {};\\n    for (var key in json_data) {\\n        self.valueFromJulia[key] = false;\\n    }\\n    ko.applyBindings(self.model, self.dom);\\n}\\n);\\n    (WebIO.importBlock({\\\"data\\\":[{\\\"name\\\":\\\"knockout\\\",\\\"type\\\":\\\"js\\\",\\\"url\\\":\\\"/assetserver/d749de49a15576291e39755d819be2408bf7f995-knockout.js\\\"},{\\\"name\\\":\\\"knockout_punches\\\",\\\"type\\\":\\\"js\\\",\\\"url\\\":\\\"/assetserver/9f5c86158cf79faf331cfb32636cb08a9b1f0dc2-knockout_punches.js\\\"}],\\\"type\\\":\\\"async_block\\\"})).then((imports) => handler.apply(this, imports));\\n}\\n\")])], Dict{Symbol, Any}(:className => \"field interact-widget\")), Observable(Gadfly.Plot(Gadfly.Layer[Gadfly.Layer(nothing, Dict{Symbol, Any}(:y => [5.0, 6.1875, 7.638662109375, 9.402454739665746, 11.532053036753526, 14.082595677835666, 17.107445844731092, 20.65264554758785, 24.74947751419906, 29.405505299684215  …  99.99999998000396, 99.99999998500297, 99.99999998875222, 99.99999999156417, 99.99999999367313, 99.99999999525485, 99.99999999644115, 99.99999999733086, 99.99999999799815, 99.99999999849861], :x => [0.0, 1.0, 2.0, 3.0, 4.0, 5.0, 6.0, 7.0, 8.0, 9.0  …  91.0, 92.0, 93.0, 94.0, 95.0, 96.0, 97.0, 98.0, 99.0, 100.0]), Gadfly.StatisticElement[], Gadfly.Geom.LineGeometry(Gadfly.Stat.Identity(), false, 2, Symbol(\"\")), Gadfly.Theme(LCHab{Float32}(70.0f0,60.0f0,240.0f0), 0.7mm, 0.45mm, 1.8mm, Gadfly.Scale.default_discrete_sizes, Gadfly.Scale.default_continuous_sizes, Gadfly.Scale.default_discrete_colors, Function[Compose.circle, Gadfly.Shape.square, Gadfly.Shape.diamond, Gadfly.Shape.cross, Gadfly.Shape.xcross, Gadfly.Shape.utriangle, Gadfly.Shape.dtriangle, Gadfly.Shape.star1, Gadfly.Shape.star2, Gadfly.Shape.hexagon, Gadfly.Shape.octagon, Gadfly.Shape.hline, Gadfly.Shape.vline, Gadfly.Shape.ltriangle, Gadfly.Shape.rtriangle], 0.3mm, [:solid, :dash, :dot, :dashdot, :dashdotdot, :ldash, :ldashdash, :ldashdot, :ldashdashdot], [1.0, 0.9, 0.8, 0.7, 0.6, 0.5, 0.4, 0.3, 0.2, 0.1, 0.0], nothing, nothing, 0.3mm, 0.0, RGB{N0f8}(1.0,1.0,1.0), Measures.AbsoluteLength[5.0mm, 5.0mm, 5.0mm, 0.0mm], RGB{N0f8}(0.816,0.816,0.878), Measures.AbsoluteLength[0.5mm, 0.5mm], RGB{N0f8}(0.627,0.627,0.627), 0.2mm, 0, \"'PT Sans Caption','Helvetica Neue','Helvetica',sans-serif\", 2.822222222222222mm, RGB{N0f8}(0.424,0.376,0.42), \"'PT Sans','Helvetica Neue','Helvetica',sans-serif\", 3.5277777777777777mm, RGB{N0f8}(0.337,0.29,0.333), \"'PT Sans Caption','Helvetica Neue','Helvetica',sans-serif\", 2.822222222222222mm, RGB{N0f8}(0.298,0.251,0.294), \"'PT Sans','Helvetica Neue','Helvetica',sans-serif\", 3.175mm, RGB{N0f8}(0.212,0.165,0.208), \"'PT Sans','Helvetica Neue','Helvetica',sans-serif\", 2.822222222222222mm, RGB{N0f8}(0.298,0.251,0.294), 40, -0.05mm, 1.0mm, 3.0mm, Gadfly.default_stroke_color, 0.3mm, Cropbox.var\"#603#612\"(), Gadfly.default_continuous_highlight_color, Gadfly.default_lowlight_color, Gadfly.default_middle_color, 0.6mm, :left, :square, nothing, nothing, nothing, :right, nothing, 2.0mm, 1000, 10.0, 0.5, 0.2, 1.0mm, 4, Gadfly.Scale.DiscreteColorScale(Gadfly.Scale.default_discrete_colors, nothing, nothing, true), Gadfly.Scale.ContinuousColorScale(Gadfly.Scale.var\"#73#77\"{Int64, Int64, Int64, Int64, Float64, Int64}(100, 40, 260, 10, 1.5, 70), Gadfly.Scale.ContinuousScaleTransform(identity, identity, Gadfly.Scale.identity_formatter), nothing, nothing)), 1)], nothing, Data(\n",
       "  titles=Dict{Symbol, AbstractString}()\n",
       ")\n",
       ", Gadfly.ScaleElement[], Gadfly.StatisticElement[], Gadfly.Coord.Cartesian([:x, :xmin, :xmax, :xintercept], [:y, :ymin, :ymax, :yintercept, :middle, :lower_hinge, :upper_hinge, :lower_fence, :upper_fence, :outliers], 0.0, 100.0, 0, 200, false, false, false, nothing, false), Gadfly.GuideElement[Gadfly.Guide.Title(\"\"), Gadfly.Guide.XLabel(\"t\", :auto), Gadfly.Guide.YLabel(\"W\", :auto)], Gadfly.Theme(LCHab{Float32}(70.0f0,60.0f0,240.0f0), 0.7mm, 0.45mm, 1.8mm, Gadfly.Scale.default_discrete_sizes, Gadfly.Scale.default_continuous_sizes, Gadfly.Scale.default_discrete_colors, Function[Compose.circle, Gadfly.Shape.square, Gadfly.Shape.diamond, Gadfly.Shape.cross, Gadfly.Shape.xcross, Gadfly.Shape.utriangle, Gadfly.Shape.dtriangle, Gadfly.Shape.star1, Gadfly.Shape.star2, Gadfly.Shape.hexagon, Gadfly.Shape.octagon, Gadfly.Shape.hline, Gadfly.Shape.vline, Gadfly.Shape.ltriangle, Gadfly.Shape.rtriangle], 0.3mm, [:solid, :dash, :dot, :dashdot, :dashdotdot, :ldash, :ldashdash, :ldashdot, :ldashdashdot], [1.0, 0.9, 0.8, 0.7, 0.6, 0.5, 0.4, 0.3, 0.2, 0.1, 0.0], nothing, nothing, 0.3mm, 0.0, RGB{N0f8}(1.0,1.0,1.0), Measures.AbsoluteLength[5.0mm, 5.0mm, 5.0mm, 0.0mm], RGB{N0f8}(0.816,0.816,0.878), Measures.AbsoluteLength[0.5mm, 0.5mm], RGB{N0f8}(0.627,0.627,0.627), 0.2mm, 0, \"'PT Sans Caption','Helvetica Neue','Helvetica',sans-serif\", 2.822222222222222mm, RGB{N0f8}(0.424,0.376,0.42), \"'PT Sans','Helvetica Neue','Helvetica',sans-serif\", 3.5277777777777777mm, RGB{N0f8}(0.337,0.29,0.333), \"'PT Sans Caption','Helvetica Neue','Helvetica',sans-serif\", 2.822222222222222mm, RGB{N0f8}(0.298,0.251,0.294), \"'PT Sans','Helvetica Neue','Helvetica',sans-serif\", 3.175mm, RGB{N0f8}(0.212,0.165,0.208), \"'PT Sans','Helvetica Neue','Helvetica',sans-serif\", 2.822222222222222mm, RGB{N0f8}(0.298,0.251,0.294), 40, -0.05mm, 1.0mm, 3.0mm, Gadfly.default_stroke_color, 0.3mm, Cropbox.var\"#603#612\"(), Gadfly.default_continuous_highlight_color, Gadfly.default_lowlight_color, Gadfly.default_middle_color, 0.6mm, :left, :square, nothing, nothing, nothing, :right, nothing, 2.0mm, 1000, 10.0, 0.5, 0.2, 1.0mm, 4, Gadfly.Scale.DiscreteColorScale(Gadfly.Scale.default_discrete_colors, nothing, nothing, true), Gadfly.Scale.ContinuousColorScale(Gadfly.Scale.var\"#73#77\"{Int64, Int64, Int64, Int64, Float64, Int64}(100, 40, 260, 10, 1.5, 70), Gadfly.Scale.ContinuousScaleTransform(identity, identity, Gadfly.Scale.identity_formatter), nothing, nothing)), Dict{Symbol, Any}()))], Dict{Symbol, Any}(:style => Dict(\"display\" => \"flex\", \"flex-direction\" => \"column\")))"
      ]
     },
     "execution_count": 16,
     "metadata": {
      "@webio": {
       "kernelId": "d709139d-588b-4fee-8d6d-f916525c81c4"
      }
     },
     "output_type": "execute_result"
    }
   ],
   "source": [
    "manipulate(Logi, :t, :W;\n",
    "    parameters = Logi => (;\n",
    "        :μ  => 0:0.01:0.5,\n",
    "        :W0 => 0:0.1:10,\n",
    "        :Wf => 10:10:200,\n",
    "    ),\n",
    "    stop = 100,\n",
    "    kind = :line,\n",
    "    ylim = (0, 200),\n",
    ")"
   ]
  },
  {
   "cell_type": "markdown",
   "metadata": {},
   "source": [
    "## 1.4. Gompertz Growth Equation\n",
    "\n",
    "- Eq\n",
    "\n",
    "$$\n",
    "\\begin{align}\n",
    "\\frac{dW}{dt} &= \\mu W \\\\\n",
    "\\frac{d\\mu}{dt} &= -D \\mu\n",
    "\\end{align}\n",
    "$$\n",
    "\n",
    "- Table\n",
    "\n",
    "| Symbol | Value | Units | Description |\n",
    "| :- | :- | :- | :- |\n",
    "| $t$ | - | - | Time unit used in the model |\n",
    "| $\\mu$ | - | - | Specific growth rate (no longer constant) |\n",
    "| $\\mu_0$ | 0.3 | - | Initial growth rate at time $t = 0$ |\n",
    "| $D$ | 0.03 | - | Decay in the specific growth rate |\n",
    "| $W_0$ | 1 | - | Dry mass at time $t = 0$ |\n",
    "| $W$ | - | - | Current dry mass |"
   ]
  },
  {
   "cell_type": "code",
   "execution_count": 17,
   "metadata": {
    "tags": []
   },
   "outputs": [
    {
     "data": {
      "text/plain": [
       "Gomp"
      ]
     },
     "execution_count": 17,
     "metadata": {},
     "output_type": "execute_result"
    }
   ],
   "source": [
    "@system Gomp(Controller) begin\n",
    "    t(context.clock.tick) ~ track\n",
    "    \n",
    "    D       => 0.06 ~ preserve(parameter)\n",
    "    μ0      => 0.3  ~ preserve(parameter)\n",
    "\n",
    "    μ(D, μ) => -D*μ ~ accumulate(init = μ0)\n",
    "\n",
    "    W0      => 1   ~ preserve(parameter)\n",
    "\n",
    "    W(μ, W) => μ*W ~ accumulate(init = W0)\n",
    "end"
   ]
  },
  {
   "cell_type": "code",
   "execution_count": 18,
   "metadata": {
    "tags": []
   },
   "outputs": [
    {
     "data": {
      "text/html": [
       "<div><div style = \"float: left;\"><span>51×7 DataFrame</span></div><div style = \"float: right;\"><span style = \"font-style: italic;\">26 rows omitted</span></div><div style = \"clear: both;\"></div></div><div class = \"data-frame\" style = \"overflow-x: scroll;\"><table class = \"data-frame\" style = \"margin-bottom: 6px;\"><thead><tr class = \"header\"><th class = \"rowNumber\" style = \"font-weight: bold; text-align: right;\">Row</th><th style = \"text-align: left;\">time</th><th style = \"text-align: left;\">t</th><th style = \"text-align: left;\">D</th><th style = \"text-align: left;\">μ0</th><th style = \"text-align: left;\">μ</th><th style = \"text-align: left;\">W0</th><th style = \"text-align: left;\">W</th></tr><tr class = \"subheader headerLastRow\"><th class = \"rowNumber\" style = \"font-weight: bold; text-align: right;\"></th><th title = \"Unitful.Quantity{Float64, 𝐓, Unitful.FreeUnits{(hr,), 𝐓, nothing}}\" style = \"text-align: left;\">Quantity…</th><th title = \"Float64\" style = \"text-align: left;\">Float64</th><th title = \"Float64\" style = \"text-align: left;\">Float64</th><th title = \"Float64\" style = \"text-align: left;\">Float64</th><th title = \"Float64\" style = \"text-align: left;\">Float64</th><th title = \"Float64\" style = \"text-align: left;\">Float64</th><th title = \"Float64\" style = \"text-align: left;\">Float64</th></tr></thead><tbody><tr><td class = \"rowNumber\" style = \"font-weight: bold; text-align: right;\">1</td><td style = \"text-align: right;\">0.0 hr</td><td style = \"text-align: right;\">0.0</td><td style = \"text-align: right;\">0.06</td><td style = \"text-align: right;\">0.3</td><td style = \"text-align: right;\">0.3</td><td style = \"text-align: right;\">1.0</td><td style = \"text-align: right;\">1.0</td></tr><tr><td class = \"rowNumber\" style = \"font-weight: bold; text-align: right;\">2</td><td style = \"text-align: right;\">1.0 hr</td><td style = \"text-align: right;\">1.0</td><td style = \"text-align: right;\">0.06</td><td style = \"text-align: right;\">0.3</td><td style = \"text-align: right;\">0.282</td><td style = \"text-align: right;\">1.0</td><td style = \"text-align: right;\">1.3</td></tr><tr><td class = \"rowNumber\" style = \"font-weight: bold; text-align: right;\">3</td><td style = \"text-align: right;\">2.0 hr</td><td style = \"text-align: right;\">2.0</td><td style = \"text-align: right;\">0.06</td><td style = \"text-align: right;\">0.3</td><td style = \"text-align: right;\">0.26508</td><td style = \"text-align: right;\">1.0</td><td style = \"text-align: right;\">1.6666</td></tr><tr><td class = \"rowNumber\" style = \"font-weight: bold; text-align: right;\">4</td><td style = \"text-align: right;\">3.0 hr</td><td style = \"text-align: right;\">3.0</td><td style = \"text-align: right;\">0.06</td><td style = \"text-align: right;\">0.3</td><td style = \"text-align: right;\">0.249175</td><td style = \"text-align: right;\">1.0</td><td style = \"text-align: right;\">2.10838</td></tr><tr><td class = \"rowNumber\" style = \"font-weight: bold; text-align: right;\">5</td><td style = \"text-align: right;\">4.0 hr</td><td style = \"text-align: right;\">4.0</td><td style = \"text-align: right;\">0.06</td><td style = \"text-align: right;\">0.3</td><td style = \"text-align: right;\">0.234225</td><td style = \"text-align: right;\">1.0</td><td style = \"text-align: right;\">2.63374</td></tr><tr><td class = \"rowNumber\" style = \"font-weight: bold; text-align: right;\">6</td><td style = \"text-align: right;\">5.0 hr</td><td style = \"text-align: right;\">5.0</td><td style = \"text-align: right;\">0.06</td><td style = \"text-align: right;\">0.3</td><td style = \"text-align: right;\">0.220171</td><td style = \"text-align: right;\">1.0</td><td style = \"text-align: right;\">3.25063</td></tr><tr><td class = \"rowNumber\" style = \"font-weight: bold; text-align: right;\">7</td><td style = \"text-align: right;\">6.0 hr</td><td style = \"text-align: right;\">6.0</td><td style = \"text-align: right;\">0.06</td><td style = \"text-align: right;\">0.3</td><td style = \"text-align: right;\">0.206961</td><td style = \"text-align: right;\">1.0</td><td style = \"text-align: right;\">3.96632</td></tr><tr><td class = \"rowNumber\" style = \"font-weight: bold; text-align: right;\">8</td><td style = \"text-align: right;\">7.0 hr</td><td style = \"text-align: right;\">7.0</td><td style = \"text-align: right;\">0.06</td><td style = \"text-align: right;\">0.3</td><td style = \"text-align: right;\">0.194543</td><td style = \"text-align: right;\">1.0</td><td style = \"text-align: right;\">4.78719</td></tr><tr><td class = \"rowNumber\" style = \"font-weight: bold; text-align: right;\">9</td><td style = \"text-align: right;\">8.0 hr</td><td style = \"text-align: right;\">8.0</td><td style = \"text-align: right;\">0.06</td><td style = \"text-align: right;\">0.3</td><td style = \"text-align: right;\">0.182871</td><td style = \"text-align: right;\">1.0</td><td style = \"text-align: right;\">5.71851</td></tr><tr><td class = \"rowNumber\" style = \"font-weight: bold; text-align: right;\">10</td><td style = \"text-align: right;\">9.0 hr</td><td style = \"text-align: right;\">9.0</td><td style = \"text-align: right;\">0.06</td><td style = \"text-align: right;\">0.3</td><td style = \"text-align: right;\">0.171898</td><td style = \"text-align: right;\">1.0</td><td style = \"text-align: right;\">6.76426</td></tr><tr><td class = \"rowNumber\" style = \"font-weight: bold; text-align: right;\">11</td><td style = \"text-align: right;\">10.0 hr</td><td style = \"text-align: right;\">10.0</td><td style = \"text-align: right;\">0.06</td><td style = \"text-align: right;\">0.3</td><td style = \"text-align: right;\">0.161585</td><td style = \"text-align: right;\">1.0</td><td style = \"text-align: right;\">7.92702</td></tr><tr><td class = \"rowNumber\" style = \"font-weight: bold; text-align: right;\">12</td><td style = \"text-align: right;\">11.0 hr</td><td style = \"text-align: right;\">11.0</td><td style = \"text-align: right;\">0.06</td><td style = \"text-align: right;\">0.3</td><td style = \"text-align: right;\">0.151889</td><td style = \"text-align: right;\">1.0</td><td style = \"text-align: right;\">9.20791</td></tr><tr><td class = \"rowNumber\" style = \"font-weight: bold; text-align: right;\">13</td><td style = \"text-align: right;\">12.0 hr</td><td style = \"text-align: right;\">12.0</td><td style = \"text-align: right;\">0.06</td><td style = \"text-align: right;\">0.3</td><td style = \"text-align: right;\">0.142776</td><td style = \"text-align: right;\">1.0</td><td style = \"text-align: right;\">10.6065</td></tr><tr><td style = \"text-align: right;\">&vellip;</td><td style = \"text-align: right;\">&vellip;</td><td style = \"text-align: right;\">&vellip;</td><td style = \"text-align: right;\">&vellip;</td><td style = \"text-align: right;\">&vellip;</td><td style = \"text-align: right;\">&vellip;</td><td style = \"text-align: right;\">&vellip;</td><td style = \"text-align: right;\">&vellip;</td></tr><tr><td class = \"rowNumber\" style = \"font-weight: bold; text-align: right;\">40</td><td style = \"text-align: right;\">39.0 hr</td><td style = \"text-align: right;\">39.0</td><td style = \"text-align: right;\">0.06</td><td style = \"text-align: right;\">0.3</td><td style = \"text-align: right;\">0.0268601</td><td style = \"text-align: right;\">1.0</td><td style = \"text-align: right;\">67.6393</td></tr><tr><td class = \"rowNumber\" style = \"font-weight: bold; text-align: right;\">41</td><td style = \"text-align: right;\">40.0 hr</td><td style = \"text-align: right;\">40.0</td><td style = \"text-align: right;\">0.06</td><td style = \"text-align: right;\">0.3</td><td style = \"text-align: right;\">0.0252485</td><td style = \"text-align: right;\">1.0</td><td style = \"text-align: right;\">69.4561</td></tr><tr><td class = \"rowNumber\" style = \"font-weight: bold; text-align: right;\">42</td><td style = \"text-align: right;\">41.0 hr</td><td style = \"text-align: right;\">41.0</td><td style = \"text-align: right;\">0.06</td><td style = \"text-align: right;\">0.3</td><td style = \"text-align: right;\">0.0237336</td><td style = \"text-align: right;\">1.0</td><td style = \"text-align: right;\">71.2098</td></tr><tr><td class = \"rowNumber\" style = \"font-weight: bold; text-align: right;\">43</td><td style = \"text-align: right;\">42.0 hr</td><td style = \"text-align: right;\">42.0</td><td style = \"text-align: right;\">0.06</td><td style = \"text-align: right;\">0.3</td><td style = \"text-align: right;\">0.0223096</td><td style = \"text-align: right;\">1.0</td><td style = \"text-align: right;\">72.8999</td></tr><tr><td class = \"rowNumber\" style = \"font-weight: bold; text-align: right;\">44</td><td style = \"text-align: right;\">43.0 hr</td><td style = \"text-align: right;\">43.0</td><td style = \"text-align: right;\">0.06</td><td style = \"text-align: right;\">0.3</td><td style = \"text-align: right;\">0.020971</td><td style = \"text-align: right;\">1.0</td><td style = \"text-align: right;\">74.5262</td></tr><tr><td class = \"rowNumber\" style = \"font-weight: bold; text-align: right;\">45</td><td style = \"text-align: right;\">44.0 hr</td><td style = \"text-align: right;\">44.0</td><td style = \"text-align: right;\">0.06</td><td style = \"text-align: right;\">0.3</td><td style = \"text-align: right;\">0.0197127</td><td style = \"text-align: right;\">1.0</td><td style = \"text-align: right;\">76.0891</td></tr><tr><td class = \"rowNumber\" style = \"font-weight: bold; text-align: right;\">46</td><td style = \"text-align: right;\">45.0 hr</td><td style = \"text-align: right;\">45.0</td><td style = \"text-align: right;\">0.06</td><td style = \"text-align: right;\">0.3</td><td style = \"text-align: right;\">0.01853</td><td style = \"text-align: right;\">1.0</td><td style = \"text-align: right;\">77.589</td></tr><tr><td class = \"rowNumber\" style = \"font-weight: bold; text-align: right;\">47</td><td style = \"text-align: right;\">46.0 hr</td><td style = \"text-align: right;\">46.0</td><td style = \"text-align: right;\">0.06</td><td style = \"text-align: right;\">0.3</td><td style = \"text-align: right;\">0.0174182</td><td style = \"text-align: right;\">1.0</td><td style = \"text-align: right;\">79.0268</td></tr><tr><td class = \"rowNumber\" style = \"font-weight: bold; text-align: right;\">48</td><td style = \"text-align: right;\">47.0 hr</td><td style = \"text-align: right;\">47.0</td><td style = \"text-align: right;\">0.06</td><td style = \"text-align: right;\">0.3</td><td style = \"text-align: right;\">0.0163731</td><td style = \"text-align: right;\">1.0</td><td style = \"text-align: right;\">80.4033</td></tr><tr><td class = \"rowNumber\" style = \"font-weight: bold; text-align: right;\">49</td><td style = \"text-align: right;\">48.0 hr</td><td style = \"text-align: right;\">48.0</td><td style = \"text-align: right;\">0.06</td><td style = \"text-align: right;\">0.3</td><td style = \"text-align: right;\">0.0153907</td><td style = \"text-align: right;\">1.0</td><td style = \"text-align: right;\">81.7197</td></tr><tr><td class = \"rowNumber\" style = \"font-weight: bold; text-align: right;\">50</td><td style = \"text-align: right;\">49.0 hr</td><td style = \"text-align: right;\">49.0</td><td style = \"text-align: right;\">0.06</td><td style = \"text-align: right;\">0.3</td><td style = \"text-align: right;\">0.0144673</td><td style = \"text-align: right;\">1.0</td><td style = \"text-align: right;\">82.9774</td></tr><tr><td class = \"rowNumber\" style = \"font-weight: bold; text-align: right;\">51</td><td style = \"text-align: right;\">50.0 hr</td><td style = \"text-align: right;\">50.0</td><td style = \"text-align: right;\">0.06</td><td style = \"text-align: right;\">0.3</td><td style = \"text-align: right;\">0.0135992</td><td style = \"text-align: right;\">1.0</td><td style = \"text-align: right;\">84.1779</td></tr></tbody></table></div>"
      ],
      "text/latex": [
       "\\begin{tabular}{r|ccccccc}\n",
       "\t& time & t & D & μ0 & μ & W0 & W\\\\\n",
       "\t\\hline\n",
       "\t& Quantity… & Float64 & Float64 & Float64 & Float64 & Float64 & Float64\\\\\n",
       "\t\\hline\n",
       "\t1 & 0.0 hr & 0.0 & 0.06 & 0.3 & 0.3 & 1.0 & 1.0 \\\\\n",
       "\t2 & 1.0 hr & 1.0 & 0.06 & 0.3 & 0.282 & 1.0 & 1.3 \\\\\n",
       "\t3 & 2.0 hr & 2.0 & 0.06 & 0.3 & 0.26508 & 1.0 & 1.6666 \\\\\n",
       "\t4 & 3.0 hr & 3.0 & 0.06 & 0.3 & 0.249175 & 1.0 & 2.10838 \\\\\n",
       "\t5 & 4.0 hr & 4.0 & 0.06 & 0.3 & 0.234225 & 1.0 & 2.63374 \\\\\n",
       "\t6 & 5.0 hr & 5.0 & 0.06 & 0.3 & 0.220171 & 1.0 & 3.25063 \\\\\n",
       "\t7 & 6.0 hr & 6.0 & 0.06 & 0.3 & 0.206961 & 1.0 & 3.96632 \\\\\n",
       "\t8 & 7.0 hr & 7.0 & 0.06 & 0.3 & 0.194543 & 1.0 & 4.78719 \\\\\n",
       "\t9 & 8.0 hr & 8.0 & 0.06 & 0.3 & 0.182871 & 1.0 & 5.71851 \\\\\n",
       "\t10 & 9.0 hr & 9.0 & 0.06 & 0.3 & 0.171898 & 1.0 & 6.76426 \\\\\n",
       "\t11 & 10.0 hr & 10.0 & 0.06 & 0.3 & 0.161585 & 1.0 & 7.92702 \\\\\n",
       "\t12 & 11.0 hr & 11.0 & 0.06 & 0.3 & 0.151889 & 1.0 & 9.20791 \\\\\n",
       "\t13 & 12.0 hr & 12.0 & 0.06 & 0.3 & 0.142776 & 1.0 & 10.6065 \\\\\n",
       "\t14 & 13.0 hr & 13.0 & 0.06 & 0.3 & 0.13421 & 1.0 & 12.1208 \\\\\n",
       "\t15 & 14.0 hr & 14.0 & 0.06 & 0.3 & 0.126157 & 1.0 & 13.7476 \\\\\n",
       "\t16 & 15.0 hr & 15.0 & 0.06 & 0.3 & 0.118588 & 1.0 & 15.4819 \\\\\n",
       "\t17 & 16.0 hr & 16.0 & 0.06 & 0.3 & 0.111472 & 1.0 & 17.3179 \\\\\n",
       "\t18 & 17.0 hr & 17.0 & 0.06 & 0.3 & 0.104784 & 1.0 & 19.2484 \\\\\n",
       "\t19 & 18.0 hr & 18.0 & 0.06 & 0.3 & 0.0984969 & 1.0 & 21.2653 \\\\\n",
       "\t20 & 19.0 hr & 19.0 & 0.06 & 0.3 & 0.0925871 & 1.0 & 23.3598 \\\\\n",
       "\t21 & 20.0 hr & 20.0 & 0.06 & 0.3 & 0.0870319 & 1.0 & 25.5227 \\\\\n",
       "\t22 & 21.0 hr & 21.0 & 0.06 & 0.3 & 0.08181 & 1.0 & 27.7439 \\\\\n",
       "\t23 & 22.0 hr & 22.0 & 0.06 & 0.3 & 0.0769014 & 1.0 & 30.0137 \\\\\n",
       "\t24 & 23.0 hr & 23.0 & 0.06 & 0.3 & 0.0722873 & 1.0 & 32.3218 \\\\\n",
       "\t25 & 24.0 hr & 24.0 & 0.06 & 0.3 & 0.06795 & 1.0 & 34.6582 \\\\\n",
       "\t26 & 25.0 hr & 25.0 & 0.06 & 0.3 & 0.063873 & 1.0 & 37.0132 \\\\\n",
       "\t27 & 26.0 hr & 26.0 & 0.06 & 0.3 & 0.0600407 & 1.0 & 39.3774 \\\\\n",
       "\t28 & 27.0 hr & 27.0 & 0.06 & 0.3 & 0.0564382 & 1.0 & 41.7416 \\\\\n",
       "\t29 & 28.0 hr & 28.0 & 0.06 & 0.3 & 0.0530519 & 1.0 & 44.0975 \\\\\n",
       "\t30 & 29.0 hr & 29.0 & 0.06 & 0.3 & 0.0498688 & 1.0 & 46.4369 \\\\\n",
       "\t$\\dots$ & $\\dots$ & $\\dots$ & $\\dots$ & $\\dots$ & $\\dots$ & $\\dots$ & $\\dots$ \\\\\n",
       "\\end{tabular}\n"
      ],
      "text/plain": [
       "\u001B[1m51×7 DataFrame\n",
       "\u001B[1m Row │\u001B[1m time      \u001B[1m t       \u001B[1m D       \u001B[1m μ0      \u001B[1m μ         \u001B[1m W0      \u001B[1m W\n",
       "     │\u001B[90m Quantity… \u001B[90m Float64 \u001B[90m Float64 \u001B[90m Float64 \u001B[90m Float64   \u001B[90m Float64 \u001B[90m Float64\n",
       "─────┼────────────────────────────────────────────────────────────────────\n",
       "   1 │    0.0 hr      0.0     0.06      0.3  0.3            1.0   1.0\n",
       "   2 │    1.0 hr      1.0     0.06      0.3  0.282          1.0   1.3\n",
       "   3 │    2.0 hr      2.0     0.06      0.3  0.26508        1.0   1.6666\n",
       "   4 │    3.0 hr      3.0     0.06      0.3  0.249175       1.0   2.10838\n",
       "   5 │    4.0 hr      4.0     0.06      0.3  0.234225       1.0   2.63374\n",
       "   6 │    5.0 hr      5.0     0.06      0.3  0.220171       1.0   3.25063\n",
       "   7 │    6.0 hr      6.0     0.06      0.3  0.206961       1.0   3.96632\n",
       "   8 │    7.0 hr      7.0     0.06      0.3  0.194543       1.0   4.78719\n",
       "   9 │    8.0 hr      8.0     0.06      0.3  0.182871       1.0   5.71851\n",
       "  10 │    9.0 hr      9.0     0.06      0.3  0.171898       1.0   6.76426\n",
       "  11 │   10.0 hr     10.0     0.06      0.3  0.161585       1.0   7.92702\n",
       "  ⋮  │     ⋮         ⋮        ⋮        ⋮         ⋮         ⋮        ⋮\n",
       "  42 │   41.0 hr     41.0     0.06      0.3  0.0237336      1.0  71.2098\n",
       "  43 │   42.0 hr     42.0     0.06      0.3  0.0223096      1.0  72.8999\n",
       "  44 │   43.0 hr     43.0     0.06      0.3  0.020971       1.0  74.5262\n",
       "  45 │   44.0 hr     44.0     0.06      0.3  0.0197127      1.0  76.0891\n",
       "  46 │   45.0 hr     45.0     0.06      0.3  0.01853        1.0  77.589\n",
       "  47 │   46.0 hr     46.0     0.06      0.3  0.0174182      1.0  79.0268\n",
       "  48 │   47.0 hr     47.0     0.06      0.3  0.0163731      1.0  80.4033\n",
       "  49 │   48.0 hr     48.0     0.06      0.3  0.0153907      1.0  81.7197\n",
       "  50 │   49.0 hr     49.0     0.06      0.3  0.0144673      1.0  82.9774\n",
       "  51 │   50.0 hr     50.0     0.06      0.3  0.0135992      1.0  84.1779\n",
       "\u001B[36m                                                           30 rows omitted"
      ]
     },
     "execution_count": 18,
     "metadata": {},
     "output_type": "execute_result"
    }
   ],
   "source": [
    "r14 = simulate(Gomp, stop = 50)"
   ]
  },
  {
   "cell_type": "code",
   "execution_count": 19,
   "metadata": {
    "tags": []
   },
   "outputs": [
    {
     "data": {
      "image/svg+xml": [
       "<?xml version=\"1.0\" encoding=\"UTF-8\"?>\n",
       "<svg xmlns=\"http://www.w3.org/2000/svg\"\n",
       "     xmlns:xlink=\"http://www.w3.org/1999/xlink\"\n",
       "     xmlns:gadfly=\"http://www.gadflyjl.org/ns\"\n",
       "     version=\"1.2\"\n",
       "     width=\"141.42mm\" height=\"100mm\" viewBox=\"0 0 141.42 100\"\n",
       "     stroke=\"none\"\n",
       "     fill=\"#000000\"\n",
       "     stroke-width=\"0.3\"\n",
       "     font-size=\"3.88\"\n",
       ">\n",
       "<defs>\n",
       "  <marker id=\"arrow\" markerWidth=\"15\" markerHeight=\"7\" refX=\"5\" refY=\"3.5\" orient=\"auto\" markerUnits=\"strokeWidth\">\n",
       "    <path d=\"M0,0 L15,3.5 L0,7 z\" stroke=\"context-stroke\" fill=\"context-stroke\"/>\n",
       "  </marker>\n",
       "</defs>\n",
       "<g stroke=\"#000000\" stroke-opacity=\"0.000\" fill=\"#FFFFFF\" id=\"img-a14cbf12-1\">\n",
       "  <g transform=\"translate(70.71,50)\">\n",
       "    <path d=\"M-70.71,-50 L70.71,-50 70.71,50 -70.71,50  z\" class=\"primitive\"/>\n",
       "  </g>\n",
       "</g>\n",
       "<g class=\"plotroot xscalable yscalable\" id=\"img-a14cbf12-2\">\n",
       "  <g font-size=\"3.53\" font-family=\"'PT Sans','Helvetica Neue','Helvetica',sans-serif\" fill=\"#564A55\" stroke=\"#000000\" stroke-opacity=\"0.000\" id=\"img-a14cbf12-3\">\n",
       "    <g transform=\"translate(69.9,93.72)\">\n",
       "      <g class=\"primitive\">\n",
       "        <text text-anchor=\"middle\" dy=\"0.6em\">t</text>\n",
       "      </g>\n",
       "    </g>\n",
       "  </g>\n",
       "  <g class=\"guide xlabels\" font-size=\"2.82\" font-family=\"'PT Sans Caption','Helvetica Neue','Helvetica',sans-serif\" fill=\"#6C606B\" id=\"img-a14cbf12-4\">\n",
       "    <g transform=\"translate(12.35,87.04)\">\n",
       "      <g class=\"primitive\">\n",
       "        <text text-anchor=\"middle\" dy=\"0.6em\">0</text>\n",
       "      </g>\n",
       "    </g>\n",
       "    <g transform=\"translate(35.37,87.04)\">\n",
       "      <g class=\"primitive\">\n",
       "        <text text-anchor=\"middle\" dy=\"0.6em\">10</text>\n",
       "      </g>\n",
       "    </g>\n",
       "    <g transform=\"translate(58.39,87.04)\">\n",
       "      <g class=\"primitive\">\n",
       "        <text text-anchor=\"middle\" dy=\"0.6em\">20</text>\n",
       "      </g>\n",
       "    </g>\n",
       "    <g transform=\"translate(81.42,87.04)\">\n",
       "      <g class=\"primitive\">\n",
       "        <text text-anchor=\"middle\" dy=\"0.6em\">30</text>\n",
       "      </g>\n",
       "    </g>\n",
       "    <g transform=\"translate(104.44,87.04)\">\n",
       "      <g class=\"primitive\">\n",
       "        <text text-anchor=\"middle\" dy=\"0.6em\">40</text>\n",
       "      </g>\n",
       "    </g>\n",
       "    <g transform=\"translate(127.46,87.04)\">\n",
       "      <g class=\"primitive\">\n",
       "        <text text-anchor=\"middle\" dy=\"0.6em\">50</text>\n",
       "      </g>\n",
       "    </g>\n",
       "  </g>\n",
       "  <g class=\"guide colorkey\" id=\"img-a14cbf12-5\">\n",
       "    <g fill=\"#4C404B\" font-size=\"2.82\" font-family=\"'PT Sans','Helvetica Neue','Helvetica',sans-serif\" id=\"img-a14cbf12-6\">\n",
       "      <g transform=\"translate(134.09,47.75)\" id=\"img-a14cbf12-7\">\n",
       "        <g class=\"primitive\">\n",
       "          <text dy=\"0.35em\">W</text>\n",
       "        </g>\n",
       "      </g>\n",
       "    </g>\n",
       "    <g stroke-width=\"0.3\" id=\"img-a14cbf12-8\">\n",
       "      <g stroke=\"#FFFFFF\" stroke-opacity=\"0.000\" fill-opacity=\"1\" fill=\"#00BFFF\" id=\"img-a14cbf12-9\">\n",
       "        <g transform=\"translate(131.27,47.75)\" id=\"img-a14cbf12-10\">\n",
       "          <circle cx=\"0\" cy=\"0\" r=\"0.7\" class=\"primitive\"/>\n",
       "        </g>\n",
       "      </g>\n",
       "    </g>\n",
       "    <g fill=\"#362A35\" font-size=\"3.18\" font-family=\"'PT Sans','Helvetica Neue','Helvetica',sans-serif\" stroke=\"#000000\" stroke-opacity=\"0.000\" id=\"img-a14cbf12-11\">\n",
       "      <g transform=\"translate(130.46,44.44)\" id=\"img-a14cbf12-12\">\n",
       "        <g class=\"primitive\">\n",
       "          <text dy=\"-0em\"></text>\n",
       "        </g>\n",
       "      </g>\n",
       "    </g>\n",
       "  </g>\n",
       "  <g clip-path=\"url(#img-a14cbf12-13)\">\n",
       "    <g id=\"img-a14cbf12-14\">\n",
       "      <g pointer-events=\"visible\" stroke-width=\"0.3\" fill=\"#000000\" fill-opacity=\"0.000\" stroke=\"#000000\" stroke-opacity=\"0.000\" class=\"guide background\" id=\"img-a14cbf12-15\">\n",
       "        <g transform=\"translate(69.9,45.52)\" id=\"img-a14cbf12-16\">\n",
       "          <path d=\"M-59.56,-40.52 L59.56,-40.52 59.56,40.52 -59.56,40.52  z\" class=\"primitive\"/>\n",
       "        </g>\n",
       "      </g>\n",
       "      <g class=\"guide ygridlines xfixed\" stroke-dasharray=\"0.5,0.5\" stroke-width=\"0.2\" stroke=\"#D0D0E0\" id=\"img-a14cbf12-17\">\n",
       "        <g transform=\"translate(69.9,39.1)\" id=\"img-a14cbf12-18\">\n",
       "          <path fill=\"none\" d=\"M-59.56,0 L59.56,0 \" class=\"primitive\"/>\n",
       "        </g>\n",
       "      </g>\n",
       "      <g class=\"guide xgridlines yfixed\" stroke-dasharray=\"0.5,0.5\" stroke-width=\"0.2\" stroke=\"#D0D0E0\" id=\"img-a14cbf12-19\">\n",
       "        <g transform=\"translate(12.35,45.52)\" id=\"img-a14cbf12-20\">\n",
       "          <path fill=\"none\" d=\"M0,-40.52 L0,40.52 \" class=\"primitive\"/>\n",
       "        </g>\n",
       "        <g transform=\"translate(35.37,45.52)\" id=\"img-a14cbf12-21\">\n",
       "          <path fill=\"none\" d=\"M0,-40.52 L0,40.52 \" class=\"primitive\"/>\n",
       "        </g>\n",
       "        <g transform=\"translate(58.39,45.52)\" id=\"img-a14cbf12-22\">\n",
       "          <path fill=\"none\" d=\"M0,-40.52 L0,40.52 \" class=\"primitive\"/>\n",
       "        </g>\n",
       "        <g transform=\"translate(81.42,45.52)\" id=\"img-a14cbf12-23\">\n",
       "          <path fill=\"none\" d=\"M0,-40.52 L0,40.52 \" class=\"primitive\"/>\n",
       "        </g>\n",
       "        <g transform=\"translate(104.44,45.52)\" id=\"img-a14cbf12-24\">\n",
       "          <path fill=\"none\" d=\"M0,-40.52 L0,40.52 \" class=\"primitive\"/>\n",
       "        </g>\n",
       "        <g transform=\"translate(127.46,45.52)\" id=\"img-a14cbf12-25\">\n",
       "          <path fill=\"none\" d=\"M0,-40.52 L0,40.52 \" class=\"primitive\"/>\n",
       "        </g>\n",
       "      </g>\n",
       "      <g class=\"plotpanel\" id=\"img-a14cbf12-26\">\n",
       "        <metadata>\n",
       "          <boundingbox value=\"10.346666666666664mm 5.0mm 119.11468957064284mm 81.04333333333334mm\"/>\n",
       "          <unitbox value=\"-0.8686988634811253 87.18059100938865 51.73739772696225 -88.36118201877731\"/>\n",
       "        </metadata>\n",
       "        <g stroke-width=\"0.3\" fill=\"#000000\" fill-opacity=\"0.000\" class=\"geometry\" id=\"img-a14cbf12-27\">\n",
       "          <g class=\"color_LCHab{Float32}(70.0f0,60.0f0,240.0f0)\" stroke-dasharray=\"none\" stroke-opacity=\"1\" stroke=\"#00BFFF\" id=\"img-a14cbf12-28\">\n",
       "            <g transform=\"translate(69.9,49.4)\" id=\"img-a14cbf12-29\">\n",
       "              <path fill=\"none\" d=\"M-57.56,34.65 L-55.26,34.37 -52.95,34.03 -50.65,33.63 -48.35,33.15 -46.05,32.58 -43.74,31.93 -41.44,31.17 -39.14,30.32 -36.84,29.36 -34.53,28.29 -32.23,27.12 -29.93,25.84 -27.63,24.45 -25.33,22.95 -23.02,21.36 -20.72,19.68 -18.42,17.91 -16.12,16.06 -13.81,14.14 -11.51,12.15 -9.21,10.12 -6.91,8.04 -4.6,5.92 -2.3,3.78 0,1.62 2.3,-0.55 4.6,-2.72 6.91,-4.88 9.21,-7.03 11.51,-9.15 13.81,-11.25 16.12,-13.31 18.42,-15.33 20.72,-17.32 23.02,-19.25 25.33,-21.14 27.63,-22.97 29.93,-24.75 32.23,-26.47 34.53,-28.14 36.84,-29.75 39.14,-31.3 41.44,-32.79 43.74,-34.22 46.05,-35.6 48.35,-36.92 50.65,-38.18 52.95,-39.39 55.26,-40.54 57.56,-41.64 \" class=\"primitive\"/>\n",
       "            </g>\n",
       "          </g>\n",
       "        </g>\n",
       "      </g>\n",
       "    </g>\n",
       "  </g>\n",
       "  <g class=\"guide ylabels\" font-size=\"2.82\" font-family=\"'PT Sans Caption','Helvetica Neue','Helvetica',sans-serif\" fill=\"#6C606B\" id=\"img-a14cbf12-30\">\n",
       "    <g transform=\"translate(9.35,39.1)\" id=\"img-a14cbf12-31\">\n",
       "      <g class=\"primitive\">\n",
       "        <text text-anchor=\"end\" dy=\"0.35em\">50</text>\n",
       "      </g>\n",
       "    </g>\n",
       "  </g>\n",
       "</g>\n",
       "<defs>\n",
       "  <clipPath id=\"img-a14cbf12-13\">\n",
       "    <path d=\"M10.35,5 L129.46,5 129.46,86.04 10.35,86.04 \" />\n",
       "  </clipPath>\n",
       "</defs>\n",
       "</svg>\n"
      ],
      "text/html": [
       "<?xml version=\"1.0\" encoding=\"UTF-8\"?>\n",
       "<svg xmlns=\"http://www.w3.org/2000/svg\"\n",
       "     xmlns:xlink=\"http://www.w3.org/1999/xlink\"\n",
       "     xmlns:gadfly=\"http://www.gadflyjl.org/ns\"\n",
       "     version=\"1.2\"\n",
       "     width=\"141.42mm\" height=\"100mm\" viewBox=\"0 0 141.42 100\"\n",
       "     stroke=\"none\"\n",
       "     fill=\"#000000\"\n",
       "     stroke-width=\"0.3\"\n",
       "     font-size=\"3.88\"\n",
       ">\n",
       "<defs>\n",
       "  <marker id=\"arrow\" markerWidth=\"15\" markerHeight=\"7\" refX=\"5\" refY=\"3.5\" orient=\"auto\" markerUnits=\"strokeWidth\">\n",
       "    <path d=\"M0,0 L15,3.5 L0,7 z\" stroke=\"context-stroke\" fill=\"context-stroke\"/>\n",
       "  </marker>\n",
       "</defs>\n",
       "<g stroke=\"#000000\" stroke-opacity=\"0.000\" fill=\"#FFFFFF\" id=\"img-848700c5-1\">\n",
       "  <g transform=\"translate(70.71,50)\">\n",
       "    <path d=\"M-70.71,-50 L70.71,-50 70.71,50 -70.71,50  z\" class=\"primitive\"/>\n",
       "  </g>\n",
       "</g>\n",
       "<g class=\"plotroot xscalable yscalable\" id=\"img-848700c5-2\">\n",
       "  <g font-size=\"3.53\" font-family=\"'PT Sans','Helvetica Neue','Helvetica',sans-serif\" fill=\"#564A55\" stroke=\"#000000\" stroke-opacity=\"0.000\" id=\"img-848700c5-3\">\n",
       "    <g transform=\"translate(69.9,93.72)\">\n",
       "      <g class=\"primitive\">\n",
       "        <text text-anchor=\"middle\" dy=\"0.6em\">t</text>\n",
       "      </g>\n",
       "    </g>\n",
       "  </g>\n",
       "  <g class=\"guide xlabels\" font-size=\"2.82\" font-family=\"'PT Sans Caption','Helvetica Neue','Helvetica',sans-serif\" fill=\"#6C606B\" id=\"img-848700c5-4\">\n",
       "    <g transform=\"translate(12.35,87.04)\">\n",
       "      <g class=\"primitive\">\n",
       "        <text text-anchor=\"middle\" dy=\"0.6em\">0</text>\n",
       "      </g>\n",
       "    </g>\n",
       "    <g transform=\"translate(35.37,87.04)\">\n",
       "      <g class=\"primitive\">\n",
       "        <text text-anchor=\"middle\" dy=\"0.6em\">10</text>\n",
       "      </g>\n",
       "    </g>\n",
       "    <g transform=\"translate(58.39,87.04)\">\n",
       "      <g class=\"primitive\">\n",
       "        <text text-anchor=\"middle\" dy=\"0.6em\">20</text>\n",
       "      </g>\n",
       "    </g>\n",
       "    <g transform=\"translate(81.42,87.04)\">\n",
       "      <g class=\"primitive\">\n",
       "        <text text-anchor=\"middle\" dy=\"0.6em\">30</text>\n",
       "      </g>\n",
       "    </g>\n",
       "    <g transform=\"translate(104.44,87.04)\">\n",
       "      <g class=\"primitive\">\n",
       "        <text text-anchor=\"middle\" dy=\"0.6em\">40</text>\n",
       "      </g>\n",
       "    </g>\n",
       "    <g transform=\"translate(127.46,87.04)\">\n",
       "      <g class=\"primitive\">\n",
       "        <text text-anchor=\"middle\" dy=\"0.6em\">50</text>\n",
       "      </g>\n",
       "    </g>\n",
       "  </g>\n",
       "  <g class=\"guide colorkey\" id=\"img-848700c5-5\">\n",
       "    <g fill=\"#4C404B\" font-size=\"2.82\" font-family=\"'PT Sans','Helvetica Neue','Helvetica',sans-serif\" id=\"img-848700c5-6\">\n",
       "      <g transform=\"translate(134.09,47.75)\" id=\"img-848700c5-7\">\n",
       "        <g class=\"primitive\">\n",
       "          <text dy=\"0.35em\">W</text>\n",
       "        </g>\n",
       "      </g>\n",
       "    </g>\n",
       "    <g stroke-width=\"0.3\" id=\"img-848700c5-8\">\n",
       "      <g stroke=\"#FFFFFF\" stroke-opacity=\"0.000\" fill-opacity=\"1\" fill=\"#00BFFF\" id=\"img-848700c5-9\">\n",
       "        <g transform=\"translate(131.27,47.75)\" id=\"img-848700c5-10\">\n",
       "          <circle cx=\"0\" cy=\"0\" r=\"0.7\" class=\"primitive\"/>\n",
       "        </g>\n",
       "      </g>\n",
       "    </g>\n",
       "    <g fill=\"#362A35\" font-size=\"3.18\" font-family=\"'PT Sans','Helvetica Neue','Helvetica',sans-serif\" stroke=\"#000000\" stroke-opacity=\"0.000\" id=\"img-848700c5-11\">\n",
       "      <g transform=\"translate(130.46,44.44)\" id=\"img-848700c5-12\">\n",
       "        <g class=\"primitive\">\n",
       "          <text dy=\"-0em\"></text>\n",
       "        </g>\n",
       "      </g>\n",
       "    </g>\n",
       "  </g>\n",
       "  <g clip-path=\"url(#img-848700c5-13)\">\n",
       "    <g id=\"img-848700c5-14\">\n",
       "      <g pointer-events=\"visible\" stroke-width=\"0.3\" fill=\"#000000\" fill-opacity=\"0.000\" stroke=\"#000000\" stroke-opacity=\"0.000\" class=\"guide background\" id=\"img-848700c5-15\">\n",
       "        <g transform=\"translate(69.9,45.52)\" id=\"img-848700c5-16\">\n",
       "          <path d=\"M-59.56,-40.52 L59.56,-40.52 59.56,40.52 -59.56,40.52  z\" class=\"primitive\"/>\n",
       "        </g>\n",
       "      </g>\n",
       "      <g class=\"guide ygridlines xfixed\" stroke-dasharray=\"0.5,0.5\" stroke-width=\"0.2\" stroke=\"#D0D0E0\" id=\"img-848700c5-17\">\n",
       "        <g transform=\"translate(69.9,39.1)\" id=\"img-848700c5-18\">\n",
       "          <path fill=\"none\" d=\"M-59.56,0 L59.56,0 \" class=\"primitive\"/>\n",
       "        </g>\n",
       "      </g>\n",
       "      <g class=\"guide xgridlines yfixed\" stroke-dasharray=\"0.5,0.5\" stroke-width=\"0.2\" stroke=\"#D0D0E0\" id=\"img-848700c5-19\">\n",
       "        <g transform=\"translate(12.35,45.52)\" id=\"img-848700c5-20\">\n",
       "          <path fill=\"none\" d=\"M0,-40.52 L0,40.52 \" class=\"primitive\"/>\n",
       "        </g>\n",
       "        <g transform=\"translate(35.37,45.52)\" id=\"img-848700c5-21\">\n",
       "          <path fill=\"none\" d=\"M0,-40.52 L0,40.52 \" class=\"primitive\"/>\n",
       "        </g>\n",
       "        <g transform=\"translate(58.39,45.52)\" id=\"img-848700c5-22\">\n",
       "          <path fill=\"none\" d=\"M0,-40.52 L0,40.52 \" class=\"primitive\"/>\n",
       "        </g>\n",
       "        <g transform=\"translate(81.42,45.52)\" id=\"img-848700c5-23\">\n",
       "          <path fill=\"none\" d=\"M0,-40.52 L0,40.52 \" class=\"primitive\"/>\n",
       "        </g>\n",
       "        <g transform=\"translate(104.44,45.52)\" id=\"img-848700c5-24\">\n",
       "          <path fill=\"none\" d=\"M0,-40.52 L0,40.52 \" class=\"primitive\"/>\n",
       "        </g>\n",
       "        <g transform=\"translate(127.46,45.52)\" id=\"img-848700c5-25\">\n",
       "          <path fill=\"none\" d=\"M0,-40.52 L0,40.52 \" class=\"primitive\"/>\n",
       "        </g>\n",
       "      </g>\n",
       "      <g class=\"plotpanel\" id=\"img-848700c5-26\">\n",
       "        <metadata>\n",
       "          <boundingbox value=\"10.346666666666664mm 5.0mm 119.11468957064284mm 81.04333333333334mm\"/>\n",
       "          <unitbox value=\"-0.8686988634811253 87.18059100938865 51.73739772696225 -88.36118201877731\"/>\n",
       "        </metadata>\n",
       "        <g stroke-width=\"0.3\" fill=\"#000000\" fill-opacity=\"0.000\" class=\"geometry\" id=\"img-848700c5-27\">\n",
       "          <g class=\"color_LCHab{Float32}(70.0f0,60.0f0,240.0f0)\" stroke-dasharray=\"none\" stroke-opacity=\"1\" stroke=\"#00BFFF\" id=\"img-848700c5-28\">\n",
       "            <g transform=\"translate(69.9,49.4)\" id=\"img-848700c5-29\">\n",
       "              <path fill=\"none\" d=\"M-57.56,34.65 L-55.26,34.37 -52.95,34.03 -50.65,33.63 -48.35,33.15 -46.05,32.58 -43.74,31.93 -41.44,31.17 -39.14,30.32 -36.84,29.36 -34.53,28.29 -32.23,27.12 -29.93,25.84 -27.63,24.45 -25.33,22.95 -23.02,21.36 -20.72,19.68 -18.42,17.91 -16.12,16.06 -13.81,14.14 -11.51,12.15 -9.21,10.12 -6.91,8.04 -4.6,5.92 -2.3,3.78 0,1.62 2.3,-0.55 4.6,-2.72 6.91,-4.88 9.21,-7.03 11.51,-9.15 13.81,-11.25 16.12,-13.31 18.42,-15.33 20.72,-17.32 23.02,-19.25 25.33,-21.14 27.63,-22.97 29.93,-24.75 32.23,-26.47 34.53,-28.14 36.84,-29.75 39.14,-31.3 41.44,-32.79 43.74,-34.22 46.05,-35.6 48.35,-36.92 50.65,-38.18 52.95,-39.39 55.26,-40.54 57.56,-41.64 \" class=\"primitive\"/>\n",
       "            </g>\n",
       "          </g>\n",
       "        </g>\n",
       "      </g>\n",
       "    </g>\n",
       "  </g>\n",
       "  <g class=\"guide ylabels\" font-size=\"2.82\" font-family=\"'PT Sans Caption','Helvetica Neue','Helvetica',sans-serif\" fill=\"#6C606B\" id=\"img-848700c5-30\">\n",
       "    <g transform=\"translate(9.35,39.1)\" id=\"img-848700c5-31\">\n",
       "      <g class=\"primitive\">\n",
       "        <text text-anchor=\"end\" dy=\"0.35em\">50</text>\n",
       "      </g>\n",
       "    </g>\n",
       "  </g>\n",
       "</g>\n",
       "<defs>\n",
       "  <clipPath id=\"img-848700c5-13\">\n",
       "    <path d=\"M10.35,5 L129.46,5 129.46,86.04 10.35,86.04 \" />\n",
       "  </clipPath>\n",
       "</defs>\n",
       "</svg>\n"
      ],
      "text/plain": [
       "\"<Cropbox.Plot{Gadfly.Plot}>\""
      ]
     },
     "execution_count": 19,
     "metadata": {},
     "output_type": "execute_result"
    }
   ],
   "source": [
    "visualize(r14, :t, :W, kind = :line)"
   ]
  },
  {
   "cell_type": "code",
   "execution_count": 20,
   "metadata": {
    "tags": []
   },
   "outputs": [
    {
     "data": {
      "application/vnd.webio.node+json": {
       "children": [
        {
         "children": [
          "Gomp"
         ],
         "instanceArgs": {
          "namespace": "html",
          "tag": "div"
         },
         "nodeType": "DOM",
         "props": {
          "style": {
           "color": "rebeccapurple",
           "font-family": "monospace"
          }
         },
         "type": "node"
        },
        {
         "children": [
          {
           "children": [
            {
             "children": [
              {
               "children": [
                {
                 "children": [
                  "μ0"
                 ],
                 "instanceArgs": {
                  "namespace": "html",
                  "tag": "label"
                 },
                 "nodeType": "DOM",
                 "props": {
                  "className": "interact ",
                  "style": {
                   "color": "royalblue",
                   "padding": "5px 10px 0px 10px",
                   "white-space": "nowrap"
                  }
                 },
                 "type": "node"
                }
               ],
               "instanceArgs": {
                "namespace": "html",
                "tag": "div"
               },
               "nodeType": "DOM",
               "props": {
                "className": "interact-flex-row-left"
               },
               "type": "node"
              },
              {
               "children": [
                {
                 "children": [],
                 "instanceArgs": {
                  "namespace": "html",
                  "tag": "input"
                 },
                 "nodeType": "DOM",
                 "props": {
                  "attributes": {
                   "data-bind": "numericValue: index, valueUpdate: 'input', event: {change: function (){this.changes(this.changes()+1)}}",
                   "orient": "horizontal",
                   "type": "range"
                  },
                  "className": "slider slider is-fullwidth",
                  "max": 51,
                  "min": 1,
                  "step": 1,
                  "style": {}
                 },
                 "type": "node"
                }
               ],
               "instanceArgs": {
                "namespace": "html",
                "tag": "div"
               },
               "nodeType": "DOM",
               "props": {
                "className": "interact-flex-row-center"
               },
               "type": "node"
              },
              {
               "children": [
                {
                 "children": [],
                 "instanceArgs": {
                  "namespace": "html",
                  "tag": "p"
                 },
                 "nodeType": "DOM",
                 "props": {
                  "attributes": {
                   "data-bind": "text: formatted_val"
                  }
                 },
                 "type": "node"
                }
               ],
               "instanceArgs": {
                "namespace": "html",
                "tag": "div"
               },
               "nodeType": "DOM",
               "props": {
                "className": "interact-flex-row-right"
               },
               "type": "node"
              }
             ],
             "instanceArgs": {
              "namespace": "html",
              "tag": "div"
             },
             "nodeType": "DOM",
             "props": {
              "className": "interact-flex-row interact-widget",
              "style": {
               "font-family": "monospace",
               "width": "80%"
              }
             },
             "type": "node"
            }
           ],
           "instanceArgs": {
            "handlers": {
             "changes": [
              "(function (val){return (val!=this.model[\"changes\"]()) ? (this.valueFromJulia[\"changes\"]=true, this.model[\"changes\"](val)) : undefined})"
             ],
             "index": [
              "(function (val){return (val!=this.model[\"index\"]()) ? (this.valueFromJulia[\"index\"]=true, this.model[\"index\"](val)) : undefined})"
             ]
            },
            "id": "3625359290336637690",
            "imports": {
             "data": [
              {
               "name": "knockout",
               "type": "js",
               "url": "/assetserver/d749de49a15576291e39755d819be2408bf7f995-knockout.js"
              },
              {
               "name": "knockout_punches",
               "type": "js",
               "url": "/assetserver/9f5c86158cf79faf331cfb32636cb08a9b1f0dc2-knockout_punches.js"
              },
              {
               "name": null,
               "type": "js",
               "url": "/assetserver/96a65e6078e018eef9bba5cd6ed02b2635164c53-all.js"
              },
              {
               "name": null,
               "type": "css",
               "url": "/assetserver/98c9b8e9cfeaa0be2a6f3aa79abc5da0680c3037-style.css"
              },
              {
               "name": null,
               "type": "css",
               "url": "/assetserver/c5a1211d10b2f10049d85486a98c5e9063cad849-bulma_confined.min.css"
              }
             ],
             "type": "async_block"
            },
            "mount_callbacks": [
             "function () {\n    var handler = (function (ko, koPunches) {\n    ko.punches.enableAll();\n    ko.bindingHandlers.numericValue = {\n        init: function(element, valueAccessor, allBindings, data, context) {\n            var stringified = ko.observable(ko.unwrap(valueAccessor()));\n            stringified.subscribe(function(value) {\n                var val = parseFloat(value);\n                if (!isNaN(val)) {\n                    valueAccessor()(val);\n                }\n            });\n            valueAccessor().subscribe(function(value) {\n                var str = JSON.stringify(value);\n                if ((str == \"0\") && ([\"-0\", \"-0.\"].indexOf(stringified()) >= 0))\n                     return;\n                 if ([\"null\", \"\"].indexOf(str) >= 0)\n                     return;\n                stringified(str);\n            });\n            ko.applyBindingsToNode(\n                element,\n                {\n                    value: stringified,\n                    valueUpdate: allBindings.get('valueUpdate'),\n                },\n                context,\n            );\n        }\n    };\n    var json_data = {\"formatted_vals\":[\"0.0\",\"0.01\",\"0.02\",\"0.03\",\"0.04\",\"0.05\",\"0.06\",\"0.07\",\"0.08\",\"0.09\",\"0.1\",\"0.11\",\"0.12\",\"0.13\",\"0.14\",\"0.15\",\"0.16\",\"0.17\",\"0.18\",\"0.19\",\"0.2\",\"0.21\",\"0.22\",\"0.23\",\"0.24\",\"0.25\",\"0.26\",\"0.27\",\"0.28\",\"0.29\",\"0.3\",\"0.31\",\"0.32\",\"0.33\",\"0.34\",\"0.35\",\"0.36\",\"0.37\",\"0.38\",\"0.39\",\"0.4\",\"0.41\",\"0.42\",\"0.43\",\"0.44\",\"0.45\",\"0.46\",\"0.47\",\"0.48\",\"0.49\",\"0.5\"],\"changes\":WebIO.getval({\"name\":\"changes\",\"scope\":\"3625359290336637690\",\"id\":\"5862894902307827095\",\"type\":\"observable\"}),\"index\":WebIO.getval({\"name\":\"index\",\"scope\":\"3625359290336637690\",\"id\":\"14409393654357043784\",\"type\":\"observable\"})};\n    var self = this;\n    function AppViewModel() {\n        for (var key in json_data) {\n            var el = json_data[key];\n            this[key] = Array.isArray(el) ? ko.observableArray(el) : ko.observable(el);\n        }\n        \n        [this[\"formatted_val\"]=ko.computed(    function(){\n        return this.formatted_vals()[parseInt(this.index())-(1)];\n    }\n,this)]\n        [this[\"changes\"].subscribe((function (val){!(this.valueFromJulia[\"changes\"]) ? (WebIO.setval({\"name\":\"changes\",\"scope\":\"3625359290336637690\",\"id\":\"5862894902307827095\",\"type\":\"observable\"},val)) : undefined; return this.valueFromJulia[\"changes\"]=false}),self),this[\"index\"].subscribe((function (val){!(this.valueFromJulia[\"index\"]) ? (WebIO.setval({\"name\":\"index\",\"scope\":\"3625359290336637690\",\"id\":\"14409393654357043784\",\"type\":\"observable\"},val)) : undefined; return this.valueFromJulia[\"index\"]=false}),self)]\n        \n    }\n    self.model = new AppViewModel();\n    self.valueFromJulia = {};\n    for (var key in json_data) {\n        self.valueFromJulia[key] = false;\n    }\n    ko.applyBindings(self.model, self.dom);\n}\n);\n    (WebIO.importBlock({\"data\":[{\"name\":\"knockout\",\"type\":\"js\",\"url\":\"/assetserver/d749de49a15576291e39755d819be2408bf7f995-knockout.js\"},{\"name\":\"knockout_punches\",\"type\":\"js\",\"url\":\"/assetserver/9f5c86158cf79faf331cfb32636cb08a9b1f0dc2-knockout_punches.js\"}],\"type\":\"async_block\"})).then((imports) => handler.apply(this, imports));\n}\n"
            ],
            "observables": {
             "changes": {
              "id": "5862894902307827095",
              "sync": true,
              "value": 0
             },
             "index": {
              "id": "14409393654357043784",
              "sync": true,
              "value": 26
             }
            },
            "systemjs_options": null
           },
           "nodeType": "Scope",
           "props": {},
           "type": "node"
          }
         ],
         "instanceArgs": {
          "namespace": "html",
          "tag": "div"
         },
         "nodeType": "DOM",
         "props": {
          "className": "field interact-widget"
         },
         "type": "node"
        },
        {
         "children": [
          {
           "children": [
            {
             "children": [
              {
               "children": [
                {
                 "children": [
                  "D"
                 ],
                 "instanceArgs": {
                  "namespace": "html",
                  "tag": "label"
                 },
                 "nodeType": "DOM",
                 "props": {
                  "className": "interact ",
                  "style": {
                   "color": "royalblue",
                   "padding": "5px 10px 0px 10px",
                   "white-space": "nowrap"
                  }
                 },
                 "type": "node"
                }
               ],
               "instanceArgs": {
                "namespace": "html",
                "tag": "div"
               },
               "nodeType": "DOM",
               "props": {
                "className": "interact-flex-row-left"
               },
               "type": "node"
              },
              {
               "children": [
                {
                 "children": [],
                 "instanceArgs": {
                  "namespace": "html",
                  "tag": "input"
                 },
                 "nodeType": "DOM",
                 "props": {
                  "attributes": {
                   "data-bind": "numericValue: index, valueUpdate: 'input', event: {change: function (){this.changes(this.changes()+1)}}",
                   "orient": "horizontal",
                   "type": "range"
                  },
                  "className": "slider slider is-fullwidth",
                  "max": 21,
                  "min": 1,
                  "step": 1,
                  "style": {}
                 },
                 "type": "node"
                }
               ],
               "instanceArgs": {
                "namespace": "html",
                "tag": "div"
               },
               "nodeType": "DOM",
               "props": {
                "className": "interact-flex-row-center"
               },
               "type": "node"
              },
              {
               "children": [
                {
                 "children": [],
                 "instanceArgs": {
                  "namespace": "html",
                  "tag": "p"
                 },
                 "nodeType": "DOM",
                 "props": {
                  "attributes": {
                   "data-bind": "text: formatted_val"
                  }
                 },
                 "type": "node"
                }
               ],
               "instanceArgs": {
                "namespace": "html",
                "tag": "div"
               },
               "nodeType": "DOM",
               "props": {
                "className": "interact-flex-row-right"
               },
               "type": "node"
              }
             ],
             "instanceArgs": {
              "namespace": "html",
              "tag": "div"
             },
             "nodeType": "DOM",
             "props": {
              "className": "interact-flex-row interact-widget",
              "style": {
               "font-family": "monospace",
               "width": "80%"
              }
             },
             "type": "node"
            }
           ],
           "instanceArgs": {
            "handlers": {
             "changes": [
              "(function (val){return (val!=this.model[\"changes\"]()) ? (this.valueFromJulia[\"changes\"]=true, this.model[\"changes\"](val)) : undefined})"
             ],
             "index": [
              "(function (val){return (val!=this.model[\"index\"]()) ? (this.valueFromJulia[\"index\"]=true, this.model[\"index\"](val)) : undefined})"
             ]
            },
            "id": "2740424874649263323",
            "imports": {
             "data": [
              {
               "name": "knockout",
               "type": "js",
               "url": "/assetserver/d749de49a15576291e39755d819be2408bf7f995-knockout.js"
              },
              {
               "name": "knockout_punches",
               "type": "js",
               "url": "/assetserver/9f5c86158cf79faf331cfb32636cb08a9b1f0dc2-knockout_punches.js"
              },
              {
               "name": null,
               "type": "js",
               "url": "/assetserver/96a65e6078e018eef9bba5cd6ed02b2635164c53-all.js"
              },
              {
               "name": null,
               "type": "css",
               "url": "/assetserver/98c9b8e9cfeaa0be2a6f3aa79abc5da0680c3037-style.css"
              },
              {
               "name": null,
               "type": "css",
               "url": "/assetserver/c5a1211d10b2f10049d85486a98c5e9063cad849-bulma_confined.min.css"
              }
             ],
             "type": "async_block"
            },
            "mount_callbacks": [
             "function () {\n    var handler = (function (ko, koPunches) {\n    ko.punches.enableAll();\n    ko.bindingHandlers.numericValue = {\n        init: function(element, valueAccessor, allBindings, data, context) {\n            var stringified = ko.observable(ko.unwrap(valueAccessor()));\n            stringified.subscribe(function(value) {\n                var val = parseFloat(value);\n                if (!isNaN(val)) {\n                    valueAccessor()(val);\n                }\n            });\n            valueAccessor().subscribe(function(value) {\n                var str = JSON.stringify(value);\n                if ((str == \"0\") && ([\"-0\", \"-0.\"].indexOf(stringified()) >= 0))\n                     return;\n                 if ([\"null\", \"\"].indexOf(str) >= 0)\n                     return;\n                stringified(str);\n            });\n            ko.applyBindingsToNode(\n                element,\n                {\n                    value: stringified,\n                    valueUpdate: allBindings.get('valueUpdate'),\n                },\n                context,\n            );\n        }\n    };\n    var json_data = {\"formatted_vals\":[\"0.0\",\"0.01\",\"0.02\",\"0.03\",\"0.04\",\"0.05\",\"0.06\",\"0.07\",\"0.08\",\"0.09\",\"0.1\",\"0.11\",\"0.12\",\"0.13\",\"0.14\",\"0.15\",\"0.16\",\"0.17\",\"0.18\",\"0.19\",\"0.2\"],\"changes\":WebIO.getval({\"name\":\"changes\",\"scope\":\"2740424874649263323\",\"id\":\"10391632895912620594\",\"type\":\"observable\"}),\"index\":WebIO.getval({\"name\":\"index\",\"scope\":\"2740424874649263323\",\"id\":\"2667056621875383176\",\"type\":\"observable\"})};\n    var self = this;\n    function AppViewModel() {\n        for (var key in json_data) {\n            var el = json_data[key];\n            this[key] = Array.isArray(el) ? ko.observableArray(el) : ko.observable(el);\n        }\n        \n        [this[\"formatted_val\"]=ko.computed(    function(){\n        return this.formatted_vals()[parseInt(this.index())-(1)];\n    }\n,this)]\n        [this[\"changes\"].subscribe((function (val){!(this.valueFromJulia[\"changes\"]) ? (WebIO.setval({\"name\":\"changes\",\"scope\":\"2740424874649263323\",\"id\":\"10391632895912620594\",\"type\":\"observable\"},val)) : undefined; return this.valueFromJulia[\"changes\"]=false}),self),this[\"index\"].subscribe((function (val){!(this.valueFromJulia[\"index\"]) ? (WebIO.setval({\"name\":\"index\",\"scope\":\"2740424874649263323\",\"id\":\"2667056621875383176\",\"type\":\"observable\"},val)) : undefined; return this.valueFromJulia[\"index\"]=false}),self)]\n        \n    }\n    self.model = new AppViewModel();\n    self.valueFromJulia = {};\n    for (var key in json_data) {\n        self.valueFromJulia[key] = false;\n    }\n    ko.applyBindings(self.model, self.dom);\n}\n);\n    (WebIO.importBlock({\"data\":[{\"name\":\"knockout\",\"type\":\"js\",\"url\":\"/assetserver/d749de49a15576291e39755d819be2408bf7f995-knockout.js\"},{\"name\":\"knockout_punches\",\"type\":\"js\",\"url\":\"/assetserver/9f5c86158cf79faf331cfb32636cb08a9b1f0dc2-knockout_punches.js\"}],\"type\":\"async_block\"})).then((imports) => handler.apply(this, imports));\n}\n"
            ],
            "observables": {
             "changes": {
              "id": "10391632895912620594",
              "sync": true,
              "value": 0
             },
             "index": {
              "id": "2667056621875383176",
              "sync": true,
              "value": 11
             }
            },
            "systemjs_options": null
           },
           "nodeType": "Scope",
           "props": {},
           "type": "node"
          }
         ],
         "instanceArgs": {
          "namespace": "html",
          "tag": "div"
         },
         "nodeType": "DOM",
         "props": {
          "className": "field interact-widget"
         },
         "type": "node"
        },
        {
         "children": [
          {
           "children": [
            {
             "children": [
              {
               "children": [
                {
                 "children": [
                  "W0"
                 ],
                 "instanceArgs": {
                  "namespace": "html",
                  "tag": "label"
                 },
                 "nodeType": "DOM",
                 "props": {
                  "className": "interact ",
                  "style": {
                   "color": "royalblue",
                   "padding": "5px 10px 0px 10px",
                   "white-space": "nowrap"
                  }
                 },
                 "type": "node"
                }
               ],
               "instanceArgs": {
                "namespace": "html",
                "tag": "div"
               },
               "nodeType": "DOM",
               "props": {
                "className": "interact-flex-row-left"
               },
               "type": "node"
              },
              {
               "children": [
                {
                 "children": [],
                 "instanceArgs": {
                  "namespace": "html",
                  "tag": "input"
                 },
                 "nodeType": "DOM",
                 "props": {
                  "attributes": {
                   "data-bind": "numericValue: index, valueUpdate: 'input', event: {change: function (){this.changes(this.changes()+1)}}",
                   "orient": "horizontal",
                   "type": "range"
                  },
                  "className": "slider slider is-fullwidth",
                  "max": 101,
                  "min": 1,
                  "step": 1,
                  "style": {}
                 },
                 "type": "node"
                }
               ],
               "instanceArgs": {
                "namespace": "html",
                "tag": "div"
               },
               "nodeType": "DOM",
               "props": {
                "className": "interact-flex-row-center"
               },
               "type": "node"
              },
              {
               "children": [
                {
                 "children": [],
                 "instanceArgs": {
                  "namespace": "html",
                  "tag": "p"
                 },
                 "nodeType": "DOM",
                 "props": {
                  "attributes": {
                   "data-bind": "text: formatted_val"
                  }
                 },
                 "type": "node"
                }
               ],
               "instanceArgs": {
                "namespace": "html",
                "tag": "div"
               },
               "nodeType": "DOM",
               "props": {
                "className": "interact-flex-row-right"
               },
               "type": "node"
              }
             ],
             "instanceArgs": {
              "namespace": "html",
              "tag": "div"
             },
             "nodeType": "DOM",
             "props": {
              "className": "interact-flex-row interact-widget",
              "style": {
               "font-family": "monospace",
               "width": "80%"
              }
             },
             "type": "node"
            }
           ],
           "instanceArgs": {
            "handlers": {
             "changes": [
              "(function (val){return (val!=this.model[\"changes\"]()) ? (this.valueFromJulia[\"changes\"]=true, this.model[\"changes\"](val)) : undefined})"
             ],
             "index": [
              "(function (val){return (val!=this.model[\"index\"]()) ? (this.valueFromJulia[\"index\"]=true, this.model[\"index\"](val)) : undefined})"
             ]
            },
            "id": "8174863025626627151",
            "imports": {
             "data": [
              {
               "name": "knockout",
               "type": "js",
               "url": "/assetserver/d749de49a15576291e39755d819be2408bf7f995-knockout.js"
              },
              {
               "name": "knockout_punches",
               "type": "js",
               "url": "/assetserver/9f5c86158cf79faf331cfb32636cb08a9b1f0dc2-knockout_punches.js"
              },
              {
               "name": null,
               "type": "js",
               "url": "/assetserver/96a65e6078e018eef9bba5cd6ed02b2635164c53-all.js"
              },
              {
               "name": null,
               "type": "css",
               "url": "/assetserver/98c9b8e9cfeaa0be2a6f3aa79abc5da0680c3037-style.css"
              },
              {
               "name": null,
               "type": "css",
               "url": "/assetserver/c5a1211d10b2f10049d85486a98c5e9063cad849-bulma_confined.min.css"
              }
             ],
             "type": "async_block"
            },
            "mount_callbacks": [
             "function () {\n    var handler = (function (ko, koPunches) {\n    ko.punches.enableAll();\n    ko.bindingHandlers.numericValue = {\n        init: function(element, valueAccessor, allBindings, data, context) {\n            var stringified = ko.observable(ko.unwrap(valueAccessor()));\n            stringified.subscribe(function(value) {\n                var val = parseFloat(value);\n                if (!isNaN(val)) {\n                    valueAccessor()(val);\n                }\n            });\n            valueAccessor().subscribe(function(value) {\n                var str = JSON.stringify(value);\n                if ((str == \"0\") && ([\"-0\", \"-0.\"].indexOf(stringified()) >= 0))\n                     return;\n                 if ([\"null\", \"\"].indexOf(str) >= 0)\n                     return;\n                stringified(str);\n            });\n            ko.applyBindingsToNode(\n                element,\n                {\n                    value: stringified,\n                    valueUpdate: allBindings.get('valueUpdate'),\n                },\n                context,\n            );\n        }\n    };\n    var json_data = {\"formatted_vals\":[\"0.0\",\"0.1\",\"0.2\",\"0.3\",\"0.4\",\"0.5\",\"0.6\",\"0.7\",\"0.8\",\"0.9\",\"1.0\",\"1.1\",\"1.2\",\"1.3\",\"1.4\",\"1.5\",\"1.6\",\"1.7\",\"1.8\",\"1.9\",\"2.0\",\"2.1\",\"2.2\",\"2.3\",\"2.4\",\"2.5\",\"2.6\",\"2.7\",\"2.8\",\"2.9\",\"3.0\",\"3.1\",\"3.2\",\"3.3\",\"3.4\",\"3.5\",\"3.6\",\"3.7\",\"3.8\",\"3.9\",\"4.0\",\"4.1\",\"4.2\",\"4.3\",\"4.4\",\"4.5\",\"4.6\",\"4.7\",\"4.8\",\"4.9\",\"5.0\",\"5.1\",\"5.2\",\"5.3\",\"5.4\",\"5.5\",\"5.6\",\"5.7\",\"5.8\",\"5.9\",\"6.0\",\"6.1\",\"6.2\",\"6.3\",\"6.4\",\"6.5\",\"6.6\",\"6.7\",\"6.8\",\"6.9\",\"7.0\",\"7.1\",\"7.2\",\"7.3\",\"7.4\",\"7.5\",\"7.6\",\"7.7\",\"7.8\",\"7.9\",\"8.0\",\"8.1\",\"8.2\",\"8.3\",\"8.4\",\"8.5\",\"8.6\",\"8.7\",\"8.8\",\"8.9\",\"9.0\",\"9.1\",\"9.2\",\"9.3\",\"9.4\",\"9.5\",\"9.6\",\"9.7\",\"9.8\",\"9.9\",\"10.0\"],\"changes\":WebIO.getval({\"name\":\"changes\",\"scope\":\"8174863025626627151\",\"id\":\"4623685479074123224\",\"type\":\"observable\"}),\"index\":WebIO.getval({\"name\":\"index\",\"scope\":\"8174863025626627151\",\"id\":\"3089685589449289157\",\"type\":\"observable\"})};\n    var self = this;\n    function AppViewModel() {\n        for (var key in json_data) {\n            var el = json_data[key];\n            this[key] = Array.isArray(el) ? ko.observableArray(el) : ko.observable(el);\n        }\n        \n        [this[\"formatted_val\"]=ko.computed(    function(){\n        return this.formatted_vals()[parseInt(this.index())-(1)];\n    }\n,this)]\n        [this[\"changes\"].subscribe((function (val){!(this.valueFromJulia[\"changes\"]) ? (WebIO.setval({\"name\":\"changes\",\"scope\":\"8174863025626627151\",\"id\":\"4623685479074123224\",\"type\":\"observable\"},val)) : undefined; return this.valueFromJulia[\"changes\"]=false}),self),this[\"index\"].subscribe((function (val){!(this.valueFromJulia[\"index\"]) ? (WebIO.setval({\"name\":\"index\",\"scope\":\"8174863025626627151\",\"id\":\"3089685589449289157\",\"type\":\"observable\"},val)) : undefined; return this.valueFromJulia[\"index\"]=false}),self)]\n        \n    }\n    self.model = new AppViewModel();\n    self.valueFromJulia = {};\n    for (var key in json_data) {\n        self.valueFromJulia[key] = false;\n    }\n    ko.applyBindings(self.model, self.dom);\n}\n);\n    (WebIO.importBlock({\"data\":[{\"name\":\"knockout\",\"type\":\"js\",\"url\":\"/assetserver/d749de49a15576291e39755d819be2408bf7f995-knockout.js\"},{\"name\":\"knockout_punches\",\"type\":\"js\",\"url\":\"/assetserver/9f5c86158cf79faf331cfb32636cb08a9b1f0dc2-knockout_punches.js\"}],\"type\":\"async_block\"})).then((imports) => handler.apply(this, imports));\n}\n"
            ],
            "observables": {
             "changes": {
              "id": "4623685479074123224",
              "sync": true,
              "value": 0
             },
             "index": {
              "id": "3089685589449289157",
              "sync": true,
              "value": 51
             }
            },
            "systemjs_options": null
           },
           "nodeType": "Scope",
           "props": {},
           "type": "node"
          }
         ],
         "instanceArgs": {
          "namespace": "html",
          "tag": "div"
         },
         "nodeType": "DOM",
         "props": {
          "className": "field interact-widget"
         },
         "type": "node"
        },
        {
         "children": [
          {
           "children": [],
           "instanceArgs": {
            "namespace": "html",
            "tag": "div"
           },
           "nodeType": "DOM",
           "props": {
            "className": "webio-observable",
            "setInnerHtml": "<?xml version=\"1.0\" encoding=\"UTF-8\"?>\n<svg xmlns=\"http://www.w3.org/2000/svg\"\n     xmlns:xlink=\"http://www.w3.org/1999/xlink\"\n     xmlns:gadfly=\"http://www.gadflyjl.org/ns\"\n     version=\"1.2\"\n     width=\"141.42mm\" height=\"100mm\" viewBox=\"0 0 141.42 100\"\n     stroke=\"none\"\n     fill=\"#000000\"\n     stroke-width=\"0.3\"\n     font-size=\"3.88\"\n>\n<defs>\n  <marker id=\"arrow\" markerWidth=\"15\" markerHeight=\"7\" refX=\"5\" refY=\"3.5\" orient=\"auto\" markerUnits=\"strokeWidth\">\n    <path d=\"M0,0 L15,3.5 L0,7 z\" stroke=\"context-stroke\" fill=\"context-stroke\"/>\n  </marker>\n</defs>\n<g stroke=\"#000000\" stroke-opacity=\"0.000\" fill=\"#FFFFFF\" id=\"img-4a8c58d8-1\">\n  <g transform=\"translate(70.71,50)\">\n    <path d=\"M-70.71,-50 L70.71,-50 70.71,50 -70.71,50  z\" class=\"primitive\"/>\n  </g>\n</g>\n<g class=\"plotroot xscalable yscalable\" id=\"img-4a8c58d8-2\">\n  <g font-size=\"3.53\" font-family=\"'PT Sans','Helvetica Neue','Helvetica',sans-serif\" fill=\"#564A55\" stroke=\"#000000\" stroke-opacity=\"0.000\" id=\"img-4a8c58d8-3\">\n    <g transform=\"translate(77.68,93.72)\">\n      <g class=\"primitive\">\n        <text text-anchor=\"middle\" dy=\"0.6em\">t</text>\n      </g>\n    </g>\n  </g>\n  <g class=\"guide xlabels\" font-size=\"2.82\" font-family=\"'PT Sans Caption','Helvetica Neue','Helvetica',sans-serif\" fill=\"#6C606B\" id=\"img-4a8c58d8-4\">\n    <g transform=\"translate(20.94,87.04)\">\n      <g class=\"primitive\">\n        <text text-anchor=\"middle\" dy=\"0.6em\">0</text>\n      </g>\n    </g>\n    <g transform=\"translate(77.68,87.04)\">\n      <g class=\"primitive\">\n        <text text-anchor=\"middle\" dy=\"0.6em\">50</text>\n      </g>\n    </g>\n    <g transform=\"translate(134.42,87.04)\">\n      <g class=\"primitive\">\n        <text text-anchor=\"middle\" dy=\"0.6em\">100</text>\n      </g>\n    </g>\n  </g>\n  <g clip-path=\"url(#img-4a8c58d8-5)\">\n    <g id=\"img-4a8c58d8-6\">\n      <g pointer-events=\"visible\" stroke-width=\"0.3\" fill=\"#000000\" fill-opacity=\"0.000\" stroke=\"#000000\" stroke-opacity=\"0.000\" class=\"guide background\" id=\"img-4a8c58d8-7\">\n        <g transform=\"translate(77.68,45.52)\" id=\"img-4a8c58d8-8\">\n          <path d=\"M-58.74,-40.52 L58.74,-40.52 58.74,40.52 -58.74,40.52  z\" class=\"primitive\"/>\n        </g>\n      </g>\n      <g class=\"guide ygridlines xfixed\" stroke-dasharray=\"0.5,0.5\" stroke-width=\"0.2\" stroke=\"#D0D0E0\" id=\"img-4a8c58d8-9\">\n        <g transform=\"translate(77.68,84.04)\" id=\"img-4a8c58d8-10\">\n          <path fill=\"none\" d=\"M-58.74,0 L58.74,0 \" class=\"primitive\"/>\n        </g>\n        <g transform=\"translate(77.68,64.78)\" id=\"img-4a8c58d8-11\">\n          <path fill=\"none\" d=\"M-58.74,0 L58.74,0 \" class=\"primitive\"/>\n        </g>\n        <g transform=\"translate(77.68,45.52)\" id=\"img-4a8c58d8-12\">\n          <path fill=\"none\" d=\"M-58.74,0 L58.74,0 \" class=\"primitive\"/>\n        </g>\n        <g transform=\"translate(77.68,26.26)\" id=\"img-4a8c58d8-13\">\n          <path fill=\"none\" d=\"M-58.74,0 L58.74,0 \" class=\"primitive\"/>\n        </g>\n        <g transform=\"translate(77.68,7)\" id=\"img-4a8c58d8-14\">\n          <path fill=\"none\" d=\"M-58.74,0 L58.74,0 \" class=\"primitive\"/>\n        </g>\n      </g>\n      <g class=\"guide xgridlines yfixed\" stroke-dasharray=\"0.5,0.5\" stroke-width=\"0.2\" stroke=\"#D0D0E0\" id=\"img-4a8c58d8-15\">\n        <g transform=\"translate(20.94,45.52)\" id=\"img-4a8c58d8-16\">\n          <path fill=\"none\" d=\"M0,-40.52 L0,40.52 \" class=\"primitive\"/>\n        </g>\n        <g transform=\"translate(77.68,45.52)\" id=\"img-4a8c58d8-17\">\n          <path fill=\"none\" d=\"M0,-40.52 L0,40.52 \" class=\"primitive\"/>\n        </g>\n        <g transform=\"translate(134.42,45.52)\" id=\"img-4a8c58d8-18\">\n          <path fill=\"none\" d=\"M0,-40.52 L0,40.52 \" class=\"primitive\"/>\n        </g>\n      </g>\n      <g class=\"plotpanel\" id=\"img-4a8c58d8-19\">\n        <metadata>\n          <boundingbox value=\"18.936666666666667mm 5.0mm 117.48468957064284mm 81.04333333333335mm\"/>\n          <unitbox value=\"-1.762352267576169 205.19188335568728 103.52470453515235 -210.38376671137456\"/>\n        </metadata>\n        <g stroke-width=\"0.3\" fill=\"#000000\" fill-opacity=\"0.000\" class=\"geometry\" id=\"img-4a8c58d8-20\">\n          <g class=\"color_LCHab{Float32}(70.0f0,60.0f0,240.0f0)\" stroke-dasharray=\"none\" stroke-opacity=\"1\" stroke=\"#00BFFF\" id=\"img-4a8c58d8-21\">\n            <g transform=\"translate(77.68,66.75)\" id=\"img-4a8c58d8-22\">\n              <path fill=\"none\" d=\"M-56.74,15.37 L-55.61,14.89 -54.47,14.35 -53.34,13.75 -52.2,13.11 -51.07,12.42 -49.93,11.7 -48.8,10.95 -47.66,10.19 -46.53,9.43 -45.39,8.67 -44.26,7.91 -43.12,7.18 -41.99,6.46 -40.85,5.78 -39.72,5.12 -38.58,4.49 -37.45,3.9 -36.32,3.34 -35.18,2.81 -34.05,2.32 -32.91,1.87 -31.78,1.45 -30.64,1.06 -29.51,0.7 -28.37,0.37 -27.24,0.06 -26.1,-0.22 -24.97,-0.47 -23.83,-0.7 -22.7,-0.91 -21.56,-1.11 -20.43,-1.28 -19.29,-1.44 -18.16,-1.59 -17.02,-1.72 -15.89,-1.84 -14.75,-1.95 -13.62,-2.04 -12.48,-2.13 -11.35,-2.21 -10.21,-2.28 -9.08,-2.35 -7.94,-2.41 -6.81,-2.46 -5.67,-2.51 -4.54,-2.55 -3.4,-2.59 -2.27,-2.63 -1.13,-2.66 0,-2.69 1.13,-2.71 2.27,-2.73 3.4,-2.76 4.54,-2.77 5.67,-2.79 6.81,-2.81 7.94,-2.82 9.08,-2.83 10.21,-2.84 11.35,-2.85 12.48,-2.86 13.62,-2.87 14.75,-2.88 15.89,-2.89 17.02,-2.89 18.16,-2.9 19.29,-2.9 20.43,-2.91 21.56,-2.91 22.7,-2.91 23.83,-2.92 24.97,-2.92 26.1,-2.92 27.24,-2.92 28.37,-2.93 29.51,-2.93 30.64,-2.93 31.78,-2.93 32.91,-2.93 34.05,-2.93 35.18,-2.93 36.32,-2.94 37.45,-2.94 38.58,-2.94 39.72,-2.94 40.85,-2.94 41.99,-2.94 43.12,-2.94 44.26,-2.94 45.39,-2.94 46.53,-2.94 47.66,-2.94 48.8,-2.94 49.93,-2.94 51.07,-2.94 52.2,-2.94 53.34,-2.94 54.47,-2.94 55.61,-2.94 56.74,-2.94 \" class=\"primitive\"/>\n            </g>\n          </g>\n        </g>\n      </g>\n    </g>\n  </g>\n  <g class=\"guide ylabels\" font-size=\"2.82\" font-family=\"'PT Sans Caption','Helvetica Neue','Helvetica',sans-serif\" fill=\"#6C606B\" id=\"img-4a8c58d8-23\">\n    <g transform=\"translate(17.94,84.04)\" id=\"img-4a8c58d8-24\">\n      <g class=\"primitive\">\n        <text text-anchor=\"end\" dy=\"0.35em\">0</text>\n      </g>\n    </g>\n    <g transform=\"translate(17.94,64.78)\" id=\"img-4a8c58d8-25\">\n      <g class=\"primitive\">\n        <text text-anchor=\"end\" dy=\"0.35em\">50</text>\n      </g>\n    </g>\n    <g transform=\"translate(17.94,45.52)\" id=\"img-4a8c58d8-26\">\n      <g class=\"primitive\">\n        <text text-anchor=\"end\" dy=\"0.35em\">100</text>\n      </g>\n    </g>\n    <g transform=\"translate(17.94,26.26)\" id=\"img-4a8c58d8-27\">\n      <g class=\"primitive\">\n        <text text-anchor=\"end\" dy=\"0.35em\">150</text>\n      </g>\n    </g>\n    <g transform=\"translate(17.94,7)\" id=\"img-4a8c58d8-28\">\n      <g class=\"primitive\">\n        <text text-anchor=\"end\" dy=\"0.35em\">200</text>\n      </g>\n    </g>\n  </g>\n  <g font-size=\"3.53\" font-family=\"'PT Sans','Helvetica Neue','Helvetica',sans-serif\" fill=\"#564A55\" stroke=\"#000000\" stroke-opacity=\"0.000\" id=\"img-4a8c58d8-29\">\n    <g transform=\"translate(9.92,45.52)\" id=\"img-4a8c58d8-30\">\n      <g class=\"primitive\">\n        <text text-anchor=\"end\" dy=\"0.35em\">W</text>\n      </g>\n    </g>\n  </g>\n</g>\n<defs>\n  <clipPath id=\"img-4a8c58d8-5\">\n    <path d=\"M18.94,5 L136.42,5 136.42,86.04 18.94,86.04 \" />\n  </clipPath>\n</defs>\n</svg>\n"
           },
           "type": "node"
          }
         ],
         "instanceArgs": {
          "handlers": {
           "obs-output": [
            "function (value, scope) {\n    scope.setInnerHTML(value);\n}\n"
           ]
          },
          "id": "57811102251503837",
          "imports": {
           "data": [],
           "type": "async_block"
          },
          "mount_callbacks": [],
          "observables": {
           "obs-output": {
            "id": "13993508120438697339",
            "sync": false,
            "value": "<?xml version=\"1.0\" encoding=\"UTF-8\"?>\n<svg xmlns=\"http://www.w3.org/2000/svg\"\n     xmlns:xlink=\"http://www.w3.org/1999/xlink\"\n     xmlns:gadfly=\"http://www.gadflyjl.org/ns\"\n     version=\"1.2\"\n     width=\"141.42mm\" height=\"100mm\" viewBox=\"0 0 141.42 100\"\n     stroke=\"none\"\n     fill=\"#000000\"\n     stroke-width=\"0.3\"\n     font-size=\"3.88\"\n>\n<defs>\n  <marker id=\"arrow\" markerWidth=\"15\" markerHeight=\"7\" refX=\"5\" refY=\"3.5\" orient=\"auto\" markerUnits=\"strokeWidth\">\n    <path d=\"M0,0 L15,3.5 L0,7 z\" stroke=\"context-stroke\" fill=\"context-stroke\"/>\n  </marker>\n</defs>\n<g stroke=\"#000000\" stroke-opacity=\"0.000\" fill=\"#FFFFFF\" id=\"img-4a8c58d8-1\">\n  <g transform=\"translate(70.71,50)\">\n    <path d=\"M-70.71,-50 L70.71,-50 70.71,50 -70.71,50  z\" class=\"primitive\"/>\n  </g>\n</g>\n<g class=\"plotroot xscalable yscalable\" id=\"img-4a8c58d8-2\">\n  <g font-size=\"3.53\" font-family=\"'PT Sans','Helvetica Neue','Helvetica',sans-serif\" fill=\"#564A55\" stroke=\"#000000\" stroke-opacity=\"0.000\" id=\"img-4a8c58d8-3\">\n    <g transform=\"translate(77.68,93.72)\">\n      <g class=\"primitive\">\n        <text text-anchor=\"middle\" dy=\"0.6em\">t</text>\n      </g>\n    </g>\n  </g>\n  <g class=\"guide xlabels\" font-size=\"2.82\" font-family=\"'PT Sans Caption','Helvetica Neue','Helvetica',sans-serif\" fill=\"#6C606B\" id=\"img-4a8c58d8-4\">\n    <g transform=\"translate(20.94,87.04)\">\n      <g class=\"primitive\">\n        <text text-anchor=\"middle\" dy=\"0.6em\">0</text>\n      </g>\n    </g>\n    <g transform=\"translate(77.68,87.04)\">\n      <g class=\"primitive\">\n        <text text-anchor=\"middle\" dy=\"0.6em\">50</text>\n      </g>\n    </g>\n    <g transform=\"translate(134.42,87.04)\">\n      <g class=\"primitive\">\n        <text text-anchor=\"middle\" dy=\"0.6em\">100</text>\n      </g>\n    </g>\n  </g>\n  <g clip-path=\"url(#img-4a8c58d8-5)\">\n    <g id=\"img-4a8c58d8-6\">\n      <g pointer-events=\"visible\" stroke-width=\"0.3\" fill=\"#000000\" fill-opacity=\"0.000\" stroke=\"#000000\" stroke-opacity=\"0.000\" class=\"guide background\" id=\"img-4a8c58d8-7\">\n        <g transform=\"translate(77.68,45.52)\" id=\"img-4a8c58d8-8\">\n          <path d=\"M-58.74,-40.52 L58.74,-40.52 58.74,40.52 -58.74,40.52  z\" class=\"primitive\"/>\n        </g>\n      </g>\n      <g class=\"guide ygridlines xfixed\" stroke-dasharray=\"0.5,0.5\" stroke-width=\"0.2\" stroke=\"#D0D0E0\" id=\"img-4a8c58d8-9\">\n        <g transform=\"translate(77.68,84.04)\" id=\"img-4a8c58d8-10\">\n          <path fill=\"none\" d=\"M-58.74,0 L58.74,0 \" class=\"primitive\"/>\n        </g>\n        <g transform=\"translate(77.68,64.78)\" id=\"img-4a8c58d8-11\">\n          <path fill=\"none\" d=\"M-58.74,0 L58.74,0 \" class=\"primitive\"/>\n        </g>\n        <g transform=\"translate(77.68,45.52)\" id=\"img-4a8c58d8-12\">\n          <path fill=\"none\" d=\"M-58.74,0 L58.74,0 \" class=\"primitive\"/>\n        </g>\n        <g transform=\"translate(77.68,26.26)\" id=\"img-4a8c58d8-13\">\n          <path fill=\"none\" d=\"M-58.74,0 L58.74,0 \" class=\"primitive\"/>\n        </g>\n        <g transform=\"translate(77.68,7)\" id=\"img-4a8c58d8-14\">\n          <path fill=\"none\" d=\"M-58.74,0 L58.74,0 \" class=\"primitive\"/>\n        </g>\n      </g>\n      <g class=\"guide xgridlines yfixed\" stroke-dasharray=\"0.5,0.5\" stroke-width=\"0.2\" stroke=\"#D0D0E0\" id=\"img-4a8c58d8-15\">\n        <g transform=\"translate(20.94,45.52)\" id=\"img-4a8c58d8-16\">\n          <path fill=\"none\" d=\"M0,-40.52 L0,40.52 \" class=\"primitive\"/>\n        </g>\n        <g transform=\"translate(77.68,45.52)\" id=\"img-4a8c58d8-17\">\n          <path fill=\"none\" d=\"M0,-40.52 L0,40.52 \" class=\"primitive\"/>\n        </g>\n        <g transform=\"translate(134.42,45.52)\" id=\"img-4a8c58d8-18\">\n          <path fill=\"none\" d=\"M0,-40.52 L0,40.52 \" class=\"primitive\"/>\n        </g>\n      </g>\n      <g class=\"plotpanel\" id=\"img-4a8c58d8-19\">\n        <metadata>\n          <boundingbox value=\"18.936666666666667mm 5.0mm 117.48468957064284mm 81.04333333333335mm\"/>\n          <unitbox value=\"-1.762352267576169 205.19188335568728 103.52470453515235 -210.38376671137456\"/>\n        </metadata>\n        <g stroke-width=\"0.3\" fill=\"#000000\" fill-opacity=\"0.000\" class=\"geometry\" id=\"img-4a8c58d8-20\">\n          <g class=\"color_LCHab{Float32}(70.0f0,60.0f0,240.0f0)\" stroke-dasharray=\"none\" stroke-opacity=\"1\" stroke=\"#00BFFF\" id=\"img-4a8c58d8-21\">\n            <g transform=\"translate(77.68,66.75)\" id=\"img-4a8c58d8-22\">\n              <path fill=\"none\" d=\"M-56.74,15.37 L-55.61,14.89 -54.47,14.35 -53.34,13.75 -52.2,13.11 -51.07,12.42 -49.93,11.7 -48.8,10.95 -47.66,10.19 -46.53,9.43 -45.39,8.67 -44.26,7.91 -43.12,7.18 -41.99,6.46 -40.85,5.78 -39.72,5.12 -38.58,4.49 -37.45,3.9 -36.32,3.34 -35.18,2.81 -34.05,2.32 -32.91,1.87 -31.78,1.45 -30.64,1.06 -29.51,0.7 -28.37,0.37 -27.24,0.06 -26.1,-0.22 -24.97,-0.47 -23.83,-0.7 -22.7,-0.91 -21.56,-1.11 -20.43,-1.28 -19.29,-1.44 -18.16,-1.59 -17.02,-1.72 -15.89,-1.84 -14.75,-1.95 -13.62,-2.04 -12.48,-2.13 -11.35,-2.21 -10.21,-2.28 -9.08,-2.35 -7.94,-2.41 -6.81,-2.46 -5.67,-2.51 -4.54,-2.55 -3.4,-2.59 -2.27,-2.63 -1.13,-2.66 0,-2.69 1.13,-2.71 2.27,-2.73 3.4,-2.76 4.54,-2.77 5.67,-2.79 6.81,-2.81 7.94,-2.82 9.08,-2.83 10.21,-2.84 11.35,-2.85 12.48,-2.86 13.62,-2.87 14.75,-2.88 15.89,-2.89 17.02,-2.89 18.16,-2.9 19.29,-2.9 20.43,-2.91 21.56,-2.91 22.7,-2.91 23.83,-2.92 24.97,-2.92 26.1,-2.92 27.24,-2.92 28.37,-2.93 29.51,-2.93 30.64,-2.93 31.78,-2.93 32.91,-2.93 34.05,-2.93 35.18,-2.93 36.32,-2.94 37.45,-2.94 38.58,-2.94 39.72,-2.94 40.85,-2.94 41.99,-2.94 43.12,-2.94 44.26,-2.94 45.39,-2.94 46.53,-2.94 47.66,-2.94 48.8,-2.94 49.93,-2.94 51.07,-2.94 52.2,-2.94 53.34,-2.94 54.47,-2.94 55.61,-2.94 56.74,-2.94 \" class=\"primitive\"/>\n            </g>\n          </g>\n        </g>\n      </g>\n    </g>\n  </g>\n  <g class=\"guide ylabels\" font-size=\"2.82\" font-family=\"'PT Sans Caption','Helvetica Neue','Helvetica',sans-serif\" fill=\"#6C606B\" id=\"img-4a8c58d8-23\">\n    <g transform=\"translate(17.94,84.04)\" id=\"img-4a8c58d8-24\">\n      <g class=\"primitive\">\n        <text text-anchor=\"end\" dy=\"0.35em\">0</text>\n      </g>\n    </g>\n    <g transform=\"translate(17.94,64.78)\" id=\"img-4a8c58d8-25\">\n      <g class=\"primitive\">\n        <text text-anchor=\"end\" dy=\"0.35em\">50</text>\n      </g>\n    </g>\n    <g transform=\"translate(17.94,45.52)\" id=\"img-4a8c58d8-26\">\n      <g class=\"primitive\">\n        <text text-anchor=\"end\" dy=\"0.35em\">100</text>\n      </g>\n    </g>\n    <g transform=\"translate(17.94,26.26)\" id=\"img-4a8c58d8-27\">\n      <g class=\"primitive\">\n        <text text-anchor=\"end\" dy=\"0.35em\">150</text>\n      </g>\n    </g>\n    <g transform=\"translate(17.94,7)\" id=\"img-4a8c58d8-28\">\n      <g class=\"primitive\">\n        <text text-anchor=\"end\" dy=\"0.35em\">200</text>\n      </g>\n    </g>\n  </g>\n  <g font-size=\"3.53\" font-family=\"'PT Sans','Helvetica Neue','Helvetica',sans-serif\" fill=\"#564A55\" stroke=\"#000000\" stroke-opacity=\"0.000\" id=\"img-4a8c58d8-29\">\n    <g transform=\"translate(9.92,45.52)\" id=\"img-4a8c58d8-30\">\n      <g class=\"primitive\">\n        <text text-anchor=\"end\" dy=\"0.35em\">W</text>\n      </g>\n    </g>\n  </g>\n</g>\n<defs>\n  <clipPath id=\"img-4a8c58d8-5\">\n    <path d=\"M18.94,5 L136.42,5 136.42,86.04 18.94,86.04 \" />\n  </clipPath>\n</defs>\n</svg>\n"
           }
          },
          "systemjs_options": null
         },
         "nodeType": "Scope",
         "props": {},
         "type": "node"
        }
       ],
       "instanceArgs": {
        "namespace": "html",
        "tag": "div"
       },
       "nodeType": "DOM",
       "props": {
        "style": {
         "display": "flex",
         "flex-direction": "column"
        }
       },
       "type": "node"
      },
      "text/html": [
       "<div\n",
       "    class=\"webio-mountpoint\"\n",
       "    data-webio-mountpoint=\"7290148448283302644\"\n",
       ">\n",
       "    <script>\n",
       "    (function(){\n",
       "    // Some integrations (namely, IJulia/Jupyter) use an alternate render pathway than\n",
       "    // just putting the html on the page. If WebIO isn't defined, then it's pretty likely\n",
       "    // that we're in one of those situations and the integration just isn't installed\n",
       "    // correctly.\n",
       "    if (typeof window.WebIO === \"undefined\") {\n",
       "        document\n",
       "            .querySelector('[data-webio-mountpoint=\"7290148448283302644\"]')\n",
       "            .innerHTML = (\n",
       "                '<div style=\"padding: 1em; background-color: #f8d6da; border: 1px solid #f5c6cb; font-weight: bold;\">' +\n",
       "                '<p><strong>WebIO not detected.</strong></p>' +\n",
       "                '<p>Please read ' +\n",
       "                '<a href=\"https://juliagizmos.github.io/WebIO.jl/latest/troubleshooting/not-detected/\" target=\"_blank\">the troubleshooting guide</a> ' +\n",
       "                'for more information on how to resolve this issue.</p>' +\n",
       "                '<p><a href=\"https://juliagizmos.github.io/WebIO.jl/latest/troubleshooting/not-detected/\" target=\"_blank\">https://juliagizmos.github.io/WebIO.jl/latest/troubleshooting/not-detected/</a></p>' +\n",
       "                '</div>'\n",
       "            );\n",
       "        return;\n",
       "    }\n",
       "    WebIO.mount(\n",
       "        document.querySelector('[data-webio-mountpoint=\"7290148448283302644\"]'),\n",
       "        {\"props\":{\"style\":{\"display\":\"flex\",\"flex-direction\":\"column\"}},\"nodeType\":\"DOM\",\"type\":\"node\",\"instanceArgs\":{\"namespace\":\"html\",\"tag\":\"div\"},\"children\":[{\"props\":{\"style\":{\"color\":\"rebeccapurple\",\"font-family\":\"monospace\"}},\"nodeType\":\"DOM\",\"type\":\"node\",\"instanceArgs\":{\"namespace\":\"html\",\"tag\":\"div\"},\"children\":[\"Gomp\"]},{\"props\":{\"className\":\"field interact-widget\"},\"nodeType\":\"DOM\",\"type\":\"node\",\"instanceArgs\":{\"namespace\":\"html\",\"tag\":\"div\"},\"children\":[{\"props\":{},\"nodeType\":\"Scope\",\"type\":\"node\",\"instanceArgs\":{\"imports\":{\"data\":[{\"name\":\"knockout\",\"type\":\"js\",\"url\":\"\\/assetserver\\/d749de49a15576291e39755d819be2408bf7f995-knockout.js\"},{\"name\":\"knockout_punches\",\"type\":\"js\",\"url\":\"\\/assetserver\\/9f5c86158cf79faf331cfb32636cb08a9b1f0dc2-knockout_punches.js\"},{\"name\":null,\"type\":\"js\",\"url\":\"\\/assetserver\\/96a65e6078e018eef9bba5cd6ed02b2635164c53-all.js\"},{\"name\":null,\"type\":\"css\",\"url\":\"\\/assetserver\\/98c9b8e9cfeaa0be2a6f3aa79abc5da0680c3037-style.css\"},{\"name\":null,\"type\":\"css\",\"url\":\"\\/assetserver\\/c5a1211d10b2f10049d85486a98c5e9063cad849-bulma_confined.min.css\"}],\"type\":\"async_block\"},\"id\":\"3625359290336637690\",\"handlers\":{\"changes\":[\"(function (val){return (val!=this.model[\\\"changes\\\"]()) ? (this.valueFromJulia[\\\"changes\\\"]=true, this.model[\\\"changes\\\"](val)) : undefined})\"],\"index\":[\"(function (val){return (val!=this.model[\\\"index\\\"]()) ? (this.valueFromJulia[\\\"index\\\"]=true, this.model[\\\"index\\\"](val)) : undefined})\"]},\"systemjs_options\":null,\"mount_callbacks\":[\"function () {\\n    var handler = (function (ko, koPunches) {\\n    ko.punches.enableAll();\\n    ko.bindingHandlers.numericValue = {\\n        init: function(element, valueAccessor, allBindings, data, context) {\\n            var stringified = ko.observable(ko.unwrap(valueAccessor()));\\n            stringified.subscribe(function(value) {\\n                var val = parseFloat(value);\\n                if (!isNaN(val)) {\\n                    valueAccessor()(val);\\n                }\\n            });\\n            valueAccessor().subscribe(function(value) {\\n                var str = JSON.stringify(value);\\n                if ((str == \\\"0\\\") && ([\\\"-0\\\", \\\"-0.\\\"].indexOf(stringified()) >= 0))\\n                     return;\\n                 if ([\\\"null\\\", \\\"\\\"].indexOf(str) >= 0)\\n                     return;\\n                stringified(str);\\n            });\\n            ko.applyBindingsToNode(\\n                element,\\n                {\\n                    value: stringified,\\n                    valueUpdate: allBindings.get('valueUpdate'),\\n                },\\n                context,\\n            );\\n        }\\n    };\\n    var json_data = {\\\"formatted_vals\\\":[\\\"0.0\\\",\\\"0.01\\\",\\\"0.02\\\",\\\"0.03\\\",\\\"0.04\\\",\\\"0.05\\\",\\\"0.06\\\",\\\"0.07\\\",\\\"0.08\\\",\\\"0.09\\\",\\\"0.1\\\",\\\"0.11\\\",\\\"0.12\\\",\\\"0.13\\\",\\\"0.14\\\",\\\"0.15\\\",\\\"0.16\\\",\\\"0.17\\\",\\\"0.18\\\",\\\"0.19\\\",\\\"0.2\\\",\\\"0.21\\\",\\\"0.22\\\",\\\"0.23\\\",\\\"0.24\\\",\\\"0.25\\\",\\\"0.26\\\",\\\"0.27\\\",\\\"0.28\\\",\\\"0.29\\\",\\\"0.3\\\",\\\"0.31\\\",\\\"0.32\\\",\\\"0.33\\\",\\\"0.34\\\",\\\"0.35\\\",\\\"0.36\\\",\\\"0.37\\\",\\\"0.38\\\",\\\"0.39\\\",\\\"0.4\\\",\\\"0.41\\\",\\\"0.42\\\",\\\"0.43\\\",\\\"0.44\\\",\\\"0.45\\\",\\\"0.46\\\",\\\"0.47\\\",\\\"0.48\\\",\\\"0.49\\\",\\\"0.5\\\"],\\\"changes\\\":WebIO.getval({\\\"name\\\":\\\"changes\\\",\\\"scope\\\":\\\"3625359290336637690\\\",\\\"id\\\":\\\"5862894902307827095\\\",\\\"type\\\":\\\"observable\\\"}),\\\"index\\\":WebIO.getval({\\\"name\\\":\\\"index\\\",\\\"scope\\\":\\\"3625359290336637690\\\",\\\"id\\\":\\\"14409393654357043784\\\",\\\"type\\\":\\\"observable\\\"})};\\n    var self = this;\\n    function AppViewModel() {\\n        for (var key in json_data) {\\n            var el = json_data[key];\\n            this[key] = Array.isArray(el) ? ko.observableArray(el) : ko.observable(el);\\n        }\\n        \\n        [this[\\\"formatted_val\\\"]=ko.computed(    function(){\\n        return this.formatted_vals()[parseInt(this.index())-(1)];\\n    }\\n,this)]\\n        [this[\\\"changes\\\"].subscribe((function (val){!(this.valueFromJulia[\\\"changes\\\"]) ? (WebIO.setval({\\\"name\\\":\\\"changes\\\",\\\"scope\\\":\\\"3625359290336637690\\\",\\\"id\\\":\\\"5862894902307827095\\\",\\\"type\\\":\\\"observable\\\"},val)) : undefined; return this.valueFromJulia[\\\"changes\\\"]=false}),self),this[\\\"index\\\"].subscribe((function (val){!(this.valueFromJulia[\\\"index\\\"]) ? (WebIO.setval({\\\"name\\\":\\\"index\\\",\\\"scope\\\":\\\"3625359290336637690\\\",\\\"id\\\":\\\"14409393654357043784\\\",\\\"type\\\":\\\"observable\\\"},val)) : undefined; return this.valueFromJulia[\\\"index\\\"]=false}),self)]\\n        \\n    }\\n    self.model = new AppViewModel();\\n    self.valueFromJulia = {};\\n    for (var key in json_data) {\\n        self.valueFromJulia[key] = false;\\n    }\\n    ko.applyBindings(self.model, self.dom);\\n}\\n);\\n    (WebIO.importBlock({\\\"data\\\":[{\\\"name\\\":\\\"knockout\\\",\\\"type\\\":\\\"js\\\",\\\"url\\\":\\\"\\/assetserver\\/d749de49a15576291e39755d819be2408bf7f995-knockout.js\\\"},{\\\"name\\\":\\\"knockout_punches\\\",\\\"type\\\":\\\"js\\\",\\\"url\\\":\\\"\\/assetserver\\/9f5c86158cf79faf331cfb32636cb08a9b1f0dc2-knockout_punches.js\\\"}],\\\"type\\\":\\\"async_block\\\"})).then((imports) => handler.apply(this, imports));\\n}\\n\"],\"observables\":{\"changes\":{\"sync\":true,\"id\":\"5862894902307827095\",\"value\":0},\"index\":{\"sync\":true,\"id\":\"14409393654357043784\",\"value\":26}}},\"children\":[{\"props\":{\"className\":\"interact-flex-row interact-widget\",\"style\":{\"font-family\":\"monospace\",\"width\":\"80%\"}},\"nodeType\":\"DOM\",\"type\":\"node\",\"instanceArgs\":{\"namespace\":\"html\",\"tag\":\"div\"},\"children\":[{\"props\":{\"className\":\"interact-flex-row-left\"},\"nodeType\":\"DOM\",\"type\":\"node\",\"instanceArgs\":{\"namespace\":\"html\",\"tag\":\"div\"},\"children\":[{\"props\":{\"className\":\"interact \",\"style\":{\"padding\":\"5px 10px 0px 10px\",\"white-space\":\"nowrap\",\"color\":\"royalblue\"}},\"nodeType\":\"DOM\",\"type\":\"node\",\"instanceArgs\":{\"namespace\":\"html\",\"tag\":\"label\"},\"children\":[\"μ0\"]}]},{\"props\":{\"className\":\"interact-flex-row-center\"},\"nodeType\":\"DOM\",\"type\":\"node\",\"instanceArgs\":{\"namespace\":\"html\",\"tag\":\"div\"},\"children\":[{\"props\":{\"max\":51,\"min\":1,\"attributes\":{\"type\":\"range\",\"data-bind\":\"numericValue: index, valueUpdate: 'input', event: {change: function (){this.changes(this.changes()+1)}}\",\"orient\":\"horizontal\"},\"step\":1,\"className\":\"slider slider is-fullwidth\",\"style\":{}},\"nodeType\":\"DOM\",\"type\":\"node\",\"instanceArgs\":{\"namespace\":\"html\",\"tag\":\"input\"},\"children\":[]}]},{\"props\":{\"className\":\"interact-flex-row-right\"},\"nodeType\":\"DOM\",\"type\":\"node\",\"instanceArgs\":{\"namespace\":\"html\",\"tag\":\"div\"},\"children\":[{\"props\":{\"attributes\":{\"data-bind\":\"text: formatted_val\"}},\"nodeType\":\"DOM\",\"type\":\"node\",\"instanceArgs\":{\"namespace\":\"html\",\"tag\":\"p\"},\"children\":[]}]}]}]}]},{\"props\":{\"className\":\"field interact-widget\"},\"nodeType\":\"DOM\",\"type\":\"node\",\"instanceArgs\":{\"namespace\":\"html\",\"tag\":\"div\"},\"children\":[{\"props\":{},\"nodeType\":\"Scope\",\"type\":\"node\",\"instanceArgs\":{\"imports\":{\"data\":[{\"name\":\"knockout\",\"type\":\"js\",\"url\":\"\\/assetserver\\/d749de49a15576291e39755d819be2408bf7f995-knockout.js\"},{\"name\":\"knockout_punches\",\"type\":\"js\",\"url\":\"\\/assetserver\\/9f5c86158cf79faf331cfb32636cb08a9b1f0dc2-knockout_punches.js\"},{\"name\":null,\"type\":\"js\",\"url\":\"\\/assetserver\\/96a65e6078e018eef9bba5cd6ed02b2635164c53-all.js\"},{\"name\":null,\"type\":\"css\",\"url\":\"\\/assetserver\\/98c9b8e9cfeaa0be2a6f3aa79abc5da0680c3037-style.css\"},{\"name\":null,\"type\":\"css\",\"url\":\"\\/assetserver\\/c5a1211d10b2f10049d85486a98c5e9063cad849-bulma_confined.min.css\"}],\"type\":\"async_block\"},\"id\":\"2740424874649263323\",\"handlers\":{\"changes\":[\"(function (val){return (val!=this.model[\\\"changes\\\"]()) ? (this.valueFromJulia[\\\"changes\\\"]=true, this.model[\\\"changes\\\"](val)) : undefined})\"],\"index\":[\"(function (val){return (val!=this.model[\\\"index\\\"]()) ? (this.valueFromJulia[\\\"index\\\"]=true, this.model[\\\"index\\\"](val)) : undefined})\"]},\"systemjs_options\":null,\"mount_callbacks\":[\"function () {\\n    var handler = (function (ko, koPunches) {\\n    ko.punches.enableAll();\\n    ko.bindingHandlers.numericValue = {\\n        init: function(element, valueAccessor, allBindings, data, context) {\\n            var stringified = ko.observable(ko.unwrap(valueAccessor()));\\n            stringified.subscribe(function(value) {\\n                var val = parseFloat(value);\\n                if (!isNaN(val)) {\\n                    valueAccessor()(val);\\n                }\\n            });\\n            valueAccessor().subscribe(function(value) {\\n                var str = JSON.stringify(value);\\n                if ((str == \\\"0\\\") && ([\\\"-0\\\", \\\"-0.\\\"].indexOf(stringified()) >= 0))\\n                     return;\\n                 if ([\\\"null\\\", \\\"\\\"].indexOf(str) >= 0)\\n                     return;\\n                stringified(str);\\n            });\\n            ko.applyBindingsToNode(\\n                element,\\n                {\\n                    value: stringified,\\n                    valueUpdate: allBindings.get('valueUpdate'),\\n                },\\n                context,\\n            );\\n        }\\n    };\\n    var json_data = {\\\"formatted_vals\\\":[\\\"0.0\\\",\\\"0.01\\\",\\\"0.02\\\",\\\"0.03\\\",\\\"0.04\\\",\\\"0.05\\\",\\\"0.06\\\",\\\"0.07\\\",\\\"0.08\\\",\\\"0.09\\\",\\\"0.1\\\",\\\"0.11\\\",\\\"0.12\\\",\\\"0.13\\\",\\\"0.14\\\",\\\"0.15\\\",\\\"0.16\\\",\\\"0.17\\\",\\\"0.18\\\",\\\"0.19\\\",\\\"0.2\\\"],\\\"changes\\\":WebIO.getval({\\\"name\\\":\\\"changes\\\",\\\"scope\\\":\\\"2740424874649263323\\\",\\\"id\\\":\\\"10391632895912620594\\\",\\\"type\\\":\\\"observable\\\"}),\\\"index\\\":WebIO.getval({\\\"name\\\":\\\"index\\\",\\\"scope\\\":\\\"2740424874649263323\\\",\\\"id\\\":\\\"2667056621875383176\\\",\\\"type\\\":\\\"observable\\\"})};\\n    var self = this;\\n    function AppViewModel() {\\n        for (var key in json_data) {\\n            var el = json_data[key];\\n            this[key] = Array.isArray(el) ? ko.observableArray(el) : ko.observable(el);\\n        }\\n        \\n        [this[\\\"formatted_val\\\"]=ko.computed(    function(){\\n        return this.formatted_vals()[parseInt(this.index())-(1)];\\n    }\\n,this)]\\n        [this[\\\"changes\\\"].subscribe((function (val){!(this.valueFromJulia[\\\"changes\\\"]) ? (WebIO.setval({\\\"name\\\":\\\"changes\\\",\\\"scope\\\":\\\"2740424874649263323\\\",\\\"id\\\":\\\"10391632895912620594\\\",\\\"type\\\":\\\"observable\\\"},val)) : undefined; return this.valueFromJulia[\\\"changes\\\"]=false}),self),this[\\\"index\\\"].subscribe((function (val){!(this.valueFromJulia[\\\"index\\\"]) ? (WebIO.setval({\\\"name\\\":\\\"index\\\",\\\"scope\\\":\\\"2740424874649263323\\\",\\\"id\\\":\\\"2667056621875383176\\\",\\\"type\\\":\\\"observable\\\"},val)) : undefined; return this.valueFromJulia[\\\"index\\\"]=false}),self)]\\n        \\n    }\\n    self.model = new AppViewModel();\\n    self.valueFromJulia = {};\\n    for (var key in json_data) {\\n        self.valueFromJulia[key] = false;\\n    }\\n    ko.applyBindings(self.model, self.dom);\\n}\\n);\\n    (WebIO.importBlock({\\\"data\\\":[{\\\"name\\\":\\\"knockout\\\",\\\"type\\\":\\\"js\\\",\\\"url\\\":\\\"\\/assetserver\\/d749de49a15576291e39755d819be2408bf7f995-knockout.js\\\"},{\\\"name\\\":\\\"knockout_punches\\\",\\\"type\\\":\\\"js\\\",\\\"url\\\":\\\"\\/assetserver\\/9f5c86158cf79faf331cfb32636cb08a9b1f0dc2-knockout_punches.js\\\"}],\\\"type\\\":\\\"async_block\\\"})).then((imports) => handler.apply(this, imports));\\n}\\n\"],\"observables\":{\"changes\":{\"sync\":true,\"id\":\"10391632895912620594\",\"value\":0},\"index\":{\"sync\":true,\"id\":\"2667056621875383176\",\"value\":11}}},\"children\":[{\"props\":{\"className\":\"interact-flex-row interact-widget\",\"style\":{\"font-family\":\"monospace\",\"width\":\"80%\"}},\"nodeType\":\"DOM\",\"type\":\"node\",\"instanceArgs\":{\"namespace\":\"html\",\"tag\":\"div\"},\"children\":[{\"props\":{\"className\":\"interact-flex-row-left\"},\"nodeType\":\"DOM\",\"type\":\"node\",\"instanceArgs\":{\"namespace\":\"html\",\"tag\":\"div\"},\"children\":[{\"props\":{\"className\":\"interact \",\"style\":{\"padding\":\"5px 10px 0px 10px\",\"white-space\":\"nowrap\",\"color\":\"royalblue\"}},\"nodeType\":\"DOM\",\"type\":\"node\",\"instanceArgs\":{\"namespace\":\"html\",\"tag\":\"label\"},\"children\":[\"D\"]}]},{\"props\":{\"className\":\"interact-flex-row-center\"},\"nodeType\":\"DOM\",\"type\":\"node\",\"instanceArgs\":{\"namespace\":\"html\",\"tag\":\"div\"},\"children\":[{\"props\":{\"max\":21,\"min\":1,\"attributes\":{\"type\":\"range\",\"data-bind\":\"numericValue: index, valueUpdate: 'input', event: {change: function (){this.changes(this.changes()+1)}}\",\"orient\":\"horizontal\"},\"step\":1,\"className\":\"slider slider is-fullwidth\",\"style\":{}},\"nodeType\":\"DOM\",\"type\":\"node\",\"instanceArgs\":{\"namespace\":\"html\",\"tag\":\"input\"},\"children\":[]}]},{\"props\":{\"className\":\"interact-flex-row-right\"},\"nodeType\":\"DOM\",\"type\":\"node\",\"instanceArgs\":{\"namespace\":\"html\",\"tag\":\"div\"},\"children\":[{\"props\":{\"attributes\":{\"data-bind\":\"text: formatted_val\"}},\"nodeType\":\"DOM\",\"type\":\"node\",\"instanceArgs\":{\"namespace\":\"html\",\"tag\":\"p\"},\"children\":[]}]}]}]}]},{\"props\":{\"className\":\"field interact-widget\"},\"nodeType\":\"DOM\",\"type\":\"node\",\"instanceArgs\":{\"namespace\":\"html\",\"tag\":\"div\"},\"children\":[{\"props\":{},\"nodeType\":\"Scope\",\"type\":\"node\",\"instanceArgs\":{\"imports\":{\"data\":[{\"name\":\"knockout\",\"type\":\"js\",\"url\":\"\\/assetserver\\/d749de49a15576291e39755d819be2408bf7f995-knockout.js\"},{\"name\":\"knockout_punches\",\"type\":\"js\",\"url\":\"\\/assetserver\\/9f5c86158cf79faf331cfb32636cb08a9b1f0dc2-knockout_punches.js\"},{\"name\":null,\"type\":\"js\",\"url\":\"\\/assetserver\\/96a65e6078e018eef9bba5cd6ed02b2635164c53-all.js\"},{\"name\":null,\"type\":\"css\",\"url\":\"\\/assetserver\\/98c9b8e9cfeaa0be2a6f3aa79abc5da0680c3037-style.css\"},{\"name\":null,\"type\":\"css\",\"url\":\"\\/assetserver\\/c5a1211d10b2f10049d85486a98c5e9063cad849-bulma_confined.min.css\"}],\"type\":\"async_block\"},\"id\":\"8174863025626627151\",\"handlers\":{\"changes\":[\"(function (val){return (val!=this.model[\\\"changes\\\"]()) ? (this.valueFromJulia[\\\"changes\\\"]=true, this.model[\\\"changes\\\"](val)) : undefined})\"],\"index\":[\"(function (val){return (val!=this.model[\\\"index\\\"]()) ? (this.valueFromJulia[\\\"index\\\"]=true, this.model[\\\"index\\\"](val)) : undefined})\"]},\"systemjs_options\":null,\"mount_callbacks\":[\"function () {\\n    var handler = (function (ko, koPunches) {\\n    ko.punches.enableAll();\\n    ko.bindingHandlers.numericValue = {\\n        init: function(element, valueAccessor, allBindings, data, context) {\\n            var stringified = ko.observable(ko.unwrap(valueAccessor()));\\n            stringified.subscribe(function(value) {\\n                var val = parseFloat(value);\\n                if (!isNaN(val)) {\\n                    valueAccessor()(val);\\n                }\\n            });\\n            valueAccessor().subscribe(function(value) {\\n                var str = JSON.stringify(value);\\n                if ((str == \\\"0\\\") && ([\\\"-0\\\", \\\"-0.\\\"].indexOf(stringified()) >= 0))\\n                     return;\\n                 if ([\\\"null\\\", \\\"\\\"].indexOf(str) >= 0)\\n                     return;\\n                stringified(str);\\n            });\\n            ko.applyBindingsToNode(\\n                element,\\n                {\\n                    value: stringified,\\n                    valueUpdate: allBindings.get('valueUpdate'),\\n                },\\n                context,\\n            );\\n        }\\n    };\\n    var json_data = {\\\"formatted_vals\\\":[\\\"0.0\\\",\\\"0.1\\\",\\\"0.2\\\",\\\"0.3\\\",\\\"0.4\\\",\\\"0.5\\\",\\\"0.6\\\",\\\"0.7\\\",\\\"0.8\\\",\\\"0.9\\\",\\\"1.0\\\",\\\"1.1\\\",\\\"1.2\\\",\\\"1.3\\\",\\\"1.4\\\",\\\"1.5\\\",\\\"1.6\\\",\\\"1.7\\\",\\\"1.8\\\",\\\"1.9\\\",\\\"2.0\\\",\\\"2.1\\\",\\\"2.2\\\",\\\"2.3\\\",\\\"2.4\\\",\\\"2.5\\\",\\\"2.6\\\",\\\"2.7\\\",\\\"2.8\\\",\\\"2.9\\\",\\\"3.0\\\",\\\"3.1\\\",\\\"3.2\\\",\\\"3.3\\\",\\\"3.4\\\",\\\"3.5\\\",\\\"3.6\\\",\\\"3.7\\\",\\\"3.8\\\",\\\"3.9\\\",\\\"4.0\\\",\\\"4.1\\\",\\\"4.2\\\",\\\"4.3\\\",\\\"4.4\\\",\\\"4.5\\\",\\\"4.6\\\",\\\"4.7\\\",\\\"4.8\\\",\\\"4.9\\\",\\\"5.0\\\",\\\"5.1\\\",\\\"5.2\\\",\\\"5.3\\\",\\\"5.4\\\",\\\"5.5\\\",\\\"5.6\\\",\\\"5.7\\\",\\\"5.8\\\",\\\"5.9\\\",\\\"6.0\\\",\\\"6.1\\\",\\\"6.2\\\",\\\"6.3\\\",\\\"6.4\\\",\\\"6.5\\\",\\\"6.6\\\",\\\"6.7\\\",\\\"6.8\\\",\\\"6.9\\\",\\\"7.0\\\",\\\"7.1\\\",\\\"7.2\\\",\\\"7.3\\\",\\\"7.4\\\",\\\"7.5\\\",\\\"7.6\\\",\\\"7.7\\\",\\\"7.8\\\",\\\"7.9\\\",\\\"8.0\\\",\\\"8.1\\\",\\\"8.2\\\",\\\"8.3\\\",\\\"8.4\\\",\\\"8.5\\\",\\\"8.6\\\",\\\"8.7\\\",\\\"8.8\\\",\\\"8.9\\\",\\\"9.0\\\",\\\"9.1\\\",\\\"9.2\\\",\\\"9.3\\\",\\\"9.4\\\",\\\"9.5\\\",\\\"9.6\\\",\\\"9.7\\\",\\\"9.8\\\",\\\"9.9\\\",\\\"10.0\\\"],\\\"changes\\\":WebIO.getval({\\\"name\\\":\\\"changes\\\",\\\"scope\\\":\\\"8174863025626627151\\\",\\\"id\\\":\\\"4623685479074123224\\\",\\\"type\\\":\\\"observable\\\"}),\\\"index\\\":WebIO.getval({\\\"name\\\":\\\"index\\\",\\\"scope\\\":\\\"8174863025626627151\\\",\\\"id\\\":\\\"3089685589449289157\\\",\\\"type\\\":\\\"observable\\\"})};\\n    var self = this;\\n    function AppViewModel() {\\n        for (var key in json_data) {\\n            var el = json_data[key];\\n            this[key] = Array.isArray(el) ? ko.observableArray(el) : ko.observable(el);\\n        }\\n        \\n        [this[\\\"formatted_val\\\"]=ko.computed(    function(){\\n        return this.formatted_vals()[parseInt(this.index())-(1)];\\n    }\\n,this)]\\n        [this[\\\"changes\\\"].subscribe((function (val){!(this.valueFromJulia[\\\"changes\\\"]) ? (WebIO.setval({\\\"name\\\":\\\"changes\\\",\\\"scope\\\":\\\"8174863025626627151\\\",\\\"id\\\":\\\"4623685479074123224\\\",\\\"type\\\":\\\"observable\\\"},val)) : undefined; return this.valueFromJulia[\\\"changes\\\"]=false}),self),this[\\\"index\\\"].subscribe((function (val){!(this.valueFromJulia[\\\"index\\\"]) ? (WebIO.setval({\\\"name\\\":\\\"index\\\",\\\"scope\\\":\\\"8174863025626627151\\\",\\\"id\\\":\\\"3089685589449289157\\\",\\\"type\\\":\\\"observable\\\"},val)) : undefined; return this.valueFromJulia[\\\"index\\\"]=false}),self)]\\n        \\n    }\\n    self.model = new AppViewModel();\\n    self.valueFromJulia = {};\\n    for (var key in json_data) {\\n        self.valueFromJulia[key] = false;\\n    }\\n    ko.applyBindings(self.model, self.dom);\\n}\\n);\\n    (WebIO.importBlock({\\\"data\\\":[{\\\"name\\\":\\\"knockout\\\",\\\"type\\\":\\\"js\\\",\\\"url\\\":\\\"\\/assetserver\\/d749de49a15576291e39755d819be2408bf7f995-knockout.js\\\"},{\\\"name\\\":\\\"knockout_punches\\\",\\\"type\\\":\\\"js\\\",\\\"url\\\":\\\"\\/assetserver\\/9f5c86158cf79faf331cfb32636cb08a9b1f0dc2-knockout_punches.js\\\"}],\\\"type\\\":\\\"async_block\\\"})).then((imports) => handler.apply(this, imports));\\n}\\n\"],\"observables\":{\"changes\":{\"sync\":true,\"id\":\"4623685479074123224\",\"value\":0},\"index\":{\"sync\":true,\"id\":\"3089685589449289157\",\"value\":51}}},\"children\":[{\"props\":{\"className\":\"interact-flex-row interact-widget\",\"style\":{\"font-family\":\"monospace\",\"width\":\"80%\"}},\"nodeType\":\"DOM\",\"type\":\"node\",\"instanceArgs\":{\"namespace\":\"html\",\"tag\":\"div\"},\"children\":[{\"props\":{\"className\":\"interact-flex-row-left\"},\"nodeType\":\"DOM\",\"type\":\"node\",\"instanceArgs\":{\"namespace\":\"html\",\"tag\":\"div\"},\"children\":[{\"props\":{\"className\":\"interact \",\"style\":{\"padding\":\"5px 10px 0px 10px\",\"white-space\":\"nowrap\",\"color\":\"royalblue\"}},\"nodeType\":\"DOM\",\"type\":\"node\",\"instanceArgs\":{\"namespace\":\"html\",\"tag\":\"label\"},\"children\":[\"W0\"]}]},{\"props\":{\"className\":\"interact-flex-row-center\"},\"nodeType\":\"DOM\",\"type\":\"node\",\"instanceArgs\":{\"namespace\":\"html\",\"tag\":\"div\"},\"children\":[{\"props\":{\"max\":101,\"min\":1,\"attributes\":{\"type\":\"range\",\"data-bind\":\"numericValue: index, valueUpdate: 'input', event: {change: function (){this.changes(this.changes()+1)}}\",\"orient\":\"horizontal\"},\"step\":1,\"className\":\"slider slider is-fullwidth\",\"style\":{}},\"nodeType\":\"DOM\",\"type\":\"node\",\"instanceArgs\":{\"namespace\":\"html\",\"tag\":\"input\"},\"children\":[]}]},{\"props\":{\"className\":\"interact-flex-row-right\"},\"nodeType\":\"DOM\",\"type\":\"node\",\"instanceArgs\":{\"namespace\":\"html\",\"tag\":\"div\"},\"children\":[{\"props\":{\"attributes\":{\"data-bind\":\"text: formatted_val\"}},\"nodeType\":\"DOM\",\"type\":\"node\",\"instanceArgs\":{\"namespace\":\"html\",\"tag\":\"p\"},\"children\":[]}]}]}]}]},{\"props\":{},\"nodeType\":\"Scope\",\"type\":\"node\",\"instanceArgs\":{\"imports\":{\"data\":[],\"type\":\"async_block\"},\"id\":\"10344120258925240381\",\"handlers\":{\"obs-output\":[\"function (value, scope) {\\n    scope.setInnerHTML(value);\\n}\\n\"]},\"systemjs_options\":null,\"mount_callbacks\":[],\"observables\":{\"obs-output\":{\"sync\":false,\"id\":\"12257198806360581785\",\"value\":\"<?xml version=\\\"1.0\\\" encoding=\\\"UTF-8\\\"?>\\n<svg xmlns=\\\"http:\\/\\/www.w3.org\\/2000\\/svg\\\"\\n     xmlns:xlink=\\\"http:\\/\\/www.w3.org\\/1999\\/xlink\\\"\\n     xmlns:gadfly=\\\"http:\\/\\/www.gadflyjl.org\\/ns\\\"\\n     version=\\\"1.2\\\"\\n     width=\\\"141.42mm\\\" height=\\\"100mm\\\" viewBox=\\\"0 0 141.42 100\\\"\\n     stroke=\\\"none\\\"\\n     fill=\\\"#000000\\\"\\n     stroke-width=\\\"0.3\\\"\\n     font-size=\\\"3.88\\\"\\n>\\n<defs>\\n  <marker id=\\\"arrow\\\" markerWidth=\\\"15\\\" markerHeight=\\\"7\\\" refX=\\\"5\\\" refY=\\\"3.5\\\" orient=\\\"auto\\\" markerUnits=\\\"strokeWidth\\\">\\n    <path d=\\\"M0,0 L15,3.5 L0,7 z\\\" stroke=\\\"context-stroke\\\" fill=\\\"context-stroke\\\"\\/>\\n  <\\/marker>\\n<\\/defs>\\n<g stroke=\\\"#000000\\\" stroke-opacity=\\\"0.000\\\" fill=\\\"#FFFFFF\\\" id=\\\"img-20c89cd9-1\\\">\\n  <g transform=\\\"translate(70.71,50)\\\">\\n    <path d=\\\"M-70.71,-50 L70.71,-50 70.71,50 -70.71,50  z\\\" class=\\\"primitive\\\"\\/>\\n  <\\/g>\\n<\\/g>\\n<g class=\\\"plotroot xscalable yscalable\\\" id=\\\"img-20c89cd9-2\\\">\\n  <g font-size=\\\"3.53\\\" font-family=\\\"'PT Sans','Helvetica Neue','Helvetica',sans-serif\\\" fill=\\\"#564A55\\\" stroke=\\\"#000000\\\" stroke-opacity=\\\"0.000\\\" id=\\\"img-20c89cd9-3\\\">\\n    <g transform=\\\"translate(77.68,93.72)\\\">\\n      <g class=\\\"primitive\\\">\\n        <text text-anchor=\\\"middle\\\" dy=\\\"0.6em\\\">t<\\/text>\\n      <\\/g>\\n    <\\/g>\\n  <\\/g>\\n  <g class=\\\"guide xlabels\\\" font-size=\\\"2.82\\\" font-family=\\\"'PT Sans Caption','Helvetica Neue','Helvetica',sans-serif\\\" fill=\\\"#6C606B\\\" id=\\\"img-20c89cd9-4\\\">\\n    <g transform=\\\"translate(20.94,87.04)\\\">\\n      <g class=\\\"primitive\\\">\\n        <text text-anchor=\\\"middle\\\" dy=\\\"0.6em\\\">0<\\/text>\\n      <\\/g>\\n    <\\/g>\\n    <g transform=\\\"translate(77.68,87.04)\\\">\\n      <g class=\\\"primitive\\\">\\n        <text text-anchor=\\\"middle\\\" dy=\\\"0.6em\\\">50<\\/text>\\n      <\\/g>\\n    <\\/g>\\n    <g transform=\\\"translate(134.42,87.04)\\\">\\n      <g class=\\\"primitive\\\">\\n        <text text-anchor=\\\"middle\\\" dy=\\\"0.6em\\\">100<\\/text>\\n      <\\/g>\\n    <\\/g>\\n  <\\/g>\\n  <g clip-path=\\\"url(#img-20c89cd9-5)\\\">\\n    <g id=\\\"img-20c89cd9-6\\\">\\n      <g pointer-events=\\\"visible\\\" stroke-width=\\\"0.3\\\" fill=\\\"#000000\\\" fill-opacity=\\\"0.000\\\" stroke=\\\"#000000\\\" stroke-opacity=\\\"0.000\\\" class=\\\"guide background\\\" id=\\\"img-20c89cd9-7\\\">\\n        <g transform=\\\"translate(77.68,45.52)\\\" id=\\\"img-20c89cd9-8\\\">\\n          <path d=\\\"M-58.74,-40.52 L58.74,-40.52 58.74,40.52 -58.74,40.52  z\\\" class=\\\"primitive\\\"\\/>\\n        <\\/g>\\n      <\\/g>\\n      <g class=\\\"guide ygridlines xfixed\\\" stroke-dasharray=\\\"0.5,0.5\\\" stroke-width=\\\"0.2\\\" stroke=\\\"#D0D0E0\\\" id=\\\"img-20c89cd9-9\\\">\\n        <g transform=\\\"translate(77.68,84.04)\\\" id=\\\"img-20c89cd9-10\\\">\\n          <path fill=\\\"none\\\" d=\\\"M-58.74,0 L58.74,0 \\\" class=\\\"primitive\\\"\\/>\\n        <\\/g>\\n        <g transform=\\\"translate(77.68,64.78)\\\" id=\\\"img-20c89cd9-11\\\">\\n          <path fill=\\\"none\\\" d=\\\"M-58.74,0 L58.74,0 \\\" class=\\\"primitive\\\"\\/>\\n        <\\/g>\\n        <g transform=\\\"translate(77.68,45.52)\\\" id=\\\"img-20c89cd9-12\\\">\\n          <path fill=\\\"none\\\" d=\\\"M-58.74,0 L58.74,0 \\\" class=\\\"primitive\\\"\\/>\\n        <\\/g>\\n        <g transform=\\\"translate(77.68,26.26)\\\" id=\\\"img-20c89cd9-13\\\">\\n          <path fill=\\\"none\\\" d=\\\"M-58.74,0 L58.74,0 \\\" class=\\\"primitive\\\"\\/>\\n        <\\/g>\\n        <g transform=\\\"translate(77.68,7)\\\" id=\\\"img-20c89cd9-14\\\">\\n          <path fill=\\\"none\\\" d=\\\"M-58.74,0 L58.74,0 \\\" class=\\\"primitive\\\"\\/>\\n        <\\/g>\\n      <\\/g>\\n      <g class=\\\"guide xgridlines yfixed\\\" stroke-dasharray=\\\"0.5,0.5\\\" stroke-width=\\\"0.2\\\" stroke=\\\"#D0D0E0\\\" id=\\\"img-20c89cd9-15\\\">\\n        <g transform=\\\"translate(20.94,45.52)\\\" id=\\\"img-20c89cd9-16\\\">\\n          <path fill=\\\"none\\\" d=\\\"M0,-40.52 L0,40.52 \\\" class=\\\"primitive\\\"\\/>\\n        <\\/g>\\n        <g transform=\\\"translate(77.68,45.52)\\\" id=\\\"img-20c89cd9-17\\\">\\n          <path fill=\\\"none\\\" d=\\\"M0,-40.52 L0,40.52 \\\" class=\\\"primitive\\\"\\/>\\n        <\\/g>\\n        <g transform=\\\"translate(134.42,45.52)\\\" id=\\\"img-20c89cd9-18\\\">\\n          <path fill=\\\"none\\\" d=\\\"M0,-40.52 L0,40.52 \\\" class=\\\"primitive\\\"\\/>\\n        <\\/g>\\n      <\\/g>\\n      <g class=\\\"plotpanel\\\" id=\\\"img-20c89cd9-19\\\">\\n        <metadata>\\n          <boundingbox value=\\\"18.936666666666667mm 5.0mm 117.48468957064284mm 81.04333333333335mm\\\"\\/>\\n          <unitbox value=\\\"-1.762352267576169 205.19188335568728 103.52470453515235 -210.38376671137456\\\"\\/>\\n        <\\/metadata>\\n        <g stroke-width=\\\"0.3\\\" fill=\\\"#000000\\\" fill-opacity=\\\"0.000\\\" class=\\\"geometry\\\" id=\\\"img-20c89cd9-20\\\">\\n          <g class=\\\"color_LCHab{Float32}(70.0f0,60.0f0,240.0f0)\\\" stroke-dasharray=\\\"none\\\" stroke-opacity=\\\"1\\\" stroke=\\\"#00BFFF\\\" id=\\\"img-20c89cd9-21\\\">\\n            <g transform=\\\"translate(77.68,66.75)\\\" id=\\\"img-20c89cd9-22\\\">\\n              <path fill=\\\"none\\\" d=\\\"M-56.74,15.37 L-55.61,14.89 -54.47,14.35 -53.34,13.75 -52.2,13.11 -51.07,12.42 -49.93,11.7 -48.8,10.95 -47.66,10.19 -46.53,9.43 -45.39,8.67 -44.26,7.91 -43.12,7.18 -41.99,6.46 -40.85,5.78 -39.72,5.12 -38.58,4.49 -37.45,3.9 -36.32,3.34 -35.18,2.81 -34.05,2.32 -32.91,1.87 -31.78,1.45 -30.64,1.06 -29.51,0.7 -28.37,0.37 -27.24,0.06 -26.1,-0.22 -24.97,-0.47 -23.83,-0.7 -22.7,-0.91 -21.56,-1.11 -20.43,-1.28 -19.29,-1.44 -18.16,-1.59 -17.02,-1.72 -15.89,-1.84 -14.75,-1.95 -13.62,-2.04 -12.48,-2.13 -11.35,-2.21 -10.21,-2.28 -9.08,-2.35 -7.94,-2.41 -6.81,-2.46 -5.67,-2.51 -4.54,-2.55 -3.4,-2.59 -2.27,-2.63 -1.13,-2.66 0,-2.69 1.13,-2.71 2.27,-2.73 3.4,-2.76 4.54,-2.77 5.67,-2.79 6.81,-2.81 7.94,-2.82 9.08,-2.83 10.21,-2.84 11.35,-2.85 12.48,-2.86 13.62,-2.87 14.75,-2.88 15.89,-2.89 17.02,-2.89 18.16,-2.9 19.29,-2.9 20.43,-2.91 21.56,-2.91 22.7,-2.91 23.83,-2.92 24.97,-2.92 26.1,-2.92 27.24,-2.92 28.37,-2.93 29.51,-2.93 30.64,-2.93 31.78,-2.93 32.91,-2.93 34.05,-2.93 35.18,-2.93 36.32,-2.94 37.45,-2.94 38.58,-2.94 39.72,-2.94 40.85,-2.94 41.99,-2.94 43.12,-2.94 44.26,-2.94 45.39,-2.94 46.53,-2.94 47.66,-2.94 48.8,-2.94 49.93,-2.94 51.07,-2.94 52.2,-2.94 53.34,-2.94 54.47,-2.94 55.61,-2.94 56.74,-2.94 \\\" class=\\\"primitive\\\"\\/>\\n            <\\/g>\\n          <\\/g>\\n        <\\/g>\\n      <\\/g>\\n    <\\/g>\\n  <\\/g>\\n  <g class=\\\"guide ylabels\\\" font-size=\\\"2.82\\\" font-family=\\\"'PT Sans Caption','Helvetica Neue','Helvetica',sans-serif\\\" fill=\\\"#6C606B\\\" id=\\\"img-20c89cd9-23\\\">\\n    <g transform=\\\"translate(17.94,84.04)\\\" id=\\\"img-20c89cd9-24\\\">\\n      <g class=\\\"primitive\\\">\\n        <text text-anchor=\\\"end\\\" dy=\\\"0.35em\\\">0<\\/text>\\n      <\\/g>\\n    <\\/g>\\n    <g transform=\\\"translate(17.94,64.78)\\\" id=\\\"img-20c89cd9-25\\\">\\n      <g class=\\\"primitive\\\">\\n        <text text-anchor=\\\"end\\\" dy=\\\"0.35em\\\">50<\\/text>\\n      <\\/g>\\n    <\\/g>\\n    <g transform=\\\"translate(17.94,45.52)\\\" id=\\\"img-20c89cd9-26\\\">\\n      <g class=\\\"primitive\\\">\\n        <text text-anchor=\\\"end\\\" dy=\\\"0.35em\\\">100<\\/text>\\n      <\\/g>\\n    <\\/g>\\n    <g transform=\\\"translate(17.94,26.26)\\\" id=\\\"img-20c89cd9-27\\\">\\n      <g class=\\\"primitive\\\">\\n        <text text-anchor=\\\"end\\\" dy=\\\"0.35em\\\">150<\\/text>\\n      <\\/g>\\n    <\\/g>\\n    <g transform=\\\"translate(17.94,7)\\\" id=\\\"img-20c89cd9-28\\\">\\n      <g class=\\\"primitive\\\">\\n        <text text-anchor=\\\"end\\\" dy=\\\"0.35em\\\">200<\\/text>\\n      <\\/g>\\n    <\\/g>\\n  <\\/g>\\n  <g font-size=\\\"3.53\\\" font-family=\\\"'PT Sans','Helvetica Neue','Helvetica',sans-serif\\\" fill=\\\"#564A55\\\" stroke=\\\"#000000\\\" stroke-opacity=\\\"0.000\\\" id=\\\"img-20c89cd9-29\\\">\\n    <g transform=\\\"translate(9.92,45.52)\\\" id=\\\"img-20c89cd9-30\\\">\\n      <g class=\\\"primitive\\\">\\n        <text text-anchor=\\\"end\\\" dy=\\\"0.35em\\\">W<\\/text>\\n      <\\/g>\\n    <\\/g>\\n  <\\/g>\\n<\\/g>\\n<defs>\\n  <clipPath id=\\\"img-20c89cd9-5\\\">\\n    <path d=\\\"M18.94,5 L136.42,5 136.42,86.04 18.94,86.04 \\\" \\/>\\n  <\\/clipPath>\\n<\\/defs>\\n<\\/svg>\\n\"}}},\"children\":[{\"props\":{\"className\":\"webio-observable\",\"setInnerHtml\":\"<?xml version=\\\"1.0\\\" encoding=\\\"UTF-8\\\"?>\\n<svg xmlns=\\\"http:\\/\\/www.w3.org\\/2000\\/svg\\\"\\n     xmlns:xlink=\\\"http:\\/\\/www.w3.org\\/1999\\/xlink\\\"\\n     xmlns:gadfly=\\\"http:\\/\\/www.gadflyjl.org\\/ns\\\"\\n     version=\\\"1.2\\\"\\n     width=\\\"141.42mm\\\" height=\\\"100mm\\\" viewBox=\\\"0 0 141.42 100\\\"\\n     stroke=\\\"none\\\"\\n     fill=\\\"#000000\\\"\\n     stroke-width=\\\"0.3\\\"\\n     font-size=\\\"3.88\\\"\\n>\\n<defs>\\n  <marker id=\\\"arrow\\\" markerWidth=\\\"15\\\" markerHeight=\\\"7\\\" refX=\\\"5\\\" refY=\\\"3.5\\\" orient=\\\"auto\\\" markerUnits=\\\"strokeWidth\\\">\\n    <path d=\\\"M0,0 L15,3.5 L0,7 z\\\" stroke=\\\"context-stroke\\\" fill=\\\"context-stroke\\\"\\/>\\n  <\\/marker>\\n<\\/defs>\\n<g stroke=\\\"#000000\\\" stroke-opacity=\\\"0.000\\\" fill=\\\"#FFFFFF\\\" id=\\\"img-20c89cd9-1\\\">\\n  <g transform=\\\"translate(70.71,50)\\\">\\n    <path d=\\\"M-70.71,-50 L70.71,-50 70.71,50 -70.71,50  z\\\" class=\\\"primitive\\\"\\/>\\n  <\\/g>\\n<\\/g>\\n<g class=\\\"plotroot xscalable yscalable\\\" id=\\\"img-20c89cd9-2\\\">\\n  <g font-size=\\\"3.53\\\" font-family=\\\"'PT Sans','Helvetica Neue','Helvetica',sans-serif\\\" fill=\\\"#564A55\\\" stroke=\\\"#000000\\\" stroke-opacity=\\\"0.000\\\" id=\\\"img-20c89cd9-3\\\">\\n    <g transform=\\\"translate(77.68,93.72)\\\">\\n      <g class=\\\"primitive\\\">\\n        <text text-anchor=\\\"middle\\\" dy=\\\"0.6em\\\">t<\\/text>\\n      <\\/g>\\n    <\\/g>\\n  <\\/g>\\n  <g class=\\\"guide xlabels\\\" font-size=\\\"2.82\\\" font-family=\\\"'PT Sans Caption','Helvetica Neue','Helvetica',sans-serif\\\" fill=\\\"#6C606B\\\" id=\\\"img-20c89cd9-4\\\">\\n    <g transform=\\\"translate(20.94,87.04)\\\">\\n      <g class=\\\"primitive\\\">\\n        <text text-anchor=\\\"middle\\\" dy=\\\"0.6em\\\">0<\\/text>\\n      <\\/g>\\n    <\\/g>\\n    <g transform=\\\"translate(77.68,87.04)\\\">\\n      <g class=\\\"primitive\\\">\\n        <text text-anchor=\\\"middle\\\" dy=\\\"0.6em\\\">50<\\/text>\\n      <\\/g>\\n    <\\/g>\\n    <g transform=\\\"translate(134.42,87.04)\\\">\\n      <g class=\\\"primitive\\\">\\n        <text text-anchor=\\\"middle\\\" dy=\\\"0.6em\\\">100<\\/text>\\n      <\\/g>\\n    <\\/g>\\n  <\\/g>\\n  <g clip-path=\\\"url(#img-20c89cd9-5)\\\">\\n    <g id=\\\"img-20c89cd9-6\\\">\\n      <g pointer-events=\\\"visible\\\" stroke-width=\\\"0.3\\\" fill=\\\"#000000\\\" fill-opacity=\\\"0.000\\\" stroke=\\\"#000000\\\" stroke-opacity=\\\"0.000\\\" class=\\\"guide background\\\" id=\\\"img-20c89cd9-7\\\">\\n        <g transform=\\\"translate(77.68,45.52)\\\" id=\\\"img-20c89cd9-8\\\">\\n          <path d=\\\"M-58.74,-40.52 L58.74,-40.52 58.74,40.52 -58.74,40.52  z\\\" class=\\\"primitive\\\"\\/>\\n        <\\/g>\\n      <\\/g>\\n      <g class=\\\"guide ygridlines xfixed\\\" stroke-dasharray=\\\"0.5,0.5\\\" stroke-width=\\\"0.2\\\" stroke=\\\"#D0D0E0\\\" id=\\\"img-20c89cd9-9\\\">\\n        <g transform=\\\"translate(77.68,84.04)\\\" id=\\\"img-20c89cd9-10\\\">\\n          <path fill=\\\"none\\\" d=\\\"M-58.74,0 L58.74,0 \\\" class=\\\"primitive\\\"\\/>\\n        <\\/g>\\n        <g transform=\\\"translate(77.68,64.78)\\\" id=\\\"img-20c89cd9-11\\\">\\n          <path fill=\\\"none\\\" d=\\\"M-58.74,0 L58.74,0 \\\" class=\\\"primitive\\\"\\/>\\n        <\\/g>\\n        <g transform=\\\"translate(77.68,45.52)\\\" id=\\\"img-20c89cd9-12\\\">\\n          <path fill=\\\"none\\\" d=\\\"M-58.74,0 L58.74,0 \\\" class=\\\"primitive\\\"\\/>\\n        <\\/g>\\n        <g transform=\\\"translate(77.68,26.26)\\\" id=\\\"img-20c89cd9-13\\\">\\n          <path fill=\\\"none\\\" d=\\\"M-58.74,0 L58.74,0 \\\" class=\\\"primitive\\\"\\/>\\n        <\\/g>\\n        <g transform=\\\"translate(77.68,7)\\\" id=\\\"img-20c89cd9-14\\\">\\n          <path fill=\\\"none\\\" d=\\\"M-58.74,0 L58.74,0 \\\" class=\\\"primitive\\\"\\/>\\n        <\\/g>\\n      <\\/g>\\n      <g class=\\\"guide xgridlines yfixed\\\" stroke-dasharray=\\\"0.5,0.5\\\" stroke-width=\\\"0.2\\\" stroke=\\\"#D0D0E0\\\" id=\\\"img-20c89cd9-15\\\">\\n        <g transform=\\\"translate(20.94,45.52)\\\" id=\\\"img-20c89cd9-16\\\">\\n          <path fill=\\\"none\\\" d=\\\"M0,-40.52 L0,40.52 \\\" class=\\\"primitive\\\"\\/>\\n        <\\/g>\\n        <g transform=\\\"translate(77.68,45.52)\\\" id=\\\"img-20c89cd9-17\\\">\\n          <path fill=\\\"none\\\" d=\\\"M0,-40.52 L0,40.52 \\\" class=\\\"primitive\\\"\\/>\\n        <\\/g>\\n        <g transform=\\\"translate(134.42,45.52)\\\" id=\\\"img-20c89cd9-18\\\">\\n          <path fill=\\\"none\\\" d=\\\"M0,-40.52 L0,40.52 \\\" class=\\\"primitive\\\"\\/>\\n        <\\/g>\\n      <\\/g>\\n      <g class=\\\"plotpanel\\\" id=\\\"img-20c89cd9-19\\\">\\n        <metadata>\\n          <boundingbox value=\\\"18.936666666666667mm 5.0mm 117.48468957064284mm 81.04333333333335mm\\\"\\/>\\n          <unitbox value=\\\"-1.762352267576169 205.19188335568728 103.52470453515235 -210.38376671137456\\\"\\/>\\n        <\\/metadata>\\n        <g stroke-width=\\\"0.3\\\" fill=\\\"#000000\\\" fill-opacity=\\\"0.000\\\" class=\\\"geometry\\\" id=\\\"img-20c89cd9-20\\\">\\n          <g class=\\\"color_LCHab{Float32}(70.0f0,60.0f0,240.0f0)\\\" stroke-dasharray=\\\"none\\\" stroke-opacity=\\\"1\\\" stroke=\\\"#00BFFF\\\" id=\\\"img-20c89cd9-21\\\">\\n            <g transform=\\\"translate(77.68,66.75)\\\" id=\\\"img-20c89cd9-22\\\">\\n              <path fill=\\\"none\\\" d=\\\"M-56.74,15.37 L-55.61,14.89 -54.47,14.35 -53.34,13.75 -52.2,13.11 -51.07,12.42 -49.93,11.7 -48.8,10.95 -47.66,10.19 -46.53,9.43 -45.39,8.67 -44.26,7.91 -43.12,7.18 -41.99,6.46 -40.85,5.78 -39.72,5.12 -38.58,4.49 -37.45,3.9 -36.32,3.34 -35.18,2.81 -34.05,2.32 -32.91,1.87 -31.78,1.45 -30.64,1.06 -29.51,0.7 -28.37,0.37 -27.24,0.06 -26.1,-0.22 -24.97,-0.47 -23.83,-0.7 -22.7,-0.91 -21.56,-1.11 -20.43,-1.28 -19.29,-1.44 -18.16,-1.59 -17.02,-1.72 -15.89,-1.84 -14.75,-1.95 -13.62,-2.04 -12.48,-2.13 -11.35,-2.21 -10.21,-2.28 -9.08,-2.35 -7.94,-2.41 -6.81,-2.46 -5.67,-2.51 -4.54,-2.55 -3.4,-2.59 -2.27,-2.63 -1.13,-2.66 0,-2.69 1.13,-2.71 2.27,-2.73 3.4,-2.76 4.54,-2.77 5.67,-2.79 6.81,-2.81 7.94,-2.82 9.08,-2.83 10.21,-2.84 11.35,-2.85 12.48,-2.86 13.62,-2.87 14.75,-2.88 15.89,-2.89 17.02,-2.89 18.16,-2.9 19.29,-2.9 20.43,-2.91 21.56,-2.91 22.7,-2.91 23.83,-2.92 24.97,-2.92 26.1,-2.92 27.24,-2.92 28.37,-2.93 29.51,-2.93 30.64,-2.93 31.78,-2.93 32.91,-2.93 34.05,-2.93 35.18,-2.93 36.32,-2.94 37.45,-2.94 38.58,-2.94 39.72,-2.94 40.85,-2.94 41.99,-2.94 43.12,-2.94 44.26,-2.94 45.39,-2.94 46.53,-2.94 47.66,-2.94 48.8,-2.94 49.93,-2.94 51.07,-2.94 52.2,-2.94 53.34,-2.94 54.47,-2.94 55.61,-2.94 56.74,-2.94 \\\" class=\\\"primitive\\\"\\/>\\n            <\\/g>\\n          <\\/g>\\n        <\\/g>\\n      <\\/g>\\n    <\\/g>\\n  <\\/g>\\n  <g class=\\\"guide ylabels\\\" font-size=\\\"2.82\\\" font-family=\\\"'PT Sans Caption','Helvetica Neue','Helvetica',sans-serif\\\" fill=\\\"#6C606B\\\" id=\\\"img-20c89cd9-23\\\">\\n    <g transform=\\\"translate(17.94,84.04)\\\" id=\\\"img-20c89cd9-24\\\">\\n      <g class=\\\"primitive\\\">\\n        <text text-anchor=\\\"end\\\" dy=\\\"0.35em\\\">0<\\/text>\\n      <\\/g>\\n    <\\/g>\\n    <g transform=\\\"translate(17.94,64.78)\\\" id=\\\"img-20c89cd9-25\\\">\\n      <g class=\\\"primitive\\\">\\n        <text text-anchor=\\\"end\\\" dy=\\\"0.35em\\\">50<\\/text>\\n      <\\/g>\\n    <\\/g>\\n    <g transform=\\\"translate(17.94,45.52)\\\" id=\\\"img-20c89cd9-26\\\">\\n      <g class=\\\"primitive\\\">\\n        <text text-anchor=\\\"end\\\" dy=\\\"0.35em\\\">100<\\/text>\\n      <\\/g>\\n    <\\/g>\\n    <g transform=\\\"translate(17.94,26.26)\\\" id=\\\"img-20c89cd9-27\\\">\\n      <g class=\\\"primitive\\\">\\n        <text text-anchor=\\\"end\\\" dy=\\\"0.35em\\\">150<\\/text>\\n      <\\/g>\\n    <\\/g>\\n    <g transform=\\\"translate(17.94,7)\\\" id=\\\"img-20c89cd9-28\\\">\\n      <g class=\\\"primitive\\\">\\n        <text text-anchor=\\\"end\\\" dy=\\\"0.35em\\\">200<\\/text>\\n      <\\/g>\\n    <\\/g>\\n  <\\/g>\\n  <g font-size=\\\"3.53\\\" font-family=\\\"'PT Sans','Helvetica Neue','Helvetica',sans-serif\\\" fill=\\\"#564A55\\\" stroke=\\\"#000000\\\" stroke-opacity=\\\"0.000\\\" id=\\\"img-20c89cd9-29\\\">\\n    <g transform=\\\"translate(9.92,45.52)\\\" id=\\\"img-20c89cd9-30\\\">\\n      <g class=\\\"primitive\\\">\\n        <text text-anchor=\\\"end\\\" dy=\\\"0.35em\\\">W<\\/text>\\n      <\\/g>\\n    <\\/g>\\n  <\\/g>\\n<\\/g>\\n<defs>\\n  <clipPath id=\\\"img-20c89cd9-5\\\">\\n    <path d=\\\"M18.94,5 L136.42,5 136.42,86.04 18.94,86.04 \\\" \\/>\\n  <\\/clipPath>\\n<\\/defs>\\n<\\/svg>\\n\"},\"nodeType\":\"DOM\",\"type\":\"node\",\"instanceArgs\":{\"namespace\":\"html\",\"tag\":\"div\"},\"children\":[]}]}]},\n",
       "        window,\n",
       "    );\n",
       "    })()\n",
       "    </script>\n",
       "</div>\n"
      ],
      "text/plain": [
       "WebIO.Node{WebIO.DOM}(WebIO.DOM(:html, :div), Any[WebIO.Node{WebIO.DOM}(WebIO.DOM(:html, :div), Any[\"Gomp\"], Dict{Symbol, Any}(:style => Dict{String, Any}(\"color\" => :rebeccapurple, \"font-family\" => \"monospace\"))), WebIO.Node{WebIO.DOM}(WebIO.DOM(:html, :div), Any[WebIO.Scope(WebIO.Node{WebIO.DOM}(WebIO.DOM(:html, :div), Any[WebIO.Node{WebIO.DOM}(WebIO.DOM(:html, :div), Any[WebIO.Node{WebIO.DOM}(WebIO.DOM(:html, :label), Any[\"μ0\"], Dict{Symbol, Any}(:className => \"interact \", :style => Dict{Any, Any}(:padding => \"5px 10px 0px 10px\", \"white-space\" => :nowrap, \"color\" => :royalblue)))], Dict{Symbol, Any}(:className => \"interact-flex-row-left\")), WebIO.Node{WebIO.DOM}(WebIO.DOM(:html, :div), Any[WebIO.Node{WebIO.DOM}(WebIO.DOM(:html, :input), Any[], Dict{Symbol, Any}(:max => 51, :min => 1, :attributes => Dict{Any, Any}(:type => \"range\", Symbol(\"data-bind\") => \"numericValue: index, valueUpdate: 'input', event: {change: function (){this.changes(this.changes()+1)}}\", \"orient\" => \"horizontal\"), :step => 1, :className => \"slider slider is-fullwidth\", :style => Dict{Any, Any}()))], Dict{Symbol, Any}(:className => \"interact-flex-row-center\")), WebIO.Node{WebIO.DOM}(WebIO.DOM(:html, :div), Any[WebIO.Node{WebIO.DOM}(WebIO.DOM(:html, :p), Any[], Dict{Symbol, Any}(:attributes => Dict(\"data-bind\" => \"text: formatted_val\")))], Dict{Symbol, Any}(:className => \"interact-flex-row-right\"))], Dict{Symbol, Any}(:className => \"interact-flex-row interact-widget\", :style => Dict(\"font-family\" => \"monospace\", \"width\" => \"80%\"))), Dict{String, Tuple{Observables.AbstractObservable, Union{Nothing, Bool}}}(\"changes\" => (Observable(0), nothing), \"index\" => (Observable{Any}(26), nothing)), Set{String}(), nothing, WebIO.Asset[WebIO.Asset(\"js\", \"knockout\", \"/opt/julia/packages/Knockout/HReiN/src/../assets/knockout.js\"), WebIO.Asset(\"js\", \"knockout_punches\", \"/opt/julia/packages/Knockout/HReiN/src/../assets/knockout_punches.js\"), WebIO.Asset(\"js\", nothing, \"/opt/julia/packages/InteractBase/LJXv3/src/../assets/all.js\"), WebIO.Asset(\"css\", nothing, \"/opt/julia/packages/InteractBase/LJXv3/src/../assets/style.css\"), WebIO.Asset(\"css\", nothing, \"/opt/julia/packages/Interact/PENUy/src/../assets/bulma_confined.min.css\")], Dict{Any, Any}(\"changes\" => Any[WebIO.JSString(\"(function (val){return (val!=this.model[\\\"changes\\\"]()) ? (this.valueFromJulia[\\\"changes\\\"]=true, this.model[\\\"changes\\\"](val)) : undefined})\")], \"index\" => Any[WebIO.JSString(\"(function (val){return (val!=this.model[\\\"index\\\"]()) ? (this.valueFromJulia[\\\"index\\\"]=true, this.model[\\\"index\\\"](val)) : undefined})\")]), WebIO.ConnectionPool(Channel{Any}(32), Set{WebIO.AbstractConnection}(), Base.GenericCondition{ReentrantLock}(Base.IntrusiveLinkedList{Task}(Task (runnable) @0x0000ffff5c6f5b30, Task (runnable) @0x0000ffff5c6f5b30), ReentrantLock(nothing, 0x00000000, 0x00, Base.GenericCondition{Base.Threads.SpinLock}(Base.IntrusiveLinkedList{Task}(nothing, nothing), Base.Threads.SpinLock(0)), (2, 281472228714000, 281472237734064)))), WebIO.JSString[WebIO.JSString(\"function () {\\n    var handler = (function (ko, koPunches) {\\n    ko.punches.enableAll();\\n    ko.bindingHandlers.numericValue = {\\n        init: function(element, valueAccessor, allBindings, data, context) {\\n            var stringified = ko.observable(ko.unwrap(valueAccessor()));\\n            stringified.subscribe(function(value) {\\n                var val = parseFloat(value);\\n                if (!isNaN(val)) {\\n                    valueAccessor()(val);\\n                }\\n            });\\n            valueAccessor().subscribe(function(value) {\\n                var str = JSON.stringify(value);\\n                if ((str == \\\"0\\\") && ([\\\"-0\\\", \\\"-0.\\\"].indexOf(stringified()) >= 0))\\n                     return;\\n                 if ([\\\"null\\\", \\\"\\\"].indexOf(str) >= 0)\\n                     return;\\n                stringified(str);\\n            });\\n            ko.applyBindingsToNode(\\n                element,\\n                {\\n                    value: stringified,\\n                    valueUpdate: allBindings.get('valueUpdate'),\\n                },\\n                context,\\n            );\\n        }\\n    };\\n    var json_data = {\\\"formatted_vals\\\":[\\\"0.0\\\",\\\"0.01\\\",\\\"0.02\\\",\\\"0.03\\\",\\\"0.04\\\",\\\"0.05\\\",\\\"0.06\\\",\\\"0.07\\\",\\\"0.08\\\",\\\"0.09\\\",\\\"0.1\\\",\\\"0.11\\\",\\\"0.12\\\",\\\"0.13\\\",\\\"0.14\\\",\\\"0.15\\\",\\\"0.16\\\",\\\"0.17\\\",\\\"0.18\\\",\\\"0.19\\\",\\\"0.2\\\",\\\"0.21\\\",\\\"0.22\\\",\\\"0.23\\\",\\\"0.24\\\",\\\"0.25\\\",\\\"0.26\\\",\\\"0.27\\\",\\\"0.28\\\",\\\"0.29\\\",\\\"0.3\\\",\\\"0.31\\\",\\\"0.32\\\",\\\"0.33\\\",\\\"0.34\\\",\\\"0.35\\\",\\\"0.36\\\",\\\"0.37\\\",\\\"0.38\\\",\\\"0.39\\\",\\\"0.4\\\",\\\"0.41\\\",\\\"0.42\\\",\\\"0.43\\\",\\\"0.44\\\",\\\"0.45\\\",\\\"0.46\\\",\\\"0.47\\\",\\\"0.48\\\",\\\"0.49\\\",\\\"0.5\\\"],\\\"changes\\\":WebIO.getval({\\\"name\\\":\\\"changes\\\",\\\"scope\\\":\\\"3625359290336637690\\\",\\\"id\\\":\\\"5862894902307827095\\\",\\\"type\\\":\\\"observable\\\"}),\\\"index\\\":WebIO.getval({\\\"name\\\":\\\"index\\\",\\\"scope\\\":\\\"3625359290336637690\\\",\\\"id\\\":\\\"14409393654357043784\\\",\\\"type\\\":\\\"observable\\\"})};\\n    var self = this;\\n    function AppViewModel() {\\n        for (var key in json_data) {\\n            var el = json_data[key];\\n            this[key] = Array.isArray(el) ? ko.observableArray(el) : ko.observable(el);\\n        }\\n        \\n        [this[\\\"formatted_val\\\"]=ko.computed(    function(){\\n        return this.formatted_vals()[parseInt(this.index())-(1)];\\n    }\\n,this)]\\n        [this[\\\"changes\\\"].subscribe((function (val){!(this.valueFromJulia[\\\"changes\\\"]) ? (WebIO.setval({\\\"name\\\":\\\"changes\\\",\\\"scope\\\":\\\"3625359290336637690\\\",\\\"id\\\":\\\"5862894902307827095\\\",\\\"type\\\":\\\"observable\\\"},val)) : undefined; return this.valueFromJulia[\\\"changes\\\"]=false}),self),this[\\\"index\\\"].subscribe((function (val){!(this.valueFromJulia[\\\"index\\\"]) ? (WebIO.setval({\\\"name\\\":\\\"index\\\",\\\"scope\\\":\\\"3625359290336637690\\\",\\\"id\\\":\\\"14409393654357043784\\\",\\\"type\\\":\\\"observable\\\"},val)) : undefined; return this.valueFromJulia[\\\"index\\\"]=false}),self)]\\n        \\n    }\\n    self.model = new AppViewModel();\\n    self.valueFromJulia = {};\\n    for (var key in json_data) {\\n        self.valueFromJulia[key] = false;\\n    }\\n    ko.applyBindings(self.model, self.dom);\\n}\\n);\\n    (WebIO.importBlock({\\\"data\\\":[{\\\"name\\\":\\\"knockout\\\",\\\"type\\\":\\\"js\\\",\\\"url\\\":\\\"/assetserver/d749de49a15576291e39755d819be2408bf7f995-knockout.js\\\"},{\\\"name\\\":\\\"knockout_punches\\\",\\\"type\\\":\\\"js\\\",\\\"url\\\":\\\"/assetserver/9f5c86158cf79faf331cfb32636cb08a9b1f0dc2-knockout_punches.js\\\"}],\\\"type\\\":\\\"async_block\\\"})).then((imports) => handler.apply(this, imports));\\n}\\n\")])], Dict{Symbol, Any}(:className => \"field interact-widget\")), WebIO.Node{WebIO.DOM}(WebIO.DOM(:html, :div), Any[WebIO.Scope(WebIO.Node{WebIO.DOM}(WebIO.DOM(:html, :div), Any[WebIO.Node{WebIO.DOM}(WebIO.DOM(:html, :div), Any[WebIO.Node{WebIO.DOM}(WebIO.DOM(:html, :label), Any[\"D\"], Dict{Symbol, Any}(:className => \"interact \", :style => Dict{Any, Any}(:padding => \"5px 10px 0px 10px\", \"white-space\" => :nowrap, \"color\" => :royalblue)))], Dict{Symbol, Any}(:className => \"interact-flex-row-left\")), WebIO.Node{WebIO.DOM}(WebIO.DOM(:html, :div), Any[WebIO.Node{WebIO.DOM}(WebIO.DOM(:html, :input), Any[], Dict{Symbol, Any}(:max => 21, :min => 1, :attributes => Dict{Any, Any}(:type => \"range\", Symbol(\"data-bind\") => \"numericValue: index, valueUpdate: 'input', event: {change: function (){this.changes(this.changes()+1)}}\", \"orient\" => \"horizontal\"), :step => 1, :className => \"slider slider is-fullwidth\", :style => Dict{Any, Any}()))], Dict{Symbol, Any}(:className => \"interact-flex-row-center\")), WebIO.Node{WebIO.DOM}(WebIO.DOM(:html, :div), Any[WebIO.Node{WebIO.DOM}(WebIO.DOM(:html, :p), Any[], Dict{Symbol, Any}(:attributes => Dict(\"data-bind\" => \"text: formatted_val\")))], Dict{Symbol, Any}(:className => \"interact-flex-row-right\"))], Dict{Symbol, Any}(:className => \"interact-flex-row interact-widget\", :style => Dict(\"font-family\" => \"monospace\", \"width\" => \"80%\"))), Dict{String, Tuple{Observables.AbstractObservable, Union{Nothing, Bool}}}(\"changes\" => (Observable(0), nothing), \"index\" => (Observable{Any}(11), nothing)), Set{String}(), nothing, WebIO.Asset[WebIO.Asset(\"js\", \"knockout\", \"/opt/julia/packages/Knockout/HReiN/src/../assets/knockout.js\"), WebIO.Asset(\"js\", \"knockout_punches\", \"/opt/julia/packages/Knockout/HReiN/src/../assets/knockout_punches.js\"), WebIO.Asset(\"js\", nothing, \"/opt/julia/packages/InteractBase/LJXv3/src/../assets/all.js\"), WebIO.Asset(\"css\", nothing, \"/opt/julia/packages/InteractBase/LJXv3/src/../assets/style.css\"), WebIO.Asset(\"css\", nothing, \"/opt/julia/packages/Interact/PENUy/src/../assets/bulma_confined.min.css\")], Dict{Any, Any}(\"changes\" => Any[WebIO.JSString(\"(function (val){return (val!=this.model[\\\"changes\\\"]()) ? (this.valueFromJulia[\\\"changes\\\"]=true, this.model[\\\"changes\\\"](val)) : undefined})\")], \"index\" => Any[WebIO.JSString(\"(function (val){return (val!=this.model[\\\"index\\\"]()) ? (this.valueFromJulia[\\\"index\\\"]=true, this.model[\\\"index\\\"](val)) : undefined})\")]), WebIO.ConnectionPool(Channel{Any}(32), Set{WebIO.AbstractConnection}(), Base.GenericCondition{ReentrantLock}(Base.IntrusiveLinkedList{Task}(Task (runnable) @0x0000ffff5c6f5d20, Task (runnable) @0x0000ffff5c6f5d20), ReentrantLock(nothing, 0x00000000, 0x00, Base.GenericCondition{Base.Threads.SpinLock}(Base.IntrusiveLinkedList{Task}(nothing, nothing), Base.Threads.SpinLock(0)), (8, 281472226116432, 4)))), WebIO.JSString[WebIO.JSString(\"function () {\\n    var handler = (function (ko, koPunches) {\\n    ko.punches.enableAll();\\n    ko.bindingHandlers.numericValue = {\\n        init: function(element, valueAccessor, allBindings, data, context) {\\n            var stringified = ko.observable(ko.unwrap(valueAccessor()));\\n            stringified.subscribe(function(value) {\\n                var val = parseFloat(value);\\n                if (!isNaN(val)) {\\n                    valueAccessor()(val);\\n                }\\n            });\\n            valueAccessor().subscribe(function(value) {\\n                var str = JSON.stringify(value);\\n                if ((str == \\\"0\\\") && ([\\\"-0\\\", \\\"-0.\\\"].indexOf(stringified()) >= 0))\\n                     return;\\n                 if ([\\\"null\\\", \\\"\\\"].indexOf(str) >= 0)\\n                     return;\\n                stringified(str);\\n            });\\n            ko.applyBindingsToNode(\\n                element,\\n                {\\n                    value: stringified,\\n                    valueUpdate: allBindings.get('valueUpdate'),\\n                },\\n                context,\\n            );\\n        }\\n    };\\n    var json_data = {\\\"formatted_vals\\\":[\\\"0.0\\\",\\\"0.01\\\",\\\"0.02\\\",\\\"0.03\\\",\\\"0.04\\\",\\\"0.05\\\",\\\"0.06\\\",\\\"0.07\\\",\\\"0.08\\\",\\\"0.09\\\",\\\"0.1\\\",\\\"0.11\\\",\\\"0.12\\\",\\\"0.13\\\",\\\"0.14\\\",\\\"0.15\\\",\\\"0.16\\\",\\\"0.17\\\",\\\"0.18\\\",\\\"0.19\\\",\\\"0.2\\\"],\\\"changes\\\":WebIO.getval({\\\"name\\\":\\\"changes\\\",\\\"scope\\\":\\\"2740424874649263323\\\",\\\"id\\\":\\\"10391632895912620594\\\",\\\"type\\\":\\\"observable\\\"}),\\\"index\\\":WebIO.getval({\\\"name\\\":\\\"index\\\",\\\"scope\\\":\\\"2740424874649263323\\\",\\\"id\\\":\\\"2667056621875383176\\\",\\\"type\\\":\\\"observable\\\"})};\\n    var self = this;\\n    function AppViewModel() {\\n        for (var key in json_data) {\\n            var el = json_data[key];\\n            this[key] = Array.isArray(el) ? ko.observableArray(el) : ko.observable(el);\\n        }\\n        \\n        [this[\\\"formatted_val\\\"]=ko.computed(    function(){\\n        return this.formatted_vals()[parseInt(this.index())-(1)];\\n    }\\n,this)]\\n        [this[\\\"changes\\\"].subscribe((function (val){!(this.valueFromJulia[\\\"changes\\\"]) ? (WebIO.setval({\\\"name\\\":\\\"changes\\\",\\\"scope\\\":\\\"2740424874649263323\\\",\\\"id\\\":\\\"10391632895912620594\\\",\\\"type\\\":\\\"observable\\\"},val)) : undefined; return this.valueFromJulia[\\\"changes\\\"]=false}),self),this[\\\"index\\\"].subscribe((function (val){!(this.valueFromJulia[\\\"index\\\"]) ? (WebIO.setval({\\\"name\\\":\\\"index\\\",\\\"scope\\\":\\\"2740424874649263323\\\",\\\"id\\\":\\\"2667056621875383176\\\",\\\"type\\\":\\\"observable\\\"},val)) : undefined; return this.valueFromJulia[\\\"index\\\"]=false}),self)]\\n        \\n    }\\n    self.model = new AppViewModel();\\n    self.valueFromJulia = {};\\n    for (var key in json_data) {\\n        self.valueFromJulia[key] = false;\\n    }\\n    ko.applyBindings(self.model, self.dom);\\n}\\n);\\n    (WebIO.importBlock({\\\"data\\\":[{\\\"name\\\":\\\"knockout\\\",\\\"type\\\":\\\"js\\\",\\\"url\\\":\\\"/assetserver/d749de49a15576291e39755d819be2408bf7f995-knockout.js\\\"},{\\\"name\\\":\\\"knockout_punches\\\",\\\"type\\\":\\\"js\\\",\\\"url\\\":\\\"/assetserver/9f5c86158cf79faf331cfb32636cb08a9b1f0dc2-knockout_punches.js\\\"}],\\\"type\\\":\\\"async_block\\\"})).then((imports) => handler.apply(this, imports));\\n}\\n\")])], Dict{Symbol, Any}(:className => \"field interact-widget\")), WebIO.Node{WebIO.DOM}(WebIO.DOM(:html, :div), Any[WebIO.Scope(WebIO.Node{WebIO.DOM}(WebIO.DOM(:html, :div), Any[WebIO.Node{WebIO.DOM}(WebIO.DOM(:html, :div), Any[WebIO.Node{WebIO.DOM}(WebIO.DOM(:html, :label), Any[\"W0\"], Dict{Symbol, Any}(:className => \"interact \", :style => Dict{Any, Any}(:padding => \"5px 10px 0px 10px\", \"white-space\" => :nowrap, \"color\" => :royalblue)))], Dict{Symbol, Any}(:className => \"interact-flex-row-left\")), WebIO.Node{WebIO.DOM}(WebIO.DOM(:html, :div), Any[WebIO.Node{WebIO.DOM}(WebIO.DOM(:html, :input), Any[], Dict{Symbol, Any}(:max => 101, :min => 1, :attributes => Dict{Any, Any}(:type => \"range\", Symbol(\"data-bind\") => \"numericValue: index, valueUpdate: 'input', event: {change: function (){this.changes(this.changes()+1)}}\", \"orient\" => \"horizontal\"), :step => 1, :className => \"slider slider is-fullwidth\", :style => Dict{Any, Any}()))], Dict{Symbol, Any}(:className => \"interact-flex-row-center\")), WebIO.Node{WebIO.DOM}(WebIO.DOM(:html, :div), Any[WebIO.Node{WebIO.DOM}(WebIO.DOM(:html, :p), Any[], Dict{Symbol, Any}(:attributes => Dict(\"data-bind\" => \"text: formatted_val\")))], Dict{Symbol, Any}(:className => \"interact-flex-row-right\"))], Dict{Symbol, Any}(:className => \"interact-flex-row interact-widget\", :style => Dict(\"font-family\" => \"monospace\", \"width\" => \"80%\"))), Dict{String, Tuple{Observables.AbstractObservable, Union{Nothing, Bool}}}(\"changes\" => (Observable(0), nothing), \"index\" => (Observable{Any}(51), nothing)), Set{String}(), nothing, WebIO.Asset[WebIO.Asset(\"js\", \"knockout\", \"/opt/julia/packages/Knockout/HReiN/src/../assets/knockout.js\"), WebIO.Asset(\"js\", \"knockout_punches\", \"/opt/julia/packages/Knockout/HReiN/src/../assets/knockout_punches.js\"), WebIO.Asset(\"js\", nothing, \"/opt/julia/packages/InteractBase/LJXv3/src/../assets/all.js\"), WebIO.Asset(\"css\", nothing, \"/opt/julia/packages/InteractBase/LJXv3/src/../assets/style.css\"), WebIO.Asset(\"css\", nothing, \"/opt/julia/packages/Interact/PENUy/src/../assets/bulma_confined.min.css\")], Dict{Any, Any}(\"changes\" => Any[WebIO.JSString(\"(function (val){return (val!=this.model[\\\"changes\\\"]()) ? (this.valueFromJulia[\\\"changes\\\"]=true, this.model[\\\"changes\\\"](val)) : undefined})\")], \"index\" => Any[WebIO.JSString(\"(function (val){return (val!=this.model[\\\"index\\\"]()) ? (this.valueFromJulia[\\\"index\\\"]=true, this.model[\\\"index\\\"](val)) : undefined})\")]), WebIO.ConnectionPool(Channel{Any}(32), Set{WebIO.AbstractConnection}(), Base.GenericCondition{ReentrantLock}(Base.IntrusiveLinkedList{Task}(Task (runnable) @0x0000ffff5c6f5f10, Task (runnable) @0x0000ffff5c6f5f10), ReentrantLock(nothing, 0x00000000, 0x00, Base.GenericCondition{Base.Threads.SpinLock}(Base.IntrusiveLinkedList{Task}(nothing, nothing), Base.Threads.SpinLock(0)), (2, 281472238221504, 281473038707584)))), WebIO.JSString[WebIO.JSString(\"function () {\\n    var handler = (function (ko, koPunches) {\\n    ko.punches.enableAll();\\n    ko.bindingHandlers.numericValue = {\\n        init: function(element, valueAccessor, allBindings, data, context) {\\n            var stringified = ko.observable(ko.unwrap(valueAccessor()));\\n            stringified.subscribe(function(value) {\\n                var val = parseFloat(value);\\n                if (!isNaN(val)) {\\n                    valueAccessor()(val);\\n                }\\n            });\\n            valueAccessor().subscribe(function(value) {\\n                var str = JSON.stringify(value);\\n                if ((str == \\\"0\\\") && ([\\\"-0\\\", \\\"-0.\\\"].indexOf(stringified()) >= 0))\\n                     return;\\n                 if ([\\\"null\\\", \\\"\\\"].indexOf(str) >= 0)\\n                     return;\\n                stringified(str);\\n            });\\n            ko.applyBindingsToNode(\\n                element,\\n                {\\n                    value: stringified,\\n                    valueUpdate: allBindings.get('valueUpdate'),\\n                },\\n                context,\\n            );\\n        }\\n    };\\n    var json_data = {\\\"formatted_vals\\\":[\\\"0.0\\\",\\\"0.1\\\",\\\"0.2\\\",\\\"0.3\\\",\\\"0.4\\\",\\\"0.5\\\",\\\"0.6\\\",\\\"0.7\\\",\\\"0.8\\\",\\\"0.9\\\",\\\"1.0\\\",\\\"1.1\\\",\\\"1.2\\\",\\\"1.3\\\",\\\"1.4\\\",\\\"1.5\\\",\\\"1.6\\\",\\\"1.7\\\",\\\"1.8\\\",\\\"1.9\\\",\\\"2.0\\\",\\\"2.1\\\",\\\"2.2\\\",\\\"2.3\\\",\\\"2.4\\\",\\\"2.5\\\",\\\"2.6\\\",\\\"2.7\\\",\\\"2.8\\\",\\\"2.9\\\",\\\"3.0\\\",\\\"3.1\\\",\\\"3.2\\\",\\\"3.3\\\",\\\"3.4\\\",\\\"3.5\\\",\\\"3.6\\\",\\\"3.7\\\",\\\"3.8\\\",\\\"3.9\\\",\\\"4.0\\\",\\\"4.1\\\",\\\"4.2\\\",\\\"4.3\\\",\\\"4.4\\\",\\\"4.5\\\",\\\"4.6\\\",\\\"4.7\\\",\\\"4.8\\\",\\\"4.9\\\",\\\"5.0\\\",\\\"5.1\\\",\\\"5.2\\\",\\\"5.3\\\",\\\"5.4\\\",\\\"5.5\\\",\\\"5.6\\\",\\\"5.7\\\",\\\"5.8\\\",\\\"5.9\\\",\\\"6.0\\\",\\\"6.1\\\",\\\"6.2\\\",\\\"6.3\\\",\\\"6.4\\\",\\\"6.5\\\",\\\"6.6\\\",\\\"6.7\\\",\\\"6.8\\\",\\\"6.9\\\",\\\"7.0\\\",\\\"7.1\\\",\\\"7.2\\\",\\\"7.3\\\",\\\"7.4\\\",\\\"7.5\\\",\\\"7.6\\\",\\\"7.7\\\",\\\"7.8\\\",\\\"7.9\\\",\\\"8.0\\\",\\\"8.1\\\",\\\"8.2\\\",\\\"8.3\\\",\\\"8.4\\\",\\\"8.5\\\",\\\"8.6\\\",\\\"8.7\\\",\\\"8.8\\\",\\\"8.9\\\",\\\"9.0\\\",\\\"9.1\\\",\\\"9.2\\\",\\\"9.3\\\",\\\"9.4\\\",\\\"9.5\\\",\\\"9.6\\\",\\\"9.7\\\",\\\"9.8\\\",\\\"9.9\\\",\\\"10.0\\\"],\\\"changes\\\":WebIO.getval({\\\"name\\\":\\\"changes\\\",\\\"scope\\\":\\\"8174863025626627151\\\",\\\"id\\\":\\\"4623685479074123224\\\",\\\"type\\\":\\\"observable\\\"}),\\\"index\\\":WebIO.getval({\\\"name\\\":\\\"index\\\",\\\"scope\\\":\\\"8174863025626627151\\\",\\\"id\\\":\\\"3089685589449289157\\\",\\\"type\\\":\\\"observable\\\"})};\\n    var self = this;\\n    function AppViewModel() {\\n        for (var key in json_data) {\\n            var el = json_data[key];\\n            this[key] = Array.isArray(el) ? ko.observableArray(el) : ko.observable(el);\\n        }\\n        \\n        [this[\\\"formatted_val\\\"]=ko.computed(    function(){\\n        return this.formatted_vals()[parseInt(this.index())-(1)];\\n    }\\n,this)]\\n        [this[\\\"changes\\\"].subscribe((function (val){!(this.valueFromJulia[\\\"changes\\\"]) ? (WebIO.setval({\\\"name\\\":\\\"changes\\\",\\\"scope\\\":\\\"8174863025626627151\\\",\\\"id\\\":\\\"4623685479074123224\\\",\\\"type\\\":\\\"observable\\\"},val)) : undefined; return this.valueFromJulia[\\\"changes\\\"]=false}),self),this[\\\"index\\\"].subscribe((function (val){!(this.valueFromJulia[\\\"index\\\"]) ? (WebIO.setval({\\\"name\\\":\\\"index\\\",\\\"scope\\\":\\\"8174863025626627151\\\",\\\"id\\\":\\\"3089685589449289157\\\",\\\"type\\\":\\\"observable\\\"},val)) : undefined; return this.valueFromJulia[\\\"index\\\"]=false}),self)]\\n        \\n    }\\n    self.model = new AppViewModel();\\n    self.valueFromJulia = {};\\n    for (var key in json_data) {\\n        self.valueFromJulia[key] = false;\\n    }\\n    ko.applyBindings(self.model, self.dom);\\n}\\n);\\n    (WebIO.importBlock({\\\"data\\\":[{\\\"name\\\":\\\"knockout\\\",\\\"type\\\":\\\"js\\\",\\\"url\\\":\\\"/assetserver/d749de49a15576291e39755d819be2408bf7f995-knockout.js\\\"},{\\\"name\\\":\\\"knockout_punches\\\",\\\"type\\\":\\\"js\\\",\\\"url\\\":\\\"/assetserver/9f5c86158cf79faf331cfb32636cb08a9b1f0dc2-knockout_punches.js\\\"}],\\\"type\\\":\\\"async_block\\\"})).then((imports) => handler.apply(this, imports));\\n}\\n\")])], Dict{Symbol, Any}(:className => \"field interact-widget\")), Observable(Gadfly.Plot(Gadfly.Layer[Gadfly.Layer(nothing, Dict{Symbol, Any}(:y => [5.0, 6.25, 7.65625, 9.206640625, 10.88455087890625, 12.669889336818848, 14.540250075443389, 16.472071335529318, 18.44170649961995, 20.426343985752517  …  52.5400711684242, 52.540971700163944, 52.541782192621234, 52.54251164708513, 52.54316816521715, 52.54375903891885, 52.544290831230576, 52.54476944915514, 52.54520020921094, 52.54558789643938], :x => [0.0, 1.0, 2.0, 3.0, 4.0, 5.0, 6.0, 7.0, 8.0, 9.0  …  91.0, 92.0, 93.0, 94.0, 95.0, 96.0, 97.0, 98.0, 99.0, 100.0]), Gadfly.StatisticElement[], Gadfly.Geom.LineGeometry(Gadfly.Stat.Identity(), false, 2, Symbol(\"\")), Gadfly.Theme(LCHab{Float32}(70.0f0,60.0f0,240.0f0), 0.7mm, 0.45mm, 1.8mm, Gadfly.Scale.default_discrete_sizes, Gadfly.Scale.default_continuous_sizes, Gadfly.Scale.default_discrete_colors, Function[Compose.circle, Gadfly.Shape.square, Gadfly.Shape.diamond, Gadfly.Shape.cross, Gadfly.Shape.xcross, Gadfly.Shape.utriangle, Gadfly.Shape.dtriangle, Gadfly.Shape.star1, Gadfly.Shape.star2, Gadfly.Shape.hexagon, Gadfly.Shape.octagon, Gadfly.Shape.hline, Gadfly.Shape.vline, Gadfly.Shape.ltriangle, Gadfly.Shape.rtriangle], 0.3mm, [:solid, :dash, :dot, :dashdot, :dashdotdot, :ldash, :ldashdash, :ldashdot, :ldashdashdot], [1.0, 0.9, 0.8, 0.7, 0.6, 0.5, 0.4, 0.3, 0.2, 0.1, 0.0], nothing, nothing, 0.3mm, 0.0, RGB{N0f8}(1.0,1.0,1.0), Measures.AbsoluteLength[5.0mm, 5.0mm, 5.0mm, 0.0mm], RGB{N0f8}(0.816,0.816,0.878), Measures.AbsoluteLength[0.5mm, 0.5mm], RGB{N0f8}(0.627,0.627,0.627), 0.2mm, 0, \"'PT Sans Caption','Helvetica Neue','Helvetica',sans-serif\", 2.822222222222222mm, RGB{N0f8}(0.424,0.376,0.42), \"'PT Sans','Helvetica Neue','Helvetica',sans-serif\", 3.5277777777777777mm, RGB{N0f8}(0.337,0.29,0.333), \"'PT Sans Caption','Helvetica Neue','Helvetica',sans-serif\", 2.822222222222222mm, RGB{N0f8}(0.298,0.251,0.294), \"'PT Sans','Helvetica Neue','Helvetica',sans-serif\", 3.175mm, RGB{N0f8}(0.212,0.165,0.208), \"'PT Sans','Helvetica Neue','Helvetica',sans-serif\", 2.822222222222222mm, RGB{N0f8}(0.298,0.251,0.294), 40, -0.05mm, 1.0mm, 3.0mm, Gadfly.default_stroke_color, 0.3mm, Cropbox.var\"#603#612\"(), Gadfly.default_continuous_highlight_color, Gadfly.default_lowlight_color, Gadfly.default_middle_color, 0.6mm, :left, :square, nothing, nothing, nothing, :right, nothing, 2.0mm, 1000, 10.0, 0.5, 0.2, 1.0mm, 4, Gadfly.Scale.DiscreteColorScale(Gadfly.Scale.default_discrete_colors, nothing, nothing, true), Gadfly.Scale.ContinuousColorScale(Gadfly.Scale.var\"#73#77\"{Int64, Int64, Int64, Int64, Float64, Int64}(100, 40, 260, 10, 1.5, 70), Gadfly.Scale.ContinuousScaleTransform(identity, identity, Gadfly.Scale.identity_formatter), nothing, nothing)), 1)], nothing, Data(\n",
       "  titles=Dict{Symbol, AbstractString}()\n",
       ")\n",
       ", Gadfly.ScaleElement[], Gadfly.StatisticElement[], Gadfly.Coord.Cartesian([:x, :xmin, :xmax, :xintercept], [:y, :ymin, :ymax, :yintercept, :middle, :lower_hinge, :upper_hinge, :lower_fence, :upper_fence, :outliers], 0.0, 100.0, 0, 200, false, false, false, nothing, false), Gadfly.GuideElement[Gadfly.Guide.Title(\"\"), Gadfly.Guide.XLabel(\"t\", :auto), Gadfly.Guide.YLabel(\"W\", :auto)], Gadfly.Theme(LCHab{Float32}(70.0f0,60.0f0,240.0f0), 0.7mm, 0.45mm, 1.8mm, Gadfly.Scale.default_discrete_sizes, Gadfly.Scale.default_continuous_sizes, Gadfly.Scale.default_discrete_colors, Function[Compose.circle, Gadfly.Shape.square, Gadfly.Shape.diamond, Gadfly.Shape.cross, Gadfly.Shape.xcross, Gadfly.Shape.utriangle, Gadfly.Shape.dtriangle, Gadfly.Shape.star1, Gadfly.Shape.star2, Gadfly.Shape.hexagon, Gadfly.Shape.octagon, Gadfly.Shape.hline, Gadfly.Shape.vline, Gadfly.Shape.ltriangle, Gadfly.Shape.rtriangle], 0.3mm, [:solid, :dash, :dot, :dashdot, :dashdotdot, :ldash, :ldashdash, :ldashdot, :ldashdashdot], [1.0, 0.9, 0.8, 0.7, 0.6, 0.5, 0.4, 0.3, 0.2, 0.1, 0.0], nothing, nothing, 0.3mm, 0.0, RGB{N0f8}(1.0,1.0,1.0), Measures.AbsoluteLength[5.0mm, 5.0mm, 5.0mm, 0.0mm], RGB{N0f8}(0.816,0.816,0.878), Measures.AbsoluteLength[0.5mm, 0.5mm], RGB{N0f8}(0.627,0.627,0.627), 0.2mm, 0, \"'PT Sans Caption','Helvetica Neue','Helvetica',sans-serif\", 2.822222222222222mm, RGB{N0f8}(0.424,0.376,0.42), \"'PT Sans','Helvetica Neue','Helvetica',sans-serif\", 3.5277777777777777mm, RGB{N0f8}(0.337,0.29,0.333), \"'PT Sans Caption','Helvetica Neue','Helvetica',sans-serif\", 2.822222222222222mm, RGB{N0f8}(0.298,0.251,0.294), \"'PT Sans','Helvetica Neue','Helvetica',sans-serif\", 3.175mm, RGB{N0f8}(0.212,0.165,0.208), \"'PT Sans','Helvetica Neue','Helvetica',sans-serif\", 2.822222222222222mm, RGB{N0f8}(0.298,0.251,0.294), 40, -0.05mm, 1.0mm, 3.0mm, Gadfly.default_stroke_color, 0.3mm, Cropbox.var\"#603#612\"(), Gadfly.default_continuous_highlight_color, Gadfly.default_lowlight_color, Gadfly.default_middle_color, 0.6mm, :left, :square, nothing, nothing, nothing, :right, nothing, 2.0mm, 1000, 10.0, 0.5, 0.2, 1.0mm, 4, Gadfly.Scale.DiscreteColorScale(Gadfly.Scale.default_discrete_colors, nothing, nothing, true), Gadfly.Scale.ContinuousColorScale(Gadfly.Scale.var\"#73#77\"{Int64, Int64, Int64, Int64, Float64, Int64}(100, 40, 260, 10, 1.5, 70), Gadfly.Scale.ContinuousScaleTransform(identity, identity, Gadfly.Scale.identity_formatter), nothing, nothing)), Dict{Symbol, Any}()))], Dict{Symbol, Any}(:style => Dict(\"display\" => \"flex\", \"flex-direction\" => \"column\")))"
      ]
     },
     "execution_count": 20,
     "metadata": {
      "@webio": {
       "kernelId": "d709139d-588b-4fee-8d6d-f916525c81c4"
      }
     },
     "output_type": "execute_result"
    }
   ],
   "source": [
    "manipulate(Gomp, :t, :W;\n",
    "    parameters = Gomp => (;\n",
    "        :μ0 => 0:0.01:0.5,\n",
    "        :D  => 0:0.01:0.2,\n",
    "        :W0 => 0:0.1:10,\n",
    "    ),\n",
    "    stop = 100,\n",
    "    kind = :line,\n",
    "    ylim = (0, 200),\n",
    ")"
   ]
  },
  {
   "cell_type": "markdown",
   "metadata": {},
   "source": [
    "## 1.5. Chanter Growth Equation\n",
    "\n",
    "- Eq\n",
    "\n",
    "$$\n",
    "\\frac{dW}{dt} = \\mu W \\left( 1 - \\frac{W}{B} \\right) e^{-D t}\n",
    "$$\n",
    "\n",
    "- Table\n",
    "\n",
    "| Symbol | Value | Units | Description |\n",
    "| :- | :- | :- | :- |\n",
    "| $t$ | - | - | Time unit used in the model |\n",
    "| $\\mu$ | 0.3 | - | Specific growth rate |\n",
    "| $B$ | 100 | - | Control parameter |\n",
    "| $D$ | 0.065 | - | Decay in the specific growth rate |\n",
    "| $W_0$ | 1 | - | Dry mass at time $t = 0$ |\n",
    "| $W$ | - | - | Current dry mass |"
   ]
  },
  {
   "cell_type": "code",
   "execution_count": 21,
   "metadata": {
    "tags": []
   },
   "outputs": [
    {
     "data": {
      "text/plain": [
       "Chan"
      ]
     },
     "execution_count": 21,
     "metadata": {},
     "output_type": "execute_result"
    }
   ],
   "source": [
    "@system Chan(Controller) begin\n",
    "    t(context.clock.tick) ~ track\n",
    "    \n",
    "    μ       => 0.3   ~ preserve(parameter)\n",
    "    B       => 100   ~ preserve(parameter)\n",
    "    D       => 0.065 ~ preserve(parameter)\n",
    "    W0      => 1     ~ preserve(parameter)\n",
    "\n",
    "    W(μ, W, B, D, t) => begin\n",
    "        μ*W * (1 - W/B) * ℯ^(-D*t)\n",
    "    end ~ accumulate(init = W0)\n",
    "end"
   ]
  },
  {
   "cell_type": "code",
   "execution_count": 22,
   "metadata": {
    "tags": []
   },
   "outputs": [
    {
     "data": {
      "text/html": [
       "<div><div style = \"float: left;\"><span>101×7 DataFrame</span></div><div style = \"float: right;\"><span style = \"font-style: italic;\">76 rows omitted</span></div><div style = \"clear: both;\"></div></div><div class = \"data-frame\" style = \"overflow-x: scroll;\"><table class = \"data-frame\" style = \"margin-bottom: 6px;\"><thead><tr class = \"header\"><th class = \"rowNumber\" style = \"font-weight: bold; text-align: right;\">Row</th><th style = \"text-align: left;\">time</th><th style = \"text-align: left;\">t</th><th style = \"text-align: left;\">μ</th><th style = \"text-align: left;\">B</th><th style = \"text-align: left;\">D</th><th style = \"text-align: left;\">W0</th><th style = \"text-align: left;\">W</th></tr><tr class = \"subheader headerLastRow\"><th class = \"rowNumber\" style = \"font-weight: bold; text-align: right;\"></th><th title = \"Unitful.Quantity{Float64, 𝐓, Unitful.FreeUnits{(hr,), 𝐓, nothing}}\" style = \"text-align: left;\">Quantity…</th><th title = \"Float64\" style = \"text-align: left;\">Float64</th><th title = \"Float64\" style = \"text-align: left;\">Float64</th><th title = \"Float64\" style = \"text-align: left;\">Float64</th><th title = \"Float64\" style = \"text-align: left;\">Float64</th><th title = \"Float64\" style = \"text-align: left;\">Float64</th><th title = \"Float64\" style = \"text-align: left;\">Float64</th></tr></thead><tbody><tr><td class = \"rowNumber\" style = \"font-weight: bold; text-align: right;\">1</td><td style = \"text-align: right;\">0.0 hr</td><td style = \"text-align: right;\">0.0</td><td style = \"text-align: right;\">0.3</td><td style = \"text-align: right;\">100.0</td><td style = \"text-align: right;\">0.065</td><td style = \"text-align: right;\">1.0</td><td style = \"text-align: right;\">1.0</td></tr><tr><td class = \"rowNumber\" style = \"font-weight: bold; text-align: right;\">2</td><td style = \"text-align: right;\">1.0 hr</td><td style = \"text-align: right;\">1.0</td><td style = \"text-align: right;\">0.3</td><td style = \"text-align: right;\">100.0</td><td style = \"text-align: right;\">0.065</td><td style = \"text-align: right;\">1.0</td><td style = \"text-align: right;\">1.297</td></tr><tr><td class = \"rowNumber\" style = \"font-weight: bold; text-align: right;\">3</td><td style = \"text-align: right;\">2.0 hr</td><td style = \"text-align: right;\">2.0</td><td style = \"text-align: right;\">0.3</td><td style = \"text-align: right;\">100.0</td><td style = \"text-align: right;\">0.065</td><td style = \"text-align: right;\">1.0</td><td style = \"text-align: right;\">1.65688</td></tr><tr><td class = \"rowNumber\" style = \"font-weight: bold; text-align: right;\">4</td><td style = \"text-align: right;\">3.0 hr</td><td style = \"text-align: right;\">3.0</td><td style = \"text-align: right;\">0.3</td><td style = \"text-align: right;\">100.0</td><td style = \"text-align: right;\">0.065</td><td style = \"text-align: right;\">1.0</td><td style = \"text-align: right;\">2.08612</td></tr><tr><td class = \"rowNumber\" style = \"font-weight: bold; text-align: right;\">5</td><td style = \"text-align: right;\">4.0 hr</td><td style = \"text-align: right;\">4.0</td><td style = \"text-align: right;\">0.3</td><td style = \"text-align: right;\">100.0</td><td style = \"text-align: right;\">0.065</td><td style = \"text-align: right;\">1.0</td><td style = \"text-align: right;\">2.59034</td></tr><tr><td class = \"rowNumber\" style = \"font-weight: bold; text-align: right;\">6</td><td style = \"text-align: right;\">5.0 hr</td><td style = \"text-align: right;\">5.0</td><td style = \"text-align: right;\">0.3</td><td style = \"text-align: right;\">100.0</td><td style = \"text-align: right;\">0.065</td><td style = \"text-align: right;\">1.0</td><td style = \"text-align: right;\">3.17401</td></tr><tr><td class = \"rowNumber\" style = \"font-weight: bold; text-align: right;\">7</td><td style = \"text-align: right;\">6.0 hr</td><td style = \"text-align: right;\">6.0</td><td style = \"text-align: right;\">0.3</td><td style = \"text-align: right;\">100.0</td><td style = \"text-align: right;\">0.065</td><td style = \"text-align: right;\">1.0</td><td style = \"text-align: right;\">3.84016</td></tr><tr><td class = \"rowNumber\" style = \"font-weight: bold; text-align: right;\">8</td><td style = \"text-align: right;\">7.0 hr</td><td style = \"text-align: right;\">7.0</td><td style = \"text-align: right;\">0.3</td><td style = \"text-align: right;\">100.0</td><td style = \"text-align: right;\">0.065</td><td style = \"text-align: right;\">1.0</td><td style = \"text-align: right;\">4.59021</td></tr><tr><td class = \"rowNumber\" style = \"font-weight: bold; text-align: right;\">9</td><td style = \"text-align: right;\">8.0 hr</td><td style = \"text-align: right;\">8.0</td><td style = \"text-align: right;\">0.3</td><td style = \"text-align: right;\">100.0</td><td style = \"text-align: right;\">0.065</td><td style = \"text-align: right;\">1.0</td><td style = \"text-align: right;\">5.42378</td></tr><tr><td class = \"rowNumber\" style = \"font-weight: bold; text-align: right;\">10</td><td style = \"text-align: right;\">9.0 hr</td><td style = \"text-align: right;\">9.0</td><td style = \"text-align: right;\">0.3</td><td style = \"text-align: right;\">100.0</td><td style = \"text-align: right;\">0.065</td><td style = \"text-align: right;\">1.0</td><td style = \"text-align: right;\">6.33868</td></tr><tr><td class = \"rowNumber\" style = \"font-weight: bold; text-align: right;\">11</td><td style = \"text-align: right;\">10.0 hr</td><td style = \"text-align: right;\">10.0</td><td style = \"text-align: right;\">0.3</td><td style = \"text-align: right;\">100.0</td><td style = \"text-align: right;\">0.065</td><td style = \"text-align: right;\">1.0</td><td style = \"text-align: right;\">7.33092</td></tr><tr><td class = \"rowNumber\" style = \"font-weight: bold; text-align: right;\">12</td><td style = \"text-align: right;\">11.0 hr</td><td style = \"text-align: right;\">11.0</td><td style = \"text-align: right;\">0.3</td><td style = \"text-align: right;\">100.0</td><td style = \"text-align: right;\">0.065</td><td style = \"text-align: right;\">1.0</td><td style = \"text-align: right;\">8.39487</td></tr><tr><td class = \"rowNumber\" style = \"font-weight: bold; text-align: right;\">13</td><td style = \"text-align: right;\">12.0 hr</td><td style = \"text-align: right;\">12.0</td><td style = \"text-align: right;\">0.3</td><td style = \"text-align: right;\">100.0</td><td style = \"text-align: right;\">0.065</td><td style = \"text-align: right;\">1.0</td><td style = \"text-align: right;\">9.52346</td></tr><tr><td style = \"text-align: right;\">&vellip;</td><td style = \"text-align: right;\">&vellip;</td><td style = \"text-align: right;\">&vellip;</td><td style = \"text-align: right;\">&vellip;</td><td style = \"text-align: right;\">&vellip;</td><td style = \"text-align: right;\">&vellip;</td><td style = \"text-align: right;\">&vellip;</td><td style = \"text-align: right;\">&vellip;</td></tr><tr><td class = \"rowNumber\" style = \"font-weight: bold; text-align: right;\">90</td><td style = \"text-align: right;\">89.0 hr</td><td style = \"text-align: right;\">89.0</td><td style = \"text-align: right;\">0.3</td><td style = \"text-align: right;\">100.0</td><td style = \"text-align: right;\">0.065</td><td style = \"text-align: right;\">1.0</td><td style = \"text-align: right;\">46.8189</td></tr><tr><td class = \"rowNumber\" style = \"font-weight: bold; text-align: right;\">91</td><td style = \"text-align: right;\">90.0 hr</td><td style = \"text-align: right;\">90.0</td><td style = \"text-align: right;\">0.3</td><td style = \"text-align: right;\">100.0</td><td style = \"text-align: right;\">0.065</td><td style = \"text-align: right;\">1.0</td><td style = \"text-align: right;\">46.8418</td></tr><tr><td class = \"rowNumber\" style = \"font-weight: bold; text-align: right;\">92</td><td style = \"text-align: right;\">91.0 hr</td><td style = \"text-align: right;\">91.0</td><td style = \"text-align: right;\">0.3</td><td style = \"text-align: right;\">100.0</td><td style = \"text-align: right;\">0.065</td><td style = \"text-align: right;\">1.0</td><td style = \"text-align: right;\">46.8633</td></tr><tr><td class = \"rowNumber\" style = \"font-weight: bold; text-align: right;\">93</td><td style = \"text-align: right;\">92.0 hr</td><td style = \"text-align: right;\">92.0</td><td style = \"text-align: right;\">0.3</td><td style = \"text-align: right;\">100.0</td><td style = \"text-align: right;\">0.065</td><td style = \"text-align: right;\">1.0</td><td style = \"text-align: right;\">46.8835</td></tr><tr><td class = \"rowNumber\" style = \"font-weight: bold; text-align: right;\">94</td><td style = \"text-align: right;\">93.0 hr</td><td style = \"text-align: right;\">93.0</td><td style = \"text-align: right;\">0.3</td><td style = \"text-align: right;\">100.0</td><td style = \"text-align: right;\">0.065</td><td style = \"text-align: right;\">1.0</td><td style = \"text-align: right;\">46.9024</td></tr><tr><td class = \"rowNumber\" style = \"font-weight: bold; text-align: right;\">95</td><td style = \"text-align: right;\">94.0 hr</td><td style = \"text-align: right;\">94.0</td><td style = \"text-align: right;\">0.3</td><td style = \"text-align: right;\">100.0</td><td style = \"text-align: right;\">0.065</td><td style = \"text-align: right;\">1.0</td><td style = \"text-align: right;\">46.9201</td></tr><tr><td class = \"rowNumber\" style = \"font-weight: bold; text-align: right;\">96</td><td style = \"text-align: right;\">95.0 hr</td><td style = \"text-align: right;\">95.0</td><td style = \"text-align: right;\">0.3</td><td style = \"text-align: right;\">100.0</td><td style = \"text-align: right;\">0.065</td><td style = \"text-align: right;\">1.0</td><td style = \"text-align: right;\">46.9367</td></tr><tr><td class = \"rowNumber\" style = \"font-weight: bold; text-align: right;\">97</td><td style = \"text-align: right;\">96.0 hr</td><td style = \"text-align: right;\">96.0</td><td style = \"text-align: right;\">0.3</td><td style = \"text-align: right;\">100.0</td><td style = \"text-align: right;\">0.065</td><td style = \"text-align: right;\">1.0</td><td style = \"text-align: right;\">46.9522</td></tr><tr><td class = \"rowNumber\" style = \"font-weight: bold; text-align: right;\">98</td><td style = \"text-align: right;\">97.0 hr</td><td style = \"text-align: right;\">97.0</td><td style = \"text-align: right;\">0.3</td><td style = \"text-align: right;\">100.0</td><td style = \"text-align: right;\">0.065</td><td style = \"text-align: right;\">1.0</td><td style = \"text-align: right;\">46.9668</td></tr><tr><td class = \"rowNumber\" style = \"font-weight: bold; text-align: right;\">99</td><td style = \"text-align: right;\">98.0 hr</td><td style = \"text-align: right;\">98.0</td><td style = \"text-align: right;\">0.3</td><td style = \"text-align: right;\">100.0</td><td style = \"text-align: right;\">0.065</td><td style = \"text-align: right;\">1.0</td><td style = \"text-align: right;\">46.9804</td></tr><tr><td class = \"rowNumber\" style = \"font-weight: bold; text-align: right;\">100</td><td style = \"text-align: right;\">99.0 hr</td><td style = \"text-align: right;\">99.0</td><td style = \"text-align: right;\">0.3</td><td style = \"text-align: right;\">100.0</td><td style = \"text-align: right;\">0.065</td><td style = \"text-align: right;\">1.0</td><td style = \"text-align: right;\">46.9932</td></tr><tr><td class = \"rowNumber\" style = \"font-weight: bold; text-align: right;\">101</td><td style = \"text-align: right;\">100.0 hr</td><td style = \"text-align: right;\">100.0</td><td style = \"text-align: right;\">0.3</td><td style = \"text-align: right;\">100.0</td><td style = \"text-align: right;\">0.065</td><td style = \"text-align: right;\">1.0</td><td style = \"text-align: right;\">47.0052</td></tr></tbody></table></div>"
      ],
      "text/latex": [
       "\\begin{tabular}{r|ccccccc}\n",
       "\t& time & t & μ & B & D & W0 & W\\\\\n",
       "\t\\hline\n",
       "\t& Quantity… & Float64 & Float64 & Float64 & Float64 & Float64 & Float64\\\\\n",
       "\t\\hline\n",
       "\t1 & 0.0 hr & 0.0 & 0.3 & 100.0 & 0.065 & 1.0 & 1.0 \\\\\n",
       "\t2 & 1.0 hr & 1.0 & 0.3 & 100.0 & 0.065 & 1.0 & 1.297 \\\\\n",
       "\t3 & 2.0 hr & 2.0 & 0.3 & 100.0 & 0.065 & 1.0 & 1.65688 \\\\\n",
       "\t4 & 3.0 hr & 3.0 & 0.3 & 100.0 & 0.065 & 1.0 & 2.08612 \\\\\n",
       "\t5 & 4.0 hr & 4.0 & 0.3 & 100.0 & 0.065 & 1.0 & 2.59034 \\\\\n",
       "\t6 & 5.0 hr & 5.0 & 0.3 & 100.0 & 0.065 & 1.0 & 3.17401 \\\\\n",
       "\t7 & 6.0 hr & 6.0 & 0.3 & 100.0 & 0.065 & 1.0 & 3.84016 \\\\\n",
       "\t8 & 7.0 hr & 7.0 & 0.3 & 100.0 & 0.065 & 1.0 & 4.59021 \\\\\n",
       "\t9 & 8.0 hr & 8.0 & 0.3 & 100.0 & 0.065 & 1.0 & 5.42378 \\\\\n",
       "\t10 & 9.0 hr & 9.0 & 0.3 & 100.0 & 0.065 & 1.0 & 6.33868 \\\\\n",
       "\t11 & 10.0 hr & 10.0 & 0.3 & 100.0 & 0.065 & 1.0 & 7.33092 \\\\\n",
       "\t12 & 11.0 hr & 11.0 & 0.3 & 100.0 & 0.065 & 1.0 & 8.39487 \\\\\n",
       "\t13 & 12.0 hr & 12.0 & 0.3 & 100.0 & 0.065 & 1.0 & 9.52346 \\\\\n",
       "\t14 & 13.0 hr & 13.0 & 0.3 & 100.0 & 0.065 & 1.0 & 10.7084 \\\\\n",
       "\t15 & 14.0 hr & 14.0 & 0.3 & 100.0 & 0.065 & 1.0 & 11.9406 \\\\\n",
       "\t16 & 15.0 hr & 15.0 & 0.3 & 100.0 & 0.065 & 1.0 & 13.2103 \\\\\n",
       "\t17 & 16.0 hr & 16.0 & 0.3 & 100.0 & 0.065 & 1.0 & 14.5077 \\\\\n",
       "\t18 & 17.0 hr & 17.0 & 0.3 & 100.0 & 0.065 & 1.0 & 15.8229 \\\\\n",
       "\t19 & 18.0 hr & 18.0 & 0.3 & 100.0 & 0.065 & 1.0 & 17.1463 \\\\\n",
       "\t20 & 19.0 hr & 19.0 & 0.3 & 100.0 & 0.065 & 1.0 & 18.4691 \\\\\n",
       "\t21 & 20.0 hr & 20.0 & 0.3 & 100.0 & 0.065 & 1.0 & 19.7829 \\\\\n",
       "\t22 & 21.0 hr & 21.0 & 0.3 & 100.0 & 0.065 & 1.0 & 21.0804 \\\\\n",
       "\t23 & 22.0 hr & 22.0 & 0.3 & 100.0 & 0.065 & 1.0 & 22.355 \\\\\n",
       "\t24 & 23.0 hr & 23.0 & 0.3 & 100.0 & 0.065 & 1.0 & 23.6011 \\\\\n",
       "\t25 & 24.0 hr & 24.0 & 0.3 & 100.0 & 0.065 & 1.0 & 24.8141 \\\\\n",
       "\t26 & 25.0 hr & 25.0 & 0.3 & 100.0 & 0.065 & 1.0 & 25.9903 \\\\\n",
       "\t27 & 26.0 hr & 26.0 & 0.3 & 100.0 & 0.065 & 1.0 & 27.1266 \\\\\n",
       "\t28 & 27.0 hr & 27.0 & 0.3 & 100.0 & 0.065 & 1.0 & 28.2209 \\\\\n",
       "\t29 & 28.0 hr & 28.0 & 0.3 & 100.0 & 0.065 & 1.0 & 29.2716 \\\\\n",
       "\t30 & 29.0 hr & 29.0 & 0.3 & 100.0 & 0.065 & 1.0 & 30.278 \\\\\n",
       "\t$\\dots$ & $\\dots$ & $\\dots$ & $\\dots$ & $\\dots$ & $\\dots$ & $\\dots$ & $\\dots$ \\\\\n",
       "\\end{tabular}\n"
      ],
      "text/plain": [
       "\u001B[1m101×7 DataFrame\n",
       "\u001B[1m Row │\u001B[1m time      \u001B[1m t       \u001B[1m μ       \u001B[1m B       \u001B[1m D       \u001B[1m W0      \u001B[1m W\n",
       "     │\u001B[90m Quantity… \u001B[90m Float64 \u001B[90m Float64 \u001B[90m Float64 \u001B[90m Float64 \u001B[90m Float64 \u001B[90m Float64\n",
       "─────┼──────────────────────────────────────────────────────────────────\n",
       "   1 │    0.0 hr      0.0      0.3    100.0    0.065      1.0   1.0\n",
       "   2 │    1.0 hr      1.0      0.3    100.0    0.065      1.0   1.297\n",
       "   3 │    2.0 hr      2.0      0.3    100.0    0.065      1.0   1.65688\n",
       "   4 │    3.0 hr      3.0      0.3    100.0    0.065      1.0   2.08612\n",
       "   5 │    4.0 hr      4.0      0.3    100.0    0.065      1.0   2.59034\n",
       "   6 │    5.0 hr      5.0      0.3    100.0    0.065      1.0   3.17401\n",
       "   7 │    6.0 hr      6.0      0.3    100.0    0.065      1.0   3.84016\n",
       "   8 │    7.0 hr      7.0      0.3    100.0    0.065      1.0   4.59021\n",
       "   9 │    8.0 hr      8.0      0.3    100.0    0.065      1.0   5.42378\n",
       "  10 │    9.0 hr      9.0      0.3    100.0    0.065      1.0   6.33868\n",
       "  11 │   10.0 hr     10.0      0.3    100.0    0.065      1.0   7.33092\n",
       "  ⋮  │     ⋮         ⋮        ⋮        ⋮        ⋮        ⋮        ⋮\n",
       "  92 │   91.0 hr     91.0      0.3    100.0    0.065      1.0  46.8633\n",
       "  93 │   92.0 hr     92.0      0.3    100.0    0.065      1.0  46.8835\n",
       "  94 │   93.0 hr     93.0      0.3    100.0    0.065      1.0  46.9024\n",
       "  95 │   94.0 hr     94.0      0.3    100.0    0.065      1.0  46.9201\n",
       "  96 │   95.0 hr     95.0      0.3    100.0    0.065      1.0  46.9367\n",
       "  97 │   96.0 hr     96.0      0.3    100.0    0.065      1.0  46.9522\n",
       "  98 │   97.0 hr     97.0      0.3    100.0    0.065      1.0  46.9668\n",
       "  99 │   98.0 hr     98.0      0.3    100.0    0.065      1.0  46.9804\n",
       " 100 │   99.0 hr     99.0      0.3    100.0    0.065      1.0  46.9932\n",
       " 101 │  100.0 hr    100.0      0.3    100.0    0.065      1.0  47.0052\n",
       "\u001B[36m                                                         80 rows omitted"
      ]
     },
     "execution_count": 22,
     "metadata": {},
     "output_type": "execute_result"
    }
   ],
   "source": [
    "r15 = simulate(Chan, stop = 100)"
   ]
  },
  {
   "cell_type": "code",
   "execution_count": 23,
   "metadata": {
    "tags": []
   },
   "outputs": [
    {
     "data": {
      "image/svg+xml": [
       "<?xml version=\"1.0\" encoding=\"UTF-8\"?>\n",
       "<svg xmlns=\"http://www.w3.org/2000/svg\"\n",
       "     xmlns:xlink=\"http://www.w3.org/1999/xlink\"\n",
       "     xmlns:gadfly=\"http://www.gadflyjl.org/ns\"\n",
       "     version=\"1.2\"\n",
       "     width=\"141.42mm\" height=\"100mm\" viewBox=\"0 0 141.42 100\"\n",
       "     stroke=\"none\"\n",
       "     fill=\"#000000\"\n",
       "     stroke-width=\"0.3\"\n",
       "     font-size=\"3.88\"\n",
       ">\n",
       "<defs>\n",
       "  <marker id=\"arrow\" markerWidth=\"15\" markerHeight=\"7\" refX=\"5\" refY=\"3.5\" orient=\"auto\" markerUnits=\"strokeWidth\">\n",
       "    <path d=\"M0,0 L15,3.5 L0,7 z\" stroke=\"context-stroke\" fill=\"context-stroke\"/>\n",
       "  </marker>\n",
       "</defs>\n",
       "<g stroke=\"#000000\" stroke-opacity=\"0.000\" fill=\"#FFFFFF\" id=\"img-07448046-1\">\n",
       "  <g transform=\"translate(70.71,50)\">\n",
       "    <path d=\"M-70.71,-50 L70.71,-50 70.71,50 -70.71,50  z\" class=\"primitive\"/>\n",
       "  </g>\n",
       "</g>\n",
       "<g class=\"plotroot xscalable yscalable\" id=\"img-07448046-2\">\n",
       "  <g font-size=\"3.53\" font-family=\"'PT Sans','Helvetica Neue','Helvetica',sans-serif\" fill=\"#564A55\" stroke=\"#000000\" stroke-opacity=\"0.000\" id=\"img-07448046-3\">\n",
       "    <g transform=\"translate(69.9,93.72)\">\n",
       "      <g class=\"primitive\">\n",
       "        <text text-anchor=\"middle\" dy=\"0.6em\">t</text>\n",
       "      </g>\n",
       "    </g>\n",
       "  </g>\n",
       "  <g class=\"guide xlabels\" font-size=\"2.82\" font-family=\"'PT Sans Caption','Helvetica Neue','Helvetica',sans-serif\" fill=\"#6C606B\" id=\"img-07448046-4\">\n",
       "    <g transform=\"translate(12.35,87.04)\">\n",
       "      <g class=\"primitive\">\n",
       "        <text text-anchor=\"middle\" dy=\"0.6em\">0</text>\n",
       "      </g>\n",
       "    </g>\n",
       "    <g transform=\"translate(69.9,87.04)\">\n",
       "      <g class=\"primitive\">\n",
       "        <text text-anchor=\"middle\" dy=\"0.6em\">50</text>\n",
       "      </g>\n",
       "    </g>\n",
       "    <g transform=\"translate(127.46,87.04)\">\n",
       "      <g class=\"primitive\">\n",
       "        <text text-anchor=\"middle\" dy=\"0.6em\">100</text>\n",
       "      </g>\n",
       "    </g>\n",
       "  </g>\n",
       "  <g class=\"guide colorkey\" id=\"img-07448046-5\">\n",
       "    <g fill=\"#4C404B\" font-size=\"2.82\" font-family=\"'PT Sans','Helvetica Neue','Helvetica',sans-serif\" id=\"img-07448046-6\">\n",
       "      <g transform=\"translate(134.09,47.75)\" id=\"img-07448046-7\">\n",
       "        <g class=\"primitive\">\n",
       "          <text dy=\"0.35em\">W</text>\n",
       "        </g>\n",
       "      </g>\n",
       "    </g>\n",
       "    <g stroke-width=\"0.3\" id=\"img-07448046-8\">\n",
       "      <g stroke=\"#FFFFFF\" stroke-opacity=\"0.000\" fill-opacity=\"1\" fill=\"#00BFFF\" id=\"img-07448046-9\">\n",
       "        <g transform=\"translate(131.27,47.75)\" id=\"img-07448046-10\">\n",
       "          <circle cx=\"0\" cy=\"0\" r=\"0.7\" class=\"primitive\"/>\n",
       "        </g>\n",
       "      </g>\n",
       "    </g>\n",
       "    <g fill=\"#362A35\" font-size=\"3.18\" font-family=\"'PT Sans','Helvetica Neue','Helvetica',sans-serif\" stroke=\"#000000\" stroke-opacity=\"0.000\" id=\"img-07448046-11\">\n",
       "      <g transform=\"translate(130.46,44.44)\" id=\"img-07448046-12\">\n",
       "        <g class=\"primitive\">\n",
       "          <text dy=\"-0em\"></text>\n",
       "        </g>\n",
       "      </g>\n",
       "    </g>\n",
       "  </g>\n",
       "  <g clip-path=\"url(#img-07448046-13)\">\n",
       "    <g id=\"img-07448046-14\">\n",
       "      <g pointer-events=\"visible\" stroke-width=\"0.3\" fill=\"#000000\" fill-opacity=\"0.000\" stroke=\"#000000\" stroke-opacity=\"0.000\" class=\"guide background\" id=\"img-07448046-15\">\n",
       "        <g transform=\"translate(69.9,45.52)\" id=\"img-07448046-16\">\n",
       "          <path d=\"M-59.56,-40.52 L59.56,-40.52 59.56,40.52 -59.56,40.52  z\" class=\"primitive\"/>\n",
       "        </g>\n",
       "      </g>\n",
       "      <g class=\"guide ygridlines xfixed\" stroke-dasharray=\"0.5,0.5\" stroke-width=\"0.2\" stroke=\"#D0D0E0\" id=\"img-07448046-17\">\n",
       "        <g transform=\"translate(69.9,69.29)\" id=\"img-07448046-18\">\n",
       "          <path fill=\"none\" d=\"M-59.56,0 L59.56,0 \" class=\"primitive\"/>\n",
       "        </g>\n",
       "        <g transform=\"translate(69.9,52.9)\" id=\"img-07448046-19\">\n",
       "          <path fill=\"none\" d=\"M-59.56,0 L59.56,0 \" class=\"primitive\"/>\n",
       "        </g>\n",
       "        <g transform=\"translate(69.9,36.51)\" id=\"img-07448046-20\">\n",
       "          <path fill=\"none\" d=\"M-59.56,0 L59.56,0 \" class=\"primitive\"/>\n",
       "        </g>\n",
       "        <g transform=\"translate(69.9,20.11)\" id=\"img-07448046-21\">\n",
       "          <path fill=\"none\" d=\"M-59.56,0 L59.56,0 \" class=\"primitive\"/>\n",
       "        </g>\n",
       "      </g>\n",
       "      <g class=\"guide xgridlines yfixed\" stroke-dasharray=\"0.5,0.5\" stroke-width=\"0.2\" stroke=\"#D0D0E0\" id=\"img-07448046-22\">\n",
       "        <g transform=\"translate(12.35,45.52)\" id=\"img-07448046-23\">\n",
       "          <path fill=\"none\" d=\"M0,-40.52 L0,40.52 \" class=\"primitive\"/>\n",
       "        </g>\n",
       "        <g transform=\"translate(69.9,45.52)\" id=\"img-07448046-24\">\n",
       "          <path fill=\"none\" d=\"M0,-40.52 L0,40.52 \" class=\"primitive\"/>\n",
       "        </g>\n",
       "        <g transform=\"translate(127.46,45.52)\" id=\"img-07448046-25\">\n",
       "          <path fill=\"none\" d=\"M0,-40.52 L0,40.52 \" class=\"primitive\"/>\n",
       "        </g>\n",
       "      </g>\n",
       "      <g class=\"plotpanel\" id=\"img-07448046-26\">\n",
       "        <metadata>\n",
       "          <boundingbox value=\"10.346666666666664mm 5.0mm 119.11468957064284mm 81.04333333333332mm\"/>\n",
       "          <unitbox value=\"-1.7373977269622507 49.22009258858651 103.4747954539245 -49.44018517717302\"/>\n",
       "        </metadata>\n",
       "        <g stroke-width=\"0.3\" fill=\"#000000\" fill-opacity=\"0.000\" class=\"geometry\" id=\"img-07448046-27\">\n",
       "          <g class=\"color_LCHab{Float32}(70.0f0,60.0f0,240.0f0)\" stroke-dasharray=\"none\" stroke-opacity=\"1\" stroke=\"#00BFFF\" id=\"img-07448046-28\">\n",
       "            <g transform=\"translate(69.9,28.84)\" id=\"img-07448046-29\">\n",
       "              <path fill=\"none\" d=\"M-57.56,55.2 L-56.41,54.71 -55.26,54.12 -54.1,53.42 -52.95,52.59 -51.8,51.64 -50.65,50.54 -49.5,49.31 -48.35,47.95 -47.2,46.45 -46.05,44.82 -44.89,43.08 -43.74,41.23 -42.59,39.28 -41.44,37.26 -40.29,35.18 -39.14,33.06 -37.99,30.9 -36.84,28.73 -35.69,26.56 -34.53,24.41 -33.38,22.28 -32.23,20.19 -31.08,18.15 -29.93,16.16 -28.78,14.23 -27.63,12.37 -26.48,10.58 -25.33,8.86 -24.17,7.21 -23.02,5.63 -21.87,4.13 -20.72,2.7 -19.57,1.34 -18.42,0.05 -17.27,-1.17 -16.12,-2.33 -14.96,-3.42 -13.81,-4.45 -12.66,-5.43 -11.51,-6.35 -10.36,-7.21 -9.21,-8.03 -8.06,-8.79 -6.91,-9.51 -5.76,-10.19 -4.6,-10.83 -3.45,-11.43 -2.3,-11.99 -1.15,-12.52 0,-13.02 1.15,-13.48 2.3,-13.92 3.45,-14.33 4.6,-14.72 5.76,-15.08 6.91,-15.42 8.06,-15.74 9.21,-16.04 10.36,-16.32 11.51,-16.58 12.66,-16.83 13.81,-17.06 14.96,-17.27 16.12,-17.48 17.27,-17.67 18.42,-17.84 19.57,-18.01 20.72,-18.17 21.87,-18.31 23.02,-18.45 24.17,-18.58 25.33,-18.7 26.48,-18.82 27.63,-18.92 28.78,-19.02 29.93,-19.11 31.08,-19.2 32.23,-19.28 33.38,-19.36 34.53,-19.43 35.69,-19.5 36.84,-19.56 37.99,-19.62 39.14,-19.68 40.29,-19.73 41.44,-19.78 42.59,-19.83 43.74,-19.87 44.89,-19.91 46.05,-19.95 47.2,-19.98 48.35,-20.01 49.5,-20.05 50.65,-20.07 51.8,-20.1 52.95,-20.13 54.1,-20.15 55.26,-20.17 56.41,-20.19 57.56,-20.21 \" class=\"primitive\"/>\n",
       "            </g>\n",
       "          </g>\n",
       "        </g>\n",
       "      </g>\n",
       "    </g>\n",
       "  </g>\n",
       "  <g class=\"guide ylabels\" font-size=\"2.82\" font-family=\"'PT Sans Caption','Helvetica Neue','Helvetica',sans-serif\" fill=\"#6C606B\" id=\"img-07448046-30\">\n",
       "    <g transform=\"translate(9.35,69.29)\" id=\"img-07448046-31\">\n",
       "      <g class=\"primitive\">\n",
       "        <text text-anchor=\"end\" dy=\"0.35em\">10</text>\n",
       "      </g>\n",
       "    </g>\n",
       "    <g transform=\"translate(9.35,52.9)\" id=\"img-07448046-32\">\n",
       "      <g class=\"primitive\">\n",
       "        <text text-anchor=\"end\" dy=\"0.35em\">20</text>\n",
       "      </g>\n",
       "    </g>\n",
       "    <g transform=\"translate(9.35,36.51)\" id=\"img-07448046-33\">\n",
       "      <g class=\"primitive\">\n",
       "        <text text-anchor=\"end\" dy=\"0.35em\">30</text>\n",
       "      </g>\n",
       "    </g>\n",
       "    <g transform=\"translate(9.35,20.11)\" id=\"img-07448046-34\">\n",
       "      <g class=\"primitive\">\n",
       "        <text text-anchor=\"end\" dy=\"0.35em\">40</text>\n",
       "      </g>\n",
       "    </g>\n",
       "  </g>\n",
       "</g>\n",
       "<defs>\n",
       "  <clipPath id=\"img-07448046-13\">\n",
       "    <path d=\"M10.35,5 L129.46,5 129.46,86.04 10.35,86.04 \" />\n",
       "  </clipPath>\n",
       "</defs>\n",
       "</svg>\n"
      ],
      "text/html": [
       "<?xml version=\"1.0\" encoding=\"UTF-8\"?>\n",
       "<svg xmlns=\"http://www.w3.org/2000/svg\"\n",
       "     xmlns:xlink=\"http://www.w3.org/1999/xlink\"\n",
       "     xmlns:gadfly=\"http://www.gadflyjl.org/ns\"\n",
       "     version=\"1.2\"\n",
       "     width=\"141.42mm\" height=\"100mm\" viewBox=\"0 0 141.42 100\"\n",
       "     stroke=\"none\"\n",
       "     fill=\"#000000\"\n",
       "     stroke-width=\"0.3\"\n",
       "     font-size=\"3.88\"\n",
       ">\n",
       "<defs>\n",
       "  <marker id=\"arrow\" markerWidth=\"15\" markerHeight=\"7\" refX=\"5\" refY=\"3.5\" orient=\"auto\" markerUnits=\"strokeWidth\">\n",
       "    <path d=\"M0,0 L15,3.5 L0,7 z\" stroke=\"context-stroke\" fill=\"context-stroke\"/>\n",
       "  </marker>\n",
       "</defs>\n",
       "<g stroke=\"#000000\" stroke-opacity=\"0.000\" fill=\"#FFFFFF\" id=\"img-14c87751-1\">\n",
       "  <g transform=\"translate(70.71,50)\">\n",
       "    <path d=\"M-70.71,-50 L70.71,-50 70.71,50 -70.71,50  z\" class=\"primitive\"/>\n",
       "  </g>\n",
       "</g>\n",
       "<g class=\"plotroot xscalable yscalable\" id=\"img-14c87751-2\">\n",
       "  <g font-size=\"3.53\" font-family=\"'PT Sans','Helvetica Neue','Helvetica',sans-serif\" fill=\"#564A55\" stroke=\"#000000\" stroke-opacity=\"0.000\" id=\"img-14c87751-3\">\n",
       "    <g transform=\"translate(69.9,93.72)\">\n",
       "      <g class=\"primitive\">\n",
       "        <text text-anchor=\"middle\" dy=\"0.6em\">t</text>\n",
       "      </g>\n",
       "    </g>\n",
       "  </g>\n",
       "  <g class=\"guide xlabels\" font-size=\"2.82\" font-family=\"'PT Sans Caption','Helvetica Neue','Helvetica',sans-serif\" fill=\"#6C606B\" id=\"img-14c87751-4\">\n",
       "    <g transform=\"translate(12.35,87.04)\">\n",
       "      <g class=\"primitive\">\n",
       "        <text text-anchor=\"middle\" dy=\"0.6em\">0</text>\n",
       "      </g>\n",
       "    </g>\n",
       "    <g transform=\"translate(69.9,87.04)\">\n",
       "      <g class=\"primitive\">\n",
       "        <text text-anchor=\"middle\" dy=\"0.6em\">50</text>\n",
       "      </g>\n",
       "    </g>\n",
       "    <g transform=\"translate(127.46,87.04)\">\n",
       "      <g class=\"primitive\">\n",
       "        <text text-anchor=\"middle\" dy=\"0.6em\">100</text>\n",
       "      </g>\n",
       "    </g>\n",
       "  </g>\n",
       "  <g class=\"guide colorkey\" id=\"img-14c87751-5\">\n",
       "    <g fill=\"#4C404B\" font-size=\"2.82\" font-family=\"'PT Sans','Helvetica Neue','Helvetica',sans-serif\" id=\"img-14c87751-6\">\n",
       "      <g transform=\"translate(134.09,47.75)\" id=\"img-14c87751-7\">\n",
       "        <g class=\"primitive\">\n",
       "          <text dy=\"0.35em\">W</text>\n",
       "        </g>\n",
       "      </g>\n",
       "    </g>\n",
       "    <g stroke-width=\"0.3\" id=\"img-14c87751-8\">\n",
       "      <g stroke=\"#FFFFFF\" stroke-opacity=\"0.000\" fill-opacity=\"1\" fill=\"#00BFFF\" id=\"img-14c87751-9\">\n",
       "        <g transform=\"translate(131.27,47.75)\" id=\"img-14c87751-10\">\n",
       "          <circle cx=\"0\" cy=\"0\" r=\"0.7\" class=\"primitive\"/>\n",
       "        </g>\n",
       "      </g>\n",
       "    </g>\n",
       "    <g fill=\"#362A35\" font-size=\"3.18\" font-family=\"'PT Sans','Helvetica Neue','Helvetica',sans-serif\" stroke=\"#000000\" stroke-opacity=\"0.000\" id=\"img-14c87751-11\">\n",
       "      <g transform=\"translate(130.46,44.44)\" id=\"img-14c87751-12\">\n",
       "        <g class=\"primitive\">\n",
       "          <text dy=\"-0em\"></text>\n",
       "        </g>\n",
       "      </g>\n",
       "    </g>\n",
       "  </g>\n",
       "  <g clip-path=\"url(#img-14c87751-13)\">\n",
       "    <g id=\"img-14c87751-14\">\n",
       "      <g pointer-events=\"visible\" stroke-width=\"0.3\" fill=\"#000000\" fill-opacity=\"0.000\" stroke=\"#000000\" stroke-opacity=\"0.000\" class=\"guide background\" id=\"img-14c87751-15\">\n",
       "        <g transform=\"translate(69.9,45.52)\" id=\"img-14c87751-16\">\n",
       "          <path d=\"M-59.56,-40.52 L59.56,-40.52 59.56,40.52 -59.56,40.52  z\" class=\"primitive\"/>\n",
       "        </g>\n",
       "      </g>\n",
       "      <g class=\"guide ygridlines xfixed\" stroke-dasharray=\"0.5,0.5\" stroke-width=\"0.2\" stroke=\"#D0D0E0\" id=\"img-14c87751-17\">\n",
       "        <g transform=\"translate(69.9,69.29)\" id=\"img-14c87751-18\">\n",
       "          <path fill=\"none\" d=\"M-59.56,0 L59.56,0 \" class=\"primitive\"/>\n",
       "        </g>\n",
       "        <g transform=\"translate(69.9,52.9)\" id=\"img-14c87751-19\">\n",
       "          <path fill=\"none\" d=\"M-59.56,0 L59.56,0 \" class=\"primitive\"/>\n",
       "        </g>\n",
       "        <g transform=\"translate(69.9,36.51)\" id=\"img-14c87751-20\">\n",
       "          <path fill=\"none\" d=\"M-59.56,0 L59.56,0 \" class=\"primitive\"/>\n",
       "        </g>\n",
       "        <g transform=\"translate(69.9,20.11)\" id=\"img-14c87751-21\">\n",
       "          <path fill=\"none\" d=\"M-59.56,0 L59.56,0 \" class=\"primitive\"/>\n",
       "        </g>\n",
       "      </g>\n",
       "      <g class=\"guide xgridlines yfixed\" stroke-dasharray=\"0.5,0.5\" stroke-width=\"0.2\" stroke=\"#D0D0E0\" id=\"img-14c87751-22\">\n",
       "        <g transform=\"translate(12.35,45.52)\" id=\"img-14c87751-23\">\n",
       "          <path fill=\"none\" d=\"M0,-40.52 L0,40.52 \" class=\"primitive\"/>\n",
       "        </g>\n",
       "        <g transform=\"translate(69.9,45.52)\" id=\"img-14c87751-24\">\n",
       "          <path fill=\"none\" d=\"M0,-40.52 L0,40.52 \" class=\"primitive\"/>\n",
       "        </g>\n",
       "        <g transform=\"translate(127.46,45.52)\" id=\"img-14c87751-25\">\n",
       "          <path fill=\"none\" d=\"M0,-40.52 L0,40.52 \" class=\"primitive\"/>\n",
       "        </g>\n",
       "      </g>\n",
       "      <g class=\"plotpanel\" id=\"img-14c87751-26\">\n",
       "        <metadata>\n",
       "          <boundingbox value=\"10.346666666666664mm 5.0mm 119.11468957064284mm 81.04333333333332mm\"/>\n",
       "          <unitbox value=\"-1.7373977269622507 49.22009258858651 103.4747954539245 -49.44018517717302\"/>\n",
       "        </metadata>\n",
       "        <g stroke-width=\"0.3\" fill=\"#000000\" fill-opacity=\"0.000\" class=\"geometry\" id=\"img-14c87751-27\">\n",
       "          <g class=\"color_LCHab{Float32}(70.0f0,60.0f0,240.0f0)\" stroke-dasharray=\"none\" stroke-opacity=\"1\" stroke=\"#00BFFF\" id=\"img-14c87751-28\">\n",
       "            <g transform=\"translate(69.9,28.84)\" id=\"img-14c87751-29\">\n",
       "              <path fill=\"none\" d=\"M-57.56,55.2 L-56.41,54.71 -55.26,54.12 -54.1,53.42 -52.95,52.59 -51.8,51.64 -50.65,50.54 -49.5,49.31 -48.35,47.95 -47.2,46.45 -46.05,44.82 -44.89,43.08 -43.74,41.23 -42.59,39.28 -41.44,37.26 -40.29,35.18 -39.14,33.06 -37.99,30.9 -36.84,28.73 -35.69,26.56 -34.53,24.41 -33.38,22.28 -32.23,20.19 -31.08,18.15 -29.93,16.16 -28.78,14.23 -27.63,12.37 -26.48,10.58 -25.33,8.86 -24.17,7.21 -23.02,5.63 -21.87,4.13 -20.72,2.7 -19.57,1.34 -18.42,0.05 -17.27,-1.17 -16.12,-2.33 -14.96,-3.42 -13.81,-4.45 -12.66,-5.43 -11.51,-6.35 -10.36,-7.21 -9.21,-8.03 -8.06,-8.79 -6.91,-9.51 -5.76,-10.19 -4.6,-10.83 -3.45,-11.43 -2.3,-11.99 -1.15,-12.52 0,-13.02 1.15,-13.48 2.3,-13.92 3.45,-14.33 4.6,-14.72 5.76,-15.08 6.91,-15.42 8.06,-15.74 9.21,-16.04 10.36,-16.32 11.51,-16.58 12.66,-16.83 13.81,-17.06 14.96,-17.27 16.12,-17.48 17.27,-17.67 18.42,-17.84 19.57,-18.01 20.72,-18.17 21.87,-18.31 23.02,-18.45 24.17,-18.58 25.33,-18.7 26.48,-18.82 27.63,-18.92 28.78,-19.02 29.93,-19.11 31.08,-19.2 32.23,-19.28 33.38,-19.36 34.53,-19.43 35.69,-19.5 36.84,-19.56 37.99,-19.62 39.14,-19.68 40.29,-19.73 41.44,-19.78 42.59,-19.83 43.74,-19.87 44.89,-19.91 46.05,-19.95 47.2,-19.98 48.35,-20.01 49.5,-20.05 50.65,-20.07 51.8,-20.1 52.95,-20.13 54.1,-20.15 55.26,-20.17 56.41,-20.19 57.56,-20.21 \" class=\"primitive\"/>\n",
       "            </g>\n",
       "          </g>\n",
       "        </g>\n",
       "      </g>\n",
       "    </g>\n",
       "  </g>\n",
       "  <g class=\"guide ylabels\" font-size=\"2.82\" font-family=\"'PT Sans Caption','Helvetica Neue','Helvetica',sans-serif\" fill=\"#6C606B\" id=\"img-14c87751-30\">\n",
       "    <g transform=\"translate(9.35,69.29)\" id=\"img-14c87751-31\">\n",
       "      <g class=\"primitive\">\n",
       "        <text text-anchor=\"end\" dy=\"0.35em\">10</text>\n",
       "      </g>\n",
       "    </g>\n",
       "    <g transform=\"translate(9.35,52.9)\" id=\"img-14c87751-32\">\n",
       "      <g class=\"primitive\">\n",
       "        <text text-anchor=\"end\" dy=\"0.35em\">20</text>\n",
       "      </g>\n",
       "    </g>\n",
       "    <g transform=\"translate(9.35,36.51)\" id=\"img-14c87751-33\">\n",
       "      <g class=\"primitive\">\n",
       "        <text text-anchor=\"end\" dy=\"0.35em\">30</text>\n",
       "      </g>\n",
       "    </g>\n",
       "    <g transform=\"translate(9.35,20.11)\" id=\"img-14c87751-34\">\n",
       "      <g class=\"primitive\">\n",
       "        <text text-anchor=\"end\" dy=\"0.35em\">40</text>\n",
       "      </g>\n",
       "    </g>\n",
       "  </g>\n",
       "</g>\n",
       "<defs>\n",
       "  <clipPath id=\"img-14c87751-13\">\n",
       "    <path d=\"M10.35,5 L129.46,5 129.46,86.04 10.35,86.04 \" />\n",
       "  </clipPath>\n",
       "</defs>\n",
       "</svg>\n"
      ],
      "text/plain": [
       "\"<Cropbox.Plot{Gadfly.Plot}>\""
      ]
     },
     "execution_count": 23,
     "metadata": {},
     "output_type": "execute_result"
    }
   ],
   "source": [
    "visualize(r15, :t, :W, kind = :line)"
   ]
  },
  {
   "cell_type": "code",
   "execution_count": 24,
   "metadata": {
    "tags": []
   },
   "outputs": [
    {
     "data": {
      "text/html": [
       "<p style=\"font-family: monospace\">Config for 1 system:</p>\n",
       "<table style=\"font-family: monospace\">\n",
       "<tr style=\"background-color: transparent\">\n",
       "<td colspan=\"3\" style=\"text-align: left; padding: 2px; padding-left: 20px; color: rebeccapurple\">Chan</th>\n",
       "</tr>\n",
       "<tr style=\"background-color: transparent\"><td style=\"text-align: left; padding: 2px; padding-left: 40px; color: royalblue\">D</td><td style=\"text-align: center; padding: 2px 10px 2px 10px; color: gray\">=</td><td style=\"text-align: left; padding: 2px;\">0</td></tr>\n",
       "<tr style=\"background-color: transparent\"><td style=\"text-align: left; padding: 2px; padding-left: 40px; color: royalblue\">B</td><td style=\"text-align: center; padding: 2px 10px 2px 10px; color: gray\">=</td><td style=\"text-align: left; padding: 2px;\">100</td></tr>\n",
       "</table>\n"
      ],
      "text/plain": [
       "Config for 1 system:\n",
       "  \u001B[95mChan\u001B[39m\n",
       "    \u001B[94mD\u001B[39m\u001B[90m = \u001B[39m0\n",
       "    \u001B[94mB\u001B[39m\u001B[90m = \u001B[39m100"
      ]
     },
     "execution_count": 24,
     "metadata": {},
     "output_type": "execute_result"
    }
   ],
   "source": [
    "c15L = @config Chan => (; D = 0, B = 100)"
   ]
  },
  {
   "cell_type": "code",
   "execution_count": 25,
   "metadata": {
    "tags": []
   },
   "outputs": [
    {
     "data": {
      "text/html": [
       "<p style=\"font-family: monospace\">Config for 1 system:</p>\n",
       "<table style=\"font-family: monospace\">\n",
       "<tr style=\"background-color: transparent\">\n",
       "<td colspan=\"3\" style=\"text-align: left; padding: 2px; padding-left: 20px; color: rebeccapurple\">Chan</th>\n",
       "</tr>\n",
       "<tr style=\"background-color: transparent\"><td style=\"text-align: left; padding: 2px; padding-left: 40px; color: royalblue\">D</td><td style=\"text-align: center; padding: 2px 10px 2px 10px; color: gray\">=</td><td style=\"text-align: left; padding: 2px;\">0.065</td></tr>\n",
       "<tr style=\"background-color: transparent\"><td style=\"text-align: left; padding: 2px; padding-left: 40px; color: royalblue\">B</td><td style=\"text-align: center; padding: 2px 10px 2px 10px; color: gray\">=</td><td style=\"text-align: left; padding: 2px;\">Inf</td></tr>\n",
       "</table>\n"
      ],
      "text/plain": [
       "Config for 1 system:\n",
       "  \u001B[95mChan\u001B[39m\n",
       "    \u001B[94mD\u001B[39m\u001B[90m = \u001B[39m0.065\n",
       "    \u001B[94mB\u001B[39m\u001B[90m = \u001B[39mInf"
      ]
     },
     "execution_count": 25,
     "metadata": {},
     "output_type": "execute_result"
    }
   ],
   "source": [
    "c15G = @config Chan => (; D = 0.065, B = Inf)"
   ]
  },
  {
   "cell_type": "code",
   "execution_count": 26,
   "metadata": {
    "tags": []
   },
   "outputs": [
    {
     "data": {
      "text/html": [
       "<p style=\"font-family: monospace\">Config for 1 system:</p>\n",
       "<table style=\"font-family: monospace\">\n",
       "<tr style=\"background-color: transparent\">\n",
       "<td colspan=\"3\" style=\"text-align: left; padding: 2px; padding-left: 20px; color: rebeccapurple\">Chan</th>\n",
       "</tr>\n",
       "<tr style=\"background-color: transparent\"><td style=\"text-align: left; padding: 2px; padding-left: 40px; color: royalblue\">D</td><td style=\"text-align: center; padding: 2px 10px 2px 10px; color: gray\">=</td><td style=\"text-align: left; padding: 2px;\">0.03</td></tr>\n",
       "<tr style=\"background-color: transparent\"><td style=\"text-align: left; padding: 2px; padding-left: 40px; color: royalblue\">B</td><td style=\"text-align: center; padding: 2px 10px 2px 10px; color: gray\">=</td><td style=\"text-align: left; padding: 2px;\">100</td></tr>\n",
       "</table>\n"
      ],
      "text/plain": [
       "Config for 1 system:\n",
       "  \u001B[95mChan\u001B[39m\n",
       "    \u001B[94mD\u001B[39m\u001B[90m = \u001B[39m0.03\n",
       "    \u001B[94mB\u001B[39m\u001B[90m = \u001B[39m100"
      ]
     },
     "execution_count": 26,
     "metadata": {},
     "output_type": "execute_result"
    }
   ],
   "source": [
    "c15I = @config Chan => (; D = 0.03, B = 100)"
   ]
  },
  {
   "cell_type": "code",
   "execution_count": 27,
   "metadata": {
    "tags": []
   },
   "outputs": [
    {
     "data": {
      "image/svg+xml": [
       "<?xml version=\"1.0\" encoding=\"UTF-8\"?>\n",
       "<svg xmlns=\"http://www.w3.org/2000/svg\"\n",
       "     xmlns:xlink=\"http://www.w3.org/1999/xlink\"\n",
       "     xmlns:gadfly=\"http://www.gadflyjl.org/ns\"\n",
       "     version=\"1.2\"\n",
       "     width=\"141.42mm\" height=\"100mm\" viewBox=\"0 0 141.42 100\"\n",
       "     stroke=\"none\"\n",
       "     fill=\"#000000\"\n",
       "     stroke-width=\"0.3\"\n",
       "     font-size=\"3.88\"\n",
       ">\n",
       "<defs>\n",
       "  <marker id=\"arrow\" markerWidth=\"15\" markerHeight=\"7\" refX=\"5\" refY=\"3.5\" orient=\"auto\" markerUnits=\"strokeWidth\">\n",
       "    <path d=\"M0,0 L15,3.5 L0,7 z\" stroke=\"context-stroke\" fill=\"context-stroke\"/>\n",
       "  </marker>\n",
       "</defs>\n",
       "<g stroke=\"#000000\" stroke-opacity=\"0.000\" fill=\"#FFFFFF\" id=\"img-81cbb617-1\">\n",
       "  <g transform=\"translate(70.71,50)\">\n",
       "    <path d=\"M-70.71,-50 L70.71,-50 70.71,50 -70.71,50  z\" class=\"primitive\"/>\n",
       "  </g>\n",
       "</g>\n",
       "<g class=\"plotroot xscalable yscalable\" id=\"img-81cbb617-2\">\n",
       "  <g font-size=\"3.53\" font-family=\"'PT Sans','Helvetica Neue','Helvetica',sans-serif\" fill=\"#564A55\" stroke=\"#000000\" stroke-opacity=\"0.000\" id=\"img-81cbb617-3\">\n",
       "    <g transform=\"translate(74.64,93.72)\">\n",
       "      <g class=\"primitive\">\n",
       "        <text text-anchor=\"middle\" dy=\"0.6em\">t</text>\n",
       "      </g>\n",
       "    </g>\n",
       "  </g>\n",
       "  <g class=\"guide xlabels\" font-size=\"2.82\" font-family=\"'PT Sans Caption','Helvetica Neue','Helvetica',sans-serif\" fill=\"#6C606B\" id=\"img-81cbb617-4\">\n",
       "    <g transform=\"translate(20.94,87.04)\">\n",
       "      <g class=\"primitive\">\n",
       "        <text text-anchor=\"middle\" dy=\"0.6em\">0</text>\n",
       "      </g>\n",
       "    </g>\n",
       "    <g transform=\"translate(42.42,87.04)\">\n",
       "      <g class=\"primitive\">\n",
       "        <text text-anchor=\"middle\" dy=\"0.6em\">10</text>\n",
       "      </g>\n",
       "    </g>\n",
       "    <g transform=\"translate(63.9,87.04)\">\n",
       "      <g class=\"primitive\">\n",
       "        <text text-anchor=\"middle\" dy=\"0.6em\">20</text>\n",
       "      </g>\n",
       "    </g>\n",
       "    <g transform=\"translate(85.38,87.04)\">\n",
       "      <g class=\"primitive\">\n",
       "        <text text-anchor=\"middle\" dy=\"0.6em\">30</text>\n",
       "      </g>\n",
       "    </g>\n",
       "    <g transform=\"translate(106.86,87.04)\">\n",
       "      <g class=\"primitive\">\n",
       "        <text text-anchor=\"middle\" dy=\"0.6em\">40</text>\n",
       "      </g>\n",
       "    </g>\n",
       "    <g transform=\"translate(128.33,87.04)\">\n",
       "      <g class=\"primitive\">\n",
       "        <text text-anchor=\"middle\" dy=\"0.6em\">50</text>\n",
       "      </g>\n",
       "    </g>\n",
       "  </g>\n",
       "  <g class=\"guide colorkey\" id=\"img-81cbb617-5\">\n",
       "    <g fill=\"#4C404B\" font-size=\"2.82\" font-family=\"'PT Sans','Helvetica Neue','Helvetica',sans-serif\" id=\"img-81cbb617-6\">\n",
       "      <g transform=\"translate(134.96,47.75)\" id=\"img-81cbb617-7\">\n",
       "        <g class=\"primitive\">\n",
       "          <text dy=\"0.35em\">L</text>\n",
       "        </g>\n",
       "      </g>\n",
       "    </g>\n",
       "    <g stroke-width=\"0.3\" id=\"img-81cbb617-8\">\n",
       "      <g stroke=\"#FFFFFF\" stroke-opacity=\"0.000\" fill-opacity=\"1\" fill=\"#00BFFF\" id=\"img-81cbb617-9\">\n",
       "        <g transform=\"translate(132.15,47.75)\" id=\"img-81cbb617-10\">\n",
       "          <circle cx=\"0\" cy=\"0\" r=\"0.7\" class=\"primitive\"/>\n",
       "        </g>\n",
       "      </g>\n",
       "    </g>\n",
       "    <g fill=\"#362A35\" font-size=\"3.18\" font-family=\"'PT Sans','Helvetica Neue','Helvetica',sans-serif\" stroke=\"#000000\" stroke-opacity=\"0.000\" id=\"img-81cbb617-11\">\n",
       "      <g transform=\"translate(131.33,44.44)\" id=\"img-81cbb617-12\">\n",
       "        <g class=\"primitive\">\n",
       "          <text dy=\"-0em\"></text>\n",
       "        </g>\n",
       "      </g>\n",
       "    </g>\n",
       "  </g>\n",
       "  <g clip-path=\"url(#img-81cbb617-13)\">\n",
       "    <g id=\"img-81cbb617-14\">\n",
       "      <g pointer-events=\"visible\" stroke-width=\"0.3\" fill=\"#000000\" fill-opacity=\"0.000\" stroke=\"#000000\" stroke-opacity=\"0.000\" class=\"guide background\" id=\"img-81cbb617-15\">\n",
       "        <g transform=\"translate(74.64,45.52)\" id=\"img-81cbb617-16\">\n",
       "          <path d=\"M-55.7,-40.52 L55.7,-40.52 55.7,40.52 -55.7,40.52  z\" class=\"primitive\"/>\n",
       "        </g>\n",
       "      </g>\n",
       "      <g class=\"guide ygridlines xfixed\" stroke-dasharray=\"0.5,0.5\" stroke-width=\"0.2\" stroke=\"#D0D0E0\" id=\"img-81cbb617-17\">\n",
       "        <g transform=\"translate(74.64,45.91)\" id=\"img-81cbb617-18\">\n",
       "          <path fill=\"none\" d=\"M-55.7,0 L55.7,0 \" class=\"primitive\"/>\n",
       "        </g>\n",
       "        <g transform=\"translate(74.64,7)\" id=\"img-81cbb617-19\">\n",
       "          <path fill=\"none\" d=\"M-55.7,0 L55.7,0 \" class=\"primitive\"/>\n",
       "        </g>\n",
       "      </g>\n",
       "      <g class=\"guide xgridlines yfixed\" stroke-dasharray=\"0.5,0.5\" stroke-width=\"0.2\" stroke=\"#D0D0E0\" id=\"img-81cbb617-20\">\n",
       "        <g transform=\"translate(20.94,45.52)\" id=\"img-81cbb617-21\">\n",
       "          <path fill=\"none\" d=\"M0,-40.52 L0,40.52 \" class=\"primitive\"/>\n",
       "        </g>\n",
       "        <g transform=\"translate(42.42,45.52)\" id=\"img-81cbb617-22\">\n",
       "          <path fill=\"none\" d=\"M0,-40.52 L0,40.52 \" class=\"primitive\"/>\n",
       "        </g>\n",
       "        <g transform=\"translate(63.9,45.52)\" id=\"img-81cbb617-23\">\n",
       "          <path fill=\"none\" d=\"M0,-40.52 L0,40.52 \" class=\"primitive\"/>\n",
       "        </g>\n",
       "        <g transform=\"translate(85.38,45.52)\" id=\"img-81cbb617-24\">\n",
       "          <path fill=\"none\" d=\"M0,-40.52 L0,40.52 \" class=\"primitive\"/>\n",
       "        </g>\n",
       "        <g transform=\"translate(106.86,45.52)\" id=\"img-81cbb617-25\">\n",
       "          <path fill=\"none\" d=\"M0,-40.52 L0,40.52 \" class=\"primitive\"/>\n",
       "        </g>\n",
       "        <g transform=\"translate(128.33,45.52)\" id=\"img-81cbb617-26\">\n",
       "          <path fill=\"none\" d=\"M0,-40.52 L0,40.52 \" class=\"primitive\"/>\n",
       "        </g>\n",
       "      </g>\n",
       "      <g class=\"plotpanel\" id=\"img-81cbb617-27\">\n",
       "        <metadata>\n",
       "          <boundingbox value=\"18.936666666666667mm 5.0mm 111.39802290397617mm 81.04333333333334mm\"/>\n",
       "          <unitbox value=\"-0.9311158371081869 102.5699822610652 51.862231674216375 -104.1399645221304\"/>\n",
       "        </metadata>\n",
       "        <g stroke-width=\"0.3\" fill=\"#000000\" fill-opacity=\"0.000\" class=\"geometry\" id=\"img-81cbb617-28\">\n",
       "          <g class=\"color_LCHab{Float32}(70.0f0,60.0f0,240.0f0)\" stroke-dasharray=\"none\" stroke-opacity=\"1\" stroke=\"#00BFFF\" id=\"img-81cbb617-29\">\n",
       "            <g transform=\"translate(74.64,33.13)\" id=\"img-81cbb617-30\">\n",
       "              <path fill=\"none\" d=\"M-53.7,50.92 L-51.55,50.69 -49.4,50.39 -47.26,50 -45.11,49.5 -42.96,48.87 -40.81,48.05 -38.66,47 -36.52,45.68 -34.37,44.02 -32.22,41.94 -30.07,39.38 -27.92,36.27 -25.78,32.56 -23.63,28.23 -21.48,23.32 -19.33,17.91 -17.18,12.17 -15.04,6.34 -12.89,0.66 -10.74,-4.61 -8.59,-9.28 -6.44,-13.24 -4.3,-16.47 -2.15,-19 0,-20.94 2.15,-22.4 4.3,-23.46 6.44,-24.23 8.59,-24.79 10.74,-25.18 12.89,-25.46 15.04,-25.66 17.18,-25.8 19.33,-25.9 21.48,-25.96 23.63,-26.01 25.78,-26.05 27.92,-26.07 30.07,-26.09 32.22,-26.1 34.37,-26.11 36.52,-26.11 38.66,-26.12 40.81,-26.12 42.96,-26.12 45.11,-26.12 47.26,-26.12 49.4,-26.12 51.55,-26.12 53.7,-26.12 \" class=\"primitive\"/>\n",
       "            </g>\n",
       "          </g>\n",
       "        </g>\n",
       "      </g>\n",
       "    </g>\n",
       "  </g>\n",
       "  <g class=\"guide ylabels\" font-size=\"2.82\" font-family=\"'PT Sans Caption','Helvetica Neue','Helvetica',sans-serif\" fill=\"#6C606B\" id=\"img-81cbb617-31\">\n",
       "    <g transform=\"translate(17.94,45.91)\" id=\"img-81cbb617-32\">\n",
       "      <g class=\"primitive\">\n",
       "        <text text-anchor=\"end\" dy=\"0.35em\">50</text>\n",
       "      </g>\n",
       "    </g>\n",
       "    <g transform=\"translate(17.94,7)\" id=\"img-81cbb617-33\">\n",
       "      <g class=\"primitive\">\n",
       "        <text text-anchor=\"end\" dy=\"0.35em\">100</text>\n",
       "      </g>\n",
       "    </g>\n",
       "  </g>\n",
       "  <g font-size=\"3.53\" font-family=\"'PT Sans','Helvetica Neue','Helvetica',sans-serif\" fill=\"#564A55\" stroke=\"#000000\" stroke-opacity=\"0.000\" id=\"img-81cbb617-34\">\n",
       "    <g transform=\"translate(9.92,45.52)\" id=\"img-81cbb617-35\">\n",
       "      <g class=\"primitive\">\n",
       "        <text text-anchor=\"end\" dy=\"0.35em\">W</text>\n",
       "      </g>\n",
       "    </g>\n",
       "  </g>\n",
       "</g>\n",
       "<defs>\n",
       "  <clipPath id=\"img-81cbb617-13\">\n",
       "    <path d=\"M18.94,5 L130.33,5 130.33,86.04 18.94,86.04 \" />\n",
       "  </clipPath>\n",
       "</defs>\n",
       "</svg>\n"
      ],
      "text/html": [
       "<?xml version=\"1.0\" encoding=\"UTF-8\"?>\n",
       "<svg xmlns=\"http://www.w3.org/2000/svg\"\n",
       "     xmlns:xlink=\"http://www.w3.org/1999/xlink\"\n",
       "     xmlns:gadfly=\"http://www.gadflyjl.org/ns\"\n",
       "     version=\"1.2\"\n",
       "     width=\"141.42mm\" height=\"100mm\" viewBox=\"0 0 141.42 100\"\n",
       "     stroke=\"none\"\n",
       "     fill=\"#000000\"\n",
       "     stroke-width=\"0.3\"\n",
       "     font-size=\"3.88\"\n",
       ">\n",
       "<defs>\n",
       "  <marker id=\"arrow\" markerWidth=\"15\" markerHeight=\"7\" refX=\"5\" refY=\"3.5\" orient=\"auto\" markerUnits=\"strokeWidth\">\n",
       "    <path d=\"M0,0 L15,3.5 L0,7 z\" stroke=\"context-stroke\" fill=\"context-stroke\"/>\n",
       "  </marker>\n",
       "</defs>\n",
       "<g stroke=\"#000000\" stroke-opacity=\"0.000\" fill=\"#FFFFFF\" id=\"img-ebc39524-1\">\n",
       "  <g transform=\"translate(70.71,50)\">\n",
       "    <path d=\"M-70.71,-50 L70.71,-50 70.71,50 -70.71,50  z\" class=\"primitive\"/>\n",
       "  </g>\n",
       "</g>\n",
       "<g class=\"plotroot xscalable yscalable\" id=\"img-ebc39524-2\">\n",
       "  <g font-size=\"3.53\" font-family=\"'PT Sans','Helvetica Neue','Helvetica',sans-serif\" fill=\"#564A55\" stroke=\"#000000\" stroke-opacity=\"0.000\" id=\"img-ebc39524-3\">\n",
       "    <g transform=\"translate(74.64,93.72)\">\n",
       "      <g class=\"primitive\">\n",
       "        <text text-anchor=\"middle\" dy=\"0.6em\">t</text>\n",
       "      </g>\n",
       "    </g>\n",
       "  </g>\n",
       "  <g class=\"guide xlabels\" font-size=\"2.82\" font-family=\"'PT Sans Caption','Helvetica Neue','Helvetica',sans-serif\" fill=\"#6C606B\" id=\"img-ebc39524-4\">\n",
       "    <g transform=\"translate(20.94,87.04)\">\n",
       "      <g class=\"primitive\">\n",
       "        <text text-anchor=\"middle\" dy=\"0.6em\">0</text>\n",
       "      </g>\n",
       "    </g>\n",
       "    <g transform=\"translate(42.42,87.04)\">\n",
       "      <g class=\"primitive\">\n",
       "        <text text-anchor=\"middle\" dy=\"0.6em\">10</text>\n",
       "      </g>\n",
       "    </g>\n",
       "    <g transform=\"translate(63.9,87.04)\">\n",
       "      <g class=\"primitive\">\n",
       "        <text text-anchor=\"middle\" dy=\"0.6em\">20</text>\n",
       "      </g>\n",
       "    </g>\n",
       "    <g transform=\"translate(85.38,87.04)\">\n",
       "      <g class=\"primitive\">\n",
       "        <text text-anchor=\"middle\" dy=\"0.6em\">30</text>\n",
       "      </g>\n",
       "    </g>\n",
       "    <g transform=\"translate(106.86,87.04)\">\n",
       "      <g class=\"primitive\">\n",
       "        <text text-anchor=\"middle\" dy=\"0.6em\">40</text>\n",
       "      </g>\n",
       "    </g>\n",
       "    <g transform=\"translate(128.33,87.04)\">\n",
       "      <g class=\"primitive\">\n",
       "        <text text-anchor=\"middle\" dy=\"0.6em\">50</text>\n",
       "      </g>\n",
       "    </g>\n",
       "  </g>\n",
       "  <g class=\"guide colorkey\" id=\"img-ebc39524-5\">\n",
       "    <g fill=\"#4C404B\" font-size=\"2.82\" font-family=\"'PT Sans','Helvetica Neue','Helvetica',sans-serif\" id=\"img-ebc39524-6\">\n",
       "      <g transform=\"translate(134.96,47.75)\" id=\"img-ebc39524-7\">\n",
       "        <g class=\"primitive\">\n",
       "          <text dy=\"0.35em\">L</text>\n",
       "        </g>\n",
       "      </g>\n",
       "    </g>\n",
       "    <g stroke-width=\"0.3\" id=\"img-ebc39524-8\">\n",
       "      <g stroke=\"#FFFFFF\" stroke-opacity=\"0.000\" fill-opacity=\"1\" fill=\"#00BFFF\" id=\"img-ebc39524-9\">\n",
       "        <g transform=\"translate(132.15,47.75)\" id=\"img-ebc39524-10\">\n",
       "          <circle cx=\"0\" cy=\"0\" r=\"0.7\" class=\"primitive\"/>\n",
       "        </g>\n",
       "      </g>\n",
       "    </g>\n",
       "    <g fill=\"#362A35\" font-size=\"3.18\" font-family=\"'PT Sans','Helvetica Neue','Helvetica',sans-serif\" stroke=\"#000000\" stroke-opacity=\"0.000\" id=\"img-ebc39524-11\">\n",
       "      <g transform=\"translate(131.33,44.44)\" id=\"img-ebc39524-12\">\n",
       "        <g class=\"primitive\">\n",
       "          <text dy=\"-0em\"></text>\n",
       "        </g>\n",
       "      </g>\n",
       "    </g>\n",
       "  </g>\n",
       "  <g clip-path=\"url(#img-ebc39524-13)\">\n",
       "    <g id=\"img-ebc39524-14\">\n",
       "      <g pointer-events=\"visible\" stroke-width=\"0.3\" fill=\"#000000\" fill-opacity=\"0.000\" stroke=\"#000000\" stroke-opacity=\"0.000\" class=\"guide background\" id=\"img-ebc39524-15\">\n",
       "        <g transform=\"translate(74.64,45.52)\" id=\"img-ebc39524-16\">\n",
       "          <path d=\"M-55.7,-40.52 L55.7,-40.52 55.7,40.52 -55.7,40.52  z\" class=\"primitive\"/>\n",
       "        </g>\n",
       "      </g>\n",
       "      <g class=\"guide ygridlines xfixed\" stroke-dasharray=\"0.5,0.5\" stroke-width=\"0.2\" stroke=\"#D0D0E0\" id=\"img-ebc39524-17\">\n",
       "        <g transform=\"translate(74.64,45.91)\" id=\"img-ebc39524-18\">\n",
       "          <path fill=\"none\" d=\"M-55.7,0 L55.7,0 \" class=\"primitive\"/>\n",
       "        </g>\n",
       "        <g transform=\"translate(74.64,7)\" id=\"img-ebc39524-19\">\n",
       "          <path fill=\"none\" d=\"M-55.7,0 L55.7,0 \" class=\"primitive\"/>\n",
       "        </g>\n",
       "      </g>\n",
       "      <g class=\"guide xgridlines yfixed\" stroke-dasharray=\"0.5,0.5\" stroke-width=\"0.2\" stroke=\"#D0D0E0\" id=\"img-ebc39524-20\">\n",
       "        <g transform=\"translate(20.94,45.52)\" id=\"img-ebc39524-21\">\n",
       "          <path fill=\"none\" d=\"M0,-40.52 L0,40.52 \" class=\"primitive\"/>\n",
       "        </g>\n",
       "        <g transform=\"translate(42.42,45.52)\" id=\"img-ebc39524-22\">\n",
       "          <path fill=\"none\" d=\"M0,-40.52 L0,40.52 \" class=\"primitive\"/>\n",
       "        </g>\n",
       "        <g transform=\"translate(63.9,45.52)\" id=\"img-ebc39524-23\">\n",
       "          <path fill=\"none\" d=\"M0,-40.52 L0,40.52 \" class=\"primitive\"/>\n",
       "        </g>\n",
       "        <g transform=\"translate(85.38,45.52)\" id=\"img-ebc39524-24\">\n",
       "          <path fill=\"none\" d=\"M0,-40.52 L0,40.52 \" class=\"primitive\"/>\n",
       "        </g>\n",
       "        <g transform=\"translate(106.86,45.52)\" id=\"img-ebc39524-25\">\n",
       "          <path fill=\"none\" d=\"M0,-40.52 L0,40.52 \" class=\"primitive\"/>\n",
       "        </g>\n",
       "        <g transform=\"translate(128.33,45.52)\" id=\"img-ebc39524-26\">\n",
       "          <path fill=\"none\" d=\"M0,-40.52 L0,40.52 \" class=\"primitive\"/>\n",
       "        </g>\n",
       "      </g>\n",
       "      <g class=\"plotpanel\" id=\"img-ebc39524-27\">\n",
       "        <metadata>\n",
       "          <boundingbox value=\"18.936666666666667mm 5.0mm 111.39802290397617mm 81.04333333333334mm\"/>\n",
       "          <unitbox value=\"-0.9311158371081869 102.5699822610652 51.862231674216375 -104.1399645221304\"/>\n",
       "        </metadata>\n",
       "        <g stroke-width=\"0.3\" fill=\"#000000\" fill-opacity=\"0.000\" class=\"geometry\" id=\"img-ebc39524-28\">\n",
       "          <g class=\"color_LCHab{Float32}(70.0f0,60.0f0,240.0f0)\" stroke-dasharray=\"none\" stroke-opacity=\"1\" stroke=\"#00BFFF\" id=\"img-ebc39524-29\">\n",
       "            <g transform=\"translate(74.64,33.13)\" id=\"img-ebc39524-30\">\n",
       "              <path fill=\"none\" d=\"M-53.7,50.92 L-51.55,50.69 -49.4,50.39 -47.26,50 -45.11,49.5 -42.96,48.87 -40.81,48.05 -38.66,47 -36.52,45.68 -34.37,44.02 -32.22,41.94 -30.07,39.38 -27.92,36.27 -25.78,32.56 -23.63,28.23 -21.48,23.32 -19.33,17.91 -17.18,12.17 -15.04,6.34 -12.89,0.66 -10.74,-4.61 -8.59,-9.28 -6.44,-13.24 -4.3,-16.47 -2.15,-19 0,-20.94 2.15,-22.4 4.3,-23.46 6.44,-24.23 8.59,-24.79 10.74,-25.18 12.89,-25.46 15.04,-25.66 17.18,-25.8 19.33,-25.9 21.48,-25.96 23.63,-26.01 25.78,-26.05 27.92,-26.07 30.07,-26.09 32.22,-26.1 34.37,-26.11 36.52,-26.11 38.66,-26.12 40.81,-26.12 42.96,-26.12 45.11,-26.12 47.26,-26.12 49.4,-26.12 51.55,-26.12 53.7,-26.12 \" class=\"primitive\"/>\n",
       "            </g>\n",
       "          </g>\n",
       "        </g>\n",
       "      </g>\n",
       "    </g>\n",
       "  </g>\n",
       "  <g class=\"guide ylabels\" font-size=\"2.82\" font-family=\"'PT Sans Caption','Helvetica Neue','Helvetica',sans-serif\" fill=\"#6C606B\" id=\"img-ebc39524-31\">\n",
       "    <g transform=\"translate(17.94,45.91)\" id=\"img-ebc39524-32\">\n",
       "      <g class=\"primitive\">\n",
       "        <text text-anchor=\"end\" dy=\"0.35em\">50</text>\n",
       "      </g>\n",
       "    </g>\n",
       "    <g transform=\"translate(17.94,7)\" id=\"img-ebc39524-33\">\n",
       "      <g class=\"primitive\">\n",
       "        <text text-anchor=\"end\" dy=\"0.35em\">100</text>\n",
       "      </g>\n",
       "    </g>\n",
       "  </g>\n",
       "  <g font-size=\"3.53\" font-family=\"'PT Sans','Helvetica Neue','Helvetica',sans-serif\" fill=\"#564A55\" stroke=\"#000000\" stroke-opacity=\"0.000\" id=\"img-ebc39524-34\">\n",
       "    <g transform=\"translate(9.92,45.52)\" id=\"img-ebc39524-35\">\n",
       "      <g class=\"primitive\">\n",
       "        <text text-anchor=\"end\" dy=\"0.35em\">W</text>\n",
       "      </g>\n",
       "    </g>\n",
       "  </g>\n",
       "</g>\n",
       "<defs>\n",
       "  <clipPath id=\"img-ebc39524-13\">\n",
       "    <path d=\"M18.94,5 L130.33,5 130.33,86.04 18.94,86.04 \" />\n",
       "  </clipPath>\n",
       "</defs>\n",
       "</svg>\n"
      ],
      "text/plain": [
       "\"<Cropbox.Plot{Gadfly.Plot}>\""
      ]
     },
     "execution_count": 27,
     "metadata": {},
     "output_type": "execute_result"
    }
   ],
   "source": [
    "p15 = visualize(Chan, :t, :W, config = c15L, stop = 50, kind = :line, name = \"L\")"
   ]
  },
  {
   "cell_type": "code",
   "execution_count": 28,
   "metadata": {
    "tags": []
   },
   "outputs": [
    {
     "data": {
      "image/svg+xml": [
       "<?xml version=\"1.0\" encoding=\"UTF-8\"?>\n",
       "<svg xmlns=\"http://www.w3.org/2000/svg\"\n",
       "     xmlns:xlink=\"http://www.w3.org/1999/xlink\"\n",
       "     xmlns:gadfly=\"http://www.gadflyjl.org/ns\"\n",
       "     version=\"1.2\"\n",
       "     width=\"141.42mm\" height=\"100mm\" viewBox=\"0 0 141.42 100\"\n",
       "     stroke=\"none\"\n",
       "     fill=\"#000000\"\n",
       "     stroke-width=\"0.3\"\n",
       "     font-size=\"3.88\"\n",
       ">\n",
       "<defs>\n",
       "  <marker id=\"arrow\" markerWidth=\"15\" markerHeight=\"7\" refX=\"5\" refY=\"3.5\" orient=\"auto\" markerUnits=\"strokeWidth\">\n",
       "    <path d=\"M0,0 L15,3.5 L0,7 z\" stroke=\"context-stroke\" fill=\"context-stroke\"/>\n",
       "  </marker>\n",
       "</defs>\n",
       "<g stroke=\"#000000\" stroke-opacity=\"0.000\" fill=\"#FFFFFF\" id=\"img-6ee1f7db-1\">\n",
       "  <g transform=\"translate(70.71,50)\">\n",
       "    <path d=\"M-70.71,-50 L70.71,-50 70.71,50 -70.71,50  z\" class=\"primitive\"/>\n",
       "  </g>\n",
       "</g>\n",
       "<g class=\"plotroot xscalable yscalable\" id=\"img-6ee1f7db-2\">\n",
       "  <g font-size=\"3.53\" font-family=\"'PT Sans','Helvetica Neue','Helvetica',sans-serif\" fill=\"#564A55\" stroke=\"#000000\" stroke-opacity=\"0.000\" id=\"img-6ee1f7db-3\">\n",
       "    <g transform=\"translate(74.5,93.72)\">\n",
       "      <g class=\"primitive\">\n",
       "        <text text-anchor=\"middle\" dy=\"0.6em\">t</text>\n",
       "      </g>\n",
       "    </g>\n",
       "  </g>\n",
       "  <g class=\"guide xlabels\" font-size=\"2.82\" font-family=\"'PT Sans Caption','Helvetica Neue','Helvetica',sans-serif\" fill=\"#6C606B\" id=\"img-6ee1f7db-4\">\n",
       "    <g transform=\"translate(20.94,87.04)\">\n",
       "      <g class=\"primitive\">\n",
       "        <text text-anchor=\"middle\" dy=\"0.6em\">0</text>\n",
       "      </g>\n",
       "    </g>\n",
       "    <g transform=\"translate(42.36,87.04)\">\n",
       "      <g class=\"primitive\">\n",
       "        <text text-anchor=\"middle\" dy=\"0.6em\">10</text>\n",
       "      </g>\n",
       "    </g>\n",
       "    <g transform=\"translate(63.79,87.04)\">\n",
       "      <g class=\"primitive\">\n",
       "        <text text-anchor=\"middle\" dy=\"0.6em\">20</text>\n",
       "      </g>\n",
       "    </g>\n",
       "    <g transform=\"translate(85.22,87.04)\">\n",
       "      <g class=\"primitive\">\n",
       "        <text text-anchor=\"middle\" dy=\"0.6em\">30</text>\n",
       "      </g>\n",
       "    </g>\n",
       "    <g transform=\"translate(106.64,87.04)\">\n",
       "      <g class=\"primitive\">\n",
       "        <text text-anchor=\"middle\" dy=\"0.6em\">40</text>\n",
       "      </g>\n",
       "    </g>\n",
       "    <g transform=\"translate(128.07,87.04)\">\n",
       "      <g class=\"primitive\">\n",
       "        <text text-anchor=\"middle\" dy=\"0.6em\">50</text>\n",
       "      </g>\n",
       "    </g>\n",
       "  </g>\n",
       "  <g class=\"guide colorkey\" id=\"img-6ee1f7db-5\">\n",
       "    <g fill=\"#4C404B\" font-size=\"2.82\" font-family=\"'PT Sans','Helvetica Neue','Helvetica',sans-serif\" id=\"img-6ee1f7db-6\">\n",
       "      <g transform=\"translate(134.69,45.94)\" id=\"img-6ee1f7db-7\">\n",
       "        <g class=\"primitive\">\n",
       "          <text dy=\"0.35em\">L</text>\n",
       "        </g>\n",
       "      </g>\n",
       "      <g transform=\"translate(134.69,49.56)\" id=\"img-6ee1f7db-8\">\n",
       "        <g class=\"primitive\">\n",
       "          <text dy=\"0.35em\">G</text>\n",
       "        </g>\n",
       "      </g>\n",
       "    </g>\n",
       "    <g stroke-width=\"0.3\" id=\"img-6ee1f7db-9\">\n",
       "      <g stroke=\"#FFFFFF\" stroke-opacity=\"0.000\" fill-opacity=\"1\" fill=\"#D4CA3A\" id=\"img-6ee1f7db-10\">\n",
       "        <g transform=\"translate(131.88,49.56)\" id=\"img-6ee1f7db-11\">\n",
       "          <circle cx=\"0\" cy=\"0\" r=\"0.7\" class=\"primitive\"/>\n",
       "        </g>\n",
       "      </g>\n",
       "      <g stroke=\"#FFFFFF\" stroke-opacity=\"0.000\" fill-opacity=\"1\" fill=\"#00BFFF\" id=\"img-6ee1f7db-12\">\n",
       "        <g transform=\"translate(131.88,45.94)\" id=\"img-6ee1f7db-13\">\n",
       "          <circle cx=\"0\" cy=\"0\" r=\"0.7\" class=\"primitive\"/>\n",
       "        </g>\n",
       "      </g>\n",
       "    </g>\n",
       "    <g fill=\"#362A35\" font-size=\"3.18\" font-family=\"'PT Sans','Helvetica Neue','Helvetica',sans-serif\" stroke=\"#000000\" stroke-opacity=\"0.000\" id=\"img-6ee1f7db-14\">\n",
       "      <g transform=\"translate(131.07,42.62)\" id=\"img-6ee1f7db-15\">\n",
       "        <g class=\"primitive\">\n",
       "          <text dy=\"-0em\"></text>\n",
       "        </g>\n",
       "      </g>\n",
       "    </g>\n",
       "  </g>\n",
       "  <g clip-path=\"url(#img-6ee1f7db-16)\">\n",
       "    <g id=\"img-6ee1f7db-17\">\n",
       "      <g pointer-events=\"visible\" stroke-width=\"0.3\" fill=\"#000000\" fill-opacity=\"0.000\" stroke=\"#000000\" stroke-opacity=\"0.000\" class=\"guide background\" id=\"img-6ee1f7db-18\">\n",
       "        <g transform=\"translate(74.5,45.52)\" id=\"img-6ee1f7db-19\">\n",
       "          <path d=\"M-55.57,-40.52 L55.57,-40.52 55.57,40.52 -55.57,40.52  z\" class=\"primitive\"/>\n",
       "        </g>\n",
       "      </g>\n",
       "      <g class=\"guide ygridlines xfixed\" stroke-dasharray=\"0.5,0.5\" stroke-width=\"0.2\" stroke=\"#D0D0E0\" id=\"img-6ee1f7db-20\">\n",
       "        <g transform=\"translate(74.5,45.91)\" id=\"img-6ee1f7db-21\">\n",
       "          <path fill=\"none\" d=\"M-55.57,0 L55.57,0 \" class=\"primitive\"/>\n",
       "        </g>\n",
       "        <g transform=\"translate(74.5,7)\" id=\"img-6ee1f7db-22\">\n",
       "          <path fill=\"none\" d=\"M-55.57,0 L55.57,0 \" class=\"primitive\"/>\n",
       "        </g>\n",
       "      </g>\n",
       "      <g class=\"guide xgridlines yfixed\" stroke-dasharray=\"0.5,0.5\" stroke-width=\"0.2\" stroke=\"#D0D0E0\" id=\"img-6ee1f7db-23\">\n",
       "        <g transform=\"translate(20.94,45.52)\" id=\"img-6ee1f7db-24\">\n",
       "          <path fill=\"none\" d=\"M0,-40.52 L0,40.52 \" class=\"primitive\"/>\n",
       "        </g>\n",
       "        <g transform=\"translate(42.36,45.52)\" id=\"img-6ee1f7db-25\">\n",
       "          <path fill=\"none\" d=\"M0,-40.52 L0,40.52 \" class=\"primitive\"/>\n",
       "        </g>\n",
       "        <g transform=\"translate(63.79,45.52)\" id=\"img-6ee1f7db-26\">\n",
       "          <path fill=\"none\" d=\"M0,-40.52 L0,40.52 \" class=\"primitive\"/>\n",
       "        </g>\n",
       "        <g transform=\"translate(85.22,45.52)\" id=\"img-6ee1f7db-27\">\n",
       "          <path fill=\"none\" d=\"M0,-40.52 L0,40.52 \" class=\"primitive\"/>\n",
       "        </g>\n",
       "        <g transform=\"translate(106.64,45.52)\" id=\"img-6ee1f7db-28\">\n",
       "          <path fill=\"none\" d=\"M0,-40.52 L0,40.52 \" class=\"primitive\"/>\n",
       "        </g>\n",
       "        <g transform=\"translate(128.07,45.52)\" id=\"img-6ee1f7db-29\">\n",
       "          <path fill=\"none\" d=\"M0,-40.52 L0,40.52 \" class=\"primitive\"/>\n",
       "        </g>\n",
       "      </g>\n",
       "      <g class=\"plotpanel\" id=\"img-6ee1f7db-30\">\n",
       "        <metadata>\n",
       "          <boundingbox value=\"18.936666666666667mm 5.0mm 111.13135623730952mm 81.04333333333334mm\"/>\n",
       "          <unitbox value=\"-0.9334335297546998 102.5699822610652 51.8668670595094 -104.1399645221304\"/>\n",
       "        </metadata>\n",
       "        <g stroke-width=\"0.3\" fill=\"#000000\" fill-opacity=\"0.000\" class=\"geometry\" id=\"img-6ee1f7db-31\">\n",
       "          <g class=\"color_LCHab{Float32}(70.0f0,60.0f0,240.0f0)\" stroke-dasharray=\"none\" stroke-opacity=\"1\" stroke=\"#00BFFF\" id=\"img-6ee1f7db-32\">\n",
       "            <g transform=\"translate(74.5,33.13)\" id=\"img-6ee1f7db-33\">\n",
       "              <path fill=\"none\" d=\"M-53.57,50.92 L-51.42,50.69 -49.28,50.39 -47.14,50 -45,49.5 -42.85,48.87 -40.71,48.05 -38.57,47 -36.42,45.68 -34.28,44.02 -32.14,41.94 -30,39.38 -27.85,36.27 -25.71,32.56 -23.57,28.23 -21.43,23.32 -19.28,17.91 -17.14,12.17 -15,6.34 -12.86,0.66 -10.71,-4.61 -8.57,-9.28 -6.43,-13.24 -4.29,-16.47 -2.14,-19 0,-20.94 2.14,-22.4 4.29,-23.46 6.43,-24.23 8.57,-24.79 10.71,-25.18 12.86,-25.46 15,-25.66 17.14,-25.8 19.28,-25.9 21.43,-25.96 23.57,-26.01 25.71,-26.05 27.85,-26.07 30,-26.09 32.14,-26.1 34.28,-26.11 36.42,-26.11 38.57,-26.12 40.71,-26.12 42.85,-26.12 45,-26.12 47.14,-26.12 49.28,-26.12 51.42,-26.12 53.57,-26.12 \" class=\"primitive\"/>\n",
       "            </g>\n",
       "          </g>\n",
       "        </g>\n",
       "        <g stroke-width=\"0.3\" fill=\"#000000\" fill-opacity=\"0.000\" class=\"geometry\" id=\"img-6ee1f7db-34\">\n",
       "          <g class=\"color_LCHab{Float32}(80.0f0,70.000015f0,100.43479f0)\" stroke-dasharray=\"none\" stroke-opacity=\"1\" stroke=\"#D4CA3A\" id=\"img-6ee1f7db-35\">\n",
       "            <g transform=\"translate(74.5,58.35)\" id=\"img-6ee1f7db-36\">\n",
       "              <path fill=\"none\" d=\"M-53.57,25.7 L-51.42,25.46 -49.28,25.18 -47.14,24.84 -45,24.43 -42.85,23.96 -40.71,23.42 -38.57,22.79 -36.42,22.09 -34.28,21.31 -32.14,20.45 -30,19.51 -27.85,18.48 -25.71,17.38 -23.57,16.21 -21.43,14.97 -19.28,13.67 -17.14,12.32 -15,10.91 -12.86,9.46 -10.71,7.97 -8.57,6.46 -6.43,4.93 -4.29,3.38 -2.14,1.83 0,0.27 2.14,-1.27 4.29,-2.81 6.43,-4.33 8.57,-5.83 10.71,-7.3 12.86,-8.74 15,-10.15 17.14,-11.52 19.28,-12.85 21.43,-14.15 23.57,-15.4 25.71,-16.61 27.85,-17.78 30,-18.9 32.14,-19.98 34.28,-21.01 36.42,-22.01 38.57,-22.95 40.71,-23.86 42.85,-24.73 45,-25.55 47.14,-26.34 49.28,-27.08 51.42,-27.79 53.57,-28.46 \" class=\"primitive\"/>\n",
       "            </g>\n",
       "          </g>\n",
       "        </g>\n",
       "      </g>\n",
       "    </g>\n",
       "  </g>\n",
       "  <g class=\"guide ylabels\" font-size=\"2.82\" font-family=\"'PT Sans Caption','Helvetica Neue','Helvetica',sans-serif\" fill=\"#6C606B\" id=\"img-6ee1f7db-37\">\n",
       "    <g transform=\"translate(17.94,45.91)\" id=\"img-6ee1f7db-38\">\n",
       "      <g class=\"primitive\">\n",
       "        <text text-anchor=\"end\" dy=\"0.35em\">50</text>\n",
       "      </g>\n",
       "    </g>\n",
       "    <g transform=\"translate(17.94,7)\" id=\"img-6ee1f7db-39\">\n",
       "      <g class=\"primitive\">\n",
       "        <text text-anchor=\"end\" dy=\"0.35em\">100</text>\n",
       "      </g>\n",
       "    </g>\n",
       "  </g>\n",
       "  <g font-size=\"3.53\" font-family=\"'PT Sans','Helvetica Neue','Helvetica',sans-serif\" fill=\"#564A55\" stroke=\"#000000\" stroke-opacity=\"0.000\" id=\"img-6ee1f7db-40\">\n",
       "    <g transform=\"translate(9.92,45.52)\" id=\"img-6ee1f7db-41\">\n",
       "      <g class=\"primitive\">\n",
       "        <text text-anchor=\"end\" dy=\"0.35em\">W</text>\n",
       "      </g>\n",
       "    </g>\n",
       "  </g>\n",
       "</g>\n",
       "<defs>\n",
       "  <clipPath id=\"img-6ee1f7db-16\">\n",
       "    <path d=\"M18.94,5 L130.07,5 130.07,86.04 18.94,86.04 \" />\n",
       "  </clipPath>\n",
       "</defs>\n",
       "</svg>\n"
      ],
      "text/html": [
       "<?xml version=\"1.0\" encoding=\"UTF-8\"?>\n",
       "<svg xmlns=\"http://www.w3.org/2000/svg\"\n",
       "     xmlns:xlink=\"http://www.w3.org/1999/xlink\"\n",
       "     xmlns:gadfly=\"http://www.gadflyjl.org/ns\"\n",
       "     version=\"1.2\"\n",
       "     width=\"141.42mm\" height=\"100mm\" viewBox=\"0 0 141.42 100\"\n",
       "     stroke=\"none\"\n",
       "     fill=\"#000000\"\n",
       "     stroke-width=\"0.3\"\n",
       "     font-size=\"3.88\"\n",
       ">\n",
       "<defs>\n",
       "  <marker id=\"arrow\" markerWidth=\"15\" markerHeight=\"7\" refX=\"5\" refY=\"3.5\" orient=\"auto\" markerUnits=\"strokeWidth\">\n",
       "    <path d=\"M0,0 L15,3.5 L0,7 z\" stroke=\"context-stroke\" fill=\"context-stroke\"/>\n",
       "  </marker>\n",
       "</defs>\n",
       "<g stroke=\"#000000\" stroke-opacity=\"0.000\" fill=\"#FFFFFF\" id=\"img-84fecb32-1\">\n",
       "  <g transform=\"translate(70.71,50)\">\n",
       "    <path d=\"M-70.71,-50 L70.71,-50 70.71,50 -70.71,50  z\" class=\"primitive\"/>\n",
       "  </g>\n",
       "</g>\n",
       "<g class=\"plotroot xscalable yscalable\" id=\"img-84fecb32-2\">\n",
       "  <g font-size=\"3.53\" font-family=\"'PT Sans','Helvetica Neue','Helvetica',sans-serif\" fill=\"#564A55\" stroke=\"#000000\" stroke-opacity=\"0.000\" id=\"img-84fecb32-3\">\n",
       "    <g transform=\"translate(74.5,93.72)\">\n",
       "      <g class=\"primitive\">\n",
       "        <text text-anchor=\"middle\" dy=\"0.6em\">t</text>\n",
       "      </g>\n",
       "    </g>\n",
       "  </g>\n",
       "  <g class=\"guide xlabels\" font-size=\"2.82\" font-family=\"'PT Sans Caption','Helvetica Neue','Helvetica',sans-serif\" fill=\"#6C606B\" id=\"img-84fecb32-4\">\n",
       "    <g transform=\"translate(20.94,87.04)\">\n",
       "      <g class=\"primitive\">\n",
       "        <text text-anchor=\"middle\" dy=\"0.6em\">0</text>\n",
       "      </g>\n",
       "    </g>\n",
       "    <g transform=\"translate(42.36,87.04)\">\n",
       "      <g class=\"primitive\">\n",
       "        <text text-anchor=\"middle\" dy=\"0.6em\">10</text>\n",
       "      </g>\n",
       "    </g>\n",
       "    <g transform=\"translate(63.79,87.04)\">\n",
       "      <g class=\"primitive\">\n",
       "        <text text-anchor=\"middle\" dy=\"0.6em\">20</text>\n",
       "      </g>\n",
       "    </g>\n",
       "    <g transform=\"translate(85.22,87.04)\">\n",
       "      <g class=\"primitive\">\n",
       "        <text text-anchor=\"middle\" dy=\"0.6em\">30</text>\n",
       "      </g>\n",
       "    </g>\n",
       "    <g transform=\"translate(106.64,87.04)\">\n",
       "      <g class=\"primitive\">\n",
       "        <text text-anchor=\"middle\" dy=\"0.6em\">40</text>\n",
       "      </g>\n",
       "    </g>\n",
       "    <g transform=\"translate(128.07,87.04)\">\n",
       "      <g class=\"primitive\">\n",
       "        <text text-anchor=\"middle\" dy=\"0.6em\">50</text>\n",
       "      </g>\n",
       "    </g>\n",
       "  </g>\n",
       "  <g class=\"guide colorkey\" id=\"img-84fecb32-5\">\n",
       "    <g fill=\"#4C404B\" font-size=\"2.82\" font-family=\"'PT Sans','Helvetica Neue','Helvetica',sans-serif\" id=\"img-84fecb32-6\">\n",
       "      <g transform=\"translate(134.69,45.94)\" id=\"img-84fecb32-7\">\n",
       "        <g class=\"primitive\">\n",
       "          <text dy=\"0.35em\">L</text>\n",
       "        </g>\n",
       "      </g>\n",
       "      <g transform=\"translate(134.69,49.56)\" id=\"img-84fecb32-8\">\n",
       "        <g class=\"primitive\">\n",
       "          <text dy=\"0.35em\">G</text>\n",
       "        </g>\n",
       "      </g>\n",
       "    </g>\n",
       "    <g stroke-width=\"0.3\" id=\"img-84fecb32-9\">\n",
       "      <g stroke=\"#FFFFFF\" stroke-opacity=\"0.000\" fill-opacity=\"1\" fill=\"#D4CA3A\" id=\"img-84fecb32-10\">\n",
       "        <g transform=\"translate(131.88,49.56)\" id=\"img-84fecb32-11\">\n",
       "          <circle cx=\"0\" cy=\"0\" r=\"0.7\" class=\"primitive\"/>\n",
       "        </g>\n",
       "      </g>\n",
       "      <g stroke=\"#FFFFFF\" stroke-opacity=\"0.000\" fill-opacity=\"1\" fill=\"#00BFFF\" id=\"img-84fecb32-12\">\n",
       "        <g transform=\"translate(131.88,45.94)\" id=\"img-84fecb32-13\">\n",
       "          <circle cx=\"0\" cy=\"0\" r=\"0.7\" class=\"primitive\"/>\n",
       "        </g>\n",
       "      </g>\n",
       "    </g>\n",
       "    <g fill=\"#362A35\" font-size=\"3.18\" font-family=\"'PT Sans','Helvetica Neue','Helvetica',sans-serif\" stroke=\"#000000\" stroke-opacity=\"0.000\" id=\"img-84fecb32-14\">\n",
       "      <g transform=\"translate(131.07,42.62)\" id=\"img-84fecb32-15\">\n",
       "        <g class=\"primitive\">\n",
       "          <text dy=\"-0em\"></text>\n",
       "        </g>\n",
       "      </g>\n",
       "    </g>\n",
       "  </g>\n",
       "  <g clip-path=\"url(#img-84fecb32-16)\">\n",
       "    <g id=\"img-84fecb32-17\">\n",
       "      <g pointer-events=\"visible\" stroke-width=\"0.3\" fill=\"#000000\" fill-opacity=\"0.000\" stroke=\"#000000\" stroke-opacity=\"0.000\" class=\"guide background\" id=\"img-84fecb32-18\">\n",
       "        <g transform=\"translate(74.5,45.52)\" id=\"img-84fecb32-19\">\n",
       "          <path d=\"M-55.57,-40.52 L55.57,-40.52 55.57,40.52 -55.57,40.52  z\" class=\"primitive\"/>\n",
       "        </g>\n",
       "      </g>\n",
       "      <g class=\"guide ygridlines xfixed\" stroke-dasharray=\"0.5,0.5\" stroke-width=\"0.2\" stroke=\"#D0D0E0\" id=\"img-84fecb32-20\">\n",
       "        <g transform=\"translate(74.5,45.91)\" id=\"img-84fecb32-21\">\n",
       "          <path fill=\"none\" d=\"M-55.57,0 L55.57,0 \" class=\"primitive\"/>\n",
       "        </g>\n",
       "        <g transform=\"translate(74.5,7)\" id=\"img-84fecb32-22\">\n",
       "          <path fill=\"none\" d=\"M-55.57,0 L55.57,0 \" class=\"primitive\"/>\n",
       "        </g>\n",
       "      </g>\n",
       "      <g class=\"guide xgridlines yfixed\" stroke-dasharray=\"0.5,0.5\" stroke-width=\"0.2\" stroke=\"#D0D0E0\" id=\"img-84fecb32-23\">\n",
       "        <g transform=\"translate(20.94,45.52)\" id=\"img-84fecb32-24\">\n",
       "          <path fill=\"none\" d=\"M0,-40.52 L0,40.52 \" class=\"primitive\"/>\n",
       "        </g>\n",
       "        <g transform=\"translate(42.36,45.52)\" id=\"img-84fecb32-25\">\n",
       "          <path fill=\"none\" d=\"M0,-40.52 L0,40.52 \" class=\"primitive\"/>\n",
       "        </g>\n",
       "        <g transform=\"translate(63.79,45.52)\" id=\"img-84fecb32-26\">\n",
       "          <path fill=\"none\" d=\"M0,-40.52 L0,40.52 \" class=\"primitive\"/>\n",
       "        </g>\n",
       "        <g transform=\"translate(85.22,45.52)\" id=\"img-84fecb32-27\">\n",
       "          <path fill=\"none\" d=\"M0,-40.52 L0,40.52 \" class=\"primitive\"/>\n",
       "        </g>\n",
       "        <g transform=\"translate(106.64,45.52)\" id=\"img-84fecb32-28\">\n",
       "          <path fill=\"none\" d=\"M0,-40.52 L0,40.52 \" class=\"primitive\"/>\n",
       "        </g>\n",
       "        <g transform=\"translate(128.07,45.52)\" id=\"img-84fecb32-29\">\n",
       "          <path fill=\"none\" d=\"M0,-40.52 L0,40.52 \" class=\"primitive\"/>\n",
       "        </g>\n",
       "      </g>\n",
       "      <g class=\"plotpanel\" id=\"img-84fecb32-30\">\n",
       "        <metadata>\n",
       "          <boundingbox value=\"18.936666666666667mm 5.0mm 111.13135623730952mm 81.04333333333334mm\"/>\n",
       "          <unitbox value=\"-0.9334335297546998 102.5699822610652 51.8668670595094 -104.1399645221304\"/>\n",
       "        </metadata>\n",
       "        <g stroke-width=\"0.3\" fill=\"#000000\" fill-opacity=\"0.000\" class=\"geometry\" id=\"img-84fecb32-31\">\n",
       "          <g class=\"color_LCHab{Float32}(70.0f0,60.0f0,240.0f0)\" stroke-dasharray=\"none\" stroke-opacity=\"1\" stroke=\"#00BFFF\" id=\"img-84fecb32-32\">\n",
       "            <g transform=\"translate(74.5,33.13)\" id=\"img-84fecb32-33\">\n",
       "              <path fill=\"none\" d=\"M-53.57,50.92 L-51.42,50.69 -49.28,50.39 -47.14,50 -45,49.5 -42.85,48.87 -40.71,48.05 -38.57,47 -36.42,45.68 -34.28,44.02 -32.14,41.94 -30,39.38 -27.85,36.27 -25.71,32.56 -23.57,28.23 -21.43,23.32 -19.28,17.91 -17.14,12.17 -15,6.34 -12.86,0.66 -10.71,-4.61 -8.57,-9.28 -6.43,-13.24 -4.29,-16.47 -2.14,-19 0,-20.94 2.14,-22.4 4.29,-23.46 6.43,-24.23 8.57,-24.79 10.71,-25.18 12.86,-25.46 15,-25.66 17.14,-25.8 19.28,-25.9 21.43,-25.96 23.57,-26.01 25.71,-26.05 27.85,-26.07 30,-26.09 32.14,-26.1 34.28,-26.11 36.42,-26.11 38.57,-26.12 40.71,-26.12 42.85,-26.12 45,-26.12 47.14,-26.12 49.28,-26.12 51.42,-26.12 53.57,-26.12 \" class=\"primitive\"/>\n",
       "            </g>\n",
       "          </g>\n",
       "        </g>\n",
       "        <g stroke-width=\"0.3\" fill=\"#000000\" fill-opacity=\"0.000\" class=\"geometry\" id=\"img-84fecb32-34\">\n",
       "          <g class=\"color_LCHab{Float32}(80.0f0,70.000015f0,100.43479f0)\" stroke-dasharray=\"none\" stroke-opacity=\"1\" stroke=\"#D4CA3A\" id=\"img-84fecb32-35\">\n",
       "            <g transform=\"translate(74.5,58.35)\" id=\"img-84fecb32-36\">\n",
       "              <path fill=\"none\" d=\"M-53.57,25.7 L-51.42,25.46 -49.28,25.18 -47.14,24.84 -45,24.43 -42.85,23.96 -40.71,23.42 -38.57,22.79 -36.42,22.09 -34.28,21.31 -32.14,20.45 -30,19.51 -27.85,18.48 -25.71,17.38 -23.57,16.21 -21.43,14.97 -19.28,13.67 -17.14,12.32 -15,10.91 -12.86,9.46 -10.71,7.97 -8.57,6.46 -6.43,4.93 -4.29,3.38 -2.14,1.83 0,0.27 2.14,-1.27 4.29,-2.81 6.43,-4.33 8.57,-5.83 10.71,-7.3 12.86,-8.74 15,-10.15 17.14,-11.52 19.28,-12.85 21.43,-14.15 23.57,-15.4 25.71,-16.61 27.85,-17.78 30,-18.9 32.14,-19.98 34.28,-21.01 36.42,-22.01 38.57,-22.95 40.71,-23.86 42.85,-24.73 45,-25.55 47.14,-26.34 49.28,-27.08 51.42,-27.79 53.57,-28.46 \" class=\"primitive\"/>\n",
       "            </g>\n",
       "          </g>\n",
       "        </g>\n",
       "      </g>\n",
       "    </g>\n",
       "  </g>\n",
       "  <g class=\"guide ylabels\" font-size=\"2.82\" font-family=\"'PT Sans Caption','Helvetica Neue','Helvetica',sans-serif\" fill=\"#6C606B\" id=\"img-84fecb32-37\">\n",
       "    <g transform=\"translate(17.94,45.91)\" id=\"img-84fecb32-38\">\n",
       "      <g class=\"primitive\">\n",
       "        <text text-anchor=\"end\" dy=\"0.35em\">50</text>\n",
       "      </g>\n",
       "    </g>\n",
       "    <g transform=\"translate(17.94,7)\" id=\"img-84fecb32-39\">\n",
       "      <g class=\"primitive\">\n",
       "        <text text-anchor=\"end\" dy=\"0.35em\">100</text>\n",
       "      </g>\n",
       "    </g>\n",
       "  </g>\n",
       "  <g font-size=\"3.53\" font-family=\"'PT Sans','Helvetica Neue','Helvetica',sans-serif\" fill=\"#564A55\" stroke=\"#000000\" stroke-opacity=\"0.000\" id=\"img-84fecb32-40\">\n",
       "    <g transform=\"translate(9.92,45.52)\" id=\"img-84fecb32-41\">\n",
       "      <g class=\"primitive\">\n",
       "        <text text-anchor=\"end\" dy=\"0.35em\">W</text>\n",
       "      </g>\n",
       "    </g>\n",
       "  </g>\n",
       "</g>\n",
       "<defs>\n",
       "  <clipPath id=\"img-84fecb32-16\">\n",
       "    <path d=\"M18.94,5 L130.07,5 130.07,86.04 18.94,86.04 \" />\n",
       "  </clipPath>\n",
       "</defs>\n",
       "</svg>\n"
      ],
      "text/plain": [
       "\"<Cropbox.Plot{Gadfly.Plot}>\""
      ]
     },
     "execution_count": 28,
     "metadata": {},
     "output_type": "execute_result"
    }
   ],
   "source": [
    "visualize!(p15, Chan, :t, :W, config = c15G, stop = 50, kind = :line, name = \"G\")"
   ]
  },
  {
   "cell_type": "code",
   "execution_count": 29,
   "metadata": {
    "tags": []
   },
   "outputs": [
    {
     "data": {
      "image/svg+xml": [
       "<?xml version=\"1.0\" encoding=\"UTF-8\"?>\n",
       "<svg xmlns=\"http://www.w3.org/2000/svg\"\n",
       "     xmlns:xlink=\"http://www.w3.org/1999/xlink\"\n",
       "     xmlns:gadfly=\"http://www.gadflyjl.org/ns\"\n",
       "     version=\"1.2\"\n",
       "     width=\"141.42mm\" height=\"100mm\" viewBox=\"0 0 141.42 100\"\n",
       "     stroke=\"none\"\n",
       "     fill=\"#000000\"\n",
       "     stroke-width=\"0.3\"\n",
       "     font-size=\"3.88\"\n",
       ">\n",
       "<defs>\n",
       "  <marker id=\"arrow\" markerWidth=\"15\" markerHeight=\"7\" refX=\"5\" refY=\"3.5\" orient=\"auto\" markerUnits=\"strokeWidth\">\n",
       "    <path d=\"M0,0 L15,3.5 L0,7 z\" stroke=\"context-stroke\" fill=\"context-stroke\"/>\n",
       "  </marker>\n",
       "</defs>\n",
       "<g stroke=\"#000000\" stroke-opacity=\"0.000\" fill=\"#FFFFFF\" id=\"img-0afdd8bc-1\">\n",
       "  <g transform=\"translate(70.71,50)\">\n",
       "    <path d=\"M-70.71,-50 L70.71,-50 70.71,50 -70.71,50  z\" class=\"primitive\"/>\n",
       "  </g>\n",
       "</g>\n",
       "<g class=\"plotroot xscalable yscalable\" id=\"img-0afdd8bc-2\">\n",
       "  <g font-size=\"3.53\" font-family=\"'PT Sans','Helvetica Neue','Helvetica',sans-serif\" fill=\"#564A55\" stroke=\"#000000\" stroke-opacity=\"0.000\" id=\"img-0afdd8bc-3\">\n",
       "    <g transform=\"translate(74.5,93.72)\">\n",
       "      <g class=\"primitive\">\n",
       "        <text text-anchor=\"middle\" dy=\"0.6em\">t</text>\n",
       "      </g>\n",
       "    </g>\n",
       "  </g>\n",
       "  <g class=\"guide xlabels\" font-size=\"2.82\" font-family=\"'PT Sans Caption','Helvetica Neue','Helvetica',sans-serif\" fill=\"#6C606B\" id=\"img-0afdd8bc-4\">\n",
       "    <g transform=\"translate(20.94,87.04)\">\n",
       "      <g class=\"primitive\">\n",
       "        <text text-anchor=\"middle\" dy=\"0.6em\">0</text>\n",
       "      </g>\n",
       "    </g>\n",
       "    <g transform=\"translate(42.36,87.04)\">\n",
       "      <g class=\"primitive\">\n",
       "        <text text-anchor=\"middle\" dy=\"0.6em\">10</text>\n",
       "      </g>\n",
       "    </g>\n",
       "    <g transform=\"translate(63.79,87.04)\">\n",
       "      <g class=\"primitive\">\n",
       "        <text text-anchor=\"middle\" dy=\"0.6em\">20</text>\n",
       "      </g>\n",
       "    </g>\n",
       "    <g transform=\"translate(85.22,87.04)\">\n",
       "      <g class=\"primitive\">\n",
       "        <text text-anchor=\"middle\" dy=\"0.6em\">30</text>\n",
       "      </g>\n",
       "    </g>\n",
       "    <g transform=\"translate(106.64,87.04)\">\n",
       "      <g class=\"primitive\">\n",
       "        <text text-anchor=\"middle\" dy=\"0.6em\">40</text>\n",
       "      </g>\n",
       "    </g>\n",
       "    <g transform=\"translate(128.07,87.04)\">\n",
       "      <g class=\"primitive\">\n",
       "        <text text-anchor=\"middle\" dy=\"0.6em\">50</text>\n",
       "      </g>\n",
       "    </g>\n",
       "  </g>\n",
       "  <g class=\"guide colorkey\" id=\"img-0afdd8bc-5\">\n",
       "    <g fill=\"#4C404B\" font-size=\"2.82\" font-family=\"'PT Sans','Helvetica Neue','Helvetica',sans-serif\" id=\"img-0afdd8bc-6\">\n",
       "      <g transform=\"translate(134.69,44.12)\" id=\"img-0afdd8bc-7\">\n",
       "        <g class=\"primitive\">\n",
       "          <text dy=\"0.35em\">L</text>\n",
       "        </g>\n",
       "      </g>\n",
       "      <g transform=\"translate(134.69,47.75)\" id=\"img-0afdd8bc-8\">\n",
       "        <g class=\"primitive\">\n",
       "          <text dy=\"0.35em\">G</text>\n",
       "        </g>\n",
       "      </g>\n",
       "      <g transform=\"translate(134.69,51.38)\" id=\"img-0afdd8bc-9\">\n",
       "        <g class=\"primitive\">\n",
       "          <text dy=\"0.35em\">I</text>\n",
       "        </g>\n",
       "      </g>\n",
       "    </g>\n",
       "    <g stroke-width=\"0.3\" id=\"img-0afdd8bc-10\">\n",
       "      <g stroke=\"#FFFFFF\" stroke-opacity=\"0.000\" fill-opacity=\"1\" fill=\"#FF6DAE\" id=\"img-0afdd8bc-11\">\n",
       "        <g transform=\"translate(131.88,51.38)\" id=\"img-0afdd8bc-12\">\n",
       "          <circle cx=\"0\" cy=\"0\" r=\"0.7\" class=\"primitive\"/>\n",
       "        </g>\n",
       "      </g>\n",
       "      <g stroke=\"#FFFFFF\" stroke-opacity=\"0.000\" fill-opacity=\"1\" fill=\"#D4CA3A\" id=\"img-0afdd8bc-13\">\n",
       "        <g transform=\"translate(131.88,47.75)\" id=\"img-0afdd8bc-14\">\n",
       "          <circle cx=\"0\" cy=\"0\" r=\"0.7\" class=\"primitive\"/>\n",
       "        </g>\n",
       "      </g>\n",
       "      <g stroke=\"#FFFFFF\" stroke-opacity=\"0.000\" fill-opacity=\"1\" fill=\"#00BFFF\" id=\"img-0afdd8bc-15\">\n",
       "        <g transform=\"translate(131.88,44.12)\" id=\"img-0afdd8bc-16\">\n",
       "          <circle cx=\"0\" cy=\"0\" r=\"0.7\" class=\"primitive\"/>\n",
       "        </g>\n",
       "      </g>\n",
       "    </g>\n",
       "    <g fill=\"#362A35\" font-size=\"3.18\" font-family=\"'PT Sans','Helvetica Neue','Helvetica',sans-serif\" stroke=\"#000000\" stroke-opacity=\"0.000\" id=\"img-0afdd8bc-17\">\n",
       "      <g transform=\"translate(131.07,40.81)\" id=\"img-0afdd8bc-18\">\n",
       "        <g class=\"primitive\">\n",
       "          <text dy=\"-0em\"></text>\n",
       "        </g>\n",
       "      </g>\n",
       "    </g>\n",
       "  </g>\n",
       "  <g clip-path=\"url(#img-0afdd8bc-19)\">\n",
       "    <g id=\"img-0afdd8bc-20\">\n",
       "      <g pointer-events=\"visible\" stroke-width=\"0.3\" fill=\"#000000\" fill-opacity=\"0.000\" stroke=\"#000000\" stroke-opacity=\"0.000\" class=\"guide background\" id=\"img-0afdd8bc-21\">\n",
       "        <g transform=\"translate(74.5,45.52)\" id=\"img-0afdd8bc-22\">\n",
       "          <path d=\"M-55.57,-40.52 L55.57,-40.52 55.57,40.52 -55.57,40.52  z\" class=\"primitive\"/>\n",
       "        </g>\n",
       "      </g>\n",
       "      <g class=\"guide ygridlines xfixed\" stroke-dasharray=\"0.5,0.5\" stroke-width=\"0.2\" stroke=\"#D0D0E0\" id=\"img-0afdd8bc-23\">\n",
       "        <g transform=\"translate(74.5,45.91)\" id=\"img-0afdd8bc-24\">\n",
       "          <path fill=\"none\" d=\"M-55.57,0 L55.57,0 \" class=\"primitive\"/>\n",
       "        </g>\n",
       "        <g transform=\"translate(74.5,7)\" id=\"img-0afdd8bc-25\">\n",
       "          <path fill=\"none\" d=\"M-55.57,0 L55.57,0 \" class=\"primitive\"/>\n",
       "        </g>\n",
       "      </g>\n",
       "      <g class=\"guide xgridlines yfixed\" stroke-dasharray=\"0.5,0.5\" stroke-width=\"0.2\" stroke=\"#D0D0E0\" id=\"img-0afdd8bc-26\">\n",
       "        <g transform=\"translate(20.94,45.52)\" id=\"img-0afdd8bc-27\">\n",
       "          <path fill=\"none\" d=\"M0,-40.52 L0,40.52 \" class=\"primitive\"/>\n",
       "        </g>\n",
       "        <g transform=\"translate(42.36,45.52)\" id=\"img-0afdd8bc-28\">\n",
       "          <path fill=\"none\" d=\"M0,-40.52 L0,40.52 \" class=\"primitive\"/>\n",
       "        </g>\n",
       "        <g transform=\"translate(63.79,45.52)\" id=\"img-0afdd8bc-29\">\n",
       "          <path fill=\"none\" d=\"M0,-40.52 L0,40.52 \" class=\"primitive\"/>\n",
       "        </g>\n",
       "        <g transform=\"translate(85.22,45.52)\" id=\"img-0afdd8bc-30\">\n",
       "          <path fill=\"none\" d=\"M0,-40.52 L0,40.52 \" class=\"primitive\"/>\n",
       "        </g>\n",
       "        <g transform=\"translate(106.64,45.52)\" id=\"img-0afdd8bc-31\">\n",
       "          <path fill=\"none\" d=\"M0,-40.52 L0,40.52 \" class=\"primitive\"/>\n",
       "        </g>\n",
       "        <g transform=\"translate(128.07,45.52)\" id=\"img-0afdd8bc-32\">\n",
       "          <path fill=\"none\" d=\"M0,-40.52 L0,40.52 \" class=\"primitive\"/>\n",
       "        </g>\n",
       "      </g>\n",
       "      <g class=\"plotpanel\" id=\"img-0afdd8bc-33\">\n",
       "        <metadata>\n",
       "          <boundingbox value=\"18.936666666666667mm 5.0mm 111.13135623730952mm 81.04333333333335mm\"/>\n",
       "          <unitbox value=\"-0.9334335297546998 102.5699822610652 51.8668670595094 -104.1399645221304\"/>\n",
       "        </metadata>\n",
       "        <g stroke-width=\"0.3\" fill=\"#000000\" fill-opacity=\"0.000\" class=\"geometry\" id=\"img-0afdd8bc-34\">\n",
       "          <g class=\"color_LCHab{Float32}(70.0f0,60.0f0,240.0f0)\" stroke-dasharray=\"none\" stroke-opacity=\"1\" stroke=\"#00BFFF\" id=\"img-0afdd8bc-35\">\n",
       "            <g transform=\"translate(74.5,33.13)\" id=\"img-0afdd8bc-36\">\n",
       "              <path fill=\"none\" d=\"M-53.57,50.92 L-51.42,50.69 -49.28,50.39 -47.14,50 -45,49.5 -42.85,48.87 -40.71,48.05 -38.57,47 -36.42,45.68 -34.28,44.02 -32.14,41.94 -30,39.38 -27.85,36.27 -25.71,32.56 -23.57,28.23 -21.43,23.32 -19.28,17.91 -17.14,12.17 -15,6.34 -12.86,0.66 -10.71,-4.61 -8.57,-9.28 -6.43,-13.24 -4.29,-16.47 -2.14,-19 0,-20.94 2.14,-22.4 4.29,-23.46 6.43,-24.23 8.57,-24.79 10.71,-25.18 12.86,-25.46 15,-25.66 17.14,-25.8 19.28,-25.9 21.43,-25.96 23.57,-26.01 25.71,-26.05 27.85,-26.07 30,-26.09 32.14,-26.1 34.28,-26.11 36.42,-26.11 38.57,-26.12 40.71,-26.12 42.85,-26.12 45,-26.12 47.14,-26.12 49.28,-26.12 51.42,-26.12 53.57,-26.12 \" class=\"primitive\"/>\n",
       "            </g>\n",
       "          </g>\n",
       "        </g>\n",
       "        <g stroke-width=\"0.3\" fill=\"#000000\" fill-opacity=\"0.000\" class=\"geometry\" id=\"img-0afdd8bc-37\">\n",
       "          <g class=\"color_LCHab{Float32}(80.0f0,70.000015f0,100.43479f0)\" stroke-dasharray=\"none\" stroke-opacity=\"1\" stroke=\"#D4CA3A\" id=\"img-0afdd8bc-38\">\n",
       "            <g transform=\"translate(74.5,58.35)\" id=\"img-0afdd8bc-39\">\n",
       "              <path fill=\"none\" d=\"M-53.57,25.7 L-51.42,25.46 -49.28,25.18 -47.14,24.84 -45,24.43 -42.85,23.96 -40.71,23.42 -38.57,22.79 -36.42,22.09 -34.28,21.31 -32.14,20.45 -30,19.51 -27.85,18.48 -25.71,17.38 -23.57,16.21 -21.43,14.97 -19.28,13.67 -17.14,12.32 -15,10.91 -12.86,9.46 -10.71,7.97 -8.57,6.46 -6.43,4.93 -4.29,3.38 -2.14,1.83 0,0.27 2.14,-1.27 4.29,-2.81 6.43,-4.33 8.57,-5.83 10.71,-7.3 12.86,-8.74 15,-10.15 17.14,-11.52 19.28,-12.85 21.43,-14.15 23.57,-15.4 25.71,-16.61 27.85,-17.78 30,-18.9 32.14,-19.98 34.28,-21.01 36.42,-22.01 38.57,-22.95 40.71,-23.86 42.85,-24.73 45,-25.55 47.14,-26.34 49.28,-27.08 51.42,-27.79 53.57,-28.46 \" class=\"primitive\"/>\n",
       "            </g>\n",
       "          </g>\n",
       "        </g>\n",
       "        <g stroke-width=\"0.3\" fill=\"#000000\" fill-opacity=\"0.000\" class=\"geometry\" id=\"img-0afdd8bc-40\">\n",
       "          <g class=\"color_LCHab{Float32}(65.89944f0,62.21457f0,353.99814f0)\" stroke-dasharray=\"none\" stroke-opacity=\"1\" stroke=\"#FF6DAE\" id=\"img-0afdd8bc-41\">\n",
       "            <g transform=\"translate(74.5,44.12)\" id=\"img-0afdd8bc-42\">\n",
       "              <path fill=\"none\" d=\"M-53.57,39.92 L-51.42,39.69 -49.28,39.4 -47.14,39.04 -45,38.6 -42.85,38.05 -40.71,37.39 -38.57,36.59 -36.42,35.65 -34.28,34.53 -32.14,33.23 -30,31.73 -27.85,30.02 -25.71,28.09 -23.57,25.95 -21.43,23.59 -19.28,21.04 -17.14,18.31 -15,15.43 -12.86,12.45 -10.71,9.4 -8.57,6.32 -6.43,3.25 -4.29,0.24 -2.14,-2.68 0,-5.49 2.14,-8.15 4.29,-10.65 6.43,-12.98 8.57,-15.14 10.71,-17.12 12.86,-18.93 15,-20.58 17.14,-22.08 19.28,-23.43 21.43,-24.65 23.57,-25.75 25.71,-26.74 27.85,-27.63 30,-28.43 32.14,-29.15 34.28,-29.79 36.42,-30.38 38.57,-30.9 40.71,-31.37 42.85,-31.8 45,-32.18 47.14,-32.53 49.28,-32.85 51.42,-33.14 53.57,-33.4 \" class=\"primitive\"/>\n",
       "            </g>\n",
       "          </g>\n",
       "        </g>\n",
       "      </g>\n",
       "    </g>\n",
       "  </g>\n",
       "  <g class=\"guide ylabels\" font-size=\"2.82\" font-family=\"'PT Sans Caption','Helvetica Neue','Helvetica',sans-serif\" fill=\"#6C606B\" id=\"img-0afdd8bc-43\">\n",
       "    <g transform=\"translate(17.94,45.91)\" id=\"img-0afdd8bc-44\">\n",
       "      <g class=\"primitive\">\n",
       "        <text text-anchor=\"end\" dy=\"0.35em\">50</text>\n",
       "      </g>\n",
       "    </g>\n",
       "    <g transform=\"translate(17.94,7)\" id=\"img-0afdd8bc-45\">\n",
       "      <g class=\"primitive\">\n",
       "        <text text-anchor=\"end\" dy=\"0.35em\">100</text>\n",
       "      </g>\n",
       "    </g>\n",
       "  </g>\n",
       "  <g font-size=\"3.53\" font-family=\"'PT Sans','Helvetica Neue','Helvetica',sans-serif\" fill=\"#564A55\" stroke=\"#000000\" stroke-opacity=\"0.000\" id=\"img-0afdd8bc-46\">\n",
       "    <g transform=\"translate(9.92,45.52)\" id=\"img-0afdd8bc-47\">\n",
       "      <g class=\"primitive\">\n",
       "        <text text-anchor=\"end\" dy=\"0.35em\">W</text>\n",
       "      </g>\n",
       "    </g>\n",
       "  </g>\n",
       "</g>\n",
       "<defs>\n",
       "  <clipPath id=\"img-0afdd8bc-19\">\n",
       "    <path d=\"M18.94,5 L130.07,5 130.07,86.04 18.94,86.04 \" />\n",
       "  </clipPath>\n",
       "</defs>\n",
       "</svg>\n"
      ],
      "text/html": [
       "<?xml version=\"1.0\" encoding=\"UTF-8\"?>\n",
       "<svg xmlns=\"http://www.w3.org/2000/svg\"\n",
       "     xmlns:xlink=\"http://www.w3.org/1999/xlink\"\n",
       "     xmlns:gadfly=\"http://www.gadflyjl.org/ns\"\n",
       "     version=\"1.2\"\n",
       "     width=\"141.42mm\" height=\"100mm\" viewBox=\"0 0 141.42 100\"\n",
       "     stroke=\"none\"\n",
       "     fill=\"#000000\"\n",
       "     stroke-width=\"0.3\"\n",
       "     font-size=\"3.88\"\n",
       ">\n",
       "<defs>\n",
       "  <marker id=\"arrow\" markerWidth=\"15\" markerHeight=\"7\" refX=\"5\" refY=\"3.5\" orient=\"auto\" markerUnits=\"strokeWidth\">\n",
       "    <path d=\"M0,0 L15,3.5 L0,7 z\" stroke=\"context-stroke\" fill=\"context-stroke\"/>\n",
       "  </marker>\n",
       "</defs>\n",
       "<g stroke=\"#000000\" stroke-opacity=\"0.000\" fill=\"#FFFFFF\" id=\"img-9fac3146-1\">\n",
       "  <g transform=\"translate(70.71,50)\">\n",
       "    <path d=\"M-70.71,-50 L70.71,-50 70.71,50 -70.71,50  z\" class=\"primitive\"/>\n",
       "  </g>\n",
       "</g>\n",
       "<g class=\"plotroot xscalable yscalable\" id=\"img-9fac3146-2\">\n",
       "  <g font-size=\"3.53\" font-family=\"'PT Sans','Helvetica Neue','Helvetica',sans-serif\" fill=\"#564A55\" stroke=\"#000000\" stroke-opacity=\"0.000\" id=\"img-9fac3146-3\">\n",
       "    <g transform=\"translate(74.5,93.72)\">\n",
       "      <g class=\"primitive\">\n",
       "        <text text-anchor=\"middle\" dy=\"0.6em\">t</text>\n",
       "      </g>\n",
       "    </g>\n",
       "  </g>\n",
       "  <g class=\"guide xlabels\" font-size=\"2.82\" font-family=\"'PT Sans Caption','Helvetica Neue','Helvetica',sans-serif\" fill=\"#6C606B\" id=\"img-9fac3146-4\">\n",
       "    <g transform=\"translate(20.94,87.04)\">\n",
       "      <g class=\"primitive\">\n",
       "        <text text-anchor=\"middle\" dy=\"0.6em\">0</text>\n",
       "      </g>\n",
       "    </g>\n",
       "    <g transform=\"translate(42.36,87.04)\">\n",
       "      <g class=\"primitive\">\n",
       "        <text text-anchor=\"middle\" dy=\"0.6em\">10</text>\n",
       "      </g>\n",
       "    </g>\n",
       "    <g transform=\"translate(63.79,87.04)\">\n",
       "      <g class=\"primitive\">\n",
       "        <text text-anchor=\"middle\" dy=\"0.6em\">20</text>\n",
       "      </g>\n",
       "    </g>\n",
       "    <g transform=\"translate(85.22,87.04)\">\n",
       "      <g class=\"primitive\">\n",
       "        <text text-anchor=\"middle\" dy=\"0.6em\">30</text>\n",
       "      </g>\n",
       "    </g>\n",
       "    <g transform=\"translate(106.64,87.04)\">\n",
       "      <g class=\"primitive\">\n",
       "        <text text-anchor=\"middle\" dy=\"0.6em\">40</text>\n",
       "      </g>\n",
       "    </g>\n",
       "    <g transform=\"translate(128.07,87.04)\">\n",
       "      <g class=\"primitive\">\n",
       "        <text text-anchor=\"middle\" dy=\"0.6em\">50</text>\n",
       "      </g>\n",
       "    </g>\n",
       "  </g>\n",
       "  <g class=\"guide colorkey\" id=\"img-9fac3146-5\">\n",
       "    <g fill=\"#4C404B\" font-size=\"2.82\" font-family=\"'PT Sans','Helvetica Neue','Helvetica',sans-serif\" id=\"img-9fac3146-6\">\n",
       "      <g transform=\"translate(134.69,44.12)\" id=\"img-9fac3146-7\">\n",
       "        <g class=\"primitive\">\n",
       "          <text dy=\"0.35em\">L</text>\n",
       "        </g>\n",
       "      </g>\n",
       "      <g transform=\"translate(134.69,47.75)\" id=\"img-9fac3146-8\">\n",
       "        <g class=\"primitive\">\n",
       "          <text dy=\"0.35em\">G</text>\n",
       "        </g>\n",
       "      </g>\n",
       "      <g transform=\"translate(134.69,51.38)\" id=\"img-9fac3146-9\">\n",
       "        <g class=\"primitive\">\n",
       "          <text dy=\"0.35em\">I</text>\n",
       "        </g>\n",
       "      </g>\n",
       "    </g>\n",
       "    <g stroke-width=\"0.3\" id=\"img-9fac3146-10\">\n",
       "      <g stroke=\"#FFFFFF\" stroke-opacity=\"0.000\" fill-opacity=\"1\" fill=\"#FF6DAE\" id=\"img-9fac3146-11\">\n",
       "        <g transform=\"translate(131.88,51.38)\" id=\"img-9fac3146-12\">\n",
       "          <circle cx=\"0\" cy=\"0\" r=\"0.7\" class=\"primitive\"/>\n",
       "        </g>\n",
       "      </g>\n",
       "      <g stroke=\"#FFFFFF\" stroke-opacity=\"0.000\" fill-opacity=\"1\" fill=\"#D4CA3A\" id=\"img-9fac3146-13\">\n",
       "        <g transform=\"translate(131.88,47.75)\" id=\"img-9fac3146-14\">\n",
       "          <circle cx=\"0\" cy=\"0\" r=\"0.7\" class=\"primitive\"/>\n",
       "        </g>\n",
       "      </g>\n",
       "      <g stroke=\"#FFFFFF\" stroke-opacity=\"0.000\" fill-opacity=\"1\" fill=\"#00BFFF\" id=\"img-9fac3146-15\">\n",
       "        <g transform=\"translate(131.88,44.12)\" id=\"img-9fac3146-16\">\n",
       "          <circle cx=\"0\" cy=\"0\" r=\"0.7\" class=\"primitive\"/>\n",
       "        </g>\n",
       "      </g>\n",
       "    </g>\n",
       "    <g fill=\"#362A35\" font-size=\"3.18\" font-family=\"'PT Sans','Helvetica Neue','Helvetica',sans-serif\" stroke=\"#000000\" stroke-opacity=\"0.000\" id=\"img-9fac3146-17\">\n",
       "      <g transform=\"translate(131.07,40.81)\" id=\"img-9fac3146-18\">\n",
       "        <g class=\"primitive\">\n",
       "          <text dy=\"-0em\"></text>\n",
       "        </g>\n",
       "      </g>\n",
       "    </g>\n",
       "  </g>\n",
       "  <g clip-path=\"url(#img-9fac3146-19)\">\n",
       "    <g id=\"img-9fac3146-20\">\n",
       "      <g pointer-events=\"visible\" stroke-width=\"0.3\" fill=\"#000000\" fill-opacity=\"0.000\" stroke=\"#000000\" stroke-opacity=\"0.000\" class=\"guide background\" id=\"img-9fac3146-21\">\n",
       "        <g transform=\"translate(74.5,45.52)\" id=\"img-9fac3146-22\">\n",
       "          <path d=\"M-55.57,-40.52 L55.57,-40.52 55.57,40.52 -55.57,40.52  z\" class=\"primitive\"/>\n",
       "        </g>\n",
       "      </g>\n",
       "      <g class=\"guide ygridlines xfixed\" stroke-dasharray=\"0.5,0.5\" stroke-width=\"0.2\" stroke=\"#D0D0E0\" id=\"img-9fac3146-23\">\n",
       "        <g transform=\"translate(74.5,45.91)\" id=\"img-9fac3146-24\">\n",
       "          <path fill=\"none\" d=\"M-55.57,0 L55.57,0 \" class=\"primitive\"/>\n",
       "        </g>\n",
       "        <g transform=\"translate(74.5,7)\" id=\"img-9fac3146-25\">\n",
       "          <path fill=\"none\" d=\"M-55.57,0 L55.57,0 \" class=\"primitive\"/>\n",
       "        </g>\n",
       "      </g>\n",
       "      <g class=\"guide xgridlines yfixed\" stroke-dasharray=\"0.5,0.5\" stroke-width=\"0.2\" stroke=\"#D0D0E0\" id=\"img-9fac3146-26\">\n",
       "        <g transform=\"translate(20.94,45.52)\" id=\"img-9fac3146-27\">\n",
       "          <path fill=\"none\" d=\"M0,-40.52 L0,40.52 \" class=\"primitive\"/>\n",
       "        </g>\n",
       "        <g transform=\"translate(42.36,45.52)\" id=\"img-9fac3146-28\">\n",
       "          <path fill=\"none\" d=\"M0,-40.52 L0,40.52 \" class=\"primitive\"/>\n",
       "        </g>\n",
       "        <g transform=\"translate(63.79,45.52)\" id=\"img-9fac3146-29\">\n",
       "          <path fill=\"none\" d=\"M0,-40.52 L0,40.52 \" class=\"primitive\"/>\n",
       "        </g>\n",
       "        <g transform=\"translate(85.22,45.52)\" id=\"img-9fac3146-30\">\n",
       "          <path fill=\"none\" d=\"M0,-40.52 L0,40.52 \" class=\"primitive\"/>\n",
       "        </g>\n",
       "        <g transform=\"translate(106.64,45.52)\" id=\"img-9fac3146-31\">\n",
       "          <path fill=\"none\" d=\"M0,-40.52 L0,40.52 \" class=\"primitive\"/>\n",
       "        </g>\n",
       "        <g transform=\"translate(128.07,45.52)\" id=\"img-9fac3146-32\">\n",
       "          <path fill=\"none\" d=\"M0,-40.52 L0,40.52 \" class=\"primitive\"/>\n",
       "        </g>\n",
       "      </g>\n",
       "      <g class=\"plotpanel\" id=\"img-9fac3146-33\">\n",
       "        <metadata>\n",
       "          <boundingbox value=\"18.936666666666667mm 5.0mm 111.13135623730952mm 81.04333333333335mm\"/>\n",
       "          <unitbox value=\"-0.9334335297546998 102.5699822610652 51.8668670595094 -104.1399645221304\"/>\n",
       "        </metadata>\n",
       "        <g stroke-width=\"0.3\" fill=\"#000000\" fill-opacity=\"0.000\" class=\"geometry\" id=\"img-9fac3146-34\">\n",
       "          <g class=\"color_LCHab{Float32}(70.0f0,60.0f0,240.0f0)\" stroke-dasharray=\"none\" stroke-opacity=\"1\" stroke=\"#00BFFF\" id=\"img-9fac3146-35\">\n",
       "            <g transform=\"translate(74.5,33.13)\" id=\"img-9fac3146-36\">\n",
       "              <path fill=\"none\" d=\"M-53.57,50.92 L-51.42,50.69 -49.28,50.39 -47.14,50 -45,49.5 -42.85,48.87 -40.71,48.05 -38.57,47 -36.42,45.68 -34.28,44.02 -32.14,41.94 -30,39.38 -27.85,36.27 -25.71,32.56 -23.57,28.23 -21.43,23.32 -19.28,17.91 -17.14,12.17 -15,6.34 -12.86,0.66 -10.71,-4.61 -8.57,-9.28 -6.43,-13.24 -4.29,-16.47 -2.14,-19 0,-20.94 2.14,-22.4 4.29,-23.46 6.43,-24.23 8.57,-24.79 10.71,-25.18 12.86,-25.46 15,-25.66 17.14,-25.8 19.28,-25.9 21.43,-25.96 23.57,-26.01 25.71,-26.05 27.85,-26.07 30,-26.09 32.14,-26.1 34.28,-26.11 36.42,-26.11 38.57,-26.12 40.71,-26.12 42.85,-26.12 45,-26.12 47.14,-26.12 49.28,-26.12 51.42,-26.12 53.57,-26.12 \" class=\"primitive\"/>\n",
       "            </g>\n",
       "          </g>\n",
       "        </g>\n",
       "        <g stroke-width=\"0.3\" fill=\"#000000\" fill-opacity=\"0.000\" class=\"geometry\" id=\"img-9fac3146-37\">\n",
       "          <g class=\"color_LCHab{Float32}(80.0f0,70.000015f0,100.43479f0)\" stroke-dasharray=\"none\" stroke-opacity=\"1\" stroke=\"#D4CA3A\" id=\"img-9fac3146-38\">\n",
       "            <g transform=\"translate(74.5,58.35)\" id=\"img-9fac3146-39\">\n",
       "              <path fill=\"none\" d=\"M-53.57,25.7 L-51.42,25.46 -49.28,25.18 -47.14,24.84 -45,24.43 -42.85,23.96 -40.71,23.42 -38.57,22.79 -36.42,22.09 -34.28,21.31 -32.14,20.45 -30,19.51 -27.85,18.48 -25.71,17.38 -23.57,16.21 -21.43,14.97 -19.28,13.67 -17.14,12.32 -15,10.91 -12.86,9.46 -10.71,7.97 -8.57,6.46 -6.43,4.93 -4.29,3.38 -2.14,1.83 0,0.27 2.14,-1.27 4.29,-2.81 6.43,-4.33 8.57,-5.83 10.71,-7.3 12.86,-8.74 15,-10.15 17.14,-11.52 19.28,-12.85 21.43,-14.15 23.57,-15.4 25.71,-16.61 27.85,-17.78 30,-18.9 32.14,-19.98 34.28,-21.01 36.42,-22.01 38.57,-22.95 40.71,-23.86 42.85,-24.73 45,-25.55 47.14,-26.34 49.28,-27.08 51.42,-27.79 53.57,-28.46 \" class=\"primitive\"/>\n",
       "            </g>\n",
       "          </g>\n",
       "        </g>\n",
       "        <g stroke-width=\"0.3\" fill=\"#000000\" fill-opacity=\"0.000\" class=\"geometry\" id=\"img-9fac3146-40\">\n",
       "          <g class=\"color_LCHab{Float32}(65.89944f0,62.21457f0,353.99814f0)\" stroke-dasharray=\"none\" stroke-opacity=\"1\" stroke=\"#FF6DAE\" id=\"img-9fac3146-41\">\n",
       "            <g transform=\"translate(74.5,44.12)\" id=\"img-9fac3146-42\">\n",
       "              <path fill=\"none\" d=\"M-53.57,39.92 L-51.42,39.69 -49.28,39.4 -47.14,39.04 -45,38.6 -42.85,38.05 -40.71,37.39 -38.57,36.59 -36.42,35.65 -34.28,34.53 -32.14,33.23 -30,31.73 -27.85,30.02 -25.71,28.09 -23.57,25.95 -21.43,23.59 -19.28,21.04 -17.14,18.31 -15,15.43 -12.86,12.45 -10.71,9.4 -8.57,6.32 -6.43,3.25 -4.29,0.24 -2.14,-2.68 0,-5.49 2.14,-8.15 4.29,-10.65 6.43,-12.98 8.57,-15.14 10.71,-17.12 12.86,-18.93 15,-20.58 17.14,-22.08 19.28,-23.43 21.43,-24.65 23.57,-25.75 25.71,-26.74 27.85,-27.63 30,-28.43 32.14,-29.15 34.28,-29.79 36.42,-30.38 38.57,-30.9 40.71,-31.37 42.85,-31.8 45,-32.18 47.14,-32.53 49.28,-32.85 51.42,-33.14 53.57,-33.4 \" class=\"primitive\"/>\n",
       "            </g>\n",
       "          </g>\n",
       "        </g>\n",
       "      </g>\n",
       "    </g>\n",
       "  </g>\n",
       "  <g class=\"guide ylabels\" font-size=\"2.82\" font-family=\"'PT Sans Caption','Helvetica Neue','Helvetica',sans-serif\" fill=\"#6C606B\" id=\"img-9fac3146-43\">\n",
       "    <g transform=\"translate(17.94,45.91)\" id=\"img-9fac3146-44\">\n",
       "      <g class=\"primitive\">\n",
       "        <text text-anchor=\"end\" dy=\"0.35em\">50</text>\n",
       "      </g>\n",
       "    </g>\n",
       "    <g transform=\"translate(17.94,7)\" id=\"img-9fac3146-45\">\n",
       "      <g class=\"primitive\">\n",
       "        <text text-anchor=\"end\" dy=\"0.35em\">100</text>\n",
       "      </g>\n",
       "    </g>\n",
       "  </g>\n",
       "  <g font-size=\"3.53\" font-family=\"'PT Sans','Helvetica Neue','Helvetica',sans-serif\" fill=\"#564A55\" stroke=\"#000000\" stroke-opacity=\"0.000\" id=\"img-9fac3146-46\">\n",
       "    <g transform=\"translate(9.92,45.52)\" id=\"img-9fac3146-47\">\n",
       "      <g class=\"primitive\">\n",
       "        <text text-anchor=\"end\" dy=\"0.35em\">W</text>\n",
       "      </g>\n",
       "    </g>\n",
       "  </g>\n",
       "</g>\n",
       "<defs>\n",
       "  <clipPath id=\"img-9fac3146-19\">\n",
       "    <path d=\"M18.94,5 L130.07,5 130.07,86.04 18.94,86.04 \" />\n",
       "  </clipPath>\n",
       "</defs>\n",
       "</svg>\n"
      ],
      "text/plain": [
       "\"<Cropbox.Plot{Gadfly.Plot}>\""
      ]
     },
     "execution_count": 29,
     "metadata": {},
     "output_type": "execute_result"
    }
   ],
   "source": [
    "visualize!(p15, Chan, :t, :W, config = c15I, stop = 50, kind = :line, name = \"I\")"
   ]
  },
  {
   "cell_type": "markdown",
   "metadata": {},
   "source": [
    "## 2. Derivative vs. Analytic Forms"
   ]
  },
  {
   "cell_type": "markdown",
   "metadata": {},
   "source": [
    "### 2.1. Exponential Growth Equation (Analytic Form)\n",
    "\n",
    "- Eq\n",
    "\n",
    "$$\n",
    "W = W_0 e^{\\mu t}\n",
    "$$\n",
    "\n",
    "- Table\n",
    "\n",
    "| Symbol | Value | Units | Description |\n",
    "| :- | :- | :- | :- |\n",
    "| $t$ | - | - | Time unit used in the model |\n",
    "| $\\mu$ | 0.3 | - | Specific growth rate |\n",
    "| $W_0$ | 1 | - | Dry mass at time $t = 0$ |\n",
    "| $W$ | - | - | Current dry mass |"
   ]
  },
  {
   "cell_type": "code",
   "execution_count": 30,
   "metadata": {
    "tags": []
   },
   "outputs": [
    {
     "data": {
      "text/plain": [
       "ExpoA"
      ]
     },
     "execution_count": 30,
     "metadata": {},
     "output_type": "execute_result"
    }
   ],
   "source": [
    "@system ExpoA(Controller) begin\n",
    "    t(context.clock.tick)       ~ track\n",
    "    μ           => 0.3          ~ preserve(parameter)\n",
    "    W0          => 1            ~ preserve(parameter)\n",
    "    W(W0, μ, t) => W0 * ℯ^(μ*t) ~ track\n",
    "end"
   ]
  },
  {
   "cell_type": "code",
   "execution_count": 31,
   "metadata": {
    "tags": []
   },
   "outputs": [
    {
     "data": {
      "text/plain": [
       "quote\n",
       "    \u001B[90m#= In[3]:2 =#\u001B[39m\n",
       "    μ => 0.3 ~ preserve(parameter)\n",
       "    \u001B[90m#= In[3]:3 =#\u001B[39m\n",
       "    W0 => 1 ~ preserve(parameter)\n",
       "    \u001B[90m#= In[3]:4 =#\u001B[39m\n",
       "    W(μ, W) => μ * W ~ accumulate(init = W0)\n",
       "    \u001B[90m#= In[3]:6 =#\u001B[39m\n",
       "    t(context.clock.tick) ~ track\n",
       "end"
      ]
     },
     "execution_count": 31,
     "metadata": {},
     "output_type": "execute_result"
    }
   ],
   "source": [
    "Cropbox.source(Expo)"
   ]
  },
  {
   "cell_type": "code",
   "execution_count": 32,
   "metadata": {
    "tags": []
   },
   "outputs": [
    {
     "data": {
      "text/html": [
       "<div><div style = \"float: left;\"><span>11×5 DataFrame</span></div><div style = \"clear: both;\"></div></div><div class = \"data-frame\" style = \"overflow-x: scroll;\"><table class = \"data-frame\" style = \"margin-bottom: 6px;\"><thead><tr class = \"header\"><th class = \"rowNumber\" style = \"font-weight: bold; text-align: right;\">Row</th><th style = \"text-align: left;\">time</th><th style = \"text-align: left;\">t</th><th style = \"text-align: left;\">μ</th><th style = \"text-align: left;\">W0</th><th style = \"text-align: left;\">W</th></tr><tr class = \"subheader headerLastRow\"><th class = \"rowNumber\" style = \"font-weight: bold; text-align: right;\"></th><th title = \"Unitful.Quantity{Float64, 𝐓, Unitful.FreeUnits{(hr,), 𝐓, nothing}}\" style = \"text-align: left;\">Quantity…</th><th title = \"Float64\" style = \"text-align: left;\">Float64</th><th title = \"Float64\" style = \"text-align: left;\">Float64</th><th title = \"Float64\" style = \"text-align: left;\">Float64</th><th title = \"Float64\" style = \"text-align: left;\">Float64</th></tr></thead><tbody><tr><td class = \"rowNumber\" style = \"font-weight: bold; text-align: right;\">1</td><td style = \"text-align: right;\">0.0 hr</td><td style = \"text-align: right;\">0.0</td><td style = \"text-align: right;\">0.3</td><td style = \"text-align: right;\">1.0</td><td style = \"text-align: right;\">1.0</td></tr><tr><td class = \"rowNumber\" style = \"font-weight: bold; text-align: right;\">2</td><td style = \"text-align: right;\">1.0 hr</td><td style = \"text-align: right;\">1.0</td><td style = \"text-align: right;\">0.3</td><td style = \"text-align: right;\">1.0</td><td style = \"text-align: right;\">1.34986</td></tr><tr><td class = \"rowNumber\" style = \"font-weight: bold; text-align: right;\">3</td><td style = \"text-align: right;\">2.0 hr</td><td style = \"text-align: right;\">2.0</td><td style = \"text-align: right;\">0.3</td><td style = \"text-align: right;\">1.0</td><td style = \"text-align: right;\">1.82212</td></tr><tr><td class = \"rowNumber\" style = \"font-weight: bold; text-align: right;\">4</td><td style = \"text-align: right;\">3.0 hr</td><td style = \"text-align: right;\">3.0</td><td style = \"text-align: right;\">0.3</td><td style = \"text-align: right;\">1.0</td><td style = \"text-align: right;\">2.4596</td></tr><tr><td class = \"rowNumber\" style = \"font-weight: bold; text-align: right;\">5</td><td style = \"text-align: right;\">4.0 hr</td><td style = \"text-align: right;\">4.0</td><td style = \"text-align: right;\">0.3</td><td style = \"text-align: right;\">1.0</td><td style = \"text-align: right;\">3.32012</td></tr><tr><td class = \"rowNumber\" style = \"font-weight: bold; text-align: right;\">6</td><td style = \"text-align: right;\">5.0 hr</td><td style = \"text-align: right;\">5.0</td><td style = \"text-align: right;\">0.3</td><td style = \"text-align: right;\">1.0</td><td style = \"text-align: right;\">4.48169</td></tr><tr><td class = \"rowNumber\" style = \"font-weight: bold; text-align: right;\">7</td><td style = \"text-align: right;\">6.0 hr</td><td style = \"text-align: right;\">6.0</td><td style = \"text-align: right;\">0.3</td><td style = \"text-align: right;\">1.0</td><td style = \"text-align: right;\">6.04965</td></tr><tr><td class = \"rowNumber\" style = \"font-weight: bold; text-align: right;\">8</td><td style = \"text-align: right;\">7.0 hr</td><td style = \"text-align: right;\">7.0</td><td style = \"text-align: right;\">0.3</td><td style = \"text-align: right;\">1.0</td><td style = \"text-align: right;\">8.16617</td></tr><tr><td class = \"rowNumber\" style = \"font-weight: bold; text-align: right;\">9</td><td style = \"text-align: right;\">8.0 hr</td><td style = \"text-align: right;\">8.0</td><td style = \"text-align: right;\">0.3</td><td style = \"text-align: right;\">1.0</td><td style = \"text-align: right;\">11.0232</td></tr><tr><td class = \"rowNumber\" style = \"font-weight: bold; text-align: right;\">10</td><td style = \"text-align: right;\">9.0 hr</td><td style = \"text-align: right;\">9.0</td><td style = \"text-align: right;\">0.3</td><td style = \"text-align: right;\">1.0</td><td style = \"text-align: right;\">14.8797</td></tr><tr><td class = \"rowNumber\" style = \"font-weight: bold; text-align: right;\">11</td><td style = \"text-align: right;\">10.0 hr</td><td style = \"text-align: right;\">10.0</td><td style = \"text-align: right;\">0.3</td><td style = \"text-align: right;\">1.0</td><td style = \"text-align: right;\">20.0855</td></tr></tbody></table></div>"
      ],
      "text/latex": [
       "\\begin{tabular}{r|ccccc}\n",
       "\t& time & t & μ & W0 & W\\\\\n",
       "\t\\hline\n",
       "\t& Quantity… & Float64 & Float64 & Float64 & Float64\\\\\n",
       "\t\\hline\n",
       "\t1 & 0.0 hr & 0.0 & 0.3 & 1.0 & 1.0 \\\\\n",
       "\t2 & 1.0 hr & 1.0 & 0.3 & 1.0 & 1.34986 \\\\\n",
       "\t3 & 2.0 hr & 2.0 & 0.3 & 1.0 & 1.82212 \\\\\n",
       "\t4 & 3.0 hr & 3.0 & 0.3 & 1.0 & 2.4596 \\\\\n",
       "\t5 & 4.0 hr & 4.0 & 0.3 & 1.0 & 3.32012 \\\\\n",
       "\t6 & 5.0 hr & 5.0 & 0.3 & 1.0 & 4.48169 \\\\\n",
       "\t7 & 6.0 hr & 6.0 & 0.3 & 1.0 & 6.04965 \\\\\n",
       "\t8 & 7.0 hr & 7.0 & 0.3 & 1.0 & 8.16617 \\\\\n",
       "\t9 & 8.0 hr & 8.0 & 0.3 & 1.0 & 11.0232 \\\\\n",
       "\t10 & 9.0 hr & 9.0 & 0.3 & 1.0 & 14.8797 \\\\\n",
       "\t11 & 10.0 hr & 10.0 & 0.3 & 1.0 & 20.0855 \\\\\n",
       "\\end{tabular}\n"
      ],
      "text/plain": [
       "\u001B[1m11×5 DataFrame\n",
       "\u001B[1m Row │\u001B[1m time      \u001B[1m t       \u001B[1m μ       \u001B[1m W0      \u001B[1m W\n",
       "     │\u001B[90m Quantity… \u001B[90m Float64 \u001B[90m Float64 \u001B[90m Float64 \u001B[90m Float64\n",
       "─────┼────────────────────────────────────────────────\n",
       "   1 │    0.0 hr      0.0      0.3      1.0   1.0\n",
       "   2 │    1.0 hr      1.0      0.3      1.0   1.34986\n",
       "   3 │    2.0 hr      2.0      0.3      1.0   1.82212\n",
       "   4 │    3.0 hr      3.0      0.3      1.0   2.4596\n",
       "   5 │    4.0 hr      4.0      0.3      1.0   3.32012\n",
       "   6 │    5.0 hr      5.0      0.3      1.0   4.48169\n",
       "   7 │    6.0 hr      6.0      0.3      1.0   6.04965\n",
       "   8 │    7.0 hr      7.0      0.3      1.0   8.16617\n",
       "   9 │    8.0 hr      8.0      0.3      1.0  11.0232\n",
       "  10 │    9.0 hr      9.0      0.3      1.0  14.8797\n",
       "  11 │   10.0 hr     10.0      0.3      1.0  20.0855"
      ]
     },
     "execution_count": 32,
     "metadata": {},
     "output_type": "execute_result"
    }
   ],
   "source": [
    "r21 = simulate(ExpoA, stop = 10)"
   ]
  },
  {
   "cell_type": "code",
   "execution_count": 33,
   "metadata": {
    "tags": []
   },
   "outputs": [
    {
     "data": {
      "image/svg+xml": [
       "<?xml version=\"1.0\" encoding=\"UTF-8\"?>\n",
       "<svg xmlns=\"http://www.w3.org/2000/svg\"\n",
       "     xmlns:xlink=\"http://www.w3.org/1999/xlink\"\n",
       "     xmlns:gadfly=\"http://www.gadflyjl.org/ns\"\n",
       "     version=\"1.2\"\n",
       "     width=\"141.42mm\" height=\"100mm\" viewBox=\"0 0 141.42 100\"\n",
       "     stroke=\"none\"\n",
       "     fill=\"#000000\"\n",
       "     stroke-width=\"0.3\"\n",
       "     font-size=\"3.88\"\n",
       ">\n",
       "<defs>\n",
       "  <marker id=\"arrow\" markerWidth=\"15\" markerHeight=\"7\" refX=\"5\" refY=\"3.5\" orient=\"auto\" markerUnits=\"strokeWidth\">\n",
       "    <path d=\"M0,0 L15,3.5 L0,7 z\" stroke=\"context-stroke\" fill=\"context-stroke\"/>\n",
       "  </marker>\n",
       "</defs>\n",
       "<g stroke=\"#000000\" stroke-opacity=\"0.000\" fill=\"#FFFFFF\" id=\"img-450d23c4-1\">\n",
       "  <g transform=\"translate(70.71,50)\">\n",
       "    <path d=\"M-70.71,-50 L70.71,-50 70.71,50 -70.71,50  z\" class=\"primitive\"/>\n",
       "  </g>\n",
       "</g>\n",
       "<g class=\"plotroot xscalable yscalable\" id=\"img-450d23c4-2\">\n",
       "  <g font-size=\"3.53\" font-family=\"'PT Sans','Helvetica Neue','Helvetica',sans-serif\" fill=\"#564A55\" stroke=\"#000000\" stroke-opacity=\"0.000\" id=\"img-450d23c4-3\">\n",
       "    <g transform=\"translate(69.9,93.72)\">\n",
       "      <g class=\"primitive\">\n",
       "        <text text-anchor=\"middle\" dy=\"0.6em\">t</text>\n",
       "      </g>\n",
       "    </g>\n",
       "  </g>\n",
       "  <g class=\"guide xlabels\" font-size=\"2.82\" font-family=\"'PT Sans Caption','Helvetica Neue','Helvetica',sans-serif\" fill=\"#6C606B\" id=\"img-450d23c4-4\">\n",
       "    <g transform=\"translate(12.35,87.04)\">\n",
       "      <g class=\"primitive\">\n",
       "        <text text-anchor=\"middle\" dy=\"0.6em\">0</text>\n",
       "      </g>\n",
       "    </g>\n",
       "    <g transform=\"translate(69.9,87.04)\">\n",
       "      <g class=\"primitive\">\n",
       "        <text text-anchor=\"middle\" dy=\"0.6em\">5</text>\n",
       "      </g>\n",
       "    </g>\n",
       "    <g transform=\"translate(127.46,87.04)\">\n",
       "      <g class=\"primitive\">\n",
       "        <text text-anchor=\"middle\" dy=\"0.6em\">10</text>\n",
       "      </g>\n",
       "    </g>\n",
       "  </g>\n",
       "  <g class=\"guide colorkey\" id=\"img-450d23c4-5\">\n",
       "    <g fill=\"#4C404B\" font-size=\"2.82\" font-family=\"'PT Sans','Helvetica Neue','Helvetica',sans-serif\" id=\"img-450d23c4-6\">\n",
       "      <g transform=\"translate(134.09,47.75)\" id=\"img-450d23c4-7\">\n",
       "        <g class=\"primitive\">\n",
       "          <text dy=\"0.35em\">W</text>\n",
       "        </g>\n",
       "      </g>\n",
       "    </g>\n",
       "    <g stroke-width=\"0.3\" id=\"img-450d23c4-8\">\n",
       "      <g stroke=\"#FFFFFF\" stroke-opacity=\"0.000\" fill-opacity=\"1\" fill=\"#00BFFF\" id=\"img-450d23c4-9\">\n",
       "        <g transform=\"translate(131.27,47.75)\" id=\"img-450d23c4-10\">\n",
       "          <circle cx=\"0\" cy=\"0\" r=\"0.7\" class=\"primitive\"/>\n",
       "        </g>\n",
       "      </g>\n",
       "    </g>\n",
       "    <g fill=\"#362A35\" font-size=\"3.18\" font-family=\"'PT Sans','Helvetica Neue','Helvetica',sans-serif\" stroke=\"#000000\" stroke-opacity=\"0.000\" id=\"img-450d23c4-11\">\n",
       "      <g transform=\"translate(130.46,44.44)\" id=\"img-450d23c4-12\">\n",
       "        <g class=\"primitive\">\n",
       "          <text dy=\"-0em\"></text>\n",
       "        </g>\n",
       "      </g>\n",
       "    </g>\n",
       "  </g>\n",
       "  <g clip-path=\"url(#img-450d23c4-13)\">\n",
       "    <g id=\"img-450d23c4-14\">\n",
       "      <g pointer-events=\"visible\" stroke-width=\"0.3\" fill=\"#000000\" fill-opacity=\"0.000\" stroke=\"#000000\" stroke-opacity=\"0.000\" class=\"guide background\" id=\"img-450d23c4-15\">\n",
       "        <g transform=\"translate(69.9,45.52)\" id=\"img-450d23c4-16\">\n",
       "          <path d=\"M-59.56,-40.52 L59.56,-40.52 59.56,40.52 -59.56,40.52  z\" class=\"primitive\"/>\n",
       "        </g>\n",
       "      </g>\n",
       "      <g class=\"guide ygridlines xfixed\" stroke-dasharray=\"0.5,0.5\" stroke-width=\"0.2\" stroke=\"#D0D0E0\" id=\"img-450d23c4-17\">\n",
       "        <g transform=\"translate(69.9,68.63)\" id=\"img-450d23c4-18\">\n",
       "          <path fill=\"none\" d=\"M-59.56,0 L59.56,0 \" class=\"primitive\"/>\n",
       "        </g>\n",
       "        <g transform=\"translate(69.9,49.37)\" id=\"img-450d23c4-19\">\n",
       "          <path fill=\"none\" d=\"M-59.56,0 L59.56,0 \" class=\"primitive\"/>\n",
       "        </g>\n",
       "        <g transform=\"translate(69.9,30.11)\" id=\"img-450d23c4-20\">\n",
       "          <path fill=\"none\" d=\"M-59.56,0 L59.56,0 \" class=\"primitive\"/>\n",
       "        </g>\n",
       "        <g transform=\"translate(69.9,10.85)\" id=\"img-450d23c4-21\">\n",
       "          <path fill=\"none\" d=\"M-59.56,0 L59.56,0 \" class=\"primitive\"/>\n",
       "        </g>\n",
       "      </g>\n",
       "      <g class=\"guide xgridlines yfixed\" stroke-dasharray=\"0.5,0.5\" stroke-width=\"0.2\" stroke=\"#D0D0E0\" id=\"img-450d23c4-22\">\n",
       "        <g transform=\"translate(12.35,45.52)\" id=\"img-450d23c4-23\">\n",
       "          <path fill=\"none\" d=\"M0,-40.52 L0,40.52 \" class=\"primitive\"/>\n",
       "        </g>\n",
       "        <g transform=\"translate(69.9,45.52)\" id=\"img-450d23c4-24\">\n",
       "          <path fill=\"none\" d=\"M0,-40.52 L0,40.52 \" class=\"primitive\"/>\n",
       "        </g>\n",
       "        <g transform=\"translate(127.46,45.52)\" id=\"img-450d23c4-25\">\n",
       "          <path fill=\"none\" d=\"M0,-40.52 L0,40.52 \" class=\"primitive\"/>\n",
       "        </g>\n",
       "      </g>\n",
       "      <g class=\"plotpanel\" id=\"img-450d23c4-26\">\n",
       "        <metadata>\n",
       "          <boundingbox value=\"10.346666666666664mm 5.0mm 119.11468957064285mm 81.04333333333332mm\"/>\n",
       "          <unitbox value=\"-0.1737397726962251 21.519188335568728 10.347479545392451 -21.038376671137456\"/>\n",
       "        </metadata>\n",
       "        <g stroke-width=\"0.3\" fill=\"#000000\" fill-opacity=\"0.000\" class=\"geometry\" id=\"img-450d23c4-27\">\n",
       "          <g class=\"color_LCHab{Float32}(70.0f0,60.0f0,240.0f0)\" stroke-dasharray=\"none\" stroke-opacity=\"1\" stroke=\"#00BFFF\" id=\"img-450d23c4-28\">\n",
       "            <g transform=\"translate(69.9,61.76)\" id=\"img-450d23c4-29\">\n",
       "              <path fill=\"none\" d=\"M-57.56,22.29 L-46.05,20.94 -34.53,19.12 -23.02,16.66 -11.51,13.35 0,8.87 11.51,2.83 23.02,-5.32 34.53,-16.33 46.05,-31.18 57.56,-51.23 \" class=\"primitive\"/>\n",
       "            </g>\n",
       "          </g>\n",
       "        </g>\n",
       "      </g>\n",
       "    </g>\n",
       "  </g>\n",
       "  <g class=\"guide ylabels\" font-size=\"2.82\" font-family=\"'PT Sans Caption','Helvetica Neue','Helvetica',sans-serif\" fill=\"#6C606B\" id=\"img-450d23c4-30\">\n",
       "    <g transform=\"translate(9.35,68.63)\" id=\"img-450d23c4-31\">\n",
       "      <g class=\"primitive\">\n",
       "        <text text-anchor=\"end\" dy=\"0.35em\">5</text>\n",
       "      </g>\n",
       "    </g>\n",
       "    <g transform=\"translate(9.35,49.37)\" id=\"img-450d23c4-32\">\n",
       "      <g class=\"primitive\">\n",
       "        <text text-anchor=\"end\" dy=\"0.35em\">10</text>\n",
       "      </g>\n",
       "    </g>\n",
       "    <g transform=\"translate(9.35,30.11)\" id=\"img-450d23c4-33\">\n",
       "      <g class=\"primitive\">\n",
       "        <text text-anchor=\"end\" dy=\"0.35em\">15</text>\n",
       "      </g>\n",
       "    </g>\n",
       "    <g transform=\"translate(9.35,10.85)\" id=\"img-450d23c4-34\">\n",
       "      <g class=\"primitive\">\n",
       "        <text text-anchor=\"end\" dy=\"0.35em\">20</text>\n",
       "      </g>\n",
       "    </g>\n",
       "  </g>\n",
       "</g>\n",
       "<defs>\n",
       "  <clipPath id=\"img-450d23c4-13\">\n",
       "    <path d=\"M10.35,5 L129.46,5 129.46,86.04 10.35,86.04 \" />\n",
       "  </clipPath>\n",
       "</defs>\n",
       "</svg>\n"
      ],
      "text/html": [
       "<?xml version=\"1.0\" encoding=\"UTF-8\"?>\n",
       "<svg xmlns=\"http://www.w3.org/2000/svg\"\n",
       "     xmlns:xlink=\"http://www.w3.org/1999/xlink\"\n",
       "     xmlns:gadfly=\"http://www.gadflyjl.org/ns\"\n",
       "     version=\"1.2\"\n",
       "     width=\"141.42mm\" height=\"100mm\" viewBox=\"0 0 141.42 100\"\n",
       "     stroke=\"none\"\n",
       "     fill=\"#000000\"\n",
       "     stroke-width=\"0.3\"\n",
       "     font-size=\"3.88\"\n",
       ">\n",
       "<defs>\n",
       "  <marker id=\"arrow\" markerWidth=\"15\" markerHeight=\"7\" refX=\"5\" refY=\"3.5\" orient=\"auto\" markerUnits=\"strokeWidth\">\n",
       "    <path d=\"M0,0 L15,3.5 L0,7 z\" stroke=\"context-stroke\" fill=\"context-stroke\"/>\n",
       "  </marker>\n",
       "</defs>\n",
       "<g stroke=\"#000000\" stroke-opacity=\"0.000\" fill=\"#FFFFFF\" id=\"img-c0141dc2-1\">\n",
       "  <g transform=\"translate(70.71,50)\">\n",
       "    <path d=\"M-70.71,-50 L70.71,-50 70.71,50 -70.71,50  z\" class=\"primitive\"/>\n",
       "  </g>\n",
       "</g>\n",
       "<g class=\"plotroot xscalable yscalable\" id=\"img-c0141dc2-2\">\n",
       "  <g font-size=\"3.53\" font-family=\"'PT Sans','Helvetica Neue','Helvetica',sans-serif\" fill=\"#564A55\" stroke=\"#000000\" stroke-opacity=\"0.000\" id=\"img-c0141dc2-3\">\n",
       "    <g transform=\"translate(69.9,93.72)\">\n",
       "      <g class=\"primitive\">\n",
       "        <text text-anchor=\"middle\" dy=\"0.6em\">t</text>\n",
       "      </g>\n",
       "    </g>\n",
       "  </g>\n",
       "  <g class=\"guide xlabels\" font-size=\"2.82\" font-family=\"'PT Sans Caption','Helvetica Neue','Helvetica',sans-serif\" fill=\"#6C606B\" id=\"img-c0141dc2-4\">\n",
       "    <g transform=\"translate(12.35,87.04)\">\n",
       "      <g class=\"primitive\">\n",
       "        <text text-anchor=\"middle\" dy=\"0.6em\">0</text>\n",
       "      </g>\n",
       "    </g>\n",
       "    <g transform=\"translate(69.9,87.04)\">\n",
       "      <g class=\"primitive\">\n",
       "        <text text-anchor=\"middle\" dy=\"0.6em\">5</text>\n",
       "      </g>\n",
       "    </g>\n",
       "    <g transform=\"translate(127.46,87.04)\">\n",
       "      <g class=\"primitive\">\n",
       "        <text text-anchor=\"middle\" dy=\"0.6em\">10</text>\n",
       "      </g>\n",
       "    </g>\n",
       "  </g>\n",
       "  <g class=\"guide colorkey\" id=\"img-c0141dc2-5\">\n",
       "    <g fill=\"#4C404B\" font-size=\"2.82\" font-family=\"'PT Sans','Helvetica Neue','Helvetica',sans-serif\" id=\"img-c0141dc2-6\">\n",
       "      <g transform=\"translate(134.09,47.75)\" id=\"img-c0141dc2-7\">\n",
       "        <g class=\"primitive\">\n",
       "          <text dy=\"0.35em\">W</text>\n",
       "        </g>\n",
       "      </g>\n",
       "    </g>\n",
       "    <g stroke-width=\"0.3\" id=\"img-c0141dc2-8\">\n",
       "      <g stroke=\"#FFFFFF\" stroke-opacity=\"0.000\" fill-opacity=\"1\" fill=\"#00BFFF\" id=\"img-c0141dc2-9\">\n",
       "        <g transform=\"translate(131.27,47.75)\" id=\"img-c0141dc2-10\">\n",
       "          <circle cx=\"0\" cy=\"0\" r=\"0.7\" class=\"primitive\"/>\n",
       "        </g>\n",
       "      </g>\n",
       "    </g>\n",
       "    <g fill=\"#362A35\" font-size=\"3.18\" font-family=\"'PT Sans','Helvetica Neue','Helvetica',sans-serif\" stroke=\"#000000\" stroke-opacity=\"0.000\" id=\"img-c0141dc2-11\">\n",
       "      <g transform=\"translate(130.46,44.44)\" id=\"img-c0141dc2-12\">\n",
       "        <g class=\"primitive\">\n",
       "          <text dy=\"-0em\"></text>\n",
       "        </g>\n",
       "      </g>\n",
       "    </g>\n",
       "  </g>\n",
       "  <g clip-path=\"url(#img-c0141dc2-13)\">\n",
       "    <g id=\"img-c0141dc2-14\">\n",
       "      <g pointer-events=\"visible\" stroke-width=\"0.3\" fill=\"#000000\" fill-opacity=\"0.000\" stroke=\"#000000\" stroke-opacity=\"0.000\" class=\"guide background\" id=\"img-c0141dc2-15\">\n",
       "        <g transform=\"translate(69.9,45.52)\" id=\"img-c0141dc2-16\">\n",
       "          <path d=\"M-59.56,-40.52 L59.56,-40.52 59.56,40.52 -59.56,40.52  z\" class=\"primitive\"/>\n",
       "        </g>\n",
       "      </g>\n",
       "      <g class=\"guide ygridlines xfixed\" stroke-dasharray=\"0.5,0.5\" stroke-width=\"0.2\" stroke=\"#D0D0E0\" id=\"img-c0141dc2-17\">\n",
       "        <g transform=\"translate(69.9,68.63)\" id=\"img-c0141dc2-18\">\n",
       "          <path fill=\"none\" d=\"M-59.56,0 L59.56,0 \" class=\"primitive\"/>\n",
       "        </g>\n",
       "        <g transform=\"translate(69.9,49.37)\" id=\"img-c0141dc2-19\">\n",
       "          <path fill=\"none\" d=\"M-59.56,0 L59.56,0 \" class=\"primitive\"/>\n",
       "        </g>\n",
       "        <g transform=\"translate(69.9,30.11)\" id=\"img-c0141dc2-20\">\n",
       "          <path fill=\"none\" d=\"M-59.56,0 L59.56,0 \" class=\"primitive\"/>\n",
       "        </g>\n",
       "        <g transform=\"translate(69.9,10.85)\" id=\"img-c0141dc2-21\">\n",
       "          <path fill=\"none\" d=\"M-59.56,0 L59.56,0 \" class=\"primitive\"/>\n",
       "        </g>\n",
       "      </g>\n",
       "      <g class=\"guide xgridlines yfixed\" stroke-dasharray=\"0.5,0.5\" stroke-width=\"0.2\" stroke=\"#D0D0E0\" id=\"img-c0141dc2-22\">\n",
       "        <g transform=\"translate(12.35,45.52)\" id=\"img-c0141dc2-23\">\n",
       "          <path fill=\"none\" d=\"M0,-40.52 L0,40.52 \" class=\"primitive\"/>\n",
       "        </g>\n",
       "        <g transform=\"translate(69.9,45.52)\" id=\"img-c0141dc2-24\">\n",
       "          <path fill=\"none\" d=\"M0,-40.52 L0,40.52 \" class=\"primitive\"/>\n",
       "        </g>\n",
       "        <g transform=\"translate(127.46,45.52)\" id=\"img-c0141dc2-25\">\n",
       "          <path fill=\"none\" d=\"M0,-40.52 L0,40.52 \" class=\"primitive\"/>\n",
       "        </g>\n",
       "      </g>\n",
       "      <g class=\"plotpanel\" id=\"img-c0141dc2-26\">\n",
       "        <metadata>\n",
       "          <boundingbox value=\"10.346666666666664mm 5.0mm 119.11468957064285mm 81.04333333333332mm\"/>\n",
       "          <unitbox value=\"-0.1737397726962251 21.519188335568728 10.347479545392451 -21.038376671137456\"/>\n",
       "        </metadata>\n",
       "        <g stroke-width=\"0.3\" fill=\"#000000\" fill-opacity=\"0.000\" class=\"geometry\" id=\"img-c0141dc2-27\">\n",
       "          <g class=\"color_LCHab{Float32}(70.0f0,60.0f0,240.0f0)\" stroke-dasharray=\"none\" stroke-opacity=\"1\" stroke=\"#00BFFF\" id=\"img-c0141dc2-28\">\n",
       "            <g transform=\"translate(69.9,61.76)\" id=\"img-c0141dc2-29\">\n",
       "              <path fill=\"none\" d=\"M-57.56,22.29 L-46.05,20.94 -34.53,19.12 -23.02,16.66 -11.51,13.35 0,8.87 11.51,2.83 23.02,-5.32 34.53,-16.33 46.05,-31.18 57.56,-51.23 \" class=\"primitive\"/>\n",
       "            </g>\n",
       "          </g>\n",
       "        </g>\n",
       "      </g>\n",
       "    </g>\n",
       "  </g>\n",
       "  <g class=\"guide ylabels\" font-size=\"2.82\" font-family=\"'PT Sans Caption','Helvetica Neue','Helvetica',sans-serif\" fill=\"#6C606B\" id=\"img-c0141dc2-30\">\n",
       "    <g transform=\"translate(9.35,68.63)\" id=\"img-c0141dc2-31\">\n",
       "      <g class=\"primitive\">\n",
       "        <text text-anchor=\"end\" dy=\"0.35em\">5</text>\n",
       "      </g>\n",
       "    </g>\n",
       "    <g transform=\"translate(9.35,49.37)\" id=\"img-c0141dc2-32\">\n",
       "      <g class=\"primitive\">\n",
       "        <text text-anchor=\"end\" dy=\"0.35em\">10</text>\n",
       "      </g>\n",
       "    </g>\n",
       "    <g transform=\"translate(9.35,30.11)\" id=\"img-c0141dc2-33\">\n",
       "      <g class=\"primitive\">\n",
       "        <text text-anchor=\"end\" dy=\"0.35em\">15</text>\n",
       "      </g>\n",
       "    </g>\n",
       "    <g transform=\"translate(9.35,10.85)\" id=\"img-c0141dc2-34\">\n",
       "      <g class=\"primitive\">\n",
       "        <text text-anchor=\"end\" dy=\"0.35em\">20</text>\n",
       "      </g>\n",
       "    </g>\n",
       "  </g>\n",
       "</g>\n",
       "<defs>\n",
       "  <clipPath id=\"img-c0141dc2-13\">\n",
       "    <path d=\"M10.35,5 L129.46,5 129.46,86.04 10.35,86.04 \" />\n",
       "  </clipPath>\n",
       "</defs>\n",
       "</svg>\n"
      ],
      "text/plain": [
       "\"<Cropbox.Plot{Gadfly.Plot}>\""
      ]
     },
     "execution_count": 33,
     "metadata": {},
     "output_type": "execute_result"
    }
   ],
   "source": [
    "visualize(r21, :t, :W, kind = :line)"
   ]
  },
  {
   "cell_type": "code",
   "execution_count": 34,
   "metadata": {
    "tags": []
   },
   "outputs": [
    {
     "data": {
      "image/svg+xml": [
       "<?xml version=\"1.0\" encoding=\"UTF-8\"?>\n",
       "<svg xmlns=\"http://www.w3.org/2000/svg\"\n",
       "     xmlns:xlink=\"http://www.w3.org/1999/xlink\"\n",
       "     xmlns:gadfly=\"http://www.gadflyjl.org/ns\"\n",
       "     version=\"1.2\"\n",
       "     width=\"141.42mm\" height=\"100mm\" viewBox=\"0 0 141.42 100\"\n",
       "     stroke=\"none\"\n",
       "     fill=\"#000000\"\n",
       "     stroke-width=\"0.3\"\n",
       "     font-size=\"3.88\"\n",
       ">\n",
       "<defs>\n",
       "  <marker id=\"arrow\" markerWidth=\"15\" markerHeight=\"7\" refX=\"5\" refY=\"3.5\" orient=\"auto\" markerUnits=\"strokeWidth\">\n",
       "    <path d=\"M0,0 L15,3.5 L0,7 z\" stroke=\"context-stroke\" fill=\"context-stroke\"/>\n",
       "  </marker>\n",
       "</defs>\n",
       "<g stroke=\"#000000\" stroke-opacity=\"0.000\" fill=\"#FFFFFF\" id=\"img-60b0c830-1\">\n",
       "  <g transform=\"translate(70.71,50)\">\n",
       "    <path d=\"M-70.71,-50 L70.71,-50 70.71,50 -70.71,50  z\" class=\"primitive\"/>\n",
       "  </g>\n",
       "</g>\n",
       "<g class=\"plotroot xscalable yscalable\" id=\"img-60b0c830-2\">\n",
       "  <g font-size=\"3.53\" font-family=\"'PT Sans','Helvetica Neue','Helvetica',sans-serif\" fill=\"#564A55\" stroke=\"#000000\" stroke-opacity=\"0.000\" id=\"img-60b0c830-3\">\n",
       "    <g transform=\"translate(70.7,93.72)\">\n",
       "      <g class=\"primitive\">\n",
       "        <text text-anchor=\"middle\" dy=\"0.6em\">t</text>\n",
       "      </g>\n",
       "    </g>\n",
       "  </g>\n",
       "  <g class=\"guide xlabels\" font-size=\"2.82\" font-family=\"'PT Sans Caption','Helvetica Neue','Helvetica',sans-serif\" fill=\"#6C606B\" id=\"img-60b0c830-4\">\n",
       "    <g transform=\"translate(19.26,87.04)\">\n",
       "      <g class=\"primitive\">\n",
       "        <text text-anchor=\"middle\" dy=\"0.6em\">0</text>\n",
       "      </g>\n",
       "    </g>\n",
       "    <g transform=\"translate(70.7,87.04)\">\n",
       "      <g class=\"primitive\">\n",
       "        <text text-anchor=\"middle\" dy=\"0.6em\">5</text>\n",
       "      </g>\n",
       "    </g>\n",
       "    <g transform=\"translate(122.13,87.04)\">\n",
       "      <g class=\"primitive\">\n",
       "        <text text-anchor=\"middle\" dy=\"0.6em\">10</text>\n",
       "      </g>\n",
       "    </g>\n",
       "  </g>\n",
       "  <g class=\"guide colorkey\" id=\"img-60b0c830-5\">\n",
       "    <g fill=\"#4C404B\" font-size=\"2.82\" font-family=\"'PT Sans','Helvetica Neue','Helvetica',sans-serif\" id=\"img-60b0c830-6\">\n",
       "      <g transform=\"translate(128.76,45.94)\" id=\"img-60b0c830-7\">\n",
       "        <g class=\"primitive\">\n",
       "          <text dy=\"0.35em\">Expo</text>\n",
       "        </g>\n",
       "      </g>\n",
       "      <g transform=\"translate(128.76,49.56)\" id=\"img-60b0c830-8\">\n",
       "        <g class=\"primitive\">\n",
       "          <text dy=\"0.35em\">ExpoA</text>\n",
       "        </g>\n",
       "      </g>\n",
       "    </g>\n",
       "    <g stroke-width=\"0.3\" id=\"img-60b0c830-9\">\n",
       "      <g stroke=\"#FFFFFF\" stroke-opacity=\"0.000\" fill-opacity=\"1\" fill=\"#D4CA3A\" id=\"img-60b0c830-10\">\n",
       "        <g transform=\"translate(125.95,49.56)\" id=\"img-60b0c830-11\">\n",
       "          <circle cx=\"0\" cy=\"0\" r=\"0.7\" class=\"primitive\"/>\n",
       "        </g>\n",
       "      </g>\n",
       "      <g stroke=\"#FFFFFF\" stroke-opacity=\"0.000\" fill-opacity=\"1\" fill=\"#00BFFF\" id=\"img-60b0c830-12\">\n",
       "        <g transform=\"translate(125.95,45.94)\" id=\"img-60b0c830-13\">\n",
       "          <circle cx=\"0\" cy=\"0\" r=\"0.7\" class=\"primitive\"/>\n",
       "        </g>\n",
       "      </g>\n",
       "    </g>\n",
       "    <g fill=\"#362A35\" font-size=\"3.18\" font-family=\"'PT Sans','Helvetica Neue','Helvetica',sans-serif\" stroke=\"#000000\" stroke-opacity=\"0.000\" id=\"img-60b0c830-14\">\n",
       "      <g transform=\"translate(125.13,42.62)\" id=\"img-60b0c830-15\">\n",
       "        <g class=\"primitive\">\n",
       "          <text dy=\"-0em\"></text>\n",
       "        </g>\n",
       "      </g>\n",
       "    </g>\n",
       "  </g>\n",
       "  <g clip-path=\"url(#img-60b0c830-16)\">\n",
       "    <g id=\"img-60b0c830-17\">\n",
       "      <g pointer-events=\"visible\" stroke-width=\"0.3\" fill=\"#000000\" fill-opacity=\"0.000\" stroke=\"#000000\" stroke-opacity=\"0.000\" class=\"guide background\" id=\"img-60b0c830-18\">\n",
       "        <g transform=\"translate(70.7,45.52)\" id=\"img-60b0c830-19\">\n",
       "          <path d=\"M-53.44,-40.52 L53.44,-40.52 53.44,40.52 -53.44,40.52  z\" class=\"primitive\"/>\n",
       "        </g>\n",
       "      </g>\n",
       "      <g class=\"guide ygridlines xfixed\" stroke-dasharray=\"0.5,0.5\" stroke-width=\"0.2\" stroke=\"#D0D0E0\" id=\"img-60b0c830-20\">\n",
       "        <g transform=\"translate(70.7,60.34)\" id=\"img-60b0c830-21\">\n",
       "          <path fill=\"none\" d=\"M-53.44,0 L53.44,0 \" class=\"primitive\"/>\n",
       "        </g>\n",
       "        <g transform=\"translate(70.7,30.71)\" id=\"img-60b0c830-22\">\n",
       "          <path fill=\"none\" d=\"M-53.44,0 L53.44,0 \" class=\"primitive\"/>\n",
       "        </g>\n",
       "      </g>\n",
       "      <g class=\"guide xgridlines yfixed\" stroke-dasharray=\"0.5,0.5\" stroke-width=\"0.2\" stroke=\"#D0D0E0\" id=\"img-60b0c830-23\">\n",
       "        <g transform=\"translate(19.26,45.52)\" id=\"img-60b0c830-24\">\n",
       "          <path fill=\"none\" d=\"M0,-40.52 L0,40.52 \" class=\"primitive\"/>\n",
       "        </g>\n",
       "        <g transform=\"translate(70.7,45.52)\" id=\"img-60b0c830-25\">\n",
       "          <path fill=\"none\" d=\"M0,-40.52 L0,40.52 \" class=\"primitive\"/>\n",
       "        </g>\n",
       "        <g transform=\"translate(122.13,45.52)\" id=\"img-60b0c830-26\">\n",
       "          <path fill=\"none\" d=\"M0,-40.52 L0,40.52 \" class=\"primitive\"/>\n",
       "        </g>\n",
       "      </g>\n",
       "      <g class=\"plotpanel\" id=\"img-60b0c830-27\">\n",
       "        <metadata>\n",
       "          <boundingbox value=\"17.263333333333335mm 5.0mm 106.87135623730951mm 81.04333333333334mm\"/>\n",
       "          <unitbox value=\"-0.19441757872680185 14.337472418119672 10.388835157453604 -13.674944836239346\"/>\n",
       "        </metadata>\n",
       "        <g stroke-width=\"0.3\" fill=\"#000000\" fill-opacity=\"0.000\" class=\"geometry\" id=\"img-60b0c830-28\">\n",
       "          <g class=\"color_LCHab{Float32}(70.0f0,60.0f0,240.0f0)\" stroke-dasharray=\"none\" stroke-opacity=\"1\" stroke=\"#00BFFF\" id=\"img-60b0c830-29\">\n",
       "            <g transform=\"translate(70.7,59.58)\" id=\"img-60b0c830-30\">\n",
       "              <path fill=\"none\" d=\"M-51.44,24.46 L-41.15,22.68 -30.86,20.37 -20.57,17.37 -10.29,13.46 0,8.38 10.29,1.78 20.57,-6.8 30.86,-17.95 41.15,-32.46 51.44,-51.31 \" class=\"primitive\"/>\n",
       "            </g>\n",
       "          </g>\n",
       "        </g>\n",
       "        <g stroke-width=\"0.3\" fill=\"#000000\" fill-opacity=\"0.000\" class=\"geometry\" id=\"img-60b0c830-31\">\n",
       "          <g class=\"color_LCHab{Float32}(80.0f0,70.000015f0,100.43479f0)\" stroke-dasharray=\"none\" stroke-opacity=\"1\" stroke=\"#D4CA3A\" id=\"img-60b0c830-32\">\n",
       "            <g transform=\"translate(70.7,49.76)\" id=\"img-60b0c830-33\">\n",
       "              <path fill=\"none\" d=\"M-51.44,34.29 L-41.15,32.21 -30.86,29.41 -20.57,25.64 -10.29,20.54 0,13.65 10.29,4.36 20.57,-8.18 30.86,-25.12 41.15,-47.97 51.44,-78.82 \" class=\"primitive\"/>\n",
       "            </g>\n",
       "          </g>\n",
       "        </g>\n",
       "      </g>\n",
       "    </g>\n",
       "  </g>\n",
       "  <g class=\"guide ylabels\" font-size=\"2.82\" font-family=\"'PT Sans Caption','Helvetica Neue','Helvetica',sans-serif\" fill=\"#6C606B\" id=\"img-60b0c830-34\">\n",
       "    <g transform=\"translate(16.26,60.34)\" id=\"img-60b0c830-35\">\n",
       "      <g class=\"primitive\">\n",
       "        <text text-anchor=\"end\" dy=\"0.35em\">5</text>\n",
       "      </g>\n",
       "    </g>\n",
       "    <g transform=\"translate(16.26,30.71)\" id=\"img-60b0c830-36\">\n",
       "      <g class=\"primitive\">\n",
       "        <text text-anchor=\"end\" dy=\"0.35em\">10</text>\n",
       "      </g>\n",
       "    </g>\n",
       "  </g>\n",
       "  <g font-size=\"3.53\" font-family=\"'PT Sans','Helvetica Neue','Helvetica',sans-serif\" fill=\"#564A55\" stroke=\"#000000\" stroke-opacity=\"0.000\" id=\"img-60b0c830-37\">\n",
       "    <g transform=\"translate(9.92,45.52)\" id=\"img-60b0c830-38\">\n",
       "      <g class=\"primitive\">\n",
       "        <text text-anchor=\"end\" dy=\"0.35em\">W</text>\n",
       "      </g>\n",
       "    </g>\n",
       "  </g>\n",
       "</g>\n",
       "<defs>\n",
       "  <clipPath id=\"img-60b0c830-16\">\n",
       "    <path d=\"M17.26,5 L124.13,5 124.13,86.04 17.26,86.04 \" />\n",
       "  </clipPath>\n",
       "</defs>\n",
       "</svg>\n"
      ],
      "text/html": [
       "<?xml version=\"1.0\" encoding=\"UTF-8\"?>\n",
       "<svg xmlns=\"http://www.w3.org/2000/svg\"\n",
       "     xmlns:xlink=\"http://www.w3.org/1999/xlink\"\n",
       "     xmlns:gadfly=\"http://www.gadflyjl.org/ns\"\n",
       "     version=\"1.2\"\n",
       "     width=\"141.42mm\" height=\"100mm\" viewBox=\"0 0 141.42 100\"\n",
       "     stroke=\"none\"\n",
       "     fill=\"#000000\"\n",
       "     stroke-width=\"0.3\"\n",
       "     font-size=\"3.88\"\n",
       ">\n",
       "<defs>\n",
       "  <marker id=\"arrow\" markerWidth=\"15\" markerHeight=\"7\" refX=\"5\" refY=\"3.5\" orient=\"auto\" markerUnits=\"strokeWidth\">\n",
       "    <path d=\"M0,0 L15,3.5 L0,7 z\" stroke=\"context-stroke\" fill=\"context-stroke\"/>\n",
       "  </marker>\n",
       "</defs>\n",
       "<g stroke=\"#000000\" stroke-opacity=\"0.000\" fill=\"#FFFFFF\" id=\"img-1cd6da57-1\">\n",
       "  <g transform=\"translate(70.71,50)\">\n",
       "    <path d=\"M-70.71,-50 L70.71,-50 70.71,50 -70.71,50  z\" class=\"primitive\"/>\n",
       "  </g>\n",
       "</g>\n",
       "<g class=\"plotroot xscalable yscalable\" id=\"img-1cd6da57-2\">\n",
       "  <g font-size=\"3.53\" font-family=\"'PT Sans','Helvetica Neue','Helvetica',sans-serif\" fill=\"#564A55\" stroke=\"#000000\" stroke-opacity=\"0.000\" id=\"img-1cd6da57-3\">\n",
       "    <g transform=\"translate(70.7,93.72)\">\n",
       "      <g class=\"primitive\">\n",
       "        <text text-anchor=\"middle\" dy=\"0.6em\">t</text>\n",
       "      </g>\n",
       "    </g>\n",
       "  </g>\n",
       "  <g class=\"guide xlabels\" font-size=\"2.82\" font-family=\"'PT Sans Caption','Helvetica Neue','Helvetica',sans-serif\" fill=\"#6C606B\" id=\"img-1cd6da57-4\">\n",
       "    <g transform=\"translate(19.26,87.04)\">\n",
       "      <g class=\"primitive\">\n",
       "        <text text-anchor=\"middle\" dy=\"0.6em\">0</text>\n",
       "      </g>\n",
       "    </g>\n",
       "    <g transform=\"translate(70.7,87.04)\">\n",
       "      <g class=\"primitive\">\n",
       "        <text text-anchor=\"middle\" dy=\"0.6em\">5</text>\n",
       "      </g>\n",
       "    </g>\n",
       "    <g transform=\"translate(122.13,87.04)\">\n",
       "      <g class=\"primitive\">\n",
       "        <text text-anchor=\"middle\" dy=\"0.6em\">10</text>\n",
       "      </g>\n",
       "    </g>\n",
       "  </g>\n",
       "  <g class=\"guide colorkey\" id=\"img-1cd6da57-5\">\n",
       "    <g fill=\"#4C404B\" font-size=\"2.82\" font-family=\"'PT Sans','Helvetica Neue','Helvetica',sans-serif\" id=\"img-1cd6da57-6\">\n",
       "      <g transform=\"translate(128.76,45.94)\" id=\"img-1cd6da57-7\">\n",
       "        <g class=\"primitive\">\n",
       "          <text dy=\"0.35em\">Expo</text>\n",
       "        </g>\n",
       "      </g>\n",
       "      <g transform=\"translate(128.76,49.56)\" id=\"img-1cd6da57-8\">\n",
       "        <g class=\"primitive\">\n",
       "          <text dy=\"0.35em\">ExpoA</text>\n",
       "        </g>\n",
       "      </g>\n",
       "    </g>\n",
       "    <g stroke-width=\"0.3\" id=\"img-1cd6da57-9\">\n",
       "      <g stroke=\"#FFFFFF\" stroke-opacity=\"0.000\" fill-opacity=\"1\" fill=\"#D4CA3A\" id=\"img-1cd6da57-10\">\n",
       "        <g transform=\"translate(125.95,49.56)\" id=\"img-1cd6da57-11\">\n",
       "          <circle cx=\"0\" cy=\"0\" r=\"0.7\" class=\"primitive\"/>\n",
       "        </g>\n",
       "      </g>\n",
       "      <g stroke=\"#FFFFFF\" stroke-opacity=\"0.000\" fill-opacity=\"1\" fill=\"#00BFFF\" id=\"img-1cd6da57-12\">\n",
       "        <g transform=\"translate(125.95,45.94)\" id=\"img-1cd6da57-13\">\n",
       "          <circle cx=\"0\" cy=\"0\" r=\"0.7\" class=\"primitive\"/>\n",
       "        </g>\n",
       "      </g>\n",
       "    </g>\n",
       "    <g fill=\"#362A35\" font-size=\"3.18\" font-family=\"'PT Sans','Helvetica Neue','Helvetica',sans-serif\" stroke=\"#000000\" stroke-opacity=\"0.000\" id=\"img-1cd6da57-14\">\n",
       "      <g transform=\"translate(125.13,42.62)\" id=\"img-1cd6da57-15\">\n",
       "        <g class=\"primitive\">\n",
       "          <text dy=\"-0em\"></text>\n",
       "        </g>\n",
       "      </g>\n",
       "    </g>\n",
       "  </g>\n",
       "  <g clip-path=\"url(#img-1cd6da57-16)\">\n",
       "    <g id=\"img-1cd6da57-17\">\n",
       "      <g pointer-events=\"visible\" stroke-width=\"0.3\" fill=\"#000000\" fill-opacity=\"0.000\" stroke=\"#000000\" stroke-opacity=\"0.000\" class=\"guide background\" id=\"img-1cd6da57-18\">\n",
       "        <g transform=\"translate(70.7,45.52)\" id=\"img-1cd6da57-19\">\n",
       "          <path d=\"M-53.44,-40.52 L53.44,-40.52 53.44,40.52 -53.44,40.52  z\" class=\"primitive\"/>\n",
       "        </g>\n",
       "      </g>\n",
       "      <g class=\"guide ygridlines xfixed\" stroke-dasharray=\"0.5,0.5\" stroke-width=\"0.2\" stroke=\"#D0D0E0\" id=\"img-1cd6da57-20\">\n",
       "        <g transform=\"translate(70.7,60.34)\" id=\"img-1cd6da57-21\">\n",
       "          <path fill=\"none\" d=\"M-53.44,0 L53.44,0 \" class=\"primitive\"/>\n",
       "        </g>\n",
       "        <g transform=\"translate(70.7,30.71)\" id=\"img-1cd6da57-22\">\n",
       "          <path fill=\"none\" d=\"M-53.44,0 L53.44,0 \" class=\"primitive\"/>\n",
       "        </g>\n",
       "      </g>\n",
       "      <g class=\"guide xgridlines yfixed\" stroke-dasharray=\"0.5,0.5\" stroke-width=\"0.2\" stroke=\"#D0D0E0\" id=\"img-1cd6da57-23\">\n",
       "        <g transform=\"translate(19.26,45.52)\" id=\"img-1cd6da57-24\">\n",
       "          <path fill=\"none\" d=\"M0,-40.52 L0,40.52 \" class=\"primitive\"/>\n",
       "        </g>\n",
       "        <g transform=\"translate(70.7,45.52)\" id=\"img-1cd6da57-25\">\n",
       "          <path fill=\"none\" d=\"M0,-40.52 L0,40.52 \" class=\"primitive\"/>\n",
       "        </g>\n",
       "        <g transform=\"translate(122.13,45.52)\" id=\"img-1cd6da57-26\">\n",
       "          <path fill=\"none\" d=\"M0,-40.52 L0,40.52 \" class=\"primitive\"/>\n",
       "        </g>\n",
       "      </g>\n",
       "      <g class=\"plotpanel\" id=\"img-1cd6da57-27\">\n",
       "        <metadata>\n",
       "          <boundingbox value=\"17.263333333333335mm 5.0mm 106.87135623730951mm 81.04333333333334mm\"/>\n",
       "          <unitbox value=\"-0.19441757872680185 14.337472418119672 10.388835157453604 -13.674944836239346\"/>\n",
       "        </metadata>\n",
       "        <g stroke-width=\"0.3\" fill=\"#000000\" fill-opacity=\"0.000\" class=\"geometry\" id=\"img-1cd6da57-28\">\n",
       "          <g class=\"color_LCHab{Float32}(70.0f0,60.0f0,240.0f0)\" stroke-dasharray=\"none\" stroke-opacity=\"1\" stroke=\"#00BFFF\" id=\"img-1cd6da57-29\">\n",
       "            <g transform=\"translate(70.7,59.58)\" id=\"img-1cd6da57-30\">\n",
       "              <path fill=\"none\" d=\"M-51.44,24.46 L-41.15,22.68 -30.86,20.37 -20.57,17.37 -10.29,13.46 0,8.38 10.29,1.78 20.57,-6.8 30.86,-17.95 41.15,-32.46 51.44,-51.31 \" class=\"primitive\"/>\n",
       "            </g>\n",
       "          </g>\n",
       "        </g>\n",
       "        <g stroke-width=\"0.3\" fill=\"#000000\" fill-opacity=\"0.000\" class=\"geometry\" id=\"img-1cd6da57-31\">\n",
       "          <g class=\"color_LCHab{Float32}(80.0f0,70.000015f0,100.43479f0)\" stroke-dasharray=\"none\" stroke-opacity=\"1\" stroke=\"#D4CA3A\" id=\"img-1cd6da57-32\">\n",
       "            <g transform=\"translate(70.7,49.76)\" id=\"img-1cd6da57-33\">\n",
       "              <path fill=\"none\" d=\"M-51.44,34.29 L-41.15,32.21 -30.86,29.41 -20.57,25.64 -10.29,20.54 0,13.65 10.29,4.36 20.57,-8.18 30.86,-25.12 41.15,-47.97 51.44,-78.82 \" class=\"primitive\"/>\n",
       "            </g>\n",
       "          </g>\n",
       "        </g>\n",
       "      </g>\n",
       "    </g>\n",
       "  </g>\n",
       "  <g class=\"guide ylabels\" font-size=\"2.82\" font-family=\"'PT Sans Caption','Helvetica Neue','Helvetica',sans-serif\" fill=\"#6C606B\" id=\"img-1cd6da57-34\">\n",
       "    <g transform=\"translate(16.26,60.34)\" id=\"img-1cd6da57-35\">\n",
       "      <g class=\"primitive\">\n",
       "        <text text-anchor=\"end\" dy=\"0.35em\">5</text>\n",
       "      </g>\n",
       "    </g>\n",
       "    <g transform=\"translate(16.26,30.71)\" id=\"img-1cd6da57-36\">\n",
       "      <g class=\"primitive\">\n",
       "        <text text-anchor=\"end\" dy=\"0.35em\">10</text>\n",
       "      </g>\n",
       "    </g>\n",
       "  </g>\n",
       "  <g font-size=\"3.53\" font-family=\"'PT Sans','Helvetica Neue','Helvetica',sans-serif\" fill=\"#564A55\" stroke=\"#000000\" stroke-opacity=\"0.000\" id=\"img-1cd6da57-37\">\n",
       "    <g transform=\"translate(9.92,45.52)\" id=\"img-1cd6da57-38\">\n",
       "      <g class=\"primitive\">\n",
       "        <text text-anchor=\"end\" dy=\"0.35em\">W</text>\n",
       "      </g>\n",
       "    </g>\n",
       "  </g>\n",
       "</g>\n",
       "<defs>\n",
       "  <clipPath id=\"img-1cd6da57-16\">\n",
       "    <path d=\"M17.26,5 L124.13,5 124.13,86.04 17.26,86.04 \" />\n",
       "  </clipPath>\n",
       "</defs>\n",
       "</svg>\n"
      ],
      "text/plain": [
       "\"<Cropbox.Plot{Gadfly.Plot}>\""
      ]
     },
     "execution_count": 34,
     "metadata": {},
     "output_type": "execute_result"
    }
   ],
   "source": [
    "visualize([Expo, ExpoA], :t, :W; stop = 10, kind = :line)"
   ]
  }
 ],
 "metadata": {
  "@webio": {
   "lastCommId": "eb711e08-bcd3-4e8a-ab94-9c23045fd561",
   "lastKernelId": "d709139d-588b-4fee-8d6d-f916525c81c4"
  },
  "kernelspec": {
   "display_name": "Julia 1.9.2",
   "language": "julia",
   "name": "julia-1.9"
  },
  "language_info": {
   "file_extension": ".jl",
   "mimetype": "application/julia",
   "name": "julia",
   "version": "1.9.2"
  }
 },
 "nbformat": 4,
 "nbformat_minor": 4
}
